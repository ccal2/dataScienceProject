{
  "nbformat": 4,
  "nbformat_minor": 0,
  "metadata": {
    "colab": {
      "name": "project.ipynb",
      "provenance": [],
      "collapsed_sections": [],
      "authorship_tag": "ABX9TyPCxs4t0R7daXf/Vaf3Ax58",
      "include_colab_link": true
    },
    "kernelspec": {
      "name": "python3",
      "display_name": "Python 3"
    },
    "language_info": {
      "name": "python"
    }
  },
  "cells": [
    {
      "cell_type": "markdown",
      "metadata": {
        "id": "view-in-github",
        "colab_type": "text"
      },
      "source": [
        "<a href=\"https://colab.research.google.com/github/ccal2/dataScienceProject/blob/master/project.ipynb\" target=\"_parent\"><img src=\"https://colab.research.google.com/assets/colab-badge.svg\" alt=\"Open In Colab\"/></a>"
      ]
    },
    {
      "cell_type": "markdown",
      "metadata": {
        "id": "URrkNcQqvgLV"
      },
      "source": [
        "# Introdução\n"
      ]
    },
    {
      "cell_type": "markdown",
      "metadata": {
        "id": "LNazmbGDvhfE"
      },
      "source": [
        "Esse projeto foi desenvolvido utilizando dois arquivos `.csv` que contêm dados relacionados aos livros da série *Game of Thrones* (A Guerra dos Tronos).\n",
        "\n",
        "Os arquivos foram baixados diretamente de um dataset do [kaggle](https://www.kaggle.com/mylesoneill/game-of-thrones).\n",
        "\n",
        "\n",
        "No arquivo `battles.csv` temos informações de várias batalhas que ocorreram durante a história e em `character-deaths.csv` podemos ver uma lista de personagens com dados relacionados à suas mortes."
      ]
    },
    {
      "cell_type": "markdown",
      "metadata": {
        "id": "ima0JSRDvjYL"
      },
      "source": [
        "# Setup"
      ]
    },
    {
      "cell_type": "markdown",
      "metadata": {
        "id": "RP57AgtWvmEB"
      },
      "source": [
        "**Lembre-se de dar upload dos arquivos `battles.csv` e `character-deaths.csv`.**"
      ]
    },
    {
      "cell_type": "code",
      "metadata": {
        "id": "OKi-uqMyva1O"
      },
      "source": [
        "import pandas as pd\n",
        "import numpy as np"
      ],
      "execution_count": 1,
      "outputs": []
    },
    {
      "cell_type": "code",
      "metadata": {
        "id": "HhYC5H3Iv2qM"
      },
      "source": [
        "battles = pd.read_csv('battles.csv')\n",
        "deaths = pd.read_csv('character-deaths.csv')"
      ],
      "execution_count": 14,
      "outputs": []
    }
  ]
}