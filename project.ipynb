{
  "nbformat": 4,
  "nbformat_minor": 0,
  "metadata": {
    "colab": {
      "name": "project.ipynb",
      "provenance": [],
      "collapsed_sections": [
        "URrkNcQqvgLV",
        "ima0JSRDvjYL",
        "tZWVw4ysAbpY",
        "mGsVf6uH7S1o"
      ],
      "authorship_tag": "ABX9TyMT8mwv0jOckurMPWMJg3gb",
      "include_colab_link": true
    },
    "kernelspec": {
      "name": "python3",
      "display_name": "Python 3"
    },
    "language_info": {
      "name": "python"
    }
  },
  "cells": [
    {
      "cell_type": "markdown",
      "metadata": {
        "id": "view-in-github",
        "colab_type": "text"
      },
      "source": [
        "<a href=\"https://colab.research.google.com/github/ccal2/dataScienceProject/blob/master/project.ipynb\" target=\"_parent\"><img src=\"https://colab.research.google.com/assets/colab-badge.svg\" alt=\"Open In Colab\"/></a>"
      ]
    },
    {
      "cell_type": "markdown",
      "metadata": {
        "id": "YPey_PkSovSJ"
      },
      "source": [
        "# Introdução\n"
      ]
    },
    {
      "cell_type": "markdown",
      "metadata": {
        "id": "W-YSXIFZqhIO"
      },
      "source": [
        "Esse projeto foi desenvolvido utilizando um *dataset* que contém dados relacionados à série de livros *A Song of Ice and Fire* (As Crônicas de Gelo e Fogo), mais conhecida pelo título do seu primeiro livro: *A Game of Thrones* (A Guerra dos Tronos).\n",
        "\n",
        "O arquivo `battles.csv` foi baixados diretamente de um *dataset* do [kaggle](https://www.kaggle.com/mylesoneill/game-of-thrones) e possui informações de várias batalhas que ocorrem durante a história."
      ]
    },
    {
      "cell_type": "markdown",
      "metadata": {
        "id": "uJ7pfnxmOPNm"
      },
      "source": [
        "# Setup"
      ]
    },
    {
      "cell_type": "markdown",
      "metadata": {
        "id": "P3Y2UPxRgynO"
      },
      "source": [
        "**Lembre-se de dar upload do arquivo `battles.csv`.**"
      ]
    },
    {
      "cell_type": "code",
      "metadata": {
        "id": "mkvTPETZLyCg"
      },
      "source": [
        "#pip install fancyimpute"
      ],
      "execution_count": 1,
      "outputs": []
    },
    {
      "cell_type": "code",
      "metadata": {
        "id": "rDlfxjPi_Rh0"
      },
      "source": [
        "import pandas as pd\n",
        "import numpy as np"
      ],
      "execution_count": 2,
      "outputs": []
    },
    {
      "cell_type": "code",
      "metadata": {
        "id": "ktdnzvzFxjSA"
      },
      "source": [
        "battles = pd.read_csv('battles.csv')"
      ],
      "execution_count": 3,
      "outputs": []
    },
    {
      "cell_type": "markdown",
      "metadata": {
        "id": "t3-VC01YuL-g"
      },
      "source": [
        "# Pré-processamento"
      ]
    },
    {
      "cell_type": "code",
      "metadata": {
        "colab": {
          "base_uri": "https://localhost:8080/",
          "height": 390
        },
        "id": "0gnkbbIWAOb3",
        "outputId": "d450e952-9ece-414c-9335-0a71904cf418"
      },
      "source": [
        "battles.head()"
      ],
      "execution_count": 4,
      "outputs": [
        {
          "output_type": "execute_result",
          "data": {
            "text/html": [
              "<div>\n",
              "<style scoped>\n",
              "    .dataframe tbody tr th:only-of-type {\n",
              "        vertical-align: middle;\n",
              "    }\n",
              "\n",
              "    .dataframe tbody tr th {\n",
              "        vertical-align: top;\n",
              "    }\n",
              "\n",
              "    .dataframe thead th {\n",
              "        text-align: right;\n",
              "    }\n",
              "</style>\n",
              "<table border=\"1\" class=\"dataframe\">\n",
              "  <thead>\n",
              "    <tr style=\"text-align: right;\">\n",
              "      <th></th>\n",
              "      <th>name</th>\n",
              "      <th>year</th>\n",
              "      <th>battle_number</th>\n",
              "      <th>attacker_king</th>\n",
              "      <th>defender_king</th>\n",
              "      <th>attacker_1</th>\n",
              "      <th>attacker_2</th>\n",
              "      <th>attacker_3</th>\n",
              "      <th>attacker_4</th>\n",
              "      <th>defender_1</th>\n",
              "      <th>defender_2</th>\n",
              "      <th>defender_3</th>\n",
              "      <th>defender_4</th>\n",
              "      <th>attacker_outcome</th>\n",
              "      <th>battle_type</th>\n",
              "      <th>major_death</th>\n",
              "      <th>major_capture</th>\n",
              "      <th>attacker_size</th>\n",
              "      <th>defender_size</th>\n",
              "      <th>attacker_commander</th>\n",
              "      <th>defender_commander</th>\n",
              "      <th>summer</th>\n",
              "      <th>location</th>\n",
              "      <th>region</th>\n",
              "      <th>note</th>\n",
              "    </tr>\n",
              "  </thead>\n",
              "  <tbody>\n",
              "    <tr>\n",
              "      <th>0</th>\n",
              "      <td>Battle of the Golden Tooth</td>\n",
              "      <td>298</td>\n",
              "      <td>1</td>\n",
              "      <td>Joffrey/Tommen Baratheon</td>\n",
              "      <td>Robb Stark</td>\n",
              "      <td>Lannister</td>\n",
              "      <td>NaN</td>\n",
              "      <td>NaN</td>\n",
              "      <td>NaN</td>\n",
              "      <td>Tully</td>\n",
              "      <td>NaN</td>\n",
              "      <td>NaN</td>\n",
              "      <td>NaN</td>\n",
              "      <td>win</td>\n",
              "      <td>pitched battle</td>\n",
              "      <td>1.0</td>\n",
              "      <td>0.0</td>\n",
              "      <td>15000.0</td>\n",
              "      <td>4000.0</td>\n",
              "      <td>Jaime Lannister</td>\n",
              "      <td>Clement Piper, Vance</td>\n",
              "      <td>1.0</td>\n",
              "      <td>Golden Tooth</td>\n",
              "      <td>The Westerlands</td>\n",
              "      <td>NaN</td>\n",
              "    </tr>\n",
              "    <tr>\n",
              "      <th>1</th>\n",
              "      <td>Battle at the Mummer's Ford</td>\n",
              "      <td>298</td>\n",
              "      <td>2</td>\n",
              "      <td>Joffrey/Tommen Baratheon</td>\n",
              "      <td>Robb Stark</td>\n",
              "      <td>Lannister</td>\n",
              "      <td>NaN</td>\n",
              "      <td>NaN</td>\n",
              "      <td>NaN</td>\n",
              "      <td>Baratheon</td>\n",
              "      <td>NaN</td>\n",
              "      <td>NaN</td>\n",
              "      <td>NaN</td>\n",
              "      <td>win</td>\n",
              "      <td>ambush</td>\n",
              "      <td>1.0</td>\n",
              "      <td>0.0</td>\n",
              "      <td>NaN</td>\n",
              "      <td>120.0</td>\n",
              "      <td>Gregor Clegane</td>\n",
              "      <td>Beric Dondarrion</td>\n",
              "      <td>1.0</td>\n",
              "      <td>Mummer's Ford</td>\n",
              "      <td>The Riverlands</td>\n",
              "      <td>NaN</td>\n",
              "    </tr>\n",
              "    <tr>\n",
              "      <th>2</th>\n",
              "      <td>Battle of Riverrun</td>\n",
              "      <td>298</td>\n",
              "      <td>3</td>\n",
              "      <td>Joffrey/Tommen Baratheon</td>\n",
              "      <td>Robb Stark</td>\n",
              "      <td>Lannister</td>\n",
              "      <td>NaN</td>\n",
              "      <td>NaN</td>\n",
              "      <td>NaN</td>\n",
              "      <td>Tully</td>\n",
              "      <td>NaN</td>\n",
              "      <td>NaN</td>\n",
              "      <td>NaN</td>\n",
              "      <td>win</td>\n",
              "      <td>pitched battle</td>\n",
              "      <td>0.0</td>\n",
              "      <td>1.0</td>\n",
              "      <td>15000.0</td>\n",
              "      <td>10000.0</td>\n",
              "      <td>Jaime Lannister, Andros Brax</td>\n",
              "      <td>Edmure Tully, Tytos Blackwood</td>\n",
              "      <td>1.0</td>\n",
              "      <td>Riverrun</td>\n",
              "      <td>The Riverlands</td>\n",
              "      <td>NaN</td>\n",
              "    </tr>\n",
              "    <tr>\n",
              "      <th>3</th>\n",
              "      <td>Battle of the Green Fork</td>\n",
              "      <td>298</td>\n",
              "      <td>4</td>\n",
              "      <td>Robb Stark</td>\n",
              "      <td>Joffrey/Tommen Baratheon</td>\n",
              "      <td>Stark</td>\n",
              "      <td>NaN</td>\n",
              "      <td>NaN</td>\n",
              "      <td>NaN</td>\n",
              "      <td>Lannister</td>\n",
              "      <td>NaN</td>\n",
              "      <td>NaN</td>\n",
              "      <td>NaN</td>\n",
              "      <td>loss</td>\n",
              "      <td>pitched battle</td>\n",
              "      <td>1.0</td>\n",
              "      <td>1.0</td>\n",
              "      <td>18000.0</td>\n",
              "      <td>20000.0</td>\n",
              "      <td>Roose Bolton, Wylis Manderly, Medger Cerwyn, H...</td>\n",
              "      <td>Tywin Lannister, Gregor Clegane, Kevan Lannist...</td>\n",
              "      <td>1.0</td>\n",
              "      <td>Green Fork</td>\n",
              "      <td>The Riverlands</td>\n",
              "      <td>NaN</td>\n",
              "    </tr>\n",
              "    <tr>\n",
              "      <th>4</th>\n",
              "      <td>Battle of the Whispering Wood</td>\n",
              "      <td>298</td>\n",
              "      <td>5</td>\n",
              "      <td>Robb Stark</td>\n",
              "      <td>Joffrey/Tommen Baratheon</td>\n",
              "      <td>Stark</td>\n",
              "      <td>Tully</td>\n",
              "      <td>NaN</td>\n",
              "      <td>NaN</td>\n",
              "      <td>Lannister</td>\n",
              "      <td>NaN</td>\n",
              "      <td>NaN</td>\n",
              "      <td>NaN</td>\n",
              "      <td>win</td>\n",
              "      <td>ambush</td>\n",
              "      <td>1.0</td>\n",
              "      <td>1.0</td>\n",
              "      <td>1875.0</td>\n",
              "      <td>6000.0</td>\n",
              "      <td>Robb Stark, Brynden Tully</td>\n",
              "      <td>Jaime Lannister</td>\n",
              "      <td>1.0</td>\n",
              "      <td>Whispering Wood</td>\n",
              "      <td>The Riverlands</td>\n",
              "      <td>NaN</td>\n",
              "    </tr>\n",
              "  </tbody>\n",
              "</table>\n",
              "</div>"
            ],
            "text/plain": [
              "                            name  year  ...           region note\n",
              "0     Battle of the Golden Tooth   298  ...  The Westerlands  NaN\n",
              "1    Battle at the Mummer's Ford   298  ...   The Riverlands  NaN\n",
              "2             Battle of Riverrun   298  ...   The Riverlands  NaN\n",
              "3       Battle of the Green Fork   298  ...   The Riverlands  NaN\n",
              "4  Battle of the Whispering Wood   298  ...   The Riverlands  NaN\n",
              "\n",
              "[5 rows x 25 columns]"
            ]
          },
          "metadata": {
            "tags": []
          },
          "execution_count": 4
        }
      ]
    },
    {
      "cell_type": "code",
      "metadata": {
        "colab": {
          "base_uri": "https://localhost:8080/"
        },
        "id": "9VEHNAcwAqrj",
        "outputId": "5558ec52-fe5d-48a2-a820-84cf54fe84a4"
      },
      "source": [
        "# (linhas, colunas)\n",
        "battles.shape"
      ],
      "execution_count": 5,
      "outputs": [
        {
          "output_type": "execute_result",
          "data": {
            "text/plain": [
              "(38, 25)"
            ]
          },
          "metadata": {
            "tags": []
          },
          "execution_count": 5
        }
      ]
    },
    {
      "cell_type": "markdown",
      "metadata": {
        "id": "ZdIVOICCgbln"
      },
      "source": [
        "## Remoção de `battle_number`"
      ]
    },
    {
      "cell_type": "markdown",
      "metadata": {
        "id": "NB2Yfvt4gj66"
      },
      "source": [
        "A coluna `battle_number` serve como um identificador único para a tabela, mas na verdade ela é dispensável porque já temos um *index* e todos os valores da coluna `name` são únicos."
      ]
    },
    {
      "cell_type": "code",
      "metadata": {
        "colab": {
          "base_uri": "https://localhost:8080/"
        },
        "id": "GshqU36Tg3v7",
        "outputId": "c62dccc6-19a8-4c3d-a2a5-b8513cc5eb36"
      },
      "source": [
        "battles['name'].describe()"
      ],
      "execution_count": 6,
      "outputs": [
        {
          "output_type": "execute_result",
          "data": {
            "text/plain": [
              "count                               38\n",
              "unique                              38\n",
              "top       Battle of the Shield Islands\n",
              "freq                                 1\n",
              "Name: name, dtype: object"
            ]
          },
          "metadata": {
            "tags": []
          },
          "execution_count": 6
        }
      ]
    },
    {
      "cell_type": "code",
      "metadata": {
        "colab": {
          "base_uri": "https://localhost:8080/",
          "height": 390
        },
        "id": "nFB7U4wuhBx1",
        "outputId": "8283b8b0-febf-4a4f-d04c-1db4082a2e71"
      },
      "source": [
        "battles.drop(columns=['battle_number'], inplace=True)\n",
        "battles.head()"
      ],
      "execution_count": 7,
      "outputs": [
        {
          "output_type": "execute_result",
          "data": {
            "text/html": [
              "<div>\n",
              "<style scoped>\n",
              "    .dataframe tbody tr th:only-of-type {\n",
              "        vertical-align: middle;\n",
              "    }\n",
              "\n",
              "    .dataframe tbody tr th {\n",
              "        vertical-align: top;\n",
              "    }\n",
              "\n",
              "    .dataframe thead th {\n",
              "        text-align: right;\n",
              "    }\n",
              "</style>\n",
              "<table border=\"1\" class=\"dataframe\">\n",
              "  <thead>\n",
              "    <tr style=\"text-align: right;\">\n",
              "      <th></th>\n",
              "      <th>name</th>\n",
              "      <th>year</th>\n",
              "      <th>attacker_king</th>\n",
              "      <th>defender_king</th>\n",
              "      <th>attacker_1</th>\n",
              "      <th>attacker_2</th>\n",
              "      <th>attacker_3</th>\n",
              "      <th>attacker_4</th>\n",
              "      <th>defender_1</th>\n",
              "      <th>defender_2</th>\n",
              "      <th>defender_3</th>\n",
              "      <th>defender_4</th>\n",
              "      <th>attacker_outcome</th>\n",
              "      <th>battle_type</th>\n",
              "      <th>major_death</th>\n",
              "      <th>major_capture</th>\n",
              "      <th>attacker_size</th>\n",
              "      <th>defender_size</th>\n",
              "      <th>attacker_commander</th>\n",
              "      <th>defender_commander</th>\n",
              "      <th>summer</th>\n",
              "      <th>location</th>\n",
              "      <th>region</th>\n",
              "      <th>note</th>\n",
              "    </tr>\n",
              "  </thead>\n",
              "  <tbody>\n",
              "    <tr>\n",
              "      <th>0</th>\n",
              "      <td>Battle of the Golden Tooth</td>\n",
              "      <td>298</td>\n",
              "      <td>Joffrey/Tommen Baratheon</td>\n",
              "      <td>Robb Stark</td>\n",
              "      <td>Lannister</td>\n",
              "      <td>NaN</td>\n",
              "      <td>NaN</td>\n",
              "      <td>NaN</td>\n",
              "      <td>Tully</td>\n",
              "      <td>NaN</td>\n",
              "      <td>NaN</td>\n",
              "      <td>NaN</td>\n",
              "      <td>win</td>\n",
              "      <td>pitched battle</td>\n",
              "      <td>1.0</td>\n",
              "      <td>0.0</td>\n",
              "      <td>15000.0</td>\n",
              "      <td>4000.0</td>\n",
              "      <td>Jaime Lannister</td>\n",
              "      <td>Clement Piper, Vance</td>\n",
              "      <td>1.0</td>\n",
              "      <td>Golden Tooth</td>\n",
              "      <td>The Westerlands</td>\n",
              "      <td>NaN</td>\n",
              "    </tr>\n",
              "    <tr>\n",
              "      <th>1</th>\n",
              "      <td>Battle at the Mummer's Ford</td>\n",
              "      <td>298</td>\n",
              "      <td>Joffrey/Tommen Baratheon</td>\n",
              "      <td>Robb Stark</td>\n",
              "      <td>Lannister</td>\n",
              "      <td>NaN</td>\n",
              "      <td>NaN</td>\n",
              "      <td>NaN</td>\n",
              "      <td>Baratheon</td>\n",
              "      <td>NaN</td>\n",
              "      <td>NaN</td>\n",
              "      <td>NaN</td>\n",
              "      <td>win</td>\n",
              "      <td>ambush</td>\n",
              "      <td>1.0</td>\n",
              "      <td>0.0</td>\n",
              "      <td>NaN</td>\n",
              "      <td>120.0</td>\n",
              "      <td>Gregor Clegane</td>\n",
              "      <td>Beric Dondarrion</td>\n",
              "      <td>1.0</td>\n",
              "      <td>Mummer's Ford</td>\n",
              "      <td>The Riverlands</td>\n",
              "      <td>NaN</td>\n",
              "    </tr>\n",
              "    <tr>\n",
              "      <th>2</th>\n",
              "      <td>Battle of Riverrun</td>\n",
              "      <td>298</td>\n",
              "      <td>Joffrey/Tommen Baratheon</td>\n",
              "      <td>Robb Stark</td>\n",
              "      <td>Lannister</td>\n",
              "      <td>NaN</td>\n",
              "      <td>NaN</td>\n",
              "      <td>NaN</td>\n",
              "      <td>Tully</td>\n",
              "      <td>NaN</td>\n",
              "      <td>NaN</td>\n",
              "      <td>NaN</td>\n",
              "      <td>win</td>\n",
              "      <td>pitched battle</td>\n",
              "      <td>0.0</td>\n",
              "      <td>1.0</td>\n",
              "      <td>15000.0</td>\n",
              "      <td>10000.0</td>\n",
              "      <td>Jaime Lannister, Andros Brax</td>\n",
              "      <td>Edmure Tully, Tytos Blackwood</td>\n",
              "      <td>1.0</td>\n",
              "      <td>Riverrun</td>\n",
              "      <td>The Riverlands</td>\n",
              "      <td>NaN</td>\n",
              "    </tr>\n",
              "    <tr>\n",
              "      <th>3</th>\n",
              "      <td>Battle of the Green Fork</td>\n",
              "      <td>298</td>\n",
              "      <td>Robb Stark</td>\n",
              "      <td>Joffrey/Tommen Baratheon</td>\n",
              "      <td>Stark</td>\n",
              "      <td>NaN</td>\n",
              "      <td>NaN</td>\n",
              "      <td>NaN</td>\n",
              "      <td>Lannister</td>\n",
              "      <td>NaN</td>\n",
              "      <td>NaN</td>\n",
              "      <td>NaN</td>\n",
              "      <td>loss</td>\n",
              "      <td>pitched battle</td>\n",
              "      <td>1.0</td>\n",
              "      <td>1.0</td>\n",
              "      <td>18000.0</td>\n",
              "      <td>20000.0</td>\n",
              "      <td>Roose Bolton, Wylis Manderly, Medger Cerwyn, H...</td>\n",
              "      <td>Tywin Lannister, Gregor Clegane, Kevan Lannist...</td>\n",
              "      <td>1.0</td>\n",
              "      <td>Green Fork</td>\n",
              "      <td>The Riverlands</td>\n",
              "      <td>NaN</td>\n",
              "    </tr>\n",
              "    <tr>\n",
              "      <th>4</th>\n",
              "      <td>Battle of the Whispering Wood</td>\n",
              "      <td>298</td>\n",
              "      <td>Robb Stark</td>\n",
              "      <td>Joffrey/Tommen Baratheon</td>\n",
              "      <td>Stark</td>\n",
              "      <td>Tully</td>\n",
              "      <td>NaN</td>\n",
              "      <td>NaN</td>\n",
              "      <td>Lannister</td>\n",
              "      <td>NaN</td>\n",
              "      <td>NaN</td>\n",
              "      <td>NaN</td>\n",
              "      <td>win</td>\n",
              "      <td>ambush</td>\n",
              "      <td>1.0</td>\n",
              "      <td>1.0</td>\n",
              "      <td>1875.0</td>\n",
              "      <td>6000.0</td>\n",
              "      <td>Robb Stark, Brynden Tully</td>\n",
              "      <td>Jaime Lannister</td>\n",
              "      <td>1.0</td>\n",
              "      <td>Whispering Wood</td>\n",
              "      <td>The Riverlands</td>\n",
              "      <td>NaN</td>\n",
              "    </tr>\n",
              "  </tbody>\n",
              "</table>\n",
              "</div>"
            ],
            "text/plain": [
              "                            name  year  ...           region note\n",
              "0     Battle of the Golden Tooth   298  ...  The Westerlands  NaN\n",
              "1    Battle at the Mummer's Ford   298  ...   The Riverlands  NaN\n",
              "2             Battle of Riverrun   298  ...   The Riverlands  NaN\n",
              "3       Battle of the Green Fork   298  ...   The Riverlands  NaN\n",
              "4  Battle of the Whispering Wood   298  ...   The Riverlands  NaN\n",
              "\n",
              "[5 rows x 24 columns]"
            ]
          },
          "metadata": {
            "tags": []
          },
          "execution_count": 7
        }
      ]
    },
    {
      "cell_type": "markdown",
      "metadata": {
        "id": "mGsVf6uH7S1o"
      },
      "source": [
        "## Expansão de `attacker_commander` e `defender_commander`"
      ]
    },
    {
      "cell_type": "markdown",
      "metadata": {
        "id": "yYGIkncl7hRh"
      },
      "source": [
        "As colunas `attacker_commander` e `defender_commander` possuem vários nomes separados por vírgulas. Vamos expandir essas colunas para ficar com um nome por coluna:"
      ]
    },
    {
      "cell_type": "code",
      "metadata": {
        "colab": {
          "base_uri": "https://localhost:8080/",
          "height": 191
        },
        "id": "GItEyOvW219a",
        "outputId": "30330ed3-b57e-4f4f-cefe-43af2e4e6e35"
      },
      "source": [
        "# separar nomes de 'attacker_commander'\n",
        "split_attacker_commanders = battles[\"attacker_commander\"].str.split(\",\", expand=True)\n",
        "split_attacker_commanders.head()"
      ],
      "execution_count": 8,
      "outputs": [
        {
          "output_type": "execute_result",
          "data": {
            "text/html": [
              "<div>\n",
              "<style scoped>\n",
              "    .dataframe tbody tr th:only-of-type {\n",
              "        vertical-align: middle;\n",
              "    }\n",
              "\n",
              "    .dataframe tbody tr th {\n",
              "        vertical-align: top;\n",
              "    }\n",
              "\n",
              "    .dataframe thead th {\n",
              "        text-align: right;\n",
              "    }\n",
              "</style>\n",
              "<table border=\"1\" class=\"dataframe\">\n",
              "  <thead>\n",
              "    <tr style=\"text-align: right;\">\n",
              "      <th></th>\n",
              "      <th>0</th>\n",
              "      <th>1</th>\n",
              "      <th>2</th>\n",
              "      <th>3</th>\n",
              "      <th>4</th>\n",
              "      <th>5</th>\n",
              "    </tr>\n",
              "  </thead>\n",
              "  <tbody>\n",
              "    <tr>\n",
              "      <th>0</th>\n",
              "      <td>Jaime Lannister</td>\n",
              "      <td>None</td>\n",
              "      <td>None</td>\n",
              "      <td>None</td>\n",
              "      <td>None</td>\n",
              "      <td>None</td>\n",
              "    </tr>\n",
              "    <tr>\n",
              "      <th>1</th>\n",
              "      <td>Gregor Clegane</td>\n",
              "      <td>None</td>\n",
              "      <td>None</td>\n",
              "      <td>None</td>\n",
              "      <td>None</td>\n",
              "      <td>None</td>\n",
              "    </tr>\n",
              "    <tr>\n",
              "      <th>2</th>\n",
              "      <td>Jaime Lannister</td>\n",
              "      <td>Andros Brax</td>\n",
              "      <td>None</td>\n",
              "      <td>None</td>\n",
              "      <td>None</td>\n",
              "      <td>None</td>\n",
              "    </tr>\n",
              "    <tr>\n",
              "      <th>3</th>\n",
              "      <td>Roose Bolton</td>\n",
              "      <td>Wylis Manderly</td>\n",
              "      <td>Medger Cerwyn</td>\n",
              "      <td>Harrion Karstark</td>\n",
              "      <td>Halys Hornwood</td>\n",
              "      <td>None</td>\n",
              "    </tr>\n",
              "    <tr>\n",
              "      <th>4</th>\n",
              "      <td>Robb Stark</td>\n",
              "      <td>Brynden Tully</td>\n",
              "      <td>None</td>\n",
              "      <td>None</td>\n",
              "      <td>None</td>\n",
              "      <td>None</td>\n",
              "    </tr>\n",
              "  </tbody>\n",
              "</table>\n",
              "</div>"
            ],
            "text/plain": [
              "                 0                1  ...                4     5\n",
              "0  Jaime Lannister             None  ...             None  None\n",
              "1   Gregor Clegane             None  ...             None  None\n",
              "2  Jaime Lannister      Andros Brax  ...             None  None\n",
              "3     Roose Bolton   Wylis Manderly  ...   Halys Hornwood  None\n",
              "4       Robb Stark    Brynden Tully  ...             None  None\n",
              "\n",
              "[5 rows x 6 columns]"
            ]
          },
          "metadata": {
            "tags": []
          },
          "execution_count": 8
        }
      ]
    },
    {
      "cell_type": "code",
      "metadata": {
        "colab": {
          "base_uri": "https://localhost:8080/",
          "height": 191
        },
        "id": "R-h5qyLQ6k5r",
        "outputId": "81b99d57-0ee7-476d-eb8e-a16aede1a2cd"
      },
      "source": [
        "# separar nomes de 'defender_commander'\n",
        "split_defender_commanders = battles[\"defender_commander\"].str.split(\",\", expand=True)\n",
        "split_defender_commanders.head()"
      ],
      "execution_count": 9,
      "outputs": [
        {
          "output_type": "execute_result",
          "data": {
            "text/html": [
              "<div>\n",
              "<style scoped>\n",
              "    .dataframe tbody tr th:only-of-type {\n",
              "        vertical-align: middle;\n",
              "    }\n",
              "\n",
              "    .dataframe tbody tr th {\n",
              "        vertical-align: top;\n",
              "    }\n",
              "\n",
              "    .dataframe thead th {\n",
              "        text-align: right;\n",
              "    }\n",
              "</style>\n",
              "<table border=\"1\" class=\"dataframe\">\n",
              "  <thead>\n",
              "    <tr style=\"text-align: right;\">\n",
              "      <th></th>\n",
              "      <th>0</th>\n",
              "      <th>1</th>\n",
              "      <th>2</th>\n",
              "      <th>3</th>\n",
              "      <th>4</th>\n",
              "      <th>5</th>\n",
              "      <th>6</th>\n",
              "    </tr>\n",
              "  </thead>\n",
              "  <tbody>\n",
              "    <tr>\n",
              "      <th>0</th>\n",
              "      <td>Clement Piper</td>\n",
              "      <td>Vance</td>\n",
              "      <td>None</td>\n",
              "      <td>None</td>\n",
              "      <td>None</td>\n",
              "      <td>None</td>\n",
              "      <td>None</td>\n",
              "    </tr>\n",
              "    <tr>\n",
              "      <th>1</th>\n",
              "      <td>Beric Dondarrion</td>\n",
              "      <td>None</td>\n",
              "      <td>None</td>\n",
              "      <td>None</td>\n",
              "      <td>None</td>\n",
              "      <td>None</td>\n",
              "      <td>None</td>\n",
              "    </tr>\n",
              "    <tr>\n",
              "      <th>2</th>\n",
              "      <td>Edmure Tully</td>\n",
              "      <td>Tytos Blackwood</td>\n",
              "      <td>None</td>\n",
              "      <td>None</td>\n",
              "      <td>None</td>\n",
              "      <td>None</td>\n",
              "      <td>None</td>\n",
              "    </tr>\n",
              "    <tr>\n",
              "      <th>3</th>\n",
              "      <td>Tywin Lannister</td>\n",
              "      <td>Gregor Clegane</td>\n",
              "      <td>Kevan Lannister</td>\n",
              "      <td>Addam Marbrand</td>\n",
              "      <td>None</td>\n",
              "      <td>None</td>\n",
              "      <td>None</td>\n",
              "    </tr>\n",
              "    <tr>\n",
              "      <th>4</th>\n",
              "      <td>Jaime Lannister</td>\n",
              "      <td>None</td>\n",
              "      <td>None</td>\n",
              "      <td>None</td>\n",
              "      <td>None</td>\n",
              "      <td>None</td>\n",
              "      <td>None</td>\n",
              "    </tr>\n",
              "  </tbody>\n",
              "</table>\n",
              "</div>"
            ],
            "text/plain": [
              "                  0                 1                 2  ...     4     5     6\n",
              "0     Clement Piper             Vance              None  ...  None  None  None\n",
              "1  Beric Dondarrion              None              None  ...  None  None  None\n",
              "2      Edmure Tully   Tytos Blackwood              None  ...  None  None  None\n",
              "3   Tywin Lannister    Gregor Clegane   Kevan Lannister  ...  None  None  None\n",
              "4   Jaime Lannister              None              None  ...  None  None  None\n",
              "\n",
              "[5 rows x 7 columns]"
            ]
          },
          "metadata": {
            "tags": []
          },
          "execution_count": 9
        }
      ]
    },
    {
      "cell_type": "code",
      "metadata": {
        "colab": {
          "base_uri": "https://localhost:8080/",
          "height": 390
        },
        "id": "lCSAFrHk9oHJ",
        "outputId": "dd8ca298-ccb2-4694-c558-d22932593056"
      },
      "source": [
        "# remover colunas 'attacker_commander' e 'defender_commander'\n",
        "battles = battles.drop(columns=['attacker_commander', 'defender_commander'])\n",
        "\n",
        "# adicionar novas colunas de 'attacker_commander_x'\n",
        "battles['attacker_commander_1'] = split_attacker_commanders[0]\n",
        "battles['attacker_commander_2'] = split_attacker_commanders[1]\n",
        "battles['attacker_commander_3'] = split_attacker_commanders[2]\n",
        "battles['attacker_commander_4'] = split_attacker_commanders[3]\n",
        "battles['attacker_commander_5'] = split_attacker_commanders[4]\n",
        "battles['attacker_commander_6'] = split_attacker_commanders[5]\n",
        "\n",
        "# adicionar novas colunas de 'defender_commander_x'\n",
        "battles['defender_commander_1'] = split_defender_commanders[0]\n",
        "battles['defender_commander_2'] = split_defender_commanders[1]\n",
        "battles['defender_commander_3'] = split_defender_commanders[2]\n",
        "battles['defender_commander_4'] = split_defender_commanders[3]\n",
        "battles['defender_commander_5'] = split_defender_commanders[4]\n",
        "battles['defender_commander_6'] = split_defender_commanders[5]\n",
        "battles['defender_commander_7'] = split_defender_commanders[6]\n",
        "\n",
        "battles.head()"
      ],
      "execution_count": 10,
      "outputs": [
        {
          "output_type": "execute_result",
          "data": {
            "text/html": [
              "<div>\n",
              "<style scoped>\n",
              "    .dataframe tbody tr th:only-of-type {\n",
              "        vertical-align: middle;\n",
              "    }\n",
              "\n",
              "    .dataframe tbody tr th {\n",
              "        vertical-align: top;\n",
              "    }\n",
              "\n",
              "    .dataframe thead th {\n",
              "        text-align: right;\n",
              "    }\n",
              "</style>\n",
              "<table border=\"1\" class=\"dataframe\">\n",
              "  <thead>\n",
              "    <tr style=\"text-align: right;\">\n",
              "      <th></th>\n",
              "      <th>name</th>\n",
              "      <th>year</th>\n",
              "      <th>attacker_king</th>\n",
              "      <th>defender_king</th>\n",
              "      <th>attacker_1</th>\n",
              "      <th>attacker_2</th>\n",
              "      <th>attacker_3</th>\n",
              "      <th>attacker_4</th>\n",
              "      <th>defender_1</th>\n",
              "      <th>defender_2</th>\n",
              "      <th>defender_3</th>\n",
              "      <th>defender_4</th>\n",
              "      <th>attacker_outcome</th>\n",
              "      <th>battle_type</th>\n",
              "      <th>major_death</th>\n",
              "      <th>major_capture</th>\n",
              "      <th>attacker_size</th>\n",
              "      <th>defender_size</th>\n",
              "      <th>summer</th>\n",
              "      <th>location</th>\n",
              "      <th>region</th>\n",
              "      <th>note</th>\n",
              "      <th>attacker_commander_1</th>\n",
              "      <th>attacker_commander_2</th>\n",
              "      <th>attacker_commander_3</th>\n",
              "      <th>attacker_commander_4</th>\n",
              "      <th>attacker_commander_5</th>\n",
              "      <th>attacker_commander_6</th>\n",
              "      <th>defender_commander_1</th>\n",
              "      <th>defender_commander_2</th>\n",
              "      <th>defender_commander_3</th>\n",
              "      <th>defender_commander_4</th>\n",
              "      <th>defender_commander_5</th>\n",
              "      <th>defender_commander_6</th>\n",
              "      <th>defender_commander_7</th>\n",
              "    </tr>\n",
              "  </thead>\n",
              "  <tbody>\n",
              "    <tr>\n",
              "      <th>0</th>\n",
              "      <td>Battle of the Golden Tooth</td>\n",
              "      <td>298</td>\n",
              "      <td>Joffrey/Tommen Baratheon</td>\n",
              "      <td>Robb Stark</td>\n",
              "      <td>Lannister</td>\n",
              "      <td>NaN</td>\n",
              "      <td>NaN</td>\n",
              "      <td>NaN</td>\n",
              "      <td>Tully</td>\n",
              "      <td>NaN</td>\n",
              "      <td>NaN</td>\n",
              "      <td>NaN</td>\n",
              "      <td>win</td>\n",
              "      <td>pitched battle</td>\n",
              "      <td>1.0</td>\n",
              "      <td>0.0</td>\n",
              "      <td>15000.0</td>\n",
              "      <td>4000.0</td>\n",
              "      <td>1.0</td>\n",
              "      <td>Golden Tooth</td>\n",
              "      <td>The Westerlands</td>\n",
              "      <td>NaN</td>\n",
              "      <td>Jaime Lannister</td>\n",
              "      <td>None</td>\n",
              "      <td>None</td>\n",
              "      <td>None</td>\n",
              "      <td>None</td>\n",
              "      <td>None</td>\n",
              "      <td>Clement Piper</td>\n",
              "      <td>Vance</td>\n",
              "      <td>None</td>\n",
              "      <td>None</td>\n",
              "      <td>None</td>\n",
              "      <td>None</td>\n",
              "      <td>None</td>\n",
              "    </tr>\n",
              "    <tr>\n",
              "      <th>1</th>\n",
              "      <td>Battle at the Mummer's Ford</td>\n",
              "      <td>298</td>\n",
              "      <td>Joffrey/Tommen Baratheon</td>\n",
              "      <td>Robb Stark</td>\n",
              "      <td>Lannister</td>\n",
              "      <td>NaN</td>\n",
              "      <td>NaN</td>\n",
              "      <td>NaN</td>\n",
              "      <td>Baratheon</td>\n",
              "      <td>NaN</td>\n",
              "      <td>NaN</td>\n",
              "      <td>NaN</td>\n",
              "      <td>win</td>\n",
              "      <td>ambush</td>\n",
              "      <td>1.0</td>\n",
              "      <td>0.0</td>\n",
              "      <td>NaN</td>\n",
              "      <td>120.0</td>\n",
              "      <td>1.0</td>\n",
              "      <td>Mummer's Ford</td>\n",
              "      <td>The Riverlands</td>\n",
              "      <td>NaN</td>\n",
              "      <td>Gregor Clegane</td>\n",
              "      <td>None</td>\n",
              "      <td>None</td>\n",
              "      <td>None</td>\n",
              "      <td>None</td>\n",
              "      <td>None</td>\n",
              "      <td>Beric Dondarrion</td>\n",
              "      <td>None</td>\n",
              "      <td>None</td>\n",
              "      <td>None</td>\n",
              "      <td>None</td>\n",
              "      <td>None</td>\n",
              "      <td>None</td>\n",
              "    </tr>\n",
              "    <tr>\n",
              "      <th>2</th>\n",
              "      <td>Battle of Riverrun</td>\n",
              "      <td>298</td>\n",
              "      <td>Joffrey/Tommen Baratheon</td>\n",
              "      <td>Robb Stark</td>\n",
              "      <td>Lannister</td>\n",
              "      <td>NaN</td>\n",
              "      <td>NaN</td>\n",
              "      <td>NaN</td>\n",
              "      <td>Tully</td>\n",
              "      <td>NaN</td>\n",
              "      <td>NaN</td>\n",
              "      <td>NaN</td>\n",
              "      <td>win</td>\n",
              "      <td>pitched battle</td>\n",
              "      <td>0.0</td>\n",
              "      <td>1.0</td>\n",
              "      <td>15000.0</td>\n",
              "      <td>10000.0</td>\n",
              "      <td>1.0</td>\n",
              "      <td>Riverrun</td>\n",
              "      <td>The Riverlands</td>\n",
              "      <td>NaN</td>\n",
              "      <td>Jaime Lannister</td>\n",
              "      <td>Andros Brax</td>\n",
              "      <td>None</td>\n",
              "      <td>None</td>\n",
              "      <td>None</td>\n",
              "      <td>None</td>\n",
              "      <td>Edmure Tully</td>\n",
              "      <td>Tytos Blackwood</td>\n",
              "      <td>None</td>\n",
              "      <td>None</td>\n",
              "      <td>None</td>\n",
              "      <td>None</td>\n",
              "      <td>None</td>\n",
              "    </tr>\n",
              "    <tr>\n",
              "      <th>3</th>\n",
              "      <td>Battle of the Green Fork</td>\n",
              "      <td>298</td>\n",
              "      <td>Robb Stark</td>\n",
              "      <td>Joffrey/Tommen Baratheon</td>\n",
              "      <td>Stark</td>\n",
              "      <td>NaN</td>\n",
              "      <td>NaN</td>\n",
              "      <td>NaN</td>\n",
              "      <td>Lannister</td>\n",
              "      <td>NaN</td>\n",
              "      <td>NaN</td>\n",
              "      <td>NaN</td>\n",
              "      <td>loss</td>\n",
              "      <td>pitched battle</td>\n",
              "      <td>1.0</td>\n",
              "      <td>1.0</td>\n",
              "      <td>18000.0</td>\n",
              "      <td>20000.0</td>\n",
              "      <td>1.0</td>\n",
              "      <td>Green Fork</td>\n",
              "      <td>The Riverlands</td>\n",
              "      <td>NaN</td>\n",
              "      <td>Roose Bolton</td>\n",
              "      <td>Wylis Manderly</td>\n",
              "      <td>Medger Cerwyn</td>\n",
              "      <td>Harrion Karstark</td>\n",
              "      <td>Halys Hornwood</td>\n",
              "      <td>None</td>\n",
              "      <td>Tywin Lannister</td>\n",
              "      <td>Gregor Clegane</td>\n",
              "      <td>Kevan Lannister</td>\n",
              "      <td>Addam Marbrand</td>\n",
              "      <td>None</td>\n",
              "      <td>None</td>\n",
              "      <td>None</td>\n",
              "    </tr>\n",
              "    <tr>\n",
              "      <th>4</th>\n",
              "      <td>Battle of the Whispering Wood</td>\n",
              "      <td>298</td>\n",
              "      <td>Robb Stark</td>\n",
              "      <td>Joffrey/Tommen Baratheon</td>\n",
              "      <td>Stark</td>\n",
              "      <td>Tully</td>\n",
              "      <td>NaN</td>\n",
              "      <td>NaN</td>\n",
              "      <td>Lannister</td>\n",
              "      <td>NaN</td>\n",
              "      <td>NaN</td>\n",
              "      <td>NaN</td>\n",
              "      <td>win</td>\n",
              "      <td>ambush</td>\n",
              "      <td>1.0</td>\n",
              "      <td>1.0</td>\n",
              "      <td>1875.0</td>\n",
              "      <td>6000.0</td>\n",
              "      <td>1.0</td>\n",
              "      <td>Whispering Wood</td>\n",
              "      <td>The Riverlands</td>\n",
              "      <td>NaN</td>\n",
              "      <td>Robb Stark</td>\n",
              "      <td>Brynden Tully</td>\n",
              "      <td>None</td>\n",
              "      <td>None</td>\n",
              "      <td>None</td>\n",
              "      <td>None</td>\n",
              "      <td>Jaime Lannister</td>\n",
              "      <td>None</td>\n",
              "      <td>None</td>\n",
              "      <td>None</td>\n",
              "      <td>None</td>\n",
              "      <td>None</td>\n",
              "      <td>None</td>\n",
              "    </tr>\n",
              "  </tbody>\n",
              "</table>\n",
              "</div>"
            ],
            "text/plain": [
              "                            name  ...  defender_commander_7\n",
              "0     Battle of the Golden Tooth  ...                  None\n",
              "1    Battle at the Mummer's Ford  ...                  None\n",
              "2             Battle of Riverrun  ...                  None\n",
              "3       Battle of the Green Fork  ...                  None\n",
              "4  Battle of the Whispering Wood  ...                  None\n",
              "\n",
              "[5 rows x 35 columns]"
            ]
          },
          "metadata": {
            "tags": []
          },
          "execution_count": 10
        }
      ]
    },
    {
      "cell_type": "markdown",
      "metadata": {
        "id": "QQZSKgdZf8za"
      },
      "source": [
        "## Tratamentos de dados ausentes I"
      ]
    },
    {
      "cell_type": "markdown",
      "metadata": {
        "id": "WTBPiBs6gFv0"
      },
      "source": [
        "Só pelo último `head` podemos ver que algumas colunas parecem ter muitos dados nulos. Por isso vamos fazer um primeiro tratamento de dados ausentes antes mesmo da definição de tipos. Dessa forma, evitamos definir um tipo para uma coluna que acabaria sendo removida depois por falta de dados suficientes."
      ]
    },
    {
      "cell_type": "code",
      "metadata": {
        "colab": {
          "base_uri": "https://localhost:8080/"
        },
        "id": "JNZHmftgUJfD",
        "outputId": "d16f05a0-a459-42b9-8849-0ec18df493f3"
      },
      "source": [
        "# calcular porcentagem de linhas nulas por coluna\n",
        "(battles.isnull().sum() / len(battles)) * 100"
      ],
      "execution_count": 11,
      "outputs": [
        {
          "output_type": "execute_result",
          "data": {
            "text/plain": [
              "name                      0.000000\n",
              "year                      0.000000\n",
              "attacker_king             5.263158\n",
              "defender_king             7.894737\n",
              "attacker_1                0.000000\n",
              "attacker_2               73.684211\n",
              "attacker_3               92.105263\n",
              "attacker_4               94.736842\n",
              "defender_1                2.631579\n",
              "defender_2               94.736842\n",
              "defender_3              100.000000\n",
              "defender_4              100.000000\n",
              "attacker_outcome          2.631579\n",
              "battle_type               2.631579\n",
              "major_death               2.631579\n",
              "major_capture             2.631579\n",
              "attacker_size            36.842105\n",
              "defender_size            50.000000\n",
              "summer                    2.631579\n",
              "location                  2.631579\n",
              "region                    0.000000\n",
              "note                     86.842105\n",
              "attacker_commander_1      2.631579\n",
              "attacker_commander_2     42.105263\n",
              "attacker_commander_3     76.315789\n",
              "attacker_commander_4     89.473684\n",
              "attacker_commander_5     89.473684\n",
              "attacker_commander_6     94.736842\n",
              "defender_commander_1     26.315789\n",
              "defender_commander_2     68.421053\n",
              "defender_commander_3     81.578947\n",
              "defender_commander_4     89.473684\n",
              "defender_commander_5     94.736842\n",
              "defender_commander_6     97.368421\n",
              "defender_commander_7     97.368421\n",
              "dtype: float64"
            ]
          },
          "metadata": {
            "tags": []
          },
          "execution_count": 11
        }
      ]
    },
    {
      "cell_type": "markdown",
      "metadata": {
        "id": "0luxxlHPi8ww"
      },
      "source": [
        "Existem várias colunas com muitos dados nulos. Principalmente colunas que possuem informações secundárias relacionadas a outras colunas, como `XXXX_2`, `XXXX_3`, ... Uma vez que a informação principal está na coluna `XXXX_1` e as demais colunas possuem muitos valores nulos, podemos remover essas colunas secundárias.\n",
        "\n",
        "Em vez de remover as colunas uma por uma, vamos utilizar um `treshold` para remover a maioria delas de uma só vez de acordo com a sua porcentagem de valores não nulos. O valor esolhido para o `treshold` foi de 50% das linhas da tabela porque um valor maior iria remover também a coluna `defender_size`, que pode ser importante para a análise das batalhas."
      ]
    },
    {
      "cell_type": "code",
      "metadata": {
        "colab": {
          "base_uri": "https://localhost:8080/",
          "height": 390
        },
        "id": "0EXHzSDFVvi3",
        "outputId": "991a35b8-91e4-484c-ffad-706861c66991"
      },
      "source": [
        "# remover as colunas com menos de 50% dos valores não nulos\n",
        "battles = battles.dropna(thresh=0.5*len(battles), axis='columns')\n",
        "battles.head()"
      ],
      "execution_count": 12,
      "outputs": [
        {
          "output_type": "execute_result",
          "data": {
            "text/html": [
              "<div>\n",
              "<style scoped>\n",
              "    .dataframe tbody tr th:only-of-type {\n",
              "        vertical-align: middle;\n",
              "    }\n",
              "\n",
              "    .dataframe tbody tr th {\n",
              "        vertical-align: top;\n",
              "    }\n",
              "\n",
              "    .dataframe thead th {\n",
              "        text-align: right;\n",
              "    }\n",
              "</style>\n",
              "<table border=\"1\" class=\"dataframe\">\n",
              "  <thead>\n",
              "    <tr style=\"text-align: right;\">\n",
              "      <th></th>\n",
              "      <th>name</th>\n",
              "      <th>year</th>\n",
              "      <th>attacker_king</th>\n",
              "      <th>defender_king</th>\n",
              "      <th>attacker_1</th>\n",
              "      <th>defender_1</th>\n",
              "      <th>attacker_outcome</th>\n",
              "      <th>battle_type</th>\n",
              "      <th>major_death</th>\n",
              "      <th>major_capture</th>\n",
              "      <th>attacker_size</th>\n",
              "      <th>defender_size</th>\n",
              "      <th>summer</th>\n",
              "      <th>location</th>\n",
              "      <th>region</th>\n",
              "      <th>attacker_commander_1</th>\n",
              "      <th>attacker_commander_2</th>\n",
              "      <th>defender_commander_1</th>\n",
              "    </tr>\n",
              "  </thead>\n",
              "  <tbody>\n",
              "    <tr>\n",
              "      <th>0</th>\n",
              "      <td>Battle of the Golden Tooth</td>\n",
              "      <td>298</td>\n",
              "      <td>Joffrey/Tommen Baratheon</td>\n",
              "      <td>Robb Stark</td>\n",
              "      <td>Lannister</td>\n",
              "      <td>Tully</td>\n",
              "      <td>win</td>\n",
              "      <td>pitched battle</td>\n",
              "      <td>1.0</td>\n",
              "      <td>0.0</td>\n",
              "      <td>15000.0</td>\n",
              "      <td>4000.0</td>\n",
              "      <td>1.0</td>\n",
              "      <td>Golden Tooth</td>\n",
              "      <td>The Westerlands</td>\n",
              "      <td>Jaime Lannister</td>\n",
              "      <td>None</td>\n",
              "      <td>Clement Piper</td>\n",
              "    </tr>\n",
              "    <tr>\n",
              "      <th>1</th>\n",
              "      <td>Battle at the Mummer's Ford</td>\n",
              "      <td>298</td>\n",
              "      <td>Joffrey/Tommen Baratheon</td>\n",
              "      <td>Robb Stark</td>\n",
              "      <td>Lannister</td>\n",
              "      <td>Baratheon</td>\n",
              "      <td>win</td>\n",
              "      <td>ambush</td>\n",
              "      <td>1.0</td>\n",
              "      <td>0.0</td>\n",
              "      <td>NaN</td>\n",
              "      <td>120.0</td>\n",
              "      <td>1.0</td>\n",
              "      <td>Mummer's Ford</td>\n",
              "      <td>The Riverlands</td>\n",
              "      <td>Gregor Clegane</td>\n",
              "      <td>None</td>\n",
              "      <td>Beric Dondarrion</td>\n",
              "    </tr>\n",
              "    <tr>\n",
              "      <th>2</th>\n",
              "      <td>Battle of Riverrun</td>\n",
              "      <td>298</td>\n",
              "      <td>Joffrey/Tommen Baratheon</td>\n",
              "      <td>Robb Stark</td>\n",
              "      <td>Lannister</td>\n",
              "      <td>Tully</td>\n",
              "      <td>win</td>\n",
              "      <td>pitched battle</td>\n",
              "      <td>0.0</td>\n",
              "      <td>1.0</td>\n",
              "      <td>15000.0</td>\n",
              "      <td>10000.0</td>\n",
              "      <td>1.0</td>\n",
              "      <td>Riverrun</td>\n",
              "      <td>The Riverlands</td>\n",
              "      <td>Jaime Lannister</td>\n",
              "      <td>Andros Brax</td>\n",
              "      <td>Edmure Tully</td>\n",
              "    </tr>\n",
              "    <tr>\n",
              "      <th>3</th>\n",
              "      <td>Battle of the Green Fork</td>\n",
              "      <td>298</td>\n",
              "      <td>Robb Stark</td>\n",
              "      <td>Joffrey/Tommen Baratheon</td>\n",
              "      <td>Stark</td>\n",
              "      <td>Lannister</td>\n",
              "      <td>loss</td>\n",
              "      <td>pitched battle</td>\n",
              "      <td>1.0</td>\n",
              "      <td>1.0</td>\n",
              "      <td>18000.0</td>\n",
              "      <td>20000.0</td>\n",
              "      <td>1.0</td>\n",
              "      <td>Green Fork</td>\n",
              "      <td>The Riverlands</td>\n",
              "      <td>Roose Bolton</td>\n",
              "      <td>Wylis Manderly</td>\n",
              "      <td>Tywin Lannister</td>\n",
              "    </tr>\n",
              "    <tr>\n",
              "      <th>4</th>\n",
              "      <td>Battle of the Whispering Wood</td>\n",
              "      <td>298</td>\n",
              "      <td>Robb Stark</td>\n",
              "      <td>Joffrey/Tommen Baratheon</td>\n",
              "      <td>Stark</td>\n",
              "      <td>Lannister</td>\n",
              "      <td>win</td>\n",
              "      <td>ambush</td>\n",
              "      <td>1.0</td>\n",
              "      <td>1.0</td>\n",
              "      <td>1875.0</td>\n",
              "      <td>6000.0</td>\n",
              "      <td>1.0</td>\n",
              "      <td>Whispering Wood</td>\n",
              "      <td>The Riverlands</td>\n",
              "      <td>Robb Stark</td>\n",
              "      <td>Brynden Tully</td>\n",
              "      <td>Jaime Lannister</td>\n",
              "    </tr>\n",
              "  </tbody>\n",
              "</table>\n",
              "</div>"
            ],
            "text/plain": [
              "                            name  ...  defender_commander_1\n",
              "0     Battle of the Golden Tooth  ...         Clement Piper\n",
              "1    Battle at the Mummer's Ford  ...      Beric Dondarrion\n",
              "2             Battle of Riverrun  ...          Edmure Tully\n",
              "3       Battle of the Green Fork  ...       Tywin Lannister\n",
              "4  Battle of the Whispering Wood  ...       Jaime Lannister\n",
              "\n",
              "[5 rows x 18 columns]"
            ]
          },
          "metadata": {
            "tags": []
          },
          "execution_count": 12
        }
      ]
    },
    {
      "cell_type": "code",
      "metadata": {
        "colab": {
          "base_uri": "https://localhost:8080/"
        },
        "id": "boqv7I9KIaDd",
        "outputId": "f5dd1f5c-50a2-46ad-a46e-25bdfcba992b"
      },
      "source": [
        "# porcentagem de linhas nulas por coluna após remoção\n",
        "(battles.isnull().sum() / len(battles)) * 100"
      ],
      "execution_count": 13,
      "outputs": [
        {
          "output_type": "execute_result",
          "data": {
            "text/plain": [
              "name                     0.000000\n",
              "year                     0.000000\n",
              "attacker_king            5.263158\n",
              "defender_king            7.894737\n",
              "attacker_1               0.000000\n",
              "defender_1               2.631579\n",
              "attacker_outcome         2.631579\n",
              "battle_type              2.631579\n",
              "major_death              2.631579\n",
              "major_capture            2.631579\n",
              "attacker_size           36.842105\n",
              "defender_size           50.000000\n",
              "summer                   2.631579\n",
              "location                 2.631579\n",
              "region                   0.000000\n",
              "attacker_commander_1     2.631579\n",
              "attacker_commander_2    42.105263\n",
              "defender_commander_1    26.315789\n",
              "dtype: float64"
            ]
          },
          "metadata": {
            "tags": []
          },
          "execution_count": 13
        }
      ]
    },
    {
      "cell_type": "markdown",
      "metadata": {
        "id": "AaymeLO-H-gO"
      },
      "source": [
        "Como comentado anteriormente, `attacker_commander_2` é um dado secundário, que serve para complementar `attacker_commander_1`. Por não ser tão importante e apresentar 42% dos dados nulos, vamos remover essa coluna também."
      ]
    },
    {
      "cell_type": "code",
      "metadata": {
        "colab": {
          "base_uri": "https://localhost:8080/",
          "height": 390
        },
        "id": "UG2DyCz9IRby",
        "outputId": "a9235771-4962-44ba-efc2-9e4b677c6caa"
      },
      "source": [
        "battles.drop(columns=['attacker_commander_2'], inplace=True)\n",
        "battles.head()"
      ],
      "execution_count": 14,
      "outputs": [
        {
          "output_type": "execute_result",
          "data": {
            "text/html": [
              "<div>\n",
              "<style scoped>\n",
              "    .dataframe tbody tr th:only-of-type {\n",
              "        vertical-align: middle;\n",
              "    }\n",
              "\n",
              "    .dataframe tbody tr th {\n",
              "        vertical-align: top;\n",
              "    }\n",
              "\n",
              "    .dataframe thead th {\n",
              "        text-align: right;\n",
              "    }\n",
              "</style>\n",
              "<table border=\"1\" class=\"dataframe\">\n",
              "  <thead>\n",
              "    <tr style=\"text-align: right;\">\n",
              "      <th></th>\n",
              "      <th>name</th>\n",
              "      <th>year</th>\n",
              "      <th>attacker_king</th>\n",
              "      <th>defender_king</th>\n",
              "      <th>attacker_1</th>\n",
              "      <th>defender_1</th>\n",
              "      <th>attacker_outcome</th>\n",
              "      <th>battle_type</th>\n",
              "      <th>major_death</th>\n",
              "      <th>major_capture</th>\n",
              "      <th>attacker_size</th>\n",
              "      <th>defender_size</th>\n",
              "      <th>summer</th>\n",
              "      <th>location</th>\n",
              "      <th>region</th>\n",
              "      <th>attacker_commander_1</th>\n",
              "      <th>defender_commander_1</th>\n",
              "    </tr>\n",
              "  </thead>\n",
              "  <tbody>\n",
              "    <tr>\n",
              "      <th>0</th>\n",
              "      <td>Battle of the Golden Tooth</td>\n",
              "      <td>298</td>\n",
              "      <td>Joffrey/Tommen Baratheon</td>\n",
              "      <td>Robb Stark</td>\n",
              "      <td>Lannister</td>\n",
              "      <td>Tully</td>\n",
              "      <td>win</td>\n",
              "      <td>pitched battle</td>\n",
              "      <td>1.0</td>\n",
              "      <td>0.0</td>\n",
              "      <td>15000.0</td>\n",
              "      <td>4000.0</td>\n",
              "      <td>1.0</td>\n",
              "      <td>Golden Tooth</td>\n",
              "      <td>The Westerlands</td>\n",
              "      <td>Jaime Lannister</td>\n",
              "      <td>Clement Piper</td>\n",
              "    </tr>\n",
              "    <tr>\n",
              "      <th>1</th>\n",
              "      <td>Battle at the Mummer's Ford</td>\n",
              "      <td>298</td>\n",
              "      <td>Joffrey/Tommen Baratheon</td>\n",
              "      <td>Robb Stark</td>\n",
              "      <td>Lannister</td>\n",
              "      <td>Baratheon</td>\n",
              "      <td>win</td>\n",
              "      <td>ambush</td>\n",
              "      <td>1.0</td>\n",
              "      <td>0.0</td>\n",
              "      <td>NaN</td>\n",
              "      <td>120.0</td>\n",
              "      <td>1.0</td>\n",
              "      <td>Mummer's Ford</td>\n",
              "      <td>The Riverlands</td>\n",
              "      <td>Gregor Clegane</td>\n",
              "      <td>Beric Dondarrion</td>\n",
              "    </tr>\n",
              "    <tr>\n",
              "      <th>2</th>\n",
              "      <td>Battle of Riverrun</td>\n",
              "      <td>298</td>\n",
              "      <td>Joffrey/Tommen Baratheon</td>\n",
              "      <td>Robb Stark</td>\n",
              "      <td>Lannister</td>\n",
              "      <td>Tully</td>\n",
              "      <td>win</td>\n",
              "      <td>pitched battle</td>\n",
              "      <td>0.0</td>\n",
              "      <td>1.0</td>\n",
              "      <td>15000.0</td>\n",
              "      <td>10000.0</td>\n",
              "      <td>1.0</td>\n",
              "      <td>Riverrun</td>\n",
              "      <td>The Riverlands</td>\n",
              "      <td>Jaime Lannister</td>\n",
              "      <td>Edmure Tully</td>\n",
              "    </tr>\n",
              "    <tr>\n",
              "      <th>3</th>\n",
              "      <td>Battle of the Green Fork</td>\n",
              "      <td>298</td>\n",
              "      <td>Robb Stark</td>\n",
              "      <td>Joffrey/Tommen Baratheon</td>\n",
              "      <td>Stark</td>\n",
              "      <td>Lannister</td>\n",
              "      <td>loss</td>\n",
              "      <td>pitched battle</td>\n",
              "      <td>1.0</td>\n",
              "      <td>1.0</td>\n",
              "      <td>18000.0</td>\n",
              "      <td>20000.0</td>\n",
              "      <td>1.0</td>\n",
              "      <td>Green Fork</td>\n",
              "      <td>The Riverlands</td>\n",
              "      <td>Roose Bolton</td>\n",
              "      <td>Tywin Lannister</td>\n",
              "    </tr>\n",
              "    <tr>\n",
              "      <th>4</th>\n",
              "      <td>Battle of the Whispering Wood</td>\n",
              "      <td>298</td>\n",
              "      <td>Robb Stark</td>\n",
              "      <td>Joffrey/Tommen Baratheon</td>\n",
              "      <td>Stark</td>\n",
              "      <td>Lannister</td>\n",
              "      <td>win</td>\n",
              "      <td>ambush</td>\n",
              "      <td>1.0</td>\n",
              "      <td>1.0</td>\n",
              "      <td>1875.0</td>\n",
              "      <td>6000.0</td>\n",
              "      <td>1.0</td>\n",
              "      <td>Whispering Wood</td>\n",
              "      <td>The Riverlands</td>\n",
              "      <td>Robb Stark</td>\n",
              "      <td>Jaime Lannister</td>\n",
              "    </tr>\n",
              "  </tbody>\n",
              "</table>\n",
              "</div>"
            ],
            "text/plain": [
              "                            name  ...  defender_commander_1\n",
              "0     Battle of the Golden Tooth  ...         Clement Piper\n",
              "1    Battle at the Mummer's Ford  ...      Beric Dondarrion\n",
              "2             Battle of Riverrun  ...          Edmure Tully\n",
              "3       Battle of the Green Fork  ...       Tywin Lannister\n",
              "4  Battle of the Whispering Wood  ...       Jaime Lannister\n",
              "\n",
              "[5 rows x 17 columns]"
            ]
          },
          "metadata": {
            "tags": []
          },
          "execution_count": 14
        }
      ]
    },
    {
      "cell_type": "markdown",
      "metadata": {
        "id": "WWGa0398urJT"
      },
      "source": [
        "## Definição de tipos"
      ]
    },
    {
      "cell_type": "code",
      "metadata": {
        "colab": {
          "base_uri": "https://localhost:8080/"
        },
        "id": "zGs1dWCbBCJB",
        "outputId": "e9e91216-d2aa-4dcc-8010-7f22764cbad4"
      },
      "source": [
        "battles.dtypes"
      ],
      "execution_count": 15,
      "outputs": [
        {
          "output_type": "execute_result",
          "data": {
            "text/plain": [
              "name                     object\n",
              "year                      int64\n",
              "attacker_king            object\n",
              "defender_king            object\n",
              "attacker_1               object\n",
              "defender_1               object\n",
              "attacker_outcome         object\n",
              "battle_type              object\n",
              "major_death             float64\n",
              "major_capture           float64\n",
              "attacker_size           float64\n",
              "defender_size           float64\n",
              "summer                  float64\n",
              "location                 object\n",
              "region                   object\n",
              "attacker_commander_1     object\n",
              "defender_commander_1     object\n",
              "dtype: object"
            ]
          },
          "metadata": {
            "tags": []
          },
          "execution_count": 15
        }
      ]
    },
    {
      "cell_type": "code",
      "metadata": {
        "colab": {
          "base_uri": "https://localhost:8080/"
        },
        "id": "_W5K6aDLG8Fh",
        "outputId": "143b50ae-d1f9-4337-eb90-a02c829e4a29"
      },
      "source": [
        "battles['year'].describe()"
      ],
      "execution_count": 16,
      "outputs": [
        {
          "output_type": "execute_result",
          "data": {
            "text/plain": [
              "count     38.000000\n",
              "mean     299.105263\n",
              "std        0.689280\n",
              "min      298.000000\n",
              "25%      299.000000\n",
              "50%      299.000000\n",
              "75%      300.000000\n",
              "max      300.000000\n",
              "Name: year, dtype: float64"
            ]
          },
          "metadata": {
            "tags": []
          },
          "execution_count": 16
        }
      ]
    },
    {
      "cell_type": "code",
      "metadata": {
        "colab": {
          "base_uri": "https://localhost:8080/"
        },
        "id": "vAcweZl-GU3n",
        "outputId": "82cb4d79-b2d5-42c1-878c-3e4b7a89c180"
      },
      "source": [
        "battles['year'].unique()"
      ],
      "execution_count": 17,
      "outputs": [
        {
          "output_type": "execute_result",
          "data": {
            "text/plain": [
              "array([298, 299, 300])"
            ]
          },
          "metadata": {
            "tags": []
          },
          "execution_count": 17
        }
      ]
    },
    {
      "cell_type": "markdown",
      "metadata": {
        "id": "STC9FqUVG2aD"
      },
      "source": [
        "Apesar da coluna `year` representar um dado de tempo, ele é categórico porque só tem 3 valores distintos para as 38 linhas do *dataset*."
      ]
    },
    {
      "cell_type": "code",
      "metadata": {
        "colab": {
          "base_uri": "https://localhost:8080/"
        },
        "id": "zU5OYwyKlO6g",
        "outputId": "823af12a-db46-45ed-ac27-340bc557505e"
      },
      "source": [
        "# ajustar os tipos dos dados\n",
        "battles['name'] = battles['name'].astype('category')\n",
        "battles['year'] = battles['year'].astype('category')\n",
        "battles['attacker_king'] = battles['attacker_king'].astype('category')\n",
        "battles['defender_king'] = battles['defender_king'].astype('category')\n",
        "battles['attacker_1'] = battles['attacker_1'].astype('category')\n",
        "battles['defender_1'] = battles['defender_1'].astype('category')\n",
        "battles['attacker_outcome'] = battles['attacker_outcome'].astype('category')\n",
        "battles['battle_type'] = battles['battle_type'].astype('category')\n",
        "battles['major_death'] = battles['major_death'].astype('category')\n",
        "battles['major_capture'] = battles['major_capture'].astype('category')\n",
        "battles['summer'] = battles['summer'].astype('category')\n",
        "battles['location'] = battles['location'].astype('category')\n",
        "battles['region'] = battles['region'].astype('category')\n",
        "battles['attacker_commander_1'] = battles['attacker_commander_1'].astype('category')\n",
        "battles['defender_commander_1'] = battles['defender_commander_1'].astype('category')\n",
        "\n",
        "battles.dtypes"
      ],
      "execution_count": 18,
      "outputs": [
        {
          "output_type": "execute_result",
          "data": {
            "text/plain": [
              "name                    category\n",
              "year                    category\n",
              "attacker_king           category\n",
              "defender_king           category\n",
              "attacker_1              category\n",
              "defender_1              category\n",
              "attacker_outcome        category\n",
              "battle_type             category\n",
              "major_death             category\n",
              "major_capture           category\n",
              "attacker_size            float64\n",
              "defender_size            float64\n",
              "summer                  category\n",
              "location                category\n",
              "region                  category\n",
              "attacker_commander_1    category\n",
              "defender_commander_1    category\n",
              "dtype: object"
            ]
          },
          "metadata": {
            "tags": []
          },
          "execution_count": 18
        }
      ]
    },
    {
      "cell_type": "markdown",
      "metadata": {
        "id": "dITRZFUHJ9Jp"
      },
      "source": [
        "## Tratamento de dados ausentes II"
      ]
    },
    {
      "cell_type": "code",
      "metadata": {
        "colab": {
          "base_uri": "https://localhost:8080/"
        },
        "id": "grhDk5_SKC3Z",
        "outputId": "e1aa632e-d605-43c4-ad30-dd0242d15863"
      },
      "source": [
        "battles.isnull().sum()"
      ],
      "execution_count": 19,
      "outputs": [
        {
          "output_type": "execute_result",
          "data": {
            "text/plain": [
              "name                     0\n",
              "year                     0\n",
              "attacker_king            2\n",
              "defender_king            3\n",
              "attacker_1               0\n",
              "defender_1               1\n",
              "attacker_outcome         1\n",
              "battle_type              1\n",
              "major_death              1\n",
              "major_capture            1\n",
              "attacker_size           14\n",
              "defender_size           19\n",
              "summer                   1\n",
              "location                 1\n",
              "region                   0\n",
              "attacker_commander_1     1\n",
              "defender_commander_1    10\n",
              "dtype: int64"
            ]
          },
          "metadata": {
            "tags": []
          },
          "execution_count": 19
        }
      ]
    },
    {
      "cell_type": "markdown",
      "metadata": {
        "id": "IuTpqAp4VNyz"
      },
      "source": [
        "Primeiro vamos tratar as colunas com apenas 1 dado ausente e que sabemos que tem relação com alguma outra coluna."
      ]
    },
    {
      "cell_type": "markdown",
      "metadata": {
        "id": "9fdD_jxDOjyS"
      },
      "source": [
        "### `summer`"
      ]
    },
    {
      "cell_type": "markdown",
      "metadata": {
        "id": "_aygSFhwSYEA"
      },
      "source": [
        "Na história, a passagem das estações é bem diferente da realidade. As estações não mudam com uma frequência constante e **cada estação dura anos**. Logo, podemos utilizar as batalhas do mesmo ano para decidir qual valor imputar na coluna `summer`."
      ]
    },
    {
      "cell_type": "code",
      "metadata": {
        "id": "uJYegko6J2tX"
      },
      "source": [
        "battles['summer'] = battles['summer'].cat.codes\n",
        "non_null_summer_battles = battles[battles['summer'] != -1]"
      ],
      "execution_count": 20,
      "outputs": []
    },
    {
      "cell_type": "code",
      "metadata": {
        "colab": {
          "base_uri": "https://localhost:8080/"
        },
        "id": "yTRb8yjvJUCw",
        "outputId": "9aa49d0e-aab6-4570-aeca-d42e27b1eb9c"
      },
      "source": [
        "non_null_summer_battles.groupby(['year'])['summer'].mean()"
      ],
      "execution_count": 21,
      "outputs": [
        {
          "output_type": "execute_result",
          "data": {
            "text/plain": [
              "year\n",
              "298    1\n",
              "299    1\n",
              "300    0\n",
              "Name: summer, dtype: int8"
            ]
          },
          "metadata": {
            "tags": []
          },
          "execution_count": 21
        }
      ]
    },
    {
      "cell_type": "code",
      "metadata": {
        "colab": {
          "base_uri": "https://localhost:8080/",
          "height": 145
        },
        "id": "QDC8djANK6it",
        "outputId": "4821ceac-0acf-4c7f-a979-ee4e93cf2446"
      },
      "source": [
        "battles.loc[battles['summer'] == -1]"
      ],
      "execution_count": 22,
      "outputs": [
        {
          "output_type": "execute_result",
          "data": {
            "text/html": [
              "<div>\n",
              "<style scoped>\n",
              "    .dataframe tbody tr th:only-of-type {\n",
              "        vertical-align: middle;\n",
              "    }\n",
              "\n",
              "    .dataframe tbody tr th {\n",
              "        vertical-align: top;\n",
              "    }\n",
              "\n",
              "    .dataframe thead th {\n",
              "        text-align: right;\n",
              "    }\n",
              "</style>\n",
              "<table border=\"1\" class=\"dataframe\">\n",
              "  <thead>\n",
              "    <tr style=\"text-align: right;\">\n",
              "      <th></th>\n",
              "      <th>name</th>\n",
              "      <th>year</th>\n",
              "      <th>attacker_king</th>\n",
              "      <th>defender_king</th>\n",
              "      <th>attacker_1</th>\n",
              "      <th>defender_1</th>\n",
              "      <th>attacker_outcome</th>\n",
              "      <th>battle_type</th>\n",
              "      <th>major_death</th>\n",
              "      <th>major_capture</th>\n",
              "      <th>attacker_size</th>\n",
              "      <th>defender_size</th>\n",
              "      <th>summer</th>\n",
              "      <th>location</th>\n",
              "      <th>region</th>\n",
              "      <th>attacker_commander_1</th>\n",
              "      <th>defender_commander_1</th>\n",
              "    </tr>\n",
              "  </thead>\n",
              "  <tbody>\n",
              "    <tr>\n",
              "      <th>23</th>\n",
              "      <td>Battle of the Ruby Ford</td>\n",
              "      <td>299</td>\n",
              "      <td>Joffrey/Tommen Baratheon</td>\n",
              "      <td>Robb Stark</td>\n",
              "      <td>Lannister</td>\n",
              "      <td>Stark</td>\n",
              "      <td>win</td>\n",
              "      <td>pitched battle</td>\n",
              "      <td>0.0</td>\n",
              "      <td>0.0</td>\n",
              "      <td>NaN</td>\n",
              "      <td>6000.0</td>\n",
              "      <td>-1</td>\n",
              "      <td>Ruby Ford</td>\n",
              "      <td>The Riverlands</td>\n",
              "      <td>Gregor Clegane</td>\n",
              "      <td>Roose Bolton</td>\n",
              "    </tr>\n",
              "  </tbody>\n",
              "</table>\n",
              "</div>"
            ],
            "text/plain": [
              "                       name year  ... attacker_commander_1 defender_commander_1\n",
              "23  Battle of the Ruby Ford  299  ...       Gregor Clegane         Roose Bolton\n",
              "\n",
              "[1 rows x 17 columns]"
            ]
          },
          "metadata": {
            "tags": []
          },
          "execution_count": 22
        }
      ]
    },
    {
      "cell_type": "code",
      "metadata": {
        "colab": {
          "base_uri": "https://localhost:8080/"
        },
        "id": "8BeVVVAuMoBd",
        "outputId": "5f3583ca-8ef5-4d91-cb2f-35838189492b"
      },
      "source": [
        "battles.loc[battles['summer'] == -1, ['year']]['year'] = 1\n",
        "battles['summer'].isnull().sum()"
      ],
      "execution_count": 23,
      "outputs": [
        {
          "output_type": "execute_result",
          "data": {
            "text/plain": [
              "0"
            ]
          },
          "metadata": {
            "tags": []
          },
          "execution_count": 23
        }
      ]
    },
    {
      "cell_type": "markdown",
      "metadata": {
        "id": "iyp1_B8l3Uuv"
      },
      "source": [
        "### `location`"
      ]
    },
    {
      "cell_type": "code",
      "metadata": {
        "colab": {
          "base_uri": "https://localhost:8080/"
        },
        "id": "_zPgBk7-4H6X",
        "outputId": "1d22db78-77dc-49b6-f9d2-0858ce37600c"
      },
      "source": [
        "battles['location'].isnull().sum()"
      ],
      "execution_count": 24,
      "outputs": [
        {
          "output_type": "execute_result",
          "data": {
            "text/plain": [
              "1"
            ]
          },
          "metadata": {
            "tags": []
          },
          "execution_count": 24
        }
      ]
    },
    {
      "cell_type": "code",
      "metadata": {
        "colab": {
          "base_uri": "https://localhost:8080/",
          "height": 145
        },
        "id": "R2yBDU783Uu8",
        "outputId": "7d87ec29-4164-41ff-8c5b-2296c9255707"
      },
      "source": [
        "battles.loc[battles['location'].isnull()]"
      ],
      "execution_count": 25,
      "outputs": [
        {
          "output_type": "execute_result",
          "data": {
            "text/html": [
              "<div>\n",
              "<style scoped>\n",
              "    .dataframe tbody tr th:only-of-type {\n",
              "        vertical-align: middle;\n",
              "    }\n",
              "\n",
              "    .dataframe tbody tr th {\n",
              "        vertical-align: top;\n",
              "    }\n",
              "\n",
              "    .dataframe thead th {\n",
              "        text-align: right;\n",
              "    }\n",
              "</style>\n",
              "<table border=\"1\" class=\"dataframe\">\n",
              "  <thead>\n",
              "    <tr style=\"text-align: right;\">\n",
              "      <th></th>\n",
              "      <th>name</th>\n",
              "      <th>year</th>\n",
              "      <th>attacker_king</th>\n",
              "      <th>defender_king</th>\n",
              "      <th>attacker_1</th>\n",
              "      <th>defender_1</th>\n",
              "      <th>attacker_outcome</th>\n",
              "      <th>battle_type</th>\n",
              "      <th>major_death</th>\n",
              "      <th>major_capture</th>\n",
              "      <th>attacker_size</th>\n",
              "      <th>defender_size</th>\n",
              "      <th>summer</th>\n",
              "      <th>location</th>\n",
              "      <th>region</th>\n",
              "      <th>attacker_commander_1</th>\n",
              "      <th>defender_commander_1</th>\n",
              "    </tr>\n",
              "  </thead>\n",
              "  <tbody>\n",
              "    <tr>\n",
              "      <th>22</th>\n",
              "      <td>Battle of the Burning Septry</td>\n",
              "      <td>299</td>\n",
              "      <td>NaN</td>\n",
              "      <td>NaN</td>\n",
              "      <td>Brotherhood without Banners</td>\n",
              "      <td>Brave Companions</td>\n",
              "      <td>win</td>\n",
              "      <td>pitched battle</td>\n",
              "      <td>0.0</td>\n",
              "      <td>0.0</td>\n",
              "      <td>NaN</td>\n",
              "      <td>NaN</td>\n",
              "      <td>1</td>\n",
              "      <td>NaN</td>\n",
              "      <td>The Riverlands</td>\n",
              "      <td>NaN</td>\n",
              "      <td>NaN</td>\n",
              "    </tr>\n",
              "  </tbody>\n",
              "</table>\n",
              "</div>"
            ],
            "text/plain": [
              "                            name year  ... attacker_commander_1 defender_commander_1\n",
              "22  Battle of the Burning Septry  299  ...                  NaN                  NaN\n",
              "\n",
              "[1 rows x 17 columns]"
            ]
          },
          "metadata": {
            "tags": []
          },
          "execution_count": 25
        }
      ]
    },
    {
      "cell_type": "markdown",
      "metadata": {
        "id": "MPEXnexm3oey"
      },
      "source": [
        "Como essa linha possui muitos dados nulos, é melhor removê-la"
      ]
    },
    {
      "cell_type": "code",
      "metadata": {
        "colab": {
          "base_uri": "https://localhost:8080/"
        },
        "id": "5Ca3DE6h3Uu9",
        "outputId": "4edeedb7-c594-4709-a87c-c721d137df82"
      },
      "source": [
        "battles.drop(index=battles.loc[battles['location'].isnull()].index, inplace=True)\n",
        "battles['location'].isnull().sum()"
      ],
      "execution_count": 26,
      "outputs": [
        {
          "output_type": "execute_result",
          "data": {
            "text/plain": [
              "0"
            ]
          },
          "metadata": {
            "tags": []
          },
          "execution_count": 26
        }
      ]
    },
    {
      "cell_type": "markdown",
      "metadata": {
        "id": "FahZJVyQHQhi"
      },
      "source": [
        "Obs: Remover essa linha acaba removendo também a única instância com `attacker_commander_1` nulo"
      ]
    },
    {
      "cell_type": "code",
      "metadata": {
        "colab": {
          "base_uri": "https://localhost:8080/"
        },
        "id": "UsFogvxdHXZV",
        "outputId": "eb82ddf3-18a5-48fc-c797-afb156bbf649"
      },
      "source": [
        "battles['attacker_commander_1'].isnull().sum()"
      ],
      "execution_count": 27,
      "outputs": [
        {
          "output_type": "execute_result",
          "data": {
            "text/plain": [
              "0"
            ]
          },
          "metadata": {
            "tags": []
          },
          "execution_count": 27
        }
      ]
    },
    {
      "cell_type": "code",
      "metadata": {
        "id": "J-zAZIZ8ffKA"
      },
      "source": [
        "# resetar o index após remover uma linha\n",
        "battles.reset_index(drop=True, inplace=True)"
      ],
      "execution_count": 28,
      "outputs": []
    },
    {
      "cell_type": "markdown",
      "metadata": {
        "id": "JbQEpn3g20rk"
      },
      "source": [
        "### `attacker_king` e `defender_king`"
      ]
    },
    {
      "cell_type": "code",
      "metadata": {
        "colab": {
          "base_uri": "https://localhost:8080/"
        },
        "id": "F7YlQomT4GzS",
        "outputId": "63f32dc9-08ef-425c-aa8f-900f53b6bdcf"
      },
      "source": [
        "print('attacker_king: ', battles['attacker_king'].isnull().sum())\n",
        "print('defender_king: ', battles['defender_king'].isnull().sum())"
      ],
      "execution_count": 29,
      "outputs": [
        {
          "output_type": "stream",
          "text": [
            "attacker_king:  1\n",
            "defender_king:  2\n"
          ],
          "name": "stdout"
        }
      ]
    },
    {
      "cell_type": "code",
      "metadata": {
        "colab": {
          "base_uri": "https://localhost:8080/",
          "height": 173
        },
        "id": "ZXppWcno4ORP",
        "outputId": "436e3502-f0c5-4564-be6b-3bf4bcbafe8e"
      },
      "source": [
        "battles.loc[battles['attacker_king'].isnull() | battles['defender_king'].isnull()]"
      ],
      "execution_count": 30,
      "outputs": [
        {
          "output_type": "execute_result",
          "data": {
            "text/html": [
              "<div>\n",
              "<style scoped>\n",
              "    .dataframe tbody tr th:only-of-type {\n",
              "        vertical-align: middle;\n",
              "    }\n",
              "\n",
              "    .dataframe tbody tr th {\n",
              "        vertical-align: top;\n",
              "    }\n",
              "\n",
              "    .dataframe thead th {\n",
              "        text-align: right;\n",
              "    }\n",
              "</style>\n",
              "<table border=\"1\" class=\"dataframe\">\n",
              "  <thead>\n",
              "    <tr style=\"text-align: right;\">\n",
              "      <th></th>\n",
              "      <th>name</th>\n",
              "      <th>year</th>\n",
              "      <th>attacker_king</th>\n",
              "      <th>defender_king</th>\n",
              "      <th>attacker_1</th>\n",
              "      <th>defender_1</th>\n",
              "      <th>attacker_outcome</th>\n",
              "      <th>battle_type</th>\n",
              "      <th>major_death</th>\n",
              "      <th>major_capture</th>\n",
              "      <th>attacker_size</th>\n",
              "      <th>defender_size</th>\n",
              "      <th>summer</th>\n",
              "      <th>location</th>\n",
              "      <th>region</th>\n",
              "      <th>attacker_commander_1</th>\n",
              "      <th>defender_commander_1</th>\n",
              "    </tr>\n",
              "  </thead>\n",
              "  <tbody>\n",
              "    <tr>\n",
              "      <th>23</th>\n",
              "      <td>Retaking of Harrenhal</td>\n",
              "      <td>299</td>\n",
              "      <td>Joffrey/Tommen Baratheon</td>\n",
              "      <td>NaN</td>\n",
              "      <td>Lannister</td>\n",
              "      <td>Brave Companions</td>\n",
              "      <td>win</td>\n",
              "      <td>pitched battle</td>\n",
              "      <td>1.0</td>\n",
              "      <td>0.0</td>\n",
              "      <td>NaN</td>\n",
              "      <td>NaN</td>\n",
              "      <td>1</td>\n",
              "      <td>Harrenhal</td>\n",
              "      <td>The Riverlands</td>\n",
              "      <td>Gregor Clegane</td>\n",
              "      <td>Vargo Hoat</td>\n",
              "    </tr>\n",
              "    <tr>\n",
              "      <th>28</th>\n",
              "      <td>Sack of Saltpans</td>\n",
              "      <td>300</td>\n",
              "      <td>NaN</td>\n",
              "      <td>NaN</td>\n",
              "      <td>Brave Companions</td>\n",
              "      <td>NaN</td>\n",
              "      <td>win</td>\n",
              "      <td>razing</td>\n",
              "      <td>0.0</td>\n",
              "      <td>0.0</td>\n",
              "      <td>NaN</td>\n",
              "      <td>NaN</td>\n",
              "      <td>0</td>\n",
              "      <td>Saltpans</td>\n",
              "      <td>The Riverlands</td>\n",
              "      <td>Rorge</td>\n",
              "      <td>NaN</td>\n",
              "    </tr>\n",
              "  </tbody>\n",
              "</table>\n",
              "</div>"
            ],
            "text/plain": [
              "                     name year  ... attacker_commander_1 defender_commander_1\n",
              "23  Retaking of Harrenhal  299  ...       Gregor Clegane           Vargo Hoat\n",
              "28       Sack of Saltpans  300  ...                Rorge                  NaN\n",
              "\n",
              "[2 rows x 17 columns]"
            ]
          },
          "metadata": {
            "tags": []
          },
          "execution_count": 30
        }
      ]
    },
    {
      "cell_type": "markdown",
      "metadata": {
        "id": "9o9fFc1g5A2k"
      },
      "source": [
        "A 'Brotherhood without Banners' e os 'Brave Companions' não servem a nenhum rei, portanto não faz sentido imputar algum dado das categorias de `attacker_king` e `defender_king` para essas batalhas. Para tratar esses valores nulos, vamos criar uma nova categoria para essas colunas que represente essa falta de rei."
      ]
    },
    {
      "cell_type": "code",
      "metadata": {
        "id": "crJSD40H5kYI"
      },
      "source": [
        "battles['attacker_king'].cat.add_categories(['None'], inplace=True)\n",
        "battles['attacker_king'].fillna('None', inplace=True)\n",
        "battles['defender_king'].cat.add_categories(['None'], inplace=True)\n",
        "battles['defender_king'].fillna('None', inplace=True)"
      ],
      "execution_count": 31,
      "outputs": []
    },
    {
      "cell_type": "code",
      "metadata": {
        "colab": {
          "base_uri": "https://localhost:8080/"
        },
        "id": "Ng6GSYv04NKe",
        "outputId": "8e8b4989-0ec3-4f06-d599-161f27c3b3b6"
      },
      "source": [
        "print('attacker_king: ', battles['attacker_king'].isnull().sum())\n",
        "print('defender_king: ', battles['defender_king'].isnull().sum())"
      ],
      "execution_count": 32,
      "outputs": [
        {
          "output_type": "stream",
          "text": [
            "attacker_king:  0\n",
            "defender_king:  0\n"
          ],
          "name": "stdout"
        }
      ]
    },
    {
      "cell_type": "markdown",
      "metadata": {
        "id": "ud-QUb34biaf"
      },
      "source": [
        "### `defender_1`"
      ]
    },
    {
      "cell_type": "code",
      "metadata": {
        "colab": {
          "base_uri": "https://localhost:8080/"
        },
        "id": "OWL0yImQ7dC2",
        "outputId": "bcab53f8-8d29-4437-8678-474b3a806112"
      },
      "source": [
        "battles['defender_1'].isnull().sum()"
      ],
      "execution_count": 33,
      "outputs": [
        {
          "output_type": "execute_result",
          "data": {
            "text/plain": [
              "1"
            ]
          },
          "metadata": {
            "tags": []
          },
          "execution_count": 33
        }
      ]
    },
    {
      "cell_type": "code",
      "metadata": {
        "colab": {
          "base_uri": "https://localhost:8080/",
          "height": 112
        },
        "id": "XdPzbDBS7hA5",
        "outputId": "cf78aa2a-b9a5-4fa6-9202-587491f3261a"
      },
      "source": [
        "battles.loc[battles['defender_1'].isnull()]"
      ],
      "execution_count": 34,
      "outputs": [
        {
          "output_type": "execute_result",
          "data": {
            "text/html": [
              "<div>\n",
              "<style scoped>\n",
              "    .dataframe tbody tr th:only-of-type {\n",
              "        vertical-align: middle;\n",
              "    }\n",
              "\n",
              "    .dataframe tbody tr th {\n",
              "        vertical-align: top;\n",
              "    }\n",
              "\n",
              "    .dataframe thead th {\n",
              "        text-align: right;\n",
              "    }\n",
              "</style>\n",
              "<table border=\"1\" class=\"dataframe\">\n",
              "  <thead>\n",
              "    <tr style=\"text-align: right;\">\n",
              "      <th></th>\n",
              "      <th>name</th>\n",
              "      <th>year</th>\n",
              "      <th>attacker_king</th>\n",
              "      <th>defender_king</th>\n",
              "      <th>attacker_1</th>\n",
              "      <th>defender_1</th>\n",
              "      <th>attacker_outcome</th>\n",
              "      <th>battle_type</th>\n",
              "      <th>major_death</th>\n",
              "      <th>major_capture</th>\n",
              "      <th>attacker_size</th>\n",
              "      <th>defender_size</th>\n",
              "      <th>summer</th>\n",
              "      <th>location</th>\n",
              "      <th>region</th>\n",
              "      <th>attacker_commander_1</th>\n",
              "      <th>defender_commander_1</th>\n",
              "    </tr>\n",
              "  </thead>\n",
              "  <tbody>\n",
              "    <tr>\n",
              "      <th>28</th>\n",
              "      <td>Sack of Saltpans</td>\n",
              "      <td>300</td>\n",
              "      <td>None</td>\n",
              "      <td>None</td>\n",
              "      <td>Brave Companions</td>\n",
              "      <td>NaN</td>\n",
              "      <td>win</td>\n",
              "      <td>razing</td>\n",
              "      <td>0.0</td>\n",
              "      <td>0.0</td>\n",
              "      <td>NaN</td>\n",
              "      <td>NaN</td>\n",
              "      <td>0</td>\n",
              "      <td>Saltpans</td>\n",
              "      <td>The Riverlands</td>\n",
              "      <td>Rorge</td>\n",
              "      <td>NaN</td>\n",
              "    </tr>\n",
              "  </tbody>\n",
              "</table>\n",
              "</div>"
            ],
            "text/plain": [
              "                name year  ... attacker_commander_1 defender_commander_1\n",
              "28  Sack of Saltpans  300  ...                Rorge                  NaN\n",
              "\n",
              "[1 rows x 17 columns]"
            ]
          },
          "metadata": {
            "tags": []
          },
          "execution_count": 34
        }
      ]
    },
    {
      "cell_type": "markdown",
      "metadata": {
        "id": "3NldahAK77jK"
      },
      "source": [
        "Essa batalha não foi direcionada a nenhum reinado específico, então vamos apenas atribuir uma nova categoria (None)."
      ]
    },
    {
      "cell_type": "code",
      "metadata": {
        "id": "Kw-If84T8OFj"
      },
      "source": [
        "battles['defender_1'].cat.add_categories(['None'], inplace=True)\n",
        "battles['defender_1'].fillna('None', inplace=True)"
      ],
      "execution_count": 35,
      "outputs": []
    },
    {
      "cell_type": "code",
      "metadata": {
        "colab": {
          "base_uri": "https://localhost:8080/"
        },
        "id": "gasToZEE7gWD",
        "outputId": "9ec96cba-2a48-4a23-e01f-bff2d0c31fa3"
      },
      "source": [
        "battles['defender_1'].isnull().sum()"
      ],
      "execution_count": 36,
      "outputs": [
        {
          "output_type": "execute_result",
          "data": {
            "text/plain": [
              "0"
            ]
          },
          "metadata": {
            "tags": []
          },
          "execution_count": 36
        }
      ]
    },
    {
      "cell_type": "markdown",
      "metadata": {
        "id": "sBjjLI1BcH3m"
      },
      "source": [
        "### `battle_type`"
      ]
    },
    {
      "cell_type": "code",
      "metadata": {
        "colab": {
          "base_uri": "https://localhost:8080/"
        },
        "id": "8yhM183K89kz",
        "outputId": "c357b487-5299-4821-8885-aa9842945c55"
      },
      "source": [
        "battles['battle_type'].isnull().sum()"
      ],
      "execution_count": 37,
      "outputs": [
        {
          "output_type": "execute_result",
          "data": {
            "text/plain": [
              "1"
            ]
          },
          "metadata": {
            "tags": []
          },
          "execution_count": 37
        }
      ]
    },
    {
      "cell_type": "code",
      "metadata": {
        "colab": {
          "base_uri": "https://localhost:8080/",
          "height": 112
        },
        "id": "_06S_xo29D_s",
        "outputId": "8fab1727-6afe-4f17-a889-660b0341332d"
      },
      "source": [
        "battles.loc[battles['battle_type'].isnull()]"
      ],
      "execution_count": 38,
      "outputs": [
        {
          "output_type": "execute_result",
          "data": {
            "text/html": [
              "<div>\n",
              "<style scoped>\n",
              "    .dataframe tbody tr th:only-of-type {\n",
              "        vertical-align: middle;\n",
              "    }\n",
              "\n",
              "    .dataframe tbody tr th {\n",
              "        vertical-align: top;\n",
              "    }\n",
              "\n",
              "    .dataframe thead th {\n",
              "        text-align: right;\n",
              "    }\n",
              "</style>\n",
              "<table border=\"1\" class=\"dataframe\">\n",
              "  <thead>\n",
              "    <tr style=\"text-align: right;\">\n",
              "      <th></th>\n",
              "      <th>name</th>\n",
              "      <th>year</th>\n",
              "      <th>attacker_king</th>\n",
              "      <th>defender_king</th>\n",
              "      <th>attacker_1</th>\n",
              "      <th>defender_1</th>\n",
              "      <th>attacker_outcome</th>\n",
              "      <th>battle_type</th>\n",
              "      <th>major_death</th>\n",
              "      <th>major_capture</th>\n",
              "      <th>attacker_size</th>\n",
              "      <th>defender_size</th>\n",
              "      <th>summer</th>\n",
              "      <th>location</th>\n",
              "      <th>region</th>\n",
              "      <th>attacker_commander_1</th>\n",
              "      <th>defender_commander_1</th>\n",
              "    </tr>\n",
              "  </thead>\n",
              "  <tbody>\n",
              "    <tr>\n",
              "      <th>36</th>\n",
              "      <td>Siege of Winterfell</td>\n",
              "      <td>300</td>\n",
              "      <td>Stannis Baratheon</td>\n",
              "      <td>Joffrey/Tommen Baratheon</td>\n",
              "      <td>Baratheon</td>\n",
              "      <td>Bolton</td>\n",
              "      <td>NaN</td>\n",
              "      <td>NaN</td>\n",
              "      <td>NaN</td>\n",
              "      <td>NaN</td>\n",
              "      <td>5000.0</td>\n",
              "      <td>8000.0</td>\n",
              "      <td>0</td>\n",
              "      <td>Winterfell</td>\n",
              "      <td>The North</td>\n",
              "      <td>Stannis Baratheon</td>\n",
              "      <td>Roose Bolton</td>\n",
              "    </tr>\n",
              "  </tbody>\n",
              "</table>\n",
              "</div>"
            ],
            "text/plain": [
              "                   name year  ... attacker_commander_1 defender_commander_1\n",
              "36  Siege of Winterfell  300  ...    Stannis Baratheon         Roose Bolton\n",
              "\n",
              "[1 rows x 17 columns]"
            ]
          },
          "metadata": {
            "tags": []
          },
          "execution_count": 38
        }
      ]
    },
    {
      "cell_type": "code",
      "metadata": {
        "colab": {
          "base_uri": "https://localhost:8080/"
        },
        "id": "eu5XqWrmBMl7",
        "outputId": "e231b25a-6b86-4fba-8d1f-2450433bf82d"
      },
      "source": [
        "battles['battle_type'].cat.categories.tolist()"
      ],
      "execution_count": 39,
      "outputs": [
        {
          "output_type": "execute_result",
          "data": {
            "text/plain": [
              "['ambush', 'pitched battle', 'razing', 'siege']"
            ]
          },
          "metadata": {
            "tags": []
          },
          "execution_count": 39
        }
      ]
    },
    {
      "cell_type": "markdown",
      "metadata": {
        "id": "3IQ1j3u7BL9X"
      },
      "source": [
        "Pelo nome da batalha podemos ver que se trata de um cerco (*siege*). E esse é um tipo de batalha que já existe nas categorias, então vamos usar esse valor."
      ]
    },
    {
      "cell_type": "code",
      "metadata": {
        "id": "fWFgrsXxCUOB"
      },
      "source": [
        "battles['battle_type'].fillna('siege', inplace=True)"
      ],
      "execution_count": 40,
      "outputs": []
    },
    {
      "cell_type": "code",
      "metadata": {
        "colab": {
          "base_uri": "https://localhost:8080/"
        },
        "id": "q0YNtoCd8_A2",
        "outputId": "49e16962-de5b-4968-e630-5acdca5ff4e7"
      },
      "source": [
        "battles['battle_type'].isnull().sum()"
      ],
      "execution_count": 41,
      "outputs": [
        {
          "output_type": "execute_result",
          "data": {
            "text/plain": [
              "0"
            ]
          },
          "metadata": {
            "tags": []
          },
          "execution_count": 41
        }
      ]
    },
    {
      "cell_type": "markdown",
      "metadata": {
        "id": "W45w49oScSBy"
      },
      "source": [
        "### Valores booleanos com apenas uma linha nula (`attacker_outcome`, `major_death` e  `major_capture`)"
      ]
    },
    {
      "cell_type": "code",
      "metadata": {
        "colab": {
          "base_uri": "https://localhost:8080/"
        },
        "id": "5lGBx2YqAPQi",
        "outputId": "c7746955-6808-4c44-c1c0-6ad75cdf2235"
      },
      "source": [
        "print('attacker_outcome: ', battles['attacker_outcome'].isnull().sum())\n",
        "print('major_death: ', battles['major_death'].isnull().sum())\n",
        "print('major_capture: ', battles['major_capture'].isnull().sum())"
      ],
      "execution_count": 42,
      "outputs": [
        {
          "output_type": "stream",
          "text": [
            "attacker_outcome:  1\n",
            "major_death:  1\n",
            "major_capture:  1\n"
          ],
          "name": "stdout"
        }
      ]
    },
    {
      "cell_type": "code",
      "metadata": {
        "colab": {
          "base_uri": "https://localhost:8080/",
          "height": 112
        },
        "id": "PzKK19c0C5cR",
        "outputId": "ffc8fca0-4afe-4f89-8aa8-6cb61ad829e1"
      },
      "source": [
        "battles.loc[battles['attacker_outcome'].isnull() | battles['major_death'].isnull() | battles['major_capture'].isnull()]"
      ],
      "execution_count": 43,
      "outputs": [
        {
          "output_type": "execute_result",
          "data": {
            "text/html": [
              "<div>\n",
              "<style scoped>\n",
              "    .dataframe tbody tr th:only-of-type {\n",
              "        vertical-align: middle;\n",
              "    }\n",
              "\n",
              "    .dataframe tbody tr th {\n",
              "        vertical-align: top;\n",
              "    }\n",
              "\n",
              "    .dataframe thead th {\n",
              "        text-align: right;\n",
              "    }\n",
              "</style>\n",
              "<table border=\"1\" class=\"dataframe\">\n",
              "  <thead>\n",
              "    <tr style=\"text-align: right;\">\n",
              "      <th></th>\n",
              "      <th>name</th>\n",
              "      <th>year</th>\n",
              "      <th>attacker_king</th>\n",
              "      <th>defender_king</th>\n",
              "      <th>attacker_1</th>\n",
              "      <th>defender_1</th>\n",
              "      <th>attacker_outcome</th>\n",
              "      <th>battle_type</th>\n",
              "      <th>major_death</th>\n",
              "      <th>major_capture</th>\n",
              "      <th>attacker_size</th>\n",
              "      <th>defender_size</th>\n",
              "      <th>summer</th>\n",
              "      <th>location</th>\n",
              "      <th>region</th>\n",
              "      <th>attacker_commander_1</th>\n",
              "      <th>defender_commander_1</th>\n",
              "    </tr>\n",
              "  </thead>\n",
              "  <tbody>\n",
              "    <tr>\n",
              "      <th>36</th>\n",
              "      <td>Siege of Winterfell</td>\n",
              "      <td>300</td>\n",
              "      <td>Stannis Baratheon</td>\n",
              "      <td>Joffrey/Tommen Baratheon</td>\n",
              "      <td>Baratheon</td>\n",
              "      <td>Bolton</td>\n",
              "      <td>NaN</td>\n",
              "      <td>siege</td>\n",
              "      <td>NaN</td>\n",
              "      <td>NaN</td>\n",
              "      <td>5000.0</td>\n",
              "      <td>8000.0</td>\n",
              "      <td>0</td>\n",
              "      <td>Winterfell</td>\n",
              "      <td>The North</td>\n",
              "      <td>Stannis Baratheon</td>\n",
              "      <td>Roose Bolton</td>\n",
              "    </tr>\n",
              "  </tbody>\n",
              "</table>\n",
              "</div>"
            ],
            "text/plain": [
              "                   name year  ... attacker_commander_1 defender_commander_1\n",
              "36  Siege of Winterfell  300  ...    Stannis Baratheon         Roose Bolton\n",
              "\n",
              "[1 rows x 17 columns]"
            ]
          },
          "metadata": {
            "tags": []
          },
          "execution_count": 43
        }
      ]
    },
    {
      "cell_type": "code",
      "metadata": {
        "id": "KCrFU1AP-NvS"
      },
      "source": [
        "battles['attacker_outcome'] = battles['attacker_outcome'].cat.codes\n",
        "battles['major_death'] = battles['major_death'].cat.codes\n",
        "battles['major_capture'] = battles['major_capture'].cat.codes"
      ],
      "execution_count": 44,
      "outputs": []
    },
    {
      "cell_type": "markdown",
      "metadata": {
        "id": "Rgo8jwfU_dUn"
      },
      "source": [
        "Para valores booleanos, vamos imputar ou 0 ou 1."
      ]
    },
    {
      "cell_type": "code",
      "metadata": {
        "colab": {
          "base_uri": "https://localhost:8080/"
        },
        "id": "HW0SL4ULGHNW",
        "outputId": "550f3827-31b0-4e41-a56c-a32585fe7cde"
      },
      "source": [
        "# 'attacker_outcome' = 0\n",
        "battles2 = battles.copy()\n",
        "mean_before =  battles2['attacker_outcome'].mean()\n",
        "median_before = battles2['attacker_outcome'].median()\n",
        "mode = battles2['attacker_outcome'].mode()\n",
        "\n",
        "battles2.loc[battles2['attacker_outcome'] == -1, ['attacker_outcome']] = 0\n",
        "\n",
        "mean_after =  battles2['attacker_outcome'].mean()\n",
        "median_after = battles2['attacker_outcome'].median()\n",
        "print('mean: ', mean_before, ' -> ', mean_after)\n",
        "print('median: ', median_before, ' -> ', median_after)\n",
        "print('mode: ', mode)"
      ],
      "execution_count": 45,
      "outputs": [
        {
          "output_type": "stream",
          "text": [
            "mean:  0.8108108108108109  ->  0.8378378378378378\n",
            "median:  1.0  ->  1.0\n",
            "mode:  0    1\n",
            "dtype: int8\n"
          ],
          "name": "stdout"
        }
      ]
    },
    {
      "cell_type": "code",
      "metadata": {
        "colab": {
          "base_uri": "https://localhost:8080/"
        },
        "id": "8p38d3JpGMX3",
        "outputId": "340b27f5-6883-4dfb-f07c-249e0c785693"
      },
      "source": [
        "# 'attacker_outcome' = 1\n",
        "battles3 = battles.copy()\n",
        "mean_before =  battles3['attacker_outcome'].mean()\n",
        "median_before = battles3['attacker_outcome'].median()\n",
        "mode = battles3['attacker_outcome'].mode()\n",
        "\n",
        "battles3.loc[battles3['attacker_outcome'] == -1, ['attacker_outcome']] = 1\n",
        "\n",
        "mean_after =  battles3['attacker_outcome'].mean()\n",
        "median_after = battles3['attacker_outcome'].median()\n",
        "print('mean: ', mean_before, ' -> ', mean_after)\n",
        "print('median: ', median_before, ' -> ', median_after)\n",
        "print('mode: ', mode)"
      ],
      "execution_count": 46,
      "outputs": [
        {
          "output_type": "stream",
          "text": [
            "mean:  0.8108108108108109  ->  0.8648648648648649\n",
            "median:  1.0  ->  1.0\n",
            "mode:  0    1\n",
            "dtype: int8\n"
          ],
          "name": "stdout"
        }
      ]
    },
    {
      "cell_type": "markdown",
      "metadata": {
        "id": "1kDJ2sJgGTqh"
      },
      "source": [
        "Para `attacker_outcome`, o valor que mudou menos o valor da média foi 0, então vamos usá-lo."
      ]
    },
    {
      "cell_type": "code",
      "metadata": {
        "id": "1oo8MlbLGXO_"
      },
      "source": [
        "battles = battles2"
      ],
      "execution_count": 47,
      "outputs": []
    },
    {
      "cell_type": "code",
      "metadata": {
        "colab": {
          "base_uri": "https://localhost:8080/"
        },
        "id": "EsUIN0mkiRiE",
        "outputId": "13e4fb17-8312-4244-ff60-84d37d835332"
      },
      "source": [
        "# 'major_death' = 0\n",
        "battles2 = battles.copy()\n",
        "mean_before =  battles2['major_death'].mean()\n",
        "median_before = battles2['major_death'].median()\n",
        "mode = battles2['major_death'].mode()\n",
        "\n",
        "battles2.loc[battles2['major_death'] == -1, ['major_death']] = 0\n",
        "\n",
        "mean_after =  battles2['major_death'].mean()\n",
        "median_after = battles2['major_death'].median()\n",
        "print('mean: ', mean_before, ' -> ', mean_after)\n",
        "print('median: ', median_before, ' -> ', median_after)\n",
        "print('mode: ', mode)"
      ],
      "execution_count": 48,
      "outputs": [
        {
          "output_type": "stream",
          "text": [
            "mean:  0.32432432432432434  ->  0.35135135135135137\n",
            "median:  0.0  ->  0.0\n",
            "mode:  0    0\n",
            "dtype: int8\n"
          ],
          "name": "stdout"
        }
      ]
    },
    {
      "cell_type": "code",
      "metadata": {
        "colab": {
          "base_uri": "https://localhost:8080/"
        },
        "id": "J_aiO2nE-KQn",
        "outputId": "7e38556a-82e7-4613-9f4d-44e7d82f6dc6"
      },
      "source": [
        "# 'major_death' = 1\n",
        "battles3 = battles.copy()\n",
        "mean_before =  battles3['major_death'].mean()\n",
        "median_before = battles3['major_death'].median()\n",
        "mode = battles3['major_death'].mode()\n",
        "\n",
        "battles3.loc[battles3['major_death'] == -1, ['major_death']] = 1\n",
        "\n",
        "mean_after =  battles3['major_death'].mean()\n",
        "median_after = battles3['major_death'].median()\n",
        "print('mean: ', mean_before, ' -> ', mean_after)\n",
        "print('median: ', median_before, ' -> ', median_after)\n",
        "print('mode: ', mode)"
      ],
      "execution_count": 49,
      "outputs": [
        {
          "output_type": "stream",
          "text": [
            "mean:  0.32432432432432434  ->  0.3783783783783784\n",
            "median:  0.0  ->  0.0\n",
            "mode:  0    0\n",
            "dtype: int8\n"
          ],
          "name": "stdout"
        }
      ]
    },
    {
      "cell_type": "markdown",
      "metadata": {
        "id": "2R0DpPQ0Ed--"
      },
      "source": [
        "Para `major_death`, o valor que mudou menos o valor da média também foi 0."
      ]
    },
    {
      "cell_type": "code",
      "metadata": {
        "id": "xemlV3YMErKY"
      },
      "source": [
        "battles = battles2"
      ],
      "execution_count": 50,
      "outputs": []
    },
    {
      "cell_type": "code",
      "metadata": {
        "colab": {
          "base_uri": "https://localhost:8080/"
        },
        "id": "IXdwCYxwFVVK",
        "outputId": "201f51d5-563d-43b7-9d66-685d08154de8"
      },
      "source": [
        "# 'major_capture' = 0\n",
        "battles2 = battles.copy()\n",
        "mean_before =  battles2['major_capture'].mean()\n",
        "median_before = battles2['major_capture'].median()\n",
        "mode = battles2['major_capture'].mode()\n",
        "\n",
        "battles2.loc[battles2['major_capture'] == -1, ['major_capture']] = 0\n",
        "\n",
        "mean_after =  battles2['major_capture'].mean()\n",
        "median_after = battles2['major_capture'].median()\n",
        "print('mean: ', mean_before, ' -> ', mean_after)\n",
        "print('median: ', median_before, ' -> ', median_after)\n",
        "print('mode: ', mode)"
      ],
      "execution_count": 51,
      "outputs": [
        {
          "output_type": "stream",
          "text": [
            "mean:  0.2702702702702703  ->  0.2972972972972973\n",
            "median:  0.0  ->  0.0\n",
            "mode:  0    0\n",
            "dtype: int8\n"
          ],
          "name": "stdout"
        }
      ]
    },
    {
      "cell_type": "code",
      "metadata": {
        "colab": {
          "base_uri": "https://localhost:8080/"
        },
        "id": "igaiQaaLFv5c",
        "outputId": "5cc39cb7-ef89-445d-ad4b-b1857d6c7489"
      },
      "source": [
        "# 'major_capture' = 1\n",
        "battles3 = battles.copy()\n",
        "mean_before =  battles3['major_capture'].mean()\n",
        "median_before = battles3['major_capture'].median()\n",
        "mode = battles3['major_capture'].mode()\n",
        "\n",
        "battles3.loc[battles3['major_capture'] == -1, ['major_capture']] = 1\n",
        "\n",
        "mean_after =  battles3['major_capture'].mean()\n",
        "median_after = battles3['major_capture'].median()\n",
        "print('mean: ', mean_before, ' -> ', mean_after)\n",
        "print('median: ', median_before, ' -> ', median_after)\n",
        "print('mode: ', mode)"
      ],
      "execution_count": 52,
      "outputs": [
        {
          "output_type": "stream",
          "text": [
            "mean:  0.2702702702702703  ->  0.32432432432432434\n",
            "median:  0.0  ->  0.0\n",
            "mode:  0    0\n",
            "dtype: int8\n"
          ],
          "name": "stdout"
        }
      ]
    },
    {
      "cell_type": "markdown",
      "metadata": {
        "id": "9ZI_F4O5F49y"
      },
      "source": [
        "Mais uma vez, o valor que mudou menos o valor da média para `major_capture` foi 0."
      ]
    },
    {
      "cell_type": "code",
      "metadata": {
        "id": "gaucdDwVF4Q6"
      },
      "source": [
        "battles = battles2"
      ],
      "execution_count": 53,
      "outputs": []
    },
    {
      "cell_type": "code",
      "metadata": {
        "colab": {
          "base_uri": "https://localhost:8080/"
        },
        "id": "szrUL1LkFVp1",
        "outputId": "b082e450-74b6-4083-b913-e652fbcff64d"
      },
      "source": [
        "print('attacker_outcome: ', battles['attacker_outcome'].isnull().sum())\n",
        "print('major_death: ', battles['major_death'].isnull().sum())\n",
        "print('major_capture: ', battles['major_capture'].isnull().sum())"
      ],
      "execution_count": 54,
      "outputs": [
        {
          "output_type": "stream",
          "text": [
            "attacker_outcome:  0\n",
            "major_death:  0\n",
            "major_capture:  0\n"
          ],
          "name": "stdout"
        }
      ]
    },
    {
      "cell_type": "markdown",
      "metadata": {
        "id": "iTq7Dw9aGsk_"
      },
      "source": [
        "### `defender_commander_1`"
      ]
    },
    {
      "cell_type": "code",
      "metadata": {
        "colab": {
          "base_uri": "https://localhost:8080/"
        },
        "id": "uVYRORSjG77j",
        "outputId": "715dc8a6-f0da-4e4b-89c2-5d53383a7056"
      },
      "source": [
        "battles['defender_commander_1'].isnull().sum()"
      ],
      "execution_count": 55,
      "outputs": [
        {
          "output_type": "execute_result",
          "data": {
            "text/plain": [
              "9"
            ]
          },
          "metadata": {
            "tags": []
          },
          "execution_count": 55
        }
      ]
    },
    {
      "cell_type": "code",
      "metadata": {
        "colab": {
          "base_uri": "https://localhost:8080/",
          "height": 586
        },
        "id": "HJ4VYL5wItX4",
        "outputId": "03142871-98cd-4fce-cd31-f413e76e1ee1"
      },
      "source": [
        "battles.loc[battles['defender_commander_1'].isnull()]"
      ],
      "execution_count": 56,
      "outputs": [
        {
          "output_type": "execute_result",
          "data": {
            "text/html": [
              "<div>\n",
              "<style scoped>\n",
              "    .dataframe tbody tr th:only-of-type {\n",
              "        vertical-align: middle;\n",
              "    }\n",
              "\n",
              "    .dataframe tbody tr th {\n",
              "        vertical-align: top;\n",
              "    }\n",
              "\n",
              "    .dataframe thead th {\n",
              "        text-align: right;\n",
              "    }\n",
              "</style>\n",
              "<table border=\"1\" class=\"dataframe\">\n",
              "  <thead>\n",
              "    <tr style=\"text-align: right;\">\n",
              "      <th></th>\n",
              "      <th>name</th>\n",
              "      <th>year</th>\n",
              "      <th>attacker_king</th>\n",
              "      <th>defender_king</th>\n",
              "      <th>attacker_1</th>\n",
              "      <th>defender_1</th>\n",
              "      <th>attacker_outcome</th>\n",
              "      <th>battle_type</th>\n",
              "      <th>major_death</th>\n",
              "      <th>major_capture</th>\n",
              "      <th>attacker_size</th>\n",
              "      <th>defender_size</th>\n",
              "      <th>summer</th>\n",
              "      <th>location</th>\n",
              "      <th>region</th>\n",
              "      <th>attacker_commander_1</th>\n",
              "      <th>defender_commander_1</th>\n",
              "    </tr>\n",
              "  </thead>\n",
              "  <tbody>\n",
              "    <tr>\n",
              "      <th>7</th>\n",
              "      <td>Battle of Moat Cailin</td>\n",
              "      <td>299</td>\n",
              "      <td>Balon/Euron Greyjoy</td>\n",
              "      <td>Robb Stark</td>\n",
              "      <td>Greyjoy</td>\n",
              "      <td>Stark</td>\n",
              "      <td>1</td>\n",
              "      <td>pitched battle</td>\n",
              "      <td>0</td>\n",
              "      <td>0</td>\n",
              "      <td>NaN</td>\n",
              "      <td>NaN</td>\n",
              "      <td>1</td>\n",
              "      <td>Moat Cailin</td>\n",
              "      <td>The North</td>\n",
              "      <td>Victarion Greyjoy</td>\n",
              "      <td>NaN</td>\n",
              "    </tr>\n",
              "    <tr>\n",
              "      <th>8</th>\n",
              "      <td>Battle of Deepwood Motte</td>\n",
              "      <td>299</td>\n",
              "      <td>Balon/Euron Greyjoy</td>\n",
              "      <td>Robb Stark</td>\n",
              "      <td>Greyjoy</td>\n",
              "      <td>Stark</td>\n",
              "      <td>1</td>\n",
              "      <td>siege</td>\n",
              "      <td>0</td>\n",
              "      <td>0</td>\n",
              "      <td>1000.0</td>\n",
              "      <td>NaN</td>\n",
              "      <td>1</td>\n",
              "      <td>Deepwood Motte</td>\n",
              "      <td>The North</td>\n",
              "      <td>Asha Greyjoy</td>\n",
              "      <td>NaN</td>\n",
              "    </tr>\n",
              "    <tr>\n",
              "      <th>9</th>\n",
              "      <td>Battle of the Stony Shore</td>\n",
              "      <td>299</td>\n",
              "      <td>Balon/Euron Greyjoy</td>\n",
              "      <td>Robb Stark</td>\n",
              "      <td>Greyjoy</td>\n",
              "      <td>Stark</td>\n",
              "      <td>1</td>\n",
              "      <td>ambush</td>\n",
              "      <td>0</td>\n",
              "      <td>0</td>\n",
              "      <td>264.0</td>\n",
              "      <td>NaN</td>\n",
              "      <td>1</td>\n",
              "      <td>Stony Shore</td>\n",
              "      <td>The North</td>\n",
              "      <td>Theon Greyjoy</td>\n",
              "      <td>NaN</td>\n",
              "    </tr>\n",
              "    <tr>\n",
              "      <th>12</th>\n",
              "      <td>Sack of Torrhen's Square</td>\n",
              "      <td>299</td>\n",
              "      <td>Balon/Euron Greyjoy</td>\n",
              "      <td>Balon/Euron Greyjoy</td>\n",
              "      <td>Greyjoy</td>\n",
              "      <td>Stark</td>\n",
              "      <td>1</td>\n",
              "      <td>siege</td>\n",
              "      <td>0</td>\n",
              "      <td>1</td>\n",
              "      <td>NaN</td>\n",
              "      <td>NaN</td>\n",
              "      <td>1</td>\n",
              "      <td>Torrhen's Square</td>\n",
              "      <td>The North</td>\n",
              "      <td>Dagmer Cleftjaw</td>\n",
              "      <td>NaN</td>\n",
              "    </tr>\n",
              "    <tr>\n",
              "      <th>20</th>\n",
              "      <td>Siege of Darry</td>\n",
              "      <td>299</td>\n",
              "      <td>Robb Stark</td>\n",
              "      <td>Joffrey/Tommen Baratheon</td>\n",
              "      <td>Darry</td>\n",
              "      <td>Lannister</td>\n",
              "      <td>1</td>\n",
              "      <td>siege</td>\n",
              "      <td>0</td>\n",
              "      <td>0</td>\n",
              "      <td>NaN</td>\n",
              "      <td>NaN</td>\n",
              "      <td>1</td>\n",
              "      <td>Darry</td>\n",
              "      <td>The Riverlands</td>\n",
              "      <td>Helman Tallhart</td>\n",
              "      <td>NaN</td>\n",
              "    </tr>\n",
              "    <tr>\n",
              "      <th>27</th>\n",
              "      <td>Fall of Moat Cailin</td>\n",
              "      <td>300</td>\n",
              "      <td>Joffrey/Tommen Baratheon</td>\n",
              "      <td>Balon/Euron Greyjoy</td>\n",
              "      <td>Bolton</td>\n",
              "      <td>Greyjoy</td>\n",
              "      <td>1</td>\n",
              "      <td>siege</td>\n",
              "      <td>0</td>\n",
              "      <td>0</td>\n",
              "      <td>NaN</td>\n",
              "      <td>NaN</td>\n",
              "      <td>0</td>\n",
              "      <td>Moat Cailin</td>\n",
              "      <td>The North</td>\n",
              "      <td>Ramsey Bolton</td>\n",
              "      <td>NaN</td>\n",
              "    </tr>\n",
              "    <tr>\n",
              "      <th>28</th>\n",
              "      <td>Sack of Saltpans</td>\n",
              "      <td>300</td>\n",
              "      <td>None</td>\n",
              "      <td>None</td>\n",
              "      <td>Brave Companions</td>\n",
              "      <td>None</td>\n",
              "      <td>1</td>\n",
              "      <td>razing</td>\n",
              "      <td>0</td>\n",
              "      <td>0</td>\n",
              "      <td>NaN</td>\n",
              "      <td>NaN</td>\n",
              "      <td>0</td>\n",
              "      <td>Saltpans</td>\n",
              "      <td>The Riverlands</td>\n",
              "      <td>Rorge</td>\n",
              "      <td>NaN</td>\n",
              "    </tr>\n",
              "    <tr>\n",
              "      <th>30</th>\n",
              "      <td>Battle of the Shield Islands</td>\n",
              "      <td>300</td>\n",
              "      <td>Balon/Euron Greyjoy</td>\n",
              "      <td>Joffrey/Tommen Baratheon</td>\n",
              "      <td>Greyjoy</td>\n",
              "      <td>Tyrell</td>\n",
              "      <td>1</td>\n",
              "      <td>pitched battle</td>\n",
              "      <td>0</td>\n",
              "      <td>0</td>\n",
              "      <td>NaN</td>\n",
              "      <td>NaN</td>\n",
              "      <td>0</td>\n",
              "      <td>Shield Islands</td>\n",
              "      <td>The Reach</td>\n",
              "      <td>Euron Greyjoy</td>\n",
              "      <td>NaN</td>\n",
              "    </tr>\n",
              "    <tr>\n",
              "      <th>31</th>\n",
              "      <td>Invasion of Ryamsport, Vinetown, and Starfish ...</td>\n",
              "      <td>300</td>\n",
              "      <td>Balon/Euron Greyjoy</td>\n",
              "      <td>Joffrey/Tommen Baratheon</td>\n",
              "      <td>Greyjoy</td>\n",
              "      <td>Tyrell</td>\n",
              "      <td>1</td>\n",
              "      <td>razing</td>\n",
              "      <td>0</td>\n",
              "      <td>0</td>\n",
              "      <td>NaN</td>\n",
              "      <td>NaN</td>\n",
              "      <td>0</td>\n",
              "      <td>Ryamsport, Vinetown, Starfish Harbor</td>\n",
              "      <td>The Reach</td>\n",
              "      <td>Euron Greyjoy</td>\n",
              "      <td>NaN</td>\n",
              "    </tr>\n",
              "  </tbody>\n",
              "</table>\n",
              "</div>"
            ],
            "text/plain": [
              "                                                 name  ... defender_commander_1\n",
              "7                               Battle of Moat Cailin  ...                  NaN\n",
              "8                            Battle of Deepwood Motte  ...                  NaN\n",
              "9                           Battle of the Stony Shore  ...                  NaN\n",
              "12                           Sack of Torrhen's Square  ...                  NaN\n",
              "20                                     Siege of Darry  ...                  NaN\n",
              "27                                Fall of Moat Cailin  ...                  NaN\n",
              "28                                   Sack of Saltpans  ...                  NaN\n",
              "30                       Battle of the Shield Islands  ...                  NaN\n",
              "31  Invasion of Ryamsport, Vinetown, and Starfish ...  ...                  NaN\n",
              "\n",
              "[9 rows x 17 columns]"
            ]
          },
          "metadata": {
            "tags": []
          },
          "execution_count": 56
        }
      ]
    },
    {
      "cell_type": "markdown",
      "metadata": {
        "id": "GbHVNUnrG5W3"
      },
      "source": [
        "Assim como para `attacker_king`, `defender_king` e `defender_1` vamos adicionar uma nova categoria aqui para representar os dados ausentes."
      ]
    },
    {
      "cell_type": "code",
      "metadata": {
        "id": "VVv74W-9JLQ0"
      },
      "source": [
        "battles['defender_commander_1'].cat.add_categories(['Unknown'], inplace=True)\n",
        "battles['defender_commander_1'].fillna('Unknown', inplace=True)"
      ],
      "execution_count": 57,
      "outputs": []
    },
    {
      "cell_type": "code",
      "metadata": {
        "colab": {
          "base_uri": "https://localhost:8080/"
        },
        "id": "gLinV1fxG-68",
        "outputId": "f4567a66-9b7b-455d-a26c-fc0238446399"
      },
      "source": [
        "battles['defender_commander_1'].isnull().sum()"
      ],
      "execution_count": 58,
      "outputs": [
        {
          "output_type": "execute_result",
          "data": {
            "text/plain": [
              "0"
            ]
          },
          "metadata": {
            "tags": []
          },
          "execution_count": 58
        }
      ]
    },
    {
      "cell_type": "markdown",
      "metadata": {
        "id": "xfBjQPN5ceUt"
      },
      "source": [
        "### `attacker_size` e `defender_size`\n",
        "\n",
        "\n"
      ]
    },
    {
      "cell_type": "code",
      "metadata": {
        "colab": {
          "base_uri": "https://localhost:8080/"
        },
        "id": "-VCq6fnzdPlg",
        "outputId": "bc3768f1-7b49-4d6f-aa5f-39245893b856"
      },
      "source": [
        "print('attacker_size: ', battles['attacker_size'].isnull().sum())\n",
        "print('defender_size: ', battles['defender_size'].isnull().sum())"
      ],
      "execution_count": 59,
      "outputs": [
        {
          "output_type": "stream",
          "text": [
            "attacker_size:  13\n",
            "defender_size:  18\n"
          ],
          "name": "stdout"
        }
      ]
    },
    {
      "cell_type": "markdown",
      "metadata": {
        "id": "3_8vLbHLdXTM"
      },
      "source": [
        "Como essas colunas possuem um volume maior de dados ausentes e são dados numéricos, vamos utilizar o algoritmo de *K Nearest Neighbors* (KNN). Mas antes de utilizar esse algoritmo tem algums ajustes que precisamos fazer.\n",
        "\n",
        "O algoritmo calcula a distância entre as instâncias, então precisamos de dados numéricos. Para atingir esse objetivo, vamos utilizar os códigos dos dados categóricos."
      ]
    },
    {
      "cell_type": "code",
      "metadata": {
        "id": "qLclv58RRdR4"
      },
      "source": [
        "battles_codes = battles.copy()"
      ],
      "execution_count": 60,
      "outputs": []
    },
    {
      "cell_type": "code",
      "metadata": {
        "colab": {
          "base_uri": "https://localhost:8080/"
        },
        "id": "ClkMG5inN4VZ",
        "outputId": "56e6e6c8-2a74-45cc-ffb9-1bafa802d8e1"
      },
      "source": [
        "battles_codes.dtypes"
      ],
      "execution_count": 61,
      "outputs": [
        {
          "output_type": "execute_result",
          "data": {
            "text/plain": [
              "name                    category\n",
              "year                    category\n",
              "attacker_king           category\n",
              "defender_king           category\n",
              "attacker_1              category\n",
              "defender_1              category\n",
              "attacker_outcome            int8\n",
              "battle_type             category\n",
              "major_death                 int8\n",
              "major_capture               int8\n",
              "attacker_size            float64\n",
              "defender_size            float64\n",
              "summer                      int8\n",
              "location                category\n",
              "region                  category\n",
              "attacker_commander_1    category\n",
              "defender_commander_1    category\n",
              "dtype: object"
            ]
          },
          "metadata": {
            "tags": []
          },
          "execution_count": 61
        }
      ]
    },
    {
      "cell_type": "code",
      "metadata": {
        "colab": {
          "base_uri": "https://localhost:8080/"
        },
        "id": "6dhEMV91QieT",
        "outputId": "ab3e32e8-750a-44ee-8882-df2650a59535"
      },
      "source": [
        "battles_codes['name'] = battles_codes['name'].cat.codes\n",
        "battles_codes['year'] = battles_codes['year'].cat.codes\n",
        "battles_codes['attacker_king'] = battles_codes['attacker_king'].cat.codes\n",
        "battles_codes['defender_king'] = battles_codes['defender_king'].cat.codes\n",
        "battles_codes['attacker_1'] = battles_codes['attacker_1'].cat.codes\n",
        "battles_codes['defender_1'] = battles_codes['defender_1'].cat.codes\n",
        "battles_codes['battle_type'] = battles_codes['battle_type'].cat.codes\n",
        "battles_codes['location'] = battles_codes['location'].cat.codes\n",
        "battles_codes['region'] = battles_codes['region'].cat.codes\n",
        "battles_codes['attacker_commander_1'] = battles_codes['attacker_commander_1'].cat.codes\n",
        "battles_codes['defender_commander_1'] = battles_codes['defender_commander_1'].cat.codes\n",
        "\n",
        "battles_codes.dtypes"
      ],
      "execution_count": 62,
      "outputs": [
        {
          "output_type": "execute_result",
          "data": {
            "text/plain": [
              "name                       int8\n",
              "year                       int8\n",
              "attacker_king              int8\n",
              "defender_king              int8\n",
              "attacker_1                 int8\n",
              "defender_1                 int8\n",
              "attacker_outcome           int8\n",
              "battle_type                int8\n",
              "major_death                int8\n",
              "major_capture              int8\n",
              "attacker_size           float64\n",
              "defender_size           float64\n",
              "summer                     int8\n",
              "location                   int8\n",
              "region                     int8\n",
              "attacker_commander_1       int8\n",
              "defender_commander_1       int8\n",
              "dtype: object"
            ]
          },
          "metadata": {
            "tags": []
          },
          "execution_count": 62
        }
      ]
    },
    {
      "cell_type": "markdown",
      "metadata": {
        "id": "iHFguFnFVAWo"
      },
      "source": [
        "O outro ajuste necessário é a **normalização** desses valores, porque a documentação da função que vamos utilzar diz \"*Assumes that each feature has been centered and rescaled to have mean 0 and variance 1.*\" Esse tipo de normalização pode ser feita utilizando o `StandardScaler` do *sklearn*."
      ]
    },
    {
      "cell_type": "code",
      "metadata": {
        "id": "mBM41pljU5H9"
      },
      "source": [
        "from sklearn.preprocessing import StandardScaler\n",
        "scaler = StandardScaler()\n",
        "scaled_battles_codes = scaler.fit_transform(battles_codes)"
      ],
      "execution_count": 63,
      "outputs": []
    },
    {
      "cell_type": "markdown",
      "metadata": {
        "id": "EJiLg06ZVPEd"
      },
      "source": [
        "Agora podemos aplicar o algoritmo"
      ]
    },
    {
      "cell_type": "code",
      "metadata": {
        "colab": {
          "base_uri": "https://localhost:8080/"
        },
        "id": "xb6MwPvdMe_2",
        "outputId": "dcf93396-c420-4ce2-8618-0863d6a2932f"
      },
      "source": [
        "from fancyimpute import KNN\n",
        "battles_knn = KNN(k=3).fit_transform(scaled_battles_codes)"
      ],
      "execution_count": 64,
      "outputs": [
        {
          "output_type": "stream",
          "text": [
            "Imputing row 1/37 with 0 missing, elapsed time: 0.001\n"
          ],
          "name": "stdout"
        }
      ]
    },
    {
      "cell_type": "code",
      "metadata": {
        "colab": {
          "base_uri": "https://localhost:8080/",
          "height": 211
        },
        "id": "gFiBUJhzSYjf",
        "outputId": "240dcc79-155e-4d54-811f-b882ed27b1ac"
      },
      "source": [
        "scaled_battles_codes_non_null = pd.DataFrame(data=battles_knn[0:,0:], columns=battles.columns)\n",
        "scaled_battles_codes_non_null.head()"
      ],
      "execution_count": 65,
      "outputs": [
        {
          "output_type": "execute_result",
          "data": {
            "text/html": [
              "<div>\n",
              "<style scoped>\n",
              "    .dataframe tbody tr th:only-of-type {\n",
              "        vertical-align: middle;\n",
              "    }\n",
              "\n",
              "    .dataframe tbody tr th {\n",
              "        vertical-align: top;\n",
              "    }\n",
              "\n",
              "    .dataframe thead th {\n",
              "        text-align: right;\n",
              "    }\n",
              "</style>\n",
              "<table border=\"1\" class=\"dataframe\">\n",
              "  <thead>\n",
              "    <tr style=\"text-align: right;\">\n",
              "      <th></th>\n",
              "      <th>name</th>\n",
              "      <th>year</th>\n",
              "      <th>attacker_king</th>\n",
              "      <th>defender_king</th>\n",
              "      <th>attacker_1</th>\n",
              "      <th>defender_1</th>\n",
              "      <th>attacker_outcome</th>\n",
              "      <th>battle_type</th>\n",
              "      <th>major_death</th>\n",
              "      <th>major_capture</th>\n",
              "      <th>attacker_size</th>\n",
              "      <th>defender_size</th>\n",
              "      <th>summer</th>\n",
              "      <th>location</th>\n",
              "      <th>region</th>\n",
              "      <th>attacker_commander_1</th>\n",
              "      <th>defender_commander_1</th>\n",
              "    </tr>\n",
              "  </thead>\n",
              "  <tbody>\n",
              "    <tr>\n",
              "      <th>0</th>\n",
              "      <td>-0.429099</td>\n",
              "      <td>-1.608152</td>\n",
              "      <td>-0.420761</td>\n",
              "      <td>0.771069</td>\n",
              "      <td>0.674871</td>\n",
              "      <td>1.043781</td>\n",
              "      <td>0.439941</td>\n",
              "      <td>-0.361035</td>\n",
              "      <td>1.358732</td>\n",
              "      <td>-0.650444</td>\n",
              "      <td>0.254706</td>\n",
              "      <td>-0.400743</td>\n",
              "      <td>0.661683</td>\n",
              "      <td>-0.933977</td>\n",
              "      <td>1.820814</td>\n",
              "      <td>-0.827841</td>\n",
              "      <td>-1.249524</td>\n",
              "    </tr>\n",
              "    <tr>\n",
              "      <th>1</th>\n",
              "      <td>-1.699234</td>\n",
              "      <td>-1.608152</td>\n",
              "      <td>-0.420761</td>\n",
              "      <td>0.771069</td>\n",
              "      <td>0.674871</td>\n",
              "      <td>-1.926981</td>\n",
              "      <td>0.439941</td>\n",
              "      <td>-1.195928</td>\n",
              "      <td>1.358732</td>\n",
              "      <td>-0.650444</td>\n",
              "      <td>-0.112280</td>\n",
              "      <td>-1.041097</td>\n",
              "      <td>0.661683</td>\n",
              "      <td>-0.316885</td>\n",
              "      <td>0.431739</td>\n",
              "      <td>-1.131110</td>\n",
              "      <td>-1.596267</td>\n",
              "    </tr>\n",
              "    <tr>\n",
              "      <th>2</th>\n",
              "      <td>-1.154891</td>\n",
              "      <td>-1.608152</td>\n",
              "      <td>-0.420761</td>\n",
              "      <td>0.771069</td>\n",
              "      <td>0.674871</td>\n",
              "      <td>1.043781</td>\n",
              "      <td>0.439941</td>\n",
              "      <td>-0.361035</td>\n",
              "      <td>-0.735980</td>\n",
              "      <td>1.537412</td>\n",
              "      <td>0.254706</td>\n",
              "      <td>0.589496</td>\n",
              "      <td>0.661683</td>\n",
              "      <td>0.176788</td>\n",
              "      <td>0.431739</td>\n",
              "      <td>-0.827841</td>\n",
              "      <td>-1.018362</td>\n",
              "    </tr>\n",
              "    <tr>\n",
              "      <th>3</th>\n",
              "      <td>-0.338376</td>\n",
              "      <td>-1.608152</td>\n",
              "      <td>0.552249</td>\n",
              "      <td>-0.874866</td>\n",
              "      <td>0.943367</td>\n",
              "      <td>-0.144524</td>\n",
              "      <td>-2.273030</td>\n",
              "      <td>-0.361035</td>\n",
              "      <td>1.358732</td>\n",
              "      <td>1.537412</td>\n",
              "      <td>0.405794</td>\n",
              "      <td>2.239893</td>\n",
              "      <td>0.661683</td>\n",
              "      <td>-0.810559</td>\n",
              "      <td>0.431739</td>\n",
              "      <td>0.688501</td>\n",
              "      <td>0.946515</td>\n",
              "    </tr>\n",
              "    <tr>\n",
              "      <th>4</th>\n",
              "      <td>0.024520</td>\n",
              "      <td>-1.608152</td>\n",
              "      <td>0.552249</td>\n",
              "      <td>-0.874866</td>\n",
              "      <td>0.943367</td>\n",
              "      <td>-0.144524</td>\n",
              "      <td>0.439941</td>\n",
              "      <td>-1.195928</td>\n",
              "      <td>1.358732</td>\n",
              "      <td>1.537412</td>\n",
              "      <td>-0.406302</td>\n",
              "      <td>-0.070663</td>\n",
              "      <td>0.661683</td>\n",
              "      <td>1.410972</td>\n",
              "      <td>0.431739</td>\n",
              "      <td>0.233599</td>\n",
              "      <td>-0.787200</td>\n",
              "    </tr>\n",
              "  </tbody>\n",
              "</table>\n",
              "</div>"
            ],
            "text/plain": [
              "       name      year  ...  attacker_commander_1  defender_commander_1\n",
              "0 -0.429099 -1.608152  ...             -0.827841             -1.249524\n",
              "1 -1.699234 -1.608152  ...             -1.131110             -1.596267\n",
              "2 -1.154891 -1.608152  ...             -0.827841             -1.018362\n",
              "3 -0.338376 -1.608152  ...              0.688501              0.946515\n",
              "4  0.024520 -1.608152  ...              0.233599             -0.787200\n",
              "\n",
              "[5 rows x 17 columns]"
            ]
          },
          "metadata": {
            "tags": []
          },
          "execution_count": 65
        }
      ]
    },
    {
      "cell_type": "code",
      "metadata": {
        "id": "hqzHr35kYyd1"
      },
      "source": [
        "# desfazer normalização para recuperar os dados\n",
        "unscaled = scaler.inverse_transform(scaled_battles_codes_non_null)\n",
        "battles_codes_non_null = pd.DataFrame(data=unscaled[0:,0:], columns=battles.columns)\n",
        "\n",
        "# atualizar dataset\n",
        "battles['attacker_size'] = battles_codes_non_null['attacker_size']\n",
        "battles['defender_size'] = battles_codes_non_null['defender_size']"
      ],
      "execution_count": 66,
      "outputs": []
    },
    {
      "cell_type": "code",
      "metadata": {
        "colab": {
          "base_uri": "https://localhost:8080/",
          "height": 191
        },
        "id": "rt8_p7mnZ7tY",
        "outputId": "29d6143a-0d51-458b-cccf-88aab784862a"
      },
      "source": [
        "battles.loc[:, ['attacker_size', 'defender_size']].head()"
      ],
      "execution_count": 67,
      "outputs": [
        {
          "output_type": "execute_result",
          "data": {
            "text/html": [
              "<div>\n",
              "<style scoped>\n",
              "    .dataframe tbody tr th:only-of-type {\n",
              "        vertical-align: middle;\n",
              "    }\n",
              "\n",
              "    .dataframe tbody tr th {\n",
              "        vertical-align: top;\n",
              "    }\n",
              "\n",
              "    .dataframe thead th {\n",
              "        text-align: right;\n",
              "    }\n",
              "</style>\n",
              "<table border=\"1\" class=\"dataframe\">\n",
              "  <thead>\n",
              "    <tr style=\"text-align: right;\">\n",
              "      <th></th>\n",
              "      <th>attacker_size</th>\n",
              "      <th>defender_size</th>\n",
              "    </tr>\n",
              "  </thead>\n",
              "  <tbody>\n",
              "    <tr>\n",
              "      <th>0</th>\n",
              "      <td>15000.000000</td>\n",
              "      <td>4000.0</td>\n",
              "    </tr>\n",
              "    <tr>\n",
              "      <th>1</th>\n",
              "      <td>7713.110125</td>\n",
              "      <td>120.0</td>\n",
              "    </tr>\n",
              "    <tr>\n",
              "      <th>2</th>\n",
              "      <td>15000.000000</td>\n",
              "      <td>10000.0</td>\n",
              "    </tr>\n",
              "    <tr>\n",
              "      <th>3</th>\n",
              "      <td>18000.000000</td>\n",
              "      <td>20000.0</td>\n",
              "    </tr>\n",
              "    <tr>\n",
              "      <th>4</th>\n",
              "      <td>1875.000000</td>\n",
              "      <td>6000.0</td>\n",
              "    </tr>\n",
              "  </tbody>\n",
              "</table>\n",
              "</div>"
            ],
            "text/plain": [
              "   attacker_size  defender_size\n",
              "0   15000.000000         4000.0\n",
              "1    7713.110125          120.0\n",
              "2   15000.000000        10000.0\n",
              "3   18000.000000        20000.0\n",
              "4    1875.000000         6000.0"
            ]
          },
          "metadata": {
            "tags": []
          },
          "execution_count": 67
        }
      ]
    },
    {
      "cell_type": "markdown",
      "metadata": {
        "id": "zpIRYFJCaERB"
      },
      "source": [
        "Como `attacker_size` e `defender_size` se refere à quantidade de pessoas, vamos arerdondar esses valores para o inteiro mais próximo."
      ]
    },
    {
      "cell_type": "code",
      "metadata": {
        "id": "0-LNJUboaNgL"
      },
      "source": [
        "battles['attacker_size'] = round(battles['attacker_size'])\n",
        "battles['defender_size'] = round(battles['defender_size'])"
      ],
      "execution_count": 68,
      "outputs": []
    },
    {
      "cell_type": "code",
      "metadata": {
        "colab": {
          "base_uri": "https://localhost:8080/",
          "height": 191
        },
        "id": "qkZRXrmwaTf4",
        "outputId": "1f054e83-8bc9-4602-8047-fec4cc9db44a"
      },
      "source": [
        "battles.loc[:, ['attacker_size', 'defender_size']].head()"
      ],
      "execution_count": 69,
      "outputs": [
        {
          "output_type": "execute_result",
          "data": {
            "text/html": [
              "<div>\n",
              "<style scoped>\n",
              "    .dataframe tbody tr th:only-of-type {\n",
              "        vertical-align: middle;\n",
              "    }\n",
              "\n",
              "    .dataframe tbody tr th {\n",
              "        vertical-align: top;\n",
              "    }\n",
              "\n",
              "    .dataframe thead th {\n",
              "        text-align: right;\n",
              "    }\n",
              "</style>\n",
              "<table border=\"1\" class=\"dataframe\">\n",
              "  <thead>\n",
              "    <tr style=\"text-align: right;\">\n",
              "      <th></th>\n",
              "      <th>attacker_size</th>\n",
              "      <th>defender_size</th>\n",
              "    </tr>\n",
              "  </thead>\n",
              "  <tbody>\n",
              "    <tr>\n",
              "      <th>0</th>\n",
              "      <td>15000.0</td>\n",
              "      <td>4000.0</td>\n",
              "    </tr>\n",
              "    <tr>\n",
              "      <th>1</th>\n",
              "      <td>7713.0</td>\n",
              "      <td>120.0</td>\n",
              "    </tr>\n",
              "    <tr>\n",
              "      <th>2</th>\n",
              "      <td>15000.0</td>\n",
              "      <td>10000.0</td>\n",
              "    </tr>\n",
              "    <tr>\n",
              "      <th>3</th>\n",
              "      <td>18000.0</td>\n",
              "      <td>20000.0</td>\n",
              "    </tr>\n",
              "    <tr>\n",
              "      <th>4</th>\n",
              "      <td>1875.0</td>\n",
              "      <td>6000.0</td>\n",
              "    </tr>\n",
              "  </tbody>\n",
              "</table>\n",
              "</div>"
            ],
            "text/plain": [
              "   attacker_size  defender_size\n",
              "0        15000.0         4000.0\n",
              "1         7713.0          120.0\n",
              "2        15000.0        10000.0\n",
              "3        18000.0        20000.0\n",
              "4         1875.0         6000.0"
            ]
          },
          "metadata": {
            "tags": []
          },
          "execution_count": 69
        }
      ]
    },
    {
      "cell_type": "code",
      "metadata": {
        "colab": {
          "base_uri": "https://localhost:8080/"
        },
        "id": "Mp1lFWLGKAhj",
        "outputId": "27e33d12-d531-40a3-bf06-181dbd94546e"
      },
      "source": [
        "print('attacker_size: ', battles['attacker_size'].isnull().sum())\n",
        "print('defender_size: ', battles['defender_size'].isnull().sum())"
      ],
      "execution_count": 70,
      "outputs": [
        {
          "output_type": "stream",
          "text": [
            "attacker_size:  0\n",
            "defender_size:  0\n"
          ],
          "name": "stdout"
        }
      ]
    },
    {
      "cell_type": "markdown",
      "metadata": {
        "id": "U5AyGx6GhuIC"
      },
      "source": [
        "Agora não temos mais nenhum valor nulo no nosso *dataset*."
      ]
    },
    {
      "cell_type": "code",
      "metadata": {
        "colab": {
          "base_uri": "https://localhost:8080/"
        },
        "id": "GRiKZucJh5vM",
        "outputId": "7c370b19-259d-4330-f18d-65b8160ca877"
      },
      "source": [
        "battles.isnull().sum()"
      ],
      "execution_count": 71,
      "outputs": [
        {
          "output_type": "execute_result",
          "data": {
            "text/plain": [
              "name                    0\n",
              "year                    0\n",
              "attacker_king           0\n",
              "defender_king           0\n",
              "attacker_1              0\n",
              "defender_1              0\n",
              "attacker_outcome        0\n",
              "battle_type             0\n",
              "major_death             0\n",
              "major_capture           0\n",
              "attacker_size           0\n",
              "defender_size           0\n",
              "summer                  0\n",
              "location                0\n",
              "region                  0\n",
              "attacker_commander_1    0\n",
              "defender_commander_1    0\n",
              "dtype: int64"
            ]
          },
          "metadata": {
            "tags": []
          },
          "execution_count": 71
        }
      ]
    },
    {
      "cell_type": "markdown",
      "metadata": {
        "id": "RwbdmPS9iMSW"
      },
      "source": [
        "## Discretização"
      ]
    },
    {
      "cell_type": "markdown",
      "metadata": {
        "id": "VktBHgilzYvP"
      },
      "source": [
        "Vamos criar uma nova coluna que relaciona `attacker_size` e `defender_size `, para classificar as batalhas em relação à diferença de tamanho de ambas as partes."
      ]
    },
    {
      "cell_type": "code",
      "metadata": {
        "colab": {
          "base_uri": "https://localhost:8080/",
          "height": 390
        },
        "id": "Eh7Gc6Awz4Nz",
        "outputId": "67e2aef7-628a-42d3-9af8-840b0221018f"
      },
      "source": [
        "battles['size_difference'] = battles['attacker_size'] - battles['defender_size']\n",
        "battles.head()"
      ],
      "execution_count": 72,
      "outputs": [
        {
          "output_type": "execute_result",
          "data": {
            "text/html": [
              "<div>\n",
              "<style scoped>\n",
              "    .dataframe tbody tr th:only-of-type {\n",
              "        vertical-align: middle;\n",
              "    }\n",
              "\n",
              "    .dataframe tbody tr th {\n",
              "        vertical-align: top;\n",
              "    }\n",
              "\n",
              "    .dataframe thead th {\n",
              "        text-align: right;\n",
              "    }\n",
              "</style>\n",
              "<table border=\"1\" class=\"dataframe\">\n",
              "  <thead>\n",
              "    <tr style=\"text-align: right;\">\n",
              "      <th></th>\n",
              "      <th>name</th>\n",
              "      <th>year</th>\n",
              "      <th>attacker_king</th>\n",
              "      <th>defender_king</th>\n",
              "      <th>attacker_1</th>\n",
              "      <th>defender_1</th>\n",
              "      <th>attacker_outcome</th>\n",
              "      <th>battle_type</th>\n",
              "      <th>major_death</th>\n",
              "      <th>major_capture</th>\n",
              "      <th>attacker_size</th>\n",
              "      <th>defender_size</th>\n",
              "      <th>summer</th>\n",
              "      <th>location</th>\n",
              "      <th>region</th>\n",
              "      <th>attacker_commander_1</th>\n",
              "      <th>defender_commander_1</th>\n",
              "      <th>size_difference</th>\n",
              "    </tr>\n",
              "  </thead>\n",
              "  <tbody>\n",
              "    <tr>\n",
              "      <th>0</th>\n",
              "      <td>Battle of the Golden Tooth</td>\n",
              "      <td>298</td>\n",
              "      <td>Joffrey/Tommen Baratheon</td>\n",
              "      <td>Robb Stark</td>\n",
              "      <td>Lannister</td>\n",
              "      <td>Tully</td>\n",
              "      <td>1</td>\n",
              "      <td>pitched battle</td>\n",
              "      <td>1</td>\n",
              "      <td>0</td>\n",
              "      <td>15000.0</td>\n",
              "      <td>4000.0</td>\n",
              "      <td>1</td>\n",
              "      <td>Golden Tooth</td>\n",
              "      <td>The Westerlands</td>\n",
              "      <td>Jaime Lannister</td>\n",
              "      <td>Clement Piper</td>\n",
              "      <td>11000.0</td>\n",
              "    </tr>\n",
              "    <tr>\n",
              "      <th>1</th>\n",
              "      <td>Battle at the Mummer's Ford</td>\n",
              "      <td>298</td>\n",
              "      <td>Joffrey/Tommen Baratheon</td>\n",
              "      <td>Robb Stark</td>\n",
              "      <td>Lannister</td>\n",
              "      <td>Baratheon</td>\n",
              "      <td>1</td>\n",
              "      <td>ambush</td>\n",
              "      <td>1</td>\n",
              "      <td>0</td>\n",
              "      <td>7713.0</td>\n",
              "      <td>120.0</td>\n",
              "      <td>1</td>\n",
              "      <td>Mummer's Ford</td>\n",
              "      <td>The Riverlands</td>\n",
              "      <td>Gregor Clegane</td>\n",
              "      <td>Beric Dondarrion</td>\n",
              "      <td>7593.0</td>\n",
              "    </tr>\n",
              "    <tr>\n",
              "      <th>2</th>\n",
              "      <td>Battle of Riverrun</td>\n",
              "      <td>298</td>\n",
              "      <td>Joffrey/Tommen Baratheon</td>\n",
              "      <td>Robb Stark</td>\n",
              "      <td>Lannister</td>\n",
              "      <td>Tully</td>\n",
              "      <td>1</td>\n",
              "      <td>pitched battle</td>\n",
              "      <td>0</td>\n",
              "      <td>1</td>\n",
              "      <td>15000.0</td>\n",
              "      <td>10000.0</td>\n",
              "      <td>1</td>\n",
              "      <td>Riverrun</td>\n",
              "      <td>The Riverlands</td>\n",
              "      <td>Jaime Lannister</td>\n",
              "      <td>Edmure Tully</td>\n",
              "      <td>5000.0</td>\n",
              "    </tr>\n",
              "    <tr>\n",
              "      <th>3</th>\n",
              "      <td>Battle of the Green Fork</td>\n",
              "      <td>298</td>\n",
              "      <td>Robb Stark</td>\n",
              "      <td>Joffrey/Tommen Baratheon</td>\n",
              "      <td>Stark</td>\n",
              "      <td>Lannister</td>\n",
              "      <td>0</td>\n",
              "      <td>pitched battle</td>\n",
              "      <td>1</td>\n",
              "      <td>1</td>\n",
              "      <td>18000.0</td>\n",
              "      <td>20000.0</td>\n",
              "      <td>1</td>\n",
              "      <td>Green Fork</td>\n",
              "      <td>The Riverlands</td>\n",
              "      <td>Roose Bolton</td>\n",
              "      <td>Tywin Lannister</td>\n",
              "      <td>-2000.0</td>\n",
              "    </tr>\n",
              "    <tr>\n",
              "      <th>4</th>\n",
              "      <td>Battle of the Whispering Wood</td>\n",
              "      <td>298</td>\n",
              "      <td>Robb Stark</td>\n",
              "      <td>Joffrey/Tommen Baratheon</td>\n",
              "      <td>Stark</td>\n",
              "      <td>Lannister</td>\n",
              "      <td>1</td>\n",
              "      <td>ambush</td>\n",
              "      <td>1</td>\n",
              "      <td>1</td>\n",
              "      <td>1875.0</td>\n",
              "      <td>6000.0</td>\n",
              "      <td>1</td>\n",
              "      <td>Whispering Wood</td>\n",
              "      <td>The Riverlands</td>\n",
              "      <td>Robb Stark</td>\n",
              "      <td>Jaime Lannister</td>\n",
              "      <td>-4125.0</td>\n",
              "    </tr>\n",
              "  </tbody>\n",
              "</table>\n",
              "</div>"
            ],
            "text/plain": [
              "                            name year  ... defender_commander_1 size_difference\n",
              "0     Battle of the Golden Tooth  298  ...        Clement Piper         11000.0\n",
              "1    Battle at the Mummer's Ford  298  ...     Beric Dondarrion          7593.0\n",
              "2             Battle of Riverrun  298  ...         Edmure Tully          5000.0\n",
              "3       Battle of the Green Fork  298  ...      Tywin Lannister         -2000.0\n",
              "4  Battle of the Whispering Wood  298  ...      Jaime Lannister         -4125.0\n",
              "\n",
              "[5 rows x 18 columns]"
            ]
          },
          "metadata": {
            "tags": []
          },
          "execution_count": 72
        }
      ]
    },
    {
      "cell_type": "markdown",
      "metadata": {
        "id": "2VWQwllJ1xP-"
      },
      "source": [
        "Testando algumas formas de discretizar essa coluna, observamos que se dividirmos os valores em 6 intervalos de frequências similares conseguimos ter intervalos apenas com valores negativos ou 0 e outros apenas com valores positivos."
      ]
    },
    {
      "cell_type": "code",
      "metadata": {
        "colab": {
          "base_uri": "https://localhost:8080/"
        },
        "id": "5umzOegA2Sar",
        "outputId": "f89f5b78-a72e-4e6c-c348-49d1455e9fa7"
      },
      "source": [
        "battles['size_difference_disc'] = pd.qcut(battles['size_difference'], 4)\n",
        "battles['size_difference_disc'].value_counts()"
      ],
      "execution_count": 73,
      "outputs": [
        {
          "output_type": "execute_result",
          "data": {
            "text/plain": [
              "(-15000.001, -4125.0]    10\n",
              "(1141.0, 98760.0]         9\n",
              "(-1382.0, 1141.0]         9\n",
              "(-4125.0, -1382.0]        9\n",
              "Name: size_difference_disc, dtype: int64"
            ]
          },
          "metadata": {
            "tags": []
          },
          "execution_count": 73
        }
      ]
    },
    {
      "cell_type": "code",
      "metadata": {
        "colab": {
          "base_uri": "https://localhost:8080/"
        },
        "id": "J27xwNIx2UEu",
        "outputId": "03bad078-42fc-4802-8f58-63bbd7b91246"
      },
      "source": [
        "battles['size_difference_disc'] = pd.qcut(battles['size_difference'], 5)\n",
        "battles['size_difference_disc'].value_counts()"
      ],
      "execution_count": 74,
      "outputs": [
        {
          "output_type": "execute_result",
          "data": {
            "text/plain": [
              "(3623.6, 98760.0]        8\n",
              "(-15000.001, -5011.0]    8\n",
              "(-484.6, 3623.6]         7\n",
              "(-2126.0, -484.6]        7\n",
              "(-5011.0, -2126.0]       7\n",
              "Name: size_difference_disc, dtype: int64"
            ]
          },
          "metadata": {
            "tags": []
          },
          "execution_count": 74
        }
      ]
    },
    {
      "cell_type": "code",
      "metadata": {
        "colab": {
          "base_uri": "https://localhost:8080/"
        },
        "id": "QpTSRzQ50Y0z",
        "outputId": "615e689c-c92d-408c-f7ff-38927f6b6317"
      },
      "source": [
        "battles['size_difference_disc'] = pd.qcut(battles['size_difference'], 6)\n",
        "battles['size_difference_disc'].value_counts()"
      ],
      "execution_count": 75,
      "outputs": [
        {
          "output_type": "execute_result",
          "data": {
            "text/plain": [
              "(4300.0, 98760.0]        7\n",
              "(-1382.0, 0.0]           7\n",
              "(-15000.001, -5288.0]    7\n",
              "(-2586.0, -1382.0]       6\n",
              "(-5288.0, -2586.0]       6\n",
              "(0.0, 4300.0]            4\n",
              "Name: size_difference_disc, dtype: int64"
            ]
          },
          "metadata": {
            "tags": []
          },
          "execution_count": 75
        }
      ]
    },
    {
      "cell_type": "code",
      "metadata": {
        "colab": {
          "base_uri": "https://localhost:8080/",
          "height": 390
        },
        "id": "furf3EaC0qeS",
        "outputId": "140d1489-ea29-4b27-84b5-d2824db52dfd"
      },
      "source": [
        "battles.head()"
      ],
      "execution_count": 76,
      "outputs": [
        {
          "output_type": "execute_result",
          "data": {
            "text/html": [
              "<div>\n",
              "<style scoped>\n",
              "    .dataframe tbody tr th:only-of-type {\n",
              "        vertical-align: middle;\n",
              "    }\n",
              "\n",
              "    .dataframe tbody tr th {\n",
              "        vertical-align: top;\n",
              "    }\n",
              "\n",
              "    .dataframe thead th {\n",
              "        text-align: right;\n",
              "    }\n",
              "</style>\n",
              "<table border=\"1\" class=\"dataframe\">\n",
              "  <thead>\n",
              "    <tr style=\"text-align: right;\">\n",
              "      <th></th>\n",
              "      <th>name</th>\n",
              "      <th>year</th>\n",
              "      <th>attacker_king</th>\n",
              "      <th>defender_king</th>\n",
              "      <th>attacker_1</th>\n",
              "      <th>defender_1</th>\n",
              "      <th>attacker_outcome</th>\n",
              "      <th>battle_type</th>\n",
              "      <th>major_death</th>\n",
              "      <th>major_capture</th>\n",
              "      <th>attacker_size</th>\n",
              "      <th>defender_size</th>\n",
              "      <th>summer</th>\n",
              "      <th>location</th>\n",
              "      <th>region</th>\n",
              "      <th>attacker_commander_1</th>\n",
              "      <th>defender_commander_1</th>\n",
              "      <th>size_difference</th>\n",
              "      <th>size_difference_disc</th>\n",
              "    </tr>\n",
              "  </thead>\n",
              "  <tbody>\n",
              "    <tr>\n",
              "      <th>0</th>\n",
              "      <td>Battle of the Golden Tooth</td>\n",
              "      <td>298</td>\n",
              "      <td>Joffrey/Tommen Baratheon</td>\n",
              "      <td>Robb Stark</td>\n",
              "      <td>Lannister</td>\n",
              "      <td>Tully</td>\n",
              "      <td>1</td>\n",
              "      <td>pitched battle</td>\n",
              "      <td>1</td>\n",
              "      <td>0</td>\n",
              "      <td>15000.0</td>\n",
              "      <td>4000.0</td>\n",
              "      <td>1</td>\n",
              "      <td>Golden Tooth</td>\n",
              "      <td>The Westerlands</td>\n",
              "      <td>Jaime Lannister</td>\n",
              "      <td>Clement Piper</td>\n",
              "      <td>11000.0</td>\n",
              "      <td>(4300.0, 98760.0]</td>\n",
              "    </tr>\n",
              "    <tr>\n",
              "      <th>1</th>\n",
              "      <td>Battle at the Mummer's Ford</td>\n",
              "      <td>298</td>\n",
              "      <td>Joffrey/Tommen Baratheon</td>\n",
              "      <td>Robb Stark</td>\n",
              "      <td>Lannister</td>\n",
              "      <td>Baratheon</td>\n",
              "      <td>1</td>\n",
              "      <td>ambush</td>\n",
              "      <td>1</td>\n",
              "      <td>0</td>\n",
              "      <td>7713.0</td>\n",
              "      <td>120.0</td>\n",
              "      <td>1</td>\n",
              "      <td>Mummer's Ford</td>\n",
              "      <td>The Riverlands</td>\n",
              "      <td>Gregor Clegane</td>\n",
              "      <td>Beric Dondarrion</td>\n",
              "      <td>7593.0</td>\n",
              "      <td>(4300.0, 98760.0]</td>\n",
              "    </tr>\n",
              "    <tr>\n",
              "      <th>2</th>\n",
              "      <td>Battle of Riverrun</td>\n",
              "      <td>298</td>\n",
              "      <td>Joffrey/Tommen Baratheon</td>\n",
              "      <td>Robb Stark</td>\n",
              "      <td>Lannister</td>\n",
              "      <td>Tully</td>\n",
              "      <td>1</td>\n",
              "      <td>pitched battle</td>\n",
              "      <td>0</td>\n",
              "      <td>1</td>\n",
              "      <td>15000.0</td>\n",
              "      <td>10000.0</td>\n",
              "      <td>1</td>\n",
              "      <td>Riverrun</td>\n",
              "      <td>The Riverlands</td>\n",
              "      <td>Jaime Lannister</td>\n",
              "      <td>Edmure Tully</td>\n",
              "      <td>5000.0</td>\n",
              "      <td>(4300.0, 98760.0]</td>\n",
              "    </tr>\n",
              "    <tr>\n",
              "      <th>3</th>\n",
              "      <td>Battle of the Green Fork</td>\n",
              "      <td>298</td>\n",
              "      <td>Robb Stark</td>\n",
              "      <td>Joffrey/Tommen Baratheon</td>\n",
              "      <td>Stark</td>\n",
              "      <td>Lannister</td>\n",
              "      <td>0</td>\n",
              "      <td>pitched battle</td>\n",
              "      <td>1</td>\n",
              "      <td>1</td>\n",
              "      <td>18000.0</td>\n",
              "      <td>20000.0</td>\n",
              "      <td>1</td>\n",
              "      <td>Green Fork</td>\n",
              "      <td>The Riverlands</td>\n",
              "      <td>Roose Bolton</td>\n",
              "      <td>Tywin Lannister</td>\n",
              "      <td>-2000.0</td>\n",
              "      <td>(-2586.0, -1382.0]</td>\n",
              "    </tr>\n",
              "    <tr>\n",
              "      <th>4</th>\n",
              "      <td>Battle of the Whispering Wood</td>\n",
              "      <td>298</td>\n",
              "      <td>Robb Stark</td>\n",
              "      <td>Joffrey/Tommen Baratheon</td>\n",
              "      <td>Stark</td>\n",
              "      <td>Lannister</td>\n",
              "      <td>1</td>\n",
              "      <td>ambush</td>\n",
              "      <td>1</td>\n",
              "      <td>1</td>\n",
              "      <td>1875.0</td>\n",
              "      <td>6000.0</td>\n",
              "      <td>1</td>\n",
              "      <td>Whispering Wood</td>\n",
              "      <td>The Riverlands</td>\n",
              "      <td>Robb Stark</td>\n",
              "      <td>Jaime Lannister</td>\n",
              "      <td>-4125.0</td>\n",
              "      <td>(-5288.0, -2586.0]</td>\n",
              "    </tr>\n",
              "  </tbody>\n",
              "</table>\n",
              "</div>"
            ],
            "text/plain": [
              "                            name year  ... size_difference size_difference_disc\n",
              "0     Battle of the Golden Tooth  298  ...         11000.0    (4300.0, 98760.0]\n",
              "1    Battle at the Mummer's Ford  298  ...          7593.0    (4300.0, 98760.0]\n",
              "2             Battle of Riverrun  298  ...          5000.0    (4300.0, 98760.0]\n",
              "3       Battle of the Green Fork  298  ...         -2000.0   (-2586.0, -1382.0]\n",
              "4  Battle of the Whispering Wood  298  ...         -4125.0   (-5288.0, -2586.0]\n",
              "\n",
              "[5 rows x 19 columns]"
            ]
          },
          "metadata": {
            "tags": []
          },
          "execution_count": 76
        }
      ]
    },
    {
      "cell_type": "code",
      "metadata": {
        "colab": {
          "base_uri": "https://localhost:8080/"
        },
        "id": "bgerVkaj2t1c",
        "outputId": "7f4399e7-f357-4043-e62e-52c2bcba6488"
      },
      "source": [
        "battles['size_difference_disc'].cat.categories.to_list()"
      ],
      "execution_count": 77,
      "outputs": [
        {
          "output_type": "execute_result",
          "data": {
            "text/plain": [
              "[Interval(-15000.001, -5288.0, closed='right'),\n",
              " Interval(-5288.0, -2586.0, closed='right'),\n",
              " Interval(-2586.0, -1382.0, closed='right'),\n",
              " Interval(-1382.0, 0.0, closed='right'),\n",
              " Interval(0.0, 4300.0, closed='right'),\n",
              " Interval(4300.0, 98760.0, closed='right')]"
            ]
          },
          "metadata": {
            "tags": []
          },
          "execution_count": 77
        }
      ]
    },
    {
      "cell_type": "code",
      "metadata": {
        "id": "At4jhZ6g4kIU"
      },
      "source": [
        "# Renomeando as categorias e classificando a diferença em graus de vantagem ou desvantagem do atacante em relação ao defensor\n",
        "battles['size_difference_disc'].cat.rename_categories(['disavantage_4', 'disavantage_3', 'disavantage_2', 'disavantage_1', 'advantage_1', 'advantage_2'], inplace=True)"
      ],
      "execution_count": 78,
      "outputs": []
    },
    {
      "cell_type": "markdown",
      "metadata": {
        "id": "Ewl2FAxnmpkx"
      },
      "source": [
        "## Limpeza dos dados"
      ]
    },
    {
      "cell_type": "markdown",
      "metadata": {
        "id": "599_faHX_nhk"
      },
      "source": [
        "Como já vimos no início do processamento que a coluna `name` possui apenas valores únicos, sabemos que não temos dados repetidos."
      ]
    },
    {
      "cell_type": "markdown",
      "metadata": {
        "id": "nMBv0UzA8cuY"
      },
      "source": [
        "Para a detecção de *outliers* vamos utilizar a nova coluna `size_difference`, que relaciona `attacker_size` e `defender_size`."
      ]
    },
    {
      "cell_type": "code",
      "metadata": {
        "colab": {
          "base_uri": "https://localhost:8080/"
        },
        "id": "u9CMT09Y73Ri",
        "outputId": "6a78a012-61a0-4735-fd80-6db56d81849b"
      },
      "source": [
        "battles['size_difference'].describe()"
      ],
      "execution_count": 79,
      "outputs": [
        {
          "output_type": "execute_result",
          "data": {
            "text/plain": [
              "count       37.000000\n",
              "mean      1730.378378\n",
              "std      17331.960704\n",
              "min     -15000.000000\n",
              "25%      -4125.000000\n",
              "50%      -1382.000000\n",
              "75%       1141.000000\n",
              "max      98760.000000\n",
              "Name: size_difference, dtype: float64"
            ]
          },
          "metadata": {
            "tags": []
          },
          "execution_count": 79
        }
      ]
    },
    {
      "cell_type": "markdown",
      "metadata": {
        "id": "1YoywhBp82vv"
      },
      "source": [
        "Podemos ver que a maioria dos valores é negativa mas tem um valor máximo de 98.760."
      ]
    },
    {
      "cell_type": "code",
      "metadata": {
        "colab": {
          "base_uri": "https://localhost:8080/",
          "height": 282
        },
        "id": "iK7Z3Ax78_SU",
        "outputId": "796949a9-bfb3-4467-832c-ea2ddd94a251"
      },
      "source": [
        "battles['size_difference'].plot.box()"
      ],
      "execution_count": 80,
      "outputs": [
        {
          "output_type": "execute_result",
          "data": {
            "text/plain": [
              "<matplotlib.axes._subplots.AxesSubplot at 0x7f96cab9e310>"
            ]
          },
          "metadata": {
            "tags": []
          },
          "execution_count": 80
        },
        {
          "output_type": "display_data",
          "data": {
            "image/png": "[encoded data removed]",
            "text/plain": [
              "<Figure size 432x288 with 1 Axes>"
            ]
          },
          "metadata": {
            "tags": [],
            "needs_background": "light"
          }
        }
      ]
    },
    {
      "cell_type": "code",
      "metadata": {
        "colab": {
          "base_uri": "https://localhost:8080/",
          "height": 281
        },
        "id": "yOFQbRl69K-A",
        "outputId": "b2f6e803-96c5-4529-fadd-5214beb6b6b8"
      },
      "source": [
        "battles['size_difference'].hist()"
      ],
      "execution_count": 81,
      "outputs": [
        {
          "output_type": "execute_result",
          "data": {
            "text/plain": [
              "<matplotlib.axes._subplots.AxesSubplot at 0x7f96caadf690>"
            ]
          },
          "metadata": {
            "tags": []
          },
          "execution_count": 81
        },
        {
          "output_type": "display_data",
          "data": {
            "image/png": "[encoded data removed]",
            "text/plain": [
              "<Figure size 432x288 with 1 Axes>"
            ]
          },
          "metadata": {
            "tags": [],
            "needs_background": "light"
          }
        }
      ]
    },
    {
      "cell_type": "markdown",
      "metadata": {
        "id": "gCdxVFVu-ldX"
      },
      "source": [
        "Claramente o valor máximo distoa muito dos outros valores da coluna, então vamos remover sua linha."
      ]
    },
    {
      "cell_type": "code",
      "metadata": {
        "colab": {
          "base_uri": "https://localhost:8080/"
        },
        "id": "9T5Fvt5C-uyY",
        "outputId": "bbb48e87-ebd1-47ce-f61c-4914bbf6dfe3"
      },
      "source": [
        "battles = battles[battles['size_difference'] < 40000]\n",
        "\n",
        "# resetar o index após remover dados\n",
        "battles.reset_index(drop=True, inplace=True)\n",
        "\n",
        "battles.shape"
      ],
      "execution_count": 82,
      "outputs": [
        {
          "output_type": "execute_result",
          "data": {
            "text/plain": [
              "(36, 19)"
            ]
          },
          "metadata": {
            "tags": []
          },
          "execution_count": 82
        }
      ]
    },
    {
      "cell_type": "code",
      "metadata": {
        "colab": {
          "base_uri": "https://localhost:8080/",
          "height": 281
        },
        "id": "_mnvtNdm_dlB",
        "outputId": "e2499911-0021-45f9-cd71-687026d21788"
      },
      "source": [
        "battles['size_difference'].hist()"
      ],
      "execution_count": 83,
      "outputs": [
        {
          "output_type": "execute_result",
          "data": {
            "text/plain": [
              "<matplotlib.axes._subplots.AxesSubplot at 0x7f96ca60e150>"
            ]
          },
          "metadata": {
            "tags": []
          },
          "execution_count": 83
        },
        {
          "output_type": "display_data",
          "data": {
            "image/png": "[encoded data removed]",
            "text/plain": [
              "<Figure size 432x288 with 1 Axes>"
            ]
          },
          "metadata": {
            "tags": [],
            "needs_background": "light"
          }
        }
      ]
    },
    {
      "cell_type": "markdown",
      "metadata": {
        "id": "Tn4ahaqNm901"
      },
      "source": [
        "# Análise Descritiva"
      ]
    },
    {
      "cell_type": "code",
      "metadata": {
        "colab": {
          "base_uri": "https://localhost:8080/",
          "height": 390
        },
        "id": "McQ1_M7MBi2R",
        "outputId": "13aff30c-d6f3-4795-cfeb-9ac94d6e21c3"
      },
      "source": [
        "battles.head()"
      ],
      "execution_count": 84,
      "outputs": [
        {
          "output_type": "execute_result",
          "data": {
            "text/html": [
              "<div>\n",
              "<style scoped>\n",
              "    .dataframe tbody tr th:only-of-type {\n",
              "        vertical-align: middle;\n",
              "    }\n",
              "\n",
              "    .dataframe tbody tr th {\n",
              "        vertical-align: top;\n",
              "    }\n",
              "\n",
              "    .dataframe thead th {\n",
              "        text-align: right;\n",
              "    }\n",
              "</style>\n",
              "<table border=\"1\" class=\"dataframe\">\n",
              "  <thead>\n",
              "    <tr style=\"text-align: right;\">\n",
              "      <th></th>\n",
              "      <th>name</th>\n",
              "      <th>year</th>\n",
              "      <th>attacker_king</th>\n",
              "      <th>defender_king</th>\n",
              "      <th>attacker_1</th>\n",
              "      <th>defender_1</th>\n",
              "      <th>attacker_outcome</th>\n",
              "      <th>battle_type</th>\n",
              "      <th>major_death</th>\n",
              "      <th>major_capture</th>\n",
              "      <th>attacker_size</th>\n",
              "      <th>defender_size</th>\n",
              "      <th>summer</th>\n",
              "      <th>location</th>\n",
              "      <th>region</th>\n",
              "      <th>attacker_commander_1</th>\n",
              "      <th>defender_commander_1</th>\n",
              "      <th>size_difference</th>\n",
              "      <th>size_difference_disc</th>\n",
              "    </tr>\n",
              "  </thead>\n",
              "  <tbody>\n",
              "    <tr>\n",
              "      <th>0</th>\n",
              "      <td>Battle of the Golden Tooth</td>\n",
              "      <td>298</td>\n",
              "      <td>Joffrey/Tommen Baratheon</td>\n",
              "      <td>Robb Stark</td>\n",
              "      <td>Lannister</td>\n",
              "      <td>Tully</td>\n",
              "      <td>1</td>\n",
              "      <td>pitched battle</td>\n",
              "      <td>1</td>\n",
              "      <td>0</td>\n",
              "      <td>15000.0</td>\n",
              "      <td>4000.0</td>\n",
              "      <td>1</td>\n",
              "      <td>Golden Tooth</td>\n",
              "      <td>The Westerlands</td>\n",
              "      <td>Jaime Lannister</td>\n",
              "      <td>Clement Piper</td>\n",
              "      <td>11000.0</td>\n",
              "      <td>advantage_2</td>\n",
              "    </tr>\n",
              "    <tr>\n",
              "      <th>1</th>\n",
              "      <td>Battle at the Mummer's Ford</td>\n",
              "      <td>298</td>\n",
              "      <td>Joffrey/Tommen Baratheon</td>\n",
              "      <td>Robb Stark</td>\n",
              "      <td>Lannister</td>\n",
              "      <td>Baratheon</td>\n",
              "      <td>1</td>\n",
              "      <td>ambush</td>\n",
              "      <td>1</td>\n",
              "      <td>0</td>\n",
              "      <td>7713.0</td>\n",
              "      <td>120.0</td>\n",
              "      <td>1</td>\n",
              "      <td>Mummer's Ford</td>\n",
              "      <td>The Riverlands</td>\n",
              "      <td>Gregor Clegane</td>\n",
              "      <td>Beric Dondarrion</td>\n",
              "      <td>7593.0</td>\n",
              "      <td>advantage_2</td>\n",
              "    </tr>\n",
              "    <tr>\n",
              "      <th>2</th>\n",
              "      <td>Battle of Riverrun</td>\n",
              "      <td>298</td>\n",
              "      <td>Joffrey/Tommen Baratheon</td>\n",
              "      <td>Robb Stark</td>\n",
              "      <td>Lannister</td>\n",
              "      <td>Tully</td>\n",
              "      <td>1</td>\n",
              "      <td>pitched battle</td>\n",
              "      <td>0</td>\n",
              "      <td>1</td>\n",
              "      <td>15000.0</td>\n",
              "      <td>10000.0</td>\n",
              "      <td>1</td>\n",
              "      <td>Riverrun</td>\n",
              "      <td>The Riverlands</td>\n",
              "      <td>Jaime Lannister</td>\n",
              "      <td>Edmure Tully</td>\n",
              "      <td>5000.0</td>\n",
              "      <td>advantage_2</td>\n",
              "    </tr>\n",
              "    <tr>\n",
              "      <th>3</th>\n",
              "      <td>Battle of the Green Fork</td>\n",
              "      <td>298</td>\n",
              "      <td>Robb Stark</td>\n",
              "      <td>Joffrey/Tommen Baratheon</td>\n",
              "      <td>Stark</td>\n",
              "      <td>Lannister</td>\n",
              "      <td>0</td>\n",
              "      <td>pitched battle</td>\n",
              "      <td>1</td>\n",
              "      <td>1</td>\n",
              "      <td>18000.0</td>\n",
              "      <td>20000.0</td>\n",
              "      <td>1</td>\n",
              "      <td>Green Fork</td>\n",
              "      <td>The Riverlands</td>\n",
              "      <td>Roose Bolton</td>\n",
              "      <td>Tywin Lannister</td>\n",
              "      <td>-2000.0</td>\n",
              "      <td>disavantage_2</td>\n",
              "    </tr>\n",
              "    <tr>\n",
              "      <th>4</th>\n",
              "      <td>Battle of the Whispering Wood</td>\n",
              "      <td>298</td>\n",
              "      <td>Robb Stark</td>\n",
              "      <td>Joffrey/Tommen Baratheon</td>\n",
              "      <td>Stark</td>\n",
              "      <td>Lannister</td>\n",
              "      <td>1</td>\n",
              "      <td>ambush</td>\n",
              "      <td>1</td>\n",
              "      <td>1</td>\n",
              "      <td>1875.0</td>\n",
              "      <td>6000.0</td>\n",
              "      <td>1</td>\n",
              "      <td>Whispering Wood</td>\n",
              "      <td>The Riverlands</td>\n",
              "      <td>Robb Stark</td>\n",
              "      <td>Jaime Lannister</td>\n",
              "      <td>-4125.0</td>\n",
              "      <td>disavantage_3</td>\n",
              "    </tr>\n",
              "  </tbody>\n",
              "</table>\n",
              "</div>"
            ],
            "text/plain": [
              "                            name year  ... size_difference size_difference_disc\n",
              "0     Battle of the Golden Tooth  298  ...         11000.0          advantage_2\n",
              "1    Battle at the Mummer's Ford  298  ...          7593.0          advantage_2\n",
              "2             Battle of Riverrun  298  ...          5000.0          advantage_2\n",
              "3       Battle of the Green Fork  298  ...         -2000.0        disavantage_2\n",
              "4  Battle of the Whispering Wood  298  ...         -4125.0        disavantage_3\n",
              "\n",
              "[5 rows x 19 columns]"
            ]
          },
          "metadata": {
            "tags": []
          },
          "execution_count": 84
        }
      ]
    },
    {
      "cell_type": "code",
      "metadata": {
        "id": "rKvhJI68CXQD"
      },
      "source": [
        "import matplotlib.pyplot as plt"
      ],
      "execution_count": 85,
      "outputs": []
    },
    {
      "cell_type": "markdown",
      "metadata": {
        "id": "GcfdMw_8uMyv"
      },
      "source": [
        "## Tamanho das tropas vitoriosas"
      ]
    },
    {
      "cell_type": "code",
      "metadata": {
        "colab": {
          "base_uri": "https://localhost:8080/",
          "height": 282
        },
        "id": "2haqswrF-Wbx",
        "outputId": "137e09db-c873-4813-977e-5a357d198563"
      },
      "source": [
        "battles[battles['attacker_outcome'] == 1].boxplot(column=['attacker_size'])"
      ],
      "execution_count": 86,
      "outputs": [
        {
          "output_type": "execute_result",
          "data": {
            "text/plain": [
              "<matplotlib.axes._subplots.AxesSubplot at 0x7f96ca567e90>"
            ]
          },
          "metadata": {
            "tags": []
          },
          "execution_count": 86
        },
        {
          "output_type": "display_data",
          "data": {
            "image/png": "[encoded data removed]",
            "text/plain": [
              "<Figure size 432x288 with 1 Axes>"
            ]
          },
          "metadata": {
            "tags": [],
            "needs_background": "light"
          }
        }
      ]
    },
    {
      "cell_type": "code",
      "metadata": {
        "colab": {
          "base_uri": "https://localhost:8080/",
          "height": 282
        },
        "id": "y9MkleIL-ei5",
        "outputId": "9d1e2727-940e-44c2-e049-f0db0aa84a38"
      },
      "source": [
        "battles[battles['attacker_outcome'] == 0].boxplot(column=['defender_size'])"
      ],
      "execution_count": 87,
      "outputs": [
        {
          "output_type": "execute_result",
          "data": {
            "text/plain": [
              "<matplotlib.axes._subplots.AxesSubplot at 0x7f96ca4e3050>"
            ]
          },
          "metadata": {
            "tags": []
          },
          "execution_count": 87
        },
        {
          "output_type": "display_data",
          "data": {
            "image/png": "[encoded data removed]",
            "text/plain": [
              "<Figure size 432x288 with 1 Axes>"
            ]
          },
          "metadata": {
            "tags": [],
            "needs_background": "light"
          }
        }
      ]
    },
    {
      "cell_type": "markdown",
      "metadata": {
        "id": "92Am6aEtoGt5"
      },
      "source": [
        "## Batalhas por ano"
      ]
    },
    {
      "cell_type": "code",
      "metadata": {
        "colab": {
          "base_uri": "https://localhost:8080/",
          "height": 347
        },
        "id": "ELhAFhZToIyQ",
        "outputId": "512e7785-5d50-4dfd-ad5e-0cb2776fc0be"
      },
      "source": [
        "plt.figure(figsize=(8, 5))\n",
        "battles.groupby(['year'])['name'].count().plot(kind='bar')\n",
        "max_ytick = battles.groupby(['year'])['name'].count().max() + 2\n",
        "_ = plt.yticks(np.arange(0, max_ytick, 2), np.arange(0, max_ytick, 2))"
      ],
      "execution_count": 88,
      "outputs": [
        {
          "output_type": "display_data",
          "data": {
            "image/png": "[encoded data removed]",
            "text/plain": [
              "<Figure size 576x360 with 1 Axes>"
            ]
          },
          "metadata": {
            "tags": [],
            "needs_background": "light"
          }
        }
      ]
    },
    {
      "cell_type": "markdown",
      "metadata": {
        "id": "jllyWQsXnyT-"
      },
      "source": [
        "## Locais por região"
      ]
    },
    {
      "cell_type": "code",
      "metadata": {
        "colab": {
          "base_uri": "https://localhost:8080/",
          "height": 623
        },
        "id": "ZibO4UlrZXXn",
        "outputId": "52ed2719-856b-48af-8c30-77f3b343609a"
      },
      "source": [
        "plt.figure(figsize=(10, 10))\n",
        "plt.scatter(battles.sort_values('region')['region'], battles.sort_values('region')['location'])\n",
        "plt.title('Locations by regions')"
      ],
      "execution_count": 89,
      "outputs": [
        {
          "output_type": "execute_result",
          "data": {
            "text/plain": [
              "Text(0.5, 1.0, 'Locations by regions')"
            ]
          },
          "metadata": {
            "tags": []
          },
          "execution_count": 89
        },
        {
          "output_type": "display_data",
          "data": {
            "image/png": "[encoded data removed]",
            "text/plain": [
              "<Figure size 720x720 with 1 Axes>"
            ]
          },
          "metadata": {
            "tags": [],
            "needs_background": "light"
          }
        }
      ]
    },
    {
      "cell_type": "markdown",
      "metadata": {
        "id": "-a6NUBVIn3U0"
      },
      "source": [
        "## Distribuição dos tipos de batalha, reis dos atacantes e reis dos defensores"
      ]
    },
    {
      "cell_type": "code",
      "metadata": {
        "colab": {
          "base_uri": "https://localhost:8080/",
          "height": 447
        },
        "id": "pOyPpH2CCODX",
        "outputId": "98a89a30-f9a9-400c-94d7-f2258268ffad"
      },
      "source": [
        "figure, axes = plt.subplots(1, 3, figsize=(30,30))\n",
        "\n",
        "battles['battle_type'].value_counts().plot(kind='pie', label='', ax=axes[0])\n",
        "battles['attacker_king'].value_counts().plot(kind='pie', label='', ax=axes[1])\n",
        "battles['defender_king'].value_counts().plot(kind='pie', label='', ax=axes[2])\n",
        "\n",
        "axes[0].title.set_text('Battle types')\n",
        "axes[1].title.set_text('Attacker kings')\n",
        "axes[2].title.set_text('Defender kings')\n",
        "\n",
        "plt.subplots_adjust(wspace=0.5)"
      ],
      "execution_count": 90,
      "outputs": [
        {
          "output_type": "display_data",
          "data": {
            "image/png": "[encoded data removed]",
            "text/plain": [
              "<Figure size 2160x2160 with 3 Axes>"
            ]
          },
          "metadata": {
            "tags": []
          }
        }
      ]
    },
    {
      "cell_type": "markdown",
      "metadata": {
        "id": "RJgMvJMeuUNU"
      },
      "source": [
        "## Comandantes por casa"
      ]
    },
    {
      "cell_type": "code",
      "metadata": {
        "colab": {
          "base_uri": "https://localhost:8080/",
          "height": 827
        },
        "id": "m7jcQ8rIuVD6",
        "outputId": "72577a99-5318-476b-f677-6b3eb4036e4b"
      },
      "source": [
        "figure, axes = plt.subplots(1, 2, figsize=(40,20))\n",
        "\n",
        "axes[0].scatter(battles.sort_values('attacker_1')['attacker_1'], battles.sort_values('attacker_1')['attacker_commander_1'])\n",
        "axes[1].scatter(battles[battles['defender_commander_1'] != 'Unknown'].sort_values('defender_1')['defender_1'], battles[battles['defender_commander_1'] != 'Unknown'].sort_values('defender_1')['defender_commander_1'])\n",
        "\n",
        "axes[0].title.set_text('Attacker commander by house')\n",
        "axes[1].title.set_text('Defender commander by house')"
      ],
      "execution_count": 91,
      "outputs": [
        {
          "output_type": "display_data",
          "data": {
            "image/png": "[encoded data removed]",
            "text/plain": [
              "<Figure size 2880x1440 with 2 Axes>"
            ]
          },
          "metadata": {
            "tags": [],
            "needs_background": "light"
          }
        }
      ]
    },
    {
      "cell_type": "markdown",
      "metadata": {
        "id": "alaTIl2Nn7Wa"
      },
      "source": [
        "## Vitórias"
      ]
    },
    {
      "cell_type": "markdown",
      "metadata": {
        "id": "s_Xof-Yn5aLJ"
      },
      "source": [
        "Primeiro vamos unificar as informações de ataque e defesa para poder olhar para as casas como um todo."
      ]
    },
    {
      "cell_type": "code",
      "metadata": {
        "colab": {
          "base_uri": "https://localhost:8080/"
        },
        "id": "42H-DVSXy87l",
        "outputId": "ec5db64d-2678-44b0-cfc1-fa585bc41af6"
      },
      "source": [
        "houses = np.unique(battles['attacker_1'].cat.categories.to_list() + battles['defender_1'].cat.categories.to_list())\n",
        "houses"
      ],
      "execution_count": 92,
      "outputs": [
        {
          "output_type": "execute_result",
          "data": {
            "text/plain": [
              "array(['Baratheon', 'Blackwood', 'Bolton', 'Bracken', 'Brave Companions',\n",
              "       'Brotherhood without Banners', 'Darry', 'Free folk', 'Frey',\n",
              "       'Greyjoy', 'Lannister', 'Mallister', \"Night's Watch\", 'None',\n",
              "       'Stark', 'Tully', 'Tyrell'], dtype='<U27')"
            ]
          },
          "metadata": {
            "tags": []
          },
          "execution_count": 92
        }
      ]
    },
    {
      "cell_type": "code",
      "metadata": {
        "colab": {
          "base_uri": "https://localhost:8080/",
          "height": 191
        },
        "id": "K0zTKdHC5xFt",
        "outputId": "540ecb54-d802-49b4-f794-71929b56dc44"
      },
      "source": [
        "# Criar novo data frame\n",
        "stats_by_house = pd.DataFrame(columns=['house'])\n",
        "stats_by_house['house'] = houses\n",
        "stats_by_house.head()"
      ],
      "execution_count": 93,
      "outputs": [
        {
          "output_type": "execute_result",
          "data": {
            "text/html": [
              "<div>\n",
              "<style scoped>\n",
              "    .dataframe tbody tr th:only-of-type {\n",
              "        vertical-align: middle;\n",
              "    }\n",
              "\n",
              "    .dataframe tbody tr th {\n",
              "        vertical-align: top;\n",
              "    }\n",
              "\n",
              "    .dataframe thead th {\n",
              "        text-align: right;\n",
              "    }\n",
              "</style>\n",
              "<table border=\"1\" class=\"dataframe\">\n",
              "  <thead>\n",
              "    <tr style=\"text-align: right;\">\n",
              "      <th></th>\n",
              "      <th>house</th>\n",
              "    </tr>\n",
              "  </thead>\n",
              "  <tbody>\n",
              "    <tr>\n",
              "      <th>0</th>\n",
              "      <td>Baratheon</td>\n",
              "    </tr>\n",
              "    <tr>\n",
              "      <th>1</th>\n",
              "      <td>Blackwood</td>\n",
              "    </tr>\n",
              "    <tr>\n",
              "      <th>2</th>\n",
              "      <td>Bolton</td>\n",
              "    </tr>\n",
              "    <tr>\n",
              "      <th>3</th>\n",
              "      <td>Bracken</td>\n",
              "    </tr>\n",
              "    <tr>\n",
              "      <th>4</th>\n",
              "      <td>Brave Companions</td>\n",
              "    </tr>\n",
              "  </tbody>\n",
              "</table>\n",
              "</div>"
            ],
            "text/plain": [
              "              house\n",
              "0         Baratheon\n",
              "1         Blackwood\n",
              "2            Bolton\n",
              "3           Bracken\n",
              "4  Brave Companions"
            ]
          },
          "metadata": {
            "tags": []
          },
          "execution_count": 93
        }
      ]
    },
    {
      "cell_type": "code",
      "metadata": {
        "colab": {
          "base_uri": "https://localhost:8080/",
          "height": 191
        },
        "id": "tOd65FNe0Dew",
        "outputId": "8add1117-08f5-40df-ba03-5b3f4434838e"
      },
      "source": [
        "# Adicionar vitórias\n",
        "for house in houses:\n",
        "  victories = battles.loc[((battles['attacker_1'] == house) & (battles['attacker_outcome'] == 1)) | ((battles['defender_1'] == house) & (battles['attacker_outcome'] == 0)), ['attacker_outcome']].count().at['attacker_outcome']\n",
        "  stats_by_house.loc[stats_by_house['house'] == house, ['victories']] = victories\n",
        "\n",
        "stats_by_house.head()"
      ],
      "execution_count": 94,
      "outputs": [
        {
          "output_type": "execute_result",
          "data": {
            "text/html": [
              "<div>\n",
              "<style scoped>\n",
              "    .dataframe tbody tr th:only-of-type {\n",
              "        vertical-align: middle;\n",
              "    }\n",
              "\n",
              "    .dataframe tbody tr th {\n",
              "        vertical-align: top;\n",
              "    }\n",
              "\n",
              "    .dataframe thead th {\n",
              "        text-align: right;\n",
              "    }\n",
              "</style>\n",
              "<table border=\"1\" class=\"dataframe\">\n",
              "  <thead>\n",
              "    <tr style=\"text-align: right;\">\n",
              "      <th></th>\n",
              "      <th>house</th>\n",
              "      <th>victories</th>\n",
              "    </tr>\n",
              "  </thead>\n",
              "  <tbody>\n",
              "    <tr>\n",
              "      <th>0</th>\n",
              "      <td>Baratheon</td>\n",
              "      <td>4.0</td>\n",
              "    </tr>\n",
              "    <tr>\n",
              "      <th>1</th>\n",
              "      <td>Blackwood</td>\n",
              "      <td>0.0</td>\n",
              "    </tr>\n",
              "    <tr>\n",
              "      <th>2</th>\n",
              "      <td>Bolton</td>\n",
              "      <td>3.0</td>\n",
              "    </tr>\n",
              "    <tr>\n",
              "      <th>3</th>\n",
              "      <td>Bracken</td>\n",
              "      <td>1.0</td>\n",
              "    </tr>\n",
              "    <tr>\n",
              "      <th>4</th>\n",
              "      <td>Brave Companions</td>\n",
              "      <td>1.0</td>\n",
              "    </tr>\n",
              "  </tbody>\n",
              "</table>\n",
              "</div>"
            ],
            "text/plain": [
              "              house  victories\n",
              "0         Baratheon        4.0\n",
              "1         Blackwood        0.0\n",
              "2            Bolton        3.0\n",
              "3           Bracken        1.0\n",
              "4  Brave Companions        1.0"
            ]
          },
          "metadata": {
            "tags": []
          },
          "execution_count": 94
        }
      ]
    },
    {
      "cell_type": "code",
      "metadata": {
        "colab": {
          "base_uri": "https://localhost:8080/",
          "height": 305
        },
        "id": "v5TblMunD4re",
        "outputId": "76bbea98-0781-42b2-8779-52e89adf1625"
      },
      "source": [
        "figure, axes = plt.subplots(1, 3, figsize=(30,5))\n",
        "\n",
        "battles[battles['attacker_outcome'] == 1].groupby(['attacker_1'])['attacker_outcome'].count().sort_values().plot(kind='barh', ax=axes[0])\n",
        "battles[battles['attacker_outcome'] == 0].groupby(['defender_1'])['attacker_outcome'].count().sort_values().plot(kind='barh', ax=axes[1])\n",
        "stats_by_house.groupby(['house'])['victories'].sum().sort_values().plot(kind='barh', ax=axes[2])\n",
        "\n",
        "axes[0].title.set_text('Victories by house as attacker')\n",
        "axes[1].title.set_text('Victories by house as defender')\n",
        "axes[2].title.set_text('Totoal victories by house')\n",
        "\n",
        "plt.subplots_adjust(wspace=0.5)"
      ],
      "execution_count": 95,
      "outputs": [
        {
          "output_type": "display_data",
          "data": {
            "image/png": "[encoded data removed]",
            "text/plain": [
              "<Figure size 2160x360 with 3 Axes>"
            ]
          },
          "metadata": {
            "tags": [],
            "needs_background": "light"
          }
        }
      ]
    },
    {
      "cell_type": "markdown",
      "metadata": {
        "id": "lWfBoRw8IM40"
      },
      "source": [
        "Podemos ver que na grande maioria das batalhas o atacante venceu. E a casa Lannister é a casa que mais ganhou batalhas (tanto como atacante quanto como defensor)."
      ]
    },
    {
      "cell_type": "markdown",
      "metadata": {
        "id": "g2qDbvtUnCdx"
      },
      "source": [
        "# Teste de Hipótese"
      ]
    },
    {
      "cell_type": "code",
      "metadata": {
        "id": "Jf_frrsJLnki"
      },
      "source": [
        "from scipy import stats"
      ],
      "execution_count": 96,
      "outputs": []
    },
    {
      "cell_type": "markdown",
      "metadata": {
        "id": "G2IbHAH-BsP6"
      },
      "source": [
        "## O tamanho médio das tropas das casas que mais venceram batalhas é igual"
      ]
    },
    {
      "cell_type": "code",
      "metadata": {
        "colab": {
          "base_uri": "https://localhost:8080/",
          "height": 105
        },
        "id": "2kVQJZd6EWge",
        "outputId": "385d8ac4-45fe-445b-e65f-ab3d5c4c2896"
      },
      "source": [
        "# As duas casas que mais venceram batalhas\n",
        "stats_by_house.sort_values('victories', ascending=False).head(2)"
      ],
      "execution_count": 97,
      "outputs": [
        {
          "output_type": "execute_result",
          "data": {
            "text/html": [
              "<div>\n",
              "<style scoped>\n",
              "    .dataframe tbody tr th:only-of-type {\n",
              "        vertical-align: middle;\n",
              "    }\n",
              "\n",
              "    .dataframe tbody tr th {\n",
              "        vertical-align: top;\n",
              "    }\n",
              "\n",
              "    .dataframe thead th {\n",
              "        text-align: right;\n",
              "    }\n",
              "</style>\n",
              "<table border=\"1\" class=\"dataframe\">\n",
              "  <thead>\n",
              "    <tr style=\"text-align: right;\">\n",
              "      <th></th>\n",
              "      <th>house</th>\n",
              "      <th>victories</th>\n",
              "    </tr>\n",
              "  </thead>\n",
              "  <tbody>\n",
              "    <tr>\n",
              "      <th>10</th>\n",
              "      <td>Lannister</td>\n",
              "      <td>10.0</td>\n",
              "    </tr>\n",
              "    <tr>\n",
              "      <th>9</th>\n",
              "      <td>Greyjoy</td>\n",
              "      <td>7.0</td>\n",
              "    </tr>\n",
              "  </tbody>\n",
              "</table>\n",
              "</div>"
            ],
            "text/plain": [
              "        house  victories\n",
              "10  Lannister       10.0\n",
              "9     Greyjoy        7.0"
            ]
          },
          "metadata": {
            "tags": []
          },
          "execution_count": 97
        }
      ]
    },
    {
      "cell_type": "code",
      "metadata": {
        "colab": {
          "base_uri": "https://localhost:8080/",
          "height": 191
        },
        "id": "scnkwoM6Fkd2",
        "outputId": "f2854b5e-0f8e-4bec-c073-1b4d8d25ac7e"
      },
      "source": [
        "# Lannister\n",
        "lannister_as_attacker = battles.loc[(battles['attacker_1'] == 'Lannister') & (battles['attacker_outcome'] == 1), ['attacker_size']]\n",
        "lannister_as_attacker['size'] = lannister_as_attacker['attacker_size']\n",
        "lannister_as_attacker.drop(columns=['attacker_size'], inplace=True)\n",
        "\n",
        "lannister_as_defender = battles.loc[(battles['defender_1'] == 'Lannister') & (battles['attacker_outcome'] == 0), ['defender_size']]\n",
        "lannister_as_defender['size'] = lannister_as_defender['defender_size']\n",
        "lannister_as_defender.drop(columns=['defender_size'], inplace=True)\n",
        "\n",
        "lannister = lannister_as_attacker.copy()\n",
        "lannister = lannister.append(lannister_as_defender, ignore_index=True)\n",
        "\n",
        "lannister.head()"
      ],
      "execution_count": 98,
      "outputs": [
        {
          "output_type": "execute_result",
          "data": {
            "text/html": [
              "<div>\n",
              "<style scoped>\n",
              "    .dataframe tbody tr th:only-of-type {\n",
              "        vertical-align: middle;\n",
              "    }\n",
              "\n",
              "    .dataframe tbody tr th {\n",
              "        vertical-align: top;\n",
              "    }\n",
              "\n",
              "    .dataframe thead th {\n",
              "        text-align: right;\n",
              "    }\n",
              "</style>\n",
              "<table border=\"1\" class=\"dataframe\">\n",
              "  <thead>\n",
              "    <tr style=\"text-align: right;\">\n",
              "      <th></th>\n",
              "      <th>size</th>\n",
              "    </tr>\n",
              "  </thead>\n",
              "  <tbody>\n",
              "    <tr>\n",
              "      <th>0</th>\n",
              "      <td>15000.0</td>\n",
              "    </tr>\n",
              "    <tr>\n",
              "      <th>1</th>\n",
              "      <td>7713.0</td>\n",
              "    </tr>\n",
              "    <tr>\n",
              "      <th>2</th>\n",
              "      <td>15000.0</td>\n",
              "    </tr>\n",
              "    <tr>\n",
              "      <th>3</th>\n",
              "      <td>9020.0</td>\n",
              "    </tr>\n",
              "    <tr>\n",
              "      <th>4</th>\n",
              "      <td>7141.0</td>\n",
              "    </tr>\n",
              "  </tbody>\n",
              "</table>\n",
              "</div>"
            ],
            "text/plain": [
              "      size\n",
              "0  15000.0\n",
              "1   7713.0\n",
              "2  15000.0\n",
              "3   9020.0\n",
              "4   7141.0"
            ]
          },
          "metadata": {
            "tags": []
          },
          "execution_count": 98
        }
      ]
    },
    {
      "cell_type": "code",
      "metadata": {
        "colab": {
          "base_uri": "https://localhost:8080/",
          "height": 191
        },
        "id": "ZTNvKcPMK0mu",
        "outputId": "8811a8b4-db71-4394-f5b5-911b3222b6ef"
      },
      "source": [
        "# Greyjoy\n",
        "greyjoy_as_attacker = battles.loc[(battles['attacker_1'] == 'Greyjoy') & (battles['attacker_outcome'] == 1), ['attacker_size']]\n",
        "greyjoy_as_attacker['size'] = greyjoy_as_attacker['attacker_size']\n",
        "greyjoy_as_attacker.drop(columns=['attacker_size'], inplace=True)\n",
        "\n",
        "greyjoy_as_defender = battles.loc[(battles['defender_1'] == 'Greyjoy') & (battles['attacker_outcome'] == 0), ['defender_size']]\n",
        "greyjoy_as_defender['size'] = greyjoy_as_defender['defender_size']\n",
        "greyjoy_as_defender.drop(columns=['defender_size'], inplace=True)\n",
        "\n",
        "greyjoy = greyjoy_as_attacker.copy()\n",
        "greyjoy = greyjoy.append(greyjoy_as_defender, ignore_index=True)\n",
        "\n",
        "greyjoy.head()"
      ],
      "execution_count": 99,
      "outputs": [
        {
          "output_type": "execute_result",
          "data": {
            "text/html": [
              "<div>\n",
              "<style scoped>\n",
              "    .dataframe tbody tr th:only-of-type {\n",
              "        vertical-align: middle;\n",
              "    }\n",
              "\n",
              "    .dataframe tbody tr th {\n",
              "        vertical-align: top;\n",
              "    }\n",
              "\n",
              "    .dataframe thead th {\n",
              "        text-align: right;\n",
              "    }\n",
              "</style>\n",
              "<table border=\"1\" class=\"dataframe\">\n",
              "  <thead>\n",
              "    <tr style=\"text-align: right;\">\n",
              "      <th></th>\n",
              "      <th>size</th>\n",
              "    </tr>\n",
              "  </thead>\n",
              "  <tbody>\n",
              "    <tr>\n",
              "      <th>0</th>\n",
              "      <td>3708.0</td>\n",
              "    </tr>\n",
              "    <tr>\n",
              "      <th>1</th>\n",
              "      <td>1000.0</td>\n",
              "    </tr>\n",
              "    <tr>\n",
              "      <th>2</th>\n",
              "      <td>264.0</td>\n",
              "    </tr>\n",
              "    <tr>\n",
              "      <th>3</th>\n",
              "      <td>20.0</td>\n",
              "    </tr>\n",
              "    <tr>\n",
              "      <th>4</th>\n",
              "      <td>5397.0</td>\n",
              "    </tr>\n",
              "  </tbody>\n",
              "</table>\n",
              "</div>"
            ],
            "text/plain": [
              "     size\n",
              "0  3708.0\n",
              "1  1000.0\n",
              "2   264.0\n",
              "3    20.0\n",
              "4  5397.0"
            ]
          },
          "metadata": {
            "tags": []
          },
          "execution_count": 99
        }
      ]
    },
    {
      "cell_type": "markdown",
      "metadata": {
        "id": "E51nTofSE_TF"
      },
      "source": [
        "H0: A média do tamanho das tropas é igual\n",
        "\n",
        "H1: A média do tamanho das tropas é diferente"
      ]
    },
    {
      "cell_type": "code",
      "metadata": {
        "colab": {
          "base_uri": "https://localhost:8080/",
          "height": 281
        },
        "id": "s9SwQ31oLVKv",
        "outputId": "3f44fd94-46d6-4aca-b0d8-b94426c174cd"
      },
      "source": [
        "lannister['size'].hist()"
      ],
      "execution_count": 100,
      "outputs": [
        {
          "output_type": "execute_result",
          "data": {
            "text/plain": [
              "<matplotlib.axes._subplots.AxesSubplot at 0x7f96c86cecd0>"
            ]
          },
          "metadata": {
            "tags": []
          },
          "execution_count": 100
        },
        {
          "output_type": "display_data",
          "data": {
            "image/png": "[encoded data removed]",
            "text/plain": [
              "<Figure size 432x288 with 1 Axes>"
            ]
          },
          "metadata": {
            "tags": [],
            "needs_background": "light"
          }
        }
      ]
    },
    {
      "cell_type": "code",
      "metadata": {
        "colab": {
          "base_uri": "https://localhost:8080/"
        },
        "id": "8TTw2zncLdxK",
        "outputId": "b0424bd1-332c-4df4-c866-5acf79a45803"
      },
      "source": [
        "stats.shapiro(lannister['size'])"
      ],
      "execution_count": 101,
      "outputs": [
        {
          "output_type": "execute_result",
          "data": {
            "text/plain": [
              "ShapiroResult(statistic=0.938037097454071, pvalue=0.5313857793807983)"
            ]
          },
          "metadata": {
            "tags": []
          },
          "execution_count": 101
        }
      ]
    },
    {
      "cell_type": "code",
      "metadata": {
        "colab": {
          "base_uri": "https://localhost:8080/",
          "height": 281
        },
        "id": "H-KUc0F3M2S8",
        "outputId": "332a79b7-5e2d-4eef-f53d-1f605be69507"
      },
      "source": [
        "greyjoy['size'].hist()"
      ],
      "execution_count": 102,
      "outputs": [
        {
          "output_type": "execute_result",
          "data": {
            "text/plain": [
              "<matplotlib.axes._subplots.AxesSubplot at 0x7f96c8672390>"
            ]
          },
          "metadata": {
            "tags": []
          },
          "execution_count": 102
        },
        {
          "output_type": "display_data",
          "data": {
            "image/png": "[encoded data removed]",
            "text/plain": [
              "<Figure size 432x288 with 1 Axes>"
            ]
          },
          "metadata": {
            "tags": [],
            "needs_background": "light"
          }
        }
      ]
    },
    {
      "cell_type": "code",
      "metadata": {
        "colab": {
          "base_uri": "https://localhost:8080/"
        },
        "id": "YEUzQNOLM5eU",
        "outputId": "cd26bc7b-79f5-4e8f-8c83-f4bb7de16ebd"
      },
      "source": [
        "stats.shapiro(greyjoy['size'])"
      ],
      "execution_count": 103,
      "outputs": [
        {
          "output_type": "execute_result",
          "data": {
            "text/plain": [
              "ShapiroResult(statistic=0.878543496131897, pvalue=0.2200610339641571)"
            ]
          },
          "metadata": {
            "tags": []
          },
          "execution_count": 103
        }
      ]
    },
    {
      "cell_type": "markdown",
      "metadata": {
        "id": "cDDFd5xBLrWb"
      },
      "source": [
        "Utilizando um valor crítico de 0.05 (5%), podemos considerar que as duas distribuições seguem a normal.\n",
        "\n",
        "Sendo assim, usaremos o `t-Test` não pareado para seguir com nosso test de hipótese."
      ]
    },
    {
      "cell_type": "code",
      "metadata": {
        "colab": {
          "base_uri": "https://localhost:8080/"
        },
        "id": "YSdtSDk6PGw2",
        "outputId": "235f6bae-dd23-4099-88d6-f9ec88881b72"
      },
      "source": [
        "stats.ttest_ind(lannister['size'], greyjoy['size'])"
      ],
      "execution_count": 104,
      "outputs": [
        {
          "output_type": "execute_result",
          "data": {
            "text/plain": [
              "Ttest_indResult(statistic=4.04501390016186, pvalue=0.0010579562292701596)"
            ]
          },
          "metadata": {
            "tags": []
          },
          "execution_count": 104
        }
      ]
    },
    {
      "cell_type": "markdown",
      "metadata": {
        "id": "ADvxjy0TRbn4"
      },
      "source": [
        "Como o `pvalue` é menor do que o valor crítico de 0.05, a hipótese nula foi rejeitada. Isso significa que, apesar de Lannister e Greyjoy seream as casas com mais vitórias, o tamanho médio de suas tropas não são iguais."
      ]
    },
    {
      "cell_type": "markdown",
      "metadata": {
        "id": "NYaheKGySJmI"
      },
      "source": [
        "## As batalhas que ocorreram durante o verão foram maiores do que as demais"
      ]
    },
    {
      "cell_type": "markdown",
      "metadata": {
        "id": "NHwr9TCHSZQ_"
      },
      "source": [
        "Para prosseguir com esse test de hipótese precisamos primeiro criar uma nova coluna para termos o tamanho total da batalha."
      ]
    },
    {
      "cell_type": "code",
      "metadata": {
        "colab": {
          "base_uri": "https://localhost:8080/",
          "height": 487
        },
        "id": "4Qt9Bv68SaML",
        "outputId": "335ef2e9-50d7-4511-d445-2c5843d1998d"
      },
      "source": [
        "battles['total_size'] = battles.loc[:,['attacker_size','defender_size']].sum(axis=1)\n",
        "battles.head()"
      ],
      "execution_count": 105,
      "outputs": [
        {
          "output_type": "stream",
          "text": [
            "/usr/local/lib/python3.7/dist-packages/ipykernel_launcher.py:1: SettingWithCopyWarning: \n",
            "A value is trying to be set on a copy of a slice from a DataFrame.\n",
            "Try using .loc[row_indexer,col_indexer] = value instead\n",
            "\n",
            "See the caveats in the documentation: https://pandas.pydata.org/pandas-docs/stable/user_guide/indexing.html#returning-a-view-versus-a-copy\n",
            "  \"\"\"Entry point for launching an IPython kernel.\n"
          ],
          "name": "stderr"
        },
        {
          "output_type": "execute_result",
          "data": {
            "text/html": [
              "<div>\n",
              "<style scoped>\n",
              "    .dataframe tbody tr th:only-of-type {\n",
              "        vertical-align: middle;\n",
              "    }\n",
              "\n",
              "    .dataframe tbody tr th {\n",
              "        vertical-align: top;\n",
              "    }\n",
              "\n",
              "    .dataframe thead th {\n",
              "        text-align: right;\n",
              "    }\n",
              "</style>\n",
              "<table border=\"1\" class=\"dataframe\">\n",
              "  <thead>\n",
              "    <tr style=\"text-align: right;\">\n",
              "      <th></th>\n",
              "      <th>name</th>\n",
              "      <th>year</th>\n",
              "      <th>attacker_king</th>\n",
              "      <th>defender_king</th>\n",
              "      <th>attacker_1</th>\n",
              "      <th>defender_1</th>\n",
              "      <th>attacker_outcome</th>\n",
              "      <th>battle_type</th>\n",
              "      <th>major_death</th>\n",
              "      <th>major_capture</th>\n",
              "      <th>attacker_size</th>\n",
              "      <th>defender_size</th>\n",
              "      <th>summer</th>\n",
              "      <th>location</th>\n",
              "      <th>region</th>\n",
              "      <th>attacker_commander_1</th>\n",
              "      <th>defender_commander_1</th>\n",
              "      <th>size_difference</th>\n",
              "      <th>size_difference_disc</th>\n",
              "      <th>total_size</th>\n",
              "    </tr>\n",
              "  </thead>\n",
              "  <tbody>\n",
              "    <tr>\n",
              "      <th>0</th>\n",
              "      <td>Battle of the Golden Tooth</td>\n",
              "      <td>298</td>\n",
              "      <td>Joffrey/Tommen Baratheon</td>\n",
              "      <td>Robb Stark</td>\n",
              "      <td>Lannister</td>\n",
              "      <td>Tully</td>\n",
              "      <td>1</td>\n",
              "      <td>pitched battle</td>\n",
              "      <td>1</td>\n",
              "      <td>0</td>\n",
              "      <td>15000.0</td>\n",
              "      <td>4000.0</td>\n",
              "      <td>1</td>\n",
              "      <td>Golden Tooth</td>\n",
              "      <td>The Westerlands</td>\n",
              "      <td>Jaime Lannister</td>\n",
              "      <td>Clement Piper</td>\n",
              "      <td>11000.0</td>\n",
              "      <td>advantage_2</td>\n",
              "      <td>19000.0</td>\n",
              "    </tr>\n",
              "    <tr>\n",
              "      <th>1</th>\n",
              "      <td>Battle at the Mummer's Ford</td>\n",
              "      <td>298</td>\n",
              "      <td>Joffrey/Tommen Baratheon</td>\n",
              "      <td>Robb Stark</td>\n",
              "      <td>Lannister</td>\n",
              "      <td>Baratheon</td>\n",
              "      <td>1</td>\n",
              "      <td>ambush</td>\n",
              "      <td>1</td>\n",
              "      <td>0</td>\n",
              "      <td>7713.0</td>\n",
              "      <td>120.0</td>\n",
              "      <td>1</td>\n",
              "      <td>Mummer's Ford</td>\n",
              "      <td>The Riverlands</td>\n",
              "      <td>Gregor Clegane</td>\n",
              "      <td>Beric Dondarrion</td>\n",
              "      <td>7593.0</td>\n",
              "      <td>advantage_2</td>\n",
              "      <td>7833.0</td>\n",
              "    </tr>\n",
              "    <tr>\n",
              "      <th>2</th>\n",
              "      <td>Battle of Riverrun</td>\n",
              "      <td>298</td>\n",
              "      <td>Joffrey/Tommen Baratheon</td>\n",
              "      <td>Robb Stark</td>\n",
              "      <td>Lannister</td>\n",
              "      <td>Tully</td>\n",
              "      <td>1</td>\n",
              "      <td>pitched battle</td>\n",
              "      <td>0</td>\n",
              "      <td>1</td>\n",
              "      <td>15000.0</td>\n",
              "      <td>10000.0</td>\n",
              "      <td>1</td>\n",
              "      <td>Riverrun</td>\n",
              "      <td>The Riverlands</td>\n",
              "      <td>Jaime Lannister</td>\n",
              "      <td>Edmure Tully</td>\n",
              "      <td>5000.0</td>\n",
              "      <td>advantage_2</td>\n",
              "      <td>25000.0</td>\n",
              "    </tr>\n",
              "    <tr>\n",
              "      <th>3</th>\n",
              "      <td>Battle of the Green Fork</td>\n",
              "      <td>298</td>\n",
              "      <td>Robb Stark</td>\n",
              "      <td>Joffrey/Tommen Baratheon</td>\n",
              "      <td>Stark</td>\n",
              "      <td>Lannister</td>\n",
              "      <td>0</td>\n",
              "      <td>pitched battle</td>\n",
              "      <td>1</td>\n",
              "      <td>1</td>\n",
              "      <td>18000.0</td>\n",
              "      <td>20000.0</td>\n",
              "      <td>1</td>\n",
              "      <td>Green Fork</td>\n",
              "      <td>The Riverlands</td>\n",
              "      <td>Roose Bolton</td>\n",
              "      <td>Tywin Lannister</td>\n",
              "      <td>-2000.0</td>\n",
              "      <td>disavantage_2</td>\n",
              "      <td>38000.0</td>\n",
              "    </tr>\n",
              "    <tr>\n",
              "      <th>4</th>\n",
              "      <td>Battle of the Whispering Wood</td>\n",
              "      <td>298</td>\n",
              "      <td>Robb Stark</td>\n",
              "      <td>Joffrey/Tommen Baratheon</td>\n",
              "      <td>Stark</td>\n",
              "      <td>Lannister</td>\n",
              "      <td>1</td>\n",
              "      <td>ambush</td>\n",
              "      <td>1</td>\n",
              "      <td>1</td>\n",
              "      <td>1875.0</td>\n",
              "      <td>6000.0</td>\n",
              "      <td>1</td>\n",
              "      <td>Whispering Wood</td>\n",
              "      <td>The Riverlands</td>\n",
              "      <td>Robb Stark</td>\n",
              "      <td>Jaime Lannister</td>\n",
              "      <td>-4125.0</td>\n",
              "      <td>disavantage_3</td>\n",
              "      <td>7875.0</td>\n",
              "    </tr>\n",
              "  </tbody>\n",
              "</table>\n",
              "</div>"
            ],
            "text/plain": [
              "                            name year  ... size_difference_disc total_size\n",
              "0     Battle of the Golden Tooth  298  ...          advantage_2    19000.0\n",
              "1    Battle at the Mummer's Ford  298  ...          advantage_2     7833.0\n",
              "2             Battle of Riverrun  298  ...          advantage_2    25000.0\n",
              "3       Battle of the Green Fork  298  ...        disavantage_2    38000.0\n",
              "4  Battle of the Whispering Wood  298  ...        disavantage_3     7875.0\n",
              "\n",
              "[5 rows x 20 columns]"
            ]
          },
          "metadata": {
            "tags": []
          },
          "execution_count": 105
        }
      ]
    },
    {
      "cell_type": "markdown",
      "metadata": {
        "id": "Y0_JoO6CXCQO"
      },
      "source": [
        "H0: A média do tamanho das batalhas foi igual para o verão e as demais estações\n",
        "\n",
        "H1: A média do tamanho das batalhas foi maior durante o verão"
      ]
    },
    {
      "cell_type": "code",
      "metadata": {
        "colab": {
          "base_uri": "https://localhost:8080/",
          "height": 281
        },
        "id": "HkpAHcRBVsDc",
        "outputId": "3254c9df-035f-498b-d88f-d3f687d0475c"
      },
      "source": [
        "battles[battles['summer'] == 1]['total_size'].hist()"
      ],
      "execution_count": 106,
      "outputs": [
        {
          "output_type": "execute_result",
          "data": {
            "text/plain": [
              "<matplotlib.axes._subplots.AxesSubplot at 0x7f96c85fc110>"
            ]
          },
          "metadata": {
            "tags": []
          },
          "execution_count": 106
        },
        {
          "output_type": "display_data",
          "data": {
            "image/png": "[encoded data removed]",
            "text/plain": [
              "<Figure size 432x288 with 1 Axes>"
            ]
          },
          "metadata": {
            "tags": [],
            "needs_background": "light"
          }
        }
      ]
    },
    {
      "cell_type": "code",
      "metadata": {
        "colab": {
          "base_uri": "https://localhost:8080/"
        },
        "id": "rNVwTdVIWRVi",
        "outputId": "28ac484e-7e0f-4449-ad8c-4a9a6bbd3353"
      },
      "source": [
        "stats.shapiro(battles[battles['summer'] == 1]['total_size'])"
      ],
      "execution_count": 107,
      "outputs": [
        {
          "output_type": "execute_result",
          "data": {
            "text/plain": [
              "ShapiroResult(statistic=0.9409182667732239, pvalue=0.15543711185455322)"
            ]
          },
          "metadata": {
            "tags": []
          },
          "execution_count": 107
        }
      ]
    },
    {
      "cell_type": "code",
      "metadata": {
        "colab": {
          "base_uri": "https://localhost:8080/",
          "height": 281
        },
        "id": "5DUBi_n_V23t",
        "outputId": "905e98b6-119b-4823-8d7f-4994b6310c17"
      },
      "source": [
        "battles[battles['summer'] == 0]['total_size'].hist()"
      ],
      "execution_count": 108,
      "outputs": [
        {
          "output_type": "execute_result",
          "data": {
            "text/plain": [
              "<matplotlib.axes._subplots.AxesSubplot at 0x7f96c8586890>"
            ]
          },
          "metadata": {
            "tags": []
          },
          "execution_count": 108
        },
        {
          "output_type": "display_data",
          "data": {
            "image/png": "[encoded data removed]",
            "text/plain": [
              "<Figure size 432x288 with 1 Axes>"
            ]
          },
          "metadata": {
            "tags": [],
            "needs_background": "light"
          }
        }
      ]
    },
    {
      "cell_type": "code",
      "metadata": {
        "colab": {
          "base_uri": "https://localhost:8080/"
        },
        "id": "p6t43XXtWTnU",
        "outputId": "2034fc9e-24aa-40e8-e2a2-edb04bae89a6"
      },
      "source": [
        "stats.shapiro(battles[battles['summer'] == 0]['total_size'])"
      ],
      "execution_count": 109,
      "outputs": [
        {
          "output_type": "execute_result",
          "data": {
            "text/plain": [
              "ShapiroResult(statistic=0.8379897475242615, pvalue=0.04174250736832619)"
            ]
          },
          "metadata": {
            "tags": []
          },
          "execution_count": 109
        }
      ]
    },
    {
      "cell_type": "markdown",
      "metadata": {
        "id": "cubshsCQWYpu"
      },
      "source": [
        "Utilizando um valor crítico de 0.05 (5%), podemos considerar que a primeira distribuição segue a normal, mas a segunda não.\n",
        "\n",
        "Sendo assim, usaremos o `Mann-Whitney U Test` para seguir com nosso test de hipótese."
      ]
    },
    {
      "cell_type": "code",
      "metadata": {
        "colab": {
          "base_uri": "https://localhost:8080/"
        },
        "id": "OyhlI00bWisZ",
        "outputId": "f5de3933-2a53-443b-bf44-25f3295d46d4"
      },
      "source": [
        "stats.mannwhitneyu(battles[battles['summer'] == 1]['total_size'], battles[battles['summer'] == 0]['total_size'], alternative='greater')"
      ],
      "execution_count": 110,
      "outputs": [
        {
          "output_type": "execute_result",
          "data": {
            "text/plain": [
              "MannwhitneyuResult(statistic=197.0, pvalue=0.0045139777576079865)"
            ]
          },
          "metadata": {
            "tags": []
          },
          "execution_count": 110
        }
      ]
    },
    {
      "cell_type": "markdown",
      "metadata": {
        "id": "lQ5HsPeqW842"
      },
      "source": [
        "Como o `pvalue` é menor do que o valor crítico de 0.05, a hipótese nula foi rejeitada. Isso significa que, em média, as batalhas que ocorreram durante o verão foram maiores do que aquelas que ocorreram nas outras estações."
      ]
    }
  ]
}