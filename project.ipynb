{
  "nbformat": 4,
  "nbformat_minor": 0,
  "metadata": {
    "colab": {
      "name": "project.ipynb",
      "provenance": [],
      "collapsed_sections": [
        "URrkNcQqvgLV",
        "ima0JSRDvjYL",
        "tZWVw4ysAbpY",
        "mGsVf6uH7S1o"
      ],
      "authorship_tag": "ABX9TyMs4UjOCJZIfv4eVXyqg9ma",
      "include_colab_link": true
    },
    "kernelspec": {
      "name": "python3",
      "display_name": "Python 3"
    },
    "language_info": {
      "name": "python"
    }
  },
  "cells": [
    {
      "cell_type": "markdown",
      "metadata": {
        "id": "view-in-github",
        "colab_type": "text"
      },
      "source": [
        "<a href=\"https://colab.research.google.com/github/ccal2/dataScienceProject/blob/master/project.ipynb\" target=\"_parent\"><img src=\"https://colab.research.google.com/assets/colab-badge.svg\" alt=\"Open In Colab\"/></a>"
      ]
    },
    {
      "cell_type": "markdown",
      "metadata": {
        "id": "YPey_PkSovSJ"
      },
      "source": [
        "# Introdução\n"
      ]
    },
    {
      "cell_type": "markdown",
      "metadata": {
        "id": "W-YSXIFZqhIO"
      },
      "source": [
        "Esse projeto foi desenvolvido utilizando um *dataset* que contém dados relacionados à série de livros *A Song of Ice and Fire* (As Crônicas de Gelo e Fogo), mais conhecida pelo título do seu primeiro livro: *A Game of Thrones* (A Guerra dos Tronos).\n",
        "\n",
        "O arquivo `battles.csv` foi baixados diretamente de um *dataset* do [kaggle](https://www.kaggle.com/mylesoneill/game-of-thrones) e possui informações de várias batalhas que ocorrem durante a história."
      ]
    },
    {
      "cell_type": "markdown",
      "metadata": {
        "id": "HPHhnkcKod7X"
      },
      "source": [
        "# Setup"
      ]
    },
    {
      "cell_type": "markdown",
      "metadata": {
        "id": "_2la0db8od7k"
      },
      "source": [
        "**Lembre-se de dar upload do arquivo `battles.csv`.**"
      ]
    },
    {
      "cell_type": "code",
      "metadata": {
        "id": "WQC86g8Lod7l"
      },
      "source": [
        "#pip install fancyimpute"
      ],
      "execution_count": 1,
      "outputs": []
    },
    {
      "cell_type": "code",
      "metadata": {
        "id": "rDlfxjPi_Rh0"
      },
      "source": [
        "import pandas as pd\n",
        "import numpy as np"
      ],
      "execution_count": 2,
      "outputs": []
    },
    {
      "cell_type": "code",
      "metadata": {
        "id": "ktdnzvzFxjSA"
      },
      "source": [
        "battles = pd.read_csv('battles.csv')"
      ],
      "execution_count": 3,
      "outputs": []
    },
    {
      "cell_type": "markdown",
      "metadata": {
        "id": "t3-VC01YuL-g"
      },
      "source": [
        "# Pré-processamento"
      ]
    },
    {
      "cell_type": "code",
      "metadata": {
        "colab": {
          "base_uri": "https://localhost:8080/",
          "height": 390
        },
        "id": "0gnkbbIWAOb3",
        "outputId": "1b1bb4bf-9dcc-471c-ee7b-807fb60d974e"
      },
      "source": [
        "battles.head()"
      ],
      "execution_count": 4,
      "outputs": [
        {
          "output_type": "execute_result",
          "data": {
            "text/html": [
              "<div>\n",
              "<style scoped>\n",
              "    .dataframe tbody tr th:only-of-type {\n",
              "        vertical-align: middle;\n",
              "    }\n",
              "\n",
              "    .dataframe tbody tr th {\n",
              "        vertical-align: top;\n",
              "    }\n",
              "\n",
              "    .dataframe thead th {\n",
              "        text-align: right;\n",
              "    }\n",
              "</style>\n",
              "<table border=\"1\" class=\"dataframe\">\n",
              "  <thead>\n",
              "    <tr style=\"text-align: right;\">\n",
              "      <th></th>\n",
              "      <th>name</th>\n",
              "      <th>year</th>\n",
              "      <th>battle_number</th>\n",
              "      <th>attacker_king</th>\n",
              "      <th>defender_king</th>\n",
              "      <th>attacker_1</th>\n",
              "      <th>attacker_2</th>\n",
              "      <th>attacker_3</th>\n",
              "      <th>attacker_4</th>\n",
              "      <th>defender_1</th>\n",
              "      <th>defender_2</th>\n",
              "      <th>defender_3</th>\n",
              "      <th>defender_4</th>\n",
              "      <th>attacker_outcome</th>\n",
              "      <th>battle_type</th>\n",
              "      <th>major_death</th>\n",
              "      <th>major_capture</th>\n",
              "      <th>attacker_size</th>\n",
              "      <th>defender_size</th>\n",
              "      <th>attacker_commander</th>\n",
              "      <th>defender_commander</th>\n",
              "      <th>summer</th>\n",
              "      <th>location</th>\n",
              "      <th>region</th>\n",
              "      <th>note</th>\n",
              "    </tr>\n",
              "  </thead>\n",
              "  <tbody>\n",
              "    <tr>\n",
              "      <th>0</th>\n",
              "      <td>Battle of the Golden Tooth</td>\n",
              "      <td>298</td>\n",
              "      <td>1</td>\n",
              "      <td>Joffrey/Tommen Baratheon</td>\n",
              "      <td>Robb Stark</td>\n",
              "      <td>Lannister</td>\n",
              "      <td>NaN</td>\n",
              "      <td>NaN</td>\n",
              "      <td>NaN</td>\n",
              "      <td>Tully</td>\n",
              "      <td>NaN</td>\n",
              "      <td>NaN</td>\n",
              "      <td>NaN</td>\n",
              "      <td>win</td>\n",
              "      <td>pitched battle</td>\n",
              "      <td>1.0</td>\n",
              "      <td>0.0</td>\n",
              "      <td>15000.0</td>\n",
              "      <td>4000.0</td>\n",
              "      <td>Jaime Lannister</td>\n",
              "      <td>Clement Piper, Vance</td>\n",
              "      <td>1.0</td>\n",
              "      <td>Golden Tooth</td>\n",
              "      <td>The Westerlands</td>\n",
              "      <td>NaN</td>\n",
              "    </tr>\n",
              "    <tr>\n",
              "      <th>1</th>\n",
              "      <td>Battle at the Mummer's Ford</td>\n",
              "      <td>298</td>\n",
              "      <td>2</td>\n",
              "      <td>Joffrey/Tommen Baratheon</td>\n",
              "      <td>Robb Stark</td>\n",
              "      <td>Lannister</td>\n",
              "      <td>NaN</td>\n",
              "      <td>NaN</td>\n",
              "      <td>NaN</td>\n",
              "      <td>Baratheon</td>\n",
              "      <td>NaN</td>\n",
              "      <td>NaN</td>\n",
              "      <td>NaN</td>\n",
              "      <td>win</td>\n",
              "      <td>ambush</td>\n",
              "      <td>1.0</td>\n",
              "      <td>0.0</td>\n",
              "      <td>NaN</td>\n",
              "      <td>120.0</td>\n",
              "      <td>Gregor Clegane</td>\n",
              "      <td>Beric Dondarrion</td>\n",
              "      <td>1.0</td>\n",
              "      <td>Mummer's Ford</td>\n",
              "      <td>The Riverlands</td>\n",
              "      <td>NaN</td>\n",
              "    </tr>\n",
              "    <tr>\n",
              "      <th>2</th>\n",
              "      <td>Battle of Riverrun</td>\n",
              "      <td>298</td>\n",
              "      <td>3</td>\n",
              "      <td>Joffrey/Tommen Baratheon</td>\n",
              "      <td>Robb Stark</td>\n",
              "      <td>Lannister</td>\n",
              "      <td>NaN</td>\n",
              "      <td>NaN</td>\n",
              "      <td>NaN</td>\n",
              "      <td>Tully</td>\n",
              "      <td>NaN</td>\n",
              "      <td>NaN</td>\n",
              "      <td>NaN</td>\n",
              "      <td>win</td>\n",
              "      <td>pitched battle</td>\n",
              "      <td>0.0</td>\n",
              "      <td>1.0</td>\n",
              "      <td>15000.0</td>\n",
              "      <td>10000.0</td>\n",
              "      <td>Jaime Lannister, Andros Brax</td>\n",
              "      <td>Edmure Tully, Tytos Blackwood</td>\n",
              "      <td>1.0</td>\n",
              "      <td>Riverrun</td>\n",
              "      <td>The Riverlands</td>\n",
              "      <td>NaN</td>\n",
              "    </tr>\n",
              "    <tr>\n",
              "      <th>3</th>\n",
              "      <td>Battle of the Green Fork</td>\n",
              "      <td>298</td>\n",
              "      <td>4</td>\n",
              "      <td>Robb Stark</td>\n",
              "      <td>Joffrey/Tommen Baratheon</td>\n",
              "      <td>Stark</td>\n",
              "      <td>NaN</td>\n",
              "      <td>NaN</td>\n",
              "      <td>NaN</td>\n",
              "      <td>Lannister</td>\n",
              "      <td>NaN</td>\n",
              "      <td>NaN</td>\n",
              "      <td>NaN</td>\n",
              "      <td>loss</td>\n",
              "      <td>pitched battle</td>\n",
              "      <td>1.0</td>\n",
              "      <td>1.0</td>\n",
              "      <td>18000.0</td>\n",
              "      <td>20000.0</td>\n",
              "      <td>Roose Bolton, Wylis Manderly, Medger Cerwyn, H...</td>\n",
              "      <td>Tywin Lannister, Gregor Clegane, Kevan Lannist...</td>\n",
              "      <td>1.0</td>\n",
              "      <td>Green Fork</td>\n",
              "      <td>The Riverlands</td>\n",
              "      <td>NaN</td>\n",
              "    </tr>\n",
              "    <tr>\n",
              "      <th>4</th>\n",
              "      <td>Battle of the Whispering Wood</td>\n",
              "      <td>298</td>\n",
              "      <td>5</td>\n",
              "      <td>Robb Stark</td>\n",
              "      <td>Joffrey/Tommen Baratheon</td>\n",
              "      <td>Stark</td>\n",
              "      <td>Tully</td>\n",
              "      <td>NaN</td>\n",
              "      <td>NaN</td>\n",
              "      <td>Lannister</td>\n",
              "      <td>NaN</td>\n",
              "      <td>NaN</td>\n",
              "      <td>NaN</td>\n",
              "      <td>win</td>\n",
              "      <td>ambush</td>\n",
              "      <td>1.0</td>\n",
              "      <td>1.0</td>\n",
              "      <td>1875.0</td>\n",
              "      <td>6000.0</td>\n",
              "      <td>Robb Stark, Brynden Tully</td>\n",
              "      <td>Jaime Lannister</td>\n",
              "      <td>1.0</td>\n",
              "      <td>Whispering Wood</td>\n",
              "      <td>The Riverlands</td>\n",
              "      <td>NaN</td>\n",
              "    </tr>\n",
              "  </tbody>\n",
              "</table>\n",
              "</div>"
            ],
            "text/plain": [
              "                            name  year  ...           region note\n",
              "0     Battle of the Golden Tooth   298  ...  The Westerlands  NaN\n",
              "1    Battle at the Mummer's Ford   298  ...   The Riverlands  NaN\n",
              "2             Battle of Riverrun   298  ...   The Riverlands  NaN\n",
              "3       Battle of the Green Fork   298  ...   The Riverlands  NaN\n",
              "4  Battle of the Whispering Wood   298  ...   The Riverlands  NaN\n",
              "\n",
              "[5 rows x 25 columns]"
            ]
          },
          "metadata": {
            "tags": []
          },
          "execution_count": 4
        }
      ]
    },
    {
      "cell_type": "code",
      "metadata": {
        "colab": {
          "base_uri": "https://localhost:8080/"
        },
        "id": "9VEHNAcwAqrj",
        "outputId": "e01226ac-d289-4908-bdcd-26db9ef43097"
      },
      "source": [
        "# (linhas, colunas)\n",
        "battles.shape"
      ],
      "execution_count": 5,
      "outputs": [
        {
          "output_type": "execute_result",
          "data": {
            "text/plain": [
              "(38, 25)"
            ]
          },
          "metadata": {
            "tags": []
          },
          "execution_count": 5
        }
      ]
    },
    {
      "cell_type": "markdown",
      "metadata": {
        "id": "ZdIVOICCgbln"
      },
      "source": [
        "## Remoção de `battle_number`"
      ]
    },
    {
      "cell_type": "markdown",
      "metadata": {
        "id": "NB2Yfvt4gj66"
      },
      "source": [
        "A coluna `battle_number` serve como um identificador único para a tabela, mas na verdade ela é dispensável porque já temos um *index* e todos os valores da coluna `name` são únicos."
      ]
    },
    {
      "cell_type": "code",
      "metadata": {
        "colab": {
          "base_uri": "https://localhost:8080/"
        },
        "id": "GshqU36Tg3v7",
        "outputId": "1ee7c45e-f278-4b59-8b66-b48ca2c0f902"
      },
      "source": [
        "battles['name'].describe()"
      ],
      "execution_count": 6,
      "outputs": [
        {
          "output_type": "execute_result",
          "data": {
            "text/plain": [
              "count                      38\n",
              "unique                     38\n",
              "top       Battle of the Fords\n",
              "freq                        1\n",
              "Name: name, dtype: object"
            ]
          },
          "metadata": {
            "tags": []
          },
          "execution_count": 6
        }
      ]
    },
    {
      "cell_type": "code",
      "metadata": {
        "colab": {
          "base_uri": "https://localhost:8080/",
          "height": 0
        },
        "id": "nFB7U4wuhBx1",
        "outputId": "0e304081-ab8f-4a7a-fb8f-0d162f2d55c9"
      },
      "source": [
        "battles.drop(columns=['battle_number'], inplace=True)\n",
        "battles.head()"
      ],
      "execution_count": 7,
      "outputs": [
        {
          "output_type": "execute_result",
          "data": {
            "text/html": [
              "<div>\n",
              "<style scoped>\n",
              "    .dataframe tbody tr th:only-of-type {\n",
              "        vertical-align: middle;\n",
              "    }\n",
              "\n",
              "    .dataframe tbody tr th {\n",
              "        vertical-align: top;\n",
              "    }\n",
              "\n",
              "    .dataframe thead th {\n",
              "        text-align: right;\n",
              "    }\n",
              "</style>\n",
              "<table border=\"1\" class=\"dataframe\">\n",
              "  <thead>\n",
              "    <tr style=\"text-align: right;\">\n",
              "      <th></th>\n",
              "      <th>name</th>\n",
              "      <th>year</th>\n",
              "      <th>attacker_king</th>\n",
              "      <th>defender_king</th>\n",
              "      <th>attacker_1</th>\n",
              "      <th>attacker_2</th>\n",
              "      <th>attacker_3</th>\n",
              "      <th>attacker_4</th>\n",
              "      <th>defender_1</th>\n",
              "      <th>defender_2</th>\n",
              "      <th>defender_3</th>\n",
              "      <th>defender_4</th>\n",
              "      <th>attacker_outcome</th>\n",
              "      <th>battle_type</th>\n",
              "      <th>major_death</th>\n",
              "      <th>major_capture</th>\n",
              "      <th>attacker_size</th>\n",
              "      <th>defender_size</th>\n",
              "      <th>attacker_commander</th>\n",
              "      <th>defender_commander</th>\n",
              "      <th>summer</th>\n",
              "      <th>location</th>\n",
              "      <th>region</th>\n",
              "      <th>note</th>\n",
              "    </tr>\n",
              "  </thead>\n",
              "  <tbody>\n",
              "    <tr>\n",
              "      <th>0</th>\n",
              "      <td>Battle of the Golden Tooth</td>\n",
              "      <td>298</td>\n",
              "      <td>Joffrey/Tommen Baratheon</td>\n",
              "      <td>Robb Stark</td>\n",
              "      <td>Lannister</td>\n",
              "      <td>NaN</td>\n",
              "      <td>NaN</td>\n",
              "      <td>NaN</td>\n",
              "      <td>Tully</td>\n",
              "      <td>NaN</td>\n",
              "      <td>NaN</td>\n",
              "      <td>NaN</td>\n",
              "      <td>win</td>\n",
              "      <td>pitched battle</td>\n",
              "      <td>1.0</td>\n",
              "      <td>0.0</td>\n",
              "      <td>15000.0</td>\n",
              "      <td>4000.0</td>\n",
              "      <td>Jaime Lannister</td>\n",
              "      <td>Clement Piper, Vance</td>\n",
              "      <td>1.0</td>\n",
              "      <td>Golden Tooth</td>\n",
              "      <td>The Westerlands</td>\n",
              "      <td>NaN</td>\n",
              "    </tr>\n",
              "    <tr>\n",
              "      <th>1</th>\n",
              "      <td>Battle at the Mummer's Ford</td>\n",
              "      <td>298</td>\n",
              "      <td>Joffrey/Tommen Baratheon</td>\n",
              "      <td>Robb Stark</td>\n",
              "      <td>Lannister</td>\n",
              "      <td>NaN</td>\n",
              "      <td>NaN</td>\n",
              "      <td>NaN</td>\n",
              "      <td>Baratheon</td>\n",
              "      <td>NaN</td>\n",
              "      <td>NaN</td>\n",
              "      <td>NaN</td>\n",
              "      <td>win</td>\n",
              "      <td>ambush</td>\n",
              "      <td>1.0</td>\n",
              "      <td>0.0</td>\n",
              "      <td>NaN</td>\n",
              "      <td>120.0</td>\n",
              "      <td>Gregor Clegane</td>\n",
              "      <td>Beric Dondarrion</td>\n",
              "      <td>1.0</td>\n",
              "      <td>Mummer's Ford</td>\n",
              "      <td>The Riverlands</td>\n",
              "      <td>NaN</td>\n",
              "    </tr>\n",
              "    <tr>\n",
              "      <th>2</th>\n",
              "      <td>Battle of Riverrun</td>\n",
              "      <td>298</td>\n",
              "      <td>Joffrey/Tommen Baratheon</td>\n",
              "      <td>Robb Stark</td>\n",
              "      <td>Lannister</td>\n",
              "      <td>NaN</td>\n",
              "      <td>NaN</td>\n",
              "      <td>NaN</td>\n",
              "      <td>Tully</td>\n",
              "      <td>NaN</td>\n",
              "      <td>NaN</td>\n",
              "      <td>NaN</td>\n",
              "      <td>win</td>\n",
              "      <td>pitched battle</td>\n",
              "      <td>0.0</td>\n",
              "      <td>1.0</td>\n",
              "      <td>15000.0</td>\n",
              "      <td>10000.0</td>\n",
              "      <td>Jaime Lannister, Andros Brax</td>\n",
              "      <td>Edmure Tully, Tytos Blackwood</td>\n",
              "      <td>1.0</td>\n",
              "      <td>Riverrun</td>\n",
              "      <td>The Riverlands</td>\n",
              "      <td>NaN</td>\n",
              "    </tr>\n",
              "    <tr>\n",
              "      <th>3</th>\n",
              "      <td>Battle of the Green Fork</td>\n",
              "      <td>298</td>\n",
              "      <td>Robb Stark</td>\n",
              "      <td>Joffrey/Tommen Baratheon</td>\n",
              "      <td>Stark</td>\n",
              "      <td>NaN</td>\n",
              "      <td>NaN</td>\n",
              "      <td>NaN</td>\n",
              "      <td>Lannister</td>\n",
              "      <td>NaN</td>\n",
              "      <td>NaN</td>\n",
              "      <td>NaN</td>\n",
              "      <td>loss</td>\n",
              "      <td>pitched battle</td>\n",
              "      <td>1.0</td>\n",
              "      <td>1.0</td>\n",
              "      <td>18000.0</td>\n",
              "      <td>20000.0</td>\n",
              "      <td>Roose Bolton, Wylis Manderly, Medger Cerwyn, H...</td>\n",
              "      <td>Tywin Lannister, Gregor Clegane, Kevan Lannist...</td>\n",
              "      <td>1.0</td>\n",
              "      <td>Green Fork</td>\n",
              "      <td>The Riverlands</td>\n",
              "      <td>NaN</td>\n",
              "    </tr>\n",
              "    <tr>\n",
              "      <th>4</th>\n",
              "      <td>Battle of the Whispering Wood</td>\n",
              "      <td>298</td>\n",
              "      <td>Robb Stark</td>\n",
              "      <td>Joffrey/Tommen Baratheon</td>\n",
              "      <td>Stark</td>\n",
              "      <td>Tully</td>\n",
              "      <td>NaN</td>\n",
              "      <td>NaN</td>\n",
              "      <td>Lannister</td>\n",
              "      <td>NaN</td>\n",
              "      <td>NaN</td>\n",
              "      <td>NaN</td>\n",
              "      <td>win</td>\n",
              "      <td>ambush</td>\n",
              "      <td>1.0</td>\n",
              "      <td>1.0</td>\n",
              "      <td>1875.0</td>\n",
              "      <td>6000.0</td>\n",
              "      <td>Robb Stark, Brynden Tully</td>\n",
              "      <td>Jaime Lannister</td>\n",
              "      <td>1.0</td>\n",
              "      <td>Whispering Wood</td>\n",
              "      <td>The Riverlands</td>\n",
              "      <td>NaN</td>\n",
              "    </tr>\n",
              "  </tbody>\n",
              "</table>\n",
              "</div>"
            ],
            "text/plain": [
              "                            name  year  ...           region note\n",
              "0     Battle of the Golden Tooth   298  ...  The Westerlands  NaN\n",
              "1    Battle at the Mummer's Ford   298  ...   The Riverlands  NaN\n",
              "2             Battle of Riverrun   298  ...   The Riverlands  NaN\n",
              "3       Battle of the Green Fork   298  ...   The Riverlands  NaN\n",
              "4  Battle of the Whispering Wood   298  ...   The Riverlands  NaN\n",
              "\n",
              "[5 rows x 24 columns]"
            ]
          },
          "metadata": {
            "tags": []
          },
          "execution_count": 7
        }
      ]
    },
    {
      "cell_type": "markdown",
      "metadata": {
        "id": "mGsVf6uH7S1o"
      },
      "source": [
        "## Expansão de `attacker_commander` e `defender_commander`"
      ]
    },
    {
      "cell_type": "markdown",
      "metadata": {
        "id": "yYGIkncl7hRh"
      },
      "source": [
        "As colunas `attacker_commander` e `defender_commander` possuem vários nomes separados por vírgulas. Vamos expandir essas colunas para ficar com um nome por coluna:"
      ]
    },
    {
      "cell_type": "code",
      "metadata": {
        "colab": {
          "base_uri": "https://localhost:8080/",
          "height": 0
        },
        "id": "GItEyOvW219a",
        "outputId": "f3d729b7-c8ba-4e97-c87b-dc74f75de309"
      },
      "source": [
        "# separar nomes de 'attacker_commander'\n",
        "split_attacker_commanders = battles[\"attacker_commander\"].str.split(\",\", expand=True)\n",
        "split_attacker_commanders.head()"
      ],
      "execution_count": 8,
      "outputs": [
        {
          "output_type": "execute_result",
          "data": {
            "text/html": [
              "<div>\n",
              "<style scoped>\n",
              "    .dataframe tbody tr th:only-of-type {\n",
              "        vertical-align: middle;\n",
              "    }\n",
              "\n",
              "    .dataframe tbody tr th {\n",
              "        vertical-align: top;\n",
              "    }\n",
              "\n",
              "    .dataframe thead th {\n",
              "        text-align: right;\n",
              "    }\n",
              "</style>\n",
              "<table border=\"1\" class=\"dataframe\">\n",
              "  <thead>\n",
              "    <tr style=\"text-align: right;\">\n",
              "      <th></th>\n",
              "      <th>0</th>\n",
              "      <th>1</th>\n",
              "      <th>2</th>\n",
              "      <th>3</th>\n",
              "      <th>4</th>\n",
              "      <th>5</th>\n",
              "    </tr>\n",
              "  </thead>\n",
              "  <tbody>\n",
              "    <tr>\n",
              "      <th>0</th>\n",
              "      <td>Jaime Lannister</td>\n",
              "      <td>None</td>\n",
              "      <td>None</td>\n",
              "      <td>None</td>\n",
              "      <td>None</td>\n",
              "      <td>None</td>\n",
              "    </tr>\n",
              "    <tr>\n",
              "      <th>1</th>\n",
              "      <td>Gregor Clegane</td>\n",
              "      <td>None</td>\n",
              "      <td>None</td>\n",
              "      <td>None</td>\n",
              "      <td>None</td>\n",
              "      <td>None</td>\n",
              "    </tr>\n",
              "    <tr>\n",
              "      <th>2</th>\n",
              "      <td>Jaime Lannister</td>\n",
              "      <td>Andros Brax</td>\n",
              "      <td>None</td>\n",
              "      <td>None</td>\n",
              "      <td>None</td>\n",
              "      <td>None</td>\n",
              "    </tr>\n",
              "    <tr>\n",
              "      <th>3</th>\n",
              "      <td>Roose Bolton</td>\n",
              "      <td>Wylis Manderly</td>\n",
              "      <td>Medger Cerwyn</td>\n",
              "      <td>Harrion Karstark</td>\n",
              "      <td>Halys Hornwood</td>\n",
              "      <td>None</td>\n",
              "    </tr>\n",
              "    <tr>\n",
              "      <th>4</th>\n",
              "      <td>Robb Stark</td>\n",
              "      <td>Brynden Tully</td>\n",
              "      <td>None</td>\n",
              "      <td>None</td>\n",
              "      <td>None</td>\n",
              "      <td>None</td>\n",
              "    </tr>\n",
              "  </tbody>\n",
              "</table>\n",
              "</div>"
            ],
            "text/plain": [
              "                 0                1  ...                4     5\n",
              "0  Jaime Lannister             None  ...             None  None\n",
              "1   Gregor Clegane             None  ...             None  None\n",
              "2  Jaime Lannister      Andros Brax  ...             None  None\n",
              "3     Roose Bolton   Wylis Manderly  ...   Halys Hornwood  None\n",
              "4       Robb Stark    Brynden Tully  ...             None  None\n",
              "\n",
              "[5 rows x 6 columns]"
            ]
          },
          "metadata": {
            "tags": []
          },
          "execution_count": 8
        }
      ]
    },
    {
      "cell_type": "code",
      "metadata": {
        "colab": {
          "base_uri": "https://localhost:8080/",
          "height": 0
        },
        "id": "R-h5qyLQ6k5r",
        "outputId": "2c850af8-0614-4b27-a2f1-70e09989eb58"
      },
      "source": [
        "# separar nomes de 'defender_commander'\n",
        "split_defender_commanders = battles[\"defender_commander\"].str.split(\",\", expand=True)\n",
        "split_defender_commanders.head()"
      ],
      "execution_count": 9,
      "outputs": [
        {
          "output_type": "execute_result",
          "data": {
            "text/html": [
              "<div>\n",
              "<style scoped>\n",
              "    .dataframe tbody tr th:only-of-type {\n",
              "        vertical-align: middle;\n",
              "    }\n",
              "\n",
              "    .dataframe tbody tr th {\n",
              "        vertical-align: top;\n",
              "    }\n",
              "\n",
              "    .dataframe thead th {\n",
              "        text-align: right;\n",
              "    }\n",
              "</style>\n",
              "<table border=\"1\" class=\"dataframe\">\n",
              "  <thead>\n",
              "    <tr style=\"text-align: right;\">\n",
              "      <th></th>\n",
              "      <th>0</th>\n",
              "      <th>1</th>\n",
              "      <th>2</th>\n",
              "      <th>3</th>\n",
              "      <th>4</th>\n",
              "      <th>5</th>\n",
              "      <th>6</th>\n",
              "    </tr>\n",
              "  </thead>\n",
              "  <tbody>\n",
              "    <tr>\n",
              "      <th>0</th>\n",
              "      <td>Clement Piper</td>\n",
              "      <td>Vance</td>\n",
              "      <td>None</td>\n",
              "      <td>None</td>\n",
              "      <td>None</td>\n",
              "      <td>None</td>\n",
              "      <td>None</td>\n",
              "    </tr>\n",
              "    <tr>\n",
              "      <th>1</th>\n",
              "      <td>Beric Dondarrion</td>\n",
              "      <td>None</td>\n",
              "      <td>None</td>\n",
              "      <td>None</td>\n",
              "      <td>None</td>\n",
              "      <td>None</td>\n",
              "      <td>None</td>\n",
              "    </tr>\n",
              "    <tr>\n",
              "      <th>2</th>\n",
              "      <td>Edmure Tully</td>\n",
              "      <td>Tytos Blackwood</td>\n",
              "      <td>None</td>\n",
              "      <td>None</td>\n",
              "      <td>None</td>\n",
              "      <td>None</td>\n",
              "      <td>None</td>\n",
              "    </tr>\n",
              "    <tr>\n",
              "      <th>3</th>\n",
              "      <td>Tywin Lannister</td>\n",
              "      <td>Gregor Clegane</td>\n",
              "      <td>Kevan Lannister</td>\n",
              "      <td>Addam Marbrand</td>\n",
              "      <td>None</td>\n",
              "      <td>None</td>\n",
              "      <td>None</td>\n",
              "    </tr>\n",
              "    <tr>\n",
              "      <th>4</th>\n",
              "      <td>Jaime Lannister</td>\n",
              "      <td>None</td>\n",
              "      <td>None</td>\n",
              "      <td>None</td>\n",
              "      <td>None</td>\n",
              "      <td>None</td>\n",
              "      <td>None</td>\n",
              "    </tr>\n",
              "  </tbody>\n",
              "</table>\n",
              "</div>"
            ],
            "text/plain": [
              "                  0                 1                 2  ...     4     5     6\n",
              "0     Clement Piper             Vance              None  ...  None  None  None\n",
              "1  Beric Dondarrion              None              None  ...  None  None  None\n",
              "2      Edmure Tully   Tytos Blackwood              None  ...  None  None  None\n",
              "3   Tywin Lannister    Gregor Clegane   Kevan Lannister  ...  None  None  None\n",
              "4   Jaime Lannister              None              None  ...  None  None  None\n",
              "\n",
              "[5 rows x 7 columns]"
            ]
          },
          "metadata": {
            "tags": []
          },
          "execution_count": 9
        }
      ]
    },
    {
      "cell_type": "code",
      "metadata": {
        "colab": {
          "base_uri": "https://localhost:8080/",
          "height": 0
        },
        "id": "lCSAFrHk9oHJ",
        "outputId": "4b49db46-8b9a-46ba-a1f7-b6d0f3b724f3"
      },
      "source": [
        "# remover colunas 'attacker_commander' e 'defender_commander'\n",
        "battles = battles.drop(columns=['attacker_commander', 'defender_commander'])\n",
        "\n",
        "# adicionar novas colunas de 'attacker_commander_x'\n",
        "battles['attacker_commander_1'] = split_attacker_commanders[0]\n",
        "battles['attacker_commander_2'] = split_attacker_commanders[1]\n",
        "battles['attacker_commander_3'] = split_attacker_commanders[2]\n",
        "battles['attacker_commander_4'] = split_attacker_commanders[3]\n",
        "battles['attacker_commander_5'] = split_attacker_commanders[4]\n",
        "battles['attacker_commander_6'] = split_attacker_commanders[5]\n",
        "\n",
        "# adicionar novas colunas de 'defender_commander_x'\n",
        "battles['defender_commander_1'] = split_defender_commanders[0]\n",
        "battles['defender_commander_2'] = split_defender_commanders[1]\n",
        "battles['defender_commander_3'] = split_defender_commanders[2]\n",
        "battles['defender_commander_4'] = split_defender_commanders[3]\n",
        "battles['defender_commander_5'] = split_defender_commanders[4]\n",
        "battles['defender_commander_6'] = split_defender_commanders[5]\n",
        "battles['defender_commander_7'] = split_defender_commanders[6]\n",
        "\n",
        "battles.head()"
      ],
      "execution_count": 10,
      "outputs": [
        {
          "output_type": "execute_result",
          "data": {
            "text/html": [
              "<div>\n",
              "<style scoped>\n",
              "    .dataframe tbody tr th:only-of-type {\n",
              "        vertical-align: middle;\n",
              "    }\n",
              "\n",
              "    .dataframe tbody tr th {\n",
              "        vertical-align: top;\n",
              "    }\n",
              "\n",
              "    .dataframe thead th {\n",
              "        text-align: right;\n",
              "    }\n",
              "</style>\n",
              "<table border=\"1\" class=\"dataframe\">\n",
              "  <thead>\n",
              "    <tr style=\"text-align: right;\">\n",
              "      <th></th>\n",
              "      <th>name</th>\n",
              "      <th>year</th>\n",
              "      <th>attacker_king</th>\n",
              "      <th>defender_king</th>\n",
              "      <th>attacker_1</th>\n",
              "      <th>attacker_2</th>\n",
              "      <th>attacker_3</th>\n",
              "      <th>attacker_4</th>\n",
              "      <th>defender_1</th>\n",
              "      <th>defender_2</th>\n",
              "      <th>defender_3</th>\n",
              "      <th>defender_4</th>\n",
              "      <th>attacker_outcome</th>\n",
              "      <th>battle_type</th>\n",
              "      <th>major_death</th>\n",
              "      <th>major_capture</th>\n",
              "      <th>attacker_size</th>\n",
              "      <th>defender_size</th>\n",
              "      <th>summer</th>\n",
              "      <th>location</th>\n",
              "      <th>region</th>\n",
              "      <th>note</th>\n",
              "      <th>attacker_commander_1</th>\n",
              "      <th>attacker_commander_2</th>\n",
              "      <th>attacker_commander_3</th>\n",
              "      <th>attacker_commander_4</th>\n",
              "      <th>attacker_commander_5</th>\n",
              "      <th>attacker_commander_6</th>\n",
              "      <th>defender_commander_1</th>\n",
              "      <th>defender_commander_2</th>\n",
              "      <th>defender_commander_3</th>\n",
              "      <th>defender_commander_4</th>\n",
              "      <th>defender_commander_5</th>\n",
              "      <th>defender_commander_6</th>\n",
              "      <th>defender_commander_7</th>\n",
              "    </tr>\n",
              "  </thead>\n",
              "  <tbody>\n",
              "    <tr>\n",
              "      <th>0</th>\n",
              "      <td>Battle of the Golden Tooth</td>\n",
              "      <td>298</td>\n",
              "      <td>Joffrey/Tommen Baratheon</td>\n",
              "      <td>Robb Stark</td>\n",
              "      <td>Lannister</td>\n",
              "      <td>NaN</td>\n",
              "      <td>NaN</td>\n",
              "      <td>NaN</td>\n",
              "      <td>Tully</td>\n",
              "      <td>NaN</td>\n",
              "      <td>NaN</td>\n",
              "      <td>NaN</td>\n",
              "      <td>win</td>\n",
              "      <td>pitched battle</td>\n",
              "      <td>1.0</td>\n",
              "      <td>0.0</td>\n",
              "      <td>15000.0</td>\n",
              "      <td>4000.0</td>\n",
              "      <td>1.0</td>\n",
              "      <td>Golden Tooth</td>\n",
              "      <td>The Westerlands</td>\n",
              "      <td>NaN</td>\n",
              "      <td>Jaime Lannister</td>\n",
              "      <td>None</td>\n",
              "      <td>None</td>\n",
              "      <td>None</td>\n",
              "      <td>None</td>\n",
              "      <td>None</td>\n",
              "      <td>Clement Piper</td>\n",
              "      <td>Vance</td>\n",
              "      <td>None</td>\n",
              "      <td>None</td>\n",
              "      <td>None</td>\n",
              "      <td>None</td>\n",
              "      <td>None</td>\n",
              "    </tr>\n",
              "    <tr>\n",
              "      <th>1</th>\n",
              "      <td>Battle at the Mummer's Ford</td>\n",
              "      <td>298</td>\n",
              "      <td>Joffrey/Tommen Baratheon</td>\n",
              "      <td>Robb Stark</td>\n",
              "      <td>Lannister</td>\n",
              "      <td>NaN</td>\n",
              "      <td>NaN</td>\n",
              "      <td>NaN</td>\n",
              "      <td>Baratheon</td>\n",
              "      <td>NaN</td>\n",
              "      <td>NaN</td>\n",
              "      <td>NaN</td>\n",
              "      <td>win</td>\n",
              "      <td>ambush</td>\n",
              "      <td>1.0</td>\n",
              "      <td>0.0</td>\n",
              "      <td>NaN</td>\n",
              "      <td>120.0</td>\n",
              "      <td>1.0</td>\n",
              "      <td>Mummer's Ford</td>\n",
              "      <td>The Riverlands</td>\n",
              "      <td>NaN</td>\n",
              "      <td>Gregor Clegane</td>\n",
              "      <td>None</td>\n",
              "      <td>None</td>\n",
              "      <td>None</td>\n",
              "      <td>None</td>\n",
              "      <td>None</td>\n",
              "      <td>Beric Dondarrion</td>\n",
              "      <td>None</td>\n",
              "      <td>None</td>\n",
              "      <td>None</td>\n",
              "      <td>None</td>\n",
              "      <td>None</td>\n",
              "      <td>None</td>\n",
              "    </tr>\n",
              "    <tr>\n",
              "      <th>2</th>\n",
              "      <td>Battle of Riverrun</td>\n",
              "      <td>298</td>\n",
              "      <td>Joffrey/Tommen Baratheon</td>\n",
              "      <td>Robb Stark</td>\n",
              "      <td>Lannister</td>\n",
              "      <td>NaN</td>\n",
              "      <td>NaN</td>\n",
              "      <td>NaN</td>\n",
              "      <td>Tully</td>\n",
              "      <td>NaN</td>\n",
              "      <td>NaN</td>\n",
              "      <td>NaN</td>\n",
              "      <td>win</td>\n",
              "      <td>pitched battle</td>\n",
              "      <td>0.0</td>\n",
              "      <td>1.0</td>\n",
              "      <td>15000.0</td>\n",
              "      <td>10000.0</td>\n",
              "      <td>1.0</td>\n",
              "      <td>Riverrun</td>\n",
              "      <td>The Riverlands</td>\n",
              "      <td>NaN</td>\n",
              "      <td>Jaime Lannister</td>\n",
              "      <td>Andros Brax</td>\n",
              "      <td>None</td>\n",
              "      <td>None</td>\n",
              "      <td>None</td>\n",
              "      <td>None</td>\n",
              "      <td>Edmure Tully</td>\n",
              "      <td>Tytos Blackwood</td>\n",
              "      <td>None</td>\n",
              "      <td>None</td>\n",
              "      <td>None</td>\n",
              "      <td>None</td>\n",
              "      <td>None</td>\n",
              "    </tr>\n",
              "    <tr>\n",
              "      <th>3</th>\n",
              "      <td>Battle of the Green Fork</td>\n",
              "      <td>298</td>\n",
              "      <td>Robb Stark</td>\n",
              "      <td>Joffrey/Tommen Baratheon</td>\n",
              "      <td>Stark</td>\n",
              "      <td>NaN</td>\n",
              "      <td>NaN</td>\n",
              "      <td>NaN</td>\n",
              "      <td>Lannister</td>\n",
              "      <td>NaN</td>\n",
              "      <td>NaN</td>\n",
              "      <td>NaN</td>\n",
              "      <td>loss</td>\n",
              "      <td>pitched battle</td>\n",
              "      <td>1.0</td>\n",
              "      <td>1.0</td>\n",
              "      <td>18000.0</td>\n",
              "      <td>20000.0</td>\n",
              "      <td>1.0</td>\n",
              "      <td>Green Fork</td>\n",
              "      <td>The Riverlands</td>\n",
              "      <td>NaN</td>\n",
              "      <td>Roose Bolton</td>\n",
              "      <td>Wylis Manderly</td>\n",
              "      <td>Medger Cerwyn</td>\n",
              "      <td>Harrion Karstark</td>\n",
              "      <td>Halys Hornwood</td>\n",
              "      <td>None</td>\n",
              "      <td>Tywin Lannister</td>\n",
              "      <td>Gregor Clegane</td>\n",
              "      <td>Kevan Lannister</td>\n",
              "      <td>Addam Marbrand</td>\n",
              "      <td>None</td>\n",
              "      <td>None</td>\n",
              "      <td>None</td>\n",
              "    </tr>\n",
              "    <tr>\n",
              "      <th>4</th>\n",
              "      <td>Battle of the Whispering Wood</td>\n",
              "      <td>298</td>\n",
              "      <td>Robb Stark</td>\n",
              "      <td>Joffrey/Tommen Baratheon</td>\n",
              "      <td>Stark</td>\n",
              "      <td>Tully</td>\n",
              "      <td>NaN</td>\n",
              "      <td>NaN</td>\n",
              "      <td>Lannister</td>\n",
              "      <td>NaN</td>\n",
              "      <td>NaN</td>\n",
              "      <td>NaN</td>\n",
              "      <td>win</td>\n",
              "      <td>ambush</td>\n",
              "      <td>1.0</td>\n",
              "      <td>1.0</td>\n",
              "      <td>1875.0</td>\n",
              "      <td>6000.0</td>\n",
              "      <td>1.0</td>\n",
              "      <td>Whispering Wood</td>\n",
              "      <td>The Riverlands</td>\n",
              "      <td>NaN</td>\n",
              "      <td>Robb Stark</td>\n",
              "      <td>Brynden Tully</td>\n",
              "      <td>None</td>\n",
              "      <td>None</td>\n",
              "      <td>None</td>\n",
              "      <td>None</td>\n",
              "      <td>Jaime Lannister</td>\n",
              "      <td>None</td>\n",
              "      <td>None</td>\n",
              "      <td>None</td>\n",
              "      <td>None</td>\n",
              "      <td>None</td>\n",
              "      <td>None</td>\n",
              "    </tr>\n",
              "  </tbody>\n",
              "</table>\n",
              "</div>"
            ],
            "text/plain": [
              "                            name  ...  defender_commander_7\n",
              "0     Battle of the Golden Tooth  ...                  None\n",
              "1    Battle at the Mummer's Ford  ...                  None\n",
              "2             Battle of Riverrun  ...                  None\n",
              "3       Battle of the Green Fork  ...                  None\n",
              "4  Battle of the Whispering Wood  ...                  None\n",
              "\n",
              "[5 rows x 35 columns]"
            ]
          },
          "metadata": {
            "tags": []
          },
          "execution_count": 10
        }
      ]
    },
    {
      "cell_type": "markdown",
      "metadata": {
        "id": "QQZSKgdZf8za"
      },
      "source": [
        "## Tratamentos de dados ausentes I"
      ]
    },
    {
      "cell_type": "markdown",
      "metadata": {
        "id": "WTBPiBs6gFv0"
      },
      "source": [
        "Só pelo último `head` podemos ver que algumas colunas parecem ter muitos dados nulos. Por isso vamos fazer um primeiro tratamento de dados ausentes antes mesmo da definição de tipos. Dessa forma, evitamos definir um tipo para uma coluna que acabaria sendo removida depois por falta de dados suficientes."
      ]
    },
    {
      "cell_type": "code",
      "metadata": {
        "colab": {
          "base_uri": "https://localhost:8080/"
        },
        "id": "JNZHmftgUJfD",
        "outputId": "4f8d0c88-1431-4583-ac6f-551038952d07"
      },
      "source": [
        "# calcular porcentagem de linhas nulas por coluna\n",
        "(battles.isnull().sum() / len(battles)) * 100"
      ],
      "execution_count": 11,
      "outputs": [
        {
          "output_type": "execute_result",
          "data": {
            "text/plain": [
              "name                      0.000000\n",
              "year                      0.000000\n",
              "attacker_king             5.263158\n",
              "defender_king             7.894737\n",
              "attacker_1                0.000000\n",
              "attacker_2               73.684211\n",
              "attacker_3               92.105263\n",
              "attacker_4               94.736842\n",
              "defender_1                2.631579\n",
              "defender_2               94.736842\n",
              "defender_3              100.000000\n",
              "defender_4              100.000000\n",
              "attacker_outcome          2.631579\n",
              "battle_type               2.631579\n",
              "major_death               2.631579\n",
              "major_capture             2.631579\n",
              "attacker_size            36.842105\n",
              "defender_size            50.000000\n",
              "summer                    2.631579\n",
              "location                  2.631579\n",
              "region                    0.000000\n",
              "note                     86.842105\n",
              "attacker_commander_1      2.631579\n",
              "attacker_commander_2     42.105263\n",
              "attacker_commander_3     76.315789\n",
              "attacker_commander_4     89.473684\n",
              "attacker_commander_5     89.473684\n",
              "attacker_commander_6     94.736842\n",
              "defender_commander_1     26.315789\n",
              "defender_commander_2     68.421053\n",
              "defender_commander_3     81.578947\n",
              "defender_commander_4     89.473684\n",
              "defender_commander_5     94.736842\n",
              "defender_commander_6     97.368421\n",
              "defender_commander_7     97.368421\n",
              "dtype: float64"
            ]
          },
          "metadata": {
            "tags": []
          },
          "execution_count": 11
        }
      ]
    },
    {
      "cell_type": "markdown",
      "metadata": {
        "id": "0luxxlHPi8ww"
      },
      "source": [
        "Existem várias colunas com muitos dados nulos. Principalmente colunas que possuem informações secundárias relacionadas a outras colunas, como `XXXX_2`, `XXXX_3`, ... Uma vez que a informação principal está na coluna `XXXX_1` e as demais colunas possuem muitos valores nulos, podemos remover essas colunas secundárias.\n",
        "\n",
        "Em vez de remover as colunas uma por uma, vamos utilizar um `treshold` para remover a maioria delas de uma só vez de acordo com a sua porcentagem de valores não nulos. O valor esolhido para o `treshold` foi de 50% das linhas da tabela porque um valor maior iria remover também a coluna `defender_size`, que pode ser importante para a análise das batalhas."
      ]
    },
    {
      "cell_type": "code",
      "metadata": {
        "colab": {
          "base_uri": "https://localhost:8080/",
          "height": 0
        },
        "id": "0EXHzSDFVvi3",
        "outputId": "68fb7104-06fc-41fe-ae95-9a81aa3e8bdc"
      },
      "source": [
        "# remover as colunas com menos de 50% dos valores não nulos\n",
        "battles = battles.dropna(thresh=0.5*len(battles), axis='columns')\n",
        "battles.head()"
      ],
      "execution_count": 12,
      "outputs": [
        {
          "output_type": "execute_result",
          "data": {
            "text/html": [
              "<div>\n",
              "<style scoped>\n",
              "    .dataframe tbody tr th:only-of-type {\n",
              "        vertical-align: middle;\n",
              "    }\n",
              "\n",
              "    .dataframe tbody tr th {\n",
              "        vertical-align: top;\n",
              "    }\n",
              "\n",
              "    .dataframe thead th {\n",
              "        text-align: right;\n",
              "    }\n",
              "</style>\n",
              "<table border=\"1\" class=\"dataframe\">\n",
              "  <thead>\n",
              "    <tr style=\"text-align: right;\">\n",
              "      <th></th>\n",
              "      <th>name</th>\n",
              "      <th>year</th>\n",
              "      <th>attacker_king</th>\n",
              "      <th>defender_king</th>\n",
              "      <th>attacker_1</th>\n",
              "      <th>defender_1</th>\n",
              "      <th>attacker_outcome</th>\n",
              "      <th>battle_type</th>\n",
              "      <th>major_death</th>\n",
              "      <th>major_capture</th>\n",
              "      <th>attacker_size</th>\n",
              "      <th>defender_size</th>\n",
              "      <th>summer</th>\n",
              "      <th>location</th>\n",
              "      <th>region</th>\n",
              "      <th>attacker_commander_1</th>\n",
              "      <th>attacker_commander_2</th>\n",
              "      <th>defender_commander_1</th>\n",
              "    </tr>\n",
              "  </thead>\n",
              "  <tbody>\n",
              "    <tr>\n",
              "      <th>0</th>\n",
              "      <td>Battle of the Golden Tooth</td>\n",
              "      <td>298</td>\n",
              "      <td>Joffrey/Tommen Baratheon</td>\n",
              "      <td>Robb Stark</td>\n",
              "      <td>Lannister</td>\n",
              "      <td>Tully</td>\n",
              "      <td>win</td>\n",
              "      <td>pitched battle</td>\n",
              "      <td>1.0</td>\n",
              "      <td>0.0</td>\n",
              "      <td>15000.0</td>\n",
              "      <td>4000.0</td>\n",
              "      <td>1.0</td>\n",
              "      <td>Golden Tooth</td>\n",
              "      <td>The Westerlands</td>\n",
              "      <td>Jaime Lannister</td>\n",
              "      <td>None</td>\n",
              "      <td>Clement Piper</td>\n",
              "    </tr>\n",
              "    <tr>\n",
              "      <th>1</th>\n",
              "      <td>Battle at the Mummer's Ford</td>\n",
              "      <td>298</td>\n",
              "      <td>Joffrey/Tommen Baratheon</td>\n",
              "      <td>Robb Stark</td>\n",
              "      <td>Lannister</td>\n",
              "      <td>Baratheon</td>\n",
              "      <td>win</td>\n",
              "      <td>ambush</td>\n",
              "      <td>1.0</td>\n",
              "      <td>0.0</td>\n",
              "      <td>NaN</td>\n",
              "      <td>120.0</td>\n",
              "      <td>1.0</td>\n",
              "      <td>Mummer's Ford</td>\n",
              "      <td>The Riverlands</td>\n",
              "      <td>Gregor Clegane</td>\n",
              "      <td>None</td>\n",
              "      <td>Beric Dondarrion</td>\n",
              "    </tr>\n",
              "    <tr>\n",
              "      <th>2</th>\n",
              "      <td>Battle of Riverrun</td>\n",
              "      <td>298</td>\n",
              "      <td>Joffrey/Tommen Baratheon</td>\n",
              "      <td>Robb Stark</td>\n",
              "      <td>Lannister</td>\n",
              "      <td>Tully</td>\n",
              "      <td>win</td>\n",
              "      <td>pitched battle</td>\n",
              "      <td>0.0</td>\n",
              "      <td>1.0</td>\n",
              "      <td>15000.0</td>\n",
              "      <td>10000.0</td>\n",
              "      <td>1.0</td>\n",
              "      <td>Riverrun</td>\n",
              "      <td>The Riverlands</td>\n",
              "      <td>Jaime Lannister</td>\n",
              "      <td>Andros Brax</td>\n",
              "      <td>Edmure Tully</td>\n",
              "    </tr>\n",
              "    <tr>\n",
              "      <th>3</th>\n",
              "      <td>Battle of the Green Fork</td>\n",
              "      <td>298</td>\n",
              "      <td>Robb Stark</td>\n",
              "      <td>Joffrey/Tommen Baratheon</td>\n",
              "      <td>Stark</td>\n",
              "      <td>Lannister</td>\n",
              "      <td>loss</td>\n",
              "      <td>pitched battle</td>\n",
              "      <td>1.0</td>\n",
              "      <td>1.0</td>\n",
              "      <td>18000.0</td>\n",
              "      <td>20000.0</td>\n",
              "      <td>1.0</td>\n",
              "      <td>Green Fork</td>\n",
              "      <td>The Riverlands</td>\n",
              "      <td>Roose Bolton</td>\n",
              "      <td>Wylis Manderly</td>\n",
              "      <td>Tywin Lannister</td>\n",
              "    </tr>\n",
              "    <tr>\n",
              "      <th>4</th>\n",
              "      <td>Battle of the Whispering Wood</td>\n",
              "      <td>298</td>\n",
              "      <td>Robb Stark</td>\n",
              "      <td>Joffrey/Tommen Baratheon</td>\n",
              "      <td>Stark</td>\n",
              "      <td>Lannister</td>\n",
              "      <td>win</td>\n",
              "      <td>ambush</td>\n",
              "      <td>1.0</td>\n",
              "      <td>1.0</td>\n",
              "      <td>1875.0</td>\n",
              "      <td>6000.0</td>\n",
              "      <td>1.0</td>\n",
              "      <td>Whispering Wood</td>\n",
              "      <td>The Riverlands</td>\n",
              "      <td>Robb Stark</td>\n",
              "      <td>Brynden Tully</td>\n",
              "      <td>Jaime Lannister</td>\n",
              "    </tr>\n",
              "  </tbody>\n",
              "</table>\n",
              "</div>"
            ],
            "text/plain": [
              "                            name  ...  defender_commander_1\n",
              "0     Battle of the Golden Tooth  ...         Clement Piper\n",
              "1    Battle at the Mummer's Ford  ...      Beric Dondarrion\n",
              "2             Battle of Riverrun  ...          Edmure Tully\n",
              "3       Battle of the Green Fork  ...       Tywin Lannister\n",
              "4  Battle of the Whispering Wood  ...       Jaime Lannister\n",
              "\n",
              "[5 rows x 18 columns]"
            ]
          },
          "metadata": {
            "tags": []
          },
          "execution_count": 12
        }
      ]
    },
    {
      "cell_type": "code",
      "metadata": {
        "colab": {
          "base_uri": "https://localhost:8080/"
        },
        "id": "boqv7I9KIaDd",
        "outputId": "2754c181-7ac6-4b77-d994-04a7b6f96a08"
      },
      "source": [
        "# porcentagem de linhas nulas por coluna após remoção\n",
        "(battles.isnull().sum() / len(battles)) * 100"
      ],
      "execution_count": 13,
      "outputs": [
        {
          "output_type": "execute_result",
          "data": {
            "text/plain": [
              "name                     0.000000\n",
              "year                     0.000000\n",
              "attacker_king            5.263158\n",
              "defender_king            7.894737\n",
              "attacker_1               0.000000\n",
              "defender_1               2.631579\n",
              "attacker_outcome         2.631579\n",
              "battle_type              2.631579\n",
              "major_death              2.631579\n",
              "major_capture            2.631579\n",
              "attacker_size           36.842105\n",
              "defender_size           50.000000\n",
              "summer                   2.631579\n",
              "location                 2.631579\n",
              "region                   0.000000\n",
              "attacker_commander_1     2.631579\n",
              "attacker_commander_2    42.105263\n",
              "defender_commander_1    26.315789\n",
              "dtype: float64"
            ]
          },
          "metadata": {
            "tags": []
          },
          "execution_count": 13
        }
      ]
    },
    {
      "cell_type": "markdown",
      "metadata": {
        "id": "AaymeLO-H-gO"
      },
      "source": [
        "Como comentado anteriormente, `attacker_commander_2` é um dado secundário, que serve para complementar `attacker_commander_1`. Por não ser tão importante e apresentar 42% dos dados nulos, vamos remover essa coluna também."
      ]
    },
    {
      "cell_type": "code",
      "metadata": {
        "colab": {
          "base_uri": "https://localhost:8080/",
          "height": 0
        },
        "id": "UG2DyCz9IRby",
        "outputId": "ab451187-04e6-4054-b958-12b146eacf90"
      },
      "source": [
        "battles.drop(columns=['attacker_commander_2'], inplace=True)\n",
        "battles.head()"
      ],
      "execution_count": 14,
      "outputs": [
        {
          "output_type": "execute_result",
          "data": {
            "text/html": [
              "<div>\n",
              "<style scoped>\n",
              "    .dataframe tbody tr th:only-of-type {\n",
              "        vertical-align: middle;\n",
              "    }\n",
              "\n",
              "    .dataframe tbody tr th {\n",
              "        vertical-align: top;\n",
              "    }\n",
              "\n",
              "    .dataframe thead th {\n",
              "        text-align: right;\n",
              "    }\n",
              "</style>\n",
              "<table border=\"1\" class=\"dataframe\">\n",
              "  <thead>\n",
              "    <tr style=\"text-align: right;\">\n",
              "      <th></th>\n",
              "      <th>name</th>\n",
              "      <th>year</th>\n",
              "      <th>attacker_king</th>\n",
              "      <th>defender_king</th>\n",
              "      <th>attacker_1</th>\n",
              "      <th>defender_1</th>\n",
              "      <th>attacker_outcome</th>\n",
              "      <th>battle_type</th>\n",
              "      <th>major_death</th>\n",
              "      <th>major_capture</th>\n",
              "      <th>attacker_size</th>\n",
              "      <th>defender_size</th>\n",
              "      <th>summer</th>\n",
              "      <th>location</th>\n",
              "      <th>region</th>\n",
              "      <th>attacker_commander_1</th>\n",
              "      <th>defender_commander_1</th>\n",
              "    </tr>\n",
              "  </thead>\n",
              "  <tbody>\n",
              "    <tr>\n",
              "      <th>0</th>\n",
              "      <td>Battle of the Golden Tooth</td>\n",
              "      <td>298</td>\n",
              "      <td>Joffrey/Tommen Baratheon</td>\n",
              "      <td>Robb Stark</td>\n",
              "      <td>Lannister</td>\n",
              "      <td>Tully</td>\n",
              "      <td>win</td>\n",
              "      <td>pitched battle</td>\n",
              "      <td>1.0</td>\n",
              "      <td>0.0</td>\n",
              "      <td>15000.0</td>\n",
              "      <td>4000.0</td>\n",
              "      <td>1.0</td>\n",
              "      <td>Golden Tooth</td>\n",
              "      <td>The Westerlands</td>\n",
              "      <td>Jaime Lannister</td>\n",
              "      <td>Clement Piper</td>\n",
              "    </tr>\n",
              "    <tr>\n",
              "      <th>1</th>\n",
              "      <td>Battle at the Mummer's Ford</td>\n",
              "      <td>298</td>\n",
              "      <td>Joffrey/Tommen Baratheon</td>\n",
              "      <td>Robb Stark</td>\n",
              "      <td>Lannister</td>\n",
              "      <td>Baratheon</td>\n",
              "      <td>win</td>\n",
              "      <td>ambush</td>\n",
              "      <td>1.0</td>\n",
              "      <td>0.0</td>\n",
              "      <td>NaN</td>\n",
              "      <td>120.0</td>\n",
              "      <td>1.0</td>\n",
              "      <td>Mummer's Ford</td>\n",
              "      <td>The Riverlands</td>\n",
              "      <td>Gregor Clegane</td>\n",
              "      <td>Beric Dondarrion</td>\n",
              "    </tr>\n",
              "    <tr>\n",
              "      <th>2</th>\n",
              "      <td>Battle of Riverrun</td>\n",
              "      <td>298</td>\n",
              "      <td>Joffrey/Tommen Baratheon</td>\n",
              "      <td>Robb Stark</td>\n",
              "      <td>Lannister</td>\n",
              "      <td>Tully</td>\n",
              "      <td>win</td>\n",
              "      <td>pitched battle</td>\n",
              "      <td>0.0</td>\n",
              "      <td>1.0</td>\n",
              "      <td>15000.0</td>\n",
              "      <td>10000.0</td>\n",
              "      <td>1.0</td>\n",
              "      <td>Riverrun</td>\n",
              "      <td>The Riverlands</td>\n",
              "      <td>Jaime Lannister</td>\n",
              "      <td>Edmure Tully</td>\n",
              "    </tr>\n",
              "    <tr>\n",
              "      <th>3</th>\n",
              "      <td>Battle of the Green Fork</td>\n",
              "      <td>298</td>\n",
              "      <td>Robb Stark</td>\n",
              "      <td>Joffrey/Tommen Baratheon</td>\n",
              "      <td>Stark</td>\n",
              "      <td>Lannister</td>\n",
              "      <td>loss</td>\n",
              "      <td>pitched battle</td>\n",
              "      <td>1.0</td>\n",
              "      <td>1.0</td>\n",
              "      <td>18000.0</td>\n",
              "      <td>20000.0</td>\n",
              "      <td>1.0</td>\n",
              "      <td>Green Fork</td>\n",
              "      <td>The Riverlands</td>\n",
              "      <td>Roose Bolton</td>\n",
              "      <td>Tywin Lannister</td>\n",
              "    </tr>\n",
              "    <tr>\n",
              "      <th>4</th>\n",
              "      <td>Battle of the Whispering Wood</td>\n",
              "      <td>298</td>\n",
              "      <td>Robb Stark</td>\n",
              "      <td>Joffrey/Tommen Baratheon</td>\n",
              "      <td>Stark</td>\n",
              "      <td>Lannister</td>\n",
              "      <td>win</td>\n",
              "      <td>ambush</td>\n",
              "      <td>1.0</td>\n",
              "      <td>1.0</td>\n",
              "      <td>1875.0</td>\n",
              "      <td>6000.0</td>\n",
              "      <td>1.0</td>\n",
              "      <td>Whispering Wood</td>\n",
              "      <td>The Riverlands</td>\n",
              "      <td>Robb Stark</td>\n",
              "      <td>Jaime Lannister</td>\n",
              "    </tr>\n",
              "  </tbody>\n",
              "</table>\n",
              "</div>"
            ],
            "text/plain": [
              "                            name  ...  defender_commander_1\n",
              "0     Battle of the Golden Tooth  ...         Clement Piper\n",
              "1    Battle at the Mummer's Ford  ...      Beric Dondarrion\n",
              "2             Battle of Riverrun  ...          Edmure Tully\n",
              "3       Battle of the Green Fork  ...       Tywin Lannister\n",
              "4  Battle of the Whispering Wood  ...       Jaime Lannister\n",
              "\n",
              "[5 rows x 17 columns]"
            ]
          },
          "metadata": {
            "tags": []
          },
          "execution_count": 14
        }
      ]
    },
    {
      "cell_type": "markdown",
      "metadata": {
        "id": "WWGa0398urJT"
      },
      "source": [
        "## Definição de tipos"
      ]
    },
    {
      "cell_type": "code",
      "metadata": {
        "colab": {
          "base_uri": "https://localhost:8080/"
        },
        "id": "zGs1dWCbBCJB",
        "outputId": "a090f960-d57e-4920-c590-54906321be21"
      },
      "source": [
        "battles.dtypes"
      ],
      "execution_count": 15,
      "outputs": [
        {
          "output_type": "execute_result",
          "data": {
            "text/plain": [
              "name                     object\n",
              "year                      int64\n",
              "attacker_king            object\n",
              "defender_king            object\n",
              "attacker_1               object\n",
              "defender_1               object\n",
              "attacker_outcome         object\n",
              "battle_type              object\n",
              "major_death             float64\n",
              "major_capture           float64\n",
              "attacker_size           float64\n",
              "defender_size           float64\n",
              "summer                  float64\n",
              "location                 object\n",
              "region                   object\n",
              "attacker_commander_1     object\n",
              "defender_commander_1     object\n",
              "dtype: object"
            ]
          },
          "metadata": {
            "tags": []
          },
          "execution_count": 15
        }
      ]
    },
    {
      "cell_type": "code",
      "metadata": {
        "colab": {
          "base_uri": "https://localhost:8080/"
        },
        "id": "_W5K6aDLG8Fh",
        "outputId": "d0cf3318-4074-424f-b48c-c40c68d20c98"
      },
      "source": [
        "battles['year'].describe()"
      ],
      "execution_count": 16,
      "outputs": [
        {
          "output_type": "execute_result",
          "data": {
            "text/plain": [
              "count     38.000000\n",
              "mean     299.105263\n",
              "std        0.689280\n",
              "min      298.000000\n",
              "25%      299.000000\n",
              "50%      299.000000\n",
              "75%      300.000000\n",
              "max      300.000000\n",
              "Name: year, dtype: float64"
            ]
          },
          "metadata": {
            "tags": []
          },
          "execution_count": 16
        }
      ]
    },
    {
      "cell_type": "code",
      "metadata": {
        "colab": {
          "base_uri": "https://localhost:8080/"
        },
        "id": "vAcweZl-GU3n",
        "outputId": "45ac06d9-6424-4322-f1d0-9181cdb846b7"
      },
      "source": [
        "battles['year'].unique()"
      ],
      "execution_count": 17,
      "outputs": [
        {
          "output_type": "execute_result",
          "data": {
            "text/plain": [
              "array([298, 299, 300])"
            ]
          },
          "metadata": {
            "tags": []
          },
          "execution_count": 17
        }
      ]
    },
    {
      "cell_type": "markdown",
      "metadata": {
        "id": "STC9FqUVG2aD"
      },
      "source": [
        "Apesar da coluna `year` representar um dado de tempo, ele é categórico porque só tem 3 valores distintos para as 38 linhas do *dataset*."
      ]
    },
    {
      "cell_type": "code",
      "metadata": {
        "colab": {
          "base_uri": "https://localhost:8080/"
        },
        "id": "zU5OYwyKlO6g",
        "outputId": "b1e30158-54a1-4d4c-ac26-7f9bdf0f9097"
      },
      "source": [
        "# ajustar os tipos dos dados\n",
        "battles['name'] = battles['name'].astype('category')\n",
        "battles['year'] = battles['year'].astype('category')\n",
        "battles['attacker_king'] = battles['attacker_king'].astype('category')\n",
        "battles['defender_king'] = battles['defender_king'].astype('category')\n",
        "battles['attacker_1'] = battles['attacker_1'].astype('category')\n",
        "battles['defender_1'] = battles['defender_1'].astype('category')\n",
        "battles['attacker_outcome'] = battles['attacker_outcome'].astype('category')\n",
        "battles['battle_type'] = battles['battle_type'].astype('category')\n",
        "battles['major_death'] = battles['major_death'].astype('category')\n",
        "battles['major_capture'] = battles['major_capture'].astype('category')\n",
        "battles['summer'] = battles['summer'].astype('category')\n",
        "battles['location'] = battles['location'].astype('category')\n",
        "battles['region'] = battles['region'].astype('category')\n",
        "battles['attacker_commander_1'] = battles['attacker_commander_1'].astype('category')\n",
        "battles['defender_commander_1'] = battles['defender_commander_1'].astype('category')\n",
        "\n",
        "battles.dtypes"
      ],
      "execution_count": 18,
      "outputs": [
        {
          "output_type": "execute_result",
          "data": {
            "text/plain": [
              "name                    category\n",
              "year                    category\n",
              "attacker_king           category\n",
              "defender_king           category\n",
              "attacker_1              category\n",
              "defender_1              category\n",
              "attacker_outcome        category\n",
              "battle_type             category\n",
              "major_death             category\n",
              "major_capture           category\n",
              "attacker_size            float64\n",
              "defender_size            float64\n",
              "summer                  category\n",
              "location                category\n",
              "region                  category\n",
              "attacker_commander_1    category\n",
              "defender_commander_1    category\n",
              "dtype: object"
            ]
          },
          "metadata": {
            "tags": []
          },
          "execution_count": 18
        }
      ]
    },
    {
      "cell_type": "markdown",
      "metadata": {
        "id": "dITRZFUHJ9Jp"
      },
      "source": [
        "## Tratamento de dados ausentes II"
      ]
    },
    {
      "cell_type": "code",
      "metadata": {
        "colab": {
          "base_uri": "https://localhost:8080/"
        },
        "id": "grhDk5_SKC3Z",
        "outputId": "3423d387-0974-442e-82d9-2186985a4f51"
      },
      "source": [
        "battles.isnull().sum()"
      ],
      "execution_count": 19,
      "outputs": [
        {
          "output_type": "execute_result",
          "data": {
            "text/plain": [
              "name                     0\n",
              "year                     0\n",
              "attacker_king            2\n",
              "defender_king            3\n",
              "attacker_1               0\n",
              "defender_1               1\n",
              "attacker_outcome         1\n",
              "battle_type              1\n",
              "major_death              1\n",
              "major_capture            1\n",
              "attacker_size           14\n",
              "defender_size           19\n",
              "summer                   1\n",
              "location                 1\n",
              "region                   0\n",
              "attacker_commander_1     1\n",
              "defender_commander_1    10\n",
              "dtype: int64"
            ]
          },
          "metadata": {
            "tags": []
          },
          "execution_count": 19
        }
      ]
    },
    {
      "cell_type": "markdown",
      "metadata": {
        "id": "IuTpqAp4VNyz"
      },
      "source": [
        "Primeiro vamos tratar as colunas com apenas 1 dado ausente e que sabemos que tem relação com alguma outra coluna."
      ]
    },
    {
      "cell_type": "markdown",
      "metadata": {
        "id": "9fdD_jxDOjyS"
      },
      "source": [
        "### `summer`"
      ]
    },
    {
      "cell_type": "markdown",
      "metadata": {
        "id": "_aygSFhwSYEA"
      },
      "source": [
        "Na história, a passagem das estações é bem diferente da realidade. As estações não mudam com uma frequência constante e **cada estação dura anos**. Logo, podemos utilizar as batalhas do mesmo ano para decidir qual valor imputar na coluna `summer`."
      ]
    },
    {
      "cell_type": "code",
      "metadata": {
        "id": "uJYegko6J2tX"
      },
      "source": [
        "battles['summer'] = battles['summer'].cat.codes\n",
        "non_null_summer_battles = battles[battles['summer'] != -1]"
      ],
      "execution_count": 20,
      "outputs": []
    },
    {
      "cell_type": "code",
      "metadata": {
        "colab": {
          "base_uri": "https://localhost:8080/"
        },
        "id": "yTRb8yjvJUCw",
        "outputId": "b0adc8c1-5fa3-4f8b-a662-a3f6b6195563"
      },
      "source": [
        "non_null_summer_battles.groupby(['year'])['summer'].mean()"
      ],
      "execution_count": 21,
      "outputs": [
        {
          "output_type": "execute_result",
          "data": {
            "text/plain": [
              "year\n",
              "298    1\n",
              "299    1\n",
              "300    0\n",
              "Name: summer, dtype: int8"
            ]
          },
          "metadata": {
            "tags": []
          },
          "execution_count": 21
        }
      ]
    },
    {
      "cell_type": "code",
      "metadata": {
        "colab": {
          "base_uri": "https://localhost:8080/",
          "height": 0
        },
        "id": "QDC8djANK6it",
        "outputId": "43e67c7f-ddae-4cac-b795-621509abe655"
      },
      "source": [
        "battles.loc[battles['summer'] == -1]"
      ],
      "execution_count": 22,
      "outputs": [
        {
          "output_type": "execute_result",
          "data": {
            "text/html": [
              "<div>\n",
              "<style scoped>\n",
              "    .dataframe tbody tr th:only-of-type {\n",
              "        vertical-align: middle;\n",
              "    }\n",
              "\n",
              "    .dataframe tbody tr th {\n",
              "        vertical-align: top;\n",
              "    }\n",
              "\n",
              "    .dataframe thead th {\n",
              "        text-align: right;\n",
              "    }\n",
              "</style>\n",
              "<table border=\"1\" class=\"dataframe\">\n",
              "  <thead>\n",
              "    <tr style=\"text-align: right;\">\n",
              "      <th></th>\n",
              "      <th>name</th>\n",
              "      <th>year</th>\n",
              "      <th>attacker_king</th>\n",
              "      <th>defender_king</th>\n",
              "      <th>attacker_1</th>\n",
              "      <th>defender_1</th>\n",
              "      <th>attacker_outcome</th>\n",
              "      <th>battle_type</th>\n",
              "      <th>major_death</th>\n",
              "      <th>major_capture</th>\n",
              "      <th>attacker_size</th>\n",
              "      <th>defender_size</th>\n",
              "      <th>summer</th>\n",
              "      <th>location</th>\n",
              "      <th>region</th>\n",
              "      <th>attacker_commander_1</th>\n",
              "      <th>defender_commander_1</th>\n",
              "    </tr>\n",
              "  </thead>\n",
              "  <tbody>\n",
              "    <tr>\n",
              "      <th>23</th>\n",
              "      <td>Battle of the Ruby Ford</td>\n",
              "      <td>299</td>\n",
              "      <td>Joffrey/Tommen Baratheon</td>\n",
              "      <td>Robb Stark</td>\n",
              "      <td>Lannister</td>\n",
              "      <td>Stark</td>\n",
              "      <td>win</td>\n",
              "      <td>pitched battle</td>\n",
              "      <td>0.0</td>\n",
              "      <td>0.0</td>\n",
              "      <td>NaN</td>\n",
              "      <td>6000.0</td>\n",
              "      <td>-1</td>\n",
              "      <td>Ruby Ford</td>\n",
              "      <td>The Riverlands</td>\n",
              "      <td>Gregor Clegane</td>\n",
              "      <td>Roose Bolton</td>\n",
              "    </tr>\n",
              "  </tbody>\n",
              "</table>\n",
              "</div>"
            ],
            "text/plain": [
              "                       name year  ... attacker_commander_1 defender_commander_1\n",
              "23  Battle of the Ruby Ford  299  ...       Gregor Clegane         Roose Bolton\n",
              "\n",
              "[1 rows x 17 columns]"
            ]
          },
          "metadata": {
            "tags": []
          },
          "execution_count": 22
        }
      ]
    },
    {
      "cell_type": "code",
      "metadata": {
        "colab": {
          "base_uri": "https://localhost:8080/"
        },
        "id": "8BeVVVAuMoBd",
        "outputId": "8313249f-8554-402c-8cf9-1edbffe244ca"
      },
      "source": [
        "battles.loc[battles['summer'] == -1, ['year']]['year'] = 1\n",
        "battles['summer'].isnull().sum()"
      ],
      "execution_count": 23,
      "outputs": [
        {
          "output_type": "execute_result",
          "data": {
            "text/plain": [
              "0"
            ]
          },
          "metadata": {
            "tags": []
          },
          "execution_count": 23
        }
      ]
    },
    {
      "cell_type": "markdown",
      "metadata": {
        "id": "iyp1_B8l3Uuv"
      },
      "source": [
        "### `location`"
      ]
    },
    {
      "cell_type": "code",
      "metadata": {
        "colab": {
          "base_uri": "https://localhost:8080/"
        },
        "id": "_zPgBk7-4H6X",
        "outputId": "5fcd9e29-f5ae-4da6-a21f-bcd807ca9f3a"
      },
      "source": [
        "battles['location'].isnull().sum()"
      ],
      "execution_count": 24,
      "outputs": [
        {
          "output_type": "execute_result",
          "data": {
            "text/plain": [
              "1"
            ]
          },
          "metadata": {
            "tags": []
          },
          "execution_count": 24
        }
      ]
    },
    {
      "cell_type": "code",
      "metadata": {
        "colab": {
          "base_uri": "https://localhost:8080/",
          "height": 0
        },
        "id": "R2yBDU783Uu8",
        "outputId": "bafcf47a-930b-418f-8bd6-0081b9af951d"
      },
      "source": [
        "battles.loc[battles['location'].isnull()]"
      ],
      "execution_count": 25,
      "outputs": [
        {
          "output_type": "execute_result",
          "data": {
            "text/html": [
              "<div>\n",
              "<style scoped>\n",
              "    .dataframe tbody tr th:only-of-type {\n",
              "        vertical-align: middle;\n",
              "    }\n",
              "\n",
              "    .dataframe tbody tr th {\n",
              "        vertical-align: top;\n",
              "    }\n",
              "\n",
              "    .dataframe thead th {\n",
              "        text-align: right;\n",
              "    }\n",
              "</style>\n",
              "<table border=\"1\" class=\"dataframe\">\n",
              "  <thead>\n",
              "    <tr style=\"text-align: right;\">\n",
              "      <th></th>\n",
              "      <th>name</th>\n",
              "      <th>year</th>\n",
              "      <th>attacker_king</th>\n",
              "      <th>defender_king</th>\n",
              "      <th>attacker_1</th>\n",
              "      <th>defender_1</th>\n",
              "      <th>attacker_outcome</th>\n",
              "      <th>battle_type</th>\n",
              "      <th>major_death</th>\n",
              "      <th>major_capture</th>\n",
              "      <th>attacker_size</th>\n",
              "      <th>defender_size</th>\n",
              "      <th>summer</th>\n",
              "      <th>location</th>\n",
              "      <th>region</th>\n",
              "      <th>attacker_commander_1</th>\n",
              "      <th>defender_commander_1</th>\n",
              "    </tr>\n",
              "  </thead>\n",
              "  <tbody>\n",
              "    <tr>\n",
              "      <th>22</th>\n",
              "      <td>Battle of the Burning Septry</td>\n",
              "      <td>299</td>\n",
              "      <td>NaN</td>\n",
              "      <td>NaN</td>\n",
              "      <td>Brotherhood without Banners</td>\n",
              "      <td>Brave Companions</td>\n",
              "      <td>win</td>\n",
              "      <td>pitched battle</td>\n",
              "      <td>0.0</td>\n",
              "      <td>0.0</td>\n",
              "      <td>NaN</td>\n",
              "      <td>NaN</td>\n",
              "      <td>1</td>\n",
              "      <td>NaN</td>\n",
              "      <td>The Riverlands</td>\n",
              "      <td>NaN</td>\n",
              "      <td>NaN</td>\n",
              "    </tr>\n",
              "  </tbody>\n",
              "</table>\n",
              "</div>"
            ],
            "text/plain": [
              "                            name year  ... attacker_commander_1 defender_commander_1\n",
              "22  Battle of the Burning Septry  299  ...                  NaN                  NaN\n",
              "\n",
              "[1 rows x 17 columns]"
            ]
          },
          "metadata": {
            "tags": []
          },
          "execution_count": 25
        }
      ]
    },
    {
      "cell_type": "markdown",
      "metadata": {
        "id": "MPEXnexm3oey"
      },
      "source": [
        "Como essa linha possui muitos dados nulos, é melhor removê-la"
      ]
    },
    {
      "cell_type": "code",
      "metadata": {
        "colab": {
          "base_uri": "https://localhost:8080/"
        },
        "id": "5Ca3DE6h3Uu9",
        "outputId": "3d645752-51c3-4a02-d918-85c8661d04a2"
      },
      "source": [
        "battles.drop(index=battles.loc[battles['location'].isnull()].index, inplace=True)\n",
        "battles['location'].isnull().sum()"
      ],
      "execution_count": 26,
      "outputs": [
        {
          "output_type": "execute_result",
          "data": {
            "text/plain": [
              "0"
            ]
          },
          "metadata": {
            "tags": []
          },
          "execution_count": 26
        }
      ]
    },
    {
      "cell_type": "markdown",
      "metadata": {
        "id": "FahZJVyQHQhi"
      },
      "source": [
        "Obs: Remover essa linha acaba removendo também a única instância com `attacker_commander_1` nulo"
      ]
    },
    {
      "cell_type": "code",
      "metadata": {
        "colab": {
          "base_uri": "https://localhost:8080/"
        },
        "id": "UsFogvxdHXZV",
        "outputId": "86d1bdc9-a813-4d65-e39a-8897cdbf8cc5"
      },
      "source": [
        "battles['attacker_commander_1'].isnull().sum()"
      ],
      "execution_count": 27,
      "outputs": [
        {
          "output_type": "execute_result",
          "data": {
            "text/plain": [
              "0"
            ]
          },
          "metadata": {
            "tags": []
          },
          "execution_count": 27
        }
      ]
    },
    {
      "cell_type": "code",
      "metadata": {
        "id": "J-zAZIZ8ffKA"
      },
      "source": [
        "# resetar o index após remover uma linha\n",
        "battles.reset_index(drop=True, inplace=True)"
      ],
      "execution_count": 28,
      "outputs": []
    },
    {
      "cell_type": "markdown",
      "metadata": {
        "id": "JbQEpn3g20rk"
      },
      "source": [
        "### `attacker_king` e `defender_king`"
      ]
    },
    {
      "cell_type": "code",
      "metadata": {
        "colab": {
          "base_uri": "https://localhost:8080/"
        },
        "id": "F7YlQomT4GzS",
        "outputId": "f0998516-b7bf-494a-e7ea-214f81d90f31"
      },
      "source": [
        "print('attacker_king: ', battles['attacker_king'].isnull().sum())\n",
        "print('defender_king: ', battles['defender_king'].isnull().sum())"
      ],
      "execution_count": 29,
      "outputs": [
        {
          "output_type": "stream",
          "text": [
            "attacker_king:  1\n",
            "defender_king:  2\n"
          ],
          "name": "stdout"
        }
      ]
    },
    {
      "cell_type": "code",
      "metadata": {
        "colab": {
          "base_uri": "https://localhost:8080/",
          "height": 0
        },
        "id": "ZXppWcno4ORP",
        "outputId": "d14735d4-18db-43b4-d351-43cae12e8de3"
      },
      "source": [
        "battles.loc[battles['attacker_king'].isnull() | battles['defender_king'].isnull()]"
      ],
      "execution_count": 30,
      "outputs": [
        {
          "output_type": "execute_result",
          "data": {
            "text/html": [
              "<div>\n",
              "<style scoped>\n",
              "    .dataframe tbody tr th:only-of-type {\n",
              "        vertical-align: middle;\n",
              "    }\n",
              "\n",
              "    .dataframe tbody tr th {\n",
              "        vertical-align: top;\n",
              "    }\n",
              "\n",
              "    .dataframe thead th {\n",
              "        text-align: right;\n",
              "    }\n",
              "</style>\n",
              "<table border=\"1\" class=\"dataframe\">\n",
              "  <thead>\n",
              "    <tr style=\"text-align: right;\">\n",
              "      <th></th>\n",
              "      <th>name</th>\n",
              "      <th>year</th>\n",
              "      <th>attacker_king</th>\n",
              "      <th>defender_king</th>\n",
              "      <th>attacker_1</th>\n",
              "      <th>defender_1</th>\n",
              "      <th>attacker_outcome</th>\n",
              "      <th>battle_type</th>\n",
              "      <th>major_death</th>\n",
              "      <th>major_capture</th>\n",
              "      <th>attacker_size</th>\n",
              "      <th>defender_size</th>\n",
              "      <th>summer</th>\n",
              "      <th>location</th>\n",
              "      <th>region</th>\n",
              "      <th>attacker_commander_1</th>\n",
              "      <th>defender_commander_1</th>\n",
              "    </tr>\n",
              "  </thead>\n",
              "  <tbody>\n",
              "    <tr>\n",
              "      <th>23</th>\n",
              "      <td>Retaking of Harrenhal</td>\n",
              "      <td>299</td>\n",
              "      <td>Joffrey/Tommen Baratheon</td>\n",
              "      <td>NaN</td>\n",
              "      <td>Lannister</td>\n",
              "      <td>Brave Companions</td>\n",
              "      <td>win</td>\n",
              "      <td>pitched battle</td>\n",
              "      <td>1.0</td>\n",
              "      <td>0.0</td>\n",
              "      <td>NaN</td>\n",
              "      <td>NaN</td>\n",
              "      <td>1</td>\n",
              "      <td>Harrenhal</td>\n",
              "      <td>The Riverlands</td>\n",
              "      <td>Gregor Clegane</td>\n",
              "      <td>Vargo Hoat</td>\n",
              "    </tr>\n",
              "    <tr>\n",
              "      <th>28</th>\n",
              "      <td>Sack of Saltpans</td>\n",
              "      <td>300</td>\n",
              "      <td>NaN</td>\n",
              "      <td>NaN</td>\n",
              "      <td>Brave Companions</td>\n",
              "      <td>NaN</td>\n",
              "      <td>win</td>\n",
              "      <td>razing</td>\n",
              "      <td>0.0</td>\n",
              "      <td>0.0</td>\n",
              "      <td>NaN</td>\n",
              "      <td>NaN</td>\n",
              "      <td>0</td>\n",
              "      <td>Saltpans</td>\n",
              "      <td>The Riverlands</td>\n",
              "      <td>Rorge</td>\n",
              "      <td>NaN</td>\n",
              "    </tr>\n",
              "  </tbody>\n",
              "</table>\n",
              "</div>"
            ],
            "text/plain": [
              "                     name year  ... attacker_commander_1 defender_commander_1\n",
              "23  Retaking of Harrenhal  299  ...       Gregor Clegane           Vargo Hoat\n",
              "28       Sack of Saltpans  300  ...                Rorge                  NaN\n",
              "\n",
              "[2 rows x 17 columns]"
            ]
          },
          "metadata": {
            "tags": []
          },
          "execution_count": 30
        }
      ]
    },
    {
      "cell_type": "markdown",
      "metadata": {
        "id": "9o9fFc1g5A2k"
      },
      "source": [
        "A 'Brotherhood without Banners' e os 'Brave Companions' não servem a nenhum rei, portanto não faz sentido imputar algum dado das categorias de `attacker_king` e `defender_king` para essas batalhas. Para tratar esses valores nulos, vamos criar uma nova categoria para essas colunas que represente essa falta de rei."
      ]
    },
    {
      "cell_type": "code",
      "metadata": {
        "id": "crJSD40H5kYI"
      },
      "source": [
        "battles['attacker_king'].cat.add_categories(['None'], inplace=True)\n",
        "battles['attacker_king'].fillna('None', inplace=True)\n",
        "battles['defender_king'].cat.add_categories(['None'], inplace=True)\n",
        "battles['defender_king'].fillna('None', inplace=True)"
      ],
      "execution_count": 31,
      "outputs": []
    },
    {
      "cell_type": "code",
      "metadata": {
        "colab": {
          "base_uri": "https://localhost:8080/"
        },
        "id": "Ng6GSYv04NKe",
        "outputId": "a5df03f6-7e66-4b90-aad3-66f71ea9ab7b"
      },
      "source": [
        "print('attacker_king: ', battles['attacker_king'].isnull().sum())\n",
        "print('defender_king: ', battles['defender_king'].isnull().sum())"
      ],
      "execution_count": 32,
      "outputs": [
        {
          "output_type": "stream",
          "text": [
            "attacker_king:  0\n",
            "defender_king:  0\n"
          ],
          "name": "stdout"
        }
      ]
    },
    {
      "cell_type": "markdown",
      "metadata": {
        "id": "ud-QUb34biaf"
      },
      "source": [
        "### `defender_1`"
      ]
    },
    {
      "cell_type": "code",
      "metadata": {
        "colab": {
          "base_uri": "https://localhost:8080/"
        },
        "id": "OWL0yImQ7dC2",
        "outputId": "aa248661-4bae-4a9d-d061-755906f7a053"
      },
      "source": [
        "battles['defender_1'].isnull().sum()"
      ],
      "execution_count": 33,
      "outputs": [
        {
          "output_type": "execute_result",
          "data": {
            "text/plain": [
              "1"
            ]
          },
          "metadata": {
            "tags": []
          },
          "execution_count": 33
        }
      ]
    },
    {
      "cell_type": "code",
      "metadata": {
        "colab": {
          "base_uri": "https://localhost:8080/",
          "height": 0
        },
        "id": "XdPzbDBS7hA5",
        "outputId": "981e9c46-db3c-4e7c-be70-15451bbcc422"
      },
      "source": [
        "battles.loc[battles['defender_1'].isnull()]"
      ],
      "execution_count": 34,
      "outputs": [
        {
          "output_type": "execute_result",
          "data": {
            "text/html": [
              "<div>\n",
              "<style scoped>\n",
              "    .dataframe tbody tr th:only-of-type {\n",
              "        vertical-align: middle;\n",
              "    }\n",
              "\n",
              "    .dataframe tbody tr th {\n",
              "        vertical-align: top;\n",
              "    }\n",
              "\n",
              "    .dataframe thead th {\n",
              "        text-align: right;\n",
              "    }\n",
              "</style>\n",
              "<table border=\"1\" class=\"dataframe\">\n",
              "  <thead>\n",
              "    <tr style=\"text-align: right;\">\n",
              "      <th></th>\n",
              "      <th>name</th>\n",
              "      <th>year</th>\n",
              "      <th>attacker_king</th>\n",
              "      <th>defender_king</th>\n",
              "      <th>attacker_1</th>\n",
              "      <th>defender_1</th>\n",
              "      <th>attacker_outcome</th>\n",
              "      <th>battle_type</th>\n",
              "      <th>major_death</th>\n",
              "      <th>major_capture</th>\n",
              "      <th>attacker_size</th>\n",
              "      <th>defender_size</th>\n",
              "      <th>summer</th>\n",
              "      <th>location</th>\n",
              "      <th>region</th>\n",
              "      <th>attacker_commander_1</th>\n",
              "      <th>defender_commander_1</th>\n",
              "    </tr>\n",
              "  </thead>\n",
              "  <tbody>\n",
              "    <tr>\n",
              "      <th>28</th>\n",
              "      <td>Sack of Saltpans</td>\n",
              "      <td>300</td>\n",
              "      <td>None</td>\n",
              "      <td>None</td>\n",
              "      <td>Brave Companions</td>\n",
              "      <td>NaN</td>\n",
              "      <td>win</td>\n",
              "      <td>razing</td>\n",
              "      <td>0.0</td>\n",
              "      <td>0.0</td>\n",
              "      <td>NaN</td>\n",
              "      <td>NaN</td>\n",
              "      <td>0</td>\n",
              "      <td>Saltpans</td>\n",
              "      <td>The Riverlands</td>\n",
              "      <td>Rorge</td>\n",
              "      <td>NaN</td>\n",
              "    </tr>\n",
              "  </tbody>\n",
              "</table>\n",
              "</div>"
            ],
            "text/plain": [
              "                name year  ... attacker_commander_1 defender_commander_1\n",
              "28  Sack of Saltpans  300  ...                Rorge                  NaN\n",
              "\n",
              "[1 rows x 17 columns]"
            ]
          },
          "metadata": {
            "tags": []
          },
          "execution_count": 34
        }
      ]
    },
    {
      "cell_type": "markdown",
      "metadata": {
        "id": "3NldahAK77jK"
      },
      "source": [
        "Essa batalha não foi direcionada a nenhum reinado específico, então vamos apenas atribuir uma nova categoria (None)."
      ]
    },
    {
      "cell_type": "code",
      "metadata": {
        "id": "Kw-If84T8OFj"
      },
      "source": [
        "battles['defender_1'].cat.add_categories(['None'], inplace=True)\n",
        "battles['defender_1'].fillna('None', inplace=True)"
      ],
      "execution_count": 35,
      "outputs": []
    },
    {
      "cell_type": "code",
      "metadata": {
        "colab": {
          "base_uri": "https://localhost:8080/"
        },
        "id": "gasToZEE7gWD",
        "outputId": "3fc92ebd-7f6c-4867-d3d7-c047bf608dd8"
      },
      "source": [
        "battles['defender_1'].isnull().sum()"
      ],
      "execution_count": 36,
      "outputs": [
        {
          "output_type": "execute_result",
          "data": {
            "text/plain": [
              "0"
            ]
          },
          "metadata": {
            "tags": []
          },
          "execution_count": 36
        }
      ]
    },
    {
      "cell_type": "markdown",
      "metadata": {
        "id": "sBjjLI1BcH3m"
      },
      "source": [
        "### `battle_type`"
      ]
    },
    {
      "cell_type": "code",
      "metadata": {
        "colab": {
          "base_uri": "https://localhost:8080/"
        },
        "id": "8yhM183K89kz",
        "outputId": "23ca3f9f-49ba-471e-fbff-cb10db0e4f34"
      },
      "source": [
        "battles['battle_type'].isnull().sum()"
      ],
      "execution_count": 37,
      "outputs": [
        {
          "output_type": "execute_result",
          "data": {
            "text/plain": [
              "1"
            ]
          },
          "metadata": {
            "tags": []
          },
          "execution_count": 37
        }
      ]
    },
    {
      "cell_type": "code",
      "metadata": {
        "colab": {
          "base_uri": "https://localhost:8080/",
          "height": 0
        },
        "id": "_06S_xo29D_s",
        "outputId": "3c2b46ef-1e76-4824-9bf3-341e97251f70"
      },
      "source": [
        "battles.loc[battles['battle_type'].isnull()]"
      ],
      "execution_count": 38,
      "outputs": [
        {
          "output_type": "execute_result",
          "data": {
            "text/html": [
              "<div>\n",
              "<style scoped>\n",
              "    .dataframe tbody tr th:only-of-type {\n",
              "        vertical-align: middle;\n",
              "    }\n",
              "\n",
              "    .dataframe tbody tr th {\n",
              "        vertical-align: top;\n",
              "    }\n",
              "\n",
              "    .dataframe thead th {\n",
              "        text-align: right;\n",
              "    }\n",
              "</style>\n",
              "<table border=\"1\" class=\"dataframe\">\n",
              "  <thead>\n",
              "    <tr style=\"text-align: right;\">\n",
              "      <th></th>\n",
              "      <th>name</th>\n",
              "      <th>year</th>\n",
              "      <th>attacker_king</th>\n",
              "      <th>defender_king</th>\n",
              "      <th>attacker_1</th>\n",
              "      <th>defender_1</th>\n",
              "      <th>attacker_outcome</th>\n",
              "      <th>battle_type</th>\n",
              "      <th>major_death</th>\n",
              "      <th>major_capture</th>\n",
              "      <th>attacker_size</th>\n",
              "      <th>defender_size</th>\n",
              "      <th>summer</th>\n",
              "      <th>location</th>\n",
              "      <th>region</th>\n",
              "      <th>attacker_commander_1</th>\n",
              "      <th>defender_commander_1</th>\n",
              "    </tr>\n",
              "  </thead>\n",
              "  <tbody>\n",
              "    <tr>\n",
              "      <th>36</th>\n",
              "      <td>Siege of Winterfell</td>\n",
              "      <td>300</td>\n",
              "      <td>Stannis Baratheon</td>\n",
              "      <td>Joffrey/Tommen Baratheon</td>\n",
              "      <td>Baratheon</td>\n",
              "      <td>Bolton</td>\n",
              "      <td>NaN</td>\n",
              "      <td>NaN</td>\n",
              "      <td>NaN</td>\n",
              "      <td>NaN</td>\n",
              "      <td>5000.0</td>\n",
              "      <td>8000.0</td>\n",
              "      <td>0</td>\n",
              "      <td>Winterfell</td>\n",
              "      <td>The North</td>\n",
              "      <td>Stannis Baratheon</td>\n",
              "      <td>Roose Bolton</td>\n",
              "    </tr>\n",
              "  </tbody>\n",
              "</table>\n",
              "</div>"
            ],
            "text/plain": [
              "                   name year  ... attacker_commander_1 defender_commander_1\n",
              "36  Siege of Winterfell  300  ...    Stannis Baratheon         Roose Bolton\n",
              "\n",
              "[1 rows x 17 columns]"
            ]
          },
          "metadata": {
            "tags": []
          },
          "execution_count": 38
        }
      ]
    },
    {
      "cell_type": "code",
      "metadata": {
        "colab": {
          "base_uri": "https://localhost:8080/"
        },
        "id": "eu5XqWrmBMl7",
        "outputId": "db4a9865-90bf-49ee-cef4-33d50a66372f"
      },
      "source": [
        "battles['battle_type'].cat.categories.tolist()"
      ],
      "execution_count": 39,
      "outputs": [
        {
          "output_type": "execute_result",
          "data": {
            "text/plain": [
              "['ambush', 'pitched battle', 'razing', 'siege']"
            ]
          },
          "metadata": {
            "tags": []
          },
          "execution_count": 39
        }
      ]
    },
    {
      "cell_type": "markdown",
      "metadata": {
        "id": "3IQ1j3u7BL9X"
      },
      "source": [
        "Pelo nome da batalha podemos ver que se trata de um cerco (*siege*). E esse é um tipo de batalha que já existe nas categorias, então vamos usar esse valor."
      ]
    },
    {
      "cell_type": "code",
      "metadata": {
        "id": "fWFgrsXxCUOB"
      },
      "source": [
        "battles['battle_type'].fillna('siege', inplace=True)"
      ],
      "execution_count": 40,
      "outputs": []
    },
    {
      "cell_type": "code",
      "metadata": {
        "colab": {
          "base_uri": "https://localhost:8080/"
        },
        "id": "q0YNtoCd8_A2",
        "outputId": "4db8df0b-5703-490d-ab2e-2291ee5abf2d"
      },
      "source": [
        "battles['battle_type'].isnull().sum()"
      ],
      "execution_count": 41,
      "outputs": [
        {
          "output_type": "execute_result",
          "data": {
            "text/plain": [
              "0"
            ]
          },
          "metadata": {
            "tags": []
          },
          "execution_count": 41
        }
      ]
    },
    {
      "cell_type": "markdown",
      "metadata": {
        "id": "W45w49oScSBy"
      },
      "source": [
        "### Valores booleanos com apenas uma linha nula (`attacker_outcome`, `major_death` e  `major_capture`)"
      ]
    },
    {
      "cell_type": "code",
      "metadata": {
        "colab": {
          "base_uri": "https://localhost:8080/"
        },
        "id": "5lGBx2YqAPQi",
        "outputId": "0765d5d7-4500-4467-a0e5-2178e7b891e6"
      },
      "source": [
        "print('attacker_outcome: ', battles['attacker_outcome'].isnull().sum())\n",
        "print('major_death: ', battles['major_death'].isnull().sum())\n",
        "print('major_capture: ', battles['major_capture'].isnull().sum())"
      ],
      "execution_count": 42,
      "outputs": [
        {
          "output_type": "stream",
          "text": [
            "attacker_outcome:  1\n",
            "major_death:  1\n",
            "major_capture:  1\n"
          ],
          "name": "stdout"
        }
      ]
    },
    {
      "cell_type": "code",
      "metadata": {
        "colab": {
          "base_uri": "https://localhost:8080/",
          "height": 0
        },
        "id": "PzKK19c0C5cR",
        "outputId": "db690948-536c-423e-e5f6-72718329d6a7"
      },
      "source": [
        "battles.loc[battles['attacker_outcome'].isnull() | battles['major_death'].isnull() | battles['major_capture'].isnull()]"
      ],
      "execution_count": 43,
      "outputs": [
        {
          "output_type": "execute_result",
          "data": {
            "text/html": [
              "<div>\n",
              "<style scoped>\n",
              "    .dataframe tbody tr th:only-of-type {\n",
              "        vertical-align: middle;\n",
              "    }\n",
              "\n",
              "    .dataframe tbody tr th {\n",
              "        vertical-align: top;\n",
              "    }\n",
              "\n",
              "    .dataframe thead th {\n",
              "        text-align: right;\n",
              "    }\n",
              "</style>\n",
              "<table border=\"1\" class=\"dataframe\">\n",
              "  <thead>\n",
              "    <tr style=\"text-align: right;\">\n",
              "      <th></th>\n",
              "      <th>name</th>\n",
              "      <th>year</th>\n",
              "      <th>attacker_king</th>\n",
              "      <th>defender_king</th>\n",
              "      <th>attacker_1</th>\n",
              "      <th>defender_1</th>\n",
              "      <th>attacker_outcome</th>\n",
              "      <th>battle_type</th>\n",
              "      <th>major_death</th>\n",
              "      <th>major_capture</th>\n",
              "      <th>attacker_size</th>\n",
              "      <th>defender_size</th>\n",
              "      <th>summer</th>\n",
              "      <th>location</th>\n",
              "      <th>region</th>\n",
              "      <th>attacker_commander_1</th>\n",
              "      <th>defender_commander_1</th>\n",
              "    </tr>\n",
              "  </thead>\n",
              "  <tbody>\n",
              "    <tr>\n",
              "      <th>36</th>\n",
              "      <td>Siege of Winterfell</td>\n",
              "      <td>300</td>\n",
              "      <td>Stannis Baratheon</td>\n",
              "      <td>Joffrey/Tommen Baratheon</td>\n",
              "      <td>Baratheon</td>\n",
              "      <td>Bolton</td>\n",
              "      <td>NaN</td>\n",
              "      <td>siege</td>\n",
              "      <td>NaN</td>\n",
              "      <td>NaN</td>\n",
              "      <td>5000.0</td>\n",
              "      <td>8000.0</td>\n",
              "      <td>0</td>\n",
              "      <td>Winterfell</td>\n",
              "      <td>The North</td>\n",
              "      <td>Stannis Baratheon</td>\n",
              "      <td>Roose Bolton</td>\n",
              "    </tr>\n",
              "  </tbody>\n",
              "</table>\n",
              "</div>"
            ],
            "text/plain": [
              "                   name year  ... attacker_commander_1 defender_commander_1\n",
              "36  Siege of Winterfell  300  ...    Stannis Baratheon         Roose Bolton\n",
              "\n",
              "[1 rows x 17 columns]"
            ]
          },
          "metadata": {
            "tags": []
          },
          "execution_count": 43
        }
      ]
    },
    {
      "cell_type": "code",
      "metadata": {
        "id": "KCrFU1AP-NvS"
      },
      "source": [
        "battles['attacker_outcome'] = battles['attacker_outcome'].cat.codes\n",
        "battles['major_death'] = battles['major_death'].cat.codes\n",
        "battles['major_capture'] = battles['major_capture'].cat.codes"
      ],
      "execution_count": 44,
      "outputs": []
    },
    {
      "cell_type": "markdown",
      "metadata": {
        "id": "Rgo8jwfU_dUn"
      },
      "source": [
        "Para valores booleanos, vamos imputar ou 0 ou 1."
      ]
    },
    {
      "cell_type": "code",
      "metadata": {
        "colab": {
          "base_uri": "https://localhost:8080/"
        },
        "id": "HW0SL4ULGHNW",
        "outputId": "55fbbbea-5dac-4848-a627-3c6559f9b59d"
      },
      "source": [
        "# 'attacker_outcome' = 0\n",
        "battles2 = battles.copy()\n",
        "mean_before =  battles2['attacker_outcome'].mean()\n",
        "median_before = battles2['attacker_outcome'].median()\n",
        "mode = battles2['attacker_outcome'].mode()\n",
        "\n",
        "battles2.loc[battles2['attacker_outcome'] == -1, ['attacker_outcome']] = 0\n",
        "\n",
        "mean_after =  battles2['attacker_outcome'].mean()\n",
        "median_after = battles2['attacker_outcome'].median()\n",
        "print('mean: ', mean_before, ' -> ', mean_after)\n",
        "print('median: ', median_before, ' -> ', median_after)\n",
        "print('mode: ', mode)"
      ],
      "execution_count": 45,
      "outputs": [
        {
          "output_type": "stream",
          "text": [
            "mean:  0.8108108108108109  ->  0.8378378378378378\n",
            "median:  1.0  ->  1.0\n",
            "mode:  0    1\n",
            "dtype: int8\n"
          ],
          "name": "stdout"
        }
      ]
    },
    {
      "cell_type": "code",
      "metadata": {
        "colab": {
          "base_uri": "https://localhost:8080/"
        },
        "id": "8p38d3JpGMX3",
        "outputId": "c7e68150-521b-4bdf-9f1c-d1b6a32fb76d"
      },
      "source": [
        "# 'attacker_outcome' = 1\n",
        "battles3 = battles.copy()\n",
        "mean_before =  battles3['attacker_outcome'].mean()\n",
        "median_before = battles3['attacker_outcome'].median()\n",
        "mode = battles3['attacker_outcome'].mode()\n",
        "\n",
        "battles3.loc[battles3['attacker_outcome'] == -1, ['attacker_outcome']] = 1\n",
        "\n",
        "mean_after =  battles3['attacker_outcome'].mean()\n",
        "median_after = battles3['attacker_outcome'].median()\n",
        "print('mean: ', mean_before, ' -> ', mean_after)\n",
        "print('median: ', median_before, ' -> ', median_after)\n",
        "print('mode: ', mode)"
      ],
      "execution_count": 46,
      "outputs": [
        {
          "output_type": "stream",
          "text": [
            "mean:  0.8108108108108109  ->  0.8648648648648649\n",
            "median:  1.0  ->  1.0\n",
            "mode:  0    1\n",
            "dtype: int8\n"
          ],
          "name": "stdout"
        }
      ]
    },
    {
      "cell_type": "markdown",
      "metadata": {
        "id": "1kDJ2sJgGTqh"
      },
      "source": [
        "Para `attacker_outcome`, o valor que mudou menos o valor da média foi 0, então vamos usá-lo."
      ]
    },
    {
      "cell_type": "code",
      "metadata": {
        "id": "1oo8MlbLGXO_"
      },
      "source": [
        "battles = battles2"
      ],
      "execution_count": 47,
      "outputs": []
    },
    {
      "cell_type": "code",
      "metadata": {
        "colab": {
          "base_uri": "https://localhost:8080/"
        },
        "id": "EsUIN0mkiRiE",
        "outputId": "170406c4-f39d-4b58-a47f-68fdbf54a109"
      },
      "source": [
        "# 'major_death' = 0\n",
        "battles2 = battles.copy()\n",
        "mean_before =  battles2['major_death'].mean()\n",
        "median_before = battles2['major_death'].median()\n",
        "mode = battles2['major_death'].mode()\n",
        "\n",
        "battles2.loc[battles2['major_death'] == -1, ['major_death']] = 0\n",
        "\n",
        "mean_after =  battles2['major_death'].mean()\n",
        "median_after = battles2['major_death'].median()\n",
        "print('mean: ', mean_before, ' -> ', mean_after)\n",
        "print('median: ', median_before, ' -> ', median_after)\n",
        "print('mode: ', mode)"
      ],
      "execution_count": 48,
      "outputs": [
        {
          "output_type": "stream",
          "text": [
            "mean:  0.32432432432432434  ->  0.35135135135135137\n",
            "median:  0.0  ->  0.0\n",
            "mode:  0    0\n",
            "dtype: int8\n"
          ],
          "name": "stdout"
        }
      ]
    },
    {
      "cell_type": "code",
      "metadata": {
        "colab": {
          "base_uri": "https://localhost:8080/"
        },
        "id": "J_aiO2nE-KQn",
        "outputId": "fdd93251-c2ef-4429-81a9-733ed425cf63"
      },
      "source": [
        "# 'major_death' = 1\n",
        "battles3 = battles.copy()\n",
        "mean_before =  battles3['major_death'].mean()\n",
        "median_before = battles3['major_death'].median()\n",
        "mode = battles3['major_death'].mode()\n",
        "\n",
        "battles3.loc[battles3['major_death'] == -1, ['major_death']] = 1\n",
        "\n",
        "mean_after =  battles3['major_death'].mean()\n",
        "median_after = battles3['major_death'].median()\n",
        "print('mean: ', mean_before, ' -> ', mean_after)\n",
        "print('median: ', median_before, ' -> ', median_after)\n",
        "print('mode: ', mode)"
      ],
      "execution_count": 49,
      "outputs": [
        {
          "output_type": "stream",
          "text": [
            "mean:  0.32432432432432434  ->  0.3783783783783784\n",
            "median:  0.0  ->  0.0\n",
            "mode:  0    0\n",
            "dtype: int8\n"
          ],
          "name": "stdout"
        }
      ]
    },
    {
      "cell_type": "markdown",
      "metadata": {
        "id": "2R0DpPQ0Ed--"
      },
      "source": [
        "Para `major_death`, o valor que mudou menos o valor da média também foi 0."
      ]
    },
    {
      "cell_type": "code",
      "metadata": {
        "id": "xemlV3YMErKY"
      },
      "source": [
        "battles = battles2"
      ],
      "execution_count": 50,
      "outputs": []
    },
    {
      "cell_type": "code",
      "metadata": {
        "colab": {
          "base_uri": "https://localhost:8080/"
        },
        "id": "IXdwCYxwFVVK",
        "outputId": "724baae9-a154-425e-9d40-3747976ea9fa"
      },
      "source": [
        "# 'major_capture' = 0\n",
        "battles2 = battles.copy()\n",
        "mean_before =  battles2['major_capture'].mean()\n",
        "median_before = battles2['major_capture'].median()\n",
        "mode = battles2['major_capture'].mode()\n",
        "\n",
        "battles2.loc[battles2['major_capture'] == -1, ['major_capture']] = 0\n",
        "\n",
        "mean_after =  battles2['major_capture'].mean()\n",
        "median_after = battles2['major_capture'].median()\n",
        "print('mean: ', mean_before, ' -> ', mean_after)\n",
        "print('median: ', median_before, ' -> ', median_after)\n",
        "print('mode: ', mode)"
      ],
      "execution_count": 51,
      "outputs": [
        {
          "output_type": "stream",
          "text": [
            "mean:  0.2702702702702703  ->  0.2972972972972973\n",
            "median:  0.0  ->  0.0\n",
            "mode:  0    0\n",
            "dtype: int8\n"
          ],
          "name": "stdout"
        }
      ]
    },
    {
      "cell_type": "code",
      "metadata": {
        "colab": {
          "base_uri": "https://localhost:8080/"
        },
        "id": "igaiQaaLFv5c",
        "outputId": "86b0bdc6-22f2-4088-a56e-9e0b64743bac"
      },
      "source": [
        "# 'major_capture' = 1\n",
        "battles3 = battles.copy()\n",
        "mean_before =  battles3['major_capture'].mean()\n",
        "median_before = battles3['major_capture'].median()\n",
        "mode = battles3['major_capture'].mode()\n",
        "\n",
        "battles3.loc[battles3['major_capture'] == -1, ['major_capture']] = 1\n",
        "\n",
        "mean_after =  battles3['major_capture'].mean()\n",
        "median_after = battles3['major_capture'].median()\n",
        "print('mean: ', mean_before, ' -> ', mean_after)\n",
        "print('median: ', median_before, ' -> ', median_after)\n",
        "print('mode: ', mode)"
      ],
      "execution_count": 52,
      "outputs": [
        {
          "output_type": "stream",
          "text": [
            "mean:  0.2702702702702703  ->  0.32432432432432434\n",
            "median:  0.0  ->  0.0\n",
            "mode:  0    0\n",
            "dtype: int8\n"
          ],
          "name": "stdout"
        }
      ]
    },
    {
      "cell_type": "markdown",
      "metadata": {
        "id": "9ZI_F4O5F49y"
      },
      "source": [
        "Mais uma vez, o valor que mudou menos o valor da média para `major_capture` foi 0."
      ]
    },
    {
      "cell_type": "code",
      "metadata": {
        "id": "gaucdDwVF4Q6"
      },
      "source": [
        "battles = battles2"
      ],
      "execution_count": 53,
      "outputs": []
    },
    {
      "cell_type": "code",
      "metadata": {
        "colab": {
          "base_uri": "https://localhost:8080/"
        },
        "id": "szrUL1LkFVp1",
        "outputId": "63a6db8d-8934-477e-ad1b-fe3627d91945"
      },
      "source": [
        "print('attacker_outcome: ', battles['attacker_outcome'].isnull().sum())\n",
        "print('major_death: ', battles['major_death'].isnull().sum())\n",
        "print('major_capture: ', battles['major_capture'].isnull().sum())"
      ],
      "execution_count": 54,
      "outputs": [
        {
          "output_type": "stream",
          "text": [
            "attacker_outcome:  0\n",
            "major_death:  0\n",
            "major_capture:  0\n"
          ],
          "name": "stdout"
        }
      ]
    },
    {
      "cell_type": "markdown",
      "metadata": {
        "id": "iTq7Dw9aGsk_"
      },
      "source": [
        "### `defender_commander_1`"
      ]
    },
    {
      "cell_type": "code",
      "metadata": {
        "colab": {
          "base_uri": "https://localhost:8080/"
        },
        "id": "uVYRORSjG77j",
        "outputId": "0a1c106b-f7a4-4a45-eb69-27cd54e55879"
      },
      "source": [
        "battles['defender_commander_1'].isnull().sum()"
      ],
      "execution_count": 55,
      "outputs": [
        {
          "output_type": "execute_result",
          "data": {
            "text/plain": [
              "9"
            ]
          },
          "metadata": {
            "tags": []
          },
          "execution_count": 55
        }
      ]
    },
    {
      "cell_type": "code",
      "metadata": {
        "colab": {
          "base_uri": "https://localhost:8080/",
          "height": 0
        },
        "id": "HJ4VYL5wItX4",
        "outputId": "3132d6b5-afc6-4099-bae7-bad7dc4057ed"
      },
      "source": [
        "battles.loc[battles['defender_commander_1'].isnull()]"
      ],
      "execution_count": 56,
      "outputs": [
        {
          "output_type": "execute_result",
          "data": {
            "text/html": [
              "<div>\n",
              "<style scoped>\n",
              "    .dataframe tbody tr th:only-of-type {\n",
              "        vertical-align: middle;\n",
              "    }\n",
              "\n",
              "    .dataframe tbody tr th {\n",
              "        vertical-align: top;\n",
              "    }\n",
              "\n",
              "    .dataframe thead th {\n",
              "        text-align: right;\n",
              "    }\n",
              "</style>\n",
              "<table border=\"1\" class=\"dataframe\">\n",
              "  <thead>\n",
              "    <tr style=\"text-align: right;\">\n",
              "      <th></th>\n",
              "      <th>name</th>\n",
              "      <th>year</th>\n",
              "      <th>attacker_king</th>\n",
              "      <th>defender_king</th>\n",
              "      <th>attacker_1</th>\n",
              "      <th>defender_1</th>\n",
              "      <th>attacker_outcome</th>\n",
              "      <th>battle_type</th>\n",
              "      <th>major_death</th>\n",
              "      <th>major_capture</th>\n",
              "      <th>attacker_size</th>\n",
              "      <th>defender_size</th>\n",
              "      <th>summer</th>\n",
              "      <th>location</th>\n",
              "      <th>region</th>\n",
              "      <th>attacker_commander_1</th>\n",
              "      <th>defender_commander_1</th>\n",
              "    </tr>\n",
              "  </thead>\n",
              "  <tbody>\n",
              "    <tr>\n",
              "      <th>7</th>\n",
              "      <td>Battle of Moat Cailin</td>\n",
              "      <td>299</td>\n",
              "      <td>Balon/Euron Greyjoy</td>\n",
              "      <td>Robb Stark</td>\n",
              "      <td>Greyjoy</td>\n",
              "      <td>Stark</td>\n",
              "      <td>1</td>\n",
              "      <td>pitched battle</td>\n",
              "      <td>0</td>\n",
              "      <td>0</td>\n",
              "      <td>NaN</td>\n",
              "      <td>NaN</td>\n",
              "      <td>1</td>\n",
              "      <td>Moat Cailin</td>\n",
              "      <td>The North</td>\n",
              "      <td>Victarion Greyjoy</td>\n",
              "      <td>NaN</td>\n",
              "    </tr>\n",
              "    <tr>\n",
              "      <th>8</th>\n",
              "      <td>Battle of Deepwood Motte</td>\n",
              "      <td>299</td>\n",
              "      <td>Balon/Euron Greyjoy</td>\n",
              "      <td>Robb Stark</td>\n",
              "      <td>Greyjoy</td>\n",
              "      <td>Stark</td>\n",
              "      <td>1</td>\n",
              "      <td>siege</td>\n",
              "      <td>0</td>\n",
              "      <td>0</td>\n",
              "      <td>1000.0</td>\n",
              "      <td>NaN</td>\n",
              "      <td>1</td>\n",
              "      <td>Deepwood Motte</td>\n",
              "      <td>The North</td>\n",
              "      <td>Asha Greyjoy</td>\n",
              "      <td>NaN</td>\n",
              "    </tr>\n",
              "    <tr>\n",
              "      <th>9</th>\n",
              "      <td>Battle of the Stony Shore</td>\n",
              "      <td>299</td>\n",
              "      <td>Balon/Euron Greyjoy</td>\n",
              "      <td>Robb Stark</td>\n",
              "      <td>Greyjoy</td>\n",
              "      <td>Stark</td>\n",
              "      <td>1</td>\n",
              "      <td>ambush</td>\n",
              "      <td>0</td>\n",
              "      <td>0</td>\n",
              "      <td>264.0</td>\n",
              "      <td>NaN</td>\n",
              "      <td>1</td>\n",
              "      <td>Stony Shore</td>\n",
              "      <td>The North</td>\n",
              "      <td>Theon Greyjoy</td>\n",
              "      <td>NaN</td>\n",
              "    </tr>\n",
              "    <tr>\n",
              "      <th>12</th>\n",
              "      <td>Sack of Torrhen's Square</td>\n",
              "      <td>299</td>\n",
              "      <td>Balon/Euron Greyjoy</td>\n",
              "      <td>Balon/Euron Greyjoy</td>\n",
              "      <td>Greyjoy</td>\n",
              "      <td>Stark</td>\n",
              "      <td>1</td>\n",
              "      <td>siege</td>\n",
              "      <td>0</td>\n",
              "      <td>1</td>\n",
              "      <td>NaN</td>\n",
              "      <td>NaN</td>\n",
              "      <td>1</td>\n",
              "      <td>Torrhen's Square</td>\n",
              "      <td>The North</td>\n",
              "      <td>Dagmer Cleftjaw</td>\n",
              "      <td>NaN</td>\n",
              "    </tr>\n",
              "    <tr>\n",
              "      <th>20</th>\n",
              "      <td>Siege of Darry</td>\n",
              "      <td>299</td>\n",
              "      <td>Robb Stark</td>\n",
              "      <td>Joffrey/Tommen Baratheon</td>\n",
              "      <td>Darry</td>\n",
              "      <td>Lannister</td>\n",
              "      <td>1</td>\n",
              "      <td>siege</td>\n",
              "      <td>0</td>\n",
              "      <td>0</td>\n",
              "      <td>NaN</td>\n",
              "      <td>NaN</td>\n",
              "      <td>1</td>\n",
              "      <td>Darry</td>\n",
              "      <td>The Riverlands</td>\n",
              "      <td>Helman Tallhart</td>\n",
              "      <td>NaN</td>\n",
              "    </tr>\n",
              "    <tr>\n",
              "      <th>27</th>\n",
              "      <td>Fall of Moat Cailin</td>\n",
              "      <td>300</td>\n",
              "      <td>Joffrey/Tommen Baratheon</td>\n",
              "      <td>Balon/Euron Greyjoy</td>\n",
              "      <td>Bolton</td>\n",
              "      <td>Greyjoy</td>\n",
              "      <td>1</td>\n",
              "      <td>siege</td>\n",
              "      <td>0</td>\n",
              "      <td>0</td>\n",
              "      <td>NaN</td>\n",
              "      <td>NaN</td>\n",
              "      <td>0</td>\n",
              "      <td>Moat Cailin</td>\n",
              "      <td>The North</td>\n",
              "      <td>Ramsey Bolton</td>\n",
              "      <td>NaN</td>\n",
              "    </tr>\n",
              "    <tr>\n",
              "      <th>28</th>\n",
              "      <td>Sack of Saltpans</td>\n",
              "      <td>300</td>\n",
              "      <td>None</td>\n",
              "      <td>None</td>\n",
              "      <td>Brave Companions</td>\n",
              "      <td>None</td>\n",
              "      <td>1</td>\n",
              "      <td>razing</td>\n",
              "      <td>0</td>\n",
              "      <td>0</td>\n",
              "      <td>NaN</td>\n",
              "      <td>NaN</td>\n",
              "      <td>0</td>\n",
              "      <td>Saltpans</td>\n",
              "      <td>The Riverlands</td>\n",
              "      <td>Rorge</td>\n",
              "      <td>NaN</td>\n",
              "    </tr>\n",
              "    <tr>\n",
              "      <th>30</th>\n",
              "      <td>Battle of the Shield Islands</td>\n",
              "      <td>300</td>\n",
              "      <td>Balon/Euron Greyjoy</td>\n",
              "      <td>Joffrey/Tommen Baratheon</td>\n",
              "      <td>Greyjoy</td>\n",
              "      <td>Tyrell</td>\n",
              "      <td>1</td>\n",
              "      <td>pitched battle</td>\n",
              "      <td>0</td>\n",
              "      <td>0</td>\n",
              "      <td>NaN</td>\n",
              "      <td>NaN</td>\n",
              "      <td>0</td>\n",
              "      <td>Shield Islands</td>\n",
              "      <td>The Reach</td>\n",
              "      <td>Euron Greyjoy</td>\n",
              "      <td>NaN</td>\n",
              "    </tr>\n",
              "    <tr>\n",
              "      <th>31</th>\n",
              "      <td>Invasion of Ryamsport, Vinetown, and Starfish ...</td>\n",
              "      <td>300</td>\n",
              "      <td>Balon/Euron Greyjoy</td>\n",
              "      <td>Joffrey/Tommen Baratheon</td>\n",
              "      <td>Greyjoy</td>\n",
              "      <td>Tyrell</td>\n",
              "      <td>1</td>\n",
              "      <td>razing</td>\n",
              "      <td>0</td>\n",
              "      <td>0</td>\n",
              "      <td>NaN</td>\n",
              "      <td>NaN</td>\n",
              "      <td>0</td>\n",
              "      <td>Ryamsport, Vinetown, Starfish Harbor</td>\n",
              "      <td>The Reach</td>\n",
              "      <td>Euron Greyjoy</td>\n",
              "      <td>NaN</td>\n",
              "    </tr>\n",
              "  </tbody>\n",
              "</table>\n",
              "</div>"
            ],
            "text/plain": [
              "                                                 name  ... defender_commander_1\n",
              "7                               Battle of Moat Cailin  ...                  NaN\n",
              "8                            Battle of Deepwood Motte  ...                  NaN\n",
              "9                           Battle of the Stony Shore  ...                  NaN\n",
              "12                           Sack of Torrhen's Square  ...                  NaN\n",
              "20                                     Siege of Darry  ...                  NaN\n",
              "27                                Fall of Moat Cailin  ...                  NaN\n",
              "28                                   Sack of Saltpans  ...                  NaN\n",
              "30                       Battle of the Shield Islands  ...                  NaN\n",
              "31  Invasion of Ryamsport, Vinetown, and Starfish ...  ...                  NaN\n",
              "\n",
              "[9 rows x 17 columns]"
            ]
          },
          "metadata": {
            "tags": []
          },
          "execution_count": 56
        }
      ]
    },
    {
      "cell_type": "markdown",
      "metadata": {
        "id": "GbHVNUnrG5W3"
      },
      "source": [
        "Assim como para `attacker_king`, `defender_king` e `defender_1` vamos adicionar uma nova categoria aqui para representar os dados ausentes."
      ]
    },
    {
      "cell_type": "code",
      "metadata": {
        "id": "VVv74W-9JLQ0"
      },
      "source": [
        "battles['defender_commander_1'].cat.add_categories(['Unknown'], inplace=True)\n",
        "battles['defender_commander_1'].fillna('Unknown', inplace=True)"
      ],
      "execution_count": 57,
      "outputs": []
    },
    {
      "cell_type": "code",
      "metadata": {
        "colab": {
          "base_uri": "https://localhost:8080/"
        },
        "id": "gLinV1fxG-68",
        "outputId": "a0f0be68-c2a2-4981-a272-49aee8000e72"
      },
      "source": [
        "battles['defender_commander_1'].isnull().sum()"
      ],
      "execution_count": 58,
      "outputs": [
        {
          "output_type": "execute_result",
          "data": {
            "text/plain": [
              "0"
            ]
          },
          "metadata": {
            "tags": []
          },
          "execution_count": 58
        }
      ]
    },
    {
      "cell_type": "markdown",
      "metadata": {
        "id": "xfBjQPN5ceUt"
      },
      "source": [
        "### `attacker_size` e `defender_size`\n",
        "\n",
        "\n"
      ]
    },
    {
      "cell_type": "code",
      "metadata": {
        "colab": {
          "base_uri": "https://localhost:8080/"
        },
        "id": "-VCq6fnzdPlg",
        "outputId": "dcf335de-48b7-4048-8d67-c9724164bff1"
      },
      "source": [
        "print('attacker_size: ', battles['attacker_size'].isnull().sum())\n",
        "print('defender_size: ', battles['defender_size'].isnull().sum())"
      ],
      "execution_count": 59,
      "outputs": [
        {
          "output_type": "stream",
          "text": [
            "attacker_size:  13\n",
            "defender_size:  18\n"
          ],
          "name": "stdout"
        }
      ]
    },
    {
      "cell_type": "markdown",
      "metadata": {
        "id": "3_8vLbHLdXTM"
      },
      "source": [
        "Como essas colunas possuem um volume maior de dados ausentes e são dados numéricos, vamos utilizar o algoritmo de *K Nearest Neighbors* (KNN). Mas antes de utilizar esse algoritmo tem algums ajustes que precisamos fazer.\n",
        "\n",
        "O algoritmo calcula a distância entre as instâncias, então precisamos de dados numéricos. Para atingir esse objetivo, vamos utilizar os códigos dos dados categóricos."
      ]
    },
    {
      "cell_type": "code",
      "metadata": {
        "id": "qLclv58RRdR4"
      },
      "source": [
        "battles_codes = battles.copy()"
      ],
      "execution_count": 60,
      "outputs": []
    },
    {
      "cell_type": "code",
      "metadata": {
        "colab": {
          "base_uri": "https://localhost:8080/"
        },
        "id": "ClkMG5inN4VZ",
        "outputId": "8f877f00-70de-4885-d6f9-b5b877352131"
      },
      "source": [
        "battles_codes.dtypes"
      ],
      "execution_count": 61,
      "outputs": [
        {
          "output_type": "execute_result",
          "data": {
            "text/plain": [
              "name                    category\n",
              "year                    category\n",
              "attacker_king           category\n",
              "defender_king           category\n",
              "attacker_1              category\n",
              "defender_1              category\n",
              "attacker_outcome            int8\n",
              "battle_type             category\n",
              "major_death                 int8\n",
              "major_capture               int8\n",
              "attacker_size            float64\n",
              "defender_size            float64\n",
              "summer                      int8\n",
              "location                category\n",
              "region                  category\n",
              "attacker_commander_1    category\n",
              "defender_commander_1    category\n",
              "dtype: object"
            ]
          },
          "metadata": {
            "tags": []
          },
          "execution_count": 61
        }
      ]
    },
    {
      "cell_type": "code",
      "metadata": {
        "colab": {
          "base_uri": "https://localhost:8080/"
        },
        "id": "6dhEMV91QieT",
        "outputId": "cce4ea6f-2a56-46c2-9e7d-bfb0a8343dc3"
      },
      "source": [
        "battles_codes['name'] = battles_codes['name'].cat.codes\n",
        "battles_codes['year'] = battles_codes['year'].cat.codes\n",
        "battles_codes['attacker_king'] = battles_codes['attacker_king'].cat.codes\n",
        "battles_codes['defender_king'] = battles_codes['defender_king'].cat.codes\n",
        "battles_codes['attacker_1'] = battles_codes['attacker_1'].cat.codes\n",
        "battles_codes['defender_1'] = battles_codes['defender_1'].cat.codes\n",
        "battles_codes['battle_type'] = battles_codes['battle_type'].cat.codes\n",
        "battles_codes['location'] = battles_codes['location'].cat.codes\n",
        "battles_codes['region'] = battles_codes['region'].cat.codes\n",
        "battles_codes['attacker_commander_1'] = battles_codes['attacker_commander_1'].cat.codes\n",
        "battles_codes['defender_commander_1'] = battles_codes['defender_commander_1'].cat.codes\n",
        "\n",
        "battles_codes.dtypes"
      ],
      "execution_count": 62,
      "outputs": [
        {
          "output_type": "execute_result",
          "data": {
            "text/plain": [
              "name                       int8\n",
              "year                       int8\n",
              "attacker_king              int8\n",
              "defender_king              int8\n",
              "attacker_1                 int8\n",
              "defender_1                 int8\n",
              "attacker_outcome           int8\n",
              "battle_type                int8\n",
              "major_death                int8\n",
              "major_capture              int8\n",
              "attacker_size           float64\n",
              "defender_size           float64\n",
              "summer                     int8\n",
              "location                   int8\n",
              "region                     int8\n",
              "attacker_commander_1       int8\n",
              "defender_commander_1       int8\n",
              "dtype: object"
            ]
          },
          "metadata": {
            "tags": []
          },
          "execution_count": 62
        }
      ]
    },
    {
      "cell_type": "markdown",
      "metadata": {
        "id": "iHFguFnFVAWo"
      },
      "source": [
        "O outro ajuste necessário é a **normalização** desses valores, porque a documentação da função que vamos utilzar diz \"*Assumes that each feature has been centered and rescaled to have mean 0 and variance 1.*\" Esse tipo de normalização pode ser feita utilizando o `StandardScaler` do *sklearn*."
      ]
    },
    {
      "cell_type": "code",
      "metadata": {
        "id": "mBM41pljU5H9"
      },
      "source": [
        "from sklearn.preprocessing import StandardScaler\n",
        "scaler = StandardScaler()\n",
        "scaled_battles_codes = scaler.fit_transform(battles_codes)"
      ],
      "execution_count": 63,
      "outputs": []
    },
    {
      "cell_type": "markdown",
      "metadata": {
        "id": "EJiLg06ZVPEd"
      },
      "source": [
        "Agora podemos aplicar o algoritmo"
      ]
    },
    {
      "cell_type": "code",
      "metadata": {
        "colab": {
          "base_uri": "https://localhost:8080/"
        },
        "id": "xb6MwPvdMe_2",
        "outputId": "113f7ca3-d2eb-4c23-8ee2-3f1ca217cc7a"
      },
      "source": [
        "from fancyimpute import KNN\n",
        "battles_knn = KNN(k=3).fit_transform(scaled_battles_codes)"
      ],
      "execution_count": 64,
      "outputs": [
        {
          "output_type": "stream",
          "text": [
            "Imputing row 1/37 with 0 missing, elapsed time: 0.002\n"
          ],
          "name": "stdout"
        }
      ]
    },
    {
      "cell_type": "code",
      "metadata": {
        "colab": {
          "base_uri": "https://localhost:8080/",
          "height": 0
        },
        "id": "gFiBUJhzSYjf",
        "outputId": "155ef76d-f846-4818-97f0-b758bb32a952"
      },
      "source": [
        "scaled_battles_codes_non_null = pd.DataFrame(data=battles_knn[0:,0:], columns=battles.columns)\n",
        "scaled_battles_codes_non_null.head()"
      ],
      "execution_count": 65,
      "outputs": [
        {
          "output_type": "execute_result",
          "data": {
            "text/html": [
              "<div>\n",
              "<style scoped>\n",
              "    .dataframe tbody tr th:only-of-type {\n",
              "        vertical-align: middle;\n",
              "    }\n",
              "\n",
              "    .dataframe tbody tr th {\n",
              "        vertical-align: top;\n",
              "    }\n",
              "\n",
              "    .dataframe thead th {\n",
              "        text-align: right;\n",
              "    }\n",
              "</style>\n",
              "<table border=\"1\" class=\"dataframe\">\n",
              "  <thead>\n",
              "    <tr style=\"text-align: right;\">\n",
              "      <th></th>\n",
              "      <th>name</th>\n",
              "      <th>year</th>\n",
              "      <th>attacker_king</th>\n",
              "      <th>defender_king</th>\n",
              "      <th>attacker_1</th>\n",
              "      <th>defender_1</th>\n",
              "      <th>attacker_outcome</th>\n",
              "      <th>battle_type</th>\n",
              "      <th>major_death</th>\n",
              "      <th>major_capture</th>\n",
              "      <th>attacker_size</th>\n",
              "      <th>defender_size</th>\n",
              "      <th>summer</th>\n",
              "      <th>location</th>\n",
              "      <th>region</th>\n",
              "      <th>attacker_commander_1</th>\n",
              "      <th>defender_commander_1</th>\n",
              "    </tr>\n",
              "  </thead>\n",
              "  <tbody>\n",
              "    <tr>\n",
              "      <th>0</th>\n",
              "      <td>-0.429099</td>\n",
              "      <td>-1.608152</td>\n",
              "      <td>-0.420761</td>\n",
              "      <td>0.771069</td>\n",
              "      <td>0.674871</td>\n",
              "      <td>1.043781</td>\n",
              "      <td>0.439941</td>\n",
              "      <td>-0.361035</td>\n",
              "      <td>1.358732</td>\n",
              "      <td>-0.650444</td>\n",
              "      <td>0.254706</td>\n",
              "      <td>-0.400743</td>\n",
              "      <td>0.661683</td>\n",
              "      <td>-0.933977</td>\n",
              "      <td>1.820814</td>\n",
              "      <td>-0.827841</td>\n",
              "      <td>-1.249524</td>\n",
              "    </tr>\n",
              "    <tr>\n",
              "      <th>1</th>\n",
              "      <td>-1.699234</td>\n",
              "      <td>-1.608152</td>\n",
              "      <td>-0.420761</td>\n",
              "      <td>0.771069</td>\n",
              "      <td>0.674871</td>\n",
              "      <td>-1.926981</td>\n",
              "      <td>0.439941</td>\n",
              "      <td>-1.195928</td>\n",
              "      <td>1.358732</td>\n",
              "      <td>-0.650444</td>\n",
              "      <td>-0.112280</td>\n",
              "      <td>-1.041097</td>\n",
              "      <td>0.661683</td>\n",
              "      <td>-0.316885</td>\n",
              "      <td>0.431739</td>\n",
              "      <td>-1.131110</td>\n",
              "      <td>-1.596267</td>\n",
              "    </tr>\n",
              "    <tr>\n",
              "      <th>2</th>\n",
              "      <td>-1.154891</td>\n",
              "      <td>-1.608152</td>\n",
              "      <td>-0.420761</td>\n",
              "      <td>0.771069</td>\n",
              "      <td>0.674871</td>\n",
              "      <td>1.043781</td>\n",
              "      <td>0.439941</td>\n",
              "      <td>-0.361035</td>\n",
              "      <td>-0.735980</td>\n",
              "      <td>1.537412</td>\n",
              "      <td>0.254706</td>\n",
              "      <td>0.589496</td>\n",
              "      <td>0.661683</td>\n",
              "      <td>0.176788</td>\n",
              "      <td>0.431739</td>\n",
              "      <td>-0.827841</td>\n",
              "      <td>-1.018362</td>\n",
              "    </tr>\n",
              "    <tr>\n",
              "      <th>3</th>\n",
              "      <td>-0.338376</td>\n",
              "      <td>-1.608152</td>\n",
              "      <td>0.552249</td>\n",
              "      <td>-0.874866</td>\n",
              "      <td>0.943367</td>\n",
              "      <td>-0.144524</td>\n",
              "      <td>-2.273030</td>\n",
              "      <td>-0.361035</td>\n",
              "      <td>1.358732</td>\n",
              "      <td>1.537412</td>\n",
              "      <td>0.405794</td>\n",
              "      <td>2.239893</td>\n",
              "      <td>0.661683</td>\n",
              "      <td>-0.810559</td>\n",
              "      <td>0.431739</td>\n",
              "      <td>0.688501</td>\n",
              "      <td>0.946515</td>\n",
              "    </tr>\n",
              "    <tr>\n",
              "      <th>4</th>\n",
              "      <td>0.024520</td>\n",
              "      <td>-1.608152</td>\n",
              "      <td>0.552249</td>\n",
              "      <td>-0.874866</td>\n",
              "      <td>0.943367</td>\n",
              "      <td>-0.144524</td>\n",
              "      <td>0.439941</td>\n",
              "      <td>-1.195928</td>\n",
              "      <td>1.358732</td>\n",
              "      <td>1.537412</td>\n",
              "      <td>-0.406302</td>\n",
              "      <td>-0.070663</td>\n",
              "      <td>0.661683</td>\n",
              "      <td>1.410972</td>\n",
              "      <td>0.431739</td>\n",
              "      <td>0.233599</td>\n",
              "      <td>-0.787200</td>\n",
              "    </tr>\n",
              "  </tbody>\n",
              "</table>\n",
              "</div>"
            ],
            "text/plain": [
              "       name      year  ...  attacker_commander_1  defender_commander_1\n",
              "0 -0.429099 -1.608152  ...             -0.827841             -1.249524\n",
              "1 -1.699234 -1.608152  ...             -1.131110             -1.596267\n",
              "2 -1.154891 -1.608152  ...             -0.827841             -1.018362\n",
              "3 -0.338376 -1.608152  ...              0.688501              0.946515\n",
              "4  0.024520 -1.608152  ...              0.233599             -0.787200\n",
              "\n",
              "[5 rows x 17 columns]"
            ]
          },
          "metadata": {
            "tags": []
          },
          "execution_count": 65
        }
      ]
    },
    {
      "cell_type": "code",
      "metadata": {
        "id": "hqzHr35kYyd1"
      },
      "source": [
        "# desfazer normalização para recuperar os dados\n",
        "unscaled = scaler.inverse_transform(scaled_battles_codes_non_null)\n",
        "battles_codes_non_null = pd.DataFrame(data=unscaled[0:,0:], columns=battles.columns)\n",
        "\n",
        "# atualizar dataset\n",
        "battles['attacker_size'] = battles_codes_non_null['attacker_size']\n",
        "battles['defender_size'] = battles_codes_non_null['defender_size']"
      ],
      "execution_count": 66,
      "outputs": []
    },
    {
      "cell_type": "code",
      "metadata": {
        "colab": {
          "base_uri": "https://localhost:8080/",
          "height": 0
        },
        "id": "rt8_p7mnZ7tY",
        "outputId": "87d03b3e-bf89-463e-e068-0c295f523f7c"
      },
      "source": [
        "battles.loc[:, ['attacker_size', 'defender_size']].head()"
      ],
      "execution_count": 67,
      "outputs": [
        {
          "output_type": "execute_result",
          "data": {
            "text/html": [
              "<div>\n",
              "<style scoped>\n",
              "    .dataframe tbody tr th:only-of-type {\n",
              "        vertical-align: middle;\n",
              "    }\n",
              "\n",
              "    .dataframe tbody tr th {\n",
              "        vertical-align: top;\n",
              "    }\n",
              "\n",
              "    .dataframe thead th {\n",
              "        text-align: right;\n",
              "    }\n",
              "</style>\n",
              "<table border=\"1\" class=\"dataframe\">\n",
              "  <thead>\n",
              "    <tr style=\"text-align: right;\">\n",
              "      <th></th>\n",
              "      <th>attacker_size</th>\n",
              "      <th>defender_size</th>\n",
              "    </tr>\n",
              "  </thead>\n",
              "  <tbody>\n",
              "    <tr>\n",
              "      <th>0</th>\n",
              "      <td>15000.000000</td>\n",
              "      <td>4000.0</td>\n",
              "    </tr>\n",
              "    <tr>\n",
              "      <th>1</th>\n",
              "      <td>7713.110125</td>\n",
              "      <td>120.0</td>\n",
              "    </tr>\n",
              "    <tr>\n",
              "      <th>2</th>\n",
              "      <td>15000.000000</td>\n",
              "      <td>10000.0</td>\n",
              "    </tr>\n",
              "    <tr>\n",
              "      <th>3</th>\n",
              "      <td>18000.000000</td>\n",
              "      <td>20000.0</td>\n",
              "    </tr>\n",
              "    <tr>\n",
              "      <th>4</th>\n",
              "      <td>1875.000000</td>\n",
              "      <td>6000.0</td>\n",
              "    </tr>\n",
              "  </tbody>\n",
              "</table>\n",
              "</div>"
            ],
            "text/plain": [
              "   attacker_size  defender_size\n",
              "0   15000.000000         4000.0\n",
              "1    7713.110125          120.0\n",
              "2   15000.000000        10000.0\n",
              "3   18000.000000        20000.0\n",
              "4    1875.000000         6000.0"
            ]
          },
          "metadata": {
            "tags": []
          },
          "execution_count": 67
        }
      ]
    },
    {
      "cell_type": "markdown",
      "metadata": {
        "id": "zpIRYFJCaERB"
      },
      "source": [
        "Como `attacker_size` e `defender_size` se refere à quantidade de pessoas, vamos arerdondar esses valores para o inteiro mais próximo."
      ]
    },
    {
      "cell_type": "code",
      "metadata": {
        "id": "0-LNJUboaNgL"
      },
      "source": [
        "battles['attacker_size'] = round(battles['attacker_size'])\n",
        "battles['defender_size'] = round(battles['defender_size'])"
      ],
      "execution_count": 68,
      "outputs": []
    },
    {
      "cell_type": "code",
      "metadata": {
        "colab": {
          "base_uri": "https://localhost:8080/",
          "height": 0
        },
        "id": "qkZRXrmwaTf4",
        "outputId": "33e78297-ff5e-4cc7-fa7a-e6e8bb603646"
      },
      "source": [
        "battles.loc[:, ['attacker_size', 'defender_size']].head()"
      ],
      "execution_count": 69,
      "outputs": [
        {
          "output_type": "execute_result",
          "data": {
            "text/html": [
              "<div>\n",
              "<style scoped>\n",
              "    .dataframe tbody tr th:only-of-type {\n",
              "        vertical-align: middle;\n",
              "    }\n",
              "\n",
              "    .dataframe tbody tr th {\n",
              "        vertical-align: top;\n",
              "    }\n",
              "\n",
              "    .dataframe thead th {\n",
              "        text-align: right;\n",
              "    }\n",
              "</style>\n",
              "<table border=\"1\" class=\"dataframe\">\n",
              "  <thead>\n",
              "    <tr style=\"text-align: right;\">\n",
              "      <th></th>\n",
              "      <th>attacker_size</th>\n",
              "      <th>defender_size</th>\n",
              "    </tr>\n",
              "  </thead>\n",
              "  <tbody>\n",
              "    <tr>\n",
              "      <th>0</th>\n",
              "      <td>15000.0</td>\n",
              "      <td>4000.0</td>\n",
              "    </tr>\n",
              "    <tr>\n",
              "      <th>1</th>\n",
              "      <td>7713.0</td>\n",
              "      <td>120.0</td>\n",
              "    </tr>\n",
              "    <tr>\n",
              "      <th>2</th>\n",
              "      <td>15000.0</td>\n",
              "      <td>10000.0</td>\n",
              "    </tr>\n",
              "    <tr>\n",
              "      <th>3</th>\n",
              "      <td>18000.0</td>\n",
              "      <td>20000.0</td>\n",
              "    </tr>\n",
              "    <tr>\n",
              "      <th>4</th>\n",
              "      <td>1875.0</td>\n",
              "      <td>6000.0</td>\n",
              "    </tr>\n",
              "  </tbody>\n",
              "</table>\n",
              "</div>"
            ],
            "text/plain": [
              "   attacker_size  defender_size\n",
              "0        15000.0         4000.0\n",
              "1         7713.0          120.0\n",
              "2        15000.0        10000.0\n",
              "3        18000.0        20000.0\n",
              "4         1875.0         6000.0"
            ]
          },
          "metadata": {
            "tags": []
          },
          "execution_count": 69
        }
      ]
    },
    {
      "cell_type": "code",
      "metadata": {
        "colab": {
          "base_uri": "https://localhost:8080/"
        },
        "id": "Mp1lFWLGKAhj",
        "outputId": "bfa1ab22-f3be-4475-f32d-39a2ba537ac9"
      },
      "source": [
        "print('attacker_size: ', battles['attacker_size'].isnull().sum())\n",
        "print('defender_size: ', battles['defender_size'].isnull().sum())"
      ],
      "execution_count": 70,
      "outputs": [
        {
          "output_type": "stream",
          "text": [
            "attacker_size:  0\n",
            "defender_size:  0\n"
          ],
          "name": "stdout"
        }
      ]
    },
    {
      "cell_type": "markdown",
      "metadata": {
        "id": "U5AyGx6GhuIC"
      },
      "source": [
        "Agora não temos mais nenhum valor nulo no nosso *dataset*."
      ]
    },
    {
      "cell_type": "code",
      "metadata": {
        "colab": {
          "base_uri": "https://localhost:8080/"
        },
        "id": "GRiKZucJh5vM",
        "outputId": "709f03bc-729a-49e9-9753-35a193b09105"
      },
      "source": [
        "battles.isnull().sum()"
      ],
      "execution_count": 71,
      "outputs": [
        {
          "output_type": "execute_result",
          "data": {
            "text/plain": [
              "name                    0\n",
              "year                    0\n",
              "attacker_king           0\n",
              "defender_king           0\n",
              "attacker_1              0\n",
              "defender_1              0\n",
              "attacker_outcome        0\n",
              "battle_type             0\n",
              "major_death             0\n",
              "major_capture           0\n",
              "attacker_size           0\n",
              "defender_size           0\n",
              "summer                  0\n",
              "location                0\n",
              "region                  0\n",
              "attacker_commander_1    0\n",
              "defender_commander_1    0\n",
              "dtype: int64"
            ]
          },
          "metadata": {
            "tags": []
          },
          "execution_count": 71
        }
      ]
    },
    {
      "cell_type": "markdown",
      "metadata": {
        "id": "RwbdmPS9iMSW"
      },
      "source": [
        "## Discretização"
      ]
    },
    {
      "cell_type": "markdown",
      "metadata": {
        "id": "VktBHgilzYvP"
      },
      "source": [
        "Vamos criar uma nova coluna que relaciona `attacker_size` e `defender_size `, para classificar as batalhas em relação à diferença de tamanho de ambas as partes."
      ]
    },
    {
      "cell_type": "code",
      "metadata": {
        "colab": {
          "base_uri": "https://localhost:8080/",
          "height": 0
        },
        "id": "Eh7Gc6Awz4Nz",
        "outputId": "2cc57a2a-173b-4a67-8850-d5ac4c7f611f"
      },
      "source": [
        "battles['size_difference'] = battles['attacker_size'] - battles['defender_size']\n",
        "battles.head()"
      ],
      "execution_count": 72,
      "outputs": [
        {
          "output_type": "execute_result",
          "data": {
            "text/html": [
              "<div>\n",
              "<style scoped>\n",
              "    .dataframe tbody tr th:only-of-type {\n",
              "        vertical-align: middle;\n",
              "    }\n",
              "\n",
              "    .dataframe tbody tr th {\n",
              "        vertical-align: top;\n",
              "    }\n",
              "\n",
              "    .dataframe thead th {\n",
              "        text-align: right;\n",
              "    }\n",
              "</style>\n",
              "<table border=\"1\" class=\"dataframe\">\n",
              "  <thead>\n",
              "    <tr style=\"text-align: right;\">\n",
              "      <th></th>\n",
              "      <th>name</th>\n",
              "      <th>year</th>\n",
              "      <th>attacker_king</th>\n",
              "      <th>defender_king</th>\n",
              "      <th>attacker_1</th>\n",
              "      <th>defender_1</th>\n",
              "      <th>attacker_outcome</th>\n",
              "      <th>battle_type</th>\n",
              "      <th>major_death</th>\n",
              "      <th>major_capture</th>\n",
              "      <th>attacker_size</th>\n",
              "      <th>defender_size</th>\n",
              "      <th>summer</th>\n",
              "      <th>location</th>\n",
              "      <th>region</th>\n",
              "      <th>attacker_commander_1</th>\n",
              "      <th>defender_commander_1</th>\n",
              "      <th>size_difference</th>\n",
              "    </tr>\n",
              "  </thead>\n",
              "  <tbody>\n",
              "    <tr>\n",
              "      <th>0</th>\n",
              "      <td>Battle of the Golden Tooth</td>\n",
              "      <td>298</td>\n",
              "      <td>Joffrey/Tommen Baratheon</td>\n",
              "      <td>Robb Stark</td>\n",
              "      <td>Lannister</td>\n",
              "      <td>Tully</td>\n",
              "      <td>1</td>\n",
              "      <td>pitched battle</td>\n",
              "      <td>1</td>\n",
              "      <td>0</td>\n",
              "      <td>15000.0</td>\n",
              "      <td>4000.0</td>\n",
              "      <td>1</td>\n",
              "      <td>Golden Tooth</td>\n",
              "      <td>The Westerlands</td>\n",
              "      <td>Jaime Lannister</td>\n",
              "      <td>Clement Piper</td>\n",
              "      <td>11000.0</td>\n",
              "    </tr>\n",
              "    <tr>\n",
              "      <th>1</th>\n",
              "      <td>Battle at the Mummer's Ford</td>\n",
              "      <td>298</td>\n",
              "      <td>Joffrey/Tommen Baratheon</td>\n",
              "      <td>Robb Stark</td>\n",
              "      <td>Lannister</td>\n",
              "      <td>Baratheon</td>\n",
              "      <td>1</td>\n",
              "      <td>ambush</td>\n",
              "      <td>1</td>\n",
              "      <td>0</td>\n",
              "      <td>7713.0</td>\n",
              "      <td>120.0</td>\n",
              "      <td>1</td>\n",
              "      <td>Mummer's Ford</td>\n",
              "      <td>The Riverlands</td>\n",
              "      <td>Gregor Clegane</td>\n",
              "      <td>Beric Dondarrion</td>\n",
              "      <td>7593.0</td>\n",
              "    </tr>\n",
              "    <tr>\n",
              "      <th>2</th>\n",
              "      <td>Battle of Riverrun</td>\n",
              "      <td>298</td>\n",
              "      <td>Joffrey/Tommen Baratheon</td>\n",
              "      <td>Robb Stark</td>\n",
              "      <td>Lannister</td>\n",
              "      <td>Tully</td>\n",
              "      <td>1</td>\n",
              "      <td>pitched battle</td>\n",
              "      <td>0</td>\n",
              "      <td>1</td>\n",
              "      <td>15000.0</td>\n",
              "      <td>10000.0</td>\n",
              "      <td>1</td>\n",
              "      <td>Riverrun</td>\n",
              "      <td>The Riverlands</td>\n",
              "      <td>Jaime Lannister</td>\n",
              "      <td>Edmure Tully</td>\n",
              "      <td>5000.0</td>\n",
              "    </tr>\n",
              "    <tr>\n",
              "      <th>3</th>\n",
              "      <td>Battle of the Green Fork</td>\n",
              "      <td>298</td>\n",
              "      <td>Robb Stark</td>\n",
              "      <td>Joffrey/Tommen Baratheon</td>\n",
              "      <td>Stark</td>\n",
              "      <td>Lannister</td>\n",
              "      <td>0</td>\n",
              "      <td>pitched battle</td>\n",
              "      <td>1</td>\n",
              "      <td>1</td>\n",
              "      <td>18000.0</td>\n",
              "      <td>20000.0</td>\n",
              "      <td>1</td>\n",
              "      <td>Green Fork</td>\n",
              "      <td>The Riverlands</td>\n",
              "      <td>Roose Bolton</td>\n",
              "      <td>Tywin Lannister</td>\n",
              "      <td>-2000.0</td>\n",
              "    </tr>\n",
              "    <tr>\n",
              "      <th>4</th>\n",
              "      <td>Battle of the Whispering Wood</td>\n",
              "      <td>298</td>\n",
              "      <td>Robb Stark</td>\n",
              "      <td>Joffrey/Tommen Baratheon</td>\n",
              "      <td>Stark</td>\n",
              "      <td>Lannister</td>\n",
              "      <td>1</td>\n",
              "      <td>ambush</td>\n",
              "      <td>1</td>\n",
              "      <td>1</td>\n",
              "      <td>1875.0</td>\n",
              "      <td>6000.0</td>\n",
              "      <td>1</td>\n",
              "      <td>Whispering Wood</td>\n",
              "      <td>The Riverlands</td>\n",
              "      <td>Robb Stark</td>\n",
              "      <td>Jaime Lannister</td>\n",
              "      <td>-4125.0</td>\n",
              "    </tr>\n",
              "  </tbody>\n",
              "</table>\n",
              "</div>"
            ],
            "text/plain": [
              "                            name year  ... defender_commander_1 size_difference\n",
              "0     Battle of the Golden Tooth  298  ...        Clement Piper         11000.0\n",
              "1    Battle at the Mummer's Ford  298  ...     Beric Dondarrion          7593.0\n",
              "2             Battle of Riverrun  298  ...         Edmure Tully          5000.0\n",
              "3       Battle of the Green Fork  298  ...      Tywin Lannister         -2000.0\n",
              "4  Battle of the Whispering Wood  298  ...      Jaime Lannister         -4125.0\n",
              "\n",
              "[5 rows x 18 columns]"
            ]
          },
          "metadata": {
            "tags": []
          },
          "execution_count": 72
        }
      ]
    },
    {
      "cell_type": "markdown",
      "metadata": {
        "id": "2VWQwllJ1xP-"
      },
      "source": [
        "Testando algumas formas de discretizar essa coluna, observamos que se dividirmos os valores em 6 intervalos de frequências similares conseguimos ter intervalos apenas com valores negativos ou 0 e outros apenas com valores positivos."
      ]
    },
    {
      "cell_type": "code",
      "metadata": {
        "colab": {
          "base_uri": "https://localhost:8080/"
        },
        "id": "5umzOegA2Sar",
        "outputId": "8305c24b-3764-4260-ac93-000f8e8a90e9"
      },
      "source": [
        "battles['size_difference_disc'] = pd.qcut(battles['size_difference'], 4)\n",
        "battles['size_difference_disc'].value_counts()"
      ],
      "execution_count": 73,
      "outputs": [
        {
          "output_type": "execute_result",
          "data": {
            "text/plain": [
              "(-15000.001, -4125.0]    10\n",
              "(1141.0, 98760.0]         9\n",
              "(-1382.0, 1141.0]         9\n",
              "(-4125.0, -1382.0]        9\n",
              "Name: size_difference_disc, dtype: int64"
            ]
          },
          "metadata": {
            "tags": []
          },
          "execution_count": 73
        }
      ]
    },
    {
      "cell_type": "code",
      "metadata": {
        "colab": {
          "base_uri": "https://localhost:8080/"
        },
        "id": "J27xwNIx2UEu",
        "outputId": "e79bd2e8-a979-4bb1-e734-2e568f8a997c"
      },
      "source": [
        "battles['size_difference_disc'] = pd.qcut(battles['size_difference'], 5)\n",
        "battles['size_difference_disc'].value_counts()"
      ],
      "execution_count": 74,
      "outputs": [
        {
          "output_type": "execute_result",
          "data": {
            "text/plain": [
              "(3623.6, 98760.0]        8\n",
              "(-15000.001, -5011.0]    8\n",
              "(-484.6, 3623.6]         7\n",
              "(-2126.0, -484.6]        7\n",
              "(-5011.0, -2126.0]       7\n",
              "Name: size_difference_disc, dtype: int64"
            ]
          },
          "metadata": {
            "tags": []
          },
          "execution_count": 74
        }
      ]
    },
    {
      "cell_type": "code",
      "metadata": {
        "colab": {
          "base_uri": "https://localhost:8080/"
        },
        "id": "QpTSRzQ50Y0z",
        "outputId": "21e15f86-9b86-4f3f-dd74-c8c8295ef8db"
      },
      "source": [
        "battles['size_difference_disc'] = pd.qcut(battles['size_difference'], 6)\n",
        "battles['size_difference_disc'].value_counts()"
      ],
      "execution_count": 75,
      "outputs": [
        {
          "output_type": "execute_result",
          "data": {
            "text/plain": [
              "(4300.0, 98760.0]        7\n",
              "(-1382.0, 0.0]           7\n",
              "(-15000.001, -5288.0]    7\n",
              "(-2586.0, -1382.0]       6\n",
              "(-5288.0, -2586.0]       6\n",
              "(0.0, 4300.0]            4\n",
              "Name: size_difference_disc, dtype: int64"
            ]
          },
          "metadata": {
            "tags": []
          },
          "execution_count": 75
        }
      ]
    },
    {
      "cell_type": "code",
      "metadata": {
        "colab": {
          "base_uri": "https://localhost:8080/",
          "height": 0
        },
        "id": "furf3EaC0qeS",
        "outputId": "d1733d69-e5f4-41aa-f6c5-ff3b8a6b05e8"
      },
      "source": [
        "battles.head()"
      ],
      "execution_count": 76,
      "outputs": [
        {
          "output_type": "execute_result",
          "data": {
            "text/html": [
              "<div>\n",
              "<style scoped>\n",
              "    .dataframe tbody tr th:only-of-type {\n",
              "        vertical-align: middle;\n",
              "    }\n",
              "\n",
              "    .dataframe tbody tr th {\n",
              "        vertical-align: top;\n",
              "    }\n",
              "\n",
              "    .dataframe thead th {\n",
              "        text-align: right;\n",
              "    }\n",
              "</style>\n",
              "<table border=\"1\" class=\"dataframe\">\n",
              "  <thead>\n",
              "    <tr style=\"text-align: right;\">\n",
              "      <th></th>\n",
              "      <th>name</th>\n",
              "      <th>year</th>\n",
              "      <th>attacker_king</th>\n",
              "      <th>defender_king</th>\n",
              "      <th>attacker_1</th>\n",
              "      <th>defender_1</th>\n",
              "      <th>attacker_outcome</th>\n",
              "      <th>battle_type</th>\n",
              "      <th>major_death</th>\n",
              "      <th>major_capture</th>\n",
              "      <th>attacker_size</th>\n",
              "      <th>defender_size</th>\n",
              "      <th>summer</th>\n",
              "      <th>location</th>\n",
              "      <th>region</th>\n",
              "      <th>attacker_commander_1</th>\n",
              "      <th>defender_commander_1</th>\n",
              "      <th>size_difference</th>\n",
              "      <th>size_difference_disc</th>\n",
              "    </tr>\n",
              "  </thead>\n",
              "  <tbody>\n",
              "    <tr>\n",
              "      <th>0</th>\n",
              "      <td>Battle of the Golden Tooth</td>\n",
              "      <td>298</td>\n",
              "      <td>Joffrey/Tommen Baratheon</td>\n",
              "      <td>Robb Stark</td>\n",
              "      <td>Lannister</td>\n",
              "      <td>Tully</td>\n",
              "      <td>1</td>\n",
              "      <td>pitched battle</td>\n",
              "      <td>1</td>\n",
              "      <td>0</td>\n",
              "      <td>15000.0</td>\n",
              "      <td>4000.0</td>\n",
              "      <td>1</td>\n",
              "      <td>Golden Tooth</td>\n",
              "      <td>The Westerlands</td>\n",
              "      <td>Jaime Lannister</td>\n",
              "      <td>Clement Piper</td>\n",
              "      <td>11000.0</td>\n",
              "      <td>(4300.0, 98760.0]</td>\n",
              "    </tr>\n",
              "    <tr>\n",
              "      <th>1</th>\n",
              "      <td>Battle at the Mummer's Ford</td>\n",
              "      <td>298</td>\n",
              "      <td>Joffrey/Tommen Baratheon</td>\n",
              "      <td>Robb Stark</td>\n",
              "      <td>Lannister</td>\n",
              "      <td>Baratheon</td>\n",
              "      <td>1</td>\n",
              "      <td>ambush</td>\n",
              "      <td>1</td>\n",
              "      <td>0</td>\n",
              "      <td>7713.0</td>\n",
              "      <td>120.0</td>\n",
              "      <td>1</td>\n",
              "      <td>Mummer's Ford</td>\n",
              "      <td>The Riverlands</td>\n",
              "      <td>Gregor Clegane</td>\n",
              "      <td>Beric Dondarrion</td>\n",
              "      <td>7593.0</td>\n",
              "      <td>(4300.0, 98760.0]</td>\n",
              "    </tr>\n",
              "    <tr>\n",
              "      <th>2</th>\n",
              "      <td>Battle of Riverrun</td>\n",
              "      <td>298</td>\n",
              "      <td>Joffrey/Tommen Baratheon</td>\n",
              "      <td>Robb Stark</td>\n",
              "      <td>Lannister</td>\n",
              "      <td>Tully</td>\n",
              "      <td>1</td>\n",
              "      <td>pitched battle</td>\n",
              "      <td>0</td>\n",
              "      <td>1</td>\n",
              "      <td>15000.0</td>\n",
              "      <td>10000.0</td>\n",
              "      <td>1</td>\n",
              "      <td>Riverrun</td>\n",
              "      <td>The Riverlands</td>\n",
              "      <td>Jaime Lannister</td>\n",
              "      <td>Edmure Tully</td>\n",
              "      <td>5000.0</td>\n",
              "      <td>(4300.0, 98760.0]</td>\n",
              "    </tr>\n",
              "    <tr>\n",
              "      <th>3</th>\n",
              "      <td>Battle of the Green Fork</td>\n",
              "      <td>298</td>\n",
              "      <td>Robb Stark</td>\n",
              "      <td>Joffrey/Tommen Baratheon</td>\n",
              "      <td>Stark</td>\n",
              "      <td>Lannister</td>\n",
              "      <td>0</td>\n",
              "      <td>pitched battle</td>\n",
              "      <td>1</td>\n",
              "      <td>1</td>\n",
              "      <td>18000.0</td>\n",
              "      <td>20000.0</td>\n",
              "      <td>1</td>\n",
              "      <td>Green Fork</td>\n",
              "      <td>The Riverlands</td>\n",
              "      <td>Roose Bolton</td>\n",
              "      <td>Tywin Lannister</td>\n",
              "      <td>-2000.0</td>\n",
              "      <td>(-2586.0, -1382.0]</td>\n",
              "    </tr>\n",
              "    <tr>\n",
              "      <th>4</th>\n",
              "      <td>Battle of the Whispering Wood</td>\n",
              "      <td>298</td>\n",
              "      <td>Robb Stark</td>\n",
              "      <td>Joffrey/Tommen Baratheon</td>\n",
              "      <td>Stark</td>\n",
              "      <td>Lannister</td>\n",
              "      <td>1</td>\n",
              "      <td>ambush</td>\n",
              "      <td>1</td>\n",
              "      <td>1</td>\n",
              "      <td>1875.0</td>\n",
              "      <td>6000.0</td>\n",
              "      <td>1</td>\n",
              "      <td>Whispering Wood</td>\n",
              "      <td>The Riverlands</td>\n",
              "      <td>Robb Stark</td>\n",
              "      <td>Jaime Lannister</td>\n",
              "      <td>-4125.0</td>\n",
              "      <td>(-5288.0, -2586.0]</td>\n",
              "    </tr>\n",
              "  </tbody>\n",
              "</table>\n",
              "</div>"
            ],
            "text/plain": [
              "                            name year  ... size_difference size_difference_disc\n",
              "0     Battle of the Golden Tooth  298  ...         11000.0    (4300.0, 98760.0]\n",
              "1    Battle at the Mummer's Ford  298  ...          7593.0    (4300.0, 98760.0]\n",
              "2             Battle of Riverrun  298  ...          5000.0    (4300.0, 98760.0]\n",
              "3       Battle of the Green Fork  298  ...         -2000.0   (-2586.0, -1382.0]\n",
              "4  Battle of the Whispering Wood  298  ...         -4125.0   (-5288.0, -2586.0]\n",
              "\n",
              "[5 rows x 19 columns]"
            ]
          },
          "metadata": {
            "tags": []
          },
          "execution_count": 76
        }
      ]
    },
    {
      "cell_type": "code",
      "metadata": {
        "colab": {
          "base_uri": "https://localhost:8080/"
        },
        "id": "bgerVkaj2t1c",
        "outputId": "533450c9-35d2-459b-de25-2a6373eae303"
      },
      "source": [
        "battles['size_difference_disc'].cat.categories.to_list()"
      ],
      "execution_count": 77,
      "outputs": [
        {
          "output_type": "execute_result",
          "data": {
            "text/plain": [
              "[Interval(-15000.001, -5288.0, closed='right'),\n",
              " Interval(-5288.0, -2586.0, closed='right'),\n",
              " Interval(-2586.0, -1382.0, closed='right'),\n",
              " Interval(-1382.0, 0.0, closed='right'),\n",
              " Interval(0.0, 4300.0, closed='right'),\n",
              " Interval(4300.0, 98760.0, closed='right')]"
            ]
          },
          "metadata": {
            "tags": []
          },
          "execution_count": 77
        }
      ]
    },
    {
      "cell_type": "code",
      "metadata": {
        "id": "At4jhZ6g4kIU"
      },
      "source": [
        "# Renomeando as categorias e classificando a diferença em graus de vantagem ou desvantagem do atacante em relação ao defensor\n",
        "battles['size_difference_disc'].cat.rename_categories(['disavantage_4', 'disavantage_3', 'disavantage_2', 'disavantage_1', 'advantage_1', 'advantage_2'], inplace=True)"
      ],
      "execution_count": 78,
      "outputs": []
    },
    {
      "cell_type": "markdown",
      "metadata": {
        "id": "Ewl2FAxnmpkx"
      },
      "source": [
        "## Limpeza dos dados"
      ]
    },
    {
      "cell_type": "markdown",
      "metadata": {
        "id": "599_faHX_nhk"
      },
      "source": [
        "Como já vimos no início do processamento que a coluna `name` possui apenas valores únicos, sabemos que não temos dados repetidos."
      ]
    },
    {
      "cell_type": "markdown",
      "metadata": {
        "id": "nMBv0UzA8cuY"
      },
      "source": [
        "Para a detecção de *outliers* vamos utilizar a nova coluna `size_difference`, que relaciona `attacker_size` e `defender_size`."
      ]
    },
    {
      "cell_type": "code",
      "metadata": {
        "colab": {
          "base_uri": "https://localhost:8080/"
        },
        "id": "u9CMT09Y73Ri",
        "outputId": "f5b73da8-c057-4e80-fe05-c5ee43449c90"
      },
      "source": [
        "battles['size_difference'].describe()"
      ],
      "execution_count": 79,
      "outputs": [
        {
          "output_type": "execute_result",
          "data": {
            "text/plain": [
              "count       37.000000\n",
              "mean      1730.378378\n",
              "std      17331.960704\n",
              "min     -15000.000000\n",
              "25%      -4125.000000\n",
              "50%      -1382.000000\n",
              "75%       1141.000000\n",
              "max      98760.000000\n",
              "Name: size_difference, dtype: float64"
            ]
          },
          "metadata": {
            "tags": []
          },
          "execution_count": 79
        }
      ]
    },
    {
      "cell_type": "markdown",
      "metadata": {
        "id": "1YoywhBp82vv"
      },
      "source": [
        "Podemos ver que a maioria dos valores é negativa mas tem um valor máximo de 98.760."
      ]
    },
    {
      "cell_type": "code",
      "metadata": {
        "colab": {
          "base_uri": "https://localhost:8080/",
          "height": 282
        },
        "id": "iK7Z3Ax78_SU",
        "outputId": "e9330822-5ee2-4c08-f69e-217999005719"
      },
      "source": [
        "battles['size_difference'].plot.box()"
      ],
      "execution_count": 80,
      "outputs": [
        {
          "output_type": "execute_result",
          "data": {
            "text/plain": [
              "<matplotlib.axes._subplots.AxesSubplot at 0x7f3bc4938350>"
            ]
          },
          "metadata": {
            "tags": []
          },
          "execution_count": 80
        },
        {
          "output_type": "display_data",
          "data": {
            "image/png": "[encoded data removed]",
            "text/plain": [
              "<Figure size 432x288 with 1 Axes>"
            ]
          },
          "metadata": {
            "tags": [],
            "needs_background": "light"
          }
        }
      ]
    },
    {
      "cell_type": "code",
      "metadata": {
        "colab": {
          "base_uri": "https://localhost:8080/",
          "height": 281
        },
        "id": "yOFQbRl69K-A",
        "outputId": "1fb880bb-1ffc-40f6-dac8-19bb8f280e67"
      },
      "source": [
        "battles['size_difference'].hist()"
      ],
      "execution_count": 81,
      "outputs": [
        {
          "output_type": "execute_result",
          "data": {
            "text/plain": [
              "<matplotlib.axes._subplots.AxesSubplot at 0x7f3bc48db650>"
            ]
          },
          "metadata": {
            "tags": []
          },
          "execution_count": 81
        },
        {
          "output_type": "display_data",
          "data": {
            "image/png": "[encoded data removed]",
            "text/plain": [
              "<Figure size 432x288 with 1 Axes>"
            ]
          },
          "metadata": {
            "tags": [],
            "needs_background": "light"
          }
        }
      ]
    },
    {
      "cell_type": "markdown",
      "metadata": {
        "id": "gCdxVFVu-ldX"
      },
      "source": [
        "Claramente o valor máximo distoa muito dos outros valores da coluna, então vamos remover sua linha."
      ]
    },
    {
      "cell_type": "code",
      "metadata": {
        "colab": {
          "base_uri": "https://localhost:8080/"
        },
        "id": "9T5Fvt5C-uyY",
        "outputId": "f808a37a-de3f-451b-d63b-d0c2db87fa8a"
      },
      "source": [
        "battles = battles[battles['size_difference'] < 40000]\n",
        "\n",
        "# resetar o index após remover dados\n",
        "battles.reset_index(drop=True, inplace=True)\n",
        "\n",
        "battles.shape"
      ],
      "execution_count": 82,
      "outputs": [
        {
          "output_type": "execute_result",
          "data": {
            "text/plain": [
              "(36, 19)"
            ]
          },
          "metadata": {
            "tags": []
          },
          "execution_count": 82
        }
      ]
    },
    {
      "cell_type": "code",
      "metadata": {
        "colab": {
          "base_uri": "https://localhost:8080/",
          "height": 281
        },
        "id": "_mnvtNdm_dlB",
        "outputId": "23580b98-4167-4750-d2fb-2a80cf120933"
      },
      "source": [
        "battles['size_difference'].hist()"
      ],
      "execution_count": 83,
      "outputs": [
        {
          "output_type": "execute_result",
          "data": {
            "text/plain": [
              "<matplotlib.axes._subplots.AxesSubplot at 0x7f3bc4367050>"
            ]
          },
          "metadata": {
            "tags": []
          },
          "execution_count": 83
        },
        {
          "output_type": "display_data",
          "data": {
            "image/png": "[encoded data removed]",
            "text/plain": [
              "<Figure size 432x288 with 1 Axes>"
            ]
          },
          "metadata": {
            "tags": [],
            "needs_background": "light"
          }
        }
      ]
    }
  ]
}