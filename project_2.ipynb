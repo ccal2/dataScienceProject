{
  "nbformat": 4,
  "nbformat_minor": 0,
  "metadata": {
    "colab": {
      "name": "project_2.ipynb",
      "provenance": [],
      "collapsed_sections": [],
      "toc_visible": true,
      "authorship_tag": "ABX9TyNypZpHxg6AgqCki3X5f+f9",
      "include_colab_link": true
    },
    "kernelspec": {
      "name": "python3",
      "display_name": "Python 3"
    },
    "language_info": {
      "name": "python"
    }
  },
  "cells": [
    {
      "cell_type": "markdown",
      "metadata": {
        "id": "view-in-github",
        "colab_type": "text"
      },
      "source": [
        "<a href=\"https://colab.research.google.com/github/ccal2/dataScienceProject/blob/master/project_2.ipynb\" target=\"_parent\"><img src=\"https://colab.research.google.com/assets/colab-badge.svg\" alt=\"Open In Colab\"/></a>"
      ]
    },
    {
      "cell_type": "markdown",
      "metadata": {
        "id": "z-l_PYJf0pCJ"
      },
      "source": [
        "# Introdução"
      ]
    },
    {
      "cell_type": "markdown",
      "metadata": {
        "id": "_X3214fz0t9-"
      },
      "source": [
        "Esse projeto foi desenvolvido utilizando um *dataset* que contém dados relacionados à série de livros *A Song of Ice and Fire* (As Crônicas de Gelo e Fogo), mais conhecida pelo título do seu primeiro livro: *A Game of Thrones* (A Guerra dos Tronos).\n",
        "\n",
        "O arquivo `battles_2.csv` foi exportado do arquivo `project.ipynb` e possui informações de várias batalhas que ocorrem durante a história.\n",
        "\n",
        "Nesse projeto iremos utilizar algoritmos de *Machine Learning* para criar um classificador de batalhas em relação ao `attacker_outcome`. Essa coluna possui um valor booleano indicando se o atacante venceu ou não a batalha."
      ]
    },
    {
      "cell_type": "markdown",
      "metadata": {
        "id": "uJ7pfnxmOPNm"
      },
      "source": [
        "# Setup"
      ]
    },
    {
      "cell_type": "markdown",
      "metadata": {
        "id": "P3Y2UPxRgynO"
      },
      "source": [
        "**Lembre-se de dar upload do arquivo `battles_2.csv`.**"
      ]
    },
    {
      "cell_type": "code",
      "metadata": {
        "id": "vdeB_I3iIBIi",
        "colab": {
          "base_uri": "https://localhost:8080/"
        },
        "outputId": "56299dc9-08e8-44a8-9f29-5a90fd59db3e"
      },
      "source": [
        "!pip install optuna --quiet\n",
        "!pip install mlflow --quiet\n",
        "!pip install pyngrok --quiet"
      ],
      "execution_count": 1,
      "outputs": [
        {
          "output_type": "stream",
          "text": [
            "\u001b[K     |████████████████████████████████| 302 kB 7.1 MB/s \n",
            "\u001b[K     |████████████████████████████████| 80 kB 11.5 MB/s \n",
            "\u001b[K     |████████████████████████████████| 164 kB 61.4 MB/s \n",
            "\u001b[K     |████████████████████████████████| 75 kB 6.1 MB/s \n",
            "\u001b[K     |████████████████████████████████| 49 kB 8.4 MB/s \n",
            "\u001b[K     |████████████████████████████████| 111 kB 64.6 MB/s \n",
            "\u001b[K     |████████████████████████████████| 141 kB 63.0 MB/s \n",
            "\u001b[?25h  Building wheel for pyperclip (setup.py) ... \u001b[?25l\u001b[?25hdone\n",
            "\u001b[K     |████████████████████████████████| 14.4 MB 65 kB/s \n",
            "\u001b[K     |████████████████████████████████| 56 kB 6.3 MB/s \n",
            "\u001b[K     |████████████████████████████████| 146 kB 67.7 MB/s \n",
            "\u001b[K     |████████████████████████████████| 170 kB 73.4 MB/s \n",
            "\u001b[K     |████████████████████████████████| 1.1 MB 64.7 MB/s \n",
            "\u001b[K     |████████████████████████████████| 636 kB 57.2 MB/s \n",
            "\u001b[K     |████████████████████████████████| 79 kB 10.9 MB/s \n",
            "\u001b[K     |████████████████████████████████| 52 kB 2.0 MB/s \n",
            "\u001b[K     |████████████████████████████████| 63 kB 2.7 MB/s \n",
            "\u001b[?25h  Building wheel for alembic (setup.py) ... \u001b[?25l\u001b[?25hdone\n",
            "  Building wheel for databricks-cli (setup.py) ... \u001b[?25l\u001b[?25hdone\n",
            "  Building wheel for prometheus-flask-exporter (setup.py) ... \u001b[?25l\u001b[?25hdone\n",
            "\u001b[K     |████████████████████████████████| 746 kB 7.4 MB/s \n",
            "\u001b[?25h  Building wheel for pyngrok (setup.py) ... \u001b[?25l\u001b[?25hdone\n"
          ],
          "name": "stdout"
        }
      ]
    },
    {
      "cell_type": "code",
      "metadata": {
        "id": "rDlfxjPi_Rh0"
      },
      "source": [
        "import pandas as pd\n",
        "import numpy as np"
      ],
      "execution_count": 2,
      "outputs": []
    },
    {
      "cell_type": "code",
      "metadata": {
        "id": "ktdnzvzFxjSA",
        "colab": {
          "base_uri": "https://localhost:8080/",
          "height": 390
        },
        "outputId": "9e7bfef7-886b-4113-9b67-bd39b36c62e7"
      },
      "source": [
        "battles = pd.read_csv('battles_2.csv')\n",
        "battles.head()"
      ],
      "execution_count": 3,
      "outputs": [
        {
          "output_type": "execute_result",
          "data": {
            "text/html": [
              "<div>\n",
              "<style scoped>\n",
              "    .dataframe tbody tr th:only-of-type {\n",
              "        vertical-align: middle;\n",
              "    }\n",
              "\n",
              "    .dataframe tbody tr th {\n",
              "        vertical-align: top;\n",
              "    }\n",
              "\n",
              "    .dataframe thead th {\n",
              "        text-align: right;\n",
              "    }\n",
              "</style>\n",
              "<table border=\"1\" class=\"dataframe\">\n",
              "  <thead>\n",
              "    <tr style=\"text-align: right;\">\n",
              "      <th></th>\n",
              "      <th>name</th>\n",
              "      <th>year</th>\n",
              "      <th>attacker_king</th>\n",
              "      <th>defender_king</th>\n",
              "      <th>attacker_1</th>\n",
              "      <th>defender_1</th>\n",
              "      <th>attacker_outcome</th>\n",
              "      <th>battle_type</th>\n",
              "      <th>major_death</th>\n",
              "      <th>major_capture</th>\n",
              "      <th>attacker_size</th>\n",
              "      <th>defender_size</th>\n",
              "      <th>summer</th>\n",
              "      <th>location</th>\n",
              "      <th>region</th>\n",
              "      <th>attacker_commander_1</th>\n",
              "      <th>defender_commander_1</th>\n",
              "      <th>size_difference</th>\n",
              "      <th>size_difference_disc</th>\n",
              "      <th>total_size</th>\n",
              "    </tr>\n",
              "  </thead>\n",
              "  <tbody>\n",
              "    <tr>\n",
              "      <th>0</th>\n",
              "      <td>Battle of the Golden Tooth</td>\n",
              "      <td>298</td>\n",
              "      <td>Joffrey/Tommen Baratheon</td>\n",
              "      <td>Robb Stark</td>\n",
              "      <td>Lannister</td>\n",
              "      <td>Tully</td>\n",
              "      <td>1</td>\n",
              "      <td>pitched battle</td>\n",
              "      <td>1</td>\n",
              "      <td>0</td>\n",
              "      <td>15000.0</td>\n",
              "      <td>4000.0</td>\n",
              "      <td>1</td>\n",
              "      <td>Golden Tooth</td>\n",
              "      <td>The Westerlands</td>\n",
              "      <td>Jaime Lannister</td>\n",
              "      <td>Clement Piper</td>\n",
              "      <td>11000.0</td>\n",
              "      <td>advantage_2</td>\n",
              "      <td>19000.0</td>\n",
              "    </tr>\n",
              "    <tr>\n",
              "      <th>1</th>\n",
              "      <td>Battle at the Mummer's Ford</td>\n",
              "      <td>298</td>\n",
              "      <td>Joffrey/Tommen Baratheon</td>\n",
              "      <td>Robb Stark</td>\n",
              "      <td>Lannister</td>\n",
              "      <td>Baratheon</td>\n",
              "      <td>1</td>\n",
              "      <td>ambush</td>\n",
              "      <td>1</td>\n",
              "      <td>0</td>\n",
              "      <td>7713.0</td>\n",
              "      <td>120.0</td>\n",
              "      <td>1</td>\n",
              "      <td>Mummer's Ford</td>\n",
              "      <td>The Riverlands</td>\n",
              "      <td>Gregor Clegane</td>\n",
              "      <td>Beric Dondarrion</td>\n",
              "      <td>7593.0</td>\n",
              "      <td>advantage_2</td>\n",
              "      <td>7833.0</td>\n",
              "    </tr>\n",
              "    <tr>\n",
              "      <th>2</th>\n",
              "      <td>Battle of Riverrun</td>\n",
              "      <td>298</td>\n",
              "      <td>Joffrey/Tommen Baratheon</td>\n",
              "      <td>Robb Stark</td>\n",
              "      <td>Lannister</td>\n",
              "      <td>Tully</td>\n",
              "      <td>1</td>\n",
              "      <td>pitched battle</td>\n",
              "      <td>0</td>\n",
              "      <td>1</td>\n",
              "      <td>15000.0</td>\n",
              "      <td>10000.0</td>\n",
              "      <td>1</td>\n",
              "      <td>Riverrun</td>\n",
              "      <td>The Riverlands</td>\n",
              "      <td>Jaime Lannister</td>\n",
              "      <td>Edmure Tully</td>\n",
              "      <td>5000.0</td>\n",
              "      <td>advantage_2</td>\n",
              "      <td>25000.0</td>\n",
              "    </tr>\n",
              "    <tr>\n",
              "      <th>3</th>\n",
              "      <td>Battle of the Green Fork</td>\n",
              "      <td>298</td>\n",
              "      <td>Robb Stark</td>\n",
              "      <td>Joffrey/Tommen Baratheon</td>\n",
              "      <td>Stark</td>\n",
              "      <td>Lannister</td>\n",
              "      <td>0</td>\n",
              "      <td>pitched battle</td>\n",
              "      <td>1</td>\n",
              "      <td>1</td>\n",
              "      <td>18000.0</td>\n",
              "      <td>20000.0</td>\n",
              "      <td>1</td>\n",
              "      <td>Green Fork</td>\n",
              "      <td>The Riverlands</td>\n",
              "      <td>Roose Bolton</td>\n",
              "      <td>Tywin Lannister</td>\n",
              "      <td>-2000.0</td>\n",
              "      <td>disavantage_2</td>\n",
              "      <td>38000.0</td>\n",
              "    </tr>\n",
              "    <tr>\n",
              "      <th>4</th>\n",
              "      <td>Battle of the Whispering Wood</td>\n",
              "      <td>298</td>\n",
              "      <td>Robb Stark</td>\n",
              "      <td>Joffrey/Tommen Baratheon</td>\n",
              "      <td>Stark</td>\n",
              "      <td>Lannister</td>\n",
              "      <td>1</td>\n",
              "      <td>ambush</td>\n",
              "      <td>1</td>\n",
              "      <td>1</td>\n",
              "      <td>1875.0</td>\n",
              "      <td>6000.0</td>\n",
              "      <td>1</td>\n",
              "      <td>Whispering Wood</td>\n",
              "      <td>The Riverlands</td>\n",
              "      <td>Robb Stark</td>\n",
              "      <td>Jaime Lannister</td>\n",
              "      <td>-4125.0</td>\n",
              "      <td>disavantage_3</td>\n",
              "      <td>7875.0</td>\n",
              "    </tr>\n",
              "  </tbody>\n",
              "</table>\n",
              "</div>"
            ],
            "text/plain": [
              "                            name  year  ... size_difference_disc total_size\n",
              "0     Battle of the Golden Tooth   298  ...          advantage_2    19000.0\n",
              "1    Battle at the Mummer's Ford   298  ...          advantage_2     7833.0\n",
              "2             Battle of Riverrun   298  ...          advantage_2    25000.0\n",
              "3       Battle of the Green Fork   298  ...        disavantage_2    38000.0\n",
              "4  Battle of the Whispering Wood   298  ...        disavantage_3     7875.0\n",
              "\n",
              "[5 rows x 20 columns]"
            ]
          },
          "metadata": {
            "tags": []
          },
          "execution_count": 3
        }
      ]
    },
    {
      "cell_type": "code",
      "metadata": {
        "colab": {
          "base_uri": "https://localhost:8080/"
        },
        "id": "mNaBoQnC2a51",
        "outputId": "fd996d83-158a-40be-a780-59026804b838"
      },
      "source": [
        "battles.dtypes"
      ],
      "execution_count": 4,
      "outputs": [
        {
          "output_type": "execute_result",
          "data": {
            "text/plain": [
              "name                     object\n",
              "year                      int64\n",
              "attacker_king            object\n",
              "defender_king            object\n",
              "attacker_1               object\n",
              "defender_1               object\n",
              "attacker_outcome          int64\n",
              "battle_type              object\n",
              "major_death               int64\n",
              "major_capture             int64\n",
              "attacker_size           float64\n",
              "defender_size           float64\n",
              "summer                    int64\n",
              "location                 object\n",
              "region                   object\n",
              "attacker_commander_1     object\n",
              "defender_commander_1     object\n",
              "size_difference         float64\n",
              "size_difference_disc     object\n",
              "total_size              float64\n",
              "dtype: object"
            ]
          },
          "metadata": {
            "tags": []
          },
          "execution_count": 4
        }
      ]
    },
    {
      "cell_type": "markdown",
      "metadata": {
        "id": "5s0JvGrIruMq"
      },
      "source": [
        "Como a coluna `name` possui valores únicos referentes ao nome da batalha, vamos removê-la. A coluna `size_difference_disc` foi criada no projeto 1 como uma discretização da coluna `size_difference`, então ela também vai ser removida, já que a informação da diferença de tamanho das tropas atacantes e defensoras está duplicada nessas duas colunas."
      ]
    },
    {
      "cell_type": "code",
      "metadata": {
        "id": "60dGNjhYr6g8"
      },
      "source": [
        "battles.drop(columns=['name', 'size_difference_disc'], inplace=True)"
      ],
      "execution_count": 5,
      "outputs": []
    },
    {
      "cell_type": "code",
      "metadata": {
        "colab": {
          "base_uri": "https://localhost:8080/"
        },
        "id": "GW7NuKNS2f-_",
        "outputId": "b2451c2c-f0b5-42bb-d0b7-f4d7d50d7e26"
      },
      "source": [
        "# ajustar os tipos dos dados\n",
        "battles['attacker_king'] = battles['attacker_king'].astype('category')\n",
        "battles['defender_king'] = battles['defender_king'].astype('category')\n",
        "battles['attacker_1'] = battles['attacker_1'].astype('category')\n",
        "battles['defender_1'] = battles['defender_1'].astype('category')\n",
        "battles['attacker_outcome'] = battles['attacker_outcome'].astype('category')\n",
        "battles['battle_type'] = battles['battle_type'].astype('category')\n",
        "battles['attacker_size'] = battles['attacker_size'].astype('int64')\n",
        "battles['defender_size'] = battles['defender_size'].astype('int64')\n",
        "battles['location'] = battles['location'].astype('category')\n",
        "battles['region'] = battles['region'].astype('category')\n",
        "battles['attacker_commander_1'] = battles['attacker_commander_1'].astype('category')\n",
        "battles['defender_commander_1'] = battles['defender_commander_1'].astype('category')\n",
        "battles['size_difference'] = battles['size_difference'].astype('int64')\n",
        "battles['total_size'] = battles['total_size'].astype('int64')\n",
        "\n",
        "battles.dtypes"
      ],
      "execution_count": 6,
      "outputs": [
        {
          "output_type": "execute_result",
          "data": {
            "text/plain": [
              "year                       int64\n",
              "attacker_king           category\n",
              "defender_king           category\n",
              "attacker_1              category\n",
              "defender_1              category\n",
              "attacker_outcome        category\n",
              "battle_type             category\n",
              "major_death                int64\n",
              "major_capture              int64\n",
              "attacker_size              int64\n",
              "defender_size              int64\n",
              "summer                     int64\n",
              "location                category\n",
              "region                  category\n",
              "attacker_commander_1    category\n",
              "defender_commander_1    category\n",
              "size_difference            int64\n",
              "total_size                 int64\n",
              "dtype: object"
            ]
          },
          "metadata": {
            "tags": []
          },
          "execution_count": 6
        }
      ]
    },
    {
      "cell_type": "markdown",
      "metadata": {
        "id": "1uwjaClIuU5E"
      },
      "source": [
        "Apesar das colunas `major_death`, `major_capture` e `summer` representarem dados categóricos, esses dados são booleanos (sempre 0 ou 1). Para facilitar as predições, iremos manter essas colunas com seus dados na forma numérica."
      ]
    },
    {
      "cell_type": "code",
      "metadata": {
        "colab": {
          "base_uri": "https://localhost:8080/"
        },
        "id": "1a_dcYEbyhLb",
        "outputId": "3efff207-f034-4f67-be55-ae83979d02ab"
      },
      "source": [
        "# mostrar que as colunas 'major_death', 'major_capture' e 'summer' só possuem valores 0 e 1\n",
        "battles.groupby('major_death')['attacker_outcome'].count(), \\\n",
        "battles.groupby('major_capture')['attacker_outcome'].count(), \\\n",
        "battles.groupby('summer')['attacker_outcome'].count()"
      ],
      "execution_count": 7,
      "outputs": [
        {
          "output_type": "execute_result",
          "data": {
            "text/plain": [
              "(major_death\n",
              " 0    24\n",
              " 1    12\n",
              " Name: attacker_outcome, dtype: int64, major_capture\n",
              " 0    26\n",
              " 1    10\n",
              " Name: attacker_outcome, dtype: int64, summer\n",
              " 0    10\n",
              " 1    26\n",
              " Name: attacker_outcome, dtype: int64)"
            ]
          },
          "metadata": {
            "tags": []
          },
          "execution_count": 7
        }
      ]
    },
    {
      "cell_type": "code",
      "metadata": {
        "id": "D_8hiwF6G9oH"
      },
      "source": [
        "# separar coluna 'attacker_outcome' para classificação\n",
        "x_battles = battles.drop(columns=['attacker_outcome'])\n",
        "y_battles = battles['attacker_outcome']"
      ],
      "execution_count": 8,
      "outputs": []
    },
    {
      "cell_type": "code",
      "metadata": {
        "colab": {
          "base_uri": "https://localhost:8080/",
          "height": 255
        },
        "id": "QlYGMfd7GR5N",
        "outputId": "3c41293e-55b2-4e04-bd0b-dc7b348a4897"
      },
      "source": [
        "# one-hot encoding\n",
        "# não modificar colunas com valores numéricos\n",
        "columns_to_keep = ['year', 'major_death', 'major_capture', 'attacker_size', 'defender_size', 'summer', 'size_difference', 'total_size']\n",
        "\n",
        "x_battles = pd.get_dummies(x_battles, columns=x_battles.columns.drop(columns_to_keep))\n",
        "x_battles.head()"
      ],
      "execution_count": 9,
      "outputs": [
        {
          "output_type": "execute_result",
          "data": {
            "text/html": [
              "<div>\n",
              "<style scoped>\n",
              "    .dataframe tbody tr th:only-of-type {\n",
              "        vertical-align: middle;\n",
              "    }\n",
              "\n",
              "    .dataframe tbody tr th {\n",
              "        vertical-align: top;\n",
              "    }\n",
              "\n",
              "    .dataframe thead th {\n",
              "        text-align: right;\n",
              "    }\n",
              "</style>\n",
              "<table border=\"1\" class=\"dataframe\">\n",
              "  <thead>\n",
              "    <tr style=\"text-align: right;\">\n",
              "      <th></th>\n",
              "      <th>year</th>\n",
              "      <th>major_death</th>\n",
              "      <th>major_capture</th>\n",
              "      <th>attacker_size</th>\n",
              "      <th>defender_size</th>\n",
              "      <th>summer</th>\n",
              "      <th>size_difference</th>\n",
              "      <th>total_size</th>\n",
              "      <th>attacker_king_Balon/Euron Greyjoy</th>\n",
              "      <th>attacker_king_Joffrey/Tommen Baratheon</th>\n",
              "      <th>attacker_king_None</th>\n",
              "      <th>attacker_king_Robb Stark</th>\n",
              "      <th>attacker_king_Stannis Baratheon</th>\n",
              "      <th>defender_king_Balon/Euron Greyjoy</th>\n",
              "      <th>defender_king_Joffrey/Tommen Baratheon</th>\n",
              "      <th>defender_king_None</th>\n",
              "      <th>defender_king_Renly Baratheon</th>\n",
              "      <th>defender_king_Robb Stark</th>\n",
              "      <th>defender_king_Stannis Baratheon</th>\n",
              "      <th>attacker_1_Baratheon</th>\n",
              "      <th>attacker_1_Bolton</th>\n",
              "      <th>attacker_1_Bracken</th>\n",
              "      <th>attacker_1_Brave Companions</th>\n",
              "      <th>attacker_1_Darry</th>\n",
              "      <th>attacker_1_Frey</th>\n",
              "      <th>attacker_1_Greyjoy</th>\n",
              "      <th>attacker_1_Lannister</th>\n",
              "      <th>attacker_1_Stark</th>\n",
              "      <th>defender_1_Baratheon</th>\n",
              "      <th>defender_1_Blackwood</th>\n",
              "      <th>defender_1_Bolton</th>\n",
              "      <th>defender_1_Brave Companions</th>\n",
              "      <th>defender_1_Darry</th>\n",
              "      <th>defender_1_Greyjoy</th>\n",
              "      <th>defender_1_Lannister</th>\n",
              "      <th>defender_1_Mallister</th>\n",
              "      <th>defender_1_None</th>\n",
              "      <th>defender_1_Stark</th>\n",
              "      <th>defender_1_Tully</th>\n",
              "      <th>defender_1_Tyrell</th>\n",
              "      <th>...</th>\n",
              "      <th>attacker_commander_1_Loras Tyrell</th>\n",
              "      <th>attacker_commander_1_Mace Tyrell</th>\n",
              "      <th>attacker_commander_1_Ramsay Snow</th>\n",
              "      <th>attacker_commander_1_Ramsey Bolton</th>\n",
              "      <th>attacker_commander_1_Robb Stark</th>\n",
              "      <th>attacker_commander_1_Robertt Glover</th>\n",
              "      <th>attacker_commander_1_Rodrik Cassel</th>\n",
              "      <th>attacker_commander_1_Roose Bolton</th>\n",
              "      <th>attacker_commander_1_Rorge</th>\n",
              "      <th>attacker_commander_1_Stannis Baratheon</th>\n",
              "      <th>attacker_commander_1_Theon Greyjoy</th>\n",
              "      <th>attacker_commander_1_Tywin Lannister</th>\n",
              "      <th>attacker_commander_1_Victarion Greyjoy</th>\n",
              "      <th>attacker_commander_1_Walder Frey</th>\n",
              "      <th>defender_commander_1_Amory Lorch</th>\n",
              "      <th>defender_commander_1_Asha Greyjoy</th>\n",
              "      <th>defender_commander_1_Beric Dondarrion</th>\n",
              "      <th>defender_commander_1_Bran Stark</th>\n",
              "      <th>defender_commander_1_Brynden Tully</th>\n",
              "      <th>defender_commander_1_Clement Piper</th>\n",
              "      <th>defender_commander_1_Dagmer Cleftjaw</th>\n",
              "      <th>defender_commander_1_Edmure Tully</th>\n",
              "      <th>defender_commander_1_Gilbert Farring</th>\n",
              "      <th>defender_commander_1_Jaime Lannister</th>\n",
              "      <th>defender_commander_1_Jason Mallister</th>\n",
              "      <th>defender_commander_1_Lord Andros Brax</th>\n",
              "      <th>defender_commander_1_Lyman Darry</th>\n",
              "      <th>defender_commander_1_Randyll Tarly</th>\n",
              "      <th>defender_commander_1_Renly Baratheon</th>\n",
              "      <th>defender_commander_1_Robb Stark</th>\n",
              "      <th>defender_commander_1_Rodrik Cassel</th>\n",
              "      <th>defender_commander_1_Rolland Storm</th>\n",
              "      <th>defender_commander_1_Rolph Spicer</th>\n",
              "      <th>defender_commander_1_Roose Bolton</th>\n",
              "      <th>defender_commander_1_Stafford Lannister</th>\n",
              "      <th>defender_commander_1_Tyrion Lannister</th>\n",
              "      <th>defender_commander_1_Tytos Blackwood</th>\n",
              "      <th>defender_commander_1_Tywin Lannister</th>\n",
              "      <th>defender_commander_1_Unknown</th>\n",
              "      <th>defender_commander_1_Vargo Hoat</th>\n",
              "    </tr>\n",
              "  </thead>\n",
              "  <tbody>\n",
              "    <tr>\n",
              "      <th>0</th>\n",
              "      <td>298</td>\n",
              "      <td>1</td>\n",
              "      <td>0</td>\n",
              "      <td>15000</td>\n",
              "      <td>4000</td>\n",
              "      <td>1</td>\n",
              "      <td>11000</td>\n",
              "      <td>19000</td>\n",
              "      <td>0</td>\n",
              "      <td>1</td>\n",
              "      <td>0</td>\n",
              "      <td>0</td>\n",
              "      <td>0</td>\n",
              "      <td>0</td>\n",
              "      <td>0</td>\n",
              "      <td>0</td>\n",
              "      <td>0</td>\n",
              "      <td>1</td>\n",
              "      <td>0</td>\n",
              "      <td>0</td>\n",
              "      <td>0</td>\n",
              "      <td>0</td>\n",
              "      <td>0</td>\n",
              "      <td>0</td>\n",
              "      <td>0</td>\n",
              "      <td>0</td>\n",
              "      <td>1</td>\n",
              "      <td>0</td>\n",
              "      <td>0</td>\n",
              "      <td>0</td>\n",
              "      <td>0</td>\n",
              "      <td>0</td>\n",
              "      <td>0</td>\n",
              "      <td>0</td>\n",
              "      <td>0</td>\n",
              "      <td>0</td>\n",
              "      <td>0</td>\n",
              "      <td>0</td>\n",
              "      <td>1</td>\n",
              "      <td>0</td>\n",
              "      <td>...</td>\n",
              "      <td>0</td>\n",
              "      <td>0</td>\n",
              "      <td>0</td>\n",
              "      <td>0</td>\n",
              "      <td>0</td>\n",
              "      <td>0</td>\n",
              "      <td>0</td>\n",
              "      <td>0</td>\n",
              "      <td>0</td>\n",
              "      <td>0</td>\n",
              "      <td>0</td>\n",
              "      <td>0</td>\n",
              "      <td>0</td>\n",
              "      <td>0</td>\n",
              "      <td>0</td>\n",
              "      <td>0</td>\n",
              "      <td>0</td>\n",
              "      <td>0</td>\n",
              "      <td>0</td>\n",
              "      <td>1</td>\n",
              "      <td>0</td>\n",
              "      <td>0</td>\n",
              "      <td>0</td>\n",
              "      <td>0</td>\n",
              "      <td>0</td>\n",
              "      <td>0</td>\n",
              "      <td>0</td>\n",
              "      <td>0</td>\n",
              "      <td>0</td>\n",
              "      <td>0</td>\n",
              "      <td>0</td>\n",
              "      <td>0</td>\n",
              "      <td>0</td>\n",
              "      <td>0</td>\n",
              "      <td>0</td>\n",
              "      <td>0</td>\n",
              "      <td>0</td>\n",
              "      <td>0</td>\n",
              "      <td>0</td>\n",
              "      <td>0</td>\n",
              "    </tr>\n",
              "    <tr>\n",
              "      <th>1</th>\n",
              "      <td>298</td>\n",
              "      <td>1</td>\n",
              "      <td>0</td>\n",
              "      <td>7713</td>\n",
              "      <td>120</td>\n",
              "      <td>1</td>\n",
              "      <td>7593</td>\n",
              "      <td>7833</td>\n",
              "      <td>0</td>\n",
              "      <td>1</td>\n",
              "      <td>0</td>\n",
              "      <td>0</td>\n",
              "      <td>0</td>\n",
              "      <td>0</td>\n",
              "      <td>0</td>\n",
              "      <td>0</td>\n",
              "      <td>0</td>\n",
              "      <td>1</td>\n",
              "      <td>0</td>\n",
              "      <td>0</td>\n",
              "      <td>0</td>\n",
              "      <td>0</td>\n",
              "      <td>0</td>\n",
              "      <td>0</td>\n",
              "      <td>0</td>\n",
              "      <td>0</td>\n",
              "      <td>1</td>\n",
              "      <td>0</td>\n",
              "      <td>1</td>\n",
              "      <td>0</td>\n",
              "      <td>0</td>\n",
              "      <td>0</td>\n",
              "      <td>0</td>\n",
              "      <td>0</td>\n",
              "      <td>0</td>\n",
              "      <td>0</td>\n",
              "      <td>0</td>\n",
              "      <td>0</td>\n",
              "      <td>0</td>\n",
              "      <td>0</td>\n",
              "      <td>...</td>\n",
              "      <td>0</td>\n",
              "      <td>0</td>\n",
              "      <td>0</td>\n",
              "      <td>0</td>\n",
              "      <td>0</td>\n",
              "      <td>0</td>\n",
              "      <td>0</td>\n",
              "      <td>0</td>\n",
              "      <td>0</td>\n",
              "      <td>0</td>\n",
              "      <td>0</td>\n",
              "      <td>0</td>\n",
              "      <td>0</td>\n",
              "      <td>0</td>\n",
              "      <td>0</td>\n",
              "      <td>0</td>\n",
              "      <td>1</td>\n",
              "      <td>0</td>\n",
              "      <td>0</td>\n",
              "      <td>0</td>\n",
              "      <td>0</td>\n",
              "      <td>0</td>\n",
              "      <td>0</td>\n",
              "      <td>0</td>\n",
              "      <td>0</td>\n",
              "      <td>0</td>\n",
              "      <td>0</td>\n",
              "      <td>0</td>\n",
              "      <td>0</td>\n",
              "      <td>0</td>\n",
              "      <td>0</td>\n",
              "      <td>0</td>\n",
              "      <td>0</td>\n",
              "      <td>0</td>\n",
              "      <td>0</td>\n",
              "      <td>0</td>\n",
              "      <td>0</td>\n",
              "      <td>0</td>\n",
              "      <td>0</td>\n",
              "      <td>0</td>\n",
              "    </tr>\n",
              "    <tr>\n",
              "      <th>2</th>\n",
              "      <td>298</td>\n",
              "      <td>0</td>\n",
              "      <td>1</td>\n",
              "      <td>15000</td>\n",
              "      <td>10000</td>\n",
              "      <td>1</td>\n",
              "      <td>5000</td>\n",
              "      <td>25000</td>\n",
              "      <td>0</td>\n",
              "      <td>1</td>\n",
              "      <td>0</td>\n",
              "      <td>0</td>\n",
              "      <td>0</td>\n",
              "      <td>0</td>\n",
              "      <td>0</td>\n",
              "      <td>0</td>\n",
              "      <td>0</td>\n",
              "      <td>1</td>\n",
              "      <td>0</td>\n",
              "      <td>0</td>\n",
              "      <td>0</td>\n",
              "      <td>0</td>\n",
              "      <td>0</td>\n",
              "      <td>0</td>\n",
              "      <td>0</td>\n",
              "      <td>0</td>\n",
              "      <td>1</td>\n",
              "      <td>0</td>\n",
              "      <td>0</td>\n",
              "      <td>0</td>\n",
              "      <td>0</td>\n",
              "      <td>0</td>\n",
              "      <td>0</td>\n",
              "      <td>0</td>\n",
              "      <td>0</td>\n",
              "      <td>0</td>\n",
              "      <td>0</td>\n",
              "      <td>0</td>\n",
              "      <td>1</td>\n",
              "      <td>0</td>\n",
              "      <td>...</td>\n",
              "      <td>0</td>\n",
              "      <td>0</td>\n",
              "      <td>0</td>\n",
              "      <td>0</td>\n",
              "      <td>0</td>\n",
              "      <td>0</td>\n",
              "      <td>0</td>\n",
              "      <td>0</td>\n",
              "      <td>0</td>\n",
              "      <td>0</td>\n",
              "      <td>0</td>\n",
              "      <td>0</td>\n",
              "      <td>0</td>\n",
              "      <td>0</td>\n",
              "      <td>0</td>\n",
              "      <td>0</td>\n",
              "      <td>0</td>\n",
              "      <td>0</td>\n",
              "      <td>0</td>\n",
              "      <td>0</td>\n",
              "      <td>0</td>\n",
              "      <td>1</td>\n",
              "      <td>0</td>\n",
              "      <td>0</td>\n",
              "      <td>0</td>\n",
              "      <td>0</td>\n",
              "      <td>0</td>\n",
              "      <td>0</td>\n",
              "      <td>0</td>\n",
              "      <td>0</td>\n",
              "      <td>0</td>\n",
              "      <td>0</td>\n",
              "      <td>0</td>\n",
              "      <td>0</td>\n",
              "      <td>0</td>\n",
              "      <td>0</td>\n",
              "      <td>0</td>\n",
              "      <td>0</td>\n",
              "      <td>0</td>\n",
              "      <td>0</td>\n",
              "    </tr>\n",
              "    <tr>\n",
              "      <th>3</th>\n",
              "      <td>298</td>\n",
              "      <td>1</td>\n",
              "      <td>1</td>\n",
              "      <td>18000</td>\n",
              "      <td>20000</td>\n",
              "      <td>1</td>\n",
              "      <td>-2000</td>\n",
              "      <td>38000</td>\n",
              "      <td>0</td>\n",
              "      <td>0</td>\n",
              "      <td>0</td>\n",
              "      <td>1</td>\n",
              "      <td>0</td>\n",
              "      <td>0</td>\n",
              "      <td>1</td>\n",
              "      <td>0</td>\n",
              "      <td>0</td>\n",
              "      <td>0</td>\n",
              "      <td>0</td>\n",
              "      <td>0</td>\n",
              "      <td>0</td>\n",
              "      <td>0</td>\n",
              "      <td>0</td>\n",
              "      <td>0</td>\n",
              "      <td>0</td>\n",
              "      <td>0</td>\n",
              "      <td>0</td>\n",
              "      <td>1</td>\n",
              "      <td>0</td>\n",
              "      <td>0</td>\n",
              "      <td>0</td>\n",
              "      <td>0</td>\n",
              "      <td>0</td>\n",
              "      <td>0</td>\n",
              "      <td>1</td>\n",
              "      <td>0</td>\n",
              "      <td>0</td>\n",
              "      <td>0</td>\n",
              "      <td>0</td>\n",
              "      <td>0</td>\n",
              "      <td>...</td>\n",
              "      <td>0</td>\n",
              "      <td>0</td>\n",
              "      <td>0</td>\n",
              "      <td>0</td>\n",
              "      <td>0</td>\n",
              "      <td>0</td>\n",
              "      <td>0</td>\n",
              "      <td>1</td>\n",
              "      <td>0</td>\n",
              "      <td>0</td>\n",
              "      <td>0</td>\n",
              "      <td>0</td>\n",
              "      <td>0</td>\n",
              "      <td>0</td>\n",
              "      <td>0</td>\n",
              "      <td>0</td>\n",
              "      <td>0</td>\n",
              "      <td>0</td>\n",
              "      <td>0</td>\n",
              "      <td>0</td>\n",
              "      <td>0</td>\n",
              "      <td>0</td>\n",
              "      <td>0</td>\n",
              "      <td>0</td>\n",
              "      <td>0</td>\n",
              "      <td>0</td>\n",
              "      <td>0</td>\n",
              "      <td>0</td>\n",
              "      <td>0</td>\n",
              "      <td>0</td>\n",
              "      <td>0</td>\n",
              "      <td>0</td>\n",
              "      <td>0</td>\n",
              "      <td>0</td>\n",
              "      <td>0</td>\n",
              "      <td>0</td>\n",
              "      <td>0</td>\n",
              "      <td>1</td>\n",
              "      <td>0</td>\n",
              "      <td>0</td>\n",
              "    </tr>\n",
              "    <tr>\n",
              "      <th>4</th>\n",
              "      <td>298</td>\n",
              "      <td>1</td>\n",
              "      <td>1</td>\n",
              "      <td>1875</td>\n",
              "      <td>6000</td>\n",
              "      <td>1</td>\n",
              "      <td>-4125</td>\n",
              "      <td>7875</td>\n",
              "      <td>0</td>\n",
              "      <td>0</td>\n",
              "      <td>0</td>\n",
              "      <td>1</td>\n",
              "      <td>0</td>\n",
              "      <td>0</td>\n",
              "      <td>1</td>\n",
              "      <td>0</td>\n",
              "      <td>0</td>\n",
              "      <td>0</td>\n",
              "      <td>0</td>\n",
              "      <td>0</td>\n",
              "      <td>0</td>\n",
              "      <td>0</td>\n",
              "      <td>0</td>\n",
              "      <td>0</td>\n",
              "      <td>0</td>\n",
              "      <td>0</td>\n",
              "      <td>0</td>\n",
              "      <td>1</td>\n",
              "      <td>0</td>\n",
              "      <td>0</td>\n",
              "      <td>0</td>\n",
              "      <td>0</td>\n",
              "      <td>0</td>\n",
              "      <td>0</td>\n",
              "      <td>1</td>\n",
              "      <td>0</td>\n",
              "      <td>0</td>\n",
              "      <td>0</td>\n",
              "      <td>0</td>\n",
              "      <td>0</td>\n",
              "      <td>...</td>\n",
              "      <td>0</td>\n",
              "      <td>0</td>\n",
              "      <td>0</td>\n",
              "      <td>0</td>\n",
              "      <td>1</td>\n",
              "      <td>0</td>\n",
              "      <td>0</td>\n",
              "      <td>0</td>\n",
              "      <td>0</td>\n",
              "      <td>0</td>\n",
              "      <td>0</td>\n",
              "      <td>0</td>\n",
              "      <td>0</td>\n",
              "      <td>0</td>\n",
              "      <td>0</td>\n",
              "      <td>0</td>\n",
              "      <td>0</td>\n",
              "      <td>0</td>\n",
              "      <td>0</td>\n",
              "      <td>0</td>\n",
              "      <td>0</td>\n",
              "      <td>0</td>\n",
              "      <td>0</td>\n",
              "      <td>1</td>\n",
              "      <td>0</td>\n",
              "      <td>0</td>\n",
              "      <td>0</td>\n",
              "      <td>0</td>\n",
              "      <td>0</td>\n",
              "      <td>0</td>\n",
              "      <td>0</td>\n",
              "      <td>0</td>\n",
              "      <td>0</td>\n",
              "      <td>0</td>\n",
              "      <td>0</td>\n",
              "      <td>0</td>\n",
              "      <td>0</td>\n",
              "      <td>0</td>\n",
              "      <td>0</td>\n",
              "      <td>0</td>\n",
              "    </tr>\n",
              "  </tbody>\n",
              "</table>\n",
              "<p>5 rows × 124 columns</p>\n",
              "</div>"
            ],
            "text/plain": [
              "   year  ...  defender_commander_1_Vargo Hoat\n",
              "0   298  ...                                0\n",
              "1   298  ...                                0\n",
              "2   298  ...                                0\n",
              "3   298  ...                                0\n",
              "4   298  ...                                0\n",
              "\n",
              "[5 rows x 124 columns]"
            ]
          },
          "metadata": {
            "tags": []
          },
          "execution_count": 9
        }
      ]
    },
    {
      "cell_type": "markdown",
      "metadata": {
        "id": "-duiUa3Y8B1N"
      },
      "source": [
        "# Geração dos modelos"
      ]
    },
    {
      "cell_type": "code",
      "metadata": {
        "colab": {
          "base_uri": "https://localhost:8080/"
        },
        "id": "gCM7jjxr4CuP",
        "outputId": "dc6ad2d7-008b-480a-9e47-5cdc9fb3389e"
      },
      "source": [
        "x_battles.shape"
      ],
      "execution_count": 10,
      "outputs": [
        {
          "output_type": "execute_result",
          "data": {
            "text/plain": [
              "(36, 124)"
            ]
          },
          "metadata": {
            "tags": []
          },
          "execution_count": 10
        }
      ]
    },
    {
      "cell_type": "markdown",
      "metadata": {
        "id": "l57mTj0839WS"
      },
      "source": [
        "Como temos poucos dados, vamos utilizar cross-validation."
      ]
    },
    {
      "cell_type": "code",
      "metadata": {
        "id": "rADKG1vD4WnM"
      },
      "source": [
        "from sklearn.model_selection import cross_validate, cross_val_score"
      ],
      "execution_count": 11,
      "outputs": []
    },
    {
      "cell_type": "markdown",
      "metadata": {
        "id": "F3-7R0_l4O-D"
      },
      "source": [
        "Os algoritmos utilizados serão:\n",
        "1. Gaussian Naive Bayes\n",
        "2. KNN\n",
        "3. Decision Tree\n",
        "4. Random Forest"
      ]
    },
    {
      "cell_type": "markdown",
      "metadata": {
        "id": "0B0fl0KMHkjH"
      },
      "source": [
        "Vamos utilizar o Optuna para fazer a seleção dos hiper-parâmetros."
      ]
    },
    {
      "cell_type": "code",
      "metadata": {
        "id": "flZ-tJYOISDK"
      },
      "source": [
        "import optuna\n",
        "from optuna.visualization import plot_param_importances"
      ],
      "execution_count": 12,
      "outputs": []
    },
    {
      "cell_type": "code",
      "metadata": {
        "id": "vH6CHdt9axlT"
      },
      "source": [
        "np.random.seed(10)\n",
        "NUMBER_OF_TRIALS = 50"
      ],
      "execution_count": 13,
      "outputs": []
    },
    {
      "cell_type": "code",
      "metadata": {
        "id": "vHX-RMIyBJA1"
      },
      "source": [
        "# logging\n",
        "import mlflow\n",
        "import warnings\n",
        "\n",
        "mlflow.sklearn.autolog()\n",
        "warnings.filterwarnings(\"ignore\")"
      ],
      "execution_count": 14,
      "outputs": []
    },
    {
      "cell_type": "markdown",
      "metadata": {
        "id": "QGuzCL-dN8df"
      },
      "source": [
        "## Gaussian Naive Bayes"
      ]
    },
    {
      "cell_type": "code",
      "metadata": {
        "id": "oVDPaP7WXTso"
      },
      "source": [
        "from sklearn.naive_bayes import GaussianNB"
      ],
      "execution_count": 15,
      "outputs": []
    },
    {
      "cell_type": "code",
      "metadata": {
        "id": "PVI00VKxnEFT"
      },
      "source": [
        "experiment_id = mlflow.create_experiment(name='gaussianNB')\n",
        "\n",
        "def gaussianNB(trial):\n",
        "  with mlflow.start_run(experiment_id=experiment_id):\n",
        "    # definição dos hiper-parâmetros\n",
        "    params = {'var_smoothing': trial.suggest_float('var_smoothing', 1e-10, 1e-08)}\n",
        "\n",
        "    model = GaussianNB(var_smoothing=params['var_smoothing'])\n",
        "\n",
        "    # treinamento\n",
        "    scores = cross_validate(model, x_battles, y_battles,\n",
        "                            scoring='accuracy', return_train_score=True)\n",
        "\n",
        "    # acurácias\n",
        "    test_accuracies = scores['test_score']\n",
        "    test_accuracy = test_accuracies.mean()\n",
        "    train_accuracies = scores['train_score']\n",
        "    train_accuracy = train_accuracies.mean()\n",
        "\n",
        "    # salvar acurácia de treinamento no trial\n",
        "    trial.set_user_attr('train_accuracy', train_accuracy)\n",
        "\n",
        "    # logging\n",
        "    mlflow.log_params(params)\n",
        "    mlflow.log_metric('test_accuracy', test_accuracy)\n",
        "    mlflow.log_metric('train_accuracy', train_accuracy)\n",
        "    mlflow.sklearn.log_model(model, \"model\")\n",
        "    mlflow.end_run()\n",
        "\n",
        "  return test_accuracy"
      ],
      "execution_count": 16,
      "outputs": []
    },
    {
      "cell_type": "code",
      "metadata": {
        "colab": {
          "base_uri": "https://localhost:8080/"
        },
        "id": "7dbXSRMlnzAd",
        "outputId": "e60b7913-2d43-4ba2-93c3-6d14c06c7a18"
      },
      "source": [
        "study_GNB = optuna.create_study(direction='maximize')\n",
        "study_GNB.optimize(gaussianNB, n_trials=NUMBER_OF_TRIALS)"
      ],
      "execution_count": 17,
      "outputs": [
        {
          "output_type": "stream",
          "text": [
            "\u001b[32m[I 2021-08-17 02:37:49,066]\u001b[0m A new study created in memory with name: no-name-d86e9838-590d-4eaf-95a7-688a7c07c643\u001b[0m\n",
            "\u001b[32m[I 2021-08-17 02:37:50,729]\u001b[0m Trial 0 finished with value: 0.8071428571428572 and parameters: {'var_smoothing': 2.0235640964632587e-10}. Best is trial 0 with value: 0.8071428571428572.\u001b[0m\n",
            "\u001b[32m[I 2021-08-17 02:37:52,398]\u001b[0m Trial 1 finished with value: 0.7285714285714285 and parameters: {'var_smoothing': 2.4096838771467805e-09}. Best is trial 0 with value: 0.8071428571428572.\u001b[0m\n",
            "\u001b[32m[I 2021-08-17 02:37:54,108]\u001b[0m Trial 2 finished with value: 0.7571428571428571 and parameters: {'var_smoothing': 8.90731265753177e-09}. Best is trial 0 with value: 0.8071428571428572.\u001b[0m\n",
            "\u001b[32m[I 2021-08-17 02:37:55,703]\u001b[0m Trial 3 finished with value: 0.7571428571428571 and parameters: {'var_smoothing': 6.659529338292176e-09}. Best is trial 0 with value: 0.8071428571428572.\u001b[0m\n",
            "\u001b[32m[I 2021-08-17 02:37:57,431]\u001b[0m Trial 4 finished with value: 0.7571428571428571 and parameters: {'var_smoothing': 6.597276351594394e-09}. Best is trial 0 with value: 0.8071428571428572.\u001b[0m\n",
            "\u001b[32m[I 2021-08-17 02:37:58,992]\u001b[0m Trial 5 finished with value: 0.7571428571428571 and parameters: {'var_smoothing': 5.772981333668764e-09}. Best is trial 0 with value: 0.8071428571428572.\u001b[0m\n",
            "\u001b[32m[I 2021-08-17 02:38:00,558]\u001b[0m Trial 6 finished with value: 0.7571428571428571 and parameters: {'var_smoothing': 5.623815761899633e-09}. Best is trial 0 with value: 0.8071428571428572.\u001b[0m\n",
            "\u001b[32m[I 2021-08-17 02:38:02,368]\u001b[0m Trial 7 finished with value: 0.7571428571428571 and parameters: {'var_smoothing': 9.229163942487254e-09}. Best is trial 0 with value: 0.8071428571428572.\u001b[0m\n",
            "\u001b[32m[I 2021-08-17 02:38:03,919]\u001b[0m Trial 8 finished with value: 0.7571428571428571 and parameters: {'var_smoothing': 6.9605429150690786e-09}. Best is trial 0 with value: 0.8071428571428572.\u001b[0m\n",
            "\u001b[32m[I 2021-08-17 02:38:05,462]\u001b[0m Trial 9 finished with value: 0.6678571428571429 and parameters: {'var_smoothing': 6.01718272649242e-10}. Best is trial 0 with value: 0.8071428571428572.\u001b[0m\n",
            "\u001b[32m[I 2021-08-17 02:38:07,344]\u001b[0m Trial 10 finished with value: 0.7285714285714285 and parameters: {'var_smoothing': 3.2564528303715706e-09}. Best is trial 0 with value: 0.8071428571428572.\u001b[0m\n",
            "\u001b[32m[I 2021-08-17 02:38:08,907]\u001b[0m Trial 11 finished with value: 0.7857142857142858 and parameters: {'var_smoothing': 9.897415957248832e-09}. Best is trial 0 with value: 0.8071428571428572.\u001b[0m\n",
            "\u001b[32m[I 2021-08-17 02:38:10,478]\u001b[0m Trial 12 finished with value: 0.7285714285714285 and parameters: {'var_smoothing': 3.4531836777597324e-09}. Best is trial 0 with value: 0.8071428571428572.\u001b[0m\n",
            "\u001b[32m[I 2021-08-17 02:38:12,011]\u001b[0m Trial 13 finished with value: 0.8357142857142857 and parameters: {'var_smoothing': 1.2804668486697132e-10}. Best is trial 13 with value: 0.8357142857142857.\u001b[0m\n",
            "\u001b[32m[I 2021-08-17 02:38:13,922]\u001b[0m Trial 14 finished with value: 0.7785714285714287 and parameters: {'var_smoothing': 2.997434822351345e-10}. Best is trial 13 with value: 0.8357142857142857.\u001b[0m\n",
            "\u001b[32m[I 2021-08-17 02:38:15,459]\u001b[0m Trial 15 finished with value: 0.7 and parameters: {'var_smoothing': 1.7355048772588786e-09}. Best is trial 13 with value: 0.8357142857142857.\u001b[0m\n",
            "\u001b[32m[I 2021-08-17 02:38:17,015]\u001b[0m Trial 16 finished with value: 0.6714285714285715 and parameters: {'var_smoothing': 1.5045923886024159e-09}. Best is trial 13 with value: 0.8357142857142857.\u001b[0m\n",
            "\u001b[32m[I 2021-08-17 02:38:18,598]\u001b[0m Trial 17 finished with value: 0.7571428571428571 and parameters: {'var_smoothing': 4.2468947213912425e-09}. Best is trial 13 with value: 0.8357142857142857.\u001b[0m\n",
            "\u001b[32m[I 2021-08-17 02:38:20,161]\u001b[0m Trial 18 finished with value: 0.8357142857142857 and parameters: {'var_smoothing': 1.5727514582299266e-10}. Best is trial 13 with value: 0.8357142857142857.\u001b[0m\n",
            "\u001b[32m[I 2021-08-17 02:38:22,192]\u001b[0m Trial 19 finished with value: 0.7285714285714285 and parameters: {'var_smoothing': 1.8387888717270098e-09}. Best is trial 13 with value: 0.8357142857142857.\u001b[0m\n",
            "\u001b[32m[I 2021-08-17 02:38:23,767]\u001b[0m Trial 20 finished with value: 0.7571428571428572 and parameters: {'var_smoothing': 2.929873995249717e-09}. Best is trial 13 with value: 0.8357142857142857.\u001b[0m\n",
            "\u001b[32m[I 2021-08-17 02:38:25,309]\u001b[0m Trial 21 finished with value: 0.8071428571428572 and parameters: {'var_smoothing': 2.3965562403133514e-10}. Best is trial 13 with value: 0.8357142857142857.\u001b[0m\n",
            "\u001b[32m[I 2021-08-17 02:38:26,852]\u001b[0m Trial 22 finished with value: 0.6964285714285714 and parameters: {'var_smoothing': 1.0656666432872902e-09}. Best is trial 13 with value: 0.8357142857142857.\u001b[0m\n",
            "\u001b[32m[I 2021-08-17 02:38:28,384]\u001b[0m Trial 23 finished with value: 0.8357142857142857 and parameters: {'var_smoothing': 1.1161550765910485e-10}. Best is trial 13 with value: 0.8357142857142857.\u001b[0m\n",
            "\u001b[32m[I 2021-08-17 02:38:29,946]\u001b[0m Trial 24 finished with value: 0.6964285714285714 and parameters: {'var_smoothing': 1.1064374838423512e-09}. Best is trial 13 with value: 0.8357142857142857.\u001b[0m\n",
            "\u001b[32m[I 2021-08-17 02:38:32,055]\u001b[0m Trial 25 finished with value: 0.7285714285714285 and parameters: {'var_smoothing': 2.310939475370601e-09}. Best is trial 13 with value: 0.8357142857142857.\u001b[0m\n",
            "\u001b[32m[I 2021-08-17 02:38:33,638]\u001b[0m Trial 26 finished with value: 0.7571428571428571 and parameters: {'var_smoothing': 4.377287749176924e-09}. Best is trial 13 with value: 0.8357142857142857.\u001b[0m\n",
            "\u001b[32m[I 2021-08-17 02:38:35,192]\u001b[0m Trial 27 finished with value: 0.6392857142857143 and parameters: {'var_smoothing': 8.81781266715727e-10}. Best is trial 13 with value: 0.8357142857142857.\u001b[0m\n",
            "\u001b[32m[I 2021-08-17 02:38:36,739]\u001b[0m Trial 28 finished with value: 0.7285714285714285 and parameters: {'var_smoothing': 2.3152040023796473e-09}. Best is trial 13 with value: 0.8357142857142857.\u001b[0m\n",
            "\u001b[32m[I 2021-08-17 02:38:38,292]\u001b[0m Trial 29 finished with value: 0.8071428571428572 and parameters: {'var_smoothing': 2.4548163380104865e-10}. Best is trial 13 with value: 0.8357142857142857.\u001b[0m\n",
            "\u001b[32m[I 2021-08-17 02:38:39,819]\u001b[0m Trial 30 finished with value: 0.6714285714285715 and parameters: {'var_smoothing': 1.4135042687921603e-09}. Best is trial 13 with value: 0.8357142857142857.\u001b[0m\n",
            "\u001b[32m[I 2021-08-17 02:38:41,380]\u001b[0m Trial 31 finished with value: 0.8357142857142857 and parameters: {'var_smoothing': 1.0178715569057632e-10}. Best is trial 13 with value: 0.8357142857142857.\u001b[0m\n",
            "\u001b[32m[I 2021-08-17 02:38:43,614]\u001b[0m Trial 32 finished with value: 0.8357142857142857 and parameters: {'var_smoothing': 1.1871580470512808e-10}. Best is trial 13 with value: 0.8357142857142857.\u001b[0m\n",
            "\u001b[32m[I 2021-08-17 02:38:45,169]\u001b[0m Trial 33 finished with value: 0.6964285714285714 and parameters: {'var_smoothing': 1.0377331563552155e-09}. Best is trial 13 with value: 0.8357142857142857.\u001b[0m\n",
            "\u001b[32m[I 2021-08-17 02:38:46,705]\u001b[0m Trial 34 finished with value: 0.7285714285714285 and parameters: {'var_smoothing': 1.9642919568400965e-09}. Best is trial 13 with value: 0.8357142857142857.\u001b[0m\n",
            "\u001b[32m[I 2021-08-17 02:38:48,264]\u001b[0m Trial 35 finished with value: 0.6392857142857143 and parameters: {'var_smoothing': 7.796672656826289e-10}. Best is trial 13 with value: 0.8357142857142857.\u001b[0m\n",
            "\u001b[32m[I 2021-08-17 02:38:49,823]\u001b[0m Trial 36 finished with value: 0.7571428571428572 and parameters: {'var_smoothing': 2.7228442742780386e-09}. Best is trial 13 with value: 0.8357142857142857.\u001b[0m\n",
            "\u001b[32m[I 2021-08-17 02:38:51,402]\u001b[0m Trial 37 finished with value: 0.7571428571428571 and parameters: {'var_smoothing': 8.059245657641873e-09}. Best is trial 13 with value: 0.8357142857142857.\u001b[0m\n",
            "\u001b[32m[I 2021-08-17 02:38:52,955]\u001b[0m Trial 38 finished with value: 0.6714285714285715 and parameters: {'var_smoothing': 1.3237038200140932e-09}. Best is trial 13 with value: 0.8357142857142857.\u001b[0m\n",
            "\u001b[32m[I 2021-08-17 02:38:54,494]\u001b[0m Trial 39 finished with value: 0.7285714285714285 and parameters: {'var_smoothing': 3.905141543282345e-09}. Best is trial 13 with value: 0.8357142857142857.\u001b[0m\n",
            "\u001b[32m[I 2021-08-17 02:38:56,050]\u001b[0m Trial 40 finished with value: 0.6678571428571429 and parameters: {'var_smoothing': 6.595970160330822e-10}. Best is trial 13 with value: 0.8357142857142857.\u001b[0m\n",
            "\u001b[32m[I 2021-08-17 02:38:58,456]\u001b[0m Trial 41 finished with value: 0.8357142857142857 and parameters: {'var_smoothing': 1.663123958966966e-10}. Best is trial 13 with value: 0.8357142857142857.\u001b[0m\n",
            "\u001b[32m[I 2021-08-17 02:39:00,010]\u001b[0m Trial 42 finished with value: 0.6678571428571429 and parameters: {'var_smoothing': 5.897142111237928e-10}. Best is trial 13 with value: 0.8357142857142857.\u001b[0m\n",
            "\u001b[32m[I 2021-08-17 02:39:01,554]\u001b[0m Trial 43 finished with value: 0.8357142857142857 and parameters: {'var_smoothing': 1.6669471980395942e-10}. Best is trial 13 with value: 0.8357142857142857.\u001b[0m\n",
            "\u001b[32m[I 2021-08-17 02:39:03,111]\u001b[0m Trial 44 finished with value: 0.7285714285714285 and parameters: {'var_smoothing': 1.9827151252983083e-09}. Best is trial 13 with value: 0.8357142857142857.\u001b[0m\n",
            "\u001b[32m[I 2021-08-17 02:39:04,655]\u001b[0m Trial 45 finished with value: 0.6678571428571429 and parameters: {'var_smoothing': 6.271654145283457e-10}. Best is trial 13 with value: 0.8357142857142857.\u001b[0m\n",
            "\u001b[32m[I 2021-08-17 02:39:06,228]\u001b[0m Trial 46 finished with value: 0.8357142857142857 and parameters: {'var_smoothing': 1.18371559220466e-10}. Best is trial 13 with value: 0.8357142857142857.\u001b[0m\n",
            "\u001b[32m[I 2021-08-17 02:39:07,810]\u001b[0m Trial 47 finished with value: 0.6714285714285715 and parameters: {'var_smoothing': 1.4367600541753727e-09}. Best is trial 13 with value: 0.8357142857142857.\u001b[0m\n",
            "\u001b[32m[I 2021-08-17 02:39:09,371]\u001b[0m Trial 48 finished with value: 0.7571428571428571 and parameters: {'var_smoothing': 7.246696009931759e-09}. Best is trial 13 with value: 0.8357142857142857.\u001b[0m\n",
            "\u001b[32m[I 2021-08-17 02:39:10,928]\u001b[0m Trial 49 finished with value: 0.6392857142857143 and parameters: {'var_smoothing': 7.411150343719922e-10}. Best is trial 13 with value: 0.8357142857142857.\u001b[0m\n"
          ],
          "name": "stderr"
        }
      ]
    },
    {
      "cell_type": "code",
      "metadata": {
        "colab": {
          "base_uri": "https://localhost:8080/"
        },
        "id": "K2K6oWPeP-Vh",
        "outputId": "f31c3f16-1295-4f4a-ed8f-663f3e48b9db"
      },
      "source": [
        "print('Best hyperparameters:\\t', study_GNB.best_trial.params)\n",
        "print('Training accuracy:\\t', study_GNB.best_trial.user_attrs['train_accuracy'])\n",
        "print('Test accuracy:\\t\\t', study_GNB.best_trial.value)"
      ],
      "execution_count": 18,
      "outputs": [
        {
          "output_type": "stream",
          "text": [
            "Best hyperparameters:\t {'var_smoothing': 1.2804668486697132e-10}\n",
            "Training accuracy:\t 1.0\n",
            "Test accuracy:\t\t 0.8357142857142857\n"
          ],
          "name": "stdout"
        }
      ]
    },
    {
      "cell_type": "code",
      "metadata": {
        "colab": {
          "base_uri": "https://localhost:8080/",
          "height": 542
        },
        "id": "xH8zRSvCQxxE",
        "outputId": "0387b56a-0ee7-463f-d301-a475499a8620"
      },
      "source": [
        "optuna.visualization.plot_optimization_history(study_GNB)"
      ],
      "execution_count": 19,
      "outputs": [
        {
          "output_type": "display_data",
          "data": {
            "text/html": [
              "<html>\n",
              "<head><meta charset=\"utf-8\" /></head>\n",
              "<body>\n",
              "    <div>\n",
              "            <script src=\"https://cdnjs.cloudflare.com/ajax/libs/mathjax/2.7.5/MathJax.js?config=TeX-AMS-MML_SVG\"></script><script type=\"text/javascript\">if (window.MathJax) {MathJax.Hub.Config({SVG: {font: \"STIX-Web\"}});}</script>\n",
              "                <script type=\"text/javascript\">window.PlotlyConfig = {MathJaxConfig: 'local'};</script>\n",
              "        <script src=\"https://cdn.plot.ly/plotly-latest.min.js\"></script>    \n",
              "            <div id=\"4f9778c1-df6e-4a54-94e3-8798871ba8ff\" class=\"plotly-graph-div\" style=\"height:525px; width:100%;\"></div>\n",
              "            <script type=\"text/javascript\">\n",
              "                \n",
              "                    window.PLOTLYENV=window.PLOTLYENV || {};\n",
              "                    \n",
              "                if (document.getElementById(\"4f9778c1-df6e-4a54-94e3-8798871ba8ff\")) {\n",
              "                    Plotly.newPlot(\n",
              "                        '4f9778c1-df6e-4a54-94e3-8798871ba8ff',\n",
              "                        [{\"mode\": \"markers\", \"name\": \"Objective Value\", \"type\": \"scatter\", \"x\": [0, 1, 2, 3, 4, 5, 6, 7, 8, 9, 10, 11, 12, 13, 14, 15, 16, 17, 18, 19, 20, 21, 22, 23, 24, 25, 26, 27, 28, 29, 30, 31, 32, 33, 34, 35, 36, 37, 38, 39, 40, 41, 42, 43, 44, 45, 46, 47, 48, 49], \"y\": [0.8071428571428572, 0.7285714285714285, 0.7571428571428571, 0.7571428571428571, 0.7571428571428571, 0.7571428571428571, 0.7571428571428571, 0.7571428571428571, 0.7571428571428571, 0.6678571428571429, 0.7285714285714285, 0.7857142857142858, 0.7285714285714285, 0.8357142857142857, 0.7785714285714287, 0.7, 0.6714285714285715, 0.7571428571428571, 0.8357142857142857, 0.7285714285714285, 0.7571428571428572, 0.8071428571428572, 0.6964285714285714, 0.8357142857142857, 0.6964285714285714, 0.7285714285714285, 0.7571428571428571, 0.6392857142857143, 0.7285714285714285, 0.8071428571428572, 0.6714285714285715, 0.8357142857142857, 0.8357142857142857, 0.6964285714285714, 0.7285714285714285, 0.6392857142857143, 0.7571428571428572, 0.7571428571428571, 0.6714285714285715, 0.7285714285714285, 0.6678571428571429, 0.8357142857142857, 0.6678571428571429, 0.8357142857142857, 0.7285714285714285, 0.6678571428571429, 0.8357142857142857, 0.6714285714285715, 0.7571428571428571, 0.6392857142857143]}, {\"name\": \"Best Value\", \"type\": \"scatter\", \"x\": [0, 1, 2, 3, 4, 5, 6, 7, 8, 9, 10, 11, 12, 13, 14, 15, 16, 17, 18, 19, 20, 21, 22, 23, 24, 25, 26, 27, 28, 29, 30, 31, 32, 33, 34, 35, 36, 37, 38, 39, 40, 41, 42, 43, 44, 45, 46, 47, 48, 49], \"y\": [0.8071428571428572, 0.8071428571428572, 0.8071428571428572, 0.8071428571428572, 0.8071428571428572, 0.8071428571428572, 0.8071428571428572, 0.8071428571428572, 0.8071428571428572, 0.8071428571428572, 0.8071428571428572, 0.8071428571428572, 0.8071428571428572, 0.8357142857142857, 0.8357142857142857, 0.8357142857142857, 0.8357142857142857, 0.8357142857142857, 0.8357142857142857, 0.8357142857142857, 0.8357142857142857, 0.8357142857142857, 0.8357142857142857, 0.8357142857142857, 0.8357142857142857, 0.8357142857142857, 0.8357142857142857, 0.8357142857142857, 0.8357142857142857, 0.8357142857142857, 0.8357142857142857, 0.8357142857142857, 0.8357142857142857, 0.8357142857142857, 0.8357142857142857, 0.8357142857142857, 0.8357142857142857, 0.8357142857142857, 0.8357142857142857, 0.8357142857142857, 0.8357142857142857, 0.8357142857142857, 0.8357142857142857, 0.8357142857142857, 0.8357142857142857, 0.8357142857142857, 0.8357142857142857, 0.8357142857142857, 0.8357142857142857, 0.8357142857142857]}],\n",
              "                        {\"template\": {\"data\": {\"bar\": [{\"error_x\": {\"color\": \"#2a3f5f\"}, \"error_y\": {\"color\": \"#2a3f5f\"}, \"marker\": {\"line\": {\"color\": \"#E5ECF6\", \"width\": 0.5}}, \"type\": \"bar\"}], \"barpolar\": [{\"marker\": {\"line\": {\"color\": \"#E5ECF6\", \"width\": 0.5}}, \"type\": \"barpolar\"}], \"carpet\": [{\"aaxis\": {\"endlinecolor\": \"#2a3f5f\", \"gridcolor\": \"white\", \"linecolor\": \"white\", \"minorgridcolor\": \"white\", \"startlinecolor\": \"#2a3f5f\"}, \"baxis\": {\"endlinecolor\": \"#2a3f5f\", \"gridcolor\": \"white\", \"linecolor\": \"white\", \"minorgridcolor\": \"white\", \"startlinecolor\": \"#2a3f5f\"}, \"type\": \"carpet\"}], \"choropleth\": [{\"colorbar\": {\"outlinewidth\": 0, \"ticks\": \"\"}, \"type\": \"choropleth\"}], \"contour\": [{\"colorbar\": {\"outlinewidth\": 0, \"ticks\": \"\"}, \"colorscale\": [[0.0, \"#0d0887\"], [0.1111111111111111, \"#46039f\"], [0.2222222222222222, \"#7201a8\"], [0.3333333333333333, \"#9c179e\"], [0.4444444444444444, \"#bd3786\"], [0.5555555555555556, \"#d8576b\"], [0.6666666666666666, \"#ed7953\"], [0.7777777777777778, \"#fb9f3a\"], [0.8888888888888888, \"#fdca26\"], [1.0, \"#f0f921\"]], \"type\": \"contour\"}], \"contourcarpet\": [{\"colorbar\": {\"outlinewidth\": 0, \"ticks\": \"\"}, \"type\": \"contourcarpet\"}], \"heatmap\": [{\"colorbar\": {\"outlinewidth\": 0, \"ticks\": \"\"}, \"colorscale\": [[0.0, \"#0d0887\"], [0.1111111111111111, \"#46039f\"], [0.2222222222222222, \"#7201a8\"], [0.3333333333333333, \"#9c179e\"], [0.4444444444444444, \"#bd3786\"], [0.5555555555555556, \"#d8576b\"], [0.6666666666666666, \"#ed7953\"], [0.7777777777777778, \"#fb9f3a\"], [0.8888888888888888, \"#fdca26\"], [1.0, \"#f0f921\"]], \"type\": \"heatmap\"}], \"heatmapgl\": [{\"colorbar\": {\"outlinewidth\": 0, \"ticks\": \"\"}, \"colorscale\": [[0.0, \"#0d0887\"], [0.1111111111111111, \"#46039f\"], [0.2222222222222222, \"#7201a8\"], [0.3333333333333333, \"#9c179e\"], [0.4444444444444444, \"#bd3786\"], [0.5555555555555556, \"#d8576b\"], [0.6666666666666666, \"#ed7953\"], [0.7777777777777778, \"#fb9f3a\"], [0.8888888888888888, \"#fdca26\"], [1.0, \"#f0f921\"]], \"type\": \"heatmapgl\"}], \"histogram\": [{\"marker\": {\"colorbar\": {\"outlinewidth\": 0, \"ticks\": \"\"}}, \"type\": \"histogram\"}], \"histogram2d\": [{\"colorbar\": {\"outlinewidth\": 0, \"ticks\": \"\"}, \"colorscale\": [[0.0, \"#0d0887\"], [0.1111111111111111, \"#46039f\"], [0.2222222222222222, \"#7201a8\"], [0.3333333333333333, \"#9c179e\"], [0.4444444444444444, \"#bd3786\"], [0.5555555555555556, \"#d8576b\"], [0.6666666666666666, \"#ed7953\"], [0.7777777777777778, \"#fb9f3a\"], [0.8888888888888888, \"#fdca26\"], [1.0, \"#f0f921\"]], \"type\": \"histogram2d\"}], \"histogram2dcontour\": [{\"colorbar\": {\"outlinewidth\": 0, \"ticks\": \"\"}, \"colorscale\": [[0.0, \"#0d0887\"], [0.1111111111111111, \"#46039f\"], [0.2222222222222222, \"#7201a8\"], [0.3333333333333333, \"#9c179e\"], [0.4444444444444444, \"#bd3786\"], [0.5555555555555556, \"#d8576b\"], [0.6666666666666666, \"#ed7953\"], [0.7777777777777778, \"#fb9f3a\"], [0.8888888888888888, \"#fdca26\"], [1.0, \"#f0f921\"]], \"type\": \"histogram2dcontour\"}], \"mesh3d\": [{\"colorbar\": {\"outlinewidth\": 0, \"ticks\": \"\"}, \"type\": \"mesh3d\"}], \"parcoords\": [{\"line\": {\"colorbar\": {\"outlinewidth\": 0, \"ticks\": \"\"}}, \"type\": \"parcoords\"}], \"pie\": [{\"automargin\": true, \"type\": \"pie\"}], \"scatter\": [{\"marker\": {\"colorbar\": {\"outlinewidth\": 0, \"ticks\": \"\"}}, \"type\": \"scatter\"}], \"scatter3d\": [{\"line\": {\"colorbar\": {\"outlinewidth\": 0, \"ticks\": \"\"}}, \"marker\": {\"colorbar\": {\"outlinewidth\": 0, \"ticks\": \"\"}}, \"type\": \"scatter3d\"}], \"scattercarpet\": [{\"marker\": {\"colorbar\": {\"outlinewidth\": 0, \"ticks\": \"\"}}, \"type\": \"scattercarpet\"}], \"scattergeo\": [{\"marker\": {\"colorbar\": {\"outlinewidth\": 0, \"ticks\": \"\"}}, \"type\": \"scattergeo\"}], \"scattergl\": [{\"marker\": {\"colorbar\": {\"outlinewidth\": 0, \"ticks\": \"\"}}, \"type\": \"scattergl\"}], \"scattermapbox\": [{\"marker\": {\"colorbar\": {\"outlinewidth\": 0, \"ticks\": \"\"}}, \"type\": \"scattermapbox\"}], \"scatterpolar\": [{\"marker\": {\"colorbar\": {\"outlinewidth\": 0, \"ticks\": \"\"}}, \"type\": \"scatterpolar\"}], \"scatterpolargl\": [{\"marker\": {\"colorbar\": {\"outlinewidth\": 0, \"ticks\": \"\"}}, \"type\": \"scatterpolargl\"}], \"scatterternary\": [{\"marker\": {\"colorbar\": {\"outlinewidth\": 0, \"ticks\": \"\"}}, \"type\": \"scatterternary\"}], \"surface\": [{\"colorbar\": {\"outlinewidth\": 0, \"ticks\": \"\"}, \"colorscale\": [[0.0, \"#0d0887\"], [0.1111111111111111, \"#46039f\"], [0.2222222222222222, \"#7201a8\"], [0.3333333333333333, \"#9c179e\"], [0.4444444444444444, \"#bd3786\"], [0.5555555555555556, \"#d8576b\"], [0.6666666666666666, \"#ed7953\"], [0.7777777777777778, \"#fb9f3a\"], [0.8888888888888888, \"#fdca26\"], [1.0, \"#f0f921\"]], \"type\": \"surface\"}], \"table\": [{\"cells\": {\"fill\": {\"color\": \"#EBF0F8\"}, \"line\": {\"color\": \"white\"}}, \"header\": {\"fill\": {\"color\": \"#C8D4E3\"}, \"line\": {\"color\": \"white\"}}, \"type\": \"table\"}]}, \"layout\": {\"annotationdefaults\": {\"arrowcolor\": \"#2a3f5f\", \"arrowhead\": 0, \"arrowwidth\": 1}, \"coloraxis\": {\"colorbar\": {\"outlinewidth\": 0, \"ticks\": \"\"}}, \"colorscale\": {\"diverging\": [[0, \"#8e0152\"], [0.1, \"#c51b7d\"], [0.2, \"#de77ae\"], [0.3, \"#f1b6da\"], [0.4, \"#fde0ef\"], [0.5, \"#f7f7f7\"], [0.6, \"#e6f5d0\"], [0.7, \"#b8e186\"], [0.8, \"#7fbc41\"], [0.9, \"#4d9221\"], [1, \"#276419\"]], \"sequential\": [[0.0, \"#0d0887\"], [0.1111111111111111, \"#46039f\"], [0.2222222222222222, \"#7201a8\"], [0.3333333333333333, \"#9c179e\"], [0.4444444444444444, \"#bd3786\"], [0.5555555555555556, \"#d8576b\"], [0.6666666666666666, \"#ed7953\"], [0.7777777777777778, \"#fb9f3a\"], [0.8888888888888888, \"#fdca26\"], [1.0, \"#f0f921\"]], \"sequentialminus\": [[0.0, \"#0d0887\"], [0.1111111111111111, \"#46039f\"], [0.2222222222222222, \"#7201a8\"], [0.3333333333333333, \"#9c179e\"], [0.4444444444444444, \"#bd3786\"], [0.5555555555555556, \"#d8576b\"], [0.6666666666666666, \"#ed7953\"], [0.7777777777777778, \"#fb9f3a\"], [0.8888888888888888, \"#fdca26\"], [1.0, \"#f0f921\"]]}, \"colorway\": [\"#636efa\", \"#EF553B\", \"#00cc96\", \"#ab63fa\", \"#FFA15A\", \"#19d3f3\", \"#FF6692\", \"#B6E880\", \"#FF97FF\", \"#FECB52\"], \"font\": {\"color\": \"#2a3f5f\"}, \"geo\": {\"bgcolor\": \"white\", \"lakecolor\": \"white\", \"landcolor\": \"#E5ECF6\", \"showlakes\": true, \"showland\": true, \"subunitcolor\": \"white\"}, \"hoverlabel\": {\"align\": \"left\"}, \"hovermode\": \"closest\", \"mapbox\": {\"style\": \"light\"}, \"paper_bgcolor\": \"white\", \"plot_bgcolor\": \"#E5ECF6\", \"polar\": {\"angularaxis\": {\"gridcolor\": \"white\", \"linecolor\": \"white\", \"ticks\": \"\"}, \"bgcolor\": \"#E5ECF6\", \"radialaxis\": {\"gridcolor\": \"white\", \"linecolor\": \"white\", \"ticks\": \"\"}}, \"scene\": {\"xaxis\": {\"backgroundcolor\": \"#E5ECF6\", \"gridcolor\": \"white\", \"gridwidth\": 2, \"linecolor\": \"white\", \"showbackground\": true, \"ticks\": \"\", \"zerolinecolor\": \"white\"}, \"yaxis\": {\"backgroundcolor\": \"#E5ECF6\", \"gridcolor\": \"white\", \"gridwidth\": 2, \"linecolor\": \"white\", \"showbackground\": true, \"ticks\": \"\", \"zerolinecolor\": \"white\"}, \"zaxis\": {\"backgroundcolor\": \"#E5ECF6\", \"gridcolor\": \"white\", \"gridwidth\": 2, \"linecolor\": \"white\", \"showbackground\": true, \"ticks\": \"\", \"zerolinecolor\": \"white\"}}, \"shapedefaults\": {\"line\": {\"color\": \"#2a3f5f\"}}, \"ternary\": {\"aaxis\": {\"gridcolor\": \"white\", \"linecolor\": \"white\", \"ticks\": \"\"}, \"baxis\": {\"gridcolor\": \"white\", \"linecolor\": \"white\", \"ticks\": \"\"}, \"bgcolor\": \"#E5ECF6\", \"caxis\": {\"gridcolor\": \"white\", \"linecolor\": \"white\", \"ticks\": \"\"}}, \"title\": {\"x\": 0.05}, \"xaxis\": {\"automargin\": true, \"gridcolor\": \"white\", \"linecolor\": \"white\", \"ticks\": \"\", \"title\": {\"standoff\": 15}, \"zerolinecolor\": \"white\", \"zerolinewidth\": 2}, \"yaxis\": {\"automargin\": true, \"gridcolor\": \"white\", \"linecolor\": \"white\", \"ticks\": \"\", \"title\": {\"standoff\": 15}, \"zerolinecolor\": \"white\", \"zerolinewidth\": 2}}}, \"title\": {\"text\": \"Optimization History Plot\"}, \"xaxis\": {\"title\": {\"text\": \"#Trials\"}}, \"yaxis\": {\"title\": {\"text\": \"Objective Value\"}}},\n",
              "                        {\"responsive\": true}\n",
              "                    ).then(function(){\n",
              "                            \n",
              "var gd = document.getElementById('4f9778c1-df6e-4a54-94e3-8798871ba8ff');\n",
              "var x = new MutationObserver(function (mutations, observer) {{\n",
              "        var display = window.getComputedStyle(gd).display;\n",
              "        if (!display || display === 'none') {{\n",
              "            console.log([gd, 'removed!']);\n",
              "            Plotly.purge(gd);\n",
              "            observer.disconnect();\n",
              "        }}\n",
              "}});\n",
              "\n",
              "// Listen for the removal of the full notebook cells\n",
              "var notebookContainer = gd.closest('#notebook-container');\n",
              "if (notebookContainer) {{\n",
              "    x.observe(notebookContainer, {childList: true});\n",
              "}}\n",
              "\n",
              "// Listen for the clearing of the current output cell\n",
              "var outputEl = gd.closest('.output');\n",
              "if (outputEl) {{\n",
              "    x.observe(outputEl, {childList: true});\n",
              "}}\n",
              "\n",
              "                        })\n",
              "                };\n",
              "                \n",
              "            </script>\n",
              "        </div>\n",
              "</body>\n",
              "</html>"
            ]
          },
          "metadata": {
            "tags": []
          }
        }
      ]
    },
    {
      "cell_type": "markdown",
      "metadata": {
        "id": "lrAOvQg8Q_0N"
      },
      "source": [
        "## KNN\n"
      ]
    },
    {
      "cell_type": "code",
      "metadata": {
        "id": "idQ3H6RWXVef"
      },
      "source": [
        "from sklearn.neighbors import KNeighborsClassifier"
      ],
      "execution_count": 20,
      "outputs": []
    },
    {
      "cell_type": "code",
      "metadata": {
        "id": "2sJNJwkJQ_0N"
      },
      "source": [
        "experiment_id = mlflow.create_experiment(name='knn')\n",
        "\n",
        "def knn(trial):\n",
        "  with mlflow.start_run(experiment_id=experiment_id):\n",
        "    # definição dos hiper-parâmetros\n",
        "    params = {'n_neighbors': trial.suggest_int('n_neighbors', 1, 28),\n",
        "              'algorithm': trial.suggest_categorical('algorithm', ['ball_tree', 'kd_tree', 'brute']),\n",
        "              'p': trial.suggest_int('p', 1, 10)}\n",
        "\n",
        "    model = KNeighborsClassifier(n_neighbors=params['n_neighbors'], algorithm=params['algorithm'], p=params['p'])\n",
        "\n",
        "    # treinamento\n",
        "    scores = cross_validate(model, x_battles, y_battles,\n",
        "                            scoring='accuracy', return_train_score=True)\n",
        "\n",
        "    # acurácias\n",
        "    test_accuracies = scores['test_score']\n",
        "    test_accuracy = test_accuracies.mean()\n",
        "    train_accuracies = scores['train_score']\n",
        "    train_accuracy = train_accuracies.mean()\n",
        "\n",
        "    # salvar acurácia de treinamento no trial\n",
        "    trial.set_user_attr('train_accuracy', train_accuracy)\n",
        "\n",
        "    # logging\n",
        "    mlflow.log_params(params)\n",
        "    mlflow.log_metric('test_accuracy', test_accuracy)\n",
        "    mlflow.log_metric('train_accuracy', train_accuracy)\n",
        "    mlflow.sklearn.log_model(model, \"model\")\n",
        "    mlflow.end_run()\n",
        "\n",
        "  return test_accuracy"
      ],
      "execution_count": 21,
      "outputs": []
    },
    {
      "cell_type": "code",
      "metadata": {
        "id": "RrJiZLodQ_0O",
        "colab": {
          "base_uri": "https://localhost:8080/"
        },
        "outputId": "2054e2ea-6634-439d-809c-d2ee9f2be4a7"
      },
      "source": [
        "study_KNN = optuna.create_study(direction='maximize')\n",
        "study_KNN.optimize(knn, n_trials=NUMBER_OF_TRIALS)"
      ],
      "execution_count": 22,
      "outputs": [
        {
          "output_type": "stream",
          "text": [
            "\u001b[32m[I 2021-08-17 02:39:11,985]\u001b[0m A new study created in memory with name: no-name-db148686-cbce-47f5-9a62-39d4aa692022\u001b[0m\n",
            "\u001b[32m[I 2021-08-17 02:39:13,666]\u001b[0m Trial 0 finished with value: 0.8607142857142858 and parameters: {'n_neighbors': 7, 'algorithm': 'brute', 'p': 2}. Best is trial 0 with value: 0.8607142857142858.\u001b[0m\n",
            "\u001b[32m[I 2021-08-17 02:39:17,602]\u001b[0m Trial 1 finished with value: 0.8607142857142858 and parameters: {'n_neighbors': 20, 'algorithm': 'ball_tree', 'p': 5}. Best is trial 0 with value: 0.8607142857142858.\u001b[0m\n",
            "\u001b[32m[I 2021-08-17 02:39:19,245]\u001b[0m Trial 2 finished with value: 0.8607142857142858 and parameters: {'n_neighbors': 16, 'algorithm': 'ball_tree', 'p': 6}. Best is trial 0 with value: 0.8607142857142858.\u001b[0m\n",
            "\u001b[32m[I 2021-08-17 02:39:21,075]\u001b[0m Trial 3 finished with value: 0.8321428571428571 and parameters: {'n_neighbors': 6, 'algorithm': 'ball_tree', 'p': 8}. Best is trial 0 with value: 0.8607142857142858.\u001b[0m\n",
            "\u001b[32m[I 2021-08-17 02:39:22,710]\u001b[0m Trial 4 finished with value: 0.8607142857142858 and parameters: {'n_neighbors': 14, 'algorithm': 'kd_tree', 'p': 7}. Best is trial 0 with value: 0.8607142857142858.\u001b[0m\n",
            "\u001b[32m[I 2021-08-17 02:39:24,581]\u001b[0m Trial 5 finished with value: 0.8857142857142858 and parameters: {'n_neighbors': 8, 'algorithm': 'ball_tree', 'p': 1}. Best is trial 5 with value: 0.8857142857142858.\u001b[0m\n",
            "\u001b[32m[I 2021-08-17 02:39:26,240]\u001b[0m Trial 6 finished with value: 0.8607142857142858 and parameters: {'n_neighbors': 15, 'algorithm': 'ball_tree', 'p': 1}. Best is trial 5 with value: 0.8857142857142858.\u001b[0m\n",
            "\u001b[32m[I 2021-08-17 02:39:27,856]\u001b[0m Trial 7 finished with value: 0.8607142857142858 and parameters: {'n_neighbors': 16, 'algorithm': 'brute', 'p': 4}. Best is trial 5 with value: 0.8857142857142858.\u001b[0m\n",
            "\u001b[32m[I 2021-08-17 02:39:29,758]\u001b[0m Trial 8 finished with value: 0.8607142857142858 and parameters: {'n_neighbors': 13, 'algorithm': 'kd_tree', 'p': 5}. Best is trial 5 with value: 0.8857142857142858.\u001b[0m\n",
            "\u001b[32m[I 2021-08-17 02:39:31,361]\u001b[0m Trial 9 finished with value: 0.8607142857142858 and parameters: {'n_neighbors': 14, 'algorithm': 'ball_tree', 'p': 3}. Best is trial 5 with value: 0.8857142857142858.\u001b[0m\n",
            "\u001b[32m[I 2021-08-17 02:39:32,968]\u001b[0m Trial 10 finished with value: 0.8107142857142857 and parameters: {'n_neighbors': 1, 'algorithm': 'kd_tree', 'p': 10}. Best is trial 5 with value: 0.8857142857142858.\u001b[0m\n",
            "\u001b[32m[I 2021-08-17 02:39:34,591]\u001b[0m Trial 11 finished with value: 0.8321428571428571 and parameters: {'n_neighbors': 5, 'algorithm': 'brute', 'p': 1}. Best is trial 5 with value: 0.8857142857142858.\u001b[0m\n",
            "\u001b[32m[I 2021-08-17 02:39:36,586]\u001b[0m Trial 12 finished with value: 0.8607142857142858 and parameters: {'n_neighbors': 8, 'algorithm': 'brute', 'p': 2}. Best is trial 5 with value: 0.8857142857142858.\u001b[0m\n",
            "\u001b[32m[I 2021-08-17 02:39:38,218]\u001b[0m Trial 13 finished with value: 0.8607142857142858 and parameters: {'n_neighbors': 27, 'algorithm': 'brute', 'p': 3}. Best is trial 5 with value: 0.8857142857142858.\u001b[0m\n",
            "\u001b[32m[I 2021-08-17 02:39:39,836]\u001b[0m Trial 14 finished with value: 0.8607142857142858 and parameters: {'n_neighbors': 9, 'algorithm': 'brute', 'p': 1}. Best is trial 5 with value: 0.8857142857142858.\u001b[0m\n",
            "\u001b[32m[I 2021-08-17 02:39:41,460]\u001b[0m Trial 15 finished with value: 0.7 and parameters: {'n_neighbors': 2, 'algorithm': 'ball_tree', 'p': 3}. Best is trial 5 with value: 0.8857142857142858.\u001b[0m\n",
            "\u001b[32m[I 2021-08-17 02:39:43,095]\u001b[0m Trial 16 finished with value: 0.8607142857142858 and parameters: {'n_neighbors': 10, 'algorithm': 'brute', 'p': 2}. Best is trial 5 with value: 0.8857142857142858.\u001b[0m\n",
            "\u001b[32m[I 2021-08-17 02:39:45,159]\u001b[0m Trial 17 finished with value: 0.8071428571428572 and parameters: {'n_neighbors': 4, 'algorithm': 'brute', 'p': 2}. Best is trial 5 with value: 0.8857142857142858.\u001b[0m\n",
            "\u001b[32m[I 2021-08-17 02:39:46,758]\u001b[0m Trial 18 finished with value: 0.8607142857142858 and parameters: {'n_neighbors': 20, 'algorithm': 'ball_tree', 'p': 4}. Best is trial 5 with value: 0.8857142857142858.\u001b[0m\n",
            "\u001b[32m[I 2021-08-17 02:39:48,388]\u001b[0m Trial 19 finished with value: 0.8607142857142858 and parameters: {'n_neighbors': 10, 'algorithm': 'kd_tree', 'p': 9}. Best is trial 5 with value: 0.8857142857142858.\u001b[0m\n",
            "\u001b[32m[I 2021-08-17 02:39:49,973]\u001b[0m Trial 20 finished with value: 0.8607142857142858 and parameters: {'n_neighbors': 7, 'algorithm': 'brute', 'p': 4}. Best is trial 5 with value: 0.8857142857142858.\u001b[0m\n",
            "\u001b[32m[I 2021-08-17 02:39:51,597]\u001b[0m Trial 21 finished with value: 0.8607142857142858 and parameters: {'n_neighbors': 21, 'algorithm': 'ball_tree', 'p': 4}. Best is trial 5 with value: 0.8857142857142858.\u001b[0m\n",
            "\u001b[32m[I 2021-08-17 02:39:53,239]\u001b[0m Trial 22 finished with value: 0.8607142857142858 and parameters: {'n_neighbors': 11, 'algorithm': 'kd_tree', 'p': 9}. Best is trial 5 with value: 0.8857142857142858.\u001b[0m\n",
            "\u001b[32m[I 2021-08-17 02:39:55,449]\u001b[0m Trial 23 finished with value: 0.8321428571428571 and parameters: {'n_neighbors': 6, 'algorithm': 'brute', 'p': 2}. Best is trial 5 with value: 0.8857142857142858.\u001b[0m\n",
            "\u001b[32m[I 2021-08-17 02:39:57,062]\u001b[0m Trial 24 finished with value: 0.8607142857142858 and parameters: {'n_neighbors': 11, 'algorithm': 'kd_tree', 'p': 7}. Best is trial 5 with value: 0.8857142857142858.\u001b[0m\n",
            "\u001b[32m[I 2021-08-17 02:39:58,662]\u001b[0m Trial 25 finished with value: 0.8607142857142858 and parameters: {'n_neighbors': 12, 'algorithm': 'kd_tree', 'p': 10}. Best is trial 5 with value: 0.8857142857142858.\u001b[0m\n",
            "\u001b[32m[I 2021-08-17 02:40:00,315]\u001b[0m Trial 26 finished with value: 0.8607142857142858 and parameters: {'n_neighbors': 3, 'algorithm': 'kd_tree', 'p': 8}. Best is trial 5 with value: 0.8857142857142858.\u001b[0m\n",
            "\u001b[32m[I 2021-08-17 02:40:01,946]\u001b[0m Trial 27 finished with value: 0.8607142857142858 and parameters: {'n_neighbors': 18, 'algorithm': 'kd_tree', 'p': 6}. Best is trial 5 with value: 0.8857142857142858.\u001b[0m\n",
            "\u001b[32m[I 2021-08-17 02:40:03,569]\u001b[0m Trial 28 finished with value: 0.8607142857142858 and parameters: {'n_neighbors': 12, 'algorithm': 'ball_tree', 'p': 10}. Best is trial 5 with value: 0.8857142857142858.\u001b[0m\n",
            "\u001b[32m[I 2021-08-17 02:40:05,211]\u001b[0m Trial 29 finished with value: 0.8607142857142858 and parameters: {'n_neighbors': 3, 'algorithm': 'kd_tree', 'p': 7}. Best is trial 5 with value: 0.8857142857142858.\u001b[0m\n",
            "\u001b[32m[I 2021-08-17 02:40:06,846]\u001b[0m Trial 30 finished with value: 0.8607142857142858 and parameters: {'n_neighbors': 19, 'algorithm': 'ball_tree', 'p': 6}. Best is trial 5 with value: 0.8857142857142858.\u001b[0m\n",
            "\u001b[32m[I 2021-08-17 02:40:09,238]\u001b[0m Trial 31 finished with value: 0.8607142857142858 and parameters: {'n_neighbors': 18, 'algorithm': 'ball_tree', 'p': 1}. Best is trial 5 with value: 0.8857142857142858.\u001b[0m\n",
            "\u001b[32m[I 2021-08-17 02:40:10,853]\u001b[0m Trial 32 finished with value: 0.8607142857142858 and parameters: {'n_neighbors': 8, 'algorithm': 'ball_tree', 'p': 7}. Best is trial 5 with value: 0.8857142857142858.\u001b[0m\n",
            "\u001b[32m[I 2021-08-17 02:40:12,510]\u001b[0m Trial 33 finished with value: 0.8607142857142858 and parameters: {'n_neighbors': 22, 'algorithm': 'ball_tree', 'p': 6}. Best is trial 5 with value: 0.8857142857142858.\u001b[0m\n",
            "\u001b[32m[I 2021-08-17 02:40:14,182]\u001b[0m Trial 34 finished with value: 0.8607142857142858 and parameters: {'n_neighbors': 24, 'algorithm': 'ball_tree', 'p': 1}. Best is trial 5 with value: 0.8857142857142858.\u001b[0m\n",
            "\u001b[32m[I 2021-08-17 02:40:15,779]\u001b[0m Trial 35 finished with value: 0.8607142857142858 and parameters: {'n_neighbors': 7, 'algorithm': 'brute', 'p': 3}. Best is trial 5 with value: 0.8857142857142858.\u001b[0m\n",
            "\u001b[32m[I 2021-08-17 02:40:17,418]\u001b[0m Trial 36 finished with value: 0.8607142857142858 and parameters: {'n_neighbors': 27, 'algorithm': 'brute', 'p': 4}. Best is trial 5 with value: 0.8857142857142858.\u001b[0m\n",
            "\u001b[32m[I 2021-08-17 02:40:19,045]\u001b[0m Trial 37 finished with value: 0.8321428571428571 and parameters: {'n_neighbors': 6, 'algorithm': 'brute', 'p': 5}. Best is trial 5 with value: 0.8857142857142858.\u001b[0m\n",
            "\u001b[32m[I 2021-08-17 02:40:20,713]\u001b[0m Trial 38 finished with value: 0.8607142857142858 and parameters: {'n_neighbors': 23, 'algorithm': 'ball_tree', 'p': 2}. Best is trial 5 with value: 0.8857142857142858.\u001b[0m\n",
            "\u001b[32m[I 2021-08-17 02:40:22,349]\u001b[0m Trial 39 finished with value: 0.8607142857142858 and parameters: {'n_neighbors': 11, 'algorithm': 'kd_tree', 'p': 8}. Best is trial 5 with value: 0.8857142857142858.\u001b[0m\n",
            "\u001b[32m[I 2021-08-17 02:40:24,862]\u001b[0m Trial 40 finished with value: 0.8607142857142858 and parameters: {'n_neighbors': 16, 'algorithm': 'ball_tree', 'p': 5}. Best is trial 5 with value: 0.8857142857142858.\u001b[0m\n",
            "\u001b[32m[I 2021-08-17 02:40:26,515]\u001b[0m Trial 41 finished with value: 0.8607142857142858 and parameters: {'n_neighbors': 12, 'algorithm': 'kd_tree', 'p': 9}. Best is trial 5 with value: 0.8857142857142858.\u001b[0m\n",
            "\u001b[32m[I 2021-08-17 02:40:28,148]\u001b[0m Trial 42 finished with value: 0.8607142857142858 and parameters: {'n_neighbors': 13, 'algorithm': 'kd_tree', 'p': 9}. Best is trial 5 with value: 0.8857142857142858.\u001b[0m\n",
            "\u001b[32m[I 2021-08-17 02:40:29,766]\u001b[0m Trial 43 finished with value: 0.8571428571428571 and parameters: {'n_neighbors': 5, 'algorithm': 'kd_tree', 'p': 8}. Best is trial 5 with value: 0.8857142857142858.\u001b[0m\n",
            "\u001b[32m[I 2021-08-17 02:40:31,350]\u001b[0m Trial 44 finished with value: 0.8107142857142857 and parameters: {'n_neighbors': 1, 'algorithm': 'kd_tree', 'p': 10}. Best is trial 5 with value: 0.8857142857142858.\u001b[0m\n",
            "\u001b[32m[I 2021-08-17 02:40:32,973]\u001b[0m Trial 45 finished with value: 0.8607142857142858 and parameters: {'n_neighbors': 18, 'algorithm': 'kd_tree', 'p': 6}. Best is trial 5 with value: 0.8857142857142858.\u001b[0m\n",
            "\u001b[32m[I 2021-08-17 02:40:34,613]\u001b[0m Trial 46 finished with value: 0.8607142857142858 and parameters: {'n_neighbors': 15, 'algorithm': 'kd_tree', 'p': 8}. Best is trial 5 with value: 0.8857142857142858.\u001b[0m\n",
            "\u001b[32m[I 2021-08-17 02:40:36,250]\u001b[0m Trial 47 finished with value: 0.8607142857142858 and parameters: {'n_neighbors': 9, 'algorithm': 'kd_tree', 'p': 7}. Best is trial 5 with value: 0.8857142857142858.\u001b[0m\n",
            "\u001b[32m[I 2021-08-17 02:40:37,885]\u001b[0m Trial 48 finished with value: 0.8607142857142858 and parameters: {'n_neighbors': 3, 'algorithm': 'kd_tree', 'p': 10}. Best is trial 5 with value: 0.8857142857142858.\u001b[0m\n",
            "\u001b[32m[I 2021-08-17 02:40:39,510]\u001b[0m Trial 49 finished with value: 0.8071428571428572 and parameters: {'n_neighbors': 4, 'algorithm': 'ball_tree', 'p': 8}. Best is trial 5 with value: 0.8857142857142858.\u001b[0m\n"
          ],
          "name": "stderr"
        }
      ]
    },
    {
      "cell_type": "code",
      "metadata": {
        "id": "Sx5C7AOWQ_0P",
        "colab": {
          "base_uri": "https://localhost:8080/"
        },
        "outputId": "5e607e7e-3365-49d0-841a-76cca87cacca"
      },
      "source": [
        "print('Best hyperparameters:\\t', study_KNN.best_trial.params)\n",
        "print('Training accuracy:\\t', study_KNN.best_trial.user_attrs['train_accuracy'])\n",
        "print('Test accuracy:\\t\\t', study_KNN.best_trial.value)"
      ],
      "execution_count": 23,
      "outputs": [
        {
          "output_type": "stream",
          "text": [
            "Best hyperparameters:\t {'n_neighbors': 8, 'algorithm': 'ball_tree', 'p': 1}\n",
            "Training accuracy:\t 0.8679802955665024\n",
            "Test accuracy:\t\t 0.8857142857142858\n"
          ],
          "name": "stdout"
        }
      ]
    },
    {
      "cell_type": "code",
      "metadata": {
        "id": "ix1T3i8cQ_0Q",
        "colab": {
          "base_uri": "https://localhost:8080/",
          "height": 542
        },
        "outputId": "7a540715-a4fa-4ee1-ca23-4845de0023c5"
      },
      "source": [
        "optuna.visualization.plot_optimization_history(study_KNN)"
      ],
      "execution_count": 24,
      "outputs": [
        {
          "output_type": "display_data",
          "data": {
            "text/html": [
              "<html>\n",
              "<head><meta charset=\"utf-8\" /></head>\n",
              "<body>\n",
              "    <div>\n",
              "            <script src=\"https://cdnjs.cloudflare.com/ajax/libs/mathjax/2.7.5/MathJax.js?config=TeX-AMS-MML_SVG\"></script><script type=\"text/javascript\">if (window.MathJax) {MathJax.Hub.Config({SVG: {font: \"STIX-Web\"}});}</script>\n",
              "                <script type=\"text/javascript\">window.PlotlyConfig = {MathJaxConfig: 'local'};</script>\n",
              "        <script src=\"https://cdn.plot.ly/plotly-latest.min.js\"></script>    \n",
              "            <div id=\"50a7cf37-cd04-4801-84f6-fb9b4e1531f6\" class=\"plotly-graph-div\" style=\"height:525px; width:100%;\"></div>\n",
              "            <script type=\"text/javascript\">\n",
              "                \n",
              "                    window.PLOTLYENV=window.PLOTLYENV || {};\n",
              "                    \n",
              "                if (document.getElementById(\"50a7cf37-cd04-4801-84f6-fb9b4e1531f6\")) {\n",
              "                    Plotly.newPlot(\n",
              "                        '50a7cf37-cd04-4801-84f6-fb9b4e1531f6',\n",
              "                        [{\"mode\": \"markers\", \"name\": \"Objective Value\", \"type\": \"scatter\", \"x\": [0, 1, 2, 3, 4, 5, 6, 7, 8, 9, 10, 11, 12, 13, 14, 15, 16, 17, 18, 19, 20, 21, 22, 23, 24, 25, 26, 27, 28, 29, 30, 31, 32, 33, 34, 35, 36, 37, 38, 39, 40, 41, 42, 43, 44, 45, 46, 47, 48, 49], \"y\": [0.8607142857142858, 0.8607142857142858, 0.8607142857142858, 0.8321428571428571, 0.8607142857142858, 0.8857142857142858, 0.8607142857142858, 0.8607142857142858, 0.8607142857142858, 0.8607142857142858, 0.8107142857142857, 0.8321428571428571, 0.8607142857142858, 0.8607142857142858, 0.8607142857142858, 0.7, 0.8607142857142858, 0.8071428571428572, 0.8607142857142858, 0.8607142857142858, 0.8607142857142858, 0.8607142857142858, 0.8607142857142858, 0.8321428571428571, 0.8607142857142858, 0.8607142857142858, 0.8607142857142858, 0.8607142857142858, 0.8607142857142858, 0.8607142857142858, 0.8607142857142858, 0.8607142857142858, 0.8607142857142858, 0.8607142857142858, 0.8607142857142858, 0.8607142857142858, 0.8607142857142858, 0.8321428571428571, 0.8607142857142858, 0.8607142857142858, 0.8607142857142858, 0.8607142857142858, 0.8607142857142858, 0.8571428571428571, 0.8107142857142857, 0.8607142857142858, 0.8607142857142858, 0.8607142857142858, 0.8607142857142858, 0.8071428571428572]}, {\"name\": \"Best Value\", \"type\": \"scatter\", \"x\": [0, 1, 2, 3, 4, 5, 6, 7, 8, 9, 10, 11, 12, 13, 14, 15, 16, 17, 18, 19, 20, 21, 22, 23, 24, 25, 26, 27, 28, 29, 30, 31, 32, 33, 34, 35, 36, 37, 38, 39, 40, 41, 42, 43, 44, 45, 46, 47, 48, 49], \"y\": [0.8607142857142858, 0.8607142857142858, 0.8607142857142858, 0.8607142857142858, 0.8607142857142858, 0.8857142857142858, 0.8857142857142858, 0.8857142857142858, 0.8857142857142858, 0.8857142857142858, 0.8857142857142858, 0.8857142857142858, 0.8857142857142858, 0.8857142857142858, 0.8857142857142858, 0.8857142857142858, 0.8857142857142858, 0.8857142857142858, 0.8857142857142858, 0.8857142857142858, 0.8857142857142858, 0.8857142857142858, 0.8857142857142858, 0.8857142857142858, 0.8857142857142858, 0.8857142857142858, 0.8857142857142858, 0.8857142857142858, 0.8857142857142858, 0.8857142857142858, 0.8857142857142858, 0.8857142857142858, 0.8857142857142858, 0.8857142857142858, 0.8857142857142858, 0.8857142857142858, 0.8857142857142858, 0.8857142857142858, 0.8857142857142858, 0.8857142857142858, 0.8857142857142858, 0.8857142857142858, 0.8857142857142858, 0.8857142857142858, 0.8857142857142858, 0.8857142857142858, 0.8857142857142858, 0.8857142857142858, 0.8857142857142858, 0.8857142857142858]}],\n",
              "                        {\"template\": {\"data\": {\"bar\": [{\"error_x\": {\"color\": \"#2a3f5f\"}, \"error_y\": {\"color\": \"#2a3f5f\"}, \"marker\": {\"line\": {\"color\": \"#E5ECF6\", \"width\": 0.5}}, \"type\": \"bar\"}], \"barpolar\": [{\"marker\": {\"line\": {\"color\": \"#E5ECF6\", \"width\": 0.5}}, \"type\": \"barpolar\"}], \"carpet\": [{\"aaxis\": {\"endlinecolor\": \"#2a3f5f\", \"gridcolor\": \"white\", \"linecolor\": \"white\", \"minorgridcolor\": \"white\", \"startlinecolor\": \"#2a3f5f\"}, \"baxis\": {\"endlinecolor\": \"#2a3f5f\", \"gridcolor\": \"white\", \"linecolor\": \"white\", \"minorgridcolor\": \"white\", \"startlinecolor\": \"#2a3f5f\"}, \"type\": \"carpet\"}], \"choropleth\": [{\"colorbar\": {\"outlinewidth\": 0, \"ticks\": \"\"}, \"type\": \"choropleth\"}], \"contour\": [{\"colorbar\": {\"outlinewidth\": 0, \"ticks\": \"\"}, \"colorscale\": [[0.0, \"#0d0887\"], [0.1111111111111111, \"#46039f\"], [0.2222222222222222, \"#7201a8\"], [0.3333333333333333, \"#9c179e\"], [0.4444444444444444, \"#bd3786\"], [0.5555555555555556, \"#d8576b\"], [0.6666666666666666, \"#ed7953\"], [0.7777777777777778, \"#fb9f3a\"], [0.8888888888888888, \"#fdca26\"], [1.0, \"#f0f921\"]], \"type\": \"contour\"}], \"contourcarpet\": [{\"colorbar\": {\"outlinewidth\": 0, \"ticks\": \"\"}, \"type\": \"contourcarpet\"}], \"heatmap\": [{\"colorbar\": {\"outlinewidth\": 0, \"ticks\": \"\"}, \"colorscale\": [[0.0, \"#0d0887\"], [0.1111111111111111, \"#46039f\"], [0.2222222222222222, \"#7201a8\"], [0.3333333333333333, \"#9c179e\"], [0.4444444444444444, \"#bd3786\"], [0.5555555555555556, \"#d8576b\"], [0.6666666666666666, \"#ed7953\"], [0.7777777777777778, \"#fb9f3a\"], [0.8888888888888888, \"#fdca26\"], [1.0, \"#f0f921\"]], \"type\": \"heatmap\"}], \"heatmapgl\": [{\"colorbar\": {\"outlinewidth\": 0, \"ticks\": \"\"}, \"colorscale\": [[0.0, \"#0d0887\"], [0.1111111111111111, \"#46039f\"], [0.2222222222222222, \"#7201a8\"], [0.3333333333333333, \"#9c179e\"], [0.4444444444444444, \"#bd3786\"], [0.5555555555555556, \"#d8576b\"], [0.6666666666666666, \"#ed7953\"], [0.7777777777777778, \"#fb9f3a\"], [0.8888888888888888, \"#fdca26\"], [1.0, \"#f0f921\"]], \"type\": \"heatmapgl\"}], \"histogram\": [{\"marker\": {\"colorbar\": {\"outlinewidth\": 0, \"ticks\": \"\"}}, \"type\": \"histogram\"}], \"histogram2d\": [{\"colorbar\": {\"outlinewidth\": 0, \"ticks\": \"\"}, \"colorscale\": [[0.0, \"#0d0887\"], [0.1111111111111111, \"#46039f\"], [0.2222222222222222, \"#7201a8\"], [0.3333333333333333, \"#9c179e\"], [0.4444444444444444, \"#bd3786\"], [0.5555555555555556, \"#d8576b\"], [0.6666666666666666, \"#ed7953\"], [0.7777777777777778, \"#fb9f3a\"], [0.8888888888888888, \"#fdca26\"], [1.0, \"#f0f921\"]], \"type\": \"histogram2d\"}], \"histogram2dcontour\": [{\"colorbar\": {\"outlinewidth\": 0, \"ticks\": \"\"}, \"colorscale\": [[0.0, \"#0d0887\"], [0.1111111111111111, \"#46039f\"], [0.2222222222222222, \"#7201a8\"], [0.3333333333333333, \"#9c179e\"], [0.4444444444444444, \"#bd3786\"], [0.5555555555555556, \"#d8576b\"], [0.6666666666666666, \"#ed7953\"], [0.7777777777777778, \"#fb9f3a\"], [0.8888888888888888, \"#fdca26\"], [1.0, \"#f0f921\"]], \"type\": \"histogram2dcontour\"}], \"mesh3d\": [{\"colorbar\": {\"outlinewidth\": 0, \"ticks\": \"\"}, \"type\": \"mesh3d\"}], \"parcoords\": [{\"line\": {\"colorbar\": {\"outlinewidth\": 0, \"ticks\": \"\"}}, \"type\": \"parcoords\"}], \"pie\": [{\"automargin\": true, \"type\": \"pie\"}], \"scatter\": [{\"marker\": {\"colorbar\": {\"outlinewidth\": 0, \"ticks\": \"\"}}, \"type\": \"scatter\"}], \"scatter3d\": [{\"line\": {\"colorbar\": {\"outlinewidth\": 0, \"ticks\": \"\"}}, \"marker\": {\"colorbar\": {\"outlinewidth\": 0, \"ticks\": \"\"}}, \"type\": \"scatter3d\"}], \"scattercarpet\": [{\"marker\": {\"colorbar\": {\"outlinewidth\": 0, \"ticks\": \"\"}}, \"type\": \"scattercarpet\"}], \"scattergeo\": [{\"marker\": {\"colorbar\": {\"outlinewidth\": 0, \"ticks\": \"\"}}, \"type\": \"scattergeo\"}], \"scattergl\": [{\"marker\": {\"colorbar\": {\"outlinewidth\": 0, \"ticks\": \"\"}}, \"type\": \"scattergl\"}], \"scattermapbox\": [{\"marker\": {\"colorbar\": {\"outlinewidth\": 0, \"ticks\": \"\"}}, \"type\": \"scattermapbox\"}], \"scatterpolar\": [{\"marker\": {\"colorbar\": {\"outlinewidth\": 0, \"ticks\": \"\"}}, \"type\": \"scatterpolar\"}], \"scatterpolargl\": [{\"marker\": {\"colorbar\": {\"outlinewidth\": 0, \"ticks\": \"\"}}, \"type\": \"scatterpolargl\"}], \"scatterternary\": [{\"marker\": {\"colorbar\": {\"outlinewidth\": 0, \"ticks\": \"\"}}, \"type\": \"scatterternary\"}], \"surface\": [{\"colorbar\": {\"outlinewidth\": 0, \"ticks\": \"\"}, \"colorscale\": [[0.0, \"#0d0887\"], [0.1111111111111111, \"#46039f\"], [0.2222222222222222, \"#7201a8\"], [0.3333333333333333, \"#9c179e\"], [0.4444444444444444, \"#bd3786\"], [0.5555555555555556, \"#d8576b\"], [0.6666666666666666, \"#ed7953\"], [0.7777777777777778, \"#fb9f3a\"], [0.8888888888888888, \"#fdca26\"], [1.0, \"#f0f921\"]], \"type\": \"surface\"}], \"table\": [{\"cells\": {\"fill\": {\"color\": \"#EBF0F8\"}, \"line\": {\"color\": \"white\"}}, \"header\": {\"fill\": {\"color\": \"#C8D4E3\"}, \"line\": {\"color\": \"white\"}}, \"type\": \"table\"}]}, \"layout\": {\"annotationdefaults\": {\"arrowcolor\": \"#2a3f5f\", \"arrowhead\": 0, \"arrowwidth\": 1}, \"coloraxis\": {\"colorbar\": {\"outlinewidth\": 0, \"ticks\": \"\"}}, \"colorscale\": {\"diverging\": [[0, \"#8e0152\"], [0.1, \"#c51b7d\"], [0.2, \"#de77ae\"], [0.3, \"#f1b6da\"], [0.4, \"#fde0ef\"], [0.5, \"#f7f7f7\"], [0.6, \"#e6f5d0\"], [0.7, \"#b8e186\"], [0.8, \"#7fbc41\"], [0.9, \"#4d9221\"], [1, \"#276419\"]], \"sequential\": [[0.0, \"#0d0887\"], [0.1111111111111111, \"#46039f\"], [0.2222222222222222, \"#7201a8\"], [0.3333333333333333, \"#9c179e\"], [0.4444444444444444, \"#bd3786\"], [0.5555555555555556, \"#d8576b\"], [0.6666666666666666, \"#ed7953\"], [0.7777777777777778, \"#fb9f3a\"], [0.8888888888888888, \"#fdca26\"], [1.0, \"#f0f921\"]], \"sequentialminus\": [[0.0, \"#0d0887\"], [0.1111111111111111, \"#46039f\"], [0.2222222222222222, \"#7201a8\"], [0.3333333333333333, \"#9c179e\"], [0.4444444444444444, \"#bd3786\"], [0.5555555555555556, \"#d8576b\"], [0.6666666666666666, \"#ed7953\"], [0.7777777777777778, \"#fb9f3a\"], [0.8888888888888888, \"#fdca26\"], [1.0, \"#f0f921\"]]}, \"colorway\": [\"#636efa\", \"#EF553B\", \"#00cc96\", \"#ab63fa\", \"#FFA15A\", \"#19d3f3\", \"#FF6692\", \"#B6E880\", \"#FF97FF\", \"#FECB52\"], \"font\": {\"color\": \"#2a3f5f\"}, \"geo\": {\"bgcolor\": \"white\", \"lakecolor\": \"white\", \"landcolor\": \"#E5ECF6\", \"showlakes\": true, \"showland\": true, \"subunitcolor\": \"white\"}, \"hoverlabel\": {\"align\": \"left\"}, \"hovermode\": \"closest\", \"mapbox\": {\"style\": \"light\"}, \"paper_bgcolor\": \"white\", \"plot_bgcolor\": \"#E5ECF6\", \"polar\": {\"angularaxis\": {\"gridcolor\": \"white\", \"linecolor\": \"white\", \"ticks\": \"\"}, \"bgcolor\": \"#E5ECF6\", \"radialaxis\": {\"gridcolor\": \"white\", \"linecolor\": \"white\", \"ticks\": \"\"}}, \"scene\": {\"xaxis\": {\"backgroundcolor\": \"#E5ECF6\", \"gridcolor\": \"white\", \"gridwidth\": 2, \"linecolor\": \"white\", \"showbackground\": true, \"ticks\": \"\", \"zerolinecolor\": \"white\"}, \"yaxis\": {\"backgroundcolor\": \"#E5ECF6\", \"gridcolor\": \"white\", \"gridwidth\": 2, \"linecolor\": \"white\", \"showbackground\": true, \"ticks\": \"\", \"zerolinecolor\": \"white\"}, \"zaxis\": {\"backgroundcolor\": \"#E5ECF6\", \"gridcolor\": \"white\", \"gridwidth\": 2, \"linecolor\": \"white\", \"showbackground\": true, \"ticks\": \"\", \"zerolinecolor\": \"white\"}}, \"shapedefaults\": {\"line\": {\"color\": \"#2a3f5f\"}}, \"ternary\": {\"aaxis\": {\"gridcolor\": \"white\", \"linecolor\": \"white\", \"ticks\": \"\"}, \"baxis\": {\"gridcolor\": \"white\", \"linecolor\": \"white\", \"ticks\": \"\"}, \"bgcolor\": \"#E5ECF6\", \"caxis\": {\"gridcolor\": \"white\", \"linecolor\": \"white\", \"ticks\": \"\"}}, \"title\": {\"x\": 0.05}, \"xaxis\": {\"automargin\": true, \"gridcolor\": \"white\", \"linecolor\": \"white\", \"ticks\": \"\", \"title\": {\"standoff\": 15}, \"zerolinecolor\": \"white\", \"zerolinewidth\": 2}, \"yaxis\": {\"automargin\": true, \"gridcolor\": \"white\", \"linecolor\": \"white\", \"ticks\": \"\", \"title\": {\"standoff\": 15}, \"zerolinecolor\": \"white\", \"zerolinewidth\": 2}}}, \"title\": {\"text\": \"Optimization History Plot\"}, \"xaxis\": {\"title\": {\"text\": \"#Trials\"}}, \"yaxis\": {\"title\": {\"text\": \"Objective Value\"}}},\n",
              "                        {\"responsive\": true}\n",
              "                    ).then(function(){\n",
              "                            \n",
              "var gd = document.getElementById('50a7cf37-cd04-4801-84f6-fb9b4e1531f6');\n",
              "var x = new MutationObserver(function (mutations, observer) {{\n",
              "        var display = window.getComputedStyle(gd).display;\n",
              "        if (!display || display === 'none') {{\n",
              "            console.log([gd, 'removed!']);\n",
              "            Plotly.purge(gd);\n",
              "            observer.disconnect();\n",
              "        }}\n",
              "}});\n",
              "\n",
              "// Listen for the removal of the full notebook cells\n",
              "var notebookContainer = gd.closest('#notebook-container');\n",
              "if (notebookContainer) {{\n",
              "    x.observe(notebookContainer, {childList: true});\n",
              "}}\n",
              "\n",
              "// Listen for the clearing of the current output cell\n",
              "var outputEl = gd.closest('.output');\n",
              "if (outputEl) {{\n",
              "    x.observe(outputEl, {childList: true});\n",
              "}}\n",
              "\n",
              "                        })\n",
              "                };\n",
              "                \n",
              "            </script>\n",
              "        </div>\n",
              "</body>\n",
              "</html>"
            ]
          },
          "metadata": {
            "tags": []
          }
        }
      ]
    },
    {
      "cell_type": "code",
      "metadata": {
        "id": "3AURYoZ7eAGh",
        "colab": {
          "base_uri": "https://localhost:8080/",
          "height": 578
        },
        "outputId": "e985a0e6-d179-4a3c-adf6-5e2b932fbd6a"
      },
      "source": [
        "plot_param_importances(study_KNN)"
      ],
      "execution_count": 25,
      "outputs": [
        {
          "output_type": "stream",
          "text": [
            "2021/08/17 02:40:39 INFO mlflow.utils.autologging_utils: Created MLflow autologging run with ID 'e069c5ce991f415496a26a0898094032', which will track hyperparameters, performance metrics, model artifacts, and lineage information for the current sklearn workflow\n"
          ],
          "name": "stderr"
        },
        {
          "output_type": "display_data",
          "data": {
            "text/html": [
              "<html>\n",
              "<head><meta charset=\"utf-8\" /></head>\n",
              "<body>\n",
              "    <div>\n",
              "            <script src=\"https://cdnjs.cloudflare.com/ajax/libs/mathjax/2.7.5/MathJax.js?config=TeX-AMS-MML_SVG\"></script><script type=\"text/javascript\">if (window.MathJax) {MathJax.Hub.Config({SVG: {font: \"STIX-Web\"}});}</script>\n",
              "                <script type=\"text/javascript\">window.PlotlyConfig = {MathJaxConfig: 'local'};</script>\n",
              "        <script src=\"https://cdn.plot.ly/plotly-latest.min.js\"></script>    \n",
              "            <div id=\"9e9fcfe7-799c-4f83-9e5e-e43e3874d9a4\" class=\"plotly-graph-div\" style=\"height:525px; width:100%;\"></div>\n",
              "            <script type=\"text/javascript\">\n",
              "                \n",
              "                    window.PLOTLYENV=window.PLOTLYENV || {};\n",
              "                    \n",
              "                if (document.getElementById(\"9e9fcfe7-799c-4f83-9e5e-e43e3874d9a4\")) {\n",
              "                    Plotly.newPlot(\n",
              "                        '9e9fcfe7-799c-4f83-9e5e-e43e3874d9a4',\n",
              "                        [{\"cliponaxis\": false, \"hovertemplate\": [\"p (IntUniformDistribution): 0.00848029364339926<extra></extra>\", \"algorithm (CategoricalDistribution): 0.04468801959597463<extra></extra>\", \"n_neighbors (IntUniformDistribution): 0.9468316867606261<extra></extra>\"], \"marker\": {\"color\": \"rgb(66,146,198)\"}, \"orientation\": \"h\", \"text\": [\"0.00848029364339926\", \"0.04468801959597463\", \"0.9468316867606261\"], \"textposition\": \"outside\", \"texttemplate\": \"%{text:.2f}\", \"type\": \"bar\", \"x\": [0.00848029364339926, 0.04468801959597463, 0.9468316867606261], \"y\": [\"p\", \"algorithm\", \"n_neighbors\"]}],\n",
              "                        {\"showlegend\": false, \"template\": {\"data\": {\"bar\": [{\"error_x\": {\"color\": \"#2a3f5f\"}, \"error_y\": {\"color\": \"#2a3f5f\"}, \"marker\": {\"line\": {\"color\": \"#E5ECF6\", \"width\": 0.5}}, \"type\": \"bar\"}], \"barpolar\": [{\"marker\": {\"line\": {\"color\": \"#E5ECF6\", \"width\": 0.5}}, \"type\": \"barpolar\"}], \"carpet\": [{\"aaxis\": {\"endlinecolor\": \"#2a3f5f\", \"gridcolor\": \"white\", \"linecolor\": \"white\", \"minorgridcolor\": \"white\", \"startlinecolor\": \"#2a3f5f\"}, \"baxis\": {\"endlinecolor\": \"#2a3f5f\", \"gridcolor\": \"white\", \"linecolor\": \"white\", \"minorgridcolor\": \"white\", \"startlinecolor\": \"#2a3f5f\"}, \"type\": \"carpet\"}], \"choropleth\": [{\"colorbar\": {\"outlinewidth\": 0, \"ticks\": \"\"}, \"type\": \"choropleth\"}], \"contour\": [{\"colorbar\": {\"outlinewidth\": 0, \"ticks\": \"\"}, \"colorscale\": [[0.0, \"#0d0887\"], [0.1111111111111111, \"#46039f\"], [0.2222222222222222, \"#7201a8\"], [0.3333333333333333, \"#9c179e\"], [0.4444444444444444, \"#bd3786\"], [0.5555555555555556, \"#d8576b\"], [0.6666666666666666, \"#ed7953\"], [0.7777777777777778, \"#fb9f3a\"], [0.8888888888888888, \"#fdca26\"], [1.0, \"#f0f921\"]], \"type\": \"contour\"}], \"contourcarpet\": [{\"colorbar\": {\"outlinewidth\": 0, \"ticks\": \"\"}, \"type\": \"contourcarpet\"}], \"heatmap\": [{\"colorbar\": {\"outlinewidth\": 0, \"ticks\": \"\"}, \"colorscale\": [[0.0, \"#0d0887\"], [0.1111111111111111, \"#46039f\"], [0.2222222222222222, \"#7201a8\"], [0.3333333333333333, \"#9c179e\"], [0.4444444444444444, \"#bd3786\"], [0.5555555555555556, \"#d8576b\"], [0.6666666666666666, \"#ed7953\"], [0.7777777777777778, \"#fb9f3a\"], [0.8888888888888888, \"#fdca26\"], [1.0, \"#f0f921\"]], \"type\": \"heatmap\"}], \"heatmapgl\": [{\"colorbar\": {\"outlinewidth\": 0, \"ticks\": \"\"}, \"colorscale\": [[0.0, \"#0d0887\"], [0.1111111111111111, \"#46039f\"], [0.2222222222222222, \"#7201a8\"], [0.3333333333333333, \"#9c179e\"], [0.4444444444444444, \"#bd3786\"], [0.5555555555555556, \"#d8576b\"], [0.6666666666666666, \"#ed7953\"], [0.7777777777777778, \"#fb9f3a\"], [0.8888888888888888, \"#fdca26\"], [1.0, \"#f0f921\"]], \"type\": \"heatmapgl\"}], \"histogram\": [{\"marker\": {\"colorbar\": {\"outlinewidth\": 0, \"ticks\": \"\"}}, \"type\": \"histogram\"}], \"histogram2d\": [{\"colorbar\": {\"outlinewidth\": 0, \"ticks\": \"\"}, \"colorscale\": [[0.0, \"#0d0887\"], [0.1111111111111111, \"#46039f\"], [0.2222222222222222, \"#7201a8\"], [0.3333333333333333, \"#9c179e\"], [0.4444444444444444, \"#bd3786\"], [0.5555555555555556, \"#d8576b\"], [0.6666666666666666, \"#ed7953\"], [0.7777777777777778, \"#fb9f3a\"], [0.8888888888888888, \"#fdca26\"], [1.0, \"#f0f921\"]], \"type\": \"histogram2d\"}], \"histogram2dcontour\": [{\"colorbar\": {\"outlinewidth\": 0, \"ticks\": \"\"}, \"colorscale\": [[0.0, \"#0d0887\"], [0.1111111111111111, \"#46039f\"], [0.2222222222222222, \"#7201a8\"], [0.3333333333333333, \"#9c179e\"], [0.4444444444444444, \"#bd3786\"], [0.5555555555555556, \"#d8576b\"], [0.6666666666666666, \"#ed7953\"], [0.7777777777777778, \"#fb9f3a\"], [0.8888888888888888, \"#fdca26\"], [1.0, \"#f0f921\"]], \"type\": \"histogram2dcontour\"}], \"mesh3d\": [{\"colorbar\": {\"outlinewidth\": 0, \"ticks\": \"\"}, \"type\": \"mesh3d\"}], \"parcoords\": [{\"line\": {\"colorbar\": {\"outlinewidth\": 0, \"ticks\": \"\"}}, \"type\": \"parcoords\"}], \"pie\": [{\"automargin\": true, \"type\": \"pie\"}], \"scatter\": [{\"marker\": {\"colorbar\": {\"outlinewidth\": 0, \"ticks\": \"\"}}, \"type\": \"scatter\"}], \"scatter3d\": [{\"line\": {\"colorbar\": {\"outlinewidth\": 0, \"ticks\": \"\"}}, \"marker\": {\"colorbar\": {\"outlinewidth\": 0, \"ticks\": \"\"}}, \"type\": \"scatter3d\"}], \"scattercarpet\": [{\"marker\": {\"colorbar\": {\"outlinewidth\": 0, \"ticks\": \"\"}}, \"type\": \"scattercarpet\"}], \"scattergeo\": [{\"marker\": {\"colorbar\": {\"outlinewidth\": 0, \"ticks\": \"\"}}, \"type\": \"scattergeo\"}], \"scattergl\": [{\"marker\": {\"colorbar\": {\"outlinewidth\": 0, \"ticks\": \"\"}}, \"type\": \"scattergl\"}], \"scattermapbox\": [{\"marker\": {\"colorbar\": {\"outlinewidth\": 0, \"ticks\": \"\"}}, \"type\": \"scattermapbox\"}], \"scatterpolar\": [{\"marker\": {\"colorbar\": {\"outlinewidth\": 0, \"ticks\": \"\"}}, \"type\": \"scatterpolar\"}], \"scatterpolargl\": [{\"marker\": {\"colorbar\": {\"outlinewidth\": 0, \"ticks\": \"\"}}, \"type\": \"scatterpolargl\"}], \"scatterternary\": [{\"marker\": {\"colorbar\": {\"outlinewidth\": 0, \"ticks\": \"\"}}, \"type\": \"scatterternary\"}], \"surface\": [{\"colorbar\": {\"outlinewidth\": 0, \"ticks\": \"\"}, \"colorscale\": [[0.0, \"#0d0887\"], [0.1111111111111111, \"#46039f\"], [0.2222222222222222, \"#7201a8\"], [0.3333333333333333, \"#9c179e\"], [0.4444444444444444, \"#bd3786\"], [0.5555555555555556, \"#d8576b\"], [0.6666666666666666, \"#ed7953\"], [0.7777777777777778, \"#fb9f3a\"], [0.8888888888888888, \"#fdca26\"], [1.0, \"#f0f921\"]], \"type\": \"surface\"}], \"table\": [{\"cells\": {\"fill\": {\"color\": \"#EBF0F8\"}, \"line\": {\"color\": \"white\"}}, \"header\": {\"fill\": {\"color\": \"#C8D4E3\"}, \"line\": {\"color\": \"white\"}}, \"type\": \"table\"}]}, \"layout\": {\"annotationdefaults\": {\"arrowcolor\": \"#2a3f5f\", \"arrowhead\": 0, \"arrowwidth\": 1}, \"coloraxis\": {\"colorbar\": {\"outlinewidth\": 0, \"ticks\": \"\"}}, \"colorscale\": {\"diverging\": [[0, \"#8e0152\"], [0.1, \"#c51b7d\"], [0.2, \"#de77ae\"], [0.3, \"#f1b6da\"], [0.4, \"#fde0ef\"], [0.5, \"#f7f7f7\"], [0.6, \"#e6f5d0\"], [0.7, \"#b8e186\"], [0.8, \"#7fbc41\"], [0.9, \"#4d9221\"], [1, \"#276419\"]], \"sequential\": [[0.0, \"#0d0887\"], [0.1111111111111111, \"#46039f\"], [0.2222222222222222, \"#7201a8\"], [0.3333333333333333, \"#9c179e\"], [0.4444444444444444, \"#bd3786\"], [0.5555555555555556, \"#d8576b\"], [0.6666666666666666, \"#ed7953\"], [0.7777777777777778, \"#fb9f3a\"], [0.8888888888888888, \"#fdca26\"], [1.0, \"#f0f921\"]], \"sequentialminus\": [[0.0, \"#0d0887\"], [0.1111111111111111, \"#46039f\"], [0.2222222222222222, \"#7201a8\"], [0.3333333333333333, \"#9c179e\"], [0.4444444444444444, \"#bd3786\"], [0.5555555555555556, \"#d8576b\"], [0.6666666666666666, \"#ed7953\"], [0.7777777777777778, \"#fb9f3a\"], [0.8888888888888888, \"#fdca26\"], [1.0, \"#f0f921\"]]}, \"colorway\": [\"#636efa\", \"#EF553B\", \"#00cc96\", \"#ab63fa\", \"#FFA15A\", \"#19d3f3\", \"#FF6692\", \"#B6E880\", \"#FF97FF\", \"#FECB52\"], \"font\": {\"color\": \"#2a3f5f\"}, \"geo\": {\"bgcolor\": \"white\", \"lakecolor\": \"white\", \"landcolor\": \"#E5ECF6\", \"showlakes\": true, \"showland\": true, \"subunitcolor\": \"white\"}, \"hoverlabel\": {\"align\": \"left\"}, \"hovermode\": \"closest\", \"mapbox\": {\"style\": \"light\"}, \"paper_bgcolor\": \"white\", \"plot_bgcolor\": \"#E5ECF6\", \"polar\": {\"angularaxis\": {\"gridcolor\": \"white\", \"linecolor\": \"white\", \"ticks\": \"\"}, \"bgcolor\": \"#E5ECF6\", \"radialaxis\": {\"gridcolor\": \"white\", \"linecolor\": \"white\", \"ticks\": \"\"}}, \"scene\": {\"xaxis\": {\"backgroundcolor\": \"#E5ECF6\", \"gridcolor\": \"white\", \"gridwidth\": 2, \"linecolor\": \"white\", \"showbackground\": true, \"ticks\": \"\", \"zerolinecolor\": \"white\"}, \"yaxis\": {\"backgroundcolor\": \"#E5ECF6\", \"gridcolor\": \"white\", \"gridwidth\": 2, \"linecolor\": \"white\", \"showbackground\": true, \"ticks\": \"\", \"zerolinecolor\": \"white\"}, \"zaxis\": {\"backgroundcolor\": \"#E5ECF6\", \"gridcolor\": \"white\", \"gridwidth\": 2, \"linecolor\": \"white\", \"showbackground\": true, \"ticks\": \"\", \"zerolinecolor\": \"white\"}}, \"shapedefaults\": {\"line\": {\"color\": \"#2a3f5f\"}}, \"ternary\": {\"aaxis\": {\"gridcolor\": \"white\", \"linecolor\": \"white\", \"ticks\": \"\"}, \"baxis\": {\"gridcolor\": \"white\", \"linecolor\": \"white\", \"ticks\": \"\"}, \"bgcolor\": \"#E5ECF6\", \"caxis\": {\"gridcolor\": \"white\", \"linecolor\": \"white\", \"ticks\": \"\"}}, \"title\": {\"x\": 0.05}, \"xaxis\": {\"automargin\": true, \"gridcolor\": \"white\", \"linecolor\": \"white\", \"ticks\": \"\", \"title\": {\"standoff\": 15}, \"zerolinecolor\": \"white\", \"zerolinewidth\": 2}, \"yaxis\": {\"automargin\": true, \"gridcolor\": \"white\", \"linecolor\": \"white\", \"ticks\": \"\", \"title\": {\"standoff\": 15}, \"zerolinecolor\": \"white\", \"zerolinewidth\": 2}}}, \"title\": {\"text\": \"Hyperparameter Importances\"}, \"xaxis\": {\"title\": {\"text\": \"Importance for Objective Value\"}}, \"yaxis\": {\"title\": {\"text\": \"Hyperparameter\"}}},\n",
              "                        {\"responsive\": true}\n",
              "                    ).then(function(){\n",
              "                            \n",
              "var gd = document.getElementById('9e9fcfe7-799c-4f83-9e5e-e43e3874d9a4');\n",
              "var x = new MutationObserver(function (mutations, observer) {{\n",
              "        var display = window.getComputedStyle(gd).display;\n",
              "        if (!display || display === 'none') {{\n",
              "            console.log([gd, 'removed!']);\n",
              "            Plotly.purge(gd);\n",
              "            observer.disconnect();\n",
              "        }}\n",
              "}});\n",
              "\n",
              "// Listen for the removal of the full notebook cells\n",
              "var notebookContainer = gd.closest('#notebook-container');\n",
              "if (notebookContainer) {{\n",
              "    x.observe(notebookContainer, {childList: true});\n",
              "}}\n",
              "\n",
              "// Listen for the clearing of the current output cell\n",
              "var outputEl = gd.closest('.output');\n",
              "if (outputEl) {{\n",
              "    x.observe(outputEl, {childList: true});\n",
              "}}\n",
              "\n",
              "                        })\n",
              "                };\n",
              "                \n",
              "            </script>\n",
              "        </div>\n",
              "</body>\n",
              "</html>"
            ]
          },
          "metadata": {
            "tags": []
          }
        }
      ]
    },
    {
      "cell_type": "markdown",
      "metadata": {
        "id": "gnLsv5-ZUVw6"
      },
      "source": [
        "## Decision Tree\n"
      ]
    },
    {
      "cell_type": "code",
      "metadata": {
        "id": "uk5miiTiXQtj"
      },
      "source": [
        "from sklearn.tree import DecisionTreeClassifier"
      ],
      "execution_count": 26,
      "outputs": []
    },
    {
      "cell_type": "code",
      "metadata": {
        "id": "sqvyYVGjUVxG"
      },
      "source": [
        "experiment_id = mlflow.create_experiment(name='decision_tree')\n",
        "\n",
        "def decision_tree(trial):\n",
        "  with mlflow.start_run(experiment_id=experiment_id):\n",
        "    # definição dos hiper-parâmetros\n",
        "    params = {'criterion': trial.suggest_categorical('criterion', ['gini', 'entropy']),\n",
        "              'max_features': trial.suggest_int('max_features', 1, len(x_battles.columns))}\n",
        "\n",
        "    model = DecisionTreeClassifier(criterion=params['criterion'], max_features=params['max_features'])\n",
        "\n",
        "    # treinamento\n",
        "    scores = cross_validate(model, x_battles, y_battles,\n",
        "                            scoring='accuracy', return_train_score=True)\n",
        "\n",
        "    # acurácias\n",
        "    test_accuracies = scores['test_score']\n",
        "    test_accuracy = test_accuracies.mean()\n",
        "    train_accuracies = scores['train_score']\n",
        "    train_accuracy = train_accuracies.mean()\n",
        "\n",
        "    # salvar acurácia de treinamento no trial\n",
        "    trial.set_user_attr('train_accuracy', train_accuracy)\n",
        "\n",
        "    # logging\n",
        "    mlflow.log_params(params)\n",
        "    mlflow.log_metric('test_accuracy', test_accuracy)\n",
        "    mlflow.log_metric('train_accuracy', train_accuracy)\n",
        "    mlflow.sklearn.log_model(model, \"model\")\n",
        "    mlflow.end_run()\n",
        "\n",
        "  return test_accuracy"
      ],
      "execution_count": 27,
      "outputs": []
    },
    {
      "cell_type": "code",
      "metadata": {
        "id": "m-8zZEWGUVxH",
        "colab": {
          "base_uri": "https://localhost:8080/"
        },
        "outputId": "bef77248-e78e-44cc-a979-b5fba391645c"
      },
      "source": [
        "study_DT = optuna.create_study(direction='maximize')\n",
        "study_DT.optimize(decision_tree, n_trials=NUMBER_OF_TRIALS)"
      ],
      "execution_count": 28,
      "outputs": [
        {
          "output_type": "stream",
          "text": [
            "\u001b[32m[I 2021-08-17 02:40:40,304]\u001b[0m A new study created in memory with name: no-name-d9111523-94e3-46e4-b94f-7fa516e95f84\u001b[0m\n",
            "\u001b[32m[I 2021-08-17 02:40:44,223]\u001b[0m Trial 0 finished with value: 0.6928571428571428 and parameters: {'criterion': 'gini', 'max_features': 77}. Best is trial 0 with value: 0.6928571428571428.\u001b[0m\n",
            "\u001b[32m[I 2021-08-17 02:40:45,864]\u001b[0m Trial 1 finished with value: 0.75 and parameters: {'criterion': 'entropy', 'max_features': 48}. Best is trial 1 with value: 0.75.\u001b[0m\n",
            "\u001b[32m[I 2021-08-17 02:40:47,651]\u001b[0m Trial 2 finished with value: 0.6928571428571428 and parameters: {'criterion': 'gini', 'max_features': 75}. Best is trial 1 with value: 0.75.\u001b[0m\n",
            "\u001b[32m[I 2021-08-17 02:40:49,283]\u001b[0m Trial 3 finished with value: 0.8 and parameters: {'criterion': 'gini', 'max_features': 109}. Best is trial 3 with value: 0.8.\u001b[0m\n",
            "\u001b[32m[I 2021-08-17 02:40:50,902]\u001b[0m Trial 4 finished with value: 0.8357142857142857 and parameters: {'criterion': 'gini', 'max_features': 24}. Best is trial 4 with value: 0.8357142857142857.\u001b[0m\n",
            "\u001b[32m[I 2021-08-17 02:40:52,703]\u001b[0m Trial 5 finished with value: 0.7214285714285714 and parameters: {'criterion': 'gini', 'max_features': 53}. Best is trial 4 with value: 0.8357142857142857.\u001b[0m\n",
            "\u001b[32m[I 2021-08-17 02:40:54,325]\u001b[0m Trial 6 finished with value: 0.8928571428571429 and parameters: {'criterion': 'gini', 'max_features': 6}. Best is trial 6 with value: 0.8928571428571429.\u001b[0m\n",
            "\u001b[32m[I 2021-08-17 02:40:55,951]\u001b[0m Trial 7 finished with value: 0.6928571428571428 and parameters: {'criterion': 'gini', 'max_features': 113}. Best is trial 6 with value: 0.8928571428571429.\u001b[0m\n",
            "\u001b[32m[I 2021-08-17 02:40:57,550]\u001b[0m Trial 8 finished with value: 0.6964285714285714 and parameters: {'criterion': 'entropy', 'max_features': 76}. Best is trial 6 with value: 0.8928571428571429.\u001b[0m\n",
            "\u001b[32m[I 2021-08-17 02:40:59,486]\u001b[0m Trial 9 finished with value: 0.7535714285714287 and parameters: {'criterion': 'gini', 'max_features': 34}. Best is trial 6 with value: 0.8928571428571429.\u001b[0m\n",
            "\u001b[32m[I 2021-08-17 02:41:01,098]\u001b[0m Trial 10 finished with value: 0.7785714285714287 and parameters: {'criterion': 'entropy', 'max_features': 1}. Best is trial 6 with value: 0.8928571428571429.\u001b[0m\n",
            "\u001b[32m[I 2021-08-17 02:41:02,694]\u001b[0m Trial 11 finished with value: 0.9178571428571429 and parameters: {'criterion': 'gini', 'max_features': 10}. Best is trial 11 with value: 0.9178571428571429.\u001b[0m\n",
            "\u001b[32m[I 2021-08-17 02:41:04,317]\u001b[0m Trial 12 finished with value: 0.8392857142857142 and parameters: {'criterion': 'gini', 'max_features': 2}. Best is trial 11 with value: 0.9178571428571429.\u001b[0m\n",
            "\u001b[32m[I 2021-08-17 02:41:06,310]\u001b[0m Trial 13 finished with value: 0.9142857142857143 and parameters: {'criterion': 'gini', 'max_features': 21}. Best is trial 11 with value: 0.9178571428571429.\u001b[0m\n",
            "\u001b[32m[I 2021-08-17 02:41:07,926]\u001b[0m Trial 14 finished with value: 0.725 and parameters: {'criterion': 'gini', 'max_features': 29}. Best is trial 11 with value: 0.9178571428571429.\u001b[0m\n",
            "\u001b[32m[I 2021-08-17 02:41:09,516]\u001b[0m Trial 15 finished with value: 0.8357142857142857 and parameters: {'criterion': 'entropy', 'max_features': 19}. Best is trial 11 with value: 0.9178571428571429.\u001b[0m\n",
            "\u001b[32m[I 2021-08-17 02:41:11,130]\u001b[0m Trial 16 finished with value: 0.7821428571428571 and parameters: {'criterion': 'gini', 'max_features': 42}. Best is trial 11 with value: 0.9178571428571429.\u001b[0m\n",
            "\u001b[32m[I 2021-08-17 02:41:12,721]\u001b[0m Trial 17 finished with value: 0.7214285714285714 and parameters: {'criterion': 'gini', 'max_features': 17}. Best is trial 11 with value: 0.9178571428571429.\u001b[0m\n",
            "\u001b[32m[I 2021-08-17 02:41:14,828]\u001b[0m Trial 18 finished with value: 0.7142857142857143 and parameters: {'criterion': 'entropy', 'max_features': 94}. Best is trial 11 with value: 0.9178571428571429.\u001b[0m\n",
            "\u001b[32m[I 2021-08-17 02:41:16,417]\u001b[0m Trial 19 finished with value: 0.9428571428571428 and parameters: {'criterion': 'gini', 'max_features': 62}. Best is trial 19 with value: 0.9428571428571428.\u001b[0m\n",
            "\u001b[32m[I 2021-08-17 02:41:18,014]\u001b[0m Trial 20 finished with value: 0.7250000000000001 and parameters: {'criterion': 'gini', 'max_features': 63}. Best is trial 19 with value: 0.9428571428571428.\u001b[0m\n",
            "\u001b[32m[I 2021-08-17 02:41:19,648]\u001b[0m Trial 21 finished with value: 0.7535714285714287 and parameters: {'criterion': 'gini', 'max_features': 14}. Best is trial 19 with value: 0.9428571428571428.\u001b[0m\n",
            "\u001b[32m[I 2021-08-17 02:41:21,300]\u001b[0m Trial 22 finished with value: 0.6964285714285714 and parameters: {'criterion': 'gini', 'max_features': 60}. Best is trial 19 with value: 0.9428571428571428.\u001b[0m\n",
            "\u001b[32m[I 2021-08-17 02:41:22,944]\u001b[0m Trial 23 finished with value: 0.8071428571428572 and parameters: {'criterion': 'gini', 'max_features': 40}. Best is trial 19 with value: 0.9428571428571428.\u001b[0m\n",
            "\u001b[32m[I 2021-08-17 02:41:25,157]\u001b[0m Trial 24 finished with value: 0.8285714285714286 and parameters: {'criterion': 'gini', 'max_features': 91}. Best is trial 19 with value: 0.9428571428571428.\u001b[0m\n",
            "\u001b[32m[I 2021-08-17 02:41:26,752]\u001b[0m Trial 25 finished with value: 0.725 and parameters: {'criterion': 'gini', 'max_features': 124}. Best is trial 19 with value: 0.9428571428571428.\u001b[0m\n",
            "\u001b[32m[I 2021-08-17 02:41:28,392]\u001b[0m Trial 26 finished with value: 0.7035714285714285 and parameters: {'criterion': 'entropy', 'max_features': 11}. Best is trial 19 with value: 0.9428571428571428.\u001b[0m\n",
            "\u001b[32m[I 2021-08-17 02:41:30,057]\u001b[0m Trial 27 finished with value: 0.8285714285714286 and parameters: {'criterion': 'gini', 'max_features': 30}. Best is trial 19 with value: 0.9428571428571428.\u001b[0m\n",
            "\u001b[32m[I 2021-08-17 02:41:31,679]\u001b[0m Trial 28 finished with value: 0.8285714285714285 and parameters: {'criterion': 'gini', 'max_features': 67}. Best is trial 19 with value: 0.9428571428571428.\u001b[0m\n",
            "\u001b[32m[I 2021-08-17 02:41:33,324]\u001b[0m Trial 29 finished with value: 0.8071428571428572 and parameters: {'criterion': 'gini', 'max_features': 88}. Best is trial 19 with value: 0.9428571428571428.\u001b[0m\n",
            "\u001b[32m[I 2021-08-17 02:41:34,942]\u001b[0m Trial 30 finished with value: 0.8107142857142857 and parameters: {'criterion': 'gini', 'max_features': 37}. Best is trial 19 with value: 0.9428571428571428.\u001b[0m\n",
            "\u001b[32m[I 2021-08-17 02:41:36,540]\u001b[0m Trial 31 finished with value: 0.7785714285714286 and parameters: {'criterion': 'gini', 'max_features': 8}. Best is trial 19 with value: 0.9428571428571428.\u001b[0m\n",
            "\u001b[32m[I 2021-08-17 02:41:38,940]\u001b[0m Trial 32 finished with value: 0.6857142857142857 and parameters: {'criterion': 'gini', 'max_features': 22}. Best is trial 19 with value: 0.9428571428571428.\u001b[0m\n",
            "\u001b[32m[I 2021-08-17 02:41:40,597]\u001b[0m Trial 33 finished with value: 0.7464285714285714 and parameters: {'criterion': 'gini', 'max_features': 9}. Best is trial 19 with value: 0.9428571428571428.\u001b[0m\n",
            "\u001b[32m[I 2021-08-17 02:41:42,199]\u001b[0m Trial 34 finished with value: 0.6678571428571429 and parameters: {'criterion': 'gini', 'max_features': 49}. Best is trial 19 with value: 0.9428571428571428.\u001b[0m\n",
            "\u001b[32m[I 2021-08-17 02:41:43,814]\u001b[0m Trial 35 finished with value: 0.7714285714285716 and parameters: {'criterion': 'gini', 'max_features': 26}. Best is trial 19 with value: 0.9428571428571428.\u001b[0m\n",
            "\u001b[32m[I 2021-08-17 02:41:45,446]\u001b[0m Trial 36 finished with value: 0.7285714285714286 and parameters: {'criterion': 'entropy', 'max_features': 4}. Best is trial 19 with value: 0.9428571428571428.\u001b[0m\n",
            "\u001b[32m[I 2021-08-17 02:41:47,082]\u001b[0m Trial 37 finished with value: 0.8357142857142857 and parameters: {'criterion': 'gini', 'max_features': 15}. Best is trial 19 with value: 0.9428571428571428.\u001b[0m\n",
            "\u001b[32m[I 2021-08-17 02:41:48,695]\u001b[0m Trial 38 finished with value: 0.7428571428571429 and parameters: {'criterion': 'gini', 'max_features': 55}. Best is trial 19 with value: 0.9428571428571428.\u001b[0m\n",
            "\u001b[32m[I 2021-08-17 02:41:50,321]\u001b[0m Trial 39 finished with value: 0.725 and parameters: {'criterion': 'gini', 'max_features': 85}. Best is trial 19 with value: 0.9428571428571428.\u001b[0m\n",
            "\u001b[32m[I 2021-08-17 02:41:51,917]\u001b[0m Trial 40 finished with value: 0.6892857142857143 and parameters: {'criterion': 'entropy', 'max_features': 100}. Best is trial 19 with value: 0.9428571428571428.\u001b[0m\n",
            "\u001b[32m[I 2021-08-17 02:41:53,567]\u001b[0m Trial 41 finished with value: 0.6071428571428571 and parameters: {'criterion': 'gini', 'max_features': 1}. Best is trial 19 with value: 0.9428571428571428.\u001b[0m\n",
            "\u001b[32m[I 2021-08-17 02:41:56,123]\u001b[0m Trial 42 finished with value: 0.8678571428571429 and parameters: {'criterion': 'gini', 'max_features': 5}. Best is trial 19 with value: 0.9428571428571428.\u001b[0m\n",
            "\u001b[32m[I 2021-08-17 02:41:57,720]\u001b[0m Trial 43 finished with value: 0.9464285714285714 and parameters: {'criterion': 'gini', 'max_features': 8}. Best is trial 43 with value: 0.9464285714285714.\u001b[0m\n",
            "\u001b[32m[I 2021-08-17 02:41:59,382]\u001b[0m Trial 44 finished with value: 0.6357142857142858 and parameters: {'criterion': 'gini', 'max_features': 23}. Best is trial 43 with value: 0.9464285714285714.\u001b[0m\n",
            "\u001b[32m[I 2021-08-17 02:42:01,013]\u001b[0m Trial 45 finished with value: 0.8285714285714286 and parameters: {'criterion': 'gini', 'max_features': 12}. Best is trial 43 with value: 0.9464285714285714.\u001b[0m\n",
            "\u001b[32m[I 2021-08-17 02:42:02,678]\u001b[0m Trial 46 finished with value: 0.8107142857142857 and parameters: {'criterion': 'gini', 'max_features': 32}. Best is trial 43 with value: 0.9464285714285714.\u001b[0m\n",
            "\u001b[32m[I 2021-08-17 02:42:04,301]\u001b[0m Trial 47 finished with value: 0.75 and parameters: {'criterion': 'gini', 'max_features': 19}. Best is trial 43 with value: 0.9464285714285714.\u001b[0m\n",
            "\u001b[32m[I 2021-08-17 02:42:05,946]\u001b[0m Trial 48 finished with value: 0.8892857142857142 and parameters: {'criterion': 'gini', 'max_features': 7}. Best is trial 43 with value: 0.9464285714285714.\u001b[0m\n",
            "\u001b[32m[I 2021-08-17 02:42:07,554]\u001b[0m Trial 49 finished with value: 0.6107142857142858 and parameters: {'criterion': 'entropy', 'max_features': 70}. Best is trial 43 with value: 0.9464285714285714.\u001b[0m\n"
          ],
          "name": "stderr"
        }
      ]
    },
    {
      "cell_type": "code",
      "metadata": {
        "id": "TOM1L6oEUVxH",
        "colab": {
          "base_uri": "https://localhost:8080/"
        },
        "outputId": "a4fffab0-9be1-49b3-8ce0-5ca05a2acde4"
      },
      "source": [
        "print('Best hyperparameters:\\t', study_DT.best_trial.params)\n",
        "print('Training accuracy:\\t', study_DT.best_trial.user_attrs['train_accuracy'])\n",
        "print('Test accuracy:\\t\\t', study_DT.best_trial.value)"
      ],
      "execution_count": 29,
      "outputs": [
        {
          "output_type": "stream",
          "text": [
            "Best hyperparameters:\t {'criterion': 'gini', 'max_features': 8}\n",
            "Training accuracy:\t 1.0\n",
            "Test accuracy:\t\t 0.9464285714285714\n"
          ],
          "name": "stdout"
        }
      ]
    },
    {
      "cell_type": "code",
      "metadata": {
        "id": "hsfz7ZNtUVxI",
        "colab": {
          "base_uri": "https://localhost:8080/",
          "height": 542
        },
        "outputId": "4b0f47a0-0c1e-415d-ce99-72a40adc6773"
      },
      "source": [
        "optuna.visualization.plot_optimization_history(study_DT)"
      ],
      "execution_count": 30,
      "outputs": [
        {
          "output_type": "display_data",
          "data": {
            "text/html": [
              "<html>\n",
              "<head><meta charset=\"utf-8\" /></head>\n",
              "<body>\n",
              "    <div>\n",
              "            <script src=\"https://cdnjs.cloudflare.com/ajax/libs/mathjax/2.7.5/MathJax.js?config=TeX-AMS-MML_SVG\"></script><script type=\"text/javascript\">if (window.MathJax) {MathJax.Hub.Config({SVG: {font: \"STIX-Web\"}});}</script>\n",
              "                <script type=\"text/javascript\">window.PlotlyConfig = {MathJaxConfig: 'local'};</script>\n",
              "        <script src=\"https://cdn.plot.ly/plotly-latest.min.js\"></script>    \n",
              "            <div id=\"612746f5-d43e-4fca-9c66-6f3efe92fa6c\" class=\"plotly-graph-div\" style=\"height:525px; width:100%;\"></div>\n",
              "            <script type=\"text/javascript\">\n",
              "                \n",
              "                    window.PLOTLYENV=window.PLOTLYENV || {};\n",
              "                    \n",
              "                if (document.getElementById(\"612746f5-d43e-4fca-9c66-6f3efe92fa6c\")) {\n",
              "                    Plotly.newPlot(\n",
              "                        '612746f5-d43e-4fca-9c66-6f3efe92fa6c',\n",
              "                        [{\"mode\": \"markers\", \"name\": \"Objective Value\", \"type\": \"scatter\", \"x\": [0, 1, 2, 3, 4, 5, 6, 7, 8, 9, 10, 11, 12, 13, 14, 15, 16, 17, 18, 19, 20, 21, 22, 23, 24, 25, 26, 27, 28, 29, 30, 31, 32, 33, 34, 35, 36, 37, 38, 39, 40, 41, 42, 43, 44, 45, 46, 47, 48, 49], \"y\": [0.6928571428571428, 0.75, 0.6928571428571428, 0.8, 0.8357142857142857, 0.7214285714285714, 0.8928571428571429, 0.6928571428571428, 0.6964285714285714, 0.7535714285714287, 0.7785714285714287, 0.9178571428571429, 0.8392857142857142, 0.9142857142857143, 0.725, 0.8357142857142857, 0.7821428571428571, 0.7214285714285714, 0.7142857142857143, 0.9428571428571428, 0.7250000000000001, 0.7535714285714287, 0.6964285714285714, 0.8071428571428572, 0.8285714285714286, 0.725, 0.7035714285714285, 0.8285714285714286, 0.8285714285714285, 0.8071428571428572, 0.8107142857142857, 0.7785714285714286, 0.6857142857142857, 0.7464285714285714, 0.6678571428571429, 0.7714285714285716, 0.7285714285714286, 0.8357142857142857, 0.7428571428571429, 0.725, 0.6892857142857143, 0.6071428571428571, 0.8678571428571429, 0.9464285714285714, 0.6357142857142858, 0.8285714285714286, 0.8107142857142857, 0.75, 0.8892857142857142, 0.6107142857142858]}, {\"name\": \"Best Value\", \"type\": \"scatter\", \"x\": [0, 1, 2, 3, 4, 5, 6, 7, 8, 9, 10, 11, 12, 13, 14, 15, 16, 17, 18, 19, 20, 21, 22, 23, 24, 25, 26, 27, 28, 29, 30, 31, 32, 33, 34, 35, 36, 37, 38, 39, 40, 41, 42, 43, 44, 45, 46, 47, 48, 49], \"y\": [0.6928571428571428, 0.75, 0.75, 0.8, 0.8357142857142857, 0.8357142857142857, 0.8928571428571429, 0.8928571428571429, 0.8928571428571429, 0.8928571428571429, 0.8928571428571429, 0.9178571428571429, 0.9178571428571429, 0.9178571428571429, 0.9178571428571429, 0.9178571428571429, 0.9178571428571429, 0.9178571428571429, 0.9178571428571429, 0.9428571428571428, 0.9428571428571428, 0.9428571428571428, 0.9428571428571428, 0.9428571428571428, 0.9428571428571428, 0.9428571428571428, 0.9428571428571428, 0.9428571428571428, 0.9428571428571428, 0.9428571428571428, 0.9428571428571428, 0.9428571428571428, 0.9428571428571428, 0.9428571428571428, 0.9428571428571428, 0.9428571428571428, 0.9428571428571428, 0.9428571428571428, 0.9428571428571428, 0.9428571428571428, 0.9428571428571428, 0.9428571428571428, 0.9428571428571428, 0.9464285714285714, 0.9464285714285714, 0.9464285714285714, 0.9464285714285714, 0.9464285714285714, 0.9464285714285714, 0.9464285714285714]}],\n",
              "                        {\"template\": {\"data\": {\"bar\": [{\"error_x\": {\"color\": \"#2a3f5f\"}, \"error_y\": {\"color\": \"#2a3f5f\"}, \"marker\": {\"line\": {\"color\": \"#E5ECF6\", \"width\": 0.5}}, \"type\": \"bar\"}], \"barpolar\": [{\"marker\": {\"line\": {\"color\": \"#E5ECF6\", \"width\": 0.5}}, \"type\": \"barpolar\"}], \"carpet\": [{\"aaxis\": {\"endlinecolor\": \"#2a3f5f\", \"gridcolor\": \"white\", \"linecolor\": \"white\", \"minorgridcolor\": \"white\", \"startlinecolor\": \"#2a3f5f\"}, \"baxis\": {\"endlinecolor\": \"#2a3f5f\", \"gridcolor\": \"white\", \"linecolor\": \"white\", \"minorgridcolor\": \"white\", \"startlinecolor\": \"#2a3f5f\"}, \"type\": \"carpet\"}], \"choropleth\": [{\"colorbar\": {\"outlinewidth\": 0, \"ticks\": \"\"}, \"type\": \"choropleth\"}], \"contour\": [{\"colorbar\": {\"outlinewidth\": 0, \"ticks\": \"\"}, \"colorscale\": [[0.0, \"#0d0887\"], [0.1111111111111111, \"#46039f\"], [0.2222222222222222, \"#7201a8\"], [0.3333333333333333, \"#9c179e\"], [0.4444444444444444, \"#bd3786\"], [0.5555555555555556, \"#d8576b\"], [0.6666666666666666, \"#ed7953\"], [0.7777777777777778, \"#fb9f3a\"], [0.8888888888888888, \"#fdca26\"], [1.0, \"#f0f921\"]], \"type\": \"contour\"}], \"contourcarpet\": [{\"colorbar\": {\"outlinewidth\": 0, \"ticks\": \"\"}, \"type\": \"contourcarpet\"}], \"heatmap\": [{\"colorbar\": {\"outlinewidth\": 0, \"ticks\": \"\"}, \"colorscale\": [[0.0, \"#0d0887\"], [0.1111111111111111, \"#46039f\"], [0.2222222222222222, \"#7201a8\"], [0.3333333333333333, \"#9c179e\"], [0.4444444444444444, \"#bd3786\"], [0.5555555555555556, \"#d8576b\"], [0.6666666666666666, \"#ed7953\"], [0.7777777777777778, \"#fb9f3a\"], [0.8888888888888888, \"#fdca26\"], [1.0, \"#f0f921\"]], \"type\": \"heatmap\"}], \"heatmapgl\": [{\"colorbar\": {\"outlinewidth\": 0, \"ticks\": \"\"}, \"colorscale\": [[0.0, \"#0d0887\"], [0.1111111111111111, \"#46039f\"], [0.2222222222222222, \"#7201a8\"], [0.3333333333333333, \"#9c179e\"], [0.4444444444444444, \"#bd3786\"], [0.5555555555555556, \"#d8576b\"], [0.6666666666666666, \"#ed7953\"], [0.7777777777777778, \"#fb9f3a\"], [0.8888888888888888, \"#fdca26\"], [1.0, \"#f0f921\"]], \"type\": \"heatmapgl\"}], \"histogram\": [{\"marker\": {\"colorbar\": {\"outlinewidth\": 0, \"ticks\": \"\"}}, \"type\": \"histogram\"}], \"histogram2d\": [{\"colorbar\": {\"outlinewidth\": 0, \"ticks\": \"\"}, \"colorscale\": [[0.0, \"#0d0887\"], [0.1111111111111111, \"#46039f\"], [0.2222222222222222, \"#7201a8\"], [0.3333333333333333, \"#9c179e\"], [0.4444444444444444, \"#bd3786\"], [0.5555555555555556, \"#d8576b\"], [0.6666666666666666, \"#ed7953\"], [0.7777777777777778, \"#fb9f3a\"], [0.8888888888888888, \"#fdca26\"], [1.0, \"#f0f921\"]], \"type\": \"histogram2d\"}], \"histogram2dcontour\": [{\"colorbar\": {\"outlinewidth\": 0, \"ticks\": \"\"}, \"colorscale\": [[0.0, \"#0d0887\"], [0.1111111111111111, \"#46039f\"], [0.2222222222222222, \"#7201a8\"], [0.3333333333333333, \"#9c179e\"], [0.4444444444444444, \"#bd3786\"], [0.5555555555555556, \"#d8576b\"], [0.6666666666666666, \"#ed7953\"], [0.7777777777777778, \"#fb9f3a\"], [0.8888888888888888, \"#fdca26\"], [1.0, \"#f0f921\"]], \"type\": \"histogram2dcontour\"}], \"mesh3d\": [{\"colorbar\": {\"outlinewidth\": 0, \"ticks\": \"\"}, \"type\": \"mesh3d\"}], \"parcoords\": [{\"line\": {\"colorbar\": {\"outlinewidth\": 0, \"ticks\": \"\"}}, \"type\": \"parcoords\"}], \"pie\": [{\"automargin\": true, \"type\": \"pie\"}], \"scatter\": [{\"marker\": {\"colorbar\": {\"outlinewidth\": 0, \"ticks\": \"\"}}, \"type\": \"scatter\"}], \"scatter3d\": [{\"line\": {\"colorbar\": {\"outlinewidth\": 0, \"ticks\": \"\"}}, \"marker\": {\"colorbar\": {\"outlinewidth\": 0, \"ticks\": \"\"}}, \"type\": \"scatter3d\"}], \"scattercarpet\": [{\"marker\": {\"colorbar\": {\"outlinewidth\": 0, \"ticks\": \"\"}}, \"type\": \"scattercarpet\"}], \"scattergeo\": [{\"marker\": {\"colorbar\": {\"outlinewidth\": 0, \"ticks\": \"\"}}, \"type\": \"scattergeo\"}], \"scattergl\": [{\"marker\": {\"colorbar\": {\"outlinewidth\": 0, \"ticks\": \"\"}}, \"type\": \"scattergl\"}], \"scattermapbox\": [{\"marker\": {\"colorbar\": {\"outlinewidth\": 0, \"ticks\": \"\"}}, \"type\": \"scattermapbox\"}], \"scatterpolar\": [{\"marker\": {\"colorbar\": {\"outlinewidth\": 0, \"ticks\": \"\"}}, \"type\": \"scatterpolar\"}], \"scatterpolargl\": [{\"marker\": {\"colorbar\": {\"outlinewidth\": 0, \"ticks\": \"\"}}, \"type\": \"scatterpolargl\"}], \"scatterternary\": [{\"marker\": {\"colorbar\": {\"outlinewidth\": 0, \"ticks\": \"\"}}, \"type\": \"scatterternary\"}], \"surface\": [{\"colorbar\": {\"outlinewidth\": 0, \"ticks\": \"\"}, \"colorscale\": [[0.0, \"#0d0887\"], [0.1111111111111111, \"#46039f\"], [0.2222222222222222, \"#7201a8\"], [0.3333333333333333, \"#9c179e\"], [0.4444444444444444, \"#bd3786\"], [0.5555555555555556, \"#d8576b\"], [0.6666666666666666, \"#ed7953\"], [0.7777777777777778, \"#fb9f3a\"], [0.8888888888888888, \"#fdca26\"], [1.0, \"#f0f921\"]], \"type\": \"surface\"}], \"table\": [{\"cells\": {\"fill\": {\"color\": \"#EBF0F8\"}, \"line\": {\"color\": \"white\"}}, \"header\": {\"fill\": {\"color\": \"#C8D4E3\"}, \"line\": {\"color\": \"white\"}}, \"type\": \"table\"}]}, \"layout\": {\"annotationdefaults\": {\"arrowcolor\": \"#2a3f5f\", \"arrowhead\": 0, \"arrowwidth\": 1}, \"coloraxis\": {\"colorbar\": {\"outlinewidth\": 0, \"ticks\": \"\"}}, \"colorscale\": {\"diverging\": [[0, \"#8e0152\"], [0.1, \"#c51b7d\"], [0.2, \"#de77ae\"], [0.3, \"#f1b6da\"], [0.4, \"#fde0ef\"], [0.5, \"#f7f7f7\"], [0.6, \"#e6f5d0\"], [0.7, \"#b8e186\"], [0.8, \"#7fbc41\"], [0.9, \"#4d9221\"], [1, \"#276419\"]], \"sequential\": [[0.0, \"#0d0887\"], [0.1111111111111111, \"#46039f\"], [0.2222222222222222, \"#7201a8\"], [0.3333333333333333, \"#9c179e\"], [0.4444444444444444, \"#bd3786\"], [0.5555555555555556, \"#d8576b\"], [0.6666666666666666, \"#ed7953\"], [0.7777777777777778, \"#fb9f3a\"], [0.8888888888888888, \"#fdca26\"], [1.0, \"#f0f921\"]], \"sequentialminus\": [[0.0, \"#0d0887\"], [0.1111111111111111, \"#46039f\"], [0.2222222222222222, \"#7201a8\"], [0.3333333333333333, \"#9c179e\"], [0.4444444444444444, \"#bd3786\"], [0.5555555555555556, \"#d8576b\"], [0.6666666666666666, \"#ed7953\"], [0.7777777777777778, \"#fb9f3a\"], [0.8888888888888888, \"#fdca26\"], [1.0, \"#f0f921\"]]}, \"colorway\": [\"#636efa\", \"#EF553B\", \"#00cc96\", \"#ab63fa\", \"#FFA15A\", \"#19d3f3\", \"#FF6692\", \"#B6E880\", \"#FF97FF\", \"#FECB52\"], \"font\": {\"color\": \"#2a3f5f\"}, \"geo\": {\"bgcolor\": \"white\", \"lakecolor\": \"white\", \"landcolor\": \"#E5ECF6\", \"showlakes\": true, \"showland\": true, \"subunitcolor\": \"white\"}, \"hoverlabel\": {\"align\": \"left\"}, \"hovermode\": \"closest\", \"mapbox\": {\"style\": \"light\"}, \"paper_bgcolor\": \"white\", \"plot_bgcolor\": \"#E5ECF6\", \"polar\": {\"angularaxis\": {\"gridcolor\": \"white\", \"linecolor\": \"white\", \"ticks\": \"\"}, \"bgcolor\": \"#E5ECF6\", \"radialaxis\": {\"gridcolor\": \"white\", \"linecolor\": \"white\", \"ticks\": \"\"}}, \"scene\": {\"xaxis\": {\"backgroundcolor\": \"#E5ECF6\", \"gridcolor\": \"white\", \"gridwidth\": 2, \"linecolor\": \"white\", \"showbackground\": true, \"ticks\": \"\", \"zerolinecolor\": \"white\"}, \"yaxis\": {\"backgroundcolor\": \"#E5ECF6\", \"gridcolor\": \"white\", \"gridwidth\": 2, \"linecolor\": \"white\", \"showbackground\": true, \"ticks\": \"\", \"zerolinecolor\": \"white\"}, \"zaxis\": {\"backgroundcolor\": \"#E5ECF6\", \"gridcolor\": \"white\", \"gridwidth\": 2, \"linecolor\": \"white\", \"showbackground\": true, \"ticks\": \"\", \"zerolinecolor\": \"white\"}}, \"shapedefaults\": {\"line\": {\"color\": \"#2a3f5f\"}}, \"ternary\": {\"aaxis\": {\"gridcolor\": \"white\", \"linecolor\": \"white\", \"ticks\": \"\"}, \"baxis\": {\"gridcolor\": \"white\", \"linecolor\": \"white\", \"ticks\": \"\"}, \"bgcolor\": \"#E5ECF6\", \"caxis\": {\"gridcolor\": \"white\", \"linecolor\": \"white\", \"ticks\": \"\"}}, \"title\": {\"x\": 0.05}, \"xaxis\": {\"automargin\": true, \"gridcolor\": \"white\", \"linecolor\": \"white\", \"ticks\": \"\", \"title\": {\"standoff\": 15}, \"zerolinecolor\": \"white\", \"zerolinewidth\": 2}, \"yaxis\": {\"automargin\": true, \"gridcolor\": \"white\", \"linecolor\": \"white\", \"ticks\": \"\", \"title\": {\"standoff\": 15}, \"zerolinecolor\": \"white\", \"zerolinewidth\": 2}}}, \"title\": {\"text\": \"Optimization History Plot\"}, \"xaxis\": {\"title\": {\"text\": \"#Trials\"}}, \"yaxis\": {\"title\": {\"text\": \"Objective Value\"}}},\n",
              "                        {\"responsive\": true}\n",
              "                    ).then(function(){\n",
              "                            \n",
              "var gd = document.getElementById('612746f5-d43e-4fca-9c66-6f3efe92fa6c');\n",
              "var x = new MutationObserver(function (mutations, observer) {{\n",
              "        var display = window.getComputedStyle(gd).display;\n",
              "        if (!display || display === 'none') {{\n",
              "            console.log([gd, 'removed!']);\n",
              "            Plotly.purge(gd);\n",
              "            observer.disconnect();\n",
              "        }}\n",
              "}});\n",
              "\n",
              "// Listen for the removal of the full notebook cells\n",
              "var notebookContainer = gd.closest('#notebook-container');\n",
              "if (notebookContainer) {{\n",
              "    x.observe(notebookContainer, {childList: true});\n",
              "}}\n",
              "\n",
              "// Listen for the clearing of the current output cell\n",
              "var outputEl = gd.closest('.output');\n",
              "if (outputEl) {{\n",
              "    x.observe(outputEl, {childList: true});\n",
              "}}\n",
              "\n",
              "                        })\n",
              "                };\n",
              "                \n",
              "            </script>\n",
              "        </div>\n",
              "</body>\n",
              "</html>"
            ]
          },
          "metadata": {
            "tags": []
          }
        }
      ]
    },
    {
      "cell_type": "code",
      "metadata": {
        "id": "KUIdCvcKeC_b",
        "colab": {
          "base_uri": "https://localhost:8080/",
          "height": 578
        },
        "outputId": "28480637-f1a6-46da-f499-a109f5000d12"
      },
      "source": [
        "plot_param_importances(study_DT)"
      ],
      "execution_count": 31,
      "outputs": [
        {
          "output_type": "stream",
          "text": [
            "2021/08/17 02:42:07 INFO mlflow.utils.autologging_utils: Created MLflow autologging run with ID 'dff4adec41424dd2b792b4701b55bb0c', which will track hyperparameters, performance metrics, model artifacts, and lineage information for the current sklearn workflow\n"
          ],
          "name": "stderr"
        },
        {
          "output_type": "display_data",
          "data": {
            "text/html": [
              "<html>\n",
              "<head><meta charset=\"utf-8\" /></head>\n",
              "<body>\n",
              "    <div>\n",
              "            <script src=\"https://cdnjs.cloudflare.com/ajax/libs/mathjax/2.7.5/MathJax.js?config=TeX-AMS-MML_SVG\"></script><script type=\"text/javascript\">if (window.MathJax) {MathJax.Hub.Config({SVG: {font: \"STIX-Web\"}});}</script>\n",
              "                <script type=\"text/javascript\">window.PlotlyConfig = {MathJaxConfig: 'local'};</script>\n",
              "        <script src=\"https://cdn.plot.ly/plotly-latest.min.js\"></script>    \n",
              "            <div id=\"748ebbd5-3c9e-423c-b494-ca5ca1aba931\" class=\"plotly-graph-div\" style=\"height:525px; width:100%;\"></div>\n",
              "            <script type=\"text/javascript\">\n",
              "                \n",
              "                    window.PLOTLYENV=window.PLOTLYENV || {};\n",
              "                    \n",
              "                if (document.getElementById(\"748ebbd5-3c9e-423c-b494-ca5ca1aba931\")) {\n",
              "                    Plotly.newPlot(\n",
              "                        '748ebbd5-3c9e-423c-b494-ca5ca1aba931',\n",
              "                        [{\"cliponaxis\": false, \"hovertemplate\": [\"criterion (CategoricalDistribution): 0.15354001085673938<extra></extra>\", \"max_features (IntUniformDistribution): 0.8464599891432606<extra></extra>\"], \"marker\": {\"color\": \"rgb(66,146,198)\"}, \"orientation\": \"h\", \"text\": [\"0.15354001085673938\", \"0.8464599891432606\"], \"textposition\": \"outside\", \"texttemplate\": \"%{text:.2f}\", \"type\": \"bar\", \"x\": [0.15354001085673938, 0.8464599891432606], \"y\": [\"criterion\", \"max_features\"]}],\n",
              "                        {\"showlegend\": false, \"template\": {\"data\": {\"bar\": [{\"error_x\": {\"color\": \"#2a3f5f\"}, \"error_y\": {\"color\": \"#2a3f5f\"}, \"marker\": {\"line\": {\"color\": \"#E5ECF6\", \"width\": 0.5}}, \"type\": \"bar\"}], \"barpolar\": [{\"marker\": {\"line\": {\"color\": \"#E5ECF6\", \"width\": 0.5}}, \"type\": \"barpolar\"}], \"carpet\": [{\"aaxis\": {\"endlinecolor\": \"#2a3f5f\", \"gridcolor\": \"white\", \"linecolor\": \"white\", \"minorgridcolor\": \"white\", \"startlinecolor\": \"#2a3f5f\"}, \"baxis\": {\"endlinecolor\": \"#2a3f5f\", \"gridcolor\": \"white\", \"linecolor\": \"white\", \"minorgridcolor\": \"white\", \"startlinecolor\": \"#2a3f5f\"}, \"type\": \"carpet\"}], \"choropleth\": [{\"colorbar\": {\"outlinewidth\": 0, \"ticks\": \"\"}, \"type\": \"choropleth\"}], \"contour\": [{\"colorbar\": {\"outlinewidth\": 0, \"ticks\": \"\"}, \"colorscale\": [[0.0, \"#0d0887\"], [0.1111111111111111, \"#46039f\"], [0.2222222222222222, \"#7201a8\"], [0.3333333333333333, \"#9c179e\"], [0.4444444444444444, \"#bd3786\"], [0.5555555555555556, \"#d8576b\"], [0.6666666666666666, \"#ed7953\"], [0.7777777777777778, \"#fb9f3a\"], [0.8888888888888888, \"#fdca26\"], [1.0, \"#f0f921\"]], \"type\": \"contour\"}], \"contourcarpet\": [{\"colorbar\": {\"outlinewidth\": 0, \"ticks\": \"\"}, \"type\": \"contourcarpet\"}], \"heatmap\": [{\"colorbar\": {\"outlinewidth\": 0, \"ticks\": \"\"}, \"colorscale\": [[0.0, \"#0d0887\"], [0.1111111111111111, \"#46039f\"], [0.2222222222222222, \"#7201a8\"], [0.3333333333333333, \"#9c179e\"], [0.4444444444444444, \"#bd3786\"], [0.5555555555555556, \"#d8576b\"], [0.6666666666666666, \"#ed7953\"], [0.7777777777777778, \"#fb9f3a\"], [0.8888888888888888, \"#fdca26\"], [1.0, \"#f0f921\"]], \"type\": \"heatmap\"}], \"heatmapgl\": [{\"colorbar\": {\"outlinewidth\": 0, \"ticks\": \"\"}, \"colorscale\": [[0.0, \"#0d0887\"], [0.1111111111111111, \"#46039f\"], [0.2222222222222222, \"#7201a8\"], [0.3333333333333333, \"#9c179e\"], [0.4444444444444444, \"#bd3786\"], [0.5555555555555556, \"#d8576b\"], [0.6666666666666666, \"#ed7953\"], [0.7777777777777778, \"#fb9f3a\"], [0.8888888888888888, \"#fdca26\"], [1.0, \"#f0f921\"]], \"type\": \"heatmapgl\"}], \"histogram\": [{\"marker\": {\"colorbar\": {\"outlinewidth\": 0, \"ticks\": \"\"}}, \"type\": \"histogram\"}], \"histogram2d\": [{\"colorbar\": {\"outlinewidth\": 0, \"ticks\": \"\"}, \"colorscale\": [[0.0, \"#0d0887\"], [0.1111111111111111, \"#46039f\"], [0.2222222222222222, \"#7201a8\"], [0.3333333333333333, \"#9c179e\"], [0.4444444444444444, \"#bd3786\"], [0.5555555555555556, \"#d8576b\"], [0.6666666666666666, \"#ed7953\"], [0.7777777777777778, \"#fb9f3a\"], [0.8888888888888888, \"#fdca26\"], [1.0, \"#f0f921\"]], \"type\": \"histogram2d\"}], \"histogram2dcontour\": [{\"colorbar\": {\"outlinewidth\": 0, \"ticks\": \"\"}, \"colorscale\": [[0.0, \"#0d0887\"], [0.1111111111111111, \"#46039f\"], [0.2222222222222222, \"#7201a8\"], [0.3333333333333333, \"#9c179e\"], [0.4444444444444444, \"#bd3786\"], [0.5555555555555556, \"#d8576b\"], [0.6666666666666666, \"#ed7953\"], [0.7777777777777778, \"#fb9f3a\"], [0.8888888888888888, \"#fdca26\"], [1.0, \"#f0f921\"]], \"type\": \"histogram2dcontour\"}], \"mesh3d\": [{\"colorbar\": {\"outlinewidth\": 0, \"ticks\": \"\"}, \"type\": \"mesh3d\"}], \"parcoords\": [{\"line\": {\"colorbar\": {\"outlinewidth\": 0, \"ticks\": \"\"}}, \"type\": \"parcoords\"}], \"pie\": [{\"automargin\": true, \"type\": \"pie\"}], \"scatter\": [{\"marker\": {\"colorbar\": {\"outlinewidth\": 0, \"ticks\": \"\"}}, \"type\": \"scatter\"}], \"scatter3d\": [{\"line\": {\"colorbar\": {\"outlinewidth\": 0, \"ticks\": \"\"}}, \"marker\": {\"colorbar\": {\"outlinewidth\": 0, \"ticks\": \"\"}}, \"type\": \"scatter3d\"}], \"scattercarpet\": [{\"marker\": {\"colorbar\": {\"outlinewidth\": 0, \"ticks\": \"\"}}, \"type\": \"scattercarpet\"}], \"scattergeo\": [{\"marker\": {\"colorbar\": {\"outlinewidth\": 0, \"ticks\": \"\"}}, \"type\": \"scattergeo\"}], \"scattergl\": [{\"marker\": {\"colorbar\": {\"outlinewidth\": 0, \"ticks\": \"\"}}, \"type\": \"scattergl\"}], \"scattermapbox\": [{\"marker\": {\"colorbar\": {\"outlinewidth\": 0, \"ticks\": \"\"}}, \"type\": \"scattermapbox\"}], \"scatterpolar\": [{\"marker\": {\"colorbar\": {\"outlinewidth\": 0, \"ticks\": \"\"}}, \"type\": \"scatterpolar\"}], \"scatterpolargl\": [{\"marker\": {\"colorbar\": {\"outlinewidth\": 0, \"ticks\": \"\"}}, \"type\": \"scatterpolargl\"}], \"scatterternary\": [{\"marker\": {\"colorbar\": {\"outlinewidth\": 0, \"ticks\": \"\"}}, \"type\": \"scatterternary\"}], \"surface\": [{\"colorbar\": {\"outlinewidth\": 0, \"ticks\": \"\"}, \"colorscale\": [[0.0, \"#0d0887\"], [0.1111111111111111, \"#46039f\"], [0.2222222222222222, \"#7201a8\"], [0.3333333333333333, \"#9c179e\"], [0.4444444444444444, \"#bd3786\"], [0.5555555555555556, \"#d8576b\"], [0.6666666666666666, \"#ed7953\"], [0.7777777777777778, \"#fb9f3a\"], [0.8888888888888888, \"#fdca26\"], [1.0, \"#f0f921\"]], \"type\": \"surface\"}], \"table\": [{\"cells\": {\"fill\": {\"color\": \"#EBF0F8\"}, \"line\": {\"color\": \"white\"}}, \"header\": {\"fill\": {\"color\": \"#C8D4E3\"}, \"line\": {\"color\": \"white\"}}, \"type\": \"table\"}]}, \"layout\": {\"annotationdefaults\": {\"arrowcolor\": \"#2a3f5f\", \"arrowhead\": 0, \"arrowwidth\": 1}, \"coloraxis\": {\"colorbar\": {\"outlinewidth\": 0, \"ticks\": \"\"}}, \"colorscale\": {\"diverging\": [[0, \"#8e0152\"], [0.1, \"#c51b7d\"], [0.2, \"#de77ae\"], [0.3, \"#f1b6da\"], [0.4, \"#fde0ef\"], [0.5, \"#f7f7f7\"], [0.6, \"#e6f5d0\"], [0.7, \"#b8e186\"], [0.8, \"#7fbc41\"], [0.9, \"#4d9221\"], [1, \"#276419\"]], \"sequential\": [[0.0, \"#0d0887\"], [0.1111111111111111, \"#46039f\"], [0.2222222222222222, \"#7201a8\"], [0.3333333333333333, \"#9c179e\"], [0.4444444444444444, \"#bd3786\"], [0.5555555555555556, \"#d8576b\"], [0.6666666666666666, \"#ed7953\"], [0.7777777777777778, \"#fb9f3a\"], [0.8888888888888888, \"#fdca26\"], [1.0, \"#f0f921\"]], \"sequentialminus\": [[0.0, \"#0d0887\"], [0.1111111111111111, \"#46039f\"], [0.2222222222222222, \"#7201a8\"], [0.3333333333333333, \"#9c179e\"], [0.4444444444444444, \"#bd3786\"], [0.5555555555555556, \"#d8576b\"], [0.6666666666666666, \"#ed7953\"], [0.7777777777777778, \"#fb9f3a\"], [0.8888888888888888, \"#fdca26\"], [1.0, \"#f0f921\"]]}, \"colorway\": [\"#636efa\", \"#EF553B\", \"#00cc96\", \"#ab63fa\", \"#FFA15A\", \"#19d3f3\", \"#FF6692\", \"#B6E880\", \"#FF97FF\", \"#FECB52\"], \"font\": {\"color\": \"#2a3f5f\"}, \"geo\": {\"bgcolor\": \"white\", \"lakecolor\": \"white\", \"landcolor\": \"#E5ECF6\", \"showlakes\": true, \"showland\": true, \"subunitcolor\": \"white\"}, \"hoverlabel\": {\"align\": \"left\"}, \"hovermode\": \"closest\", \"mapbox\": {\"style\": \"light\"}, \"paper_bgcolor\": \"white\", \"plot_bgcolor\": \"#E5ECF6\", \"polar\": {\"angularaxis\": {\"gridcolor\": \"white\", \"linecolor\": \"white\", \"ticks\": \"\"}, \"bgcolor\": \"#E5ECF6\", \"radialaxis\": {\"gridcolor\": \"white\", \"linecolor\": \"white\", \"ticks\": \"\"}}, \"scene\": {\"xaxis\": {\"backgroundcolor\": \"#E5ECF6\", \"gridcolor\": \"white\", \"gridwidth\": 2, \"linecolor\": \"white\", \"showbackground\": true, \"ticks\": \"\", \"zerolinecolor\": \"white\"}, \"yaxis\": {\"backgroundcolor\": \"#E5ECF6\", \"gridcolor\": \"white\", \"gridwidth\": 2, \"linecolor\": \"white\", \"showbackground\": true, \"ticks\": \"\", \"zerolinecolor\": \"white\"}, \"zaxis\": {\"backgroundcolor\": \"#E5ECF6\", \"gridcolor\": \"white\", \"gridwidth\": 2, \"linecolor\": \"white\", \"showbackground\": true, \"ticks\": \"\", \"zerolinecolor\": \"white\"}}, \"shapedefaults\": {\"line\": {\"color\": \"#2a3f5f\"}}, \"ternary\": {\"aaxis\": {\"gridcolor\": \"white\", \"linecolor\": \"white\", \"ticks\": \"\"}, \"baxis\": {\"gridcolor\": \"white\", \"linecolor\": \"white\", \"ticks\": \"\"}, \"bgcolor\": \"#E5ECF6\", \"caxis\": {\"gridcolor\": \"white\", \"linecolor\": \"white\", \"ticks\": \"\"}}, \"title\": {\"x\": 0.05}, \"xaxis\": {\"automargin\": true, \"gridcolor\": \"white\", \"linecolor\": \"white\", \"ticks\": \"\", \"title\": {\"standoff\": 15}, \"zerolinecolor\": \"white\", \"zerolinewidth\": 2}, \"yaxis\": {\"automargin\": true, \"gridcolor\": \"white\", \"linecolor\": \"white\", \"ticks\": \"\", \"title\": {\"standoff\": 15}, \"zerolinecolor\": \"white\", \"zerolinewidth\": 2}}}, \"title\": {\"text\": \"Hyperparameter Importances\"}, \"xaxis\": {\"title\": {\"text\": \"Importance for Objective Value\"}}, \"yaxis\": {\"title\": {\"text\": \"Hyperparameter\"}}},\n",
              "                        {\"responsive\": true}\n",
              "                    ).then(function(){\n",
              "                            \n",
              "var gd = document.getElementById('748ebbd5-3c9e-423c-b494-ca5ca1aba931');\n",
              "var x = new MutationObserver(function (mutations, observer) {{\n",
              "        var display = window.getComputedStyle(gd).display;\n",
              "        if (!display || display === 'none') {{\n",
              "            console.log([gd, 'removed!']);\n",
              "            Plotly.purge(gd);\n",
              "            observer.disconnect();\n",
              "        }}\n",
              "}});\n",
              "\n",
              "// Listen for the removal of the full notebook cells\n",
              "var notebookContainer = gd.closest('#notebook-container');\n",
              "if (notebookContainer) {{\n",
              "    x.observe(notebookContainer, {childList: true});\n",
              "}}\n",
              "\n",
              "// Listen for the clearing of the current output cell\n",
              "var outputEl = gd.closest('.output');\n",
              "if (outputEl) {{\n",
              "    x.observe(outputEl, {childList: true});\n",
              "}}\n",
              "\n",
              "                        })\n",
              "                };\n",
              "                \n",
              "            </script>\n",
              "        </div>\n",
              "</body>\n",
              "</html>"
            ]
          },
          "metadata": {
            "tags": []
          }
        }
      ]
    },
    {
      "cell_type": "markdown",
      "metadata": {
        "id": "gGsvO8eEUhSg"
      },
      "source": [
        "## Random Forest\n"
      ]
    },
    {
      "cell_type": "code",
      "metadata": {
        "id": "ArnWcJErXgqv"
      },
      "source": [
        "from sklearn.ensemble import RandomForestClassifier"
      ],
      "execution_count": 32,
      "outputs": []
    },
    {
      "cell_type": "code",
      "metadata": {
        "id": "Wmgm0uhnUhSh"
      },
      "source": [
        "experiment_id = mlflow.create_experiment(name='random_forest')\n",
        "\n",
        "def random_forest(trial):\n",
        "  with mlflow.start_run(experiment_id=experiment_id):\n",
        "    # definição dos hiper-parâmetros\n",
        "    params = {'n_estimators': trial.suggest_int('n_estimators', 50, 150),\n",
        "              'criterion': trial.suggest_categorical('criterion', ['gini', 'entropy']),\n",
        "              'max_features': trial.suggest_int('max_features', 1, len(x_battles.columns))}\n",
        "\n",
        "    model = RandomForestClassifier(n_estimators=params['n_estimators'], criterion=params['criterion'], max_features=params['max_features'])\n",
        "\n",
        "    # treinamento\n",
        "    scores = cross_validate(model, x_battles, y_battles,\n",
        "                            scoring='accuracy', return_train_score=True)\n",
        "\n",
        "    # acurácias\n",
        "    test_accuracies = scores['test_score']\n",
        "    test_accuracy = test_accuracies.mean()\n",
        "    train_accuracies = scores['train_score']\n",
        "    train_accuracy = train_accuracies.mean()\n",
        "\n",
        "    # salvar acurácia de treinamento no trial\n",
        "    trial.set_user_attr('train_accuracy', train_accuracy)\n",
        "\n",
        "    # logging\n",
        "    mlflow.log_params(params)\n",
        "    mlflow.log_metric('test_accuracy', test_accuracy)\n",
        "    mlflow.log_metric('train_accuracy', train_accuracy)\n",
        "    mlflow.sklearn.log_model(model, \"model\")\n",
        "    mlflow.end_run()\n",
        "\n",
        "  return test_accuracy"
      ],
      "execution_count": 33,
      "outputs": []
    },
    {
      "cell_type": "code",
      "metadata": {
        "id": "kYSuA4qqUhSh",
        "colab": {
          "base_uri": "https://localhost:8080/"
        },
        "outputId": "1f01e451-3926-462e-e82e-2bf6cf97a3b8"
      },
      "source": [
        "study_RF = optuna.create_study(direction='maximize')\n",
        "study_RF.optimize(random_forest, n_trials=NUMBER_OF_TRIALS)"
      ],
      "execution_count": 34,
      "outputs": [
        {
          "output_type": "stream",
          "text": [
            "\u001b[32m[I 2021-08-17 02:42:08,830]\u001b[0m A new study created in memory with name: no-name-031bfd20-31f3-4c89-a134-3a569ce0e5b2\u001b[0m\n",
            "\u001b[32m[I 2021-08-17 02:42:12,531]\u001b[0m Trial 0 finished with value: 0.8892857142857142 and parameters: {'n_estimators': 143, 'criterion': 'entropy', 'max_features': 24}. Best is trial 0 with value: 0.8892857142857142.\u001b[0m\n",
            "\u001b[32m[I 2021-08-17 02:42:16,188]\u001b[0m Trial 1 finished with value: 0.8607142857142858 and parameters: {'n_estimators': 141, 'criterion': 'entropy', 'max_features': 21}. Best is trial 0 with value: 0.8892857142857142.\u001b[0m\n",
            "\u001b[32m[I 2021-08-17 02:42:18,711]\u001b[0m Trial 2 finished with value: 0.8321428571428571 and parameters: {'n_estimators': 56, 'criterion': 'gini', 'max_features': 74}. Best is trial 0 with value: 0.8892857142857142.\u001b[0m\n",
            "\u001b[32m[I 2021-08-17 02:42:23,677]\u001b[0m Trial 3 finished with value: 0.8892857142857142 and parameters: {'n_estimators': 62, 'criterion': 'gini', 'max_features': 49}. Best is trial 0 with value: 0.8892857142857142.\u001b[0m\n",
            "\u001b[32m[I 2021-08-17 02:42:26,359]\u001b[0m Trial 4 finished with value: 0.8607142857142858 and parameters: {'n_estimators': 70, 'criterion': 'gini', 'max_features': 4}. Best is trial 0 with value: 0.8892857142857142.\u001b[0m\n",
            "\u001b[32m[I 2021-08-17 02:42:29,834]\u001b[0m Trial 5 finished with value: 0.8607142857142858 and parameters: {'n_estimators': 130, 'criterion': 'entropy', 'max_features': 25}. Best is trial 0 with value: 0.8892857142857142.\u001b[0m\n",
            "\u001b[32m[I 2021-08-17 02:42:33,679]\u001b[0m Trial 6 finished with value: 0.775 and parameters: {'n_estimators': 136, 'criterion': 'entropy', 'max_features': 119}. Best is trial 0 with value: 0.8892857142857142.\u001b[0m\n",
            "\u001b[32m[I 2021-08-17 02:42:37,278]\u001b[0m Trial 7 finished with value: 0.7785714285714287 and parameters: {'n_estimators': 137, 'criterion': 'entropy', 'max_features': 75}. Best is trial 0 with value: 0.8892857142857142.\u001b[0m\n",
            "\u001b[32m[I 2021-08-17 02:42:40,739]\u001b[0m Trial 8 finished with value: 0.8607142857142858 and parameters: {'n_estimators': 126, 'criterion': 'entropy', 'max_features': 1}. Best is trial 0 with value: 0.8892857142857142.\u001b[0m\n",
            "\u001b[32m[I 2021-08-17 02:42:44,137]\u001b[0m Trial 9 finished with value: 0.75 and parameters: {'n_estimators': 122, 'criterion': 'entropy', 'max_features': 89}. Best is trial 0 with value: 0.8892857142857142.\u001b[0m\n",
            "\u001b[32m[I 2021-08-17 02:42:47,645]\u001b[0m Trial 10 finished with value: 0.8607142857142858 and parameters: {'n_estimators': 99, 'criterion': 'gini', 'max_features': 41}. Best is trial 0 with value: 0.8892857142857142.\u001b[0m\n",
            "\u001b[32m[I 2021-08-17 02:42:50,716]\u001b[0m Trial 11 finished with value: 0.8607142857142858 and parameters: {'n_estimators': 96, 'criterion': 'gini', 'max_features': 46}. Best is trial 0 with value: 0.8892857142857142.\u001b[0m\n",
            "\u001b[32m[I 2021-08-17 02:42:53,583]\u001b[0m Trial 12 finished with value: 0.8321428571428571 and parameters: {'n_estimators': 77, 'criterion': 'gini', 'max_features': 49}. Best is trial 0 with value: 0.8892857142857142.\u001b[0m\n",
            "\u001b[32m[I 2021-08-17 02:42:56,813]\u001b[0m Trial 13 finished with value: 0.8607142857142858 and parameters: {'n_estimators': 112, 'criterion': 'gini', 'max_features': 32}. Best is trial 0 with value: 0.8892857142857142.\u001b[0m\n",
            "\u001b[32m[I 2021-08-17 02:43:00,522]\u001b[0m Trial 14 finished with value: 0.8607142857142858 and parameters: {'n_estimators': 150, 'criterion': 'gini', 'max_features': 60}. Best is trial 0 with value: 0.8892857142857142.\u001b[0m\n",
            "\u001b[32m[I 2021-08-17 02:43:03,908]\u001b[0m Trial 15 finished with value: 0.8607142857142858 and parameters: {'n_estimators': 82, 'criterion': 'entropy', 'max_features': 17}. Best is trial 0 with value: 0.8892857142857142.\u001b[0m\n",
            "\u001b[32m[I 2021-08-17 02:43:06,358]\u001b[0m Trial 16 finished with value: 0.775 and parameters: {'n_estimators': 51, 'criterion': 'entropy', 'max_features': 107}. Best is trial 0 with value: 0.8892857142857142.\u001b[0m\n",
            "\u001b[32m[I 2021-08-17 02:43:09,618]\u001b[0m Trial 17 finished with value: 0.8607142857142858 and parameters: {'n_estimators': 112, 'criterion': 'gini', 'max_features': 63}. Best is trial 0 with value: 0.8892857142857142.\u001b[0m\n",
            "\u001b[32m[I 2021-08-17 02:43:12,192]\u001b[0m Trial 18 finished with value: 0.8607142857142858 and parameters: {'n_estimators': 63, 'criterion': 'entropy', 'max_features': 39}. Best is trial 0 with value: 0.8892857142857142.\u001b[0m\n",
            "\u001b[32m[I 2021-08-17 02:43:15,075]\u001b[0m Trial 19 finished with value: 0.8321428571428571 and parameters: {'n_estimators': 89, 'criterion': 'gini', 'max_features': 60}. Best is trial 0 with value: 0.8892857142857142.\u001b[0m\n",
            "\u001b[32m[I 2021-08-17 02:43:18,828]\u001b[0m Trial 20 finished with value: 0.8607142857142858 and parameters: {'n_estimators': 111, 'criterion': 'entropy', 'max_features': 17}. Best is trial 0 with value: 0.8892857142857142.\u001b[0m\n",
            "\u001b[32m[I 2021-08-17 02:43:21,412]\u001b[0m Trial 21 finished with value: 0.8321428571428571 and parameters: {'n_estimators': 62, 'criterion': 'entropy', 'max_features': 36}. Best is trial 0 with value: 0.8892857142857142.\u001b[0m\n",
            "\u001b[32m[I 2021-08-17 02:43:24,074]\u001b[0m Trial 22 finished with value: 0.8035714285714286 and parameters: {'n_estimators': 66, 'criterion': 'entropy', 'max_features': 54}. Best is trial 0 with value: 0.8892857142857142.\u001b[0m\n",
            "\u001b[32m[I 2021-08-17 02:43:27,305]\u001b[0m Trial 23 finished with value: 0.8607142857142858 and parameters: {'n_estimators': 111, 'criterion': 'entropy', 'max_features': 12}. Best is trial 0 with value: 0.8892857142857142.\u001b[0m\n",
            "\u001b[32m[I 2021-08-17 02:43:31,066]\u001b[0m Trial 24 finished with value: 0.8892857142857142 and parameters: {'n_estimators': 150, 'criterion': 'entropy', 'max_features': 28}. Best is trial 0 with value: 0.8892857142857142.\u001b[0m\n",
            "\u001b[32m[I 2021-08-17 02:43:34,772]\u001b[0m Trial 25 finished with value: 0.8607142857142858 and parameters: {'n_estimators': 147, 'criterion': 'entropy', 'max_features': 30}. Best is trial 0 with value: 0.8892857142857142.\u001b[0m\n",
            "\u001b[32m[I 2021-08-17 02:43:38,428]\u001b[0m Trial 26 finished with value: 0.8607142857142858 and parameters: {'n_estimators': 143, 'criterion': 'gini', 'max_features': 28}. Best is trial 0 with value: 0.8892857142857142.\u001b[0m\n",
            "\u001b[32m[I 2021-08-17 02:43:42,632]\u001b[0m Trial 27 finished with value: 0.8607142857142858 and parameters: {'n_estimators': 131, 'criterion': 'entropy', 'max_features': 9}. Best is trial 0 with value: 0.8892857142857142.\u001b[0m\n",
            "\u001b[32m[I 2021-08-17 02:43:45,994]\u001b[0m Trial 28 finished with value: 0.8571428571428571 and parameters: {'n_estimators': 120, 'criterion': 'gini', 'max_features': 69}. Best is trial 0 with value: 0.8892857142857142.\u001b[0m\n",
            "\u001b[32m[I 2021-08-17 02:43:49,574]\u001b[0m Trial 29 finished with value: 0.8607142857142858 and parameters: {'n_estimators': 141, 'criterion': 'entropy', 'max_features': 22}. Best is trial 0 with value: 0.8892857142857142.\u001b[0m\n",
            "\u001b[32m[I 2021-08-17 02:43:52,410]\u001b[0m Trial 30 finished with value: 0.775 and parameters: {'n_estimators': 88, 'criterion': 'entropy', 'max_features': 83}. Best is trial 0 with value: 0.8892857142857142.\u001b[0m\n",
            "\u001b[32m[I 2021-08-17 02:43:55,880]\u001b[0m Trial 31 finished with value: 0.8892857142857142 and parameters: {'n_estimators': 130, 'criterion': 'entropy', 'max_features': 12}. Best is trial 0 with value: 0.8892857142857142.\u001b[0m\n",
            "\u001b[32m[I 2021-08-17 02:43:59,605]\u001b[0m Trial 32 finished with value: 0.8607142857142858 and parameters: {'n_estimators': 150, 'criterion': 'entropy', 'max_features': 12}. Best is trial 0 with value: 0.8892857142857142.\u001b[0m\n",
            "\u001b[32m[I 2021-08-17 02:44:03,186]\u001b[0m Trial 33 finished with value: 0.8607142857142858 and parameters: {'n_estimators': 142, 'criterion': 'entropy', 'max_features': 23}. Best is trial 0 with value: 0.8892857142857142.\u001b[0m\n",
            "\u001b[32m[I 2021-08-17 02:44:06,744]\u001b[0m Trial 34 finished with value: 0.8607142857142858 and parameters: {'n_estimators': 134, 'criterion': 'entropy', 'max_features': 47}. Best is trial 0 with value: 0.8892857142857142.\u001b[0m\n",
            "\u001b[32m[I 2021-08-17 02:44:10,174]\u001b[0m Trial 35 finished with value: 0.8607142857142858 and parameters: {'n_estimators': 126, 'criterion': 'entropy', 'max_features': 9}. Best is trial 0 with value: 0.8892857142857142.\u001b[0m\n",
            "\u001b[32m[I 2021-08-17 02:44:14,686]\u001b[0m Trial 36 finished with value: 0.8321428571428571 and parameters: {'n_estimators': 137, 'criterion': 'gini', 'max_features': 34}. Best is trial 0 with value: 0.8892857142857142.\u001b[0m\n",
            "\u001b[32m[I 2021-08-17 02:44:18,383]\u001b[0m Trial 37 finished with value: 0.8607142857142858 and parameters: {'n_estimators': 145, 'criterion': 'entropy', 'max_features': 3}. Best is trial 0 with value: 0.8892857142857142.\u001b[0m\n",
            "\u001b[32m[I 2021-08-17 02:44:21,565]\u001b[0m Trial 38 finished with value: 0.8642857142857142 and parameters: {'n_estimators': 106, 'criterion': 'entropy', 'max_features': 18}. Best is trial 0 with value: 0.8892857142857142.\u001b[0m\n",
            "\u001b[32m[I 2021-08-17 02:44:24,936]\u001b[0m Trial 39 finished with value: 0.8357142857142857 and parameters: {'n_estimators': 120, 'criterion': 'gini', 'max_features': 42}. Best is trial 0 with value: 0.8892857142857142.\u001b[0m\n",
            "\u001b[32m[I 2021-08-17 02:44:27,747]\u001b[0m Trial 40 finished with value: 0.8607142857142858 and parameters: {'n_estimators': 75, 'criterion': 'entropy', 'max_features': 29}. Best is trial 0 with value: 0.8892857142857142.\u001b[0m\n",
            "\u001b[32m[I 2021-08-17 02:44:30,842]\u001b[0m Trial 41 finished with value: 0.8607142857142858 and parameters: {'n_estimators': 101, 'criterion': 'entropy', 'max_features': 18}. Best is trial 0 with value: 0.8892857142857142.\u001b[0m\n",
            "\u001b[32m[I 2021-08-17 02:44:34,377]\u001b[0m Trial 42 finished with value: 0.8607142857142858 and parameters: {'n_estimators': 136, 'criterion': 'entropy', 'max_features': 22}. Best is trial 0 with value: 0.8892857142857142.\u001b[0m\n",
            "\u001b[32m[I 2021-08-17 02:44:37,529]\u001b[0m Trial 43 finished with value: 0.8607142857142858 and parameters: {'n_estimators': 105, 'criterion': 'entropy', 'max_features': 5}. Best is trial 0 with value: 0.8892857142857142.\u001b[0m\n",
            "\u001b[32m[I 2021-08-17 02:44:40,980]\u001b[0m Trial 44 finished with value: 0.8892857142857142 and parameters: {'n_estimators': 126, 'criterion': 'entropy', 'max_features': 24}. Best is trial 0 with value: 0.8892857142857142.\u001b[0m\n",
            "\u001b[32m[I 2021-08-17 02:44:44,479]\u001b[0m Trial 45 finished with value: 0.775 and parameters: {'n_estimators': 129, 'criterion': 'entropy', 'max_features': 55}. Best is trial 0 with value: 0.8892857142857142.\u001b[0m\n",
            "\u001b[32m[I 2021-08-17 02:44:49,186]\u001b[0m Trial 46 finished with value: 0.8892857142857142 and parameters: {'n_estimators': 140, 'criterion': 'gini', 'max_features': 27}. Best is trial 0 with value: 0.8892857142857142.\u001b[0m\n",
            "\u001b[32m[I 2021-08-17 02:44:52,795]\u001b[0m Trial 47 finished with value: 0.8321428571428571 and parameters: {'n_estimators': 140, 'criterion': 'gini', 'max_features': 25}. Best is trial 0 with value: 0.8892857142857142.\u001b[0m\n",
            "\u001b[32m[I 2021-08-17 02:44:56,317]\u001b[0m Trial 48 finished with value: 0.8892857142857142 and parameters: {'n_estimators': 133, 'criterion': 'entropy', 'max_features': 38}. Best is trial 0 with value: 0.8892857142857142.\u001b[0m\n",
            "\u001b[32m[I 2021-08-17 02:44:59,723]\u001b[0m Trial 49 finished with value: 0.8892857142857142 and parameters: {'n_estimators': 125, 'criterion': 'entropy', 'max_features': 12}. Best is trial 0 with value: 0.8892857142857142.\u001b[0m\n"
          ],
          "name": "stderr"
        }
      ]
    },
    {
      "cell_type": "code",
      "metadata": {
        "id": "ZILyLf2XUhSi",
        "colab": {
          "base_uri": "https://localhost:8080/"
        },
        "outputId": "a3ab6bdc-cc53-439b-be3b-9894aa474fd8"
      },
      "source": [
        "print('Best hyperparameters:\\t', study_RF.best_trial.params)\n",
        "print('Training accuracy:\\t', study_RF.best_trial.user_attrs['train_accuracy'])\n",
        "print('Test accuracy:\\t\\t', study_RF.best_trial.value)"
      ],
      "execution_count": 35,
      "outputs": [
        {
          "output_type": "stream",
          "text": [
            "Best hyperparameters:\t {'n_estimators': 143, 'criterion': 'entropy', 'max_features': 24}\n",
            "Training accuracy:\t 1.0\n",
            "Test accuracy:\t\t 0.8892857142857142\n"
          ],
          "name": "stdout"
        }
      ]
    },
    {
      "cell_type": "code",
      "metadata": {
        "id": "_fIigF1kUhSi",
        "colab": {
          "base_uri": "https://localhost:8080/",
          "height": 542
        },
        "outputId": "52885382-4ec5-429e-dc8f-ff4bbcf3b55f"
      },
      "source": [
        "optuna.visualization.plot_optimization_history(study_RF)"
      ],
      "execution_count": 36,
      "outputs": [
        {
          "output_type": "display_data",
          "data": {
            "text/html": [
              "<html>\n",
              "<head><meta charset=\"utf-8\" /></head>\n",
              "<body>\n",
              "    <div>\n",
              "            <script src=\"https://cdnjs.cloudflare.com/ajax/libs/mathjax/2.7.5/MathJax.js?config=TeX-AMS-MML_SVG\"></script><script type=\"text/javascript\">if (window.MathJax) {MathJax.Hub.Config({SVG: {font: \"STIX-Web\"}});}</script>\n",
              "                <script type=\"text/javascript\">window.PlotlyConfig = {MathJaxConfig: 'local'};</script>\n",
              "        <script src=\"https://cdn.plot.ly/plotly-latest.min.js\"></script>    \n",
              "            <div id=\"1e4c87e0-ff99-4db6-8bcd-267cc4de0a53\" class=\"plotly-graph-div\" style=\"height:525px; width:100%;\"></div>\n",
              "            <script type=\"text/javascript\">\n",
              "                \n",
              "                    window.PLOTLYENV=window.PLOTLYENV || {};\n",
              "                    \n",
              "                if (document.getElementById(\"1e4c87e0-ff99-4db6-8bcd-267cc4de0a53\")) {\n",
              "                    Plotly.newPlot(\n",
              "                        '1e4c87e0-ff99-4db6-8bcd-267cc4de0a53',\n",
              "                        [{\"mode\": \"markers\", \"name\": \"Objective Value\", \"type\": \"scatter\", \"x\": [0, 1, 2, 3, 4, 5, 6, 7, 8, 9, 10, 11, 12, 13, 14, 15, 16, 17, 18, 19, 20, 21, 22, 23, 24, 25, 26, 27, 28, 29, 30, 31, 32, 33, 34, 35, 36, 37, 38, 39, 40, 41, 42, 43, 44, 45, 46, 47, 48, 49], \"y\": [0.8892857142857142, 0.8607142857142858, 0.8321428571428571, 0.8892857142857142, 0.8607142857142858, 0.8607142857142858, 0.775, 0.7785714285714287, 0.8607142857142858, 0.75, 0.8607142857142858, 0.8607142857142858, 0.8321428571428571, 0.8607142857142858, 0.8607142857142858, 0.8607142857142858, 0.775, 0.8607142857142858, 0.8607142857142858, 0.8321428571428571, 0.8607142857142858, 0.8321428571428571, 0.8035714285714286, 0.8607142857142858, 0.8892857142857142, 0.8607142857142858, 0.8607142857142858, 0.8607142857142858, 0.8571428571428571, 0.8607142857142858, 0.775, 0.8892857142857142, 0.8607142857142858, 0.8607142857142858, 0.8607142857142858, 0.8607142857142858, 0.8321428571428571, 0.8607142857142858, 0.8642857142857142, 0.8357142857142857, 0.8607142857142858, 0.8607142857142858, 0.8607142857142858, 0.8607142857142858, 0.8892857142857142, 0.775, 0.8892857142857142, 0.8321428571428571, 0.8892857142857142, 0.8892857142857142]}, {\"name\": \"Best Value\", \"type\": \"scatter\", \"x\": [0, 1, 2, 3, 4, 5, 6, 7, 8, 9, 10, 11, 12, 13, 14, 15, 16, 17, 18, 19, 20, 21, 22, 23, 24, 25, 26, 27, 28, 29, 30, 31, 32, 33, 34, 35, 36, 37, 38, 39, 40, 41, 42, 43, 44, 45, 46, 47, 48, 49], \"y\": [0.8892857142857142, 0.8892857142857142, 0.8892857142857142, 0.8892857142857142, 0.8892857142857142, 0.8892857142857142, 0.8892857142857142, 0.8892857142857142, 0.8892857142857142, 0.8892857142857142, 0.8892857142857142, 0.8892857142857142, 0.8892857142857142, 0.8892857142857142, 0.8892857142857142, 0.8892857142857142, 0.8892857142857142, 0.8892857142857142, 0.8892857142857142, 0.8892857142857142, 0.8892857142857142, 0.8892857142857142, 0.8892857142857142, 0.8892857142857142, 0.8892857142857142, 0.8892857142857142, 0.8892857142857142, 0.8892857142857142, 0.8892857142857142, 0.8892857142857142, 0.8892857142857142, 0.8892857142857142, 0.8892857142857142, 0.8892857142857142, 0.8892857142857142, 0.8892857142857142, 0.8892857142857142, 0.8892857142857142, 0.8892857142857142, 0.8892857142857142, 0.8892857142857142, 0.8892857142857142, 0.8892857142857142, 0.8892857142857142, 0.8892857142857142, 0.8892857142857142, 0.8892857142857142, 0.8892857142857142, 0.8892857142857142, 0.8892857142857142]}],\n",
              "                        {\"template\": {\"data\": {\"bar\": [{\"error_x\": {\"color\": \"#2a3f5f\"}, \"error_y\": {\"color\": \"#2a3f5f\"}, \"marker\": {\"line\": {\"color\": \"#E5ECF6\", \"width\": 0.5}}, \"type\": \"bar\"}], \"barpolar\": [{\"marker\": {\"line\": {\"color\": \"#E5ECF6\", \"width\": 0.5}}, \"type\": \"barpolar\"}], \"carpet\": [{\"aaxis\": {\"endlinecolor\": \"#2a3f5f\", \"gridcolor\": \"white\", \"linecolor\": \"white\", \"minorgridcolor\": \"white\", \"startlinecolor\": \"#2a3f5f\"}, \"baxis\": {\"endlinecolor\": \"#2a3f5f\", \"gridcolor\": \"white\", \"linecolor\": \"white\", \"minorgridcolor\": \"white\", \"startlinecolor\": \"#2a3f5f\"}, \"type\": \"carpet\"}], \"choropleth\": [{\"colorbar\": {\"outlinewidth\": 0, \"ticks\": \"\"}, \"type\": \"choropleth\"}], \"contour\": [{\"colorbar\": {\"outlinewidth\": 0, \"ticks\": \"\"}, \"colorscale\": [[0.0, \"#0d0887\"], [0.1111111111111111, \"#46039f\"], [0.2222222222222222, \"#7201a8\"], [0.3333333333333333, \"#9c179e\"], [0.4444444444444444, \"#bd3786\"], [0.5555555555555556, \"#d8576b\"], [0.6666666666666666, \"#ed7953\"], [0.7777777777777778, \"#fb9f3a\"], [0.8888888888888888, \"#fdca26\"], [1.0, \"#f0f921\"]], \"type\": \"contour\"}], \"contourcarpet\": [{\"colorbar\": {\"outlinewidth\": 0, \"ticks\": \"\"}, \"type\": \"contourcarpet\"}], \"heatmap\": [{\"colorbar\": {\"outlinewidth\": 0, \"ticks\": \"\"}, \"colorscale\": [[0.0, \"#0d0887\"], [0.1111111111111111, \"#46039f\"], [0.2222222222222222, \"#7201a8\"], [0.3333333333333333, \"#9c179e\"], [0.4444444444444444, \"#bd3786\"], [0.5555555555555556, \"#d8576b\"], [0.6666666666666666, \"#ed7953\"], [0.7777777777777778, \"#fb9f3a\"], [0.8888888888888888, \"#fdca26\"], [1.0, \"#f0f921\"]], \"type\": \"heatmap\"}], \"heatmapgl\": [{\"colorbar\": {\"outlinewidth\": 0, \"ticks\": \"\"}, \"colorscale\": [[0.0, \"#0d0887\"], [0.1111111111111111, \"#46039f\"], [0.2222222222222222, \"#7201a8\"], [0.3333333333333333, \"#9c179e\"], [0.4444444444444444, \"#bd3786\"], [0.5555555555555556, \"#d8576b\"], [0.6666666666666666, \"#ed7953\"], [0.7777777777777778, \"#fb9f3a\"], [0.8888888888888888, \"#fdca26\"], [1.0, \"#f0f921\"]], \"type\": \"heatmapgl\"}], \"histogram\": [{\"marker\": {\"colorbar\": {\"outlinewidth\": 0, \"ticks\": \"\"}}, \"type\": \"histogram\"}], \"histogram2d\": [{\"colorbar\": {\"outlinewidth\": 0, \"ticks\": \"\"}, \"colorscale\": [[0.0, \"#0d0887\"], [0.1111111111111111, \"#46039f\"], [0.2222222222222222, \"#7201a8\"], [0.3333333333333333, \"#9c179e\"], [0.4444444444444444, \"#bd3786\"], [0.5555555555555556, \"#d8576b\"], [0.6666666666666666, \"#ed7953\"], [0.7777777777777778, \"#fb9f3a\"], [0.8888888888888888, \"#fdca26\"], [1.0, \"#f0f921\"]], \"type\": \"histogram2d\"}], \"histogram2dcontour\": [{\"colorbar\": {\"outlinewidth\": 0, \"ticks\": \"\"}, \"colorscale\": [[0.0, \"#0d0887\"], [0.1111111111111111, \"#46039f\"], [0.2222222222222222, \"#7201a8\"], [0.3333333333333333, \"#9c179e\"], [0.4444444444444444, \"#bd3786\"], [0.5555555555555556, \"#d8576b\"], [0.6666666666666666, \"#ed7953\"], [0.7777777777777778, \"#fb9f3a\"], [0.8888888888888888, \"#fdca26\"], [1.0, \"#f0f921\"]], \"type\": \"histogram2dcontour\"}], \"mesh3d\": [{\"colorbar\": {\"outlinewidth\": 0, \"ticks\": \"\"}, \"type\": \"mesh3d\"}], \"parcoords\": [{\"line\": {\"colorbar\": {\"outlinewidth\": 0, \"ticks\": \"\"}}, \"type\": \"parcoords\"}], \"pie\": [{\"automargin\": true, \"type\": \"pie\"}], \"scatter\": [{\"marker\": {\"colorbar\": {\"outlinewidth\": 0, \"ticks\": \"\"}}, \"type\": \"scatter\"}], \"scatter3d\": [{\"line\": {\"colorbar\": {\"outlinewidth\": 0, \"ticks\": \"\"}}, \"marker\": {\"colorbar\": {\"outlinewidth\": 0, \"ticks\": \"\"}}, \"type\": \"scatter3d\"}], \"scattercarpet\": [{\"marker\": {\"colorbar\": {\"outlinewidth\": 0, \"ticks\": \"\"}}, \"type\": \"scattercarpet\"}], \"scattergeo\": [{\"marker\": {\"colorbar\": {\"outlinewidth\": 0, \"ticks\": \"\"}}, \"type\": \"scattergeo\"}], \"scattergl\": [{\"marker\": {\"colorbar\": {\"outlinewidth\": 0, \"ticks\": \"\"}}, \"type\": \"scattergl\"}], \"scattermapbox\": [{\"marker\": {\"colorbar\": {\"outlinewidth\": 0, \"ticks\": \"\"}}, \"type\": \"scattermapbox\"}], \"scatterpolar\": [{\"marker\": {\"colorbar\": {\"outlinewidth\": 0, \"ticks\": \"\"}}, \"type\": \"scatterpolar\"}], \"scatterpolargl\": [{\"marker\": {\"colorbar\": {\"outlinewidth\": 0, \"ticks\": \"\"}}, \"type\": \"scatterpolargl\"}], \"scatterternary\": [{\"marker\": {\"colorbar\": {\"outlinewidth\": 0, \"ticks\": \"\"}}, \"type\": \"scatterternary\"}], \"surface\": [{\"colorbar\": {\"outlinewidth\": 0, \"ticks\": \"\"}, \"colorscale\": [[0.0, \"#0d0887\"], [0.1111111111111111, \"#46039f\"], [0.2222222222222222, \"#7201a8\"], [0.3333333333333333, \"#9c179e\"], [0.4444444444444444, \"#bd3786\"], [0.5555555555555556, \"#d8576b\"], [0.6666666666666666, \"#ed7953\"], [0.7777777777777778, \"#fb9f3a\"], [0.8888888888888888, \"#fdca26\"], [1.0, \"#f0f921\"]], \"type\": \"surface\"}], \"table\": [{\"cells\": {\"fill\": {\"color\": \"#EBF0F8\"}, \"line\": {\"color\": \"white\"}}, \"header\": {\"fill\": {\"color\": \"#C8D4E3\"}, \"line\": {\"color\": \"white\"}}, \"type\": \"table\"}]}, \"layout\": {\"annotationdefaults\": {\"arrowcolor\": \"#2a3f5f\", \"arrowhead\": 0, \"arrowwidth\": 1}, \"coloraxis\": {\"colorbar\": {\"outlinewidth\": 0, \"ticks\": \"\"}}, \"colorscale\": {\"diverging\": [[0, \"#8e0152\"], [0.1, \"#c51b7d\"], [0.2, \"#de77ae\"], [0.3, \"#f1b6da\"], [0.4, \"#fde0ef\"], [0.5, \"#f7f7f7\"], [0.6, \"#e6f5d0\"], [0.7, \"#b8e186\"], [0.8, \"#7fbc41\"], [0.9, \"#4d9221\"], [1, \"#276419\"]], \"sequential\": [[0.0, \"#0d0887\"], [0.1111111111111111, \"#46039f\"], [0.2222222222222222, \"#7201a8\"], [0.3333333333333333, \"#9c179e\"], [0.4444444444444444, \"#bd3786\"], [0.5555555555555556, \"#d8576b\"], [0.6666666666666666, \"#ed7953\"], [0.7777777777777778, \"#fb9f3a\"], [0.8888888888888888, \"#fdca26\"], [1.0, \"#f0f921\"]], \"sequentialminus\": [[0.0, \"#0d0887\"], [0.1111111111111111, \"#46039f\"], [0.2222222222222222, \"#7201a8\"], [0.3333333333333333, \"#9c179e\"], [0.4444444444444444, \"#bd3786\"], [0.5555555555555556, \"#d8576b\"], [0.6666666666666666, \"#ed7953\"], [0.7777777777777778, \"#fb9f3a\"], [0.8888888888888888, \"#fdca26\"], [1.0, \"#f0f921\"]]}, \"colorway\": [\"#636efa\", \"#EF553B\", \"#00cc96\", \"#ab63fa\", \"#FFA15A\", \"#19d3f3\", \"#FF6692\", \"#B6E880\", \"#FF97FF\", \"#FECB52\"], \"font\": {\"color\": \"#2a3f5f\"}, \"geo\": {\"bgcolor\": \"white\", \"lakecolor\": \"white\", \"landcolor\": \"#E5ECF6\", \"showlakes\": true, \"showland\": true, \"subunitcolor\": \"white\"}, \"hoverlabel\": {\"align\": \"left\"}, \"hovermode\": \"closest\", \"mapbox\": {\"style\": \"light\"}, \"paper_bgcolor\": \"white\", \"plot_bgcolor\": \"#E5ECF6\", \"polar\": {\"angularaxis\": {\"gridcolor\": \"white\", \"linecolor\": \"white\", \"ticks\": \"\"}, \"bgcolor\": \"#E5ECF6\", \"radialaxis\": {\"gridcolor\": \"white\", \"linecolor\": \"white\", \"ticks\": \"\"}}, \"scene\": {\"xaxis\": {\"backgroundcolor\": \"#E5ECF6\", \"gridcolor\": \"white\", \"gridwidth\": 2, \"linecolor\": \"white\", \"showbackground\": true, \"ticks\": \"\", \"zerolinecolor\": \"white\"}, \"yaxis\": {\"backgroundcolor\": \"#E5ECF6\", \"gridcolor\": \"white\", \"gridwidth\": 2, \"linecolor\": \"white\", \"showbackground\": true, \"ticks\": \"\", \"zerolinecolor\": \"white\"}, \"zaxis\": {\"backgroundcolor\": \"#E5ECF6\", \"gridcolor\": \"white\", \"gridwidth\": 2, \"linecolor\": \"white\", \"showbackground\": true, \"ticks\": \"\", \"zerolinecolor\": \"white\"}}, \"shapedefaults\": {\"line\": {\"color\": \"#2a3f5f\"}}, \"ternary\": {\"aaxis\": {\"gridcolor\": \"white\", \"linecolor\": \"white\", \"ticks\": \"\"}, \"baxis\": {\"gridcolor\": \"white\", \"linecolor\": \"white\", \"ticks\": \"\"}, \"bgcolor\": \"#E5ECF6\", \"caxis\": {\"gridcolor\": \"white\", \"linecolor\": \"white\", \"ticks\": \"\"}}, \"title\": {\"x\": 0.05}, \"xaxis\": {\"automargin\": true, \"gridcolor\": \"white\", \"linecolor\": \"white\", \"ticks\": \"\", \"title\": {\"standoff\": 15}, \"zerolinecolor\": \"white\", \"zerolinewidth\": 2}, \"yaxis\": {\"automargin\": true, \"gridcolor\": \"white\", \"linecolor\": \"white\", \"ticks\": \"\", \"title\": {\"standoff\": 15}, \"zerolinecolor\": \"white\", \"zerolinewidth\": 2}}}, \"title\": {\"text\": \"Optimization History Plot\"}, \"xaxis\": {\"title\": {\"text\": \"#Trials\"}}, \"yaxis\": {\"title\": {\"text\": \"Objective Value\"}}},\n",
              "                        {\"responsive\": true}\n",
              "                    ).then(function(){\n",
              "                            \n",
              "var gd = document.getElementById('1e4c87e0-ff99-4db6-8bcd-267cc4de0a53');\n",
              "var x = new MutationObserver(function (mutations, observer) {{\n",
              "        var display = window.getComputedStyle(gd).display;\n",
              "        if (!display || display === 'none') {{\n",
              "            console.log([gd, 'removed!']);\n",
              "            Plotly.purge(gd);\n",
              "            observer.disconnect();\n",
              "        }}\n",
              "}});\n",
              "\n",
              "// Listen for the removal of the full notebook cells\n",
              "var notebookContainer = gd.closest('#notebook-container');\n",
              "if (notebookContainer) {{\n",
              "    x.observe(notebookContainer, {childList: true});\n",
              "}}\n",
              "\n",
              "// Listen for the clearing of the current output cell\n",
              "var outputEl = gd.closest('.output');\n",
              "if (outputEl) {{\n",
              "    x.observe(outputEl, {childList: true});\n",
              "}}\n",
              "\n",
              "                        })\n",
              "                };\n",
              "                \n",
              "            </script>\n",
              "        </div>\n",
              "</body>\n",
              "</html>"
            ]
          },
          "metadata": {
            "tags": []
          }
        }
      ]
    },
    {
      "cell_type": "code",
      "metadata": {
        "id": "s1WPTOO3eGC5",
        "colab": {
          "base_uri": "https://localhost:8080/",
          "height": 578
        },
        "outputId": "4740599e-c7fa-459c-d8a3-7ee893868b1f"
      },
      "source": [
        "plot_param_importances(study_RF)"
      ],
      "execution_count": 37,
      "outputs": [
        {
          "output_type": "stream",
          "text": [
            "2021/08/17 02:44:59 INFO mlflow.utils.autologging_utils: Created MLflow autologging run with ID '940b3117f28a4ae9b6b4c8ed7a0ee6b1', which will track hyperparameters, performance metrics, model artifacts, and lineage information for the current sklearn workflow\n"
          ],
          "name": "stderr"
        },
        {
          "output_type": "display_data",
          "data": {
            "text/html": [
              "<html>\n",
              "<head><meta charset=\"utf-8\" /></head>\n",
              "<body>\n",
              "    <div>\n",
              "            <script src=\"https://cdnjs.cloudflare.com/ajax/libs/mathjax/2.7.5/MathJax.js?config=TeX-AMS-MML_SVG\"></script><script type=\"text/javascript\">if (window.MathJax) {MathJax.Hub.Config({SVG: {font: \"STIX-Web\"}});}</script>\n",
              "                <script type=\"text/javascript\">window.PlotlyConfig = {MathJaxConfig: 'local'};</script>\n",
              "        <script src=\"https://cdn.plot.ly/plotly-latest.min.js\"></script>    \n",
              "            <div id=\"cf62c3f2-86e4-49e8-bb7d-519680525fee\" class=\"plotly-graph-div\" style=\"height:525px; width:100%;\"></div>\n",
              "            <script type=\"text/javascript\">\n",
              "                \n",
              "                    window.PLOTLYENV=window.PLOTLYENV || {};\n",
              "                    \n",
              "                if (document.getElementById(\"cf62c3f2-86e4-49e8-bb7d-519680525fee\")) {\n",
              "                    Plotly.newPlot(\n",
              "                        'cf62c3f2-86e4-49e8-bb7d-519680525fee',\n",
              "                        [{\"cliponaxis\": false, \"hovertemplate\": [\"n_estimators (IntUniformDistribution): 0.01698591774851367<extra></extra>\", \"criterion (CategoricalDistribution): 0.09420731132167431<extra></extra>\", \"max_features (IntUniformDistribution): 0.888806770929812<extra></extra>\"], \"marker\": {\"color\": \"rgb(66,146,198)\"}, \"orientation\": \"h\", \"text\": [\"0.01698591774851367\", \"0.09420731132167431\", \"0.888806770929812\"], \"textposition\": \"outside\", \"texttemplate\": \"%{text:.2f}\", \"type\": \"bar\", \"x\": [0.01698591774851367, 0.09420731132167431, 0.888806770929812], \"y\": [\"n_estimators\", \"criterion\", \"max_features\"]}],\n",
              "                        {\"showlegend\": false, \"template\": {\"data\": {\"bar\": [{\"error_x\": {\"color\": \"#2a3f5f\"}, \"error_y\": {\"color\": \"#2a3f5f\"}, \"marker\": {\"line\": {\"color\": \"#E5ECF6\", \"width\": 0.5}}, \"type\": \"bar\"}], \"barpolar\": [{\"marker\": {\"line\": {\"color\": \"#E5ECF6\", \"width\": 0.5}}, \"type\": \"barpolar\"}], \"carpet\": [{\"aaxis\": {\"endlinecolor\": \"#2a3f5f\", \"gridcolor\": \"white\", \"linecolor\": \"white\", \"minorgridcolor\": \"white\", \"startlinecolor\": \"#2a3f5f\"}, \"baxis\": {\"endlinecolor\": \"#2a3f5f\", \"gridcolor\": \"white\", \"linecolor\": \"white\", \"minorgridcolor\": \"white\", \"startlinecolor\": \"#2a3f5f\"}, \"type\": \"carpet\"}], \"choropleth\": [{\"colorbar\": {\"outlinewidth\": 0, \"ticks\": \"\"}, \"type\": \"choropleth\"}], \"contour\": [{\"colorbar\": {\"outlinewidth\": 0, \"ticks\": \"\"}, \"colorscale\": [[0.0, \"#0d0887\"], [0.1111111111111111, \"#46039f\"], [0.2222222222222222, \"#7201a8\"], [0.3333333333333333, \"#9c179e\"], [0.4444444444444444, \"#bd3786\"], [0.5555555555555556, \"#d8576b\"], [0.6666666666666666, \"#ed7953\"], [0.7777777777777778, \"#fb9f3a\"], [0.8888888888888888, \"#fdca26\"], [1.0, \"#f0f921\"]], \"type\": \"contour\"}], \"contourcarpet\": [{\"colorbar\": {\"outlinewidth\": 0, \"ticks\": \"\"}, \"type\": \"contourcarpet\"}], \"heatmap\": [{\"colorbar\": {\"outlinewidth\": 0, \"ticks\": \"\"}, \"colorscale\": [[0.0, \"#0d0887\"], [0.1111111111111111, \"#46039f\"], [0.2222222222222222, \"#7201a8\"], [0.3333333333333333, \"#9c179e\"], [0.4444444444444444, \"#bd3786\"], [0.5555555555555556, \"#d8576b\"], [0.6666666666666666, \"#ed7953\"], [0.7777777777777778, \"#fb9f3a\"], [0.8888888888888888, \"#fdca26\"], [1.0, \"#f0f921\"]], \"type\": \"heatmap\"}], \"heatmapgl\": [{\"colorbar\": {\"outlinewidth\": 0, \"ticks\": \"\"}, \"colorscale\": [[0.0, \"#0d0887\"], [0.1111111111111111, \"#46039f\"], [0.2222222222222222, \"#7201a8\"], [0.3333333333333333, \"#9c179e\"], [0.4444444444444444, \"#bd3786\"], [0.5555555555555556, \"#d8576b\"], [0.6666666666666666, \"#ed7953\"], [0.7777777777777778, \"#fb9f3a\"], [0.8888888888888888, \"#fdca26\"], [1.0, \"#f0f921\"]], \"type\": \"heatmapgl\"}], \"histogram\": [{\"marker\": {\"colorbar\": {\"outlinewidth\": 0, \"ticks\": \"\"}}, \"type\": \"histogram\"}], \"histogram2d\": [{\"colorbar\": {\"outlinewidth\": 0, \"ticks\": \"\"}, \"colorscale\": [[0.0, \"#0d0887\"], [0.1111111111111111, \"#46039f\"], [0.2222222222222222, \"#7201a8\"], [0.3333333333333333, \"#9c179e\"], [0.4444444444444444, \"#bd3786\"], [0.5555555555555556, \"#d8576b\"], [0.6666666666666666, \"#ed7953\"], [0.7777777777777778, \"#fb9f3a\"], [0.8888888888888888, \"#fdca26\"], [1.0, \"#f0f921\"]], \"type\": \"histogram2d\"}], \"histogram2dcontour\": [{\"colorbar\": {\"outlinewidth\": 0, \"ticks\": \"\"}, \"colorscale\": [[0.0, \"#0d0887\"], [0.1111111111111111, \"#46039f\"], [0.2222222222222222, \"#7201a8\"], [0.3333333333333333, \"#9c179e\"], [0.4444444444444444, \"#bd3786\"], [0.5555555555555556, \"#d8576b\"], [0.6666666666666666, \"#ed7953\"], [0.7777777777777778, \"#fb9f3a\"], [0.8888888888888888, \"#fdca26\"], [1.0, \"#f0f921\"]], \"type\": \"histogram2dcontour\"}], \"mesh3d\": [{\"colorbar\": {\"outlinewidth\": 0, \"ticks\": \"\"}, \"type\": \"mesh3d\"}], \"parcoords\": [{\"line\": {\"colorbar\": {\"outlinewidth\": 0, \"ticks\": \"\"}}, \"type\": \"parcoords\"}], \"pie\": [{\"automargin\": true, \"type\": \"pie\"}], \"scatter\": [{\"marker\": {\"colorbar\": {\"outlinewidth\": 0, \"ticks\": \"\"}}, \"type\": \"scatter\"}], \"scatter3d\": [{\"line\": {\"colorbar\": {\"outlinewidth\": 0, \"ticks\": \"\"}}, \"marker\": {\"colorbar\": {\"outlinewidth\": 0, \"ticks\": \"\"}}, \"type\": \"scatter3d\"}], \"scattercarpet\": [{\"marker\": {\"colorbar\": {\"outlinewidth\": 0, \"ticks\": \"\"}}, \"type\": \"scattercarpet\"}], \"scattergeo\": [{\"marker\": {\"colorbar\": {\"outlinewidth\": 0, \"ticks\": \"\"}}, \"type\": \"scattergeo\"}], \"scattergl\": [{\"marker\": {\"colorbar\": {\"outlinewidth\": 0, \"ticks\": \"\"}}, \"type\": \"scattergl\"}], \"scattermapbox\": [{\"marker\": {\"colorbar\": {\"outlinewidth\": 0, \"ticks\": \"\"}}, \"type\": \"scattermapbox\"}], \"scatterpolar\": [{\"marker\": {\"colorbar\": {\"outlinewidth\": 0, \"ticks\": \"\"}}, \"type\": \"scatterpolar\"}], \"scatterpolargl\": [{\"marker\": {\"colorbar\": {\"outlinewidth\": 0, \"ticks\": \"\"}}, \"type\": \"scatterpolargl\"}], \"scatterternary\": [{\"marker\": {\"colorbar\": {\"outlinewidth\": 0, \"ticks\": \"\"}}, \"type\": \"scatterternary\"}], \"surface\": [{\"colorbar\": {\"outlinewidth\": 0, \"ticks\": \"\"}, \"colorscale\": [[0.0, \"#0d0887\"], [0.1111111111111111, \"#46039f\"], [0.2222222222222222, \"#7201a8\"], [0.3333333333333333, \"#9c179e\"], [0.4444444444444444, \"#bd3786\"], [0.5555555555555556, \"#d8576b\"], [0.6666666666666666, \"#ed7953\"], [0.7777777777777778, \"#fb9f3a\"], [0.8888888888888888, \"#fdca26\"], [1.0, \"#f0f921\"]], \"type\": \"surface\"}], \"table\": [{\"cells\": {\"fill\": {\"color\": \"#EBF0F8\"}, \"line\": {\"color\": \"white\"}}, \"header\": {\"fill\": {\"color\": \"#C8D4E3\"}, \"line\": {\"color\": \"white\"}}, \"type\": \"table\"}]}, \"layout\": {\"annotationdefaults\": {\"arrowcolor\": \"#2a3f5f\", \"arrowhead\": 0, \"arrowwidth\": 1}, \"coloraxis\": {\"colorbar\": {\"outlinewidth\": 0, \"ticks\": \"\"}}, \"colorscale\": {\"diverging\": [[0, \"#8e0152\"], [0.1, \"#c51b7d\"], [0.2, \"#de77ae\"], [0.3, \"#f1b6da\"], [0.4, \"#fde0ef\"], [0.5, \"#f7f7f7\"], [0.6, \"#e6f5d0\"], [0.7, \"#b8e186\"], [0.8, \"#7fbc41\"], [0.9, \"#4d9221\"], [1, \"#276419\"]], \"sequential\": [[0.0, \"#0d0887\"], [0.1111111111111111, \"#46039f\"], [0.2222222222222222, \"#7201a8\"], [0.3333333333333333, \"#9c179e\"], [0.4444444444444444, \"#bd3786\"], [0.5555555555555556, \"#d8576b\"], [0.6666666666666666, \"#ed7953\"], [0.7777777777777778, \"#fb9f3a\"], [0.8888888888888888, \"#fdca26\"], [1.0, \"#f0f921\"]], \"sequentialminus\": [[0.0, \"#0d0887\"], [0.1111111111111111, \"#46039f\"], [0.2222222222222222, \"#7201a8\"], [0.3333333333333333, \"#9c179e\"], [0.4444444444444444, \"#bd3786\"], [0.5555555555555556, \"#d8576b\"], [0.6666666666666666, \"#ed7953\"], [0.7777777777777778, \"#fb9f3a\"], [0.8888888888888888, \"#fdca26\"], [1.0, \"#f0f921\"]]}, \"colorway\": [\"#636efa\", \"#EF553B\", \"#00cc96\", \"#ab63fa\", \"#FFA15A\", \"#19d3f3\", \"#FF6692\", \"#B6E880\", \"#FF97FF\", \"#FECB52\"], \"font\": {\"color\": \"#2a3f5f\"}, \"geo\": {\"bgcolor\": \"white\", \"lakecolor\": \"white\", \"landcolor\": \"#E5ECF6\", \"showlakes\": true, \"showland\": true, \"subunitcolor\": \"white\"}, \"hoverlabel\": {\"align\": \"left\"}, \"hovermode\": \"closest\", \"mapbox\": {\"style\": \"light\"}, \"paper_bgcolor\": \"white\", \"plot_bgcolor\": \"#E5ECF6\", \"polar\": {\"angularaxis\": {\"gridcolor\": \"white\", \"linecolor\": \"white\", \"ticks\": \"\"}, \"bgcolor\": \"#E5ECF6\", \"radialaxis\": {\"gridcolor\": \"white\", \"linecolor\": \"white\", \"ticks\": \"\"}}, \"scene\": {\"xaxis\": {\"backgroundcolor\": \"#E5ECF6\", \"gridcolor\": \"white\", \"gridwidth\": 2, \"linecolor\": \"white\", \"showbackground\": true, \"ticks\": \"\", \"zerolinecolor\": \"white\"}, \"yaxis\": {\"backgroundcolor\": \"#E5ECF6\", \"gridcolor\": \"white\", \"gridwidth\": 2, \"linecolor\": \"white\", \"showbackground\": true, \"ticks\": \"\", \"zerolinecolor\": \"white\"}, \"zaxis\": {\"backgroundcolor\": \"#E5ECF6\", \"gridcolor\": \"white\", \"gridwidth\": 2, \"linecolor\": \"white\", \"showbackground\": true, \"ticks\": \"\", \"zerolinecolor\": \"white\"}}, \"shapedefaults\": {\"line\": {\"color\": \"#2a3f5f\"}}, \"ternary\": {\"aaxis\": {\"gridcolor\": \"white\", \"linecolor\": \"white\", \"ticks\": \"\"}, \"baxis\": {\"gridcolor\": \"white\", \"linecolor\": \"white\", \"ticks\": \"\"}, \"bgcolor\": \"#E5ECF6\", \"caxis\": {\"gridcolor\": \"white\", \"linecolor\": \"white\", \"ticks\": \"\"}}, \"title\": {\"x\": 0.05}, \"xaxis\": {\"automargin\": true, \"gridcolor\": \"white\", \"linecolor\": \"white\", \"ticks\": \"\", \"title\": {\"standoff\": 15}, \"zerolinecolor\": \"white\", \"zerolinewidth\": 2}, \"yaxis\": {\"automargin\": true, \"gridcolor\": \"white\", \"linecolor\": \"white\", \"ticks\": \"\", \"title\": {\"standoff\": 15}, \"zerolinecolor\": \"white\", \"zerolinewidth\": 2}}}, \"title\": {\"text\": \"Hyperparameter Importances\"}, \"xaxis\": {\"title\": {\"text\": \"Importance for Objective Value\"}}, \"yaxis\": {\"title\": {\"text\": \"Hyperparameter\"}}},\n",
              "                        {\"responsive\": true}\n",
              "                    ).then(function(){\n",
              "                            \n",
              "var gd = document.getElementById('cf62c3f2-86e4-49e8-bb7d-519680525fee');\n",
              "var x = new MutationObserver(function (mutations, observer) {{\n",
              "        var display = window.getComputedStyle(gd).display;\n",
              "        if (!display || display === 'none') {{\n",
              "            console.log([gd, 'removed!']);\n",
              "            Plotly.purge(gd);\n",
              "            observer.disconnect();\n",
              "        }}\n",
              "}});\n",
              "\n",
              "// Listen for the removal of the full notebook cells\n",
              "var notebookContainer = gd.closest('#notebook-container');\n",
              "if (notebookContainer) {{\n",
              "    x.observe(notebookContainer, {childList: true});\n",
              "}}\n",
              "\n",
              "// Listen for the clearing of the current output cell\n",
              "var outputEl = gd.closest('.output');\n",
              "if (outputEl) {{\n",
              "    x.observe(outputEl, {childList: true});\n",
              "}}\n",
              "\n",
              "                        })\n",
              "                };\n",
              "                \n",
              "            </script>\n",
              "        </div>\n",
              "</body>\n",
              "</html>"
            ]
          },
          "metadata": {
            "tags": []
          }
        }
      ]
    },
    {
      "cell_type": "markdown",
      "metadata": {
        "id": "JK5cG1qGZf_c"
      },
      "source": [
        "# Escolha do algoritmo"
      ]
    },
    {
      "cell_type": "code",
      "metadata": {
        "id": "6mKi9ckFZnmA"
      },
      "source": [
        "# melhores modelos para cada algoritmo:\n",
        "best_GNB = GaussianNB(var_smoothing=study_GNB.best_trial.params['var_smoothing'])\n",
        "best_KNN = KNeighborsClassifier(n_neighbors=study_KNN.best_trial.params['n_neighbors'], algorithm=study_KNN.best_trial.params['algorithm'], p=study_KNN.best_trial.params['p'])\n",
        "best_DT = DecisionTreeClassifier(criterion=study_DT.best_trial.params['criterion'], max_features=study_DT.best_trial.params['max_features'])\n",
        "best_RF = RandomForestClassifier(n_estimators=study_RF.best_trial.params['n_estimators'], criterion=study_RF.best_trial.params['criterion'])\n",
        "\n",
        "best_models = [best_GNB, best_KNN, best_DT, best_RF]"
      ],
      "execution_count": 38,
      "outputs": []
    },
    {
      "cell_type": "code",
      "metadata": {
        "id": "4tmjzMvCbKDe",
        "colab": {
          "base_uri": "https://localhost:8080/"
        },
        "outputId": "2310c469-0dea-40b8-a00b-706b60924bde"
      },
      "source": [
        "# encontrar o melhor algoritmo\n",
        "\n",
        "experiment_id = mlflow.create_experiment(name='best_algorithm')\n",
        "\n",
        "best_model = best_models[0]\n",
        "best_train_accuracy = 0\n",
        "best_test_accuracy = 0\n",
        "\n",
        "for model in best_models:\n",
        "  with mlflow.start_run(experiment_id=experiment_id):\n",
        "    # treinamento\n",
        "    scores = cross_validate(model, x_battles, y_battles,\n",
        "                            scoring='accuracy', return_train_score=True)\n",
        "\n",
        "    # acurácias\n",
        "    test_accuracies = scores['test_score']\n",
        "    test_accuracy = test_accuracies.mean()\n",
        "    train_accuracies = scores['train_score']\n",
        "    train_accuracy = train_accuracies.mean()\n",
        "\n",
        "    # logging\n",
        "    mlflow.log_metric('test_accuracy', test_accuracy)\n",
        "    mlflow.log_metric('train_accuracy', train_accuracy)\n",
        "    mlflow.sklearn.log_model(model, \"model\")\n",
        "    mlflow.end_run()\n",
        "\n",
        "    # comparação\n",
        "    if test_accuracy > best_test_accuracy:\n",
        "      best_test_accuracy = test_accuracy\n",
        "      best_train_accuracy = train_accuracy\n",
        "      best_model = model\n",
        "\n",
        "print('Best model:\\t', best_model)\n",
        "print('Training accuracy:\\t', best_train_accuracy)\n",
        "print('Test accuracy:\\t\\t', best_test_accuracy)"
      ],
      "execution_count": 39,
      "outputs": [
        {
          "output_type": "stream",
          "text": [
            "Best model:\t KNeighborsClassifier(algorithm='ball_tree', leaf_size=30, metric='minkowski',\n",
            "                     metric_params=None, n_jobs=None, n_neighbors=8, p=1,\n",
            "                     weights='uniform')\n",
            "Training accuracy:\t 0.8679802955665024\n",
            "Test accuracy:\t\t 0.8857142857142858\n"
          ],
          "name": "stdout"
        }
      ]
    },
    {
      "cell_type": "markdown",
      "metadata": {
        "id": "_kfNbeoXmCoU"
      },
      "source": [
        "# Diagnóstico e otimização"
      ]
    },
    {
      "cell_type": "markdown",
      "metadata": {
        "id": "X3tx1O-bjagx"
      },
      "source": [
        "Pelas acurácias dos conjuntos de treinamento e de teste, observamos que o modelo possui alto viés e baixa variância, o que caracteriza um *underfitting*. Ou seja, o modelo não modela bem o conjunto de treinamento.\n",
        "\n",
        "Vamos agora tentar otimizar o modelo selecionado.\n",
        "\n",
        "Pelo plot da importância dos hiperparâmetros utilizados no *study* do optuna podemos ver que a mudança dos parâmetros `algorithm` e `p` não teve muita interferência na acurácia do modelo. Já `n_neighbors` foi o parâmetro mais importante. Por causa disso, vamos manter o `algorithm` e o `p` do modelo atual e fazer variações em outros parâmetros do nosso modelo."
      ]
    },
    {
      "cell_type": "code",
      "metadata": {
        "colab": {
          "base_uri": "https://localhost:8080/",
          "height": 578
        },
        "id": "Y5KjsYF2oAWW",
        "outputId": "e612637d-d5a3-4a3d-b825-ac8890509da9"
      },
      "source": [
        "plot_param_importances(study_KNN)"
      ],
      "execution_count": 40,
      "outputs": [
        {
          "output_type": "stream",
          "text": [
            "2021/08/17 02:45:09 INFO mlflow.utils.autologging_utils: Created MLflow autologging run with ID 'c07fcf0a96de4071b2895ebc649307b9', which will track hyperparameters, performance metrics, model artifacts, and lineage information for the current sklearn workflow\n"
          ],
          "name": "stderr"
        },
        {
          "output_type": "display_data",
          "data": {
            "text/html": [
              "<html>\n",
              "<head><meta charset=\"utf-8\" /></head>\n",
              "<body>\n",
              "    <div>\n",
              "            <script src=\"https://cdnjs.cloudflare.com/ajax/libs/mathjax/2.7.5/MathJax.js?config=TeX-AMS-MML_SVG\"></script><script type=\"text/javascript\">if (window.MathJax) {MathJax.Hub.Config({SVG: {font: \"STIX-Web\"}});}</script>\n",
              "                <script type=\"text/javascript\">window.PlotlyConfig = {MathJaxConfig: 'local'};</script>\n",
              "        <script src=\"https://cdn.plot.ly/plotly-latest.min.js\"></script>    \n",
              "            <div id=\"f612f7d0-83e7-4d21-85b0-01bd56af5cc0\" class=\"plotly-graph-div\" style=\"height:525px; width:100%;\"></div>\n",
              "            <script type=\"text/javascript\">\n",
              "                \n",
              "                    window.PLOTLYENV=window.PLOTLYENV || {};\n",
              "                    \n",
              "                if (document.getElementById(\"f612f7d0-83e7-4d21-85b0-01bd56af5cc0\")) {\n",
              "                    Plotly.newPlot(\n",
              "                        'f612f7d0-83e7-4d21-85b0-01bd56af5cc0',\n",
              "                        [{\"cliponaxis\": false, \"hovertemplate\": [\"p (IntUniformDistribution): 0.009660180638649039<extra></extra>\", \"algorithm (CategoricalDistribution): 0.03226317951367589<extra></extra>\", \"n_neighbors (IntUniformDistribution): 0.9580766398476751<extra></extra>\"], \"marker\": {\"color\": \"rgb(66,146,198)\"}, \"orientation\": \"h\", \"text\": [\"0.009660180638649039\", \"0.03226317951367589\", \"0.9580766398476751\"], \"textposition\": \"outside\", \"texttemplate\": \"%{text:.2f}\", \"type\": \"bar\", \"x\": [0.009660180638649039, 0.03226317951367589, 0.9580766398476751], \"y\": [\"p\", \"algorithm\", \"n_neighbors\"]}],\n",
              "                        {\"showlegend\": false, \"template\": {\"data\": {\"bar\": [{\"error_x\": {\"color\": \"#2a3f5f\"}, \"error_y\": {\"color\": \"#2a3f5f\"}, \"marker\": {\"line\": {\"color\": \"#E5ECF6\", \"width\": 0.5}}, \"type\": \"bar\"}], \"barpolar\": [{\"marker\": {\"line\": {\"color\": \"#E5ECF6\", \"width\": 0.5}}, \"type\": \"barpolar\"}], \"carpet\": [{\"aaxis\": {\"endlinecolor\": \"#2a3f5f\", \"gridcolor\": \"white\", \"linecolor\": \"white\", \"minorgridcolor\": \"white\", \"startlinecolor\": \"#2a3f5f\"}, \"baxis\": {\"endlinecolor\": \"#2a3f5f\", \"gridcolor\": \"white\", \"linecolor\": \"white\", \"minorgridcolor\": \"white\", \"startlinecolor\": \"#2a3f5f\"}, \"type\": \"carpet\"}], \"choropleth\": [{\"colorbar\": {\"outlinewidth\": 0, \"ticks\": \"\"}, \"type\": \"choropleth\"}], \"contour\": [{\"colorbar\": {\"outlinewidth\": 0, \"ticks\": \"\"}, \"colorscale\": [[0.0, \"#0d0887\"], [0.1111111111111111, \"#46039f\"], [0.2222222222222222, \"#7201a8\"], [0.3333333333333333, \"#9c179e\"], [0.4444444444444444, \"#bd3786\"], [0.5555555555555556, \"#d8576b\"], [0.6666666666666666, \"#ed7953\"], [0.7777777777777778, \"#fb9f3a\"], [0.8888888888888888, \"#fdca26\"], [1.0, \"#f0f921\"]], \"type\": \"contour\"}], \"contourcarpet\": [{\"colorbar\": {\"outlinewidth\": 0, \"ticks\": \"\"}, \"type\": \"contourcarpet\"}], \"heatmap\": [{\"colorbar\": {\"outlinewidth\": 0, \"ticks\": \"\"}, \"colorscale\": [[0.0, \"#0d0887\"], [0.1111111111111111, \"#46039f\"], [0.2222222222222222, \"#7201a8\"], [0.3333333333333333, \"#9c179e\"], [0.4444444444444444, \"#bd3786\"], [0.5555555555555556, \"#d8576b\"], [0.6666666666666666, \"#ed7953\"], [0.7777777777777778, \"#fb9f3a\"], [0.8888888888888888, \"#fdca26\"], [1.0, \"#f0f921\"]], \"type\": \"heatmap\"}], \"heatmapgl\": [{\"colorbar\": {\"outlinewidth\": 0, \"ticks\": \"\"}, \"colorscale\": [[0.0, \"#0d0887\"], [0.1111111111111111, \"#46039f\"], [0.2222222222222222, \"#7201a8\"], [0.3333333333333333, \"#9c179e\"], [0.4444444444444444, \"#bd3786\"], [0.5555555555555556, \"#d8576b\"], [0.6666666666666666, \"#ed7953\"], [0.7777777777777778, \"#fb9f3a\"], [0.8888888888888888, \"#fdca26\"], [1.0, \"#f0f921\"]], \"type\": \"heatmapgl\"}], \"histogram\": [{\"marker\": {\"colorbar\": {\"outlinewidth\": 0, \"ticks\": \"\"}}, \"type\": \"histogram\"}], \"histogram2d\": [{\"colorbar\": {\"outlinewidth\": 0, \"ticks\": \"\"}, \"colorscale\": [[0.0, \"#0d0887\"], [0.1111111111111111, \"#46039f\"], [0.2222222222222222, \"#7201a8\"], [0.3333333333333333, \"#9c179e\"], [0.4444444444444444, \"#bd3786\"], [0.5555555555555556, \"#d8576b\"], [0.6666666666666666, \"#ed7953\"], [0.7777777777777778, \"#fb9f3a\"], [0.8888888888888888, \"#fdca26\"], [1.0, \"#f0f921\"]], \"type\": \"histogram2d\"}], \"histogram2dcontour\": [{\"colorbar\": {\"outlinewidth\": 0, \"ticks\": \"\"}, \"colorscale\": [[0.0, \"#0d0887\"], [0.1111111111111111, \"#46039f\"], [0.2222222222222222, \"#7201a8\"], [0.3333333333333333, \"#9c179e\"], [0.4444444444444444, \"#bd3786\"], [0.5555555555555556, \"#d8576b\"], [0.6666666666666666, \"#ed7953\"], [0.7777777777777778, \"#fb9f3a\"], [0.8888888888888888, \"#fdca26\"], [1.0, \"#f0f921\"]], \"type\": \"histogram2dcontour\"}], \"mesh3d\": [{\"colorbar\": {\"outlinewidth\": 0, \"ticks\": \"\"}, \"type\": \"mesh3d\"}], \"parcoords\": [{\"line\": {\"colorbar\": {\"outlinewidth\": 0, \"ticks\": \"\"}}, \"type\": \"parcoords\"}], \"pie\": [{\"automargin\": true, \"type\": \"pie\"}], \"scatter\": [{\"marker\": {\"colorbar\": {\"outlinewidth\": 0, \"ticks\": \"\"}}, \"type\": \"scatter\"}], \"scatter3d\": [{\"line\": {\"colorbar\": {\"outlinewidth\": 0, \"ticks\": \"\"}}, \"marker\": {\"colorbar\": {\"outlinewidth\": 0, \"ticks\": \"\"}}, \"type\": \"scatter3d\"}], \"scattercarpet\": [{\"marker\": {\"colorbar\": {\"outlinewidth\": 0, \"ticks\": \"\"}}, \"type\": \"scattercarpet\"}], \"scattergeo\": [{\"marker\": {\"colorbar\": {\"outlinewidth\": 0, \"ticks\": \"\"}}, \"type\": \"scattergeo\"}], \"scattergl\": [{\"marker\": {\"colorbar\": {\"outlinewidth\": 0, \"ticks\": \"\"}}, \"type\": \"scattergl\"}], \"scattermapbox\": [{\"marker\": {\"colorbar\": {\"outlinewidth\": 0, \"ticks\": \"\"}}, \"type\": \"scattermapbox\"}], \"scatterpolar\": [{\"marker\": {\"colorbar\": {\"outlinewidth\": 0, \"ticks\": \"\"}}, \"type\": \"scatterpolar\"}], \"scatterpolargl\": [{\"marker\": {\"colorbar\": {\"outlinewidth\": 0, \"ticks\": \"\"}}, \"type\": \"scatterpolargl\"}], \"scatterternary\": [{\"marker\": {\"colorbar\": {\"outlinewidth\": 0, \"ticks\": \"\"}}, \"type\": \"scatterternary\"}], \"surface\": [{\"colorbar\": {\"outlinewidth\": 0, \"ticks\": \"\"}, \"colorscale\": [[0.0, \"#0d0887\"], [0.1111111111111111, \"#46039f\"], [0.2222222222222222, \"#7201a8\"], [0.3333333333333333, \"#9c179e\"], [0.4444444444444444, \"#bd3786\"], [0.5555555555555556, \"#d8576b\"], [0.6666666666666666, \"#ed7953\"], [0.7777777777777778, \"#fb9f3a\"], [0.8888888888888888, \"#fdca26\"], [1.0, \"#f0f921\"]], \"type\": \"surface\"}], \"table\": [{\"cells\": {\"fill\": {\"color\": \"#EBF0F8\"}, \"line\": {\"color\": \"white\"}}, \"header\": {\"fill\": {\"color\": \"#C8D4E3\"}, \"line\": {\"color\": \"white\"}}, \"type\": \"table\"}]}, \"layout\": {\"annotationdefaults\": {\"arrowcolor\": \"#2a3f5f\", \"arrowhead\": 0, \"arrowwidth\": 1}, \"coloraxis\": {\"colorbar\": {\"outlinewidth\": 0, \"ticks\": \"\"}}, \"colorscale\": {\"diverging\": [[0, \"#8e0152\"], [0.1, \"#c51b7d\"], [0.2, \"#de77ae\"], [0.3, \"#f1b6da\"], [0.4, \"#fde0ef\"], [0.5, \"#f7f7f7\"], [0.6, \"#e6f5d0\"], [0.7, \"#b8e186\"], [0.8, \"#7fbc41\"], [0.9, \"#4d9221\"], [1, \"#276419\"]], \"sequential\": [[0.0, \"#0d0887\"], [0.1111111111111111, \"#46039f\"], [0.2222222222222222, \"#7201a8\"], [0.3333333333333333, \"#9c179e\"], [0.4444444444444444, \"#bd3786\"], [0.5555555555555556, \"#d8576b\"], [0.6666666666666666, \"#ed7953\"], [0.7777777777777778, \"#fb9f3a\"], [0.8888888888888888, \"#fdca26\"], [1.0, \"#f0f921\"]], \"sequentialminus\": [[0.0, \"#0d0887\"], [0.1111111111111111, \"#46039f\"], [0.2222222222222222, \"#7201a8\"], [0.3333333333333333, \"#9c179e\"], [0.4444444444444444, \"#bd3786\"], [0.5555555555555556, \"#d8576b\"], [0.6666666666666666, \"#ed7953\"], [0.7777777777777778, \"#fb9f3a\"], [0.8888888888888888, \"#fdca26\"], [1.0, \"#f0f921\"]]}, \"colorway\": [\"#636efa\", \"#EF553B\", \"#00cc96\", \"#ab63fa\", \"#FFA15A\", \"#19d3f3\", \"#FF6692\", \"#B6E880\", \"#FF97FF\", \"#FECB52\"], \"font\": {\"color\": \"#2a3f5f\"}, \"geo\": {\"bgcolor\": \"white\", \"lakecolor\": \"white\", \"landcolor\": \"#E5ECF6\", \"showlakes\": true, \"showland\": true, \"subunitcolor\": \"white\"}, \"hoverlabel\": {\"align\": \"left\"}, \"hovermode\": \"closest\", \"mapbox\": {\"style\": \"light\"}, \"paper_bgcolor\": \"white\", \"plot_bgcolor\": \"#E5ECF6\", \"polar\": {\"angularaxis\": {\"gridcolor\": \"white\", \"linecolor\": \"white\", \"ticks\": \"\"}, \"bgcolor\": \"#E5ECF6\", \"radialaxis\": {\"gridcolor\": \"white\", \"linecolor\": \"white\", \"ticks\": \"\"}}, \"scene\": {\"xaxis\": {\"backgroundcolor\": \"#E5ECF6\", \"gridcolor\": \"white\", \"gridwidth\": 2, \"linecolor\": \"white\", \"showbackground\": true, \"ticks\": \"\", \"zerolinecolor\": \"white\"}, \"yaxis\": {\"backgroundcolor\": \"#E5ECF6\", \"gridcolor\": \"white\", \"gridwidth\": 2, \"linecolor\": \"white\", \"showbackground\": true, \"ticks\": \"\", \"zerolinecolor\": \"white\"}, \"zaxis\": {\"backgroundcolor\": \"#E5ECF6\", \"gridcolor\": \"white\", \"gridwidth\": 2, \"linecolor\": \"white\", \"showbackground\": true, \"ticks\": \"\", \"zerolinecolor\": \"white\"}}, \"shapedefaults\": {\"line\": {\"color\": \"#2a3f5f\"}}, \"ternary\": {\"aaxis\": {\"gridcolor\": \"white\", \"linecolor\": \"white\", \"ticks\": \"\"}, \"baxis\": {\"gridcolor\": \"white\", \"linecolor\": \"white\", \"ticks\": \"\"}, \"bgcolor\": \"#E5ECF6\", \"caxis\": {\"gridcolor\": \"white\", \"linecolor\": \"white\", \"ticks\": \"\"}}, \"title\": {\"x\": 0.05}, \"xaxis\": {\"automargin\": true, \"gridcolor\": \"white\", \"linecolor\": \"white\", \"ticks\": \"\", \"title\": {\"standoff\": 15}, \"zerolinecolor\": \"white\", \"zerolinewidth\": 2}, \"yaxis\": {\"automargin\": true, \"gridcolor\": \"white\", \"linecolor\": \"white\", \"ticks\": \"\", \"title\": {\"standoff\": 15}, \"zerolinecolor\": \"white\", \"zerolinewidth\": 2}}}, \"title\": {\"text\": \"Hyperparameter Importances\"}, \"xaxis\": {\"title\": {\"text\": \"Importance for Objective Value\"}}, \"yaxis\": {\"title\": {\"text\": \"Hyperparameter\"}}},\n",
              "                        {\"responsive\": true}\n",
              "                    ).then(function(){\n",
              "                            \n",
              "var gd = document.getElementById('f612f7d0-83e7-4d21-85b0-01bd56af5cc0');\n",
              "var x = new MutationObserver(function (mutations, observer) {{\n",
              "        var display = window.getComputedStyle(gd).display;\n",
              "        if (!display || display === 'none') {{\n",
              "            console.log([gd, 'removed!']);\n",
              "            Plotly.purge(gd);\n",
              "            observer.disconnect();\n",
              "        }}\n",
              "}});\n",
              "\n",
              "// Listen for the removal of the full notebook cells\n",
              "var notebookContainer = gd.closest('#notebook-container');\n",
              "if (notebookContainer) {{\n",
              "    x.observe(notebookContainer, {childList: true});\n",
              "}}\n",
              "\n",
              "// Listen for the clearing of the current output cell\n",
              "var outputEl = gd.closest('.output');\n",
              "if (outputEl) {{\n",
              "    x.observe(outputEl, {childList: true});\n",
              "}}\n",
              "\n",
              "                        })\n",
              "                };\n",
              "                \n",
              "            </script>\n",
              "        </div>\n",
              "</body>\n",
              "</html>"
            ]
          },
          "metadata": {
            "tags": []
          }
        }
      ]
    },
    {
      "cell_type": "code",
      "metadata": {
        "colab": {
          "base_uri": "https://localhost:8080/"
        },
        "id": "leFMdZoWrjeq",
        "outputId": "5dfa9e8a-14a2-44cd-a091-d27a29eec23f"
      },
      "source": [
        "metrics = ['minkowski', 'chebyshev']\n",
        "weights = ['uniform', 'distance']\n",
        "neighbors = range(1, 29) # nº máximo de vizinhos possíveis com esse conjunto de dados\n",
        "\n",
        "scores = []\n",
        "best_accuracy = best_test_accuracy\n",
        "best_model = best_KNN\n",
        "\n",
        "experiment_id = mlflow.create_experiment(name='best_KNN')\n",
        "\n",
        "for metric in metrics:\n",
        "  for weight in weights:\n",
        "    for n_neighbors in neighbors:\n",
        "      with mlflow.start_run(experiment_id=experiment_id):\n",
        "        # modelo\n",
        "        model = KNeighborsClassifier(algorithm=study_KNN.best_trial.params['algorithm'], leaf_size=30,\n",
        "                                     metric=metric, metric_params=None, n_jobs=None, n_neighbors=n_neighbors,\n",
        "                                     p=study_KNN.best_trial.params['p'], weights=weight)\n",
        "  \n",
        "        # treinamento\n",
        "        accuracies = cross_val_score(model, x_battles, y_battles, scoring='accuracy')\n",
        "  \n",
        "        # resultados\n",
        "        accuracy = accuracies.mean()\n",
        "        scores.append(accuracy)\n",
        "\n",
        "        print('{ metric:', metric, ', weight:', weight, ', n_neighbors:', n_neighbors, '}, accuracy:', accuracy)\n",
        "  \n",
        "        # logging\n",
        "        mlflow.log_metric('accuracy', accuracy)\n",
        "        mlflow.sklearn.log_model(model, \"model\")\n",
        "        mlflow.end_run()\n",
        "\n",
        "        # comparação\n",
        "        if accuracy > best_accuracy:\n",
        "          best_accuracy = accuracy\n",
        "          best_model = model"
      ],
      "execution_count": 41,
      "outputs": [
        {
          "output_type": "stream",
          "text": [
            "{ metric: minkowski , weight: uniform , n_neighbors: 1 }, accuracy: 0.7821428571428571\n",
            "{ metric: minkowski , weight: uniform , n_neighbors: 2 }, accuracy: 0.7\n",
            "{ metric: minkowski , weight: uniform , n_neighbors: 3 }, accuracy: 0.8357142857142857\n",
            "{ metric: minkowski , weight: uniform , n_neighbors: 4 }, accuracy: 0.8071428571428572\n",
            "{ metric: minkowski , weight: uniform , n_neighbors: 5 }, accuracy: 0.8321428571428571\n",
            "{ metric: minkowski , weight: uniform , n_neighbors: 6 }, accuracy: 0.8321428571428571\n",
            "{ metric: minkowski , weight: uniform , n_neighbors: 7 }, accuracy: 0.8857142857142858\n",
            "{ metric: minkowski , weight: uniform , n_neighbors: 8 }, accuracy: 0.8857142857142858\n",
            "{ metric: minkowski , weight: uniform , n_neighbors: 9 }, accuracy: 0.8607142857142858\n",
            "{ metric: minkowski , weight: uniform , n_neighbors: 10 }, accuracy: 0.8607142857142858\n",
            "{ metric: minkowski , weight: uniform , n_neighbors: 11 }, accuracy: 0.8607142857142858\n",
            "{ metric: minkowski , weight: uniform , n_neighbors: 12 }, accuracy: 0.8607142857142858\n",
            "{ metric: minkowski , weight: uniform , n_neighbors: 13 }, accuracy: 0.8607142857142858\n",
            "{ metric: minkowski , weight: uniform , n_neighbors: 14 }, accuracy: 0.8607142857142858\n",
            "{ metric: minkowski , weight: uniform , n_neighbors: 15 }, accuracy: 0.8607142857142858\n",
            "{ metric: minkowski , weight: uniform , n_neighbors: 16 }, accuracy: 0.8607142857142858\n",
            "{ metric: minkowski , weight: uniform , n_neighbors: 17 }, accuracy: 0.8607142857142858\n",
            "{ metric: minkowski , weight: uniform , n_neighbors: 18 }, accuracy: 0.8607142857142858\n",
            "{ metric: minkowski , weight: uniform , n_neighbors: 19 }, accuracy: 0.8607142857142858\n",
            "{ metric: minkowski , weight: uniform , n_neighbors: 20 }, accuracy: 0.8607142857142858\n",
            "{ metric: minkowski , weight: uniform , n_neighbors: 21 }, accuracy: 0.8607142857142858\n",
            "{ metric: minkowski , weight: uniform , n_neighbors: 22 }, accuracy: 0.8607142857142858\n",
            "{ metric: minkowski , weight: uniform , n_neighbors: 23 }, accuracy: 0.8607142857142858\n",
            "{ metric: minkowski , weight: uniform , n_neighbors: 24 }, accuracy: 0.8607142857142858\n",
            "{ metric: minkowski , weight: uniform , n_neighbors: 25 }, accuracy: 0.8607142857142858\n",
            "{ metric: minkowski , weight: uniform , n_neighbors: 26 }, accuracy: 0.8607142857142858\n",
            "{ metric: minkowski , weight: uniform , n_neighbors: 27 }, accuracy: 0.8607142857142858\n",
            "{ metric: minkowski , weight: uniform , n_neighbors: 28 }, accuracy: 0.8607142857142858\n",
            "{ metric: minkowski , weight: distance , n_neighbors: 1 }, accuracy: 0.7821428571428571\n",
            "{ metric: minkowski , weight: distance , n_neighbors: 2 }, accuracy: 0.7821428571428571\n",
            "{ metric: minkowski , weight: distance , n_neighbors: 3 }, accuracy: 0.8071428571428572\n",
            "{ metric: minkowski , weight: distance , n_neighbors: 4 }, accuracy: 0.8357142857142857\n",
            "{ metric: minkowski , weight: distance , n_neighbors: 5 }, accuracy: 0.8357142857142857\n",
            "{ metric: minkowski , weight: distance , n_neighbors: 6 }, accuracy: 0.8321428571428571\n",
            "{ metric: minkowski , weight: distance , n_neighbors: 7 }, accuracy: 0.8607142857142858\n",
            "{ metric: minkowski , weight: distance , n_neighbors: 8 }, accuracy: 0.8857142857142858\n",
            "{ metric: minkowski , weight: distance , n_neighbors: 9 }, accuracy: 0.8607142857142858\n",
            "{ metric: minkowski , weight: distance , n_neighbors: 10 }, accuracy: 0.8607142857142858\n",
            "{ metric: minkowski , weight: distance , n_neighbors: 11 }, accuracy: 0.8607142857142858\n",
            "{ metric: minkowski , weight: distance , n_neighbors: 12 }, accuracy: 0.8607142857142858\n",
            "{ metric: minkowski , weight: distance , n_neighbors: 13 }, accuracy: 0.8607142857142858\n",
            "{ metric: minkowski , weight: distance , n_neighbors: 14 }, accuracy: 0.8607142857142858\n",
            "{ metric: minkowski , weight: distance , n_neighbors: 15 }, accuracy: 0.8607142857142858\n",
            "{ metric: minkowski , weight: distance , n_neighbors: 16 }, accuracy: 0.8607142857142858\n",
            "{ metric: minkowski , weight: distance , n_neighbors: 17 }, accuracy: 0.8607142857142858\n",
            "{ metric: minkowski , weight: distance , n_neighbors: 18 }, accuracy: 0.8607142857142858\n",
            "{ metric: minkowski , weight: distance , n_neighbors: 19 }, accuracy: 0.8607142857142858\n",
            "{ metric: minkowski , weight: distance , n_neighbors: 20 }, accuracy: 0.8607142857142858\n",
            "{ metric: minkowski , weight: distance , n_neighbors: 21 }, accuracy: 0.8607142857142858\n",
            "{ metric: minkowski , weight: distance , n_neighbors: 22 }, accuracy: 0.8607142857142858\n",
            "{ metric: minkowski , weight: distance , n_neighbors: 23 }, accuracy: 0.8607142857142858\n",
            "{ metric: minkowski , weight: distance , n_neighbors: 24 }, accuracy: 0.8607142857142858\n",
            "{ metric: minkowski , weight: distance , n_neighbors: 25 }, accuracy: 0.8607142857142858\n",
            "{ metric: minkowski , weight: distance , n_neighbors: 26 }, accuracy: 0.8607142857142858\n",
            "{ metric: minkowski , weight: distance , n_neighbors: 27 }, accuracy: 0.8607142857142858\n",
            "{ metric: minkowski , weight: distance , n_neighbors: 28 }, accuracy: 0.8607142857142858\n",
            "{ metric: chebyshev , weight: uniform , n_neighbors: 1 }, accuracy: 0.8357142857142857\n",
            "{ metric: chebyshev , weight: uniform , n_neighbors: 2 }, accuracy: 0.7\n",
            "{ metric: chebyshev , weight: uniform , n_neighbors: 3 }, accuracy: 0.8321428571428571\n",
            "{ metric: chebyshev , weight: uniform , n_neighbors: 4 }, accuracy: 0.8071428571428572\n",
            "{ metric: chebyshev , weight: uniform , n_neighbors: 5 }, accuracy: 0.8571428571428571\n",
            "{ metric: chebyshev , weight: uniform , n_neighbors: 6 }, accuracy: 0.8607142857142858\n",
            "{ metric: chebyshev , weight: uniform , n_neighbors: 7 }, accuracy: 0.8607142857142858\n",
            "{ metric: chebyshev , weight: uniform , n_neighbors: 8 }, accuracy: 0.8607142857142858\n",
            "{ metric: chebyshev , weight: uniform , n_neighbors: 9 }, accuracy: 0.8607142857142858\n",
            "{ metric: chebyshev , weight: uniform , n_neighbors: 10 }, accuracy: 0.8607142857142858\n",
            "{ metric: chebyshev , weight: uniform , n_neighbors: 11 }, accuracy: 0.8607142857142858\n",
            "{ metric: chebyshev , weight: uniform , n_neighbors: 12 }, accuracy: 0.8607142857142858\n",
            "{ metric: chebyshev , weight: uniform , n_neighbors: 13 }, accuracy: 0.8607142857142858\n",
            "{ metric: chebyshev , weight: uniform , n_neighbors: 14 }, accuracy: 0.8607142857142858\n",
            "{ metric: chebyshev , weight: uniform , n_neighbors: 15 }, accuracy: 0.8607142857142858\n",
            "{ metric: chebyshev , weight: uniform , n_neighbors: 16 }, accuracy: 0.8607142857142858\n",
            "{ metric: chebyshev , weight: uniform , n_neighbors: 17 }, accuracy: 0.8607142857142858\n",
            "{ metric: chebyshev , weight: uniform , n_neighbors: 18 }, accuracy: 0.8607142857142858\n",
            "{ metric: chebyshev , weight: uniform , n_neighbors: 19 }, accuracy: 0.8607142857142858\n",
            "{ metric: chebyshev , weight: uniform , n_neighbors: 20 }, accuracy: 0.8607142857142858\n",
            "{ metric: chebyshev , weight: uniform , n_neighbors: 21 }, accuracy: 0.8607142857142858\n",
            "{ metric: chebyshev , weight: uniform , n_neighbors: 22 }, accuracy: 0.8607142857142858\n",
            "{ metric: chebyshev , weight: uniform , n_neighbors: 23 }, accuracy: 0.8607142857142858\n",
            "{ metric: chebyshev , weight: uniform , n_neighbors: 24 }, accuracy: 0.8607142857142858\n",
            "{ metric: chebyshev , weight: uniform , n_neighbors: 25 }, accuracy: 0.8607142857142858\n",
            "{ metric: chebyshev , weight: uniform , n_neighbors: 26 }, accuracy: 0.8607142857142858\n",
            "{ metric: chebyshev , weight: uniform , n_neighbors: 27 }, accuracy: 0.8607142857142858\n",
            "{ metric: chebyshev , weight: uniform , n_neighbors: 28 }, accuracy: 0.8607142857142858\n",
            "{ metric: chebyshev , weight: distance , n_neighbors: 1 }, accuracy: 0.8357142857142857\n",
            "{ metric: chebyshev , weight: distance , n_neighbors: 2 }, accuracy: 0.8357142857142857\n",
            "{ metric: chebyshev , weight: distance , n_neighbors: 3 }, accuracy: 0.8321428571428571\n",
            "{ metric: chebyshev , weight: distance , n_neighbors: 4 }, accuracy: 0.8607142857142858\n",
            "{ metric: chebyshev , weight: distance , n_neighbors: 5 }, accuracy: 0.8321428571428571\n",
            "{ metric: chebyshev , weight: distance , n_neighbors: 6 }, accuracy: 0.8607142857142858\n",
            "{ metric: chebyshev , weight: distance , n_neighbors: 7 }, accuracy: 0.8642857142857142\n",
            "{ metric: chebyshev , weight: distance , n_neighbors: 8 }, accuracy: 0.8607142857142858\n",
            "{ metric: chebyshev , weight: distance , n_neighbors: 9 }, accuracy: 0.8357142857142857\n",
            "{ metric: chebyshev , weight: distance , n_neighbors: 10 }, accuracy: 0.8607142857142858\n",
            "{ metric: chebyshev , weight: distance , n_neighbors: 11 }, accuracy: 0.8607142857142858\n",
            "{ metric: chebyshev , weight: distance , n_neighbors: 12 }, accuracy: 0.8607142857142858\n",
            "{ metric: chebyshev , weight: distance , n_neighbors: 13 }, accuracy: 0.8607142857142858\n",
            "{ metric: chebyshev , weight: distance , n_neighbors: 14 }, accuracy: 0.8607142857142858\n",
            "{ metric: chebyshev , weight: distance , n_neighbors: 15 }, accuracy: 0.8607142857142858\n",
            "{ metric: chebyshev , weight: distance , n_neighbors: 16 }, accuracy: 0.8607142857142858\n",
            "{ metric: chebyshev , weight: distance , n_neighbors: 17 }, accuracy: 0.8607142857142858\n",
            "{ metric: chebyshev , weight: distance , n_neighbors: 18 }, accuracy: 0.8607142857142858\n",
            "{ metric: chebyshev , weight: distance , n_neighbors: 19 }, accuracy: 0.8607142857142858\n",
            "{ metric: chebyshev , weight: distance , n_neighbors: 20 }, accuracy: 0.8607142857142858\n",
            "{ metric: chebyshev , weight: distance , n_neighbors: 21 }, accuracy: 0.8607142857142858\n",
            "{ metric: chebyshev , weight: distance , n_neighbors: 22 }, accuracy: 0.8607142857142858\n",
            "{ metric: chebyshev , weight: distance , n_neighbors: 23 }, accuracy: 0.8607142857142858\n",
            "{ metric: chebyshev , weight: distance , n_neighbors: 24 }, accuracy: 0.8607142857142858\n",
            "{ metric: chebyshev , weight: distance , n_neighbors: 25 }, accuracy: 0.8607142857142858\n",
            "{ metric: chebyshev , weight: distance , n_neighbors: 26 }, accuracy: 0.8607142857142858\n",
            "{ metric: chebyshev , weight: distance , n_neighbors: 27 }, accuracy: 0.8607142857142858\n",
            "{ metric: chebyshev , weight: distance , n_neighbors: 28 }, accuracy: 0.8607142857142858\n"
          ],
          "name": "stdout"
        }
      ]
    },
    {
      "cell_type": "code",
      "metadata": {
        "id": "9LtrMhZE1m8J",
        "colab": {
          "base_uri": "https://localhost:8080/"
        },
        "outputId": "adcf673e-3ce1-4dfe-8b83-ed0521069819"
      },
      "source": [
        "print('Best model:\\t', best_model)\n",
        "print('Accuracy:\\t', best_accuracy)"
      ],
      "execution_count": 42,
      "outputs": [
        {
          "output_type": "stream",
          "text": [
            "Best model:\t KNeighborsClassifier(algorithm='ball_tree', leaf_size=30, metric='minkowski',\n",
            "                     metric_params=None, n_jobs=None, n_neighbors=8, p=1,\n",
            "                     weights='uniform')\n",
            "Accuracy:\t 0.8857142857142858\n"
          ],
          "name": "stdout"
        }
      ]
    },
    {
      "cell_type": "markdown",
      "metadata": {
        "id": "iLnyW8W_4_Mo"
      },
      "source": [
        "## Comparação"
      ]
    },
    {
      "cell_type": "code",
      "metadata": {
        "colab": {
          "base_uri": "https://localhost:8080/"
        },
        "id": "X2_UBrlM5CeC",
        "outputId": "1b3f3c11-10ce-461e-b280-e80630f6e81c"
      },
      "source": [
        "# antes\n",
        "print('Model:\\t\\t', best_KNN)\n",
        "print('Accuracy:\\t', best_test_accuracy)"
      ],
      "execution_count": 43,
      "outputs": [
        {
          "output_type": "stream",
          "text": [
            "Model:\t\t KNeighborsClassifier(algorithm='ball_tree', leaf_size=30, metric='minkowski',\n",
            "                     metric_params=None, n_jobs=None, n_neighbors=8, p=1,\n",
            "                     weights='uniform')\n",
            "Accuracy:\t 0.8857142857142858\n"
          ],
          "name": "stdout"
        }
      ]
    },
    {
      "cell_type": "code",
      "metadata": {
        "colab": {
          "base_uri": "https://localhost:8080/"
        },
        "id": "WJdEjZJq5KSQ",
        "outputId": "d0ea0f53-6f96-4ff6-855e-a7b4db823139"
      },
      "source": [
        "# depois\n",
        "print('Model:\\t\\t', best_model)\n",
        "print('Accuracy:\\t', best_accuracy)"
      ],
      "execution_count": 44,
      "outputs": [
        {
          "output_type": "stream",
          "text": [
            "Model:\t\t KNeighborsClassifier(algorithm='ball_tree', leaf_size=30, metric='minkowski',\n",
            "                     metric_params=None, n_jobs=None, n_neighbors=8, p=1,\n",
            "                     weights='uniform')\n",
            "Accuracy:\t 0.8857142857142858\n"
          ],
          "name": "stdout"
        }
      ]
    },
    {
      "cell_type": "markdown",
      "metadata": {
        "id": "24KN_rdq-cSu"
      },
      "source": [
        "É possível observar que mesmo variando outros parâmetros do KNN não conseguimos encontrar um modelo com acurácia maior do que a encontrada previamente.\n",
        "\n",
        "Dessa forma, o melhor modelo encontrado possui acurácia de 88,57%, o que não é um valor tão bom, mas como o *dataset* utilizado possui poucos dados, isso já era esperado."
      ]
    }
  ]
}