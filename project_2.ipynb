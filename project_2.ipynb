{
  "nbformat": 4,
  "nbformat_minor": 0,
  "metadata": {
    "colab": {
      "name": "project_2.ipynb",
      "provenance": [],
      "collapsed_sections": [],
      "toc_visible": true,
      "authorship_tag": "ABX9TyMJ/Kwwl21iLexvpqo5Eabu",
      "include_colab_link": true
    },
    "kernelspec": {
      "name": "python3",
      "display_name": "Python 3"
    },
    "language_info": {
      "name": "python"
    }
  },
  "cells": [
    {
      "cell_type": "markdown",
      "metadata": {
        "id": "view-in-github",
        "colab_type": "text"
      },
      "source": [
        "<a href=\"https://colab.research.google.com/github/ccal2/dataScienceProject/blob/master/project_2.ipynb\" target=\"_parent\"><img src=\"https://colab.research.google.com/assets/colab-badge.svg\" alt=\"Open In Colab\"/></a>"
      ]
    },
    {
      "cell_type": "markdown",
      "metadata": {
        "id": "z-l_PYJf0pCJ"
      },
      "source": [
        "# Introdução"
      ]
    },
    {
      "cell_type": "markdown",
      "metadata": {
        "id": "_X3214fz0t9-"
      },
      "source": [
        "Esse projeto foi desenvolvido utilizando um *dataset* que contém dados relacionados à série de livros *A Song of Ice and Fire* (As Crônicas de Gelo e Fogo), mais conhecida pelo título do seu primeiro livro: *A Game of Thrones* (A Guerra dos Tronos).\n",
        "\n",
        "O arquivo `battles_2.csv` foi exportado do arquivo `project.ipynb` e possui informações de várias batalhas que ocorrem durante a história.\n",
        "\n",
        "Nesse projeto iremos utilizar algoritmos de *Machine Learning* para criar um classificador de batalhas em relação ao `attacker_outcome`. Essa coluna possui um valor booleano indicando se o atacante venceu ou não a batalha."
      ]
    },
    {
      "cell_type": "markdown",
      "metadata": {
        "id": "uJ7pfnxmOPNm"
      },
      "source": [
        "# Setup"
      ]
    },
    {
      "cell_type": "markdown",
      "metadata": {
        "id": "P3Y2UPxRgynO"
      },
      "source": [
        "**Lembre-se de dar upload do arquivo `battles_2.csv`.**"
      ]
    },
    {
      "cell_type": "code",
      "metadata": {
        "id": "vdeB_I3iIBIi",
        "colab": {
          "base_uri": "https://localhost:8080/"
        },
        "outputId": "abcfb29f-7bcd-4956-cae8-6a02f0468a0f"
      },
      "source": [
        "!pip install optuna --quiet\n",
        "!pip install mlflow --quiet\n",
        "!pip install pyngrok --quiet"
      ],
      "execution_count": 1,
      "outputs": [
        {
          "output_type": "stream",
          "text": [
            "\u001b[K     |████████████████████████████████| 302 kB 31.3 MB/s \n",
            "\u001b[K     |████████████████████████████████| 164 kB 54.2 MB/s \n",
            "\u001b[K     |████████████████████████████████| 80 kB 6.2 MB/s \n",
            "\u001b[K     |████████████████████████████████| 75 kB 4.1 MB/s \n",
            "\u001b[K     |████████████████████████████████| 141 kB 40.7 MB/s \n",
            "\u001b[K     |████████████████████████████████| 49 kB 4.6 MB/s \n",
            "\u001b[K     |████████████████████████████████| 111 kB 68.8 MB/s \n",
            "\u001b[?25h  Building wheel for pyperclip (setup.py) ... \u001b[?25l\u001b[?25hdone\n",
            "\u001b[K     |████████████████████████████████| 14.4 MB 64 kB/s \n",
            "\u001b[K     |████████████████████████████████| 79 kB 6.7 MB/s \n",
            "\u001b[K     |████████████████████████████████| 146 kB 73.3 MB/s \n",
            "\u001b[K     |████████████████████████████████| 1.1 MB 21.1 MB/s \n",
            "\u001b[K     |████████████████████████████████| 56 kB 4.4 MB/s \n",
            "\u001b[K     |████████████████████████████████| 170 kB 53.7 MB/s \n",
            "\u001b[K     |████████████████████████████████| 636 kB 39.6 MB/s \n",
            "\u001b[K     |████████████████████████████████| 52 kB 1.2 MB/s \n",
            "\u001b[K     |████████████████████████████████| 63 kB 1.6 MB/s \n",
            "\u001b[?25h  Building wheel for alembic (setup.py) ... \u001b[?25l\u001b[?25hdone\n",
            "  Building wheel for databricks-cli (setup.py) ... \u001b[?25l\u001b[?25hdone\n",
            "  Building wheel for prometheus-flask-exporter (setup.py) ... \u001b[?25l\u001b[?25hdone\n",
            "\u001b[K     |████████████████████████████████| 746 kB 32.4 MB/s \n",
            "\u001b[?25h  Building wheel for pyngrok (setup.py) ... \u001b[?25l\u001b[?25hdone\n"
          ],
          "name": "stdout"
        }
      ]
    },
    {
      "cell_type": "code",
      "metadata": {
        "id": "rDlfxjPi_Rh0"
      },
      "source": [
        "import pandas as pd\n",
        "import numpy as np"
      ],
      "execution_count": 2,
      "outputs": []
    },
    {
      "cell_type": "code",
      "metadata": {
        "id": "ktdnzvzFxjSA",
        "colab": {
          "base_uri": "https://localhost:8080/",
          "height": 390
        },
        "outputId": "60e8ac0a-98a1-48c1-8deb-31882d4f1a68"
      },
      "source": [
        "battles = pd.read_csv('battles_2.csv')\n",
        "battles.head()"
      ],
      "execution_count": 3,
      "outputs": [
        {
          "output_type": "execute_result",
          "data": {
            "text/html": [
              "<div>\n",
              "<style scoped>\n",
              "    .dataframe tbody tr th:only-of-type {\n",
              "        vertical-align: middle;\n",
              "    }\n",
              "\n",
              "    .dataframe tbody tr th {\n",
              "        vertical-align: top;\n",
              "    }\n",
              "\n",
              "    .dataframe thead th {\n",
              "        text-align: right;\n",
              "    }\n",
              "</style>\n",
              "<table border=\"1\" class=\"dataframe\">\n",
              "  <thead>\n",
              "    <tr style=\"text-align: right;\">\n",
              "      <th></th>\n",
              "      <th>name</th>\n",
              "      <th>year</th>\n",
              "      <th>attacker_king</th>\n",
              "      <th>defender_king</th>\n",
              "      <th>attacker_1</th>\n",
              "      <th>defender_1</th>\n",
              "      <th>attacker_outcome</th>\n",
              "      <th>battle_type</th>\n",
              "      <th>major_death</th>\n",
              "      <th>major_capture</th>\n",
              "      <th>attacker_size</th>\n",
              "      <th>defender_size</th>\n",
              "      <th>summer</th>\n",
              "      <th>location</th>\n",
              "      <th>region</th>\n",
              "      <th>attacker_commander_1</th>\n",
              "      <th>defender_commander_1</th>\n",
              "      <th>size_difference</th>\n",
              "      <th>size_difference_disc</th>\n",
              "      <th>total_size</th>\n",
              "    </tr>\n",
              "  </thead>\n",
              "  <tbody>\n",
              "    <tr>\n",
              "      <th>0</th>\n",
              "      <td>Battle of the Golden Tooth</td>\n",
              "      <td>298</td>\n",
              "      <td>Joffrey/Tommen Baratheon</td>\n",
              "      <td>Robb Stark</td>\n",
              "      <td>Lannister</td>\n",
              "      <td>Tully</td>\n",
              "      <td>1</td>\n",
              "      <td>pitched battle</td>\n",
              "      <td>1</td>\n",
              "      <td>0</td>\n",
              "      <td>15000.0</td>\n",
              "      <td>4000.0</td>\n",
              "      <td>1</td>\n",
              "      <td>Golden Tooth</td>\n",
              "      <td>The Westerlands</td>\n",
              "      <td>Jaime Lannister</td>\n",
              "      <td>Clement Piper</td>\n",
              "      <td>11000.0</td>\n",
              "      <td>advantage_2</td>\n",
              "      <td>19000.0</td>\n",
              "    </tr>\n",
              "    <tr>\n",
              "      <th>1</th>\n",
              "      <td>Battle at the Mummer's Ford</td>\n",
              "      <td>298</td>\n",
              "      <td>Joffrey/Tommen Baratheon</td>\n",
              "      <td>Robb Stark</td>\n",
              "      <td>Lannister</td>\n",
              "      <td>Baratheon</td>\n",
              "      <td>1</td>\n",
              "      <td>ambush</td>\n",
              "      <td>1</td>\n",
              "      <td>0</td>\n",
              "      <td>7713.0</td>\n",
              "      <td>120.0</td>\n",
              "      <td>1</td>\n",
              "      <td>Mummer's Ford</td>\n",
              "      <td>The Riverlands</td>\n",
              "      <td>Gregor Clegane</td>\n",
              "      <td>Beric Dondarrion</td>\n",
              "      <td>7593.0</td>\n",
              "      <td>advantage_2</td>\n",
              "      <td>7833.0</td>\n",
              "    </tr>\n",
              "    <tr>\n",
              "      <th>2</th>\n",
              "      <td>Battle of Riverrun</td>\n",
              "      <td>298</td>\n",
              "      <td>Joffrey/Tommen Baratheon</td>\n",
              "      <td>Robb Stark</td>\n",
              "      <td>Lannister</td>\n",
              "      <td>Tully</td>\n",
              "      <td>1</td>\n",
              "      <td>pitched battle</td>\n",
              "      <td>0</td>\n",
              "      <td>1</td>\n",
              "      <td>15000.0</td>\n",
              "      <td>10000.0</td>\n",
              "      <td>1</td>\n",
              "      <td>Riverrun</td>\n",
              "      <td>The Riverlands</td>\n",
              "      <td>Jaime Lannister</td>\n",
              "      <td>Edmure Tully</td>\n",
              "      <td>5000.0</td>\n",
              "      <td>advantage_2</td>\n",
              "      <td>25000.0</td>\n",
              "    </tr>\n",
              "    <tr>\n",
              "      <th>3</th>\n",
              "      <td>Battle of the Green Fork</td>\n",
              "      <td>298</td>\n",
              "      <td>Robb Stark</td>\n",
              "      <td>Joffrey/Tommen Baratheon</td>\n",
              "      <td>Stark</td>\n",
              "      <td>Lannister</td>\n",
              "      <td>0</td>\n",
              "      <td>pitched battle</td>\n",
              "      <td>1</td>\n",
              "      <td>1</td>\n",
              "      <td>18000.0</td>\n",
              "      <td>20000.0</td>\n",
              "      <td>1</td>\n",
              "      <td>Green Fork</td>\n",
              "      <td>The Riverlands</td>\n",
              "      <td>Roose Bolton</td>\n",
              "      <td>Tywin Lannister</td>\n",
              "      <td>-2000.0</td>\n",
              "      <td>disavantage_2</td>\n",
              "      <td>38000.0</td>\n",
              "    </tr>\n",
              "    <tr>\n",
              "      <th>4</th>\n",
              "      <td>Battle of the Whispering Wood</td>\n",
              "      <td>298</td>\n",
              "      <td>Robb Stark</td>\n",
              "      <td>Joffrey/Tommen Baratheon</td>\n",
              "      <td>Stark</td>\n",
              "      <td>Lannister</td>\n",
              "      <td>1</td>\n",
              "      <td>ambush</td>\n",
              "      <td>1</td>\n",
              "      <td>1</td>\n",
              "      <td>1875.0</td>\n",
              "      <td>6000.0</td>\n",
              "      <td>1</td>\n",
              "      <td>Whispering Wood</td>\n",
              "      <td>The Riverlands</td>\n",
              "      <td>Robb Stark</td>\n",
              "      <td>Jaime Lannister</td>\n",
              "      <td>-4125.0</td>\n",
              "      <td>disavantage_3</td>\n",
              "      <td>7875.0</td>\n",
              "    </tr>\n",
              "  </tbody>\n",
              "</table>\n",
              "</div>"
            ],
            "text/plain": [
              "                            name  year  ... size_difference_disc total_size\n",
              "0     Battle of the Golden Tooth   298  ...          advantage_2    19000.0\n",
              "1    Battle at the Mummer's Ford   298  ...          advantage_2     7833.0\n",
              "2             Battle of Riverrun   298  ...          advantage_2    25000.0\n",
              "3       Battle of the Green Fork   298  ...        disavantage_2    38000.0\n",
              "4  Battle of the Whispering Wood   298  ...        disavantage_3     7875.0\n",
              "\n",
              "[5 rows x 20 columns]"
            ]
          },
          "metadata": {
            "tags": []
          },
          "execution_count": 3
        }
      ]
    },
    {
      "cell_type": "code",
      "metadata": {
        "colab": {
          "base_uri": "https://localhost:8080/"
        },
        "id": "mNaBoQnC2a51",
        "outputId": "32ad0bb2-86c3-4c2a-d4cf-f79936810b15"
      },
      "source": [
        "battles.dtypes"
      ],
      "execution_count": 4,
      "outputs": [
        {
          "output_type": "execute_result",
          "data": {
            "text/plain": [
              "name                     object\n",
              "year                      int64\n",
              "attacker_king            object\n",
              "defender_king            object\n",
              "attacker_1               object\n",
              "defender_1               object\n",
              "attacker_outcome          int64\n",
              "battle_type              object\n",
              "major_death               int64\n",
              "major_capture             int64\n",
              "attacker_size           float64\n",
              "defender_size           float64\n",
              "summer                    int64\n",
              "location                 object\n",
              "region                   object\n",
              "attacker_commander_1     object\n",
              "defender_commander_1     object\n",
              "size_difference         float64\n",
              "size_difference_disc     object\n",
              "total_size              float64\n",
              "dtype: object"
            ]
          },
          "metadata": {
            "tags": []
          },
          "execution_count": 4
        }
      ]
    },
    {
      "cell_type": "markdown",
      "metadata": {
        "id": "5s0JvGrIruMq"
      },
      "source": [
        "Como a coluna `name` possui valores únicos referentes ao nome da batalha, vamos removê-la. A coluna `size_difference_disc` foi criada no projeto 1 como uma discretização da coluna `size_difference`, então ela também vai ser removida, já que a informação da diferença de tamanho das tropas atacantes e defensoras está duplicada nessas duas colunas."
      ]
    },
    {
      "cell_type": "code",
      "metadata": {
        "id": "60dGNjhYr6g8"
      },
      "source": [
        "battles.drop(columns=['name', 'size_difference_disc'], inplace=True)"
      ],
      "execution_count": 5,
      "outputs": []
    },
    {
      "cell_type": "code",
      "metadata": {
        "colab": {
          "base_uri": "https://localhost:8080/"
        },
        "id": "GW7NuKNS2f-_",
        "outputId": "b83ec002-f757-4452-d21f-8c51e9478a26"
      },
      "source": [
        "# ajustar os tipos dos dados\n",
        "battles['attacker_king'] = battles['attacker_king'].astype('category')\n",
        "battles['defender_king'] = battles['defender_king'].astype('category')\n",
        "battles['attacker_1'] = battles['attacker_1'].astype('category')\n",
        "battles['defender_1'] = battles['defender_1'].astype('category')\n",
        "battles['attacker_outcome'] = battles['attacker_outcome'].astype('category')\n",
        "battles['battle_type'] = battles['battle_type'].astype('category')\n",
        "battles['attacker_size'] = battles['attacker_size'].astype('int64')\n",
        "battles['defender_size'] = battles['defender_size'].astype('int64')\n",
        "battles['location'] = battles['location'].astype('category')\n",
        "battles['region'] = battles['region'].astype('category')\n",
        "battles['attacker_commander_1'] = battles['attacker_commander_1'].astype('category')\n",
        "battles['defender_commander_1'] = battles['defender_commander_1'].astype('category')\n",
        "battles['size_difference'] = battles['size_difference'].astype('int64')\n",
        "battles['total_size'] = battles['total_size'].astype('int64')\n",
        "\n",
        "battles.dtypes"
      ],
      "execution_count": 6,
      "outputs": [
        {
          "output_type": "execute_result",
          "data": {
            "text/plain": [
              "year                       int64\n",
              "attacker_king           category\n",
              "defender_king           category\n",
              "attacker_1              category\n",
              "defender_1              category\n",
              "attacker_outcome        category\n",
              "battle_type             category\n",
              "major_death                int64\n",
              "major_capture              int64\n",
              "attacker_size              int64\n",
              "defender_size              int64\n",
              "summer                     int64\n",
              "location                category\n",
              "region                  category\n",
              "attacker_commander_1    category\n",
              "defender_commander_1    category\n",
              "size_difference            int64\n",
              "total_size                 int64\n",
              "dtype: object"
            ]
          },
          "metadata": {
            "tags": []
          },
          "execution_count": 6
        }
      ]
    },
    {
      "cell_type": "markdown",
      "metadata": {
        "id": "1uwjaClIuU5E"
      },
      "source": [
        "Apesar das colunas `major_death`, `major_capture` e `summer` representarem dados categóricos, esses dados são booleanos (sempre 0 ou 1). Para facilitar as predições, iremos manter essas colunas com seus dados na forma numérica."
      ]
    },
    {
      "cell_type": "code",
      "metadata": {
        "colab": {
          "base_uri": "https://localhost:8080/"
        },
        "id": "1a_dcYEbyhLb",
        "outputId": "9a1a8f15-76fb-4c21-bbb7-be4619720c26"
      },
      "source": [
        "# mostrar que as colunas 'major_death', 'major_capture' e 'summer' só possuem valores 0 e 1\n",
        "battles.groupby('major_death')['attacker_outcome'].count(), \\\n",
        "battles.groupby('major_capture')['attacker_outcome'].count(), \\\n",
        "battles.groupby('summer')['attacker_outcome'].count()"
      ],
      "execution_count": 7,
      "outputs": [
        {
          "output_type": "execute_result",
          "data": {
            "text/plain": [
              "(major_death\n",
              " 0    24\n",
              " 1    12\n",
              " Name: attacker_outcome, dtype: int64, major_capture\n",
              " 0    26\n",
              " 1    10\n",
              " Name: attacker_outcome, dtype: int64, summer\n",
              " 0    10\n",
              " 1    26\n",
              " Name: attacker_outcome, dtype: int64)"
            ]
          },
          "metadata": {
            "tags": []
          },
          "execution_count": 7
        }
      ]
    },
    {
      "cell_type": "code",
      "metadata": {
        "id": "D_8hiwF6G9oH"
      },
      "source": [
        "# separar coluna 'attacker_outcome' para classificação\n",
        "x_battles = battles.drop(columns=['attacker_outcome'])\n",
        "y_battles = battles['attacker_outcome']"
      ],
      "execution_count": 8,
      "outputs": []
    },
    {
      "cell_type": "code",
      "metadata": {
        "colab": {
          "base_uri": "https://localhost:8080/",
          "height": 255
        },
        "id": "QlYGMfd7GR5N",
        "outputId": "b817ba0c-910f-4acc-9d3e-94449167e94d"
      },
      "source": [
        "# one-hot encoding\n",
        "# não modificar colunas com valores numéricos\n",
        "columns_to_keep = ['year', 'major_death', 'major_capture', 'attacker_size', 'defender_size', 'summer', 'size_difference', 'total_size']\n",
        "\n",
        "x_battles = pd.get_dummies(x_battles, columns=x_battles.columns.drop(columns_to_keep))\n",
        "x_battles.head()"
      ],
      "execution_count": 9,
      "outputs": [
        {
          "output_type": "execute_result",
          "data": {
            "text/html": [
              "<div>\n",
              "<style scoped>\n",
              "    .dataframe tbody tr th:only-of-type {\n",
              "        vertical-align: middle;\n",
              "    }\n",
              "\n",
              "    .dataframe tbody tr th {\n",
              "        vertical-align: top;\n",
              "    }\n",
              "\n",
              "    .dataframe thead th {\n",
              "        text-align: right;\n",
              "    }\n",
              "</style>\n",
              "<table border=\"1\" class=\"dataframe\">\n",
              "  <thead>\n",
              "    <tr style=\"text-align: right;\">\n",
              "      <th></th>\n",
              "      <th>year</th>\n",
              "      <th>major_death</th>\n",
              "      <th>major_capture</th>\n",
              "      <th>attacker_size</th>\n",
              "      <th>defender_size</th>\n",
              "      <th>summer</th>\n",
              "      <th>size_difference</th>\n",
              "      <th>total_size</th>\n",
              "      <th>attacker_king_Balon/Euron Greyjoy</th>\n",
              "      <th>attacker_king_Joffrey/Tommen Baratheon</th>\n",
              "      <th>attacker_king_None</th>\n",
              "      <th>attacker_king_Robb Stark</th>\n",
              "      <th>attacker_king_Stannis Baratheon</th>\n",
              "      <th>defender_king_Balon/Euron Greyjoy</th>\n",
              "      <th>defender_king_Joffrey/Tommen Baratheon</th>\n",
              "      <th>defender_king_None</th>\n",
              "      <th>defender_king_Renly Baratheon</th>\n",
              "      <th>defender_king_Robb Stark</th>\n",
              "      <th>defender_king_Stannis Baratheon</th>\n",
              "      <th>attacker_1_Baratheon</th>\n",
              "      <th>attacker_1_Bolton</th>\n",
              "      <th>attacker_1_Bracken</th>\n",
              "      <th>attacker_1_Brave Companions</th>\n",
              "      <th>attacker_1_Darry</th>\n",
              "      <th>attacker_1_Frey</th>\n",
              "      <th>attacker_1_Greyjoy</th>\n",
              "      <th>attacker_1_Lannister</th>\n",
              "      <th>attacker_1_Stark</th>\n",
              "      <th>defender_1_Baratheon</th>\n",
              "      <th>defender_1_Blackwood</th>\n",
              "      <th>defender_1_Bolton</th>\n",
              "      <th>defender_1_Brave Companions</th>\n",
              "      <th>defender_1_Darry</th>\n",
              "      <th>defender_1_Greyjoy</th>\n",
              "      <th>defender_1_Lannister</th>\n",
              "      <th>defender_1_Mallister</th>\n",
              "      <th>defender_1_None</th>\n",
              "      <th>defender_1_Stark</th>\n",
              "      <th>defender_1_Tully</th>\n",
              "      <th>defender_1_Tyrell</th>\n",
              "      <th>...</th>\n",
              "      <th>attacker_commander_1_Loras Tyrell</th>\n",
              "      <th>attacker_commander_1_Mace Tyrell</th>\n",
              "      <th>attacker_commander_1_Ramsay Snow</th>\n",
              "      <th>attacker_commander_1_Ramsey Bolton</th>\n",
              "      <th>attacker_commander_1_Robb Stark</th>\n",
              "      <th>attacker_commander_1_Robertt Glover</th>\n",
              "      <th>attacker_commander_1_Rodrik Cassel</th>\n",
              "      <th>attacker_commander_1_Roose Bolton</th>\n",
              "      <th>attacker_commander_1_Rorge</th>\n",
              "      <th>attacker_commander_1_Stannis Baratheon</th>\n",
              "      <th>attacker_commander_1_Theon Greyjoy</th>\n",
              "      <th>attacker_commander_1_Tywin Lannister</th>\n",
              "      <th>attacker_commander_1_Victarion Greyjoy</th>\n",
              "      <th>attacker_commander_1_Walder Frey</th>\n",
              "      <th>defender_commander_1_Amory Lorch</th>\n",
              "      <th>defender_commander_1_Asha Greyjoy</th>\n",
              "      <th>defender_commander_1_Beric Dondarrion</th>\n",
              "      <th>defender_commander_1_Bran Stark</th>\n",
              "      <th>defender_commander_1_Brynden Tully</th>\n",
              "      <th>defender_commander_1_Clement Piper</th>\n",
              "      <th>defender_commander_1_Dagmer Cleftjaw</th>\n",
              "      <th>defender_commander_1_Edmure Tully</th>\n",
              "      <th>defender_commander_1_Gilbert Farring</th>\n",
              "      <th>defender_commander_1_Jaime Lannister</th>\n",
              "      <th>defender_commander_1_Jason Mallister</th>\n",
              "      <th>defender_commander_1_Lord Andros Brax</th>\n",
              "      <th>defender_commander_1_Lyman Darry</th>\n",
              "      <th>defender_commander_1_Randyll Tarly</th>\n",
              "      <th>defender_commander_1_Renly Baratheon</th>\n",
              "      <th>defender_commander_1_Robb Stark</th>\n",
              "      <th>defender_commander_1_Rodrik Cassel</th>\n",
              "      <th>defender_commander_1_Rolland Storm</th>\n",
              "      <th>defender_commander_1_Rolph Spicer</th>\n",
              "      <th>defender_commander_1_Roose Bolton</th>\n",
              "      <th>defender_commander_1_Stafford Lannister</th>\n",
              "      <th>defender_commander_1_Tyrion Lannister</th>\n",
              "      <th>defender_commander_1_Tytos Blackwood</th>\n",
              "      <th>defender_commander_1_Tywin Lannister</th>\n",
              "      <th>defender_commander_1_Unknown</th>\n",
              "      <th>defender_commander_1_Vargo Hoat</th>\n",
              "    </tr>\n",
              "  </thead>\n",
              "  <tbody>\n",
              "    <tr>\n",
              "      <th>0</th>\n",
              "      <td>298</td>\n",
              "      <td>1</td>\n",
              "      <td>0</td>\n",
              "      <td>15000</td>\n",
              "      <td>4000</td>\n",
              "      <td>1</td>\n",
              "      <td>11000</td>\n",
              "      <td>19000</td>\n",
              "      <td>0</td>\n",
              "      <td>1</td>\n",
              "      <td>0</td>\n",
              "      <td>0</td>\n",
              "      <td>0</td>\n",
              "      <td>0</td>\n",
              "      <td>0</td>\n",
              "      <td>0</td>\n",
              "      <td>0</td>\n",
              "      <td>1</td>\n",
              "      <td>0</td>\n",
              "      <td>0</td>\n",
              "      <td>0</td>\n",
              "      <td>0</td>\n",
              "      <td>0</td>\n",
              "      <td>0</td>\n",
              "      <td>0</td>\n",
              "      <td>0</td>\n",
              "      <td>1</td>\n",
              "      <td>0</td>\n",
              "      <td>0</td>\n",
              "      <td>0</td>\n",
              "      <td>0</td>\n",
              "      <td>0</td>\n",
              "      <td>0</td>\n",
              "      <td>0</td>\n",
              "      <td>0</td>\n",
              "      <td>0</td>\n",
              "      <td>0</td>\n",
              "      <td>0</td>\n",
              "      <td>1</td>\n",
              "      <td>0</td>\n",
              "      <td>...</td>\n",
              "      <td>0</td>\n",
              "      <td>0</td>\n",
              "      <td>0</td>\n",
              "      <td>0</td>\n",
              "      <td>0</td>\n",
              "      <td>0</td>\n",
              "      <td>0</td>\n",
              "      <td>0</td>\n",
              "      <td>0</td>\n",
              "      <td>0</td>\n",
              "      <td>0</td>\n",
              "      <td>0</td>\n",
              "      <td>0</td>\n",
              "      <td>0</td>\n",
              "      <td>0</td>\n",
              "      <td>0</td>\n",
              "      <td>0</td>\n",
              "      <td>0</td>\n",
              "      <td>0</td>\n",
              "      <td>1</td>\n",
              "      <td>0</td>\n",
              "      <td>0</td>\n",
              "      <td>0</td>\n",
              "      <td>0</td>\n",
              "      <td>0</td>\n",
              "      <td>0</td>\n",
              "      <td>0</td>\n",
              "      <td>0</td>\n",
              "      <td>0</td>\n",
              "      <td>0</td>\n",
              "      <td>0</td>\n",
              "      <td>0</td>\n",
              "      <td>0</td>\n",
              "      <td>0</td>\n",
              "      <td>0</td>\n",
              "      <td>0</td>\n",
              "      <td>0</td>\n",
              "      <td>0</td>\n",
              "      <td>0</td>\n",
              "      <td>0</td>\n",
              "    </tr>\n",
              "    <tr>\n",
              "      <th>1</th>\n",
              "      <td>298</td>\n",
              "      <td>1</td>\n",
              "      <td>0</td>\n",
              "      <td>7713</td>\n",
              "      <td>120</td>\n",
              "      <td>1</td>\n",
              "      <td>7593</td>\n",
              "      <td>7833</td>\n",
              "      <td>0</td>\n",
              "      <td>1</td>\n",
              "      <td>0</td>\n",
              "      <td>0</td>\n",
              "      <td>0</td>\n",
              "      <td>0</td>\n",
              "      <td>0</td>\n",
              "      <td>0</td>\n",
              "      <td>0</td>\n",
              "      <td>1</td>\n",
              "      <td>0</td>\n",
              "      <td>0</td>\n",
              "      <td>0</td>\n",
              "      <td>0</td>\n",
              "      <td>0</td>\n",
              "      <td>0</td>\n",
              "      <td>0</td>\n",
              "      <td>0</td>\n",
              "      <td>1</td>\n",
              "      <td>0</td>\n",
              "      <td>1</td>\n",
              "      <td>0</td>\n",
              "      <td>0</td>\n",
              "      <td>0</td>\n",
              "      <td>0</td>\n",
              "      <td>0</td>\n",
              "      <td>0</td>\n",
              "      <td>0</td>\n",
              "      <td>0</td>\n",
              "      <td>0</td>\n",
              "      <td>0</td>\n",
              "      <td>0</td>\n",
              "      <td>...</td>\n",
              "      <td>0</td>\n",
              "      <td>0</td>\n",
              "      <td>0</td>\n",
              "      <td>0</td>\n",
              "      <td>0</td>\n",
              "      <td>0</td>\n",
              "      <td>0</td>\n",
              "      <td>0</td>\n",
              "      <td>0</td>\n",
              "      <td>0</td>\n",
              "      <td>0</td>\n",
              "      <td>0</td>\n",
              "      <td>0</td>\n",
              "      <td>0</td>\n",
              "      <td>0</td>\n",
              "      <td>0</td>\n",
              "      <td>1</td>\n",
              "      <td>0</td>\n",
              "      <td>0</td>\n",
              "      <td>0</td>\n",
              "      <td>0</td>\n",
              "      <td>0</td>\n",
              "      <td>0</td>\n",
              "      <td>0</td>\n",
              "      <td>0</td>\n",
              "      <td>0</td>\n",
              "      <td>0</td>\n",
              "      <td>0</td>\n",
              "      <td>0</td>\n",
              "      <td>0</td>\n",
              "      <td>0</td>\n",
              "      <td>0</td>\n",
              "      <td>0</td>\n",
              "      <td>0</td>\n",
              "      <td>0</td>\n",
              "      <td>0</td>\n",
              "      <td>0</td>\n",
              "      <td>0</td>\n",
              "      <td>0</td>\n",
              "      <td>0</td>\n",
              "    </tr>\n",
              "    <tr>\n",
              "      <th>2</th>\n",
              "      <td>298</td>\n",
              "      <td>0</td>\n",
              "      <td>1</td>\n",
              "      <td>15000</td>\n",
              "      <td>10000</td>\n",
              "      <td>1</td>\n",
              "      <td>5000</td>\n",
              "      <td>25000</td>\n",
              "      <td>0</td>\n",
              "      <td>1</td>\n",
              "      <td>0</td>\n",
              "      <td>0</td>\n",
              "      <td>0</td>\n",
              "      <td>0</td>\n",
              "      <td>0</td>\n",
              "      <td>0</td>\n",
              "      <td>0</td>\n",
              "      <td>1</td>\n",
              "      <td>0</td>\n",
              "      <td>0</td>\n",
              "      <td>0</td>\n",
              "      <td>0</td>\n",
              "      <td>0</td>\n",
              "      <td>0</td>\n",
              "      <td>0</td>\n",
              "      <td>0</td>\n",
              "      <td>1</td>\n",
              "      <td>0</td>\n",
              "      <td>0</td>\n",
              "      <td>0</td>\n",
              "      <td>0</td>\n",
              "      <td>0</td>\n",
              "      <td>0</td>\n",
              "      <td>0</td>\n",
              "      <td>0</td>\n",
              "      <td>0</td>\n",
              "      <td>0</td>\n",
              "      <td>0</td>\n",
              "      <td>1</td>\n",
              "      <td>0</td>\n",
              "      <td>...</td>\n",
              "      <td>0</td>\n",
              "      <td>0</td>\n",
              "      <td>0</td>\n",
              "      <td>0</td>\n",
              "      <td>0</td>\n",
              "      <td>0</td>\n",
              "      <td>0</td>\n",
              "      <td>0</td>\n",
              "      <td>0</td>\n",
              "      <td>0</td>\n",
              "      <td>0</td>\n",
              "      <td>0</td>\n",
              "      <td>0</td>\n",
              "      <td>0</td>\n",
              "      <td>0</td>\n",
              "      <td>0</td>\n",
              "      <td>0</td>\n",
              "      <td>0</td>\n",
              "      <td>0</td>\n",
              "      <td>0</td>\n",
              "      <td>0</td>\n",
              "      <td>1</td>\n",
              "      <td>0</td>\n",
              "      <td>0</td>\n",
              "      <td>0</td>\n",
              "      <td>0</td>\n",
              "      <td>0</td>\n",
              "      <td>0</td>\n",
              "      <td>0</td>\n",
              "      <td>0</td>\n",
              "      <td>0</td>\n",
              "      <td>0</td>\n",
              "      <td>0</td>\n",
              "      <td>0</td>\n",
              "      <td>0</td>\n",
              "      <td>0</td>\n",
              "      <td>0</td>\n",
              "      <td>0</td>\n",
              "      <td>0</td>\n",
              "      <td>0</td>\n",
              "    </tr>\n",
              "    <tr>\n",
              "      <th>3</th>\n",
              "      <td>298</td>\n",
              "      <td>1</td>\n",
              "      <td>1</td>\n",
              "      <td>18000</td>\n",
              "      <td>20000</td>\n",
              "      <td>1</td>\n",
              "      <td>-2000</td>\n",
              "      <td>38000</td>\n",
              "      <td>0</td>\n",
              "      <td>0</td>\n",
              "      <td>0</td>\n",
              "      <td>1</td>\n",
              "      <td>0</td>\n",
              "      <td>0</td>\n",
              "      <td>1</td>\n",
              "      <td>0</td>\n",
              "      <td>0</td>\n",
              "      <td>0</td>\n",
              "      <td>0</td>\n",
              "      <td>0</td>\n",
              "      <td>0</td>\n",
              "      <td>0</td>\n",
              "      <td>0</td>\n",
              "      <td>0</td>\n",
              "      <td>0</td>\n",
              "      <td>0</td>\n",
              "      <td>0</td>\n",
              "      <td>1</td>\n",
              "      <td>0</td>\n",
              "      <td>0</td>\n",
              "      <td>0</td>\n",
              "      <td>0</td>\n",
              "      <td>0</td>\n",
              "      <td>0</td>\n",
              "      <td>1</td>\n",
              "      <td>0</td>\n",
              "      <td>0</td>\n",
              "      <td>0</td>\n",
              "      <td>0</td>\n",
              "      <td>0</td>\n",
              "      <td>...</td>\n",
              "      <td>0</td>\n",
              "      <td>0</td>\n",
              "      <td>0</td>\n",
              "      <td>0</td>\n",
              "      <td>0</td>\n",
              "      <td>0</td>\n",
              "      <td>0</td>\n",
              "      <td>1</td>\n",
              "      <td>0</td>\n",
              "      <td>0</td>\n",
              "      <td>0</td>\n",
              "      <td>0</td>\n",
              "      <td>0</td>\n",
              "      <td>0</td>\n",
              "      <td>0</td>\n",
              "      <td>0</td>\n",
              "      <td>0</td>\n",
              "      <td>0</td>\n",
              "      <td>0</td>\n",
              "      <td>0</td>\n",
              "      <td>0</td>\n",
              "      <td>0</td>\n",
              "      <td>0</td>\n",
              "      <td>0</td>\n",
              "      <td>0</td>\n",
              "      <td>0</td>\n",
              "      <td>0</td>\n",
              "      <td>0</td>\n",
              "      <td>0</td>\n",
              "      <td>0</td>\n",
              "      <td>0</td>\n",
              "      <td>0</td>\n",
              "      <td>0</td>\n",
              "      <td>0</td>\n",
              "      <td>0</td>\n",
              "      <td>0</td>\n",
              "      <td>0</td>\n",
              "      <td>1</td>\n",
              "      <td>0</td>\n",
              "      <td>0</td>\n",
              "    </tr>\n",
              "    <tr>\n",
              "      <th>4</th>\n",
              "      <td>298</td>\n",
              "      <td>1</td>\n",
              "      <td>1</td>\n",
              "      <td>1875</td>\n",
              "      <td>6000</td>\n",
              "      <td>1</td>\n",
              "      <td>-4125</td>\n",
              "      <td>7875</td>\n",
              "      <td>0</td>\n",
              "      <td>0</td>\n",
              "      <td>0</td>\n",
              "      <td>1</td>\n",
              "      <td>0</td>\n",
              "      <td>0</td>\n",
              "      <td>1</td>\n",
              "      <td>0</td>\n",
              "      <td>0</td>\n",
              "      <td>0</td>\n",
              "      <td>0</td>\n",
              "      <td>0</td>\n",
              "      <td>0</td>\n",
              "      <td>0</td>\n",
              "      <td>0</td>\n",
              "      <td>0</td>\n",
              "      <td>0</td>\n",
              "      <td>0</td>\n",
              "      <td>0</td>\n",
              "      <td>1</td>\n",
              "      <td>0</td>\n",
              "      <td>0</td>\n",
              "      <td>0</td>\n",
              "      <td>0</td>\n",
              "      <td>0</td>\n",
              "      <td>0</td>\n",
              "      <td>1</td>\n",
              "      <td>0</td>\n",
              "      <td>0</td>\n",
              "      <td>0</td>\n",
              "      <td>0</td>\n",
              "      <td>0</td>\n",
              "      <td>...</td>\n",
              "      <td>0</td>\n",
              "      <td>0</td>\n",
              "      <td>0</td>\n",
              "      <td>0</td>\n",
              "      <td>1</td>\n",
              "      <td>0</td>\n",
              "      <td>0</td>\n",
              "      <td>0</td>\n",
              "      <td>0</td>\n",
              "      <td>0</td>\n",
              "      <td>0</td>\n",
              "      <td>0</td>\n",
              "      <td>0</td>\n",
              "      <td>0</td>\n",
              "      <td>0</td>\n",
              "      <td>0</td>\n",
              "      <td>0</td>\n",
              "      <td>0</td>\n",
              "      <td>0</td>\n",
              "      <td>0</td>\n",
              "      <td>0</td>\n",
              "      <td>0</td>\n",
              "      <td>0</td>\n",
              "      <td>1</td>\n",
              "      <td>0</td>\n",
              "      <td>0</td>\n",
              "      <td>0</td>\n",
              "      <td>0</td>\n",
              "      <td>0</td>\n",
              "      <td>0</td>\n",
              "      <td>0</td>\n",
              "      <td>0</td>\n",
              "      <td>0</td>\n",
              "      <td>0</td>\n",
              "      <td>0</td>\n",
              "      <td>0</td>\n",
              "      <td>0</td>\n",
              "      <td>0</td>\n",
              "      <td>0</td>\n",
              "      <td>0</td>\n",
              "    </tr>\n",
              "  </tbody>\n",
              "</table>\n",
              "<p>5 rows × 124 columns</p>\n",
              "</div>"
            ],
            "text/plain": [
              "   year  ...  defender_commander_1_Vargo Hoat\n",
              "0   298  ...                                0\n",
              "1   298  ...                                0\n",
              "2   298  ...                                0\n",
              "3   298  ...                                0\n",
              "4   298  ...                                0\n",
              "\n",
              "[5 rows x 124 columns]"
            ]
          },
          "metadata": {
            "tags": []
          },
          "execution_count": 9
        }
      ]
    },
    {
      "cell_type": "markdown",
      "metadata": {
        "id": "-duiUa3Y8B1N"
      },
      "source": [
        "# Geração dos modelos"
      ]
    },
    {
      "cell_type": "code",
      "metadata": {
        "colab": {
          "base_uri": "https://localhost:8080/"
        },
        "id": "gCM7jjxr4CuP",
        "outputId": "d3e55d2c-9322-4b51-af1f-e4aa9eaa4b7f"
      },
      "source": [
        "x_battles.shape"
      ],
      "execution_count": 10,
      "outputs": [
        {
          "output_type": "execute_result",
          "data": {
            "text/plain": [
              "(36, 124)"
            ]
          },
          "metadata": {
            "tags": []
          },
          "execution_count": 10
        }
      ]
    },
    {
      "cell_type": "markdown",
      "metadata": {
        "id": "l57mTj0839WS"
      },
      "source": [
        "Como temos poucos dados, vamos utilizar cross-validation."
      ]
    },
    {
      "cell_type": "code",
      "metadata": {
        "id": "rADKG1vD4WnM"
      },
      "source": [
        "from sklearn.model_selection import cross_validate"
      ],
      "execution_count": 11,
      "outputs": []
    },
    {
      "cell_type": "markdown",
      "metadata": {
        "id": "F3-7R0_l4O-D"
      },
      "source": [
        "Os algoritmos utilizados serão:\n",
        "1. Gaussian Naive Bayes\n",
        "2. KNN\n",
        "3. Decision Tree\n",
        "4. Random Forest"
      ]
    },
    {
      "cell_type": "markdown",
      "metadata": {
        "id": "0B0fl0KMHkjH"
      },
      "source": [
        "Vamos utilizar o Optuna para fazer a seleção dos hiper-parâmetros."
      ]
    },
    {
      "cell_type": "code",
      "metadata": {
        "id": "flZ-tJYOISDK"
      },
      "source": [
        "import optuna\n",
        "from optuna.visualization import plot_param_importances"
      ],
      "execution_count": 12,
      "outputs": []
    },
    {
      "cell_type": "code",
      "metadata": {
        "id": "vH6CHdt9axlT"
      },
      "source": [
        "np.random.seed(10)\n",
        "NUMBER_OF_TRIALS = 50"
      ],
      "execution_count": 13,
      "outputs": []
    },
    {
      "cell_type": "code",
      "metadata": {
        "id": "vHX-RMIyBJA1"
      },
      "source": [
        "# logging\n",
        "import mlflow\n",
        "import warnings\n",
        "\n",
        "mlflow.sklearn.autolog()\n",
        "warnings.filterwarnings(\"ignore\")"
      ],
      "execution_count": 14,
      "outputs": []
    },
    {
      "cell_type": "markdown",
      "metadata": {
        "id": "QGuzCL-dN8df"
      },
      "source": [
        "## Gaussian Naive Bayes"
      ]
    },
    {
      "cell_type": "code",
      "metadata": {
        "id": "oVDPaP7WXTso"
      },
      "source": [
        "from sklearn.naive_bayes import GaussianNB"
      ],
      "execution_count": 15,
      "outputs": []
    },
    {
      "cell_type": "code",
      "metadata": {
        "id": "PVI00VKxnEFT"
      },
      "source": [
        "experiment_id = mlflow.create_experiment(name='gaussianNB')\n",
        "\n",
        "def gaussianNB(trial):\n",
        "  with mlflow.start_run(experiment_id=experiment_id):\n",
        "    # definição dos hiper-parâmetros\n",
        "    params = {'var_smoothing': trial.suggest_float('var_smoothing', 1e-10, 1e-08)}\n",
        "\n",
        "    model = GaussianNB(var_smoothing=params['var_smoothing'])\n",
        "\n",
        "    # treinamento\n",
        "    scores = cross_validate(model, x_battles, y_battles,\n",
        "                            scoring='accuracy', return_train_score=True)\n",
        "\n",
        "    # acurácias\n",
        "    test_accuracies = scores['test_score']\n",
        "    test_accuracy = test_accuracies.mean()\n",
        "    train_accuracies = scores['train_score']\n",
        "    train_accuracy = train_accuracies.mean()\n",
        "\n",
        "    # salvar acurácia de treinamento no trial\n",
        "    trial.set_user_attr('train_accuracy', train_accuracy)\n",
        "\n",
        "    # logging\n",
        "    mlflow.log_params(params)\n",
        "    mlflow.log_metric('test_accuracy', test_accuracy)\n",
        "    mlflow.log_metric('train_accuracy', train_accuracy)\n",
        "    mlflow.sklearn.log_model(model, \"model\")\n",
        "    mlflow.end_run()\n",
        "\n",
        "  return test_accuracy"
      ],
      "execution_count": 16,
      "outputs": []
    },
    {
      "cell_type": "code",
      "metadata": {
        "colab": {
          "base_uri": "https://localhost:8080/"
        },
        "id": "7dbXSRMlnzAd",
        "outputId": "08c5032c-7226-4659-fabc-7046524c1043"
      },
      "source": [
        "study_GNB = optuna.create_study(direction='maximize')\n",
        "study_GNB.optimize(gaussianNB, n_trials=NUMBER_OF_TRIALS)"
      ],
      "execution_count": 17,
      "outputs": [
        {
          "output_type": "stream",
          "text": [
            "\u001b[32m[I 2021-08-16 21:31:07,244]\u001b[0m A new study created in memory with name: no-name-84700337-9dda-4b8e-b3f6-d6914debb856\u001b[0m\n",
            "\u001b[32m[I 2021-08-16 21:31:09,082]\u001b[0m Trial 0 finished with value: 0.7285714285714285 and parameters: {'var_smoothing': 3.805268071110081e-09}. Best is trial 0 with value: 0.7285714285714285.\u001b[0m\n",
            "\u001b[32m[I 2021-08-16 21:31:10,923]\u001b[0m Trial 1 finished with value: 0.7571428571428572 and parameters: {'var_smoothing': 3.130158451488061e-09}. Best is trial 1 with value: 0.7571428571428572.\u001b[0m\n",
            "\u001b[32m[I 2021-08-16 21:31:12,824]\u001b[0m Trial 2 finished with value: 0.7571428571428572 and parameters: {'var_smoothing': 3.122840903404032e-09}. Best is trial 1 with value: 0.7571428571428572.\u001b[0m\n",
            "\u001b[32m[I 2021-08-16 21:31:14,598]\u001b[0m Trial 3 finished with value: 0.7285714285714285 and parameters: {'var_smoothing': 2.151558345779655e-09}. Best is trial 1 with value: 0.7571428571428572.\u001b[0m\n",
            "\u001b[32m[I 2021-08-16 21:31:16,566]\u001b[0m Trial 4 finished with value: 0.7571428571428571 and parameters: {'var_smoothing': 7.963957631187588e-09}. Best is trial 1 with value: 0.7571428571428572.\u001b[0m\n",
            "\u001b[32m[I 2021-08-16 21:31:18,326]\u001b[0m Trial 5 finished with value: 0.7571428571428572 and parameters: {'var_smoothing': 2.833045994277354e-09}. Best is trial 1 with value: 0.7571428571428572.\u001b[0m\n",
            "\u001b[32m[I 2021-08-16 21:31:20,075]\u001b[0m Trial 6 finished with value: 0.7857142857142858 and parameters: {'var_smoothing': 9.931433646242621e-09}. Best is trial 6 with value: 0.7857142857142858.\u001b[0m\n",
            "\u001b[32m[I 2021-08-16 21:31:22,042]\u001b[0m Trial 7 finished with value: 0.7571428571428571 and parameters: {'var_smoothing': 8.980142076422187e-09}. Best is trial 6 with value: 0.7857142857142858.\u001b[0m\n",
            "\u001b[32m[I 2021-08-16 21:31:23,715]\u001b[0m Trial 8 finished with value: 0.7571428571428572 and parameters: {'var_smoothing': 3.037395564352952e-09}. Best is trial 6 with value: 0.7857142857142858.\u001b[0m\n",
            "\u001b[32m[I 2021-08-16 21:31:25,449]\u001b[0m Trial 9 finished with value: 0.7571428571428571 and parameters: {'var_smoothing': 5.187312060599882e-09}. Best is trial 6 with value: 0.7857142857142858.\u001b[0m\n",
            "\u001b[32m[I 2021-08-16 21:31:27,495]\u001b[0m Trial 10 finished with value: 0.7571428571428571 and parameters: {'var_smoothing': 6.76149862648938e-09}. Best is trial 6 with value: 0.7857142857142858.\u001b[0m\n",
            "\u001b[32m[I 2021-08-16 21:31:29,241]\u001b[0m Trial 11 finished with value: 0.8357142857142857 and parameters: {'var_smoothing': 1.2627252715048782e-10}. Best is trial 11 with value: 0.8357142857142857.\u001b[0m\n",
            "\u001b[32m[I 2021-08-16 21:31:30,942]\u001b[0m Trial 12 finished with value: 0.6964285714285714 and parameters: {'var_smoothing': 5.244191477724847e-10}. Best is trial 11 with value: 0.8357142857142857.\u001b[0m\n",
            "\u001b[32m[I 2021-08-16 21:31:32,675]\u001b[0m Trial 13 finished with value: 0.7571428571428571 and parameters: {'var_smoothing': 5.999084791715815e-09}. Best is trial 11 with value: 0.8357142857142857.\u001b[0m\n",
            "\u001b[32m[I 2021-08-16 21:31:34,791]\u001b[0m Trial 14 finished with value: 0.7571428571428571 and parameters: {'var_smoothing': 9.8722489617004e-09}. Best is trial 11 with value: 0.8357142857142857.\u001b[0m\n",
            "\u001b[32m[I 2021-08-16 21:31:36,485]\u001b[0m Trial 15 finished with value: 0.725 and parameters: {'var_smoothing': 3.8460874470986404e-10}. Best is trial 11 with value: 0.8357142857142857.\u001b[0m\n",
            "\u001b[32m[I 2021-08-16 21:31:38,222]\u001b[0m Trial 16 finished with value: 0.7571428571428571 and parameters: {'var_smoothing': 7.325698630622359e-09}. Best is trial 11 with value: 0.8357142857142857.\u001b[0m\n",
            "\u001b[32m[I 2021-08-16 21:31:39,955]\u001b[0m Trial 17 finished with value: 0.7571428571428571 and parameters: {'var_smoothing': 4.544765235800839e-09}. Best is trial 11 with value: 0.8357142857142857.\u001b[0m\n",
            "\u001b[32m[I 2021-08-16 21:31:41,692]\u001b[0m Trial 18 finished with value: 0.7 and parameters: {'var_smoothing': 1.6057262536709259e-09}. Best is trial 11 with value: 0.8357142857142857.\u001b[0m\n",
            "\u001b[32m[I 2021-08-16 21:31:43,926]\u001b[0m Trial 19 finished with value: 0.7571428571428571 and parameters: {'var_smoothing': 8.174432009796121e-09}. Best is trial 11 with value: 0.8357142857142857.\u001b[0m\n",
            "\u001b[32m[I 2021-08-16 21:31:45,627]\u001b[0m Trial 20 finished with value: 0.7571428571428571 and parameters: {'var_smoothing': 5.8979073391585585e-09}. Best is trial 11 with value: 0.8357142857142857.\u001b[0m\n",
            "\u001b[32m[I 2021-08-16 21:31:47,334]\u001b[0m Trial 21 finished with value: 0.6714285714285715 and parameters: {'var_smoothing': 1.3565600644328162e-09}. Best is trial 11 with value: 0.8357142857142857.\u001b[0m\n",
            "\u001b[32m[I 2021-08-16 21:31:49,051]\u001b[0m Trial 22 finished with value: 0.7571428571428571 and parameters: {'var_smoothing': 4.179205381767763e-09}. Best is trial 11 with value: 0.8357142857142857.\u001b[0m\n",
            "\u001b[32m[I 2021-08-16 21:31:50,745]\u001b[0m Trial 23 finished with value: 0.8357142857142857 and parameters: {'var_smoothing': 1.4649987845959918e-10}. Best is trial 11 with value: 0.8357142857142857.\u001b[0m\n",
            "\u001b[32m[I 2021-08-16 21:31:52,434]\u001b[0m Trial 24 finished with value: 0.6964285714285714 and parameters: {'var_smoothing': 1.0788306963128045e-09}. Best is trial 11 with value: 0.8357142857142857.\u001b[0m\n",
            "\u001b[32m[I 2021-08-16 21:31:54,804]\u001b[0m Trial 25 finished with value: 0.8071428571428572 and parameters: {'var_smoothing': 1.9080703518447253e-10}. Best is trial 11 with value: 0.8357142857142857.\u001b[0m\n",
            "\u001b[32m[I 2021-08-16 21:31:56,553]\u001b[0m Trial 26 finished with value: 0.8071428571428572 and parameters: {'var_smoothing': 1.9154340843182524e-10}. Best is trial 11 with value: 0.8357142857142857.\u001b[0m\n",
            "\u001b[32m[I 2021-08-16 21:31:58,277]\u001b[0m Trial 27 finished with value: 0.7285714285714285 and parameters: {'var_smoothing': 1.904536463955542e-09}. Best is trial 11 with value: 0.8357142857142857.\u001b[0m\n",
            "\u001b[32m[I 2021-08-16 21:32:00,005]\u001b[0m Trial 28 finished with value: 0.6392857142857143 and parameters: {'var_smoothing': 9.4509151060182e-10}. Best is trial 11 with value: 0.8357142857142857.\u001b[0m\n",
            "\u001b[32m[I 2021-08-16 21:32:01,726]\u001b[0m Trial 29 finished with value: 0.7285714285714285 and parameters: {'var_smoothing': 2.2791520571846325e-09}. Best is trial 11 with value: 0.8357142857142857.\u001b[0m\n",
            "\u001b[32m[I 2021-08-16 21:32:03,418]\u001b[0m Trial 30 finished with value: 0.6392857142857143 and parameters: {'var_smoothing': 8.882402866769788e-10}. Best is trial 11 with value: 0.8357142857142857.\u001b[0m\n",
            "\u001b[32m[I 2021-08-16 21:32:05,160]\u001b[0m Trial 31 finished with value: 0.8071428571428572 and parameters: {'var_smoothing': 1.912409073307786e-10}. Best is trial 11 with value: 0.8357142857142857.\u001b[0m\n",
            "\u001b[32m[I 2021-08-16 21:32:07,657]\u001b[0m Trial 32 finished with value: 0.8357142857142857 and parameters: {'var_smoothing': 1.7758374350527536e-10}. Best is trial 11 with value: 0.8357142857142857.\u001b[0m\n",
            "\u001b[32m[I 2021-08-16 21:32:09,399]\u001b[0m Trial 33 finished with value: 0.8357142857142857 and parameters: {'var_smoothing': 1.1020483299152994e-10}. Best is trial 11 with value: 0.8357142857142857.\u001b[0m\n",
            "\u001b[32m[I 2021-08-16 21:32:11,201]\u001b[0m Trial 34 finished with value: 0.7571428571428572 and parameters: {'var_smoothing': 2.5697239440924284e-09}. Best is trial 11 with value: 0.8357142857142857.\u001b[0m\n",
            "\u001b[32m[I 2021-08-16 21:32:13,018]\u001b[0m Trial 35 finished with value: 0.7285714285714285 and parameters: {'var_smoothing': 3.6320508428850837e-09}. Best is trial 11 with value: 0.8357142857142857.\u001b[0m\n",
            "\u001b[32m[I 2021-08-16 21:32:14,794]\u001b[0m Trial 36 finished with value: 0.6714285714285715 and parameters: {'var_smoothing': 1.3404981814607007e-09}. Best is trial 11 with value: 0.8357142857142857.\u001b[0m\n",
            "\u001b[32m[I 2021-08-16 21:32:16,529]\u001b[0m Trial 37 finished with value: 0.7285714285714285 and parameters: {'var_smoothing': 1.9043269277695674e-09}. Best is trial 11 with value: 0.8357142857142857.\u001b[0m\n",
            "\u001b[32m[I 2021-08-16 21:32:18,296]\u001b[0m Trial 38 finished with value: 0.6964285714285714 and parameters: {'var_smoothing': 1.1268427348383793e-09}. Best is trial 11 with value: 0.8357142857142857.\u001b[0m\n",
            "\u001b[32m[I 2021-08-16 21:32:20,024]\u001b[0m Trial 39 finished with value: 0.6678571428571429 and parameters: {'var_smoothing': 6.683134920026464e-10}. Best is trial 11 with value: 0.8357142857142857.\u001b[0m\n",
            "\u001b[32m[I 2021-08-16 21:32:21,729]\u001b[0m Trial 40 finished with value: 0.7285714285714285 and parameters: {'var_smoothing': 3.3830142186417046e-09}. Best is trial 11 with value: 0.8357142857142857.\u001b[0m\n",
            "\u001b[32m[I 2021-08-16 21:32:24,417]\u001b[0m Trial 41 finished with value: 0.6964285714285714 and parameters: {'var_smoothing': 4.389611371967819e-10}. Best is trial 11 with value: 0.8357142857142857.\u001b[0m\n",
            "\u001b[32m[I 2021-08-16 21:32:26,171]\u001b[0m Trial 42 finished with value: 0.8357142857142857 and parameters: {'var_smoothing': 1.0743280627530711e-10}. Best is trial 11 with value: 0.8357142857142857.\u001b[0m\n",
            "\u001b[32m[I 2021-08-16 21:32:27,873]\u001b[0m Trial 43 finished with value: 0.7 and parameters: {'var_smoothing': 1.6224348296889525e-09}. Best is trial 11 with value: 0.8357142857142857.\u001b[0m\n",
            "\u001b[32m[I 2021-08-16 21:32:29,573]\u001b[0m Trial 44 finished with value: 0.6392857142857143 and parameters: {'var_smoothing': 7.7512002336298e-10}. Best is trial 11 with value: 0.8357142857142857.\u001b[0m\n",
            "\u001b[32m[I 2021-08-16 21:32:31,330]\u001b[0m Trial 45 finished with value: 0.8357142857142857 and parameters: {'var_smoothing': 1.0132946600292443e-10}. Best is trial 11 with value: 0.8357142857142857.\u001b[0m\n",
            "\u001b[32m[I 2021-08-16 21:32:33,085]\u001b[0m Trial 46 finished with value: 0.7571428571428572 and parameters: {'var_smoothing': 2.618365221711226e-09}. Best is trial 11 with value: 0.8357142857142857.\u001b[0m\n",
            "\u001b[32m[I 2021-08-16 21:32:34,785]\u001b[0m Trial 47 finished with value: 0.6714285714285715 and parameters: {'var_smoothing': 1.5145982291513593e-09}. Best is trial 11 with value: 0.8357142857142857.\u001b[0m\n",
            "\u001b[32m[I 2021-08-16 21:32:36,528]\u001b[0m Trial 48 finished with value: 0.6392857142857143 and parameters: {'var_smoothing': 7.292660522086118e-10}. Best is trial 11 with value: 0.8357142857142857.\u001b[0m\n",
            "\u001b[32m[I 2021-08-16 21:32:38,302]\u001b[0m Trial 49 finished with value: 0.7285714285714285 and parameters: {'var_smoothing': 1.9966941808952055e-09}. Best is trial 11 with value: 0.8357142857142857.\u001b[0m\n"
          ],
          "name": "stderr"
        }
      ]
    },
    {
      "cell_type": "code",
      "metadata": {
        "colab": {
          "base_uri": "https://localhost:8080/"
        },
        "id": "K2K6oWPeP-Vh",
        "outputId": "c6f36c19-71f9-4a96-de4e-5bf3f08147c4"
      },
      "source": [
        "print('Best hyperparameters:\\t', study_GNB.best_trial.params)\n",
        "print('Training accuracy:\\t', study_GNB.best_trial.user_attrs['train_accuracy'])\n",
        "print('Test accuracy:\\t\\t', study_GNB.best_trial.value)"
      ],
      "execution_count": 18,
      "outputs": [
        {
          "output_type": "stream",
          "text": [
            "Best hyperparameters:\t {'var_smoothing': 1.2627252715048782e-10}\n",
            "Training accuracy:\t 1.0\n",
            "Test accuracy:\t\t 0.8357142857142857\n"
          ],
          "name": "stdout"
        }
      ]
    },
    {
      "cell_type": "code",
      "metadata": {
        "colab": {
          "base_uri": "https://localhost:8080/",
          "height": 542
        },
        "id": "xH8zRSvCQxxE",
        "outputId": "be6ca709-1ac5-42d2-e4bd-0d28f893511a"
      },
      "source": [
        "optuna.visualization.plot_optimization_history(study_GNB)"
      ],
      "execution_count": 19,
      "outputs": [
        {
          "output_type": "display_data",
          "data": {
            "text/html": [
              "<html>\n",
              "<head><meta charset=\"utf-8\" /></head>\n",
              "<body>\n",
              "    <div>\n",
              "            <script src=\"https://cdnjs.cloudflare.com/ajax/libs/mathjax/2.7.5/MathJax.js?config=TeX-AMS-MML_SVG\"></script><script type=\"text/javascript\">if (window.MathJax) {MathJax.Hub.Config({SVG: {font: \"STIX-Web\"}});}</script>\n",
              "                <script type=\"text/javascript\">window.PlotlyConfig = {MathJaxConfig: 'local'};</script>\n",
              "        <script src=\"https://cdn.plot.ly/plotly-latest.min.js\"></script>    \n",
              "            <div id=\"03f4b69d-0faa-42f0-bfc3-dabc89d7e771\" class=\"plotly-graph-div\" style=\"height:525px; width:100%;\"></div>\n",
              "            <script type=\"text/javascript\">\n",
              "                \n",
              "                    window.PLOTLYENV=window.PLOTLYENV || {};\n",
              "                    \n",
              "                if (document.getElementById(\"03f4b69d-0faa-42f0-bfc3-dabc89d7e771\")) {\n",
              "                    Plotly.newPlot(\n",
              "                        '03f4b69d-0faa-42f0-bfc3-dabc89d7e771',\n",
              "                        [{\"mode\": \"markers\", \"name\": \"Objective Value\", \"type\": \"scatter\", \"x\": [0, 1, 2, 3, 4, 5, 6, 7, 8, 9, 10, 11, 12, 13, 14, 15, 16, 17, 18, 19, 20, 21, 22, 23, 24, 25, 26, 27, 28, 29, 30, 31, 32, 33, 34, 35, 36, 37, 38, 39, 40, 41, 42, 43, 44, 45, 46, 47, 48, 49], \"y\": [0.7285714285714285, 0.7571428571428572, 0.7571428571428572, 0.7285714285714285, 0.7571428571428571, 0.7571428571428572, 0.7857142857142858, 0.7571428571428571, 0.7571428571428572, 0.7571428571428571, 0.7571428571428571, 0.8357142857142857, 0.6964285714285714, 0.7571428571428571, 0.7571428571428571, 0.725, 0.7571428571428571, 0.7571428571428571, 0.7, 0.7571428571428571, 0.7571428571428571, 0.6714285714285715, 0.7571428571428571, 0.8357142857142857, 0.6964285714285714, 0.8071428571428572, 0.8071428571428572, 0.7285714285714285, 0.6392857142857143, 0.7285714285714285, 0.6392857142857143, 0.8071428571428572, 0.8357142857142857, 0.8357142857142857, 0.7571428571428572, 0.7285714285714285, 0.6714285714285715, 0.7285714285714285, 0.6964285714285714, 0.6678571428571429, 0.7285714285714285, 0.6964285714285714, 0.8357142857142857, 0.7, 0.6392857142857143, 0.8357142857142857, 0.7571428571428572, 0.6714285714285715, 0.6392857142857143, 0.7285714285714285]}, {\"name\": \"Best Value\", \"type\": \"scatter\", \"x\": [0, 1, 2, 3, 4, 5, 6, 7, 8, 9, 10, 11, 12, 13, 14, 15, 16, 17, 18, 19, 20, 21, 22, 23, 24, 25, 26, 27, 28, 29, 30, 31, 32, 33, 34, 35, 36, 37, 38, 39, 40, 41, 42, 43, 44, 45, 46, 47, 48, 49], \"y\": [0.7285714285714285, 0.7571428571428572, 0.7571428571428572, 0.7571428571428572, 0.7571428571428572, 0.7571428571428572, 0.7857142857142858, 0.7857142857142858, 0.7857142857142858, 0.7857142857142858, 0.7857142857142858, 0.8357142857142857, 0.8357142857142857, 0.8357142857142857, 0.8357142857142857, 0.8357142857142857, 0.8357142857142857, 0.8357142857142857, 0.8357142857142857, 0.8357142857142857, 0.8357142857142857, 0.8357142857142857, 0.8357142857142857, 0.8357142857142857, 0.8357142857142857, 0.8357142857142857, 0.8357142857142857, 0.8357142857142857, 0.8357142857142857, 0.8357142857142857, 0.8357142857142857, 0.8357142857142857, 0.8357142857142857, 0.8357142857142857, 0.8357142857142857, 0.8357142857142857, 0.8357142857142857, 0.8357142857142857, 0.8357142857142857, 0.8357142857142857, 0.8357142857142857, 0.8357142857142857, 0.8357142857142857, 0.8357142857142857, 0.8357142857142857, 0.8357142857142857, 0.8357142857142857, 0.8357142857142857, 0.8357142857142857, 0.8357142857142857]}],\n",
              "                        {\"template\": {\"data\": {\"bar\": [{\"error_x\": {\"color\": \"#2a3f5f\"}, \"error_y\": {\"color\": \"#2a3f5f\"}, \"marker\": {\"line\": {\"color\": \"#E5ECF6\", \"width\": 0.5}}, \"type\": \"bar\"}], \"barpolar\": [{\"marker\": {\"line\": {\"color\": \"#E5ECF6\", \"width\": 0.5}}, \"type\": \"barpolar\"}], \"carpet\": [{\"aaxis\": {\"endlinecolor\": \"#2a3f5f\", \"gridcolor\": \"white\", \"linecolor\": \"white\", \"minorgridcolor\": \"white\", \"startlinecolor\": \"#2a3f5f\"}, \"baxis\": {\"endlinecolor\": \"#2a3f5f\", \"gridcolor\": \"white\", \"linecolor\": \"white\", \"minorgridcolor\": \"white\", \"startlinecolor\": \"#2a3f5f\"}, \"type\": \"carpet\"}], \"choropleth\": [{\"colorbar\": {\"outlinewidth\": 0, \"ticks\": \"\"}, \"type\": \"choropleth\"}], \"contour\": [{\"colorbar\": {\"outlinewidth\": 0, \"ticks\": \"\"}, \"colorscale\": [[0.0, \"#0d0887\"], [0.1111111111111111, \"#46039f\"], [0.2222222222222222, \"#7201a8\"], [0.3333333333333333, \"#9c179e\"], [0.4444444444444444, \"#bd3786\"], [0.5555555555555556, \"#d8576b\"], [0.6666666666666666, \"#ed7953\"], [0.7777777777777778, \"#fb9f3a\"], [0.8888888888888888, \"#fdca26\"], [1.0, \"#f0f921\"]], \"type\": \"contour\"}], \"contourcarpet\": [{\"colorbar\": {\"outlinewidth\": 0, \"ticks\": \"\"}, \"type\": \"contourcarpet\"}], \"heatmap\": [{\"colorbar\": {\"outlinewidth\": 0, \"ticks\": \"\"}, \"colorscale\": [[0.0, \"#0d0887\"], [0.1111111111111111, \"#46039f\"], [0.2222222222222222, \"#7201a8\"], [0.3333333333333333, \"#9c179e\"], [0.4444444444444444, \"#bd3786\"], [0.5555555555555556, \"#d8576b\"], [0.6666666666666666, \"#ed7953\"], [0.7777777777777778, \"#fb9f3a\"], [0.8888888888888888, \"#fdca26\"], [1.0, \"#f0f921\"]], \"type\": \"heatmap\"}], \"heatmapgl\": [{\"colorbar\": {\"outlinewidth\": 0, \"ticks\": \"\"}, \"colorscale\": [[0.0, \"#0d0887\"], [0.1111111111111111, \"#46039f\"], [0.2222222222222222, \"#7201a8\"], [0.3333333333333333, \"#9c179e\"], [0.4444444444444444, \"#bd3786\"], [0.5555555555555556, \"#d8576b\"], [0.6666666666666666, \"#ed7953\"], [0.7777777777777778, \"#fb9f3a\"], [0.8888888888888888, \"#fdca26\"], [1.0, \"#f0f921\"]], \"type\": \"heatmapgl\"}], \"histogram\": [{\"marker\": {\"colorbar\": {\"outlinewidth\": 0, \"ticks\": \"\"}}, \"type\": \"histogram\"}], \"histogram2d\": [{\"colorbar\": {\"outlinewidth\": 0, \"ticks\": \"\"}, \"colorscale\": [[0.0, \"#0d0887\"], [0.1111111111111111, \"#46039f\"], [0.2222222222222222, \"#7201a8\"], [0.3333333333333333, \"#9c179e\"], [0.4444444444444444, \"#bd3786\"], [0.5555555555555556, \"#d8576b\"], [0.6666666666666666, \"#ed7953\"], [0.7777777777777778, \"#fb9f3a\"], [0.8888888888888888, \"#fdca26\"], [1.0, \"#f0f921\"]], \"type\": \"histogram2d\"}], \"histogram2dcontour\": [{\"colorbar\": {\"outlinewidth\": 0, \"ticks\": \"\"}, \"colorscale\": [[0.0, \"#0d0887\"], [0.1111111111111111, \"#46039f\"], [0.2222222222222222, \"#7201a8\"], [0.3333333333333333, \"#9c179e\"], [0.4444444444444444, \"#bd3786\"], [0.5555555555555556, \"#d8576b\"], [0.6666666666666666, \"#ed7953\"], [0.7777777777777778, \"#fb9f3a\"], [0.8888888888888888, \"#fdca26\"], [1.0, \"#f0f921\"]], \"type\": \"histogram2dcontour\"}], \"mesh3d\": [{\"colorbar\": {\"outlinewidth\": 0, \"ticks\": \"\"}, \"type\": \"mesh3d\"}], \"parcoords\": [{\"line\": {\"colorbar\": {\"outlinewidth\": 0, \"ticks\": \"\"}}, \"type\": \"parcoords\"}], \"pie\": [{\"automargin\": true, \"type\": \"pie\"}], \"scatter\": [{\"marker\": {\"colorbar\": {\"outlinewidth\": 0, \"ticks\": \"\"}}, \"type\": \"scatter\"}], \"scatter3d\": [{\"line\": {\"colorbar\": {\"outlinewidth\": 0, \"ticks\": \"\"}}, \"marker\": {\"colorbar\": {\"outlinewidth\": 0, \"ticks\": \"\"}}, \"type\": \"scatter3d\"}], \"scattercarpet\": [{\"marker\": {\"colorbar\": {\"outlinewidth\": 0, \"ticks\": \"\"}}, \"type\": \"scattercarpet\"}], \"scattergeo\": [{\"marker\": {\"colorbar\": {\"outlinewidth\": 0, \"ticks\": \"\"}}, \"type\": \"scattergeo\"}], \"scattergl\": [{\"marker\": {\"colorbar\": {\"outlinewidth\": 0, \"ticks\": \"\"}}, \"type\": \"scattergl\"}], \"scattermapbox\": [{\"marker\": {\"colorbar\": {\"outlinewidth\": 0, \"ticks\": \"\"}}, \"type\": \"scattermapbox\"}], \"scatterpolar\": [{\"marker\": {\"colorbar\": {\"outlinewidth\": 0, \"ticks\": \"\"}}, \"type\": \"scatterpolar\"}], \"scatterpolargl\": [{\"marker\": {\"colorbar\": {\"outlinewidth\": 0, \"ticks\": \"\"}}, \"type\": \"scatterpolargl\"}], \"scatterternary\": [{\"marker\": {\"colorbar\": {\"outlinewidth\": 0, \"ticks\": \"\"}}, \"type\": \"scatterternary\"}], \"surface\": [{\"colorbar\": {\"outlinewidth\": 0, \"ticks\": \"\"}, \"colorscale\": [[0.0, \"#0d0887\"], [0.1111111111111111, \"#46039f\"], [0.2222222222222222, \"#7201a8\"], [0.3333333333333333, \"#9c179e\"], [0.4444444444444444, \"#bd3786\"], [0.5555555555555556, \"#d8576b\"], [0.6666666666666666, \"#ed7953\"], [0.7777777777777778, \"#fb9f3a\"], [0.8888888888888888, \"#fdca26\"], [1.0, \"#f0f921\"]], \"type\": \"surface\"}], \"table\": [{\"cells\": {\"fill\": {\"color\": \"#EBF0F8\"}, \"line\": {\"color\": \"white\"}}, \"header\": {\"fill\": {\"color\": \"#C8D4E3\"}, \"line\": {\"color\": \"white\"}}, \"type\": \"table\"}]}, \"layout\": {\"annotationdefaults\": {\"arrowcolor\": \"#2a3f5f\", \"arrowhead\": 0, \"arrowwidth\": 1}, \"coloraxis\": {\"colorbar\": {\"outlinewidth\": 0, \"ticks\": \"\"}}, \"colorscale\": {\"diverging\": [[0, \"#8e0152\"], [0.1, \"#c51b7d\"], [0.2, \"#de77ae\"], [0.3, \"#f1b6da\"], [0.4, \"#fde0ef\"], [0.5, \"#f7f7f7\"], [0.6, \"#e6f5d0\"], [0.7, \"#b8e186\"], [0.8, \"#7fbc41\"], [0.9, \"#4d9221\"], [1, \"#276419\"]], \"sequential\": [[0.0, \"#0d0887\"], [0.1111111111111111, \"#46039f\"], [0.2222222222222222, \"#7201a8\"], [0.3333333333333333, \"#9c179e\"], [0.4444444444444444, \"#bd3786\"], [0.5555555555555556, \"#d8576b\"], [0.6666666666666666, \"#ed7953\"], [0.7777777777777778, \"#fb9f3a\"], [0.8888888888888888, \"#fdca26\"], [1.0, \"#f0f921\"]], \"sequentialminus\": [[0.0, \"#0d0887\"], [0.1111111111111111, \"#46039f\"], [0.2222222222222222, \"#7201a8\"], [0.3333333333333333, \"#9c179e\"], [0.4444444444444444, \"#bd3786\"], [0.5555555555555556, \"#d8576b\"], [0.6666666666666666, \"#ed7953\"], [0.7777777777777778, \"#fb9f3a\"], [0.8888888888888888, \"#fdca26\"], [1.0, \"#f0f921\"]]}, \"colorway\": [\"#636efa\", \"#EF553B\", \"#00cc96\", \"#ab63fa\", \"#FFA15A\", \"#19d3f3\", \"#FF6692\", \"#B6E880\", \"#FF97FF\", \"#FECB52\"], \"font\": {\"color\": \"#2a3f5f\"}, \"geo\": {\"bgcolor\": \"white\", \"lakecolor\": \"white\", \"landcolor\": \"#E5ECF6\", \"showlakes\": true, \"showland\": true, \"subunitcolor\": \"white\"}, \"hoverlabel\": {\"align\": \"left\"}, \"hovermode\": \"closest\", \"mapbox\": {\"style\": \"light\"}, \"paper_bgcolor\": \"white\", \"plot_bgcolor\": \"#E5ECF6\", \"polar\": {\"angularaxis\": {\"gridcolor\": \"white\", \"linecolor\": \"white\", \"ticks\": \"\"}, \"bgcolor\": \"#E5ECF6\", \"radialaxis\": {\"gridcolor\": \"white\", \"linecolor\": \"white\", \"ticks\": \"\"}}, \"scene\": {\"xaxis\": {\"backgroundcolor\": \"#E5ECF6\", \"gridcolor\": \"white\", \"gridwidth\": 2, \"linecolor\": \"white\", \"showbackground\": true, \"ticks\": \"\", \"zerolinecolor\": \"white\"}, \"yaxis\": {\"backgroundcolor\": \"#E5ECF6\", \"gridcolor\": \"white\", \"gridwidth\": 2, \"linecolor\": \"white\", \"showbackground\": true, \"ticks\": \"\", \"zerolinecolor\": \"white\"}, \"zaxis\": {\"backgroundcolor\": \"#E5ECF6\", \"gridcolor\": \"white\", \"gridwidth\": 2, \"linecolor\": \"white\", \"showbackground\": true, \"ticks\": \"\", \"zerolinecolor\": \"white\"}}, \"shapedefaults\": {\"line\": {\"color\": \"#2a3f5f\"}}, \"ternary\": {\"aaxis\": {\"gridcolor\": \"white\", \"linecolor\": \"white\", \"ticks\": \"\"}, \"baxis\": {\"gridcolor\": \"white\", \"linecolor\": \"white\", \"ticks\": \"\"}, \"bgcolor\": \"#E5ECF6\", \"caxis\": {\"gridcolor\": \"white\", \"linecolor\": \"white\", \"ticks\": \"\"}}, \"title\": {\"x\": 0.05}, \"xaxis\": {\"automargin\": true, \"gridcolor\": \"white\", \"linecolor\": \"white\", \"ticks\": \"\", \"title\": {\"standoff\": 15}, \"zerolinecolor\": \"white\", \"zerolinewidth\": 2}, \"yaxis\": {\"automargin\": true, \"gridcolor\": \"white\", \"linecolor\": \"white\", \"ticks\": \"\", \"title\": {\"standoff\": 15}, \"zerolinecolor\": \"white\", \"zerolinewidth\": 2}}}, \"title\": {\"text\": \"Optimization History Plot\"}, \"xaxis\": {\"title\": {\"text\": \"#Trials\"}}, \"yaxis\": {\"title\": {\"text\": \"Objective Value\"}}},\n",
              "                        {\"responsive\": true}\n",
              "                    ).then(function(){\n",
              "                            \n",
              "var gd = document.getElementById('03f4b69d-0faa-42f0-bfc3-dabc89d7e771');\n",
              "var x = new MutationObserver(function (mutations, observer) {{\n",
              "        var display = window.getComputedStyle(gd).display;\n",
              "        if (!display || display === 'none') {{\n",
              "            console.log([gd, 'removed!']);\n",
              "            Plotly.purge(gd);\n",
              "            observer.disconnect();\n",
              "        }}\n",
              "}});\n",
              "\n",
              "// Listen for the removal of the full notebook cells\n",
              "var notebookContainer = gd.closest('#notebook-container');\n",
              "if (notebookContainer) {{\n",
              "    x.observe(notebookContainer, {childList: true});\n",
              "}}\n",
              "\n",
              "// Listen for the clearing of the current output cell\n",
              "var outputEl = gd.closest('.output');\n",
              "if (outputEl) {{\n",
              "    x.observe(outputEl, {childList: true});\n",
              "}}\n",
              "\n",
              "                        })\n",
              "                };\n",
              "                \n",
              "            </script>\n",
              "        </div>\n",
              "</body>\n",
              "</html>"
            ]
          },
          "metadata": {
            "tags": []
          }
        }
      ]
    },
    {
      "cell_type": "markdown",
      "metadata": {
        "id": "lrAOvQg8Q_0N"
      },
      "source": [
        "## KNN\n"
      ]
    },
    {
      "cell_type": "code",
      "metadata": {
        "id": "idQ3H6RWXVef"
      },
      "source": [
        "from sklearn.neighbors import KNeighborsClassifier"
      ],
      "execution_count": 20,
      "outputs": []
    },
    {
      "cell_type": "code",
      "metadata": {
        "id": "2sJNJwkJQ_0N"
      },
      "source": [
        "experiment_id = mlflow.create_experiment(name='knn')\n",
        "\n",
        "def knn(trial):\n",
        "  with mlflow.start_run(experiment_id=experiment_id):\n",
        "    # definição dos hiper-parâmetros\n",
        "    params = {'n_neighbors': trial.suggest_int('n_neighbors', 1, 28),\n",
        "              'algorithm': trial.suggest_categorical('algorithm', ['ball_tree', 'kd_tree', 'brute']),\n",
        "              'p': trial.suggest_int('p', 1, 2)}\n",
        "\n",
        "    model = KNeighborsClassifier(n_neighbors=params['n_neighbors'], algorithm=params['algorithm'], p=params['p'])\n",
        "\n",
        "    # treinamento\n",
        "    scores = cross_validate(model, x_battles, y_battles,\n",
        "                            scoring='accuracy', return_train_score=True)\n",
        "\n",
        "    # acurácias\n",
        "    test_accuracies = scores['test_score']\n",
        "    test_accuracy = test_accuracies.mean()\n",
        "    train_accuracies = scores['train_score']\n",
        "    train_accuracy = train_accuracies.mean()\n",
        "\n",
        "    # salvar acurácia de treinamento no trial\n",
        "    trial.set_user_attr('train_accuracy', train_accuracy)\n",
        "\n",
        "    # logging\n",
        "    mlflow.log_params(params)\n",
        "    mlflow.log_metric('test_accuracy', test_accuracy)\n",
        "    mlflow.log_metric('train_accuracy', train_accuracy)\n",
        "    mlflow.sklearn.log_model(model, \"model\")\n",
        "    mlflow.end_run()\n",
        "\n",
        "  return test_accuracy"
      ],
      "execution_count": 21,
      "outputs": []
    },
    {
      "cell_type": "code",
      "metadata": {
        "id": "RrJiZLodQ_0O",
        "colab": {
          "base_uri": "https://localhost:8080/"
        },
        "outputId": "435c807d-cdba-4c8a-f6eb-87c28ec0d6fa"
      },
      "source": [
        "study_KNN = optuna.create_study(direction='maximize')\n",
        "study_KNN.optimize(knn, n_trials=NUMBER_OF_TRIALS)"
      ],
      "execution_count": 22,
      "outputs": [
        {
          "output_type": "stream",
          "text": [
            "\u001b[32m[I 2021-08-16 21:32:39,457]\u001b[0m A new study created in memory with name: no-name-7ee938eb-3f1f-40c4-b872-feafdf7f8d7c\u001b[0m\n",
            "\u001b[32m[I 2021-08-16 21:32:41,391]\u001b[0m Trial 0 finished with value: 0.8607142857142858 and parameters: {'n_neighbors': 20, 'algorithm': 'brute', 'p': 1}. Best is trial 0 with value: 0.8607142857142858.\u001b[0m\n",
            "\u001b[32m[I 2021-08-16 21:32:45,736]\u001b[0m Trial 1 finished with value: 0.8321428571428571 and parameters: {'n_neighbors': 6, 'algorithm': 'ball_tree', 'p': 1}. Best is trial 0 with value: 0.8607142857142858.\u001b[0m\n",
            "\u001b[32m[I 2021-08-16 21:32:47,627]\u001b[0m Trial 2 finished with value: 0.8607142857142858 and parameters: {'n_neighbors': 16, 'algorithm': 'kd_tree', 'p': 2}. Best is trial 0 with value: 0.8607142857142858.\u001b[0m\n",
            "\u001b[32m[I 2021-08-16 21:32:49,682]\u001b[0m Trial 3 finished with value: 0.8357142857142857 and parameters: {'n_neighbors': 3, 'algorithm': 'brute', 'p': 2}. Best is trial 0 with value: 0.8607142857142858.\u001b[0m\n",
            "\u001b[32m[I 2021-08-16 21:32:51,546]\u001b[0m Trial 4 finished with value: 0.8607142857142858 and parameters: {'n_neighbors': 11, 'algorithm': 'ball_tree', 'p': 1}. Best is trial 0 with value: 0.8607142857142858.\u001b[0m\n",
            "\u001b[32m[I 2021-08-16 21:32:53,681]\u001b[0m Trial 5 finished with value: 0.8607142857142858 and parameters: {'n_neighbors': 27, 'algorithm': 'kd_tree', 'p': 1}. Best is trial 0 with value: 0.8607142857142858.\u001b[0m\n",
            "\u001b[32m[I 2021-08-16 21:32:55,563]\u001b[0m Trial 6 finished with value: 0.8607142857142858 and parameters: {'n_neighbors': 14, 'algorithm': 'brute', 'p': 1}. Best is trial 0 with value: 0.8607142857142858.\u001b[0m\n",
            "\u001b[32m[I 2021-08-16 21:32:57,429]\u001b[0m Trial 7 finished with value: 0.8607142857142858 and parameters: {'n_neighbors': 11, 'algorithm': 'kd_tree', 'p': 2}. Best is trial 0 with value: 0.8607142857142858.\u001b[0m\n",
            "\u001b[32m[I 2021-08-16 21:32:59,296]\u001b[0m Trial 8 finished with value: 0.8607142857142858 and parameters: {'n_neighbors': 27, 'algorithm': 'ball_tree', 'p': 2}. Best is trial 0 with value: 0.8607142857142858.\u001b[0m\n",
            "\u001b[32m[I 2021-08-16 21:33:01,457]\u001b[0m Trial 9 finished with value: 0.8607142857142858 and parameters: {'n_neighbors': 27, 'algorithm': 'kd_tree', 'p': 1}. Best is trial 0 with value: 0.8607142857142858.\u001b[0m\n",
            "\u001b[32m[I 2021-08-16 21:33:03,328]\u001b[0m Trial 10 finished with value: 0.8607142857142858 and parameters: {'n_neighbors': 20, 'algorithm': 'brute', 'p': 1}. Best is trial 0 with value: 0.8607142857142858.\u001b[0m\n",
            "\u001b[32m[I 2021-08-16 21:33:05,175]\u001b[0m Trial 11 finished with value: 0.8607142857142858 and parameters: {'n_neighbors': 21, 'algorithm': 'kd_tree', 'p': 2}. Best is trial 0 with value: 0.8607142857142858.\u001b[0m\n",
            "\u001b[32m[I 2021-08-16 21:33:06,999]\u001b[0m Trial 12 finished with value: 0.8607142857142858 and parameters: {'n_neighbors': 19, 'algorithm': 'brute', 'p': 2}. Best is trial 0 with value: 0.8607142857142858.\u001b[0m\n",
            "\u001b[32m[I 2021-08-16 21:33:09,240]\u001b[0m Trial 13 finished with value: 0.8607142857142858 and parameters: {'n_neighbors': 17, 'algorithm': 'brute', 'p': 2}. Best is trial 0 with value: 0.8607142857142858.\u001b[0m\n",
            "\u001b[32m[I 2021-08-16 21:33:11,078]\u001b[0m Trial 14 finished with value: 0.8607142857142858 and parameters: {'n_neighbors': 22, 'algorithm': 'kd_tree', 'p': 2}. Best is trial 0 with value: 0.8607142857142858.\u001b[0m\n",
            "\u001b[32m[I 2021-08-16 21:33:12,876]\u001b[0m Trial 15 finished with value: 0.8607142857142858 and parameters: {'n_neighbors': 15, 'algorithm': 'brute', 'p': 1}. Best is trial 0 with value: 0.8607142857142858.\u001b[0m\n",
            "\u001b[32m[I 2021-08-16 21:33:14,733]\u001b[0m Trial 16 finished with value: 0.8607142857142858 and parameters: {'n_neighbors': 23, 'algorithm': 'kd_tree', 'p': 1}. Best is trial 0 with value: 0.8607142857142858.\u001b[0m\n",
            "\u001b[32m[I 2021-08-16 21:33:17,100]\u001b[0m Trial 17 finished with value: 0.8607142857142858 and parameters: {'n_neighbors': 23, 'algorithm': 'brute', 'p': 2}. Best is trial 0 with value: 0.8607142857142858.\u001b[0m\n",
            "\u001b[32m[I 2021-08-16 21:33:18,942]\u001b[0m Trial 18 finished with value: 0.8607142857142858 and parameters: {'n_neighbors': 12, 'algorithm': 'brute', 'p': 1}. Best is trial 0 with value: 0.8607142857142858.\u001b[0m\n",
            "\u001b[32m[I 2021-08-16 21:33:20,746]\u001b[0m Trial 19 finished with value: 0.8607142857142858 and parameters: {'n_neighbors': 24, 'algorithm': 'kd_tree', 'p': 1}. Best is trial 0 with value: 0.8607142857142858.\u001b[0m\n",
            "\u001b[32m[I 2021-08-16 21:33:22,575]\u001b[0m Trial 20 finished with value: 0.8607142857142858 and parameters: {'n_neighbors': 25, 'algorithm': 'brute', 'p': 2}. Best is trial 0 with value: 0.8607142857142858.\u001b[0m\n",
            "\u001b[32m[I 2021-08-16 21:33:24,380]\u001b[0m Trial 21 finished with value: 0.8607142857142858 and parameters: {'n_neighbors': 11, 'algorithm': 'brute', 'p': 1}. Best is trial 0 with value: 0.8607142857142858.\u001b[0m\n",
            "\u001b[32m[I 2021-08-16 21:33:26,239]\u001b[0m Trial 22 finished with value: 0.8857142857142858 and parameters: {'n_neighbors': 8, 'algorithm': 'brute', 'p': 1}. Best is trial 22 with value: 0.8857142857142858.\u001b[0m\n",
            "\u001b[32m[I 2021-08-16 21:33:28,075]\u001b[0m Trial 23 finished with value: 0.8321428571428571 and parameters: {'n_neighbors': 6, 'algorithm': 'ball_tree', 'p': 1}. Best is trial 22 with value: 0.8857142857142858.\u001b[0m\n",
            "\u001b[32m[I 2021-08-16 21:33:30,590]\u001b[0m Trial 24 finished with value: 0.8857142857142858 and parameters: {'n_neighbors': 8, 'algorithm': 'brute', 'p': 1}. Best is trial 22 with value: 0.8857142857142858.\u001b[0m\n",
            "\u001b[32m[I 2021-08-16 21:33:32,432]\u001b[0m Trial 25 finished with value: 0.8857142857142858 and parameters: {'n_neighbors': 8, 'algorithm': 'brute', 'p': 1}. Best is trial 22 with value: 0.8857142857142858.\u001b[0m\n",
            "\u001b[32m[I 2021-08-16 21:33:34,245]\u001b[0m Trial 26 finished with value: 0.8857142857142858 and parameters: {'n_neighbors': 7, 'algorithm': 'brute', 'p': 1}. Best is trial 22 with value: 0.8857142857142858.\u001b[0m\n",
            "\u001b[32m[I 2021-08-16 21:33:36,074]\u001b[0m Trial 27 finished with value: 0.7 and parameters: {'n_neighbors': 2, 'algorithm': 'brute', 'p': 1}. Best is trial 22 with value: 0.8857142857142858.\u001b[0m\n",
            "\u001b[32m[I 2021-08-16 21:33:37,925]\u001b[0m Trial 28 finished with value: 0.8857142857142858 and parameters: {'n_neighbors': 8, 'algorithm': 'brute', 'p': 1}. Best is trial 22 with value: 0.8857142857142858.\u001b[0m\n",
            "\u001b[32m[I 2021-08-16 21:33:39,785]\u001b[0m Trial 29 finished with value: 0.8071428571428572 and parameters: {'n_neighbors': 4, 'algorithm': 'brute', 'p': 1}. Best is trial 22 with value: 0.8857142857142858.\u001b[0m\n",
            "\u001b[32m[I 2021-08-16 21:33:41,639]\u001b[0m Trial 30 finished with value: 0.8857142857142858 and parameters: {'n_neighbors': 8, 'algorithm': 'brute', 'p': 1}. Best is trial 22 with value: 0.8857142857142858.\u001b[0m\n",
            "\u001b[32m[I 2021-08-16 21:33:44,273]\u001b[0m Trial 31 finished with value: 0.8857142857142858 and parameters: {'n_neighbors': 7, 'algorithm': 'brute', 'p': 1}. Best is trial 22 with value: 0.8857142857142858.\u001b[0m\n",
            "\u001b[32m[I 2021-08-16 21:33:46,147]\u001b[0m Trial 32 finished with value: 0.8321428571428571 and parameters: {'n_neighbors': 5, 'algorithm': 'brute', 'p': 1}. Best is trial 22 with value: 0.8857142857142858.\u001b[0m\n",
            "\u001b[32m[I 2021-08-16 21:33:47,959]\u001b[0m Trial 33 finished with value: 0.8607142857142858 and parameters: {'n_neighbors': 9, 'algorithm': 'brute', 'p': 1}. Best is trial 22 with value: 0.8857142857142858.\u001b[0m\n",
            "\u001b[32m[I 2021-08-16 21:33:49,726]\u001b[0m Trial 34 finished with value: 0.7821428571428571 and parameters: {'n_neighbors': 1, 'algorithm': 'brute', 'p': 1}. Best is trial 22 with value: 0.8857142857142858.\u001b[0m\n",
            "\u001b[32m[I 2021-08-16 21:33:51,564]\u001b[0m Trial 35 finished with value: 0.8321428571428571 and parameters: {'n_neighbors': 6, 'algorithm': 'ball_tree', 'p': 1}. Best is trial 22 with value: 0.8857142857142858.\u001b[0m\n",
            "\u001b[32m[I 2021-08-16 21:33:53,383]\u001b[0m Trial 36 finished with value: 0.8607142857142858 and parameters: {'n_neighbors': 13, 'algorithm': 'brute', 'p': 1}. Best is trial 22 with value: 0.8857142857142858.\u001b[0m\n",
            "\u001b[32m[I 2021-08-16 21:33:55,221]\u001b[0m Trial 37 finished with value: 0.8607142857142858 and parameters: {'n_neighbors': 9, 'algorithm': 'brute', 'p': 1}. Best is trial 22 with value: 0.8857142857142858.\u001b[0m\n",
            "\u001b[32m[I 2021-08-16 21:33:57,068]\u001b[0m Trial 38 finished with value: 0.8071428571428572 and parameters: {'n_neighbors': 4, 'algorithm': 'ball_tree', 'p': 1}. Best is trial 22 with value: 0.8857142857142858.\u001b[0m\n",
            "\u001b[32m[I 2021-08-16 21:33:58,888]\u001b[0m Trial 39 finished with value: 0.8857142857142858 and parameters: {'n_neighbors': 7, 'algorithm': 'brute', 'p': 1}. Best is trial 22 with value: 0.8857142857142858.\u001b[0m\n",
            "\u001b[32m[I 2021-08-16 21:34:00,724]\u001b[0m Trial 40 finished with value: 0.8357142857142857 and parameters: {'n_neighbors': 3, 'algorithm': 'brute', 'p': 1}. Best is trial 22 with value: 0.8857142857142858.\u001b[0m\n",
            "\u001b[32m[I 2021-08-16 21:34:03,483]\u001b[0m Trial 41 finished with value: 0.8607142857142858 and parameters: {'n_neighbors': 9, 'algorithm': 'brute', 'p': 1}. Best is trial 22 with value: 0.8857142857142858.\u001b[0m\n",
            "\u001b[32m[I 2021-08-16 21:34:05,284]\u001b[0m Trial 42 finished with value: 0.8321428571428571 and parameters: {'n_neighbors': 6, 'algorithm': 'brute', 'p': 1}. Best is trial 22 with value: 0.8857142857142858.\u001b[0m\n",
            "\u001b[32m[I 2021-08-16 21:34:07,108]\u001b[0m Trial 43 finished with value: 0.8857142857142858 and parameters: {'n_neighbors': 7, 'algorithm': 'brute', 'p': 1}. Best is trial 22 with value: 0.8857142857142858.\u001b[0m\n",
            "\u001b[32m[I 2021-08-16 21:34:08,949]\u001b[0m Trial 44 finished with value: 0.8607142857142858 and parameters: {'n_neighbors': 10, 'algorithm': 'brute', 'p': 1}. Best is trial 22 with value: 0.8857142857142858.\u001b[0m\n",
            "\u001b[32m[I 2021-08-16 21:34:10,777]\u001b[0m Trial 45 finished with value: 0.8607142857142858 and parameters: {'n_neighbors': 10, 'algorithm': 'brute', 'p': 1}. Best is trial 22 with value: 0.8857142857142858.\u001b[0m\n",
            "\u001b[32m[I 2021-08-16 21:34:12,646]\u001b[0m Trial 46 finished with value: 0.8607142857142858 and parameters: {'n_neighbors': 13, 'algorithm': 'ball_tree', 'p': 1}. Best is trial 22 with value: 0.8857142857142858.\u001b[0m\n",
            "\u001b[32m[I 2021-08-16 21:34:14,499]\u001b[0m Trial 47 finished with value: 0.8321428571428571 and parameters: {'n_neighbors': 5, 'algorithm': 'brute', 'p': 1}. Best is trial 22 with value: 0.8857142857142858.\u001b[0m\n",
            "\u001b[32m[I 2021-08-16 21:34:16,324]\u001b[0m Trial 48 finished with value: 0.8857142857142858 and parameters: {'n_neighbors': 7, 'algorithm': 'brute', 'p': 1}. Best is trial 22 with value: 0.8857142857142858.\u001b[0m\n",
            "\u001b[32m[I 2021-08-16 21:34:18,247]\u001b[0m Trial 49 finished with value: 0.8071428571428572 and parameters: {'n_neighbors': 4, 'algorithm': 'brute', 'p': 1}. Best is trial 22 with value: 0.8857142857142858.\u001b[0m\n"
          ],
          "name": "stderr"
        }
      ]
    },
    {
      "cell_type": "code",
      "metadata": {
        "id": "Sx5C7AOWQ_0P",
        "colab": {
          "base_uri": "https://localhost:8080/"
        },
        "outputId": "5957c6d7-5107-4334-f105-20f35bcfc77e"
      },
      "source": [
        "print('Best hyperparameters:\\t', study_KNN.best_trial.params)\n",
        "print('Training accuracy:\\t', study_KNN.best_trial.user_attrs['train_accuracy'])\n",
        "print('Test accuracy:\\t\\t', study_KNN.best_trial.value)"
      ],
      "execution_count": 23,
      "outputs": [
        {
          "output_type": "stream",
          "text": [
            "Best hyperparameters:\t {'n_neighbors': 8, 'algorithm': 'brute', 'p': 1}\n",
            "Training accuracy:\t 0.8679802955665024\n",
            "Test accuracy:\t\t 0.8857142857142858\n"
          ],
          "name": "stdout"
        }
      ]
    },
    {
      "cell_type": "code",
      "metadata": {
        "id": "ix1T3i8cQ_0Q",
        "colab": {
          "base_uri": "https://localhost:8080/",
          "height": 542
        },
        "outputId": "bbe7505f-8d62-4e81-d1f1-2d863eb9bf01"
      },
      "source": [
        "optuna.visualization.plot_optimization_history(study_KNN)"
      ],
      "execution_count": 24,
      "outputs": [
        {
          "output_type": "display_data",
          "data": {
            "text/html": [
              "<html>\n",
              "<head><meta charset=\"utf-8\" /></head>\n",
              "<body>\n",
              "    <div>\n",
              "            <script src=\"https://cdnjs.cloudflare.com/ajax/libs/mathjax/2.7.5/MathJax.js?config=TeX-AMS-MML_SVG\"></script><script type=\"text/javascript\">if (window.MathJax) {MathJax.Hub.Config({SVG: {font: \"STIX-Web\"}});}</script>\n",
              "                <script type=\"text/javascript\">window.PlotlyConfig = {MathJaxConfig: 'local'};</script>\n",
              "        <script src=\"https://cdn.plot.ly/plotly-latest.min.js\"></script>    \n",
              "            <div id=\"9ee8074a-ba92-48f1-b888-c8fe8cc63e2c\" class=\"plotly-graph-div\" style=\"height:525px; width:100%;\"></div>\n",
              "            <script type=\"text/javascript\">\n",
              "                \n",
              "                    window.PLOTLYENV=window.PLOTLYENV || {};\n",
              "                    \n",
              "                if (document.getElementById(\"9ee8074a-ba92-48f1-b888-c8fe8cc63e2c\")) {\n",
              "                    Plotly.newPlot(\n",
              "                        '9ee8074a-ba92-48f1-b888-c8fe8cc63e2c',\n",
              "                        [{\"mode\": \"markers\", \"name\": \"Objective Value\", \"type\": \"scatter\", \"x\": [0, 1, 2, 3, 4, 5, 6, 7, 8, 9, 10, 11, 12, 13, 14, 15, 16, 17, 18, 19, 20, 21, 22, 23, 24, 25, 26, 27, 28, 29, 30, 31, 32, 33, 34, 35, 36, 37, 38, 39, 40, 41, 42, 43, 44, 45, 46, 47, 48, 49], \"y\": [0.8607142857142858, 0.8321428571428571, 0.8607142857142858, 0.8357142857142857, 0.8607142857142858, 0.8607142857142858, 0.8607142857142858, 0.8607142857142858, 0.8607142857142858, 0.8607142857142858, 0.8607142857142858, 0.8607142857142858, 0.8607142857142858, 0.8607142857142858, 0.8607142857142858, 0.8607142857142858, 0.8607142857142858, 0.8607142857142858, 0.8607142857142858, 0.8607142857142858, 0.8607142857142858, 0.8607142857142858, 0.8857142857142858, 0.8321428571428571, 0.8857142857142858, 0.8857142857142858, 0.8857142857142858, 0.7, 0.8857142857142858, 0.8071428571428572, 0.8857142857142858, 0.8857142857142858, 0.8321428571428571, 0.8607142857142858, 0.7821428571428571, 0.8321428571428571, 0.8607142857142858, 0.8607142857142858, 0.8071428571428572, 0.8857142857142858, 0.8357142857142857, 0.8607142857142858, 0.8321428571428571, 0.8857142857142858, 0.8607142857142858, 0.8607142857142858, 0.8607142857142858, 0.8321428571428571, 0.8857142857142858, 0.8071428571428572]}, {\"name\": \"Best Value\", \"type\": \"scatter\", \"x\": [0, 1, 2, 3, 4, 5, 6, 7, 8, 9, 10, 11, 12, 13, 14, 15, 16, 17, 18, 19, 20, 21, 22, 23, 24, 25, 26, 27, 28, 29, 30, 31, 32, 33, 34, 35, 36, 37, 38, 39, 40, 41, 42, 43, 44, 45, 46, 47, 48, 49], \"y\": [0.8607142857142858, 0.8607142857142858, 0.8607142857142858, 0.8607142857142858, 0.8607142857142858, 0.8607142857142858, 0.8607142857142858, 0.8607142857142858, 0.8607142857142858, 0.8607142857142858, 0.8607142857142858, 0.8607142857142858, 0.8607142857142858, 0.8607142857142858, 0.8607142857142858, 0.8607142857142858, 0.8607142857142858, 0.8607142857142858, 0.8607142857142858, 0.8607142857142858, 0.8607142857142858, 0.8607142857142858, 0.8857142857142858, 0.8857142857142858, 0.8857142857142858, 0.8857142857142858, 0.8857142857142858, 0.8857142857142858, 0.8857142857142858, 0.8857142857142858, 0.8857142857142858, 0.8857142857142858, 0.8857142857142858, 0.8857142857142858, 0.8857142857142858, 0.8857142857142858, 0.8857142857142858, 0.8857142857142858, 0.8857142857142858, 0.8857142857142858, 0.8857142857142858, 0.8857142857142858, 0.8857142857142858, 0.8857142857142858, 0.8857142857142858, 0.8857142857142858, 0.8857142857142858, 0.8857142857142858, 0.8857142857142858, 0.8857142857142858]}],\n",
              "                        {\"template\": {\"data\": {\"bar\": [{\"error_x\": {\"color\": \"#2a3f5f\"}, \"error_y\": {\"color\": \"#2a3f5f\"}, \"marker\": {\"line\": {\"color\": \"#E5ECF6\", \"width\": 0.5}}, \"type\": \"bar\"}], \"barpolar\": [{\"marker\": {\"line\": {\"color\": \"#E5ECF6\", \"width\": 0.5}}, \"type\": \"barpolar\"}], \"carpet\": [{\"aaxis\": {\"endlinecolor\": \"#2a3f5f\", \"gridcolor\": \"white\", \"linecolor\": \"white\", \"minorgridcolor\": \"white\", \"startlinecolor\": \"#2a3f5f\"}, \"baxis\": {\"endlinecolor\": \"#2a3f5f\", \"gridcolor\": \"white\", \"linecolor\": \"white\", \"minorgridcolor\": \"white\", \"startlinecolor\": \"#2a3f5f\"}, \"type\": \"carpet\"}], \"choropleth\": [{\"colorbar\": {\"outlinewidth\": 0, \"ticks\": \"\"}, \"type\": \"choropleth\"}], \"contour\": [{\"colorbar\": {\"outlinewidth\": 0, \"ticks\": \"\"}, \"colorscale\": [[0.0, \"#0d0887\"], [0.1111111111111111, \"#46039f\"], [0.2222222222222222, \"#7201a8\"], [0.3333333333333333, \"#9c179e\"], [0.4444444444444444, \"#bd3786\"], [0.5555555555555556, \"#d8576b\"], [0.6666666666666666, \"#ed7953\"], [0.7777777777777778, \"#fb9f3a\"], [0.8888888888888888, \"#fdca26\"], [1.0, \"#f0f921\"]], \"type\": \"contour\"}], \"contourcarpet\": [{\"colorbar\": {\"outlinewidth\": 0, \"ticks\": \"\"}, \"type\": \"contourcarpet\"}], \"heatmap\": [{\"colorbar\": {\"outlinewidth\": 0, \"ticks\": \"\"}, \"colorscale\": [[0.0, \"#0d0887\"], [0.1111111111111111, \"#46039f\"], [0.2222222222222222, \"#7201a8\"], [0.3333333333333333, \"#9c179e\"], [0.4444444444444444, \"#bd3786\"], [0.5555555555555556, \"#d8576b\"], [0.6666666666666666, \"#ed7953\"], [0.7777777777777778, \"#fb9f3a\"], [0.8888888888888888, \"#fdca26\"], [1.0, \"#f0f921\"]], \"type\": \"heatmap\"}], \"heatmapgl\": [{\"colorbar\": {\"outlinewidth\": 0, \"ticks\": \"\"}, \"colorscale\": [[0.0, \"#0d0887\"], [0.1111111111111111, \"#46039f\"], [0.2222222222222222, \"#7201a8\"], [0.3333333333333333, \"#9c179e\"], [0.4444444444444444, \"#bd3786\"], [0.5555555555555556, \"#d8576b\"], [0.6666666666666666, \"#ed7953\"], [0.7777777777777778, \"#fb9f3a\"], [0.8888888888888888, \"#fdca26\"], [1.0, \"#f0f921\"]], \"type\": \"heatmapgl\"}], \"histogram\": [{\"marker\": {\"colorbar\": {\"outlinewidth\": 0, \"ticks\": \"\"}}, \"type\": \"histogram\"}], \"histogram2d\": [{\"colorbar\": {\"outlinewidth\": 0, \"ticks\": \"\"}, \"colorscale\": [[0.0, \"#0d0887\"], [0.1111111111111111, \"#46039f\"], [0.2222222222222222, \"#7201a8\"], [0.3333333333333333, \"#9c179e\"], [0.4444444444444444, \"#bd3786\"], [0.5555555555555556, \"#d8576b\"], [0.6666666666666666, \"#ed7953\"], [0.7777777777777778, \"#fb9f3a\"], [0.8888888888888888, \"#fdca26\"], [1.0, \"#f0f921\"]], \"type\": \"histogram2d\"}], \"histogram2dcontour\": [{\"colorbar\": {\"outlinewidth\": 0, \"ticks\": \"\"}, \"colorscale\": [[0.0, \"#0d0887\"], [0.1111111111111111, \"#46039f\"], [0.2222222222222222, \"#7201a8\"], [0.3333333333333333, \"#9c179e\"], [0.4444444444444444, \"#bd3786\"], [0.5555555555555556, \"#d8576b\"], [0.6666666666666666, \"#ed7953\"], [0.7777777777777778, \"#fb9f3a\"], [0.8888888888888888, \"#fdca26\"], [1.0, \"#f0f921\"]], \"type\": \"histogram2dcontour\"}], \"mesh3d\": [{\"colorbar\": {\"outlinewidth\": 0, \"ticks\": \"\"}, \"type\": \"mesh3d\"}], \"parcoords\": [{\"line\": {\"colorbar\": {\"outlinewidth\": 0, \"ticks\": \"\"}}, \"type\": \"parcoords\"}], \"pie\": [{\"automargin\": true, \"type\": \"pie\"}], \"scatter\": [{\"marker\": {\"colorbar\": {\"outlinewidth\": 0, \"ticks\": \"\"}}, \"type\": \"scatter\"}], \"scatter3d\": [{\"line\": {\"colorbar\": {\"outlinewidth\": 0, \"ticks\": \"\"}}, \"marker\": {\"colorbar\": {\"outlinewidth\": 0, \"ticks\": \"\"}}, \"type\": \"scatter3d\"}], \"scattercarpet\": [{\"marker\": {\"colorbar\": {\"outlinewidth\": 0, \"ticks\": \"\"}}, \"type\": \"scattercarpet\"}], \"scattergeo\": [{\"marker\": {\"colorbar\": {\"outlinewidth\": 0, \"ticks\": \"\"}}, \"type\": \"scattergeo\"}], \"scattergl\": [{\"marker\": {\"colorbar\": {\"outlinewidth\": 0, \"ticks\": \"\"}}, \"type\": \"scattergl\"}], \"scattermapbox\": [{\"marker\": {\"colorbar\": {\"outlinewidth\": 0, \"ticks\": \"\"}}, \"type\": \"scattermapbox\"}], \"scatterpolar\": [{\"marker\": {\"colorbar\": {\"outlinewidth\": 0, \"ticks\": \"\"}}, \"type\": \"scatterpolar\"}], \"scatterpolargl\": [{\"marker\": {\"colorbar\": {\"outlinewidth\": 0, \"ticks\": \"\"}}, \"type\": \"scatterpolargl\"}], \"scatterternary\": [{\"marker\": {\"colorbar\": {\"outlinewidth\": 0, \"ticks\": \"\"}}, \"type\": \"scatterternary\"}], \"surface\": [{\"colorbar\": {\"outlinewidth\": 0, \"ticks\": \"\"}, \"colorscale\": [[0.0, \"#0d0887\"], [0.1111111111111111, \"#46039f\"], [0.2222222222222222, \"#7201a8\"], [0.3333333333333333, \"#9c179e\"], [0.4444444444444444, \"#bd3786\"], [0.5555555555555556, \"#d8576b\"], [0.6666666666666666, \"#ed7953\"], [0.7777777777777778, \"#fb9f3a\"], [0.8888888888888888, \"#fdca26\"], [1.0, \"#f0f921\"]], \"type\": \"surface\"}], \"table\": [{\"cells\": {\"fill\": {\"color\": \"#EBF0F8\"}, \"line\": {\"color\": \"white\"}}, \"header\": {\"fill\": {\"color\": \"#C8D4E3\"}, \"line\": {\"color\": \"white\"}}, \"type\": \"table\"}]}, \"layout\": {\"annotationdefaults\": {\"arrowcolor\": \"#2a3f5f\", \"arrowhead\": 0, \"arrowwidth\": 1}, \"coloraxis\": {\"colorbar\": {\"outlinewidth\": 0, \"ticks\": \"\"}}, \"colorscale\": {\"diverging\": [[0, \"#8e0152\"], [0.1, \"#c51b7d\"], [0.2, \"#de77ae\"], [0.3, \"#f1b6da\"], [0.4, \"#fde0ef\"], [0.5, \"#f7f7f7\"], [0.6, \"#e6f5d0\"], [0.7, \"#b8e186\"], [0.8, \"#7fbc41\"], [0.9, \"#4d9221\"], [1, \"#276419\"]], \"sequential\": [[0.0, \"#0d0887\"], [0.1111111111111111, \"#46039f\"], [0.2222222222222222, \"#7201a8\"], [0.3333333333333333, \"#9c179e\"], [0.4444444444444444, \"#bd3786\"], [0.5555555555555556, \"#d8576b\"], [0.6666666666666666, \"#ed7953\"], [0.7777777777777778, \"#fb9f3a\"], [0.8888888888888888, \"#fdca26\"], [1.0, \"#f0f921\"]], \"sequentialminus\": [[0.0, \"#0d0887\"], [0.1111111111111111, \"#46039f\"], [0.2222222222222222, \"#7201a8\"], [0.3333333333333333, \"#9c179e\"], [0.4444444444444444, \"#bd3786\"], [0.5555555555555556, \"#d8576b\"], [0.6666666666666666, \"#ed7953\"], [0.7777777777777778, \"#fb9f3a\"], [0.8888888888888888, \"#fdca26\"], [1.0, \"#f0f921\"]]}, \"colorway\": [\"#636efa\", \"#EF553B\", \"#00cc96\", \"#ab63fa\", \"#FFA15A\", \"#19d3f3\", \"#FF6692\", \"#B6E880\", \"#FF97FF\", \"#FECB52\"], \"font\": {\"color\": \"#2a3f5f\"}, \"geo\": {\"bgcolor\": \"white\", \"lakecolor\": \"white\", \"landcolor\": \"#E5ECF6\", \"showlakes\": true, \"showland\": true, \"subunitcolor\": \"white\"}, \"hoverlabel\": {\"align\": \"left\"}, \"hovermode\": \"closest\", \"mapbox\": {\"style\": \"light\"}, \"paper_bgcolor\": \"white\", \"plot_bgcolor\": \"#E5ECF6\", \"polar\": {\"angularaxis\": {\"gridcolor\": \"white\", \"linecolor\": \"white\", \"ticks\": \"\"}, \"bgcolor\": \"#E5ECF6\", \"radialaxis\": {\"gridcolor\": \"white\", \"linecolor\": \"white\", \"ticks\": \"\"}}, \"scene\": {\"xaxis\": {\"backgroundcolor\": \"#E5ECF6\", \"gridcolor\": \"white\", \"gridwidth\": 2, \"linecolor\": \"white\", \"showbackground\": true, \"ticks\": \"\", \"zerolinecolor\": \"white\"}, \"yaxis\": {\"backgroundcolor\": \"#E5ECF6\", \"gridcolor\": \"white\", \"gridwidth\": 2, \"linecolor\": \"white\", \"showbackground\": true, \"ticks\": \"\", \"zerolinecolor\": \"white\"}, \"zaxis\": {\"backgroundcolor\": \"#E5ECF6\", \"gridcolor\": \"white\", \"gridwidth\": 2, \"linecolor\": \"white\", \"showbackground\": true, \"ticks\": \"\", \"zerolinecolor\": \"white\"}}, \"shapedefaults\": {\"line\": {\"color\": \"#2a3f5f\"}}, \"ternary\": {\"aaxis\": {\"gridcolor\": \"white\", \"linecolor\": \"white\", \"ticks\": \"\"}, \"baxis\": {\"gridcolor\": \"white\", \"linecolor\": \"white\", \"ticks\": \"\"}, \"bgcolor\": \"#E5ECF6\", \"caxis\": {\"gridcolor\": \"white\", \"linecolor\": \"white\", \"ticks\": \"\"}}, \"title\": {\"x\": 0.05}, \"xaxis\": {\"automargin\": true, \"gridcolor\": \"white\", \"linecolor\": \"white\", \"ticks\": \"\", \"title\": {\"standoff\": 15}, \"zerolinecolor\": \"white\", \"zerolinewidth\": 2}, \"yaxis\": {\"automargin\": true, \"gridcolor\": \"white\", \"linecolor\": \"white\", \"ticks\": \"\", \"title\": {\"standoff\": 15}, \"zerolinecolor\": \"white\", \"zerolinewidth\": 2}}}, \"title\": {\"text\": \"Optimization History Plot\"}, \"xaxis\": {\"title\": {\"text\": \"#Trials\"}}, \"yaxis\": {\"title\": {\"text\": \"Objective Value\"}}},\n",
              "                        {\"responsive\": true}\n",
              "                    ).then(function(){\n",
              "                            \n",
              "var gd = document.getElementById('9ee8074a-ba92-48f1-b888-c8fe8cc63e2c');\n",
              "var x = new MutationObserver(function (mutations, observer) {{\n",
              "        var display = window.getComputedStyle(gd).display;\n",
              "        if (!display || display === 'none') {{\n",
              "            console.log([gd, 'removed!']);\n",
              "            Plotly.purge(gd);\n",
              "            observer.disconnect();\n",
              "        }}\n",
              "}});\n",
              "\n",
              "// Listen for the removal of the full notebook cells\n",
              "var notebookContainer = gd.closest('#notebook-container');\n",
              "if (notebookContainer) {{\n",
              "    x.observe(notebookContainer, {childList: true});\n",
              "}}\n",
              "\n",
              "// Listen for the clearing of the current output cell\n",
              "var outputEl = gd.closest('.output');\n",
              "if (outputEl) {{\n",
              "    x.observe(outputEl, {childList: true});\n",
              "}}\n",
              "\n",
              "                        })\n",
              "                };\n",
              "                \n",
              "            </script>\n",
              "        </div>\n",
              "</body>\n",
              "</html>"
            ]
          },
          "metadata": {
            "tags": []
          }
        }
      ]
    },
    {
      "cell_type": "code",
      "metadata": {
        "id": "3AURYoZ7eAGh",
        "colab": {
          "base_uri": "https://localhost:8080/",
          "height": 578
        },
        "outputId": "83fbc9cb-d94b-456a-a5e1-48fd2f1ed59b"
      },
      "source": [
        "plot_param_importances(study_KNN)"
      ],
      "execution_count": 25,
      "outputs": [
        {
          "output_type": "stream",
          "text": [
            "2021/08/16 21:34:18 INFO mlflow.utils.autologging_utils: Created MLflow autologging run with ID '97f4533bfc554431a4b6da86444f7ef1', which will track hyperparameters, performance metrics, model artifacts, and lineage information for the current sklearn workflow\n"
          ],
          "name": "stderr"
        },
        {
          "output_type": "display_data",
          "data": {
            "text/html": [
              "<html>\n",
              "<head><meta charset=\"utf-8\" /></head>\n",
              "<body>\n",
              "    <div>\n",
              "            <script src=\"https://cdnjs.cloudflare.com/ajax/libs/mathjax/2.7.5/MathJax.js?config=TeX-AMS-MML_SVG\"></script><script type=\"text/javascript\">if (window.MathJax) {MathJax.Hub.Config({SVG: {font: \"STIX-Web\"}});}</script>\n",
              "                <script type=\"text/javascript\">window.PlotlyConfig = {MathJaxConfig: 'local'};</script>\n",
              "        <script src=\"https://cdn.plot.ly/plotly-latest.min.js\"></script>    \n",
              "            <div id=\"600e1bc9-3217-4f5d-b572-42e9c68f6263\" class=\"plotly-graph-div\" style=\"height:525px; width:100%;\"></div>\n",
              "            <script type=\"text/javascript\">\n",
              "                \n",
              "                    window.PLOTLYENV=window.PLOTLYENV || {};\n",
              "                    \n",
              "                if (document.getElementById(\"600e1bc9-3217-4f5d-b572-42e9c68f6263\")) {\n",
              "                    Plotly.newPlot(\n",
              "                        '600e1bc9-3217-4f5d-b572-42e9c68f6263',\n",
              "                        [{\"cliponaxis\": false, \"hovertemplate\": [\"algorithm (CategoricalDistribution): 0.0003916181121099878<extra></extra>\", \"p (IntUniformDistribution): 0.0006156393754875639<extra></extra>\", \"n_neighbors (IntUniformDistribution): 0.9989927425124023<extra></extra>\"], \"marker\": {\"color\": \"rgb(66,146,198)\"}, \"orientation\": \"h\", \"text\": [\"0.0003916181121099878\", \"0.0006156393754875639\", \"0.9989927425124023\"], \"textposition\": \"outside\", \"texttemplate\": \"%{text:.2f}\", \"type\": \"bar\", \"x\": [0.0003916181121099878, 0.0006156393754875639, 0.9989927425124023], \"y\": [\"algorithm\", \"p\", \"n_neighbors\"]}],\n",
              "                        {\"showlegend\": false, \"template\": {\"data\": {\"bar\": [{\"error_x\": {\"color\": \"#2a3f5f\"}, \"error_y\": {\"color\": \"#2a3f5f\"}, \"marker\": {\"line\": {\"color\": \"#E5ECF6\", \"width\": 0.5}}, \"type\": \"bar\"}], \"barpolar\": [{\"marker\": {\"line\": {\"color\": \"#E5ECF6\", \"width\": 0.5}}, \"type\": \"barpolar\"}], \"carpet\": [{\"aaxis\": {\"endlinecolor\": \"#2a3f5f\", \"gridcolor\": \"white\", \"linecolor\": \"white\", \"minorgridcolor\": \"white\", \"startlinecolor\": \"#2a3f5f\"}, \"baxis\": {\"endlinecolor\": \"#2a3f5f\", \"gridcolor\": \"white\", \"linecolor\": \"white\", \"minorgridcolor\": \"white\", \"startlinecolor\": \"#2a3f5f\"}, \"type\": \"carpet\"}], \"choropleth\": [{\"colorbar\": {\"outlinewidth\": 0, \"ticks\": \"\"}, \"type\": \"choropleth\"}], \"contour\": [{\"colorbar\": {\"outlinewidth\": 0, \"ticks\": \"\"}, \"colorscale\": [[0.0, \"#0d0887\"], [0.1111111111111111, \"#46039f\"], [0.2222222222222222, \"#7201a8\"], [0.3333333333333333, \"#9c179e\"], [0.4444444444444444, \"#bd3786\"], [0.5555555555555556, \"#d8576b\"], [0.6666666666666666, \"#ed7953\"], [0.7777777777777778, \"#fb9f3a\"], [0.8888888888888888, \"#fdca26\"], [1.0, \"#f0f921\"]], \"type\": \"contour\"}], \"contourcarpet\": [{\"colorbar\": {\"outlinewidth\": 0, \"ticks\": \"\"}, \"type\": \"contourcarpet\"}], \"heatmap\": [{\"colorbar\": {\"outlinewidth\": 0, \"ticks\": \"\"}, \"colorscale\": [[0.0, \"#0d0887\"], [0.1111111111111111, \"#46039f\"], [0.2222222222222222, \"#7201a8\"], [0.3333333333333333, \"#9c179e\"], [0.4444444444444444, \"#bd3786\"], [0.5555555555555556, \"#d8576b\"], [0.6666666666666666, \"#ed7953\"], [0.7777777777777778, \"#fb9f3a\"], [0.8888888888888888, \"#fdca26\"], [1.0, \"#f0f921\"]], \"type\": \"heatmap\"}], \"heatmapgl\": [{\"colorbar\": {\"outlinewidth\": 0, \"ticks\": \"\"}, \"colorscale\": [[0.0, \"#0d0887\"], [0.1111111111111111, \"#46039f\"], [0.2222222222222222, \"#7201a8\"], [0.3333333333333333, \"#9c179e\"], [0.4444444444444444, \"#bd3786\"], [0.5555555555555556, \"#d8576b\"], [0.6666666666666666, \"#ed7953\"], [0.7777777777777778, \"#fb9f3a\"], [0.8888888888888888, \"#fdca26\"], [1.0, \"#f0f921\"]], \"type\": \"heatmapgl\"}], \"histogram\": [{\"marker\": {\"colorbar\": {\"outlinewidth\": 0, \"ticks\": \"\"}}, \"type\": \"histogram\"}], \"histogram2d\": [{\"colorbar\": {\"outlinewidth\": 0, \"ticks\": \"\"}, \"colorscale\": [[0.0, \"#0d0887\"], [0.1111111111111111, \"#46039f\"], [0.2222222222222222, \"#7201a8\"], [0.3333333333333333, \"#9c179e\"], [0.4444444444444444, \"#bd3786\"], [0.5555555555555556, \"#d8576b\"], [0.6666666666666666, \"#ed7953\"], [0.7777777777777778, \"#fb9f3a\"], [0.8888888888888888, \"#fdca26\"], [1.0, \"#f0f921\"]], \"type\": \"histogram2d\"}], \"histogram2dcontour\": [{\"colorbar\": {\"outlinewidth\": 0, \"ticks\": \"\"}, \"colorscale\": [[0.0, \"#0d0887\"], [0.1111111111111111, \"#46039f\"], [0.2222222222222222, \"#7201a8\"], [0.3333333333333333, \"#9c179e\"], [0.4444444444444444, \"#bd3786\"], [0.5555555555555556, \"#d8576b\"], [0.6666666666666666, \"#ed7953\"], [0.7777777777777778, \"#fb9f3a\"], [0.8888888888888888, \"#fdca26\"], [1.0, \"#f0f921\"]], \"type\": \"histogram2dcontour\"}], \"mesh3d\": [{\"colorbar\": {\"outlinewidth\": 0, \"ticks\": \"\"}, \"type\": \"mesh3d\"}], \"parcoords\": [{\"line\": {\"colorbar\": {\"outlinewidth\": 0, \"ticks\": \"\"}}, \"type\": \"parcoords\"}], \"pie\": [{\"automargin\": true, \"type\": \"pie\"}], \"scatter\": [{\"marker\": {\"colorbar\": {\"outlinewidth\": 0, \"ticks\": \"\"}}, \"type\": \"scatter\"}], \"scatter3d\": [{\"line\": {\"colorbar\": {\"outlinewidth\": 0, \"ticks\": \"\"}}, \"marker\": {\"colorbar\": {\"outlinewidth\": 0, \"ticks\": \"\"}}, \"type\": \"scatter3d\"}], \"scattercarpet\": [{\"marker\": {\"colorbar\": {\"outlinewidth\": 0, \"ticks\": \"\"}}, \"type\": \"scattercarpet\"}], \"scattergeo\": [{\"marker\": {\"colorbar\": {\"outlinewidth\": 0, \"ticks\": \"\"}}, \"type\": \"scattergeo\"}], \"scattergl\": [{\"marker\": {\"colorbar\": {\"outlinewidth\": 0, \"ticks\": \"\"}}, \"type\": \"scattergl\"}], \"scattermapbox\": [{\"marker\": {\"colorbar\": {\"outlinewidth\": 0, \"ticks\": \"\"}}, \"type\": \"scattermapbox\"}], \"scatterpolar\": [{\"marker\": {\"colorbar\": {\"outlinewidth\": 0, \"ticks\": \"\"}}, \"type\": \"scatterpolar\"}], \"scatterpolargl\": [{\"marker\": {\"colorbar\": {\"outlinewidth\": 0, \"ticks\": \"\"}}, \"type\": \"scatterpolargl\"}], \"scatterternary\": [{\"marker\": {\"colorbar\": {\"outlinewidth\": 0, \"ticks\": \"\"}}, \"type\": \"scatterternary\"}], \"surface\": [{\"colorbar\": {\"outlinewidth\": 0, \"ticks\": \"\"}, \"colorscale\": [[0.0, \"#0d0887\"], [0.1111111111111111, \"#46039f\"], [0.2222222222222222, \"#7201a8\"], [0.3333333333333333, \"#9c179e\"], [0.4444444444444444, \"#bd3786\"], [0.5555555555555556, \"#d8576b\"], [0.6666666666666666, \"#ed7953\"], [0.7777777777777778, \"#fb9f3a\"], [0.8888888888888888, \"#fdca26\"], [1.0, \"#f0f921\"]], \"type\": \"surface\"}], \"table\": [{\"cells\": {\"fill\": {\"color\": \"#EBF0F8\"}, \"line\": {\"color\": \"white\"}}, \"header\": {\"fill\": {\"color\": \"#C8D4E3\"}, \"line\": {\"color\": \"white\"}}, \"type\": \"table\"}]}, \"layout\": {\"annotationdefaults\": {\"arrowcolor\": \"#2a3f5f\", \"arrowhead\": 0, \"arrowwidth\": 1}, \"coloraxis\": {\"colorbar\": {\"outlinewidth\": 0, \"ticks\": \"\"}}, \"colorscale\": {\"diverging\": [[0, \"#8e0152\"], [0.1, \"#c51b7d\"], [0.2, \"#de77ae\"], [0.3, \"#f1b6da\"], [0.4, \"#fde0ef\"], [0.5, \"#f7f7f7\"], [0.6, \"#e6f5d0\"], [0.7, \"#b8e186\"], [0.8, \"#7fbc41\"], [0.9, \"#4d9221\"], [1, \"#276419\"]], \"sequential\": [[0.0, \"#0d0887\"], [0.1111111111111111, \"#46039f\"], [0.2222222222222222, \"#7201a8\"], [0.3333333333333333, \"#9c179e\"], [0.4444444444444444, \"#bd3786\"], [0.5555555555555556, \"#d8576b\"], [0.6666666666666666, \"#ed7953\"], [0.7777777777777778, \"#fb9f3a\"], [0.8888888888888888, \"#fdca26\"], [1.0, \"#f0f921\"]], \"sequentialminus\": [[0.0, \"#0d0887\"], [0.1111111111111111, \"#46039f\"], [0.2222222222222222, \"#7201a8\"], [0.3333333333333333, \"#9c179e\"], [0.4444444444444444, \"#bd3786\"], [0.5555555555555556, \"#d8576b\"], [0.6666666666666666, \"#ed7953\"], [0.7777777777777778, \"#fb9f3a\"], [0.8888888888888888, \"#fdca26\"], [1.0, \"#f0f921\"]]}, \"colorway\": [\"#636efa\", \"#EF553B\", \"#00cc96\", \"#ab63fa\", \"#FFA15A\", \"#19d3f3\", \"#FF6692\", \"#B6E880\", \"#FF97FF\", \"#FECB52\"], \"font\": {\"color\": \"#2a3f5f\"}, \"geo\": {\"bgcolor\": \"white\", \"lakecolor\": \"white\", \"landcolor\": \"#E5ECF6\", \"showlakes\": true, \"showland\": true, \"subunitcolor\": \"white\"}, \"hoverlabel\": {\"align\": \"left\"}, \"hovermode\": \"closest\", \"mapbox\": {\"style\": \"light\"}, \"paper_bgcolor\": \"white\", \"plot_bgcolor\": \"#E5ECF6\", \"polar\": {\"angularaxis\": {\"gridcolor\": \"white\", \"linecolor\": \"white\", \"ticks\": \"\"}, \"bgcolor\": \"#E5ECF6\", \"radialaxis\": {\"gridcolor\": \"white\", \"linecolor\": \"white\", \"ticks\": \"\"}}, \"scene\": {\"xaxis\": {\"backgroundcolor\": \"#E5ECF6\", \"gridcolor\": \"white\", \"gridwidth\": 2, \"linecolor\": \"white\", \"showbackground\": true, \"ticks\": \"\", \"zerolinecolor\": \"white\"}, \"yaxis\": {\"backgroundcolor\": \"#E5ECF6\", \"gridcolor\": \"white\", \"gridwidth\": 2, \"linecolor\": \"white\", \"showbackground\": true, \"ticks\": \"\", \"zerolinecolor\": \"white\"}, \"zaxis\": {\"backgroundcolor\": \"#E5ECF6\", \"gridcolor\": \"white\", \"gridwidth\": 2, \"linecolor\": \"white\", \"showbackground\": true, \"ticks\": \"\", \"zerolinecolor\": \"white\"}}, \"shapedefaults\": {\"line\": {\"color\": \"#2a3f5f\"}}, \"ternary\": {\"aaxis\": {\"gridcolor\": \"white\", \"linecolor\": \"white\", \"ticks\": \"\"}, \"baxis\": {\"gridcolor\": \"white\", \"linecolor\": \"white\", \"ticks\": \"\"}, \"bgcolor\": \"#E5ECF6\", \"caxis\": {\"gridcolor\": \"white\", \"linecolor\": \"white\", \"ticks\": \"\"}}, \"title\": {\"x\": 0.05}, \"xaxis\": {\"automargin\": true, \"gridcolor\": \"white\", \"linecolor\": \"white\", \"ticks\": \"\", \"title\": {\"standoff\": 15}, \"zerolinecolor\": \"white\", \"zerolinewidth\": 2}, \"yaxis\": {\"automargin\": true, \"gridcolor\": \"white\", \"linecolor\": \"white\", \"ticks\": \"\", \"title\": {\"standoff\": 15}, \"zerolinecolor\": \"white\", \"zerolinewidth\": 2}}}, \"title\": {\"text\": \"Hyperparameter Importances\"}, \"xaxis\": {\"title\": {\"text\": \"Importance for Objective Value\"}}, \"yaxis\": {\"title\": {\"text\": \"Hyperparameter\"}}},\n",
              "                        {\"responsive\": true}\n",
              "                    ).then(function(){\n",
              "                            \n",
              "var gd = document.getElementById('600e1bc9-3217-4f5d-b572-42e9c68f6263');\n",
              "var x = new MutationObserver(function (mutations, observer) {{\n",
              "        var display = window.getComputedStyle(gd).display;\n",
              "        if (!display || display === 'none') {{\n",
              "            console.log([gd, 'removed!']);\n",
              "            Plotly.purge(gd);\n",
              "            observer.disconnect();\n",
              "        }}\n",
              "}});\n",
              "\n",
              "// Listen for the removal of the full notebook cells\n",
              "var notebookContainer = gd.closest('#notebook-container');\n",
              "if (notebookContainer) {{\n",
              "    x.observe(notebookContainer, {childList: true});\n",
              "}}\n",
              "\n",
              "// Listen for the clearing of the current output cell\n",
              "var outputEl = gd.closest('.output');\n",
              "if (outputEl) {{\n",
              "    x.observe(outputEl, {childList: true});\n",
              "}}\n",
              "\n",
              "                        })\n",
              "                };\n",
              "                \n",
              "            </script>\n",
              "        </div>\n",
              "</body>\n",
              "</html>"
            ]
          },
          "metadata": {
            "tags": []
          }
        }
      ]
    },
    {
      "cell_type": "markdown",
      "metadata": {
        "id": "gnLsv5-ZUVw6"
      },
      "source": [
        "## Decision Tree\n"
      ]
    },
    {
      "cell_type": "code",
      "metadata": {
        "id": "uk5miiTiXQtj"
      },
      "source": [
        "from sklearn.tree import DecisionTreeClassifier"
      ],
      "execution_count": 26,
      "outputs": []
    },
    {
      "cell_type": "code",
      "metadata": {
        "id": "sqvyYVGjUVxG"
      },
      "source": [
        "experiment_id = mlflow.create_experiment(name='decision_tree')\n",
        "\n",
        "def decision_tree(trial):\n",
        "  with mlflow.start_run(experiment_id=experiment_id):\n",
        "    # definição dos hiper-parâmetros\n",
        "    params = {'criterion': trial.suggest_categorical('criterion', ['gini', 'entropy']),\n",
        "              'max_features': trial.suggest_int('max_features', 1, len(x_battles.columns))}\n",
        "\n",
        "    model = DecisionTreeClassifier(criterion=params['criterion'], max_features=params['max_features'])\n",
        "\n",
        "    # treinamento\n",
        "    scores = cross_validate(model, x_battles, y_battles,\n",
        "                            scoring='accuracy', return_train_score=True)\n",
        "\n",
        "    # acurácias\n",
        "    test_accuracies = scores['test_score']\n",
        "    test_accuracy = test_accuracies.mean()\n",
        "    train_accuracies = scores['train_score']\n",
        "    train_accuracy = train_accuracies.mean()\n",
        "\n",
        "    # salvar acurácia de treinamento no trial\n",
        "    trial.set_user_attr('train_accuracy', train_accuracy)\n",
        "\n",
        "    # logging\n",
        "    mlflow.log_params(params)\n",
        "    mlflow.log_metric('test_accuracy', test_accuracy)\n",
        "    mlflow.log_metric('train_accuracy', train_accuracy)\n",
        "    mlflow.sklearn.log_model(model, \"model\")\n",
        "    mlflow.end_run()\n",
        "\n",
        "  return test_accuracy"
      ],
      "execution_count": 27,
      "outputs": []
    },
    {
      "cell_type": "code",
      "metadata": {
        "id": "m-8zZEWGUVxH",
        "colab": {
          "base_uri": "https://localhost:8080/"
        },
        "outputId": "285ecc32-df5b-4f89-a238-e291c9c2a433"
      },
      "source": [
        "study_DT = optuna.create_study(direction='maximize')\n",
        "study_DT.optimize(decision_tree, n_trials=NUMBER_OF_TRIALS)"
      ],
      "execution_count": 28,
      "outputs": [
        {
          "output_type": "stream",
          "text": [
            "\u001b[32m[I 2021-08-16 21:34:19,107]\u001b[0m A new study created in memory with name: no-name-5fc5e203-ac5c-400c-85b8-571ffcf6fb85\u001b[0m\n",
            "\u001b[32m[I 2021-08-16 21:34:21,010]\u001b[0m Trial 0 finished with value: 0.5821428571428572 and parameters: {'criterion': 'entropy', 'max_features': 65}. Best is trial 0 with value: 0.5821428571428572.\u001b[0m\n",
            "\u001b[32m[I 2021-08-16 21:34:25,501]\u001b[0m Trial 1 finished with value: 0.8857142857142858 and parameters: {'criterion': 'gini', 'max_features': 38}. Best is trial 1 with value: 0.8857142857142858.\u001b[0m\n",
            "\u001b[32m[I 2021-08-16 21:34:27,385]\u001b[0m Trial 2 finished with value: 0.7142857142857143 and parameters: {'criterion': 'entropy', 'max_features': 27}. Best is trial 1 with value: 0.8857142857142858.\u001b[0m\n",
            "\u001b[32m[I 2021-08-16 21:34:29,291]\u001b[0m Trial 3 finished with value: 0.7535714285714286 and parameters: {'criterion': 'entropy', 'max_features': 64}. Best is trial 1 with value: 0.8857142857142858.\u001b[0m\n",
            "\u001b[32m[I 2021-08-16 21:34:31,408]\u001b[0m Trial 4 finished with value: 0.6678571428571429 and parameters: {'criterion': 'entropy', 'max_features': 106}. Best is trial 1 with value: 0.8857142857142858.\u001b[0m\n",
            "\u001b[32m[I 2021-08-16 21:34:33,360]\u001b[0m Trial 5 finished with value: 0.725 and parameters: {'criterion': 'entropy', 'max_features': 102}. Best is trial 1 with value: 0.8857142857142858.\u001b[0m\n",
            "\u001b[32m[I 2021-08-16 21:34:35,249]\u001b[0m Trial 6 finished with value: 0.7464285714285714 and parameters: {'criterion': 'gini', 'max_features': 29}. Best is trial 1 with value: 0.8857142857142858.\u001b[0m\n",
            "\u001b[32m[I 2021-08-16 21:34:37,329]\u001b[0m Trial 7 finished with value: 0.7214285714285714 and parameters: {'criterion': 'gini', 'max_features': 61}. Best is trial 1 with value: 0.8857142857142858.\u001b[0m\n",
            "\u001b[32m[I 2021-08-16 21:34:39,141]\u001b[0m Trial 8 finished with value: 0.8571428571428571 and parameters: {'criterion': 'gini', 'max_features': 33}. Best is trial 1 with value: 0.8857142857142858.\u001b[0m\n",
            "\u001b[32m[I 2021-08-16 21:34:40,931]\u001b[0m Trial 9 finished with value: 0.7500000000000001 and parameters: {'criterion': 'entropy', 'max_features': 21}. Best is trial 1 with value: 0.8857142857142858.\u001b[0m\n",
            "\u001b[32m[I 2021-08-16 21:34:43,172]\u001b[0m Trial 10 finished with value: 0.7785714285714287 and parameters: {'criterion': 'gini', 'max_features': 1}. Best is trial 1 with value: 0.8857142857142858.\u001b[0m\n",
            "\u001b[32m[I 2021-08-16 21:34:44,947]\u001b[0m Trial 11 finished with value: 0.7821428571428573 and parameters: {'criterion': 'gini', 'max_features': 42}. Best is trial 1 with value: 0.8857142857142858.\u001b[0m\n",
            "\u001b[32m[I 2021-08-16 21:34:46,710]\u001b[0m Trial 12 finished with value: 0.775 and parameters: {'criterion': 'gini', 'max_features': 48}. Best is trial 1 with value: 0.8857142857142858.\u001b[0m\n",
            "\u001b[32m[I 2021-08-16 21:34:48,529]\u001b[0m Trial 13 finished with value: 0.8928571428571429 and parameters: {'criterion': 'gini', 'max_features': 85}. Best is trial 13 with value: 0.8928571428571429.\u001b[0m\n",
            "\u001b[32m[I 2021-08-16 21:34:50,393]\u001b[0m Trial 14 finished with value: 0.7535714285714286 and parameters: {'criterion': 'gini', 'max_features': 92}. Best is trial 13 with value: 0.8928571428571429.\u001b[0m\n",
            "\u001b[32m[I 2021-08-16 21:34:52,716]\u001b[0m Trial 15 finished with value: 0.6642857142857144 and parameters: {'criterion': 'gini', 'max_features': 80}. Best is trial 13 with value: 0.8928571428571429.\u001b[0m\n",
            "\u001b[32m[I 2021-08-16 21:34:54,623]\u001b[0m Trial 16 finished with value: 0.6964285714285714 and parameters: {'criterion': 'gini', 'max_features': 82}. Best is trial 13 with value: 0.8928571428571429.\u001b[0m\n",
            "\u001b[32m[I 2021-08-16 21:34:56,482]\u001b[0m Trial 17 finished with value: 0.6928571428571428 and parameters: {'criterion': 'gini', 'max_features': 120}. Best is trial 13 with value: 0.8928571428571429.\u001b[0m\n",
            "\u001b[32m[I 2021-08-16 21:34:58,370]\u001b[0m Trial 18 finished with value: 0.775 and parameters: {'criterion': 'gini', 'max_features': 5}. Best is trial 13 with value: 0.8928571428571429.\u001b[0m\n",
            "\u001b[32m[I 2021-08-16 21:35:00,191]\u001b[0m Trial 19 finished with value: 0.9428571428571428 and parameters: {'criterion': 'gini', 'max_features': 54}. Best is trial 19 with value: 0.9428571428571428.\u001b[0m\n",
            "\u001b[32m[I 2021-08-16 21:35:02,007]\u001b[0m Trial 20 finished with value: 0.7821428571428573 and parameters: {'criterion': 'gini', 'max_features': 78}. Best is trial 19 with value: 0.9428571428571428.\u001b[0m\n",
            "\u001b[32m[I 2021-08-16 21:35:04,360]\u001b[0m Trial 21 finished with value: 0.6964285714285714 and parameters: {'criterion': 'gini', 'max_features': 50}. Best is trial 19 with value: 0.9428571428571428.\u001b[0m\n",
            "\u001b[32m[I 2021-08-16 21:35:06,151]\u001b[0m Trial 22 finished with value: 0.7535714285714286 and parameters: {'criterion': 'gini', 'max_features': 58}. Best is trial 19 with value: 0.9428571428571428.\u001b[0m\n",
            "\u001b[32m[I 2021-08-16 21:35:07,971]\u001b[0m Trial 23 finished with value: 0.8571428571428571 and parameters: {'criterion': 'gini', 'max_features': 15}. Best is trial 19 with value: 0.9428571428571428.\u001b[0m\n",
            "\u001b[32m[I 2021-08-16 21:35:09,775]\u001b[0m Trial 24 finished with value: 0.9142857142857143 and parameters: {'criterion': 'gini', 'max_features': 38}. Best is trial 19 with value: 0.9428571428571428.\u001b[0m\n",
            "\u001b[32m[I 2021-08-16 21:35:11,613]\u001b[0m Trial 25 finished with value: 0.725 and parameters: {'criterion': 'gini', 'max_features': 53}. Best is trial 19 with value: 0.9428571428571428.\u001b[0m\n",
            "\u001b[32m[I 2021-08-16 21:35:13,437]\u001b[0m Trial 26 finished with value: 0.7214285714285714 and parameters: {'criterion': 'gini', 'max_features': 72}. Best is trial 19 with value: 0.9428571428571428.\u001b[0m\n",
            "\u001b[32m[I 2021-08-16 21:35:15,264]\u001b[0m Trial 27 finished with value: 0.7178571428571429 and parameters: {'criterion': 'gini', 'max_features': 94}. Best is trial 19 with value: 0.9428571428571428.\u001b[0m\n",
            "\u001b[32m[I 2021-08-16 21:35:17,784]\u001b[0m Trial 28 finished with value: 0.9142857142857143 and parameters: {'criterion': 'gini', 'max_features': 72}. Best is trial 19 with value: 0.9428571428571428.\u001b[0m\n",
            "\u001b[32m[I 2021-08-16 21:35:19,608]\u001b[0m Trial 29 finished with value: 0.8107142857142857 and parameters: {'criterion': 'entropy', 'max_features': 68}. Best is trial 19 with value: 0.9428571428571428.\u001b[0m\n",
            "\u001b[32m[I 2021-08-16 21:35:21,439]\u001b[0m Trial 30 finished with value: 0.8107142857142857 and parameters: {'criterion': 'gini', 'max_features': 40}. Best is trial 19 with value: 0.9428571428571428.\u001b[0m\n",
            "\u001b[32m[I 2021-08-16 21:35:23,248]\u001b[0m Trial 31 finished with value: 0.8357142857142857 and parameters: {'criterion': 'gini', 'max_features': 71}. Best is trial 19 with value: 0.9428571428571428.\u001b[0m\n",
            "\u001b[32m[I 2021-08-16 21:35:25,033]\u001b[0m Trial 32 finished with value: 0.8 and parameters: {'criterion': 'gini', 'max_features': 89}. Best is trial 19 with value: 0.9428571428571428.\u001b[0m\n",
            "\u001b[32m[I 2021-08-16 21:35:26,870]\u001b[0m Trial 33 finished with value: 0.8285714285714285 and parameters: {'criterion': 'gini', 'max_features': 57}. Best is trial 19 with value: 0.9428571428571428.\u001b[0m\n",
            "\u001b[32m[I 2021-08-16 21:35:28,690]\u001b[0m Trial 34 finished with value: 0.7 and parameters: {'criterion': 'gini', 'max_features': 47}. Best is trial 19 with value: 0.9428571428571428.\u001b[0m\n",
            "\u001b[32m[I 2021-08-16 21:35:30,476]\u001b[0m Trial 35 finished with value: 0.75 and parameters: {'criterion': 'entropy', 'max_features': 74}. Best is trial 19 with value: 0.9428571428571428.\u001b[0m\n",
            "\u001b[32m[I 2021-08-16 21:35:32,338]\u001b[0m Trial 36 finished with value: 0.6964285714285714 and parameters: {'criterion': 'gini', 'max_features': 87}. Best is trial 19 with value: 0.9428571428571428.\u001b[0m\n",
            "\u001b[32m[I 2021-08-16 21:35:35,047]\u001b[0m Trial 37 finished with value: 0.6678571428571429 and parameters: {'criterion': 'entropy', 'max_features': 100}. Best is trial 19 with value: 0.9428571428571428.\u001b[0m\n",
            "\u001b[32m[I 2021-08-16 21:35:36,881]\u001b[0m Trial 38 finished with value: 0.7142857142857143 and parameters: {'criterion': 'gini', 'max_features': 66}. Best is trial 19 with value: 0.9428571428571428.\u001b[0m\n",
            "\u001b[32m[I 2021-08-16 21:35:38,698]\u001b[0m Trial 39 finished with value: 0.6678571428571429 and parameters: {'criterion': 'entropy', 'max_features': 118}. Best is trial 19 with value: 0.9428571428571428.\u001b[0m\n",
            "\u001b[32m[I 2021-08-16 21:35:40,492]\u001b[0m Trial 40 finished with value: 0.7428571428571429 and parameters: {'criterion': 'gini', 'max_features': 110}. Best is trial 19 with value: 0.9428571428571428.\u001b[0m\n",
            "\u001b[32m[I 2021-08-16 21:35:42,305]\u001b[0m Trial 41 finished with value: 0.5821428571428571 and parameters: {'criterion': 'gini', 'max_features': 35}. Best is trial 19 with value: 0.9428571428571428.\u001b[0m\n",
            "\u001b[32m[I 2021-08-16 21:35:44,112]\u001b[0m Trial 42 finished with value: 0.7785714285714287 and parameters: {'criterion': 'gini', 'max_features': 41}. Best is trial 19 with value: 0.9428571428571428.\u001b[0m\n",
            "\u001b[32m[I 2021-08-16 21:35:45,951]\u001b[0m Trial 43 finished with value: 0.9714285714285713 and parameters: {'criterion': 'gini', 'max_features': 26}. Best is trial 43 with value: 0.9714285714285713.\u001b[0m\n",
            "\u001b[32m[I 2021-08-16 21:35:47,763]\u001b[0m Trial 44 finished with value: 0.7178571428571429 and parameters: {'criterion': 'gini', 'max_features': 14}. Best is trial 43 with value: 0.9714285714285713.\u001b[0m\n",
            "\u001b[32m[I 2021-08-16 21:35:49,558]\u001b[0m Trial 45 finished with value: 0.8571428571428571 and parameters: {'criterion': 'gini', 'max_features': 26}. Best is trial 43 with value: 0.9714285714285713.\u001b[0m\n",
            "\u001b[32m[I 2021-08-16 21:35:51,351]\u001b[0m Trial 46 finished with value: 0.8107142857142857 and parameters: {'criterion': 'gini', 'max_features': 28}. Best is trial 43 with value: 0.9714285714285713.\u001b[0m\n",
            "\u001b[32m[I 2021-08-16 21:35:54,318]\u001b[0m Trial 47 finished with value: 0.75 and parameters: {'criterion': 'gini', 'max_features': 19}. Best is trial 43 with value: 0.9714285714285713.\u001b[0m\n",
            "\u001b[32m[I 2021-08-16 21:35:56,168]\u001b[0m Trial 48 finished with value: 0.8321428571428571 and parameters: {'criterion': 'entropy', 'max_features': 35}. Best is trial 43 with value: 0.9714285714285713.\u001b[0m\n",
            "\u001b[32m[I 2021-08-16 21:35:58,013]\u001b[0m Trial 49 finished with value: 0.8107142857142857 and parameters: {'criterion': 'gini', 'max_features': 64}. Best is trial 43 with value: 0.9714285714285713.\u001b[0m\n"
          ],
          "name": "stderr"
        }
      ]
    },
    {
      "cell_type": "code",
      "metadata": {
        "id": "TOM1L6oEUVxH",
        "colab": {
          "base_uri": "https://localhost:8080/"
        },
        "outputId": "84e4812d-991a-46b5-f69a-ee5d670a2f60"
      },
      "source": [
        "print('Best hyperparameters:\\t', study_DT.best_trial.params)\n",
        "print('Training accuracy:\\t', study_DT.best_trial.user_attrs['train_accuracy'])\n",
        "print('Test accuracy:\\t\\t', study_DT.best_trial.value)"
      ],
      "execution_count": 29,
      "outputs": [
        {
          "output_type": "stream",
          "text": [
            "Best hyperparameters:\t {'criterion': 'gini', 'max_features': 26}\n",
            "Training accuracy:\t 1.0\n",
            "Test accuracy:\t\t 0.9714285714285713\n"
          ],
          "name": "stdout"
        }
      ]
    },
    {
      "cell_type": "code",
      "metadata": {
        "id": "hsfz7ZNtUVxI",
        "colab": {
          "base_uri": "https://localhost:8080/",
          "height": 542
        },
        "outputId": "89b5a9d8-6d78-457f-e0ee-9664209f4cb9"
      },
      "source": [
        "optuna.visualization.plot_optimization_history(study_DT)"
      ],
      "execution_count": 30,
      "outputs": [
        {
          "output_type": "display_data",
          "data": {
            "text/html": [
              "<html>\n",
              "<head><meta charset=\"utf-8\" /></head>\n",
              "<body>\n",
              "    <div>\n",
              "            <script src=\"https://cdnjs.cloudflare.com/ajax/libs/mathjax/2.7.5/MathJax.js?config=TeX-AMS-MML_SVG\"></script><script type=\"text/javascript\">if (window.MathJax) {MathJax.Hub.Config({SVG: {font: \"STIX-Web\"}});}</script>\n",
              "                <script type=\"text/javascript\">window.PlotlyConfig = {MathJaxConfig: 'local'};</script>\n",
              "        <script src=\"https://cdn.plot.ly/plotly-latest.min.js\"></script>    \n",
              "            <div id=\"9a7cff5c-cd66-4eac-8321-64f7cf085e65\" class=\"plotly-graph-div\" style=\"height:525px; width:100%;\"></div>\n",
              "            <script type=\"text/javascript\">\n",
              "                \n",
              "                    window.PLOTLYENV=window.PLOTLYENV || {};\n",
              "                    \n",
              "                if (document.getElementById(\"9a7cff5c-cd66-4eac-8321-64f7cf085e65\")) {\n",
              "                    Plotly.newPlot(\n",
              "                        '9a7cff5c-cd66-4eac-8321-64f7cf085e65',\n",
              "                        [{\"mode\": \"markers\", \"name\": \"Objective Value\", \"type\": \"scatter\", \"x\": [0, 1, 2, 3, 4, 5, 6, 7, 8, 9, 10, 11, 12, 13, 14, 15, 16, 17, 18, 19, 20, 21, 22, 23, 24, 25, 26, 27, 28, 29, 30, 31, 32, 33, 34, 35, 36, 37, 38, 39, 40, 41, 42, 43, 44, 45, 46, 47, 48, 49], \"y\": [0.5821428571428572, 0.8857142857142858, 0.7142857142857143, 0.7535714285714286, 0.6678571428571429, 0.725, 0.7464285714285714, 0.7214285714285714, 0.8571428571428571, 0.7500000000000001, 0.7785714285714287, 0.7821428571428573, 0.775, 0.8928571428571429, 0.7535714285714286, 0.6642857142857144, 0.6964285714285714, 0.6928571428571428, 0.775, 0.9428571428571428, 0.7821428571428573, 0.6964285714285714, 0.7535714285714286, 0.8571428571428571, 0.9142857142857143, 0.725, 0.7214285714285714, 0.7178571428571429, 0.9142857142857143, 0.8107142857142857, 0.8107142857142857, 0.8357142857142857, 0.8, 0.8285714285714285, 0.7, 0.75, 0.6964285714285714, 0.6678571428571429, 0.7142857142857143, 0.6678571428571429, 0.7428571428571429, 0.5821428571428571, 0.7785714285714287, 0.9714285714285713, 0.7178571428571429, 0.8571428571428571, 0.8107142857142857, 0.75, 0.8321428571428571, 0.8107142857142857]}, {\"name\": \"Best Value\", \"type\": \"scatter\", \"x\": [0, 1, 2, 3, 4, 5, 6, 7, 8, 9, 10, 11, 12, 13, 14, 15, 16, 17, 18, 19, 20, 21, 22, 23, 24, 25, 26, 27, 28, 29, 30, 31, 32, 33, 34, 35, 36, 37, 38, 39, 40, 41, 42, 43, 44, 45, 46, 47, 48, 49], \"y\": [0.5821428571428572, 0.8857142857142858, 0.8857142857142858, 0.8857142857142858, 0.8857142857142858, 0.8857142857142858, 0.8857142857142858, 0.8857142857142858, 0.8857142857142858, 0.8857142857142858, 0.8857142857142858, 0.8857142857142858, 0.8857142857142858, 0.8928571428571429, 0.8928571428571429, 0.8928571428571429, 0.8928571428571429, 0.8928571428571429, 0.8928571428571429, 0.9428571428571428, 0.9428571428571428, 0.9428571428571428, 0.9428571428571428, 0.9428571428571428, 0.9428571428571428, 0.9428571428571428, 0.9428571428571428, 0.9428571428571428, 0.9428571428571428, 0.9428571428571428, 0.9428571428571428, 0.9428571428571428, 0.9428571428571428, 0.9428571428571428, 0.9428571428571428, 0.9428571428571428, 0.9428571428571428, 0.9428571428571428, 0.9428571428571428, 0.9428571428571428, 0.9428571428571428, 0.9428571428571428, 0.9428571428571428, 0.9714285714285713, 0.9714285714285713, 0.9714285714285713, 0.9714285714285713, 0.9714285714285713, 0.9714285714285713, 0.9714285714285713]}],\n",
              "                        {\"template\": {\"data\": {\"bar\": [{\"error_x\": {\"color\": \"#2a3f5f\"}, \"error_y\": {\"color\": \"#2a3f5f\"}, \"marker\": {\"line\": {\"color\": \"#E5ECF6\", \"width\": 0.5}}, \"type\": \"bar\"}], \"barpolar\": [{\"marker\": {\"line\": {\"color\": \"#E5ECF6\", \"width\": 0.5}}, \"type\": \"barpolar\"}], \"carpet\": [{\"aaxis\": {\"endlinecolor\": \"#2a3f5f\", \"gridcolor\": \"white\", \"linecolor\": \"white\", \"minorgridcolor\": \"white\", \"startlinecolor\": \"#2a3f5f\"}, \"baxis\": {\"endlinecolor\": \"#2a3f5f\", \"gridcolor\": \"white\", \"linecolor\": \"white\", \"minorgridcolor\": \"white\", \"startlinecolor\": \"#2a3f5f\"}, \"type\": \"carpet\"}], \"choropleth\": [{\"colorbar\": {\"outlinewidth\": 0, \"ticks\": \"\"}, \"type\": \"choropleth\"}], \"contour\": [{\"colorbar\": {\"outlinewidth\": 0, \"ticks\": \"\"}, \"colorscale\": [[0.0, \"#0d0887\"], [0.1111111111111111, \"#46039f\"], [0.2222222222222222, \"#7201a8\"], [0.3333333333333333, \"#9c179e\"], [0.4444444444444444, \"#bd3786\"], [0.5555555555555556, \"#d8576b\"], [0.6666666666666666, \"#ed7953\"], [0.7777777777777778, \"#fb9f3a\"], [0.8888888888888888, \"#fdca26\"], [1.0, \"#f0f921\"]], \"type\": \"contour\"}], \"contourcarpet\": [{\"colorbar\": {\"outlinewidth\": 0, \"ticks\": \"\"}, \"type\": \"contourcarpet\"}], \"heatmap\": [{\"colorbar\": {\"outlinewidth\": 0, \"ticks\": \"\"}, \"colorscale\": [[0.0, \"#0d0887\"], [0.1111111111111111, \"#46039f\"], [0.2222222222222222, \"#7201a8\"], [0.3333333333333333, \"#9c179e\"], [0.4444444444444444, \"#bd3786\"], [0.5555555555555556, \"#d8576b\"], [0.6666666666666666, \"#ed7953\"], [0.7777777777777778, \"#fb9f3a\"], [0.8888888888888888, \"#fdca26\"], [1.0, \"#f0f921\"]], \"type\": \"heatmap\"}], \"heatmapgl\": [{\"colorbar\": {\"outlinewidth\": 0, \"ticks\": \"\"}, \"colorscale\": [[0.0, \"#0d0887\"], [0.1111111111111111, \"#46039f\"], [0.2222222222222222, \"#7201a8\"], [0.3333333333333333, \"#9c179e\"], [0.4444444444444444, \"#bd3786\"], [0.5555555555555556, \"#d8576b\"], [0.6666666666666666, \"#ed7953\"], [0.7777777777777778, \"#fb9f3a\"], [0.8888888888888888, \"#fdca26\"], [1.0, \"#f0f921\"]], \"type\": \"heatmapgl\"}], \"histogram\": [{\"marker\": {\"colorbar\": {\"outlinewidth\": 0, \"ticks\": \"\"}}, \"type\": \"histogram\"}], \"histogram2d\": [{\"colorbar\": {\"outlinewidth\": 0, \"ticks\": \"\"}, \"colorscale\": [[0.0, \"#0d0887\"], [0.1111111111111111, \"#46039f\"], [0.2222222222222222, \"#7201a8\"], [0.3333333333333333, \"#9c179e\"], [0.4444444444444444, \"#bd3786\"], [0.5555555555555556, \"#d8576b\"], [0.6666666666666666, \"#ed7953\"], [0.7777777777777778, \"#fb9f3a\"], [0.8888888888888888, \"#fdca26\"], [1.0, \"#f0f921\"]], \"type\": \"histogram2d\"}], \"histogram2dcontour\": [{\"colorbar\": {\"outlinewidth\": 0, \"ticks\": \"\"}, \"colorscale\": [[0.0, \"#0d0887\"], [0.1111111111111111, \"#46039f\"], [0.2222222222222222, \"#7201a8\"], [0.3333333333333333, \"#9c179e\"], [0.4444444444444444, \"#bd3786\"], [0.5555555555555556, \"#d8576b\"], [0.6666666666666666, \"#ed7953\"], [0.7777777777777778, \"#fb9f3a\"], [0.8888888888888888, \"#fdca26\"], [1.0, \"#f0f921\"]], \"type\": \"histogram2dcontour\"}], \"mesh3d\": [{\"colorbar\": {\"outlinewidth\": 0, \"ticks\": \"\"}, \"type\": \"mesh3d\"}], \"parcoords\": [{\"line\": {\"colorbar\": {\"outlinewidth\": 0, \"ticks\": \"\"}}, \"type\": \"parcoords\"}], \"pie\": [{\"automargin\": true, \"type\": \"pie\"}], \"scatter\": [{\"marker\": {\"colorbar\": {\"outlinewidth\": 0, \"ticks\": \"\"}}, \"type\": \"scatter\"}], \"scatter3d\": [{\"line\": {\"colorbar\": {\"outlinewidth\": 0, \"ticks\": \"\"}}, \"marker\": {\"colorbar\": {\"outlinewidth\": 0, \"ticks\": \"\"}}, \"type\": \"scatter3d\"}], \"scattercarpet\": [{\"marker\": {\"colorbar\": {\"outlinewidth\": 0, \"ticks\": \"\"}}, \"type\": \"scattercarpet\"}], \"scattergeo\": [{\"marker\": {\"colorbar\": {\"outlinewidth\": 0, \"ticks\": \"\"}}, \"type\": \"scattergeo\"}], \"scattergl\": [{\"marker\": {\"colorbar\": {\"outlinewidth\": 0, \"ticks\": \"\"}}, \"type\": \"scattergl\"}], \"scattermapbox\": [{\"marker\": {\"colorbar\": {\"outlinewidth\": 0, \"ticks\": \"\"}}, \"type\": \"scattermapbox\"}], \"scatterpolar\": [{\"marker\": {\"colorbar\": {\"outlinewidth\": 0, \"ticks\": \"\"}}, \"type\": \"scatterpolar\"}], \"scatterpolargl\": [{\"marker\": {\"colorbar\": {\"outlinewidth\": 0, \"ticks\": \"\"}}, \"type\": \"scatterpolargl\"}], \"scatterternary\": [{\"marker\": {\"colorbar\": {\"outlinewidth\": 0, \"ticks\": \"\"}}, \"type\": \"scatterternary\"}], \"surface\": [{\"colorbar\": {\"outlinewidth\": 0, \"ticks\": \"\"}, \"colorscale\": [[0.0, \"#0d0887\"], [0.1111111111111111, \"#46039f\"], [0.2222222222222222, \"#7201a8\"], [0.3333333333333333, \"#9c179e\"], [0.4444444444444444, \"#bd3786\"], [0.5555555555555556, \"#d8576b\"], [0.6666666666666666, \"#ed7953\"], [0.7777777777777778, \"#fb9f3a\"], [0.8888888888888888, \"#fdca26\"], [1.0, \"#f0f921\"]], \"type\": \"surface\"}], \"table\": [{\"cells\": {\"fill\": {\"color\": \"#EBF0F8\"}, \"line\": {\"color\": \"white\"}}, \"header\": {\"fill\": {\"color\": \"#C8D4E3\"}, \"line\": {\"color\": \"white\"}}, \"type\": \"table\"}]}, \"layout\": {\"annotationdefaults\": {\"arrowcolor\": \"#2a3f5f\", \"arrowhead\": 0, \"arrowwidth\": 1}, \"coloraxis\": {\"colorbar\": {\"outlinewidth\": 0, \"ticks\": \"\"}}, \"colorscale\": {\"diverging\": [[0, \"#8e0152\"], [0.1, \"#c51b7d\"], [0.2, \"#de77ae\"], [0.3, \"#f1b6da\"], [0.4, \"#fde0ef\"], [0.5, \"#f7f7f7\"], [0.6, \"#e6f5d0\"], [0.7, \"#b8e186\"], [0.8, \"#7fbc41\"], [0.9, \"#4d9221\"], [1, \"#276419\"]], \"sequential\": [[0.0, \"#0d0887\"], [0.1111111111111111, \"#46039f\"], [0.2222222222222222, \"#7201a8\"], [0.3333333333333333, \"#9c179e\"], [0.4444444444444444, \"#bd3786\"], [0.5555555555555556, \"#d8576b\"], [0.6666666666666666, \"#ed7953\"], [0.7777777777777778, \"#fb9f3a\"], [0.8888888888888888, \"#fdca26\"], [1.0, \"#f0f921\"]], \"sequentialminus\": [[0.0, \"#0d0887\"], [0.1111111111111111, \"#46039f\"], [0.2222222222222222, \"#7201a8\"], [0.3333333333333333, \"#9c179e\"], [0.4444444444444444, \"#bd3786\"], [0.5555555555555556, \"#d8576b\"], [0.6666666666666666, \"#ed7953\"], [0.7777777777777778, \"#fb9f3a\"], [0.8888888888888888, \"#fdca26\"], [1.0, \"#f0f921\"]]}, \"colorway\": [\"#636efa\", \"#EF553B\", \"#00cc96\", \"#ab63fa\", \"#FFA15A\", \"#19d3f3\", \"#FF6692\", \"#B6E880\", \"#FF97FF\", \"#FECB52\"], \"font\": {\"color\": \"#2a3f5f\"}, \"geo\": {\"bgcolor\": \"white\", \"lakecolor\": \"white\", \"landcolor\": \"#E5ECF6\", \"showlakes\": true, \"showland\": true, \"subunitcolor\": \"white\"}, \"hoverlabel\": {\"align\": \"left\"}, \"hovermode\": \"closest\", \"mapbox\": {\"style\": \"light\"}, \"paper_bgcolor\": \"white\", \"plot_bgcolor\": \"#E5ECF6\", \"polar\": {\"angularaxis\": {\"gridcolor\": \"white\", \"linecolor\": \"white\", \"ticks\": \"\"}, \"bgcolor\": \"#E5ECF6\", \"radialaxis\": {\"gridcolor\": \"white\", \"linecolor\": \"white\", \"ticks\": \"\"}}, \"scene\": {\"xaxis\": {\"backgroundcolor\": \"#E5ECF6\", \"gridcolor\": \"white\", \"gridwidth\": 2, \"linecolor\": \"white\", \"showbackground\": true, \"ticks\": \"\", \"zerolinecolor\": \"white\"}, \"yaxis\": {\"backgroundcolor\": \"#E5ECF6\", \"gridcolor\": \"white\", \"gridwidth\": 2, \"linecolor\": \"white\", \"showbackground\": true, \"ticks\": \"\", \"zerolinecolor\": \"white\"}, \"zaxis\": {\"backgroundcolor\": \"#E5ECF6\", \"gridcolor\": \"white\", \"gridwidth\": 2, \"linecolor\": \"white\", \"showbackground\": true, \"ticks\": \"\", \"zerolinecolor\": \"white\"}}, \"shapedefaults\": {\"line\": {\"color\": \"#2a3f5f\"}}, \"ternary\": {\"aaxis\": {\"gridcolor\": \"white\", \"linecolor\": \"white\", \"ticks\": \"\"}, \"baxis\": {\"gridcolor\": \"white\", \"linecolor\": \"white\", \"ticks\": \"\"}, \"bgcolor\": \"#E5ECF6\", \"caxis\": {\"gridcolor\": \"white\", \"linecolor\": \"white\", \"ticks\": \"\"}}, \"title\": {\"x\": 0.05}, \"xaxis\": {\"automargin\": true, \"gridcolor\": \"white\", \"linecolor\": \"white\", \"ticks\": \"\", \"title\": {\"standoff\": 15}, \"zerolinecolor\": \"white\", \"zerolinewidth\": 2}, \"yaxis\": {\"automargin\": true, \"gridcolor\": \"white\", \"linecolor\": \"white\", \"ticks\": \"\", \"title\": {\"standoff\": 15}, \"zerolinecolor\": \"white\", \"zerolinewidth\": 2}}}, \"title\": {\"text\": \"Optimization History Plot\"}, \"xaxis\": {\"title\": {\"text\": \"#Trials\"}}, \"yaxis\": {\"title\": {\"text\": \"Objective Value\"}}},\n",
              "                        {\"responsive\": true}\n",
              "                    ).then(function(){\n",
              "                            \n",
              "var gd = document.getElementById('9a7cff5c-cd66-4eac-8321-64f7cf085e65');\n",
              "var x = new MutationObserver(function (mutations, observer) {{\n",
              "        var display = window.getComputedStyle(gd).display;\n",
              "        if (!display || display === 'none') {{\n",
              "            console.log([gd, 'removed!']);\n",
              "            Plotly.purge(gd);\n",
              "            observer.disconnect();\n",
              "        }}\n",
              "}});\n",
              "\n",
              "// Listen for the removal of the full notebook cells\n",
              "var notebookContainer = gd.closest('#notebook-container');\n",
              "if (notebookContainer) {{\n",
              "    x.observe(notebookContainer, {childList: true});\n",
              "}}\n",
              "\n",
              "// Listen for the clearing of the current output cell\n",
              "var outputEl = gd.closest('.output');\n",
              "if (outputEl) {{\n",
              "    x.observe(outputEl, {childList: true});\n",
              "}}\n",
              "\n",
              "                        })\n",
              "                };\n",
              "                \n",
              "            </script>\n",
              "        </div>\n",
              "</body>\n",
              "</html>"
            ]
          },
          "metadata": {
            "tags": []
          }
        }
      ]
    },
    {
      "cell_type": "code",
      "metadata": {
        "id": "KUIdCvcKeC_b",
        "colab": {
          "base_uri": "https://localhost:8080/",
          "height": 578
        },
        "outputId": "47aee28e-8e44-4eaf-df7f-3db201037b32"
      },
      "source": [
        "plot_param_importances(study_DT)"
      ],
      "execution_count": 31,
      "outputs": [
        {
          "output_type": "stream",
          "text": [
            "2021/08/16 21:35:58 INFO mlflow.utils.autologging_utils: Created MLflow autologging run with ID 'a0462399aa33420288ff41f5b9d7b701', which will track hyperparameters, performance metrics, model artifacts, and lineage information for the current sklearn workflow\n"
          ],
          "name": "stderr"
        },
        {
          "output_type": "display_data",
          "data": {
            "text/html": [
              "<html>\n",
              "<head><meta charset=\"utf-8\" /></head>\n",
              "<body>\n",
              "    <div>\n",
              "            <script src=\"https://cdnjs.cloudflare.com/ajax/libs/mathjax/2.7.5/MathJax.js?config=TeX-AMS-MML_SVG\"></script><script type=\"text/javascript\">if (window.MathJax) {MathJax.Hub.Config({SVG: {font: \"STIX-Web\"}});}</script>\n",
              "                <script type=\"text/javascript\">window.PlotlyConfig = {MathJaxConfig: 'local'};</script>\n",
              "        <script src=\"https://cdn.plot.ly/plotly-latest.min.js\"></script>    \n",
              "            <div id=\"b5d456e7-718f-4a35-9333-fec144d7d676\" class=\"plotly-graph-div\" style=\"height:525px; width:100%;\"></div>\n",
              "            <script type=\"text/javascript\">\n",
              "                \n",
              "                    window.PLOTLYENV=window.PLOTLYENV || {};\n",
              "                    \n",
              "                if (document.getElementById(\"b5d456e7-718f-4a35-9333-fec144d7d676\")) {\n",
              "                    Plotly.newPlot(\n",
              "                        'b5d456e7-718f-4a35-9333-fec144d7d676',\n",
              "                        [{\"cliponaxis\": false, \"hovertemplate\": [\"criterion (CategoricalDistribution): 0.09560344122903312<extra></extra>\", \"max_features (IntUniformDistribution): 0.9043965587709669<extra></extra>\"], \"marker\": {\"color\": \"rgb(66,146,198)\"}, \"orientation\": \"h\", \"text\": [\"0.09560344122903312\", \"0.9043965587709669\"], \"textposition\": \"outside\", \"texttemplate\": \"%{text:.2f}\", \"type\": \"bar\", \"x\": [0.09560344122903312, 0.9043965587709669], \"y\": [\"criterion\", \"max_features\"]}],\n",
              "                        {\"showlegend\": false, \"template\": {\"data\": {\"bar\": [{\"error_x\": {\"color\": \"#2a3f5f\"}, \"error_y\": {\"color\": \"#2a3f5f\"}, \"marker\": {\"line\": {\"color\": \"#E5ECF6\", \"width\": 0.5}}, \"type\": \"bar\"}], \"barpolar\": [{\"marker\": {\"line\": {\"color\": \"#E5ECF6\", \"width\": 0.5}}, \"type\": \"barpolar\"}], \"carpet\": [{\"aaxis\": {\"endlinecolor\": \"#2a3f5f\", \"gridcolor\": \"white\", \"linecolor\": \"white\", \"minorgridcolor\": \"white\", \"startlinecolor\": \"#2a3f5f\"}, \"baxis\": {\"endlinecolor\": \"#2a3f5f\", \"gridcolor\": \"white\", \"linecolor\": \"white\", \"minorgridcolor\": \"white\", \"startlinecolor\": \"#2a3f5f\"}, \"type\": \"carpet\"}], \"choropleth\": [{\"colorbar\": {\"outlinewidth\": 0, \"ticks\": \"\"}, \"type\": \"choropleth\"}], \"contour\": [{\"colorbar\": {\"outlinewidth\": 0, \"ticks\": \"\"}, \"colorscale\": [[0.0, \"#0d0887\"], [0.1111111111111111, \"#46039f\"], [0.2222222222222222, \"#7201a8\"], [0.3333333333333333, \"#9c179e\"], [0.4444444444444444, \"#bd3786\"], [0.5555555555555556, \"#d8576b\"], [0.6666666666666666, \"#ed7953\"], [0.7777777777777778, \"#fb9f3a\"], [0.8888888888888888, \"#fdca26\"], [1.0, \"#f0f921\"]], \"type\": \"contour\"}], \"contourcarpet\": [{\"colorbar\": {\"outlinewidth\": 0, \"ticks\": \"\"}, \"type\": \"contourcarpet\"}], \"heatmap\": [{\"colorbar\": {\"outlinewidth\": 0, \"ticks\": \"\"}, \"colorscale\": [[0.0, \"#0d0887\"], [0.1111111111111111, \"#46039f\"], [0.2222222222222222, \"#7201a8\"], [0.3333333333333333, \"#9c179e\"], [0.4444444444444444, \"#bd3786\"], [0.5555555555555556, \"#d8576b\"], [0.6666666666666666, \"#ed7953\"], [0.7777777777777778, \"#fb9f3a\"], [0.8888888888888888, \"#fdca26\"], [1.0, \"#f0f921\"]], \"type\": \"heatmap\"}], \"heatmapgl\": [{\"colorbar\": {\"outlinewidth\": 0, \"ticks\": \"\"}, \"colorscale\": [[0.0, \"#0d0887\"], [0.1111111111111111, \"#46039f\"], [0.2222222222222222, \"#7201a8\"], [0.3333333333333333, \"#9c179e\"], [0.4444444444444444, \"#bd3786\"], [0.5555555555555556, \"#d8576b\"], [0.6666666666666666, \"#ed7953\"], [0.7777777777777778, \"#fb9f3a\"], [0.8888888888888888, \"#fdca26\"], [1.0, \"#f0f921\"]], \"type\": \"heatmapgl\"}], \"histogram\": [{\"marker\": {\"colorbar\": {\"outlinewidth\": 0, \"ticks\": \"\"}}, \"type\": \"histogram\"}], \"histogram2d\": [{\"colorbar\": {\"outlinewidth\": 0, \"ticks\": \"\"}, \"colorscale\": [[0.0, \"#0d0887\"], [0.1111111111111111, \"#46039f\"], [0.2222222222222222, \"#7201a8\"], [0.3333333333333333, \"#9c179e\"], [0.4444444444444444, \"#bd3786\"], [0.5555555555555556, \"#d8576b\"], [0.6666666666666666, \"#ed7953\"], [0.7777777777777778, \"#fb9f3a\"], [0.8888888888888888, \"#fdca26\"], [1.0, \"#f0f921\"]], \"type\": \"histogram2d\"}], \"histogram2dcontour\": [{\"colorbar\": {\"outlinewidth\": 0, \"ticks\": \"\"}, \"colorscale\": [[0.0, \"#0d0887\"], [0.1111111111111111, \"#46039f\"], [0.2222222222222222, \"#7201a8\"], [0.3333333333333333, \"#9c179e\"], [0.4444444444444444, \"#bd3786\"], [0.5555555555555556, \"#d8576b\"], [0.6666666666666666, \"#ed7953\"], [0.7777777777777778, \"#fb9f3a\"], [0.8888888888888888, \"#fdca26\"], [1.0, \"#f0f921\"]], \"type\": \"histogram2dcontour\"}], \"mesh3d\": [{\"colorbar\": {\"outlinewidth\": 0, \"ticks\": \"\"}, \"type\": \"mesh3d\"}], \"parcoords\": [{\"line\": {\"colorbar\": {\"outlinewidth\": 0, \"ticks\": \"\"}}, \"type\": \"parcoords\"}], \"pie\": [{\"automargin\": true, \"type\": \"pie\"}], \"scatter\": [{\"marker\": {\"colorbar\": {\"outlinewidth\": 0, \"ticks\": \"\"}}, \"type\": \"scatter\"}], \"scatter3d\": [{\"line\": {\"colorbar\": {\"outlinewidth\": 0, \"ticks\": \"\"}}, \"marker\": {\"colorbar\": {\"outlinewidth\": 0, \"ticks\": \"\"}}, \"type\": \"scatter3d\"}], \"scattercarpet\": [{\"marker\": {\"colorbar\": {\"outlinewidth\": 0, \"ticks\": \"\"}}, \"type\": \"scattercarpet\"}], \"scattergeo\": [{\"marker\": {\"colorbar\": {\"outlinewidth\": 0, \"ticks\": \"\"}}, \"type\": \"scattergeo\"}], \"scattergl\": [{\"marker\": {\"colorbar\": {\"outlinewidth\": 0, \"ticks\": \"\"}}, \"type\": \"scattergl\"}], \"scattermapbox\": [{\"marker\": {\"colorbar\": {\"outlinewidth\": 0, \"ticks\": \"\"}}, \"type\": \"scattermapbox\"}], \"scatterpolar\": [{\"marker\": {\"colorbar\": {\"outlinewidth\": 0, \"ticks\": \"\"}}, \"type\": \"scatterpolar\"}], \"scatterpolargl\": [{\"marker\": {\"colorbar\": {\"outlinewidth\": 0, \"ticks\": \"\"}}, \"type\": \"scatterpolargl\"}], \"scatterternary\": [{\"marker\": {\"colorbar\": {\"outlinewidth\": 0, \"ticks\": \"\"}}, \"type\": \"scatterternary\"}], \"surface\": [{\"colorbar\": {\"outlinewidth\": 0, \"ticks\": \"\"}, \"colorscale\": [[0.0, \"#0d0887\"], [0.1111111111111111, \"#46039f\"], [0.2222222222222222, \"#7201a8\"], [0.3333333333333333, \"#9c179e\"], [0.4444444444444444, \"#bd3786\"], [0.5555555555555556, \"#d8576b\"], [0.6666666666666666, \"#ed7953\"], [0.7777777777777778, \"#fb9f3a\"], [0.8888888888888888, \"#fdca26\"], [1.0, \"#f0f921\"]], \"type\": \"surface\"}], \"table\": [{\"cells\": {\"fill\": {\"color\": \"#EBF0F8\"}, \"line\": {\"color\": \"white\"}}, \"header\": {\"fill\": {\"color\": \"#C8D4E3\"}, \"line\": {\"color\": \"white\"}}, \"type\": \"table\"}]}, \"layout\": {\"annotationdefaults\": {\"arrowcolor\": \"#2a3f5f\", \"arrowhead\": 0, \"arrowwidth\": 1}, \"coloraxis\": {\"colorbar\": {\"outlinewidth\": 0, \"ticks\": \"\"}}, \"colorscale\": {\"diverging\": [[0, \"#8e0152\"], [0.1, \"#c51b7d\"], [0.2, \"#de77ae\"], [0.3, \"#f1b6da\"], [0.4, \"#fde0ef\"], [0.5, \"#f7f7f7\"], [0.6, \"#e6f5d0\"], [0.7, \"#b8e186\"], [0.8, \"#7fbc41\"], [0.9, \"#4d9221\"], [1, \"#276419\"]], \"sequential\": [[0.0, \"#0d0887\"], [0.1111111111111111, \"#46039f\"], [0.2222222222222222, \"#7201a8\"], [0.3333333333333333, \"#9c179e\"], [0.4444444444444444, \"#bd3786\"], [0.5555555555555556, \"#d8576b\"], [0.6666666666666666, \"#ed7953\"], [0.7777777777777778, \"#fb9f3a\"], [0.8888888888888888, \"#fdca26\"], [1.0, \"#f0f921\"]], \"sequentialminus\": [[0.0, \"#0d0887\"], [0.1111111111111111, \"#46039f\"], [0.2222222222222222, \"#7201a8\"], [0.3333333333333333, \"#9c179e\"], [0.4444444444444444, \"#bd3786\"], [0.5555555555555556, \"#d8576b\"], [0.6666666666666666, \"#ed7953\"], [0.7777777777777778, \"#fb9f3a\"], [0.8888888888888888, \"#fdca26\"], [1.0, \"#f0f921\"]]}, \"colorway\": [\"#636efa\", \"#EF553B\", \"#00cc96\", \"#ab63fa\", \"#FFA15A\", \"#19d3f3\", \"#FF6692\", \"#B6E880\", \"#FF97FF\", \"#FECB52\"], \"font\": {\"color\": \"#2a3f5f\"}, \"geo\": {\"bgcolor\": \"white\", \"lakecolor\": \"white\", \"landcolor\": \"#E5ECF6\", \"showlakes\": true, \"showland\": true, \"subunitcolor\": \"white\"}, \"hoverlabel\": {\"align\": \"left\"}, \"hovermode\": \"closest\", \"mapbox\": {\"style\": \"light\"}, \"paper_bgcolor\": \"white\", \"plot_bgcolor\": \"#E5ECF6\", \"polar\": {\"angularaxis\": {\"gridcolor\": \"white\", \"linecolor\": \"white\", \"ticks\": \"\"}, \"bgcolor\": \"#E5ECF6\", \"radialaxis\": {\"gridcolor\": \"white\", \"linecolor\": \"white\", \"ticks\": \"\"}}, \"scene\": {\"xaxis\": {\"backgroundcolor\": \"#E5ECF6\", \"gridcolor\": \"white\", \"gridwidth\": 2, \"linecolor\": \"white\", \"showbackground\": true, \"ticks\": \"\", \"zerolinecolor\": \"white\"}, \"yaxis\": {\"backgroundcolor\": \"#E5ECF6\", \"gridcolor\": \"white\", \"gridwidth\": 2, \"linecolor\": \"white\", \"showbackground\": true, \"ticks\": \"\", \"zerolinecolor\": \"white\"}, \"zaxis\": {\"backgroundcolor\": \"#E5ECF6\", \"gridcolor\": \"white\", \"gridwidth\": 2, \"linecolor\": \"white\", \"showbackground\": true, \"ticks\": \"\", \"zerolinecolor\": \"white\"}}, \"shapedefaults\": {\"line\": {\"color\": \"#2a3f5f\"}}, \"ternary\": {\"aaxis\": {\"gridcolor\": \"white\", \"linecolor\": \"white\", \"ticks\": \"\"}, \"baxis\": {\"gridcolor\": \"white\", \"linecolor\": \"white\", \"ticks\": \"\"}, \"bgcolor\": \"#E5ECF6\", \"caxis\": {\"gridcolor\": \"white\", \"linecolor\": \"white\", \"ticks\": \"\"}}, \"title\": {\"x\": 0.05}, \"xaxis\": {\"automargin\": true, \"gridcolor\": \"white\", \"linecolor\": \"white\", \"ticks\": \"\", \"title\": {\"standoff\": 15}, \"zerolinecolor\": \"white\", \"zerolinewidth\": 2}, \"yaxis\": {\"automargin\": true, \"gridcolor\": \"white\", \"linecolor\": \"white\", \"ticks\": \"\", \"title\": {\"standoff\": 15}, \"zerolinecolor\": \"white\", \"zerolinewidth\": 2}}}, \"title\": {\"text\": \"Hyperparameter Importances\"}, \"xaxis\": {\"title\": {\"text\": \"Importance for Objective Value\"}}, \"yaxis\": {\"title\": {\"text\": \"Hyperparameter\"}}},\n",
              "                        {\"responsive\": true}\n",
              "                    ).then(function(){\n",
              "                            \n",
              "var gd = document.getElementById('b5d456e7-718f-4a35-9333-fec144d7d676');\n",
              "var x = new MutationObserver(function (mutations, observer) {{\n",
              "        var display = window.getComputedStyle(gd).display;\n",
              "        if (!display || display === 'none') {{\n",
              "            console.log([gd, 'removed!']);\n",
              "            Plotly.purge(gd);\n",
              "            observer.disconnect();\n",
              "        }}\n",
              "}});\n",
              "\n",
              "// Listen for the removal of the full notebook cells\n",
              "var notebookContainer = gd.closest('#notebook-container');\n",
              "if (notebookContainer) {{\n",
              "    x.observe(notebookContainer, {childList: true});\n",
              "}}\n",
              "\n",
              "// Listen for the clearing of the current output cell\n",
              "var outputEl = gd.closest('.output');\n",
              "if (outputEl) {{\n",
              "    x.observe(outputEl, {childList: true});\n",
              "}}\n",
              "\n",
              "                        })\n",
              "                };\n",
              "                \n",
              "            </script>\n",
              "        </div>\n",
              "</body>\n",
              "</html>"
            ]
          },
          "metadata": {
            "tags": []
          }
        }
      ]
    },
    {
      "cell_type": "markdown",
      "metadata": {
        "id": "gGsvO8eEUhSg"
      },
      "source": [
        "## Random Forest\n"
      ]
    },
    {
      "cell_type": "code",
      "metadata": {
        "id": "ArnWcJErXgqv"
      },
      "source": [
        "from sklearn.ensemble import RandomForestClassifier"
      ],
      "execution_count": 32,
      "outputs": []
    },
    {
      "cell_type": "code",
      "metadata": {
        "id": "Wmgm0uhnUhSh"
      },
      "source": [
        "experiment_id = mlflow.create_experiment(name='random_forest')\n",
        "\n",
        "def random_forest(trial):\n",
        "  with mlflow.start_run(experiment_id=experiment_id):\n",
        "    # definição dos hiper-parâmetros\n",
        "    params = {'n_estimators': trial.suggest_int('n_estimators', 50, 150),\n",
        "              'criterion': trial.suggest_categorical('criterion', ['gini', 'entropy']),\n",
        "              'max_features': trial.suggest_int('max_features', 1, len(x_battles.columns))}\n",
        "\n",
        "    model = RandomForestClassifier(n_estimators=params['n_estimators'], criterion=params['criterion'], max_features=params['max_features'])\n",
        "\n",
        "    # treinamento\n",
        "    scores = cross_validate(model, x_battles, y_battles,\n",
        "                            scoring='accuracy', return_train_score=True)\n",
        "\n",
        "    # acurácias\n",
        "    test_accuracies = scores['test_score']\n",
        "    test_accuracy = test_accuracies.mean()\n",
        "    train_accuracies = scores['train_score']\n",
        "    train_accuracy = train_accuracies.mean()\n",
        "\n",
        "    # salvar acurácia de treinamento no trial\n",
        "    trial.set_user_attr('train_accuracy', train_accuracy)\n",
        "\n",
        "    # logging\n",
        "    mlflow.log_params(params)\n",
        "    mlflow.log_metric('test_accuracy', test_accuracy)\n",
        "    mlflow.log_metric('train_accuracy', train_accuracy)\n",
        "    mlflow.sklearn.log_model(model, \"model\")\n",
        "    mlflow.end_run()\n",
        "\n",
        "  return test_accuracy"
      ],
      "execution_count": 33,
      "outputs": []
    },
    {
      "cell_type": "code",
      "metadata": {
        "id": "kYSuA4qqUhSh",
        "colab": {
          "base_uri": "https://localhost:8080/"
        },
        "outputId": "1a7a079f-1223-4c8c-91e1-0b634f6dc25d"
      },
      "source": [
        "study_RF = optuna.create_study(direction='maximize')\n",
        "study_RF.optimize(random_forest, n_trials=NUMBER_OF_TRIALS)"
      ],
      "execution_count": 34,
      "outputs": [
        {
          "output_type": "stream",
          "text": [
            "\u001b[32m[I 2021-08-16 21:35:59,396]\u001b[0m A new study created in memory with name: no-name-06084c55-193d-47c6-9c62-cbe378f6ccf1\u001b[0m\n",
            "\u001b[32m[I 2021-08-16 21:36:03,226]\u001b[0m Trial 0 finished with value: 0.8321428571428571 and parameters: {'n_estimators': 114, 'criterion': 'gini', 'max_features': 36}. Best is trial 0 with value: 0.8321428571428571.\u001b[0m\n",
            "\u001b[32m[I 2021-08-16 21:36:05,890]\u001b[0m Trial 1 finished with value: 0.8571428571428571 and parameters: {'n_estimators': 50, 'criterion': 'gini', 'max_features': 123}. Best is trial 1 with value: 0.8571428571428571.\u001b[0m\n",
            "\u001b[32m[I 2021-08-16 21:36:09,086]\u001b[0m Trial 2 finished with value: 0.8321428571428571 and parameters: {'n_estimators': 82, 'criterion': 'entropy', 'max_features': 63}. Best is trial 1 with value: 0.8571428571428571.\u001b[0m\n",
            "\u001b[32m[I 2021-08-16 21:36:12,756]\u001b[0m Trial 3 finished with value: 0.8607142857142858 and parameters: {'n_estimators': 108, 'criterion': 'entropy', 'max_features': 8}. Best is trial 3 with value: 0.8607142857142858.\u001b[0m\n",
            "\u001b[32m[I 2021-08-16 21:36:16,607]\u001b[0m Trial 4 finished with value: 0.8321428571428571 and parameters: {'n_estimators': 133, 'criterion': 'gini', 'max_features': 120}. Best is trial 3 with value: 0.8607142857142858.\u001b[0m\n",
            "\u001b[32m[I 2021-08-16 21:36:20,559]\u001b[0m Trial 5 finished with value: 0.8607142857142858 and parameters: {'n_estimators': 136, 'criterion': 'gini', 'max_features': 49}. Best is trial 3 with value: 0.8607142857142858.\u001b[0m\n",
            "\u001b[32m[I 2021-08-16 21:36:24,038]\u001b[0m Trial 6 finished with value: 0.8321428571428571 and parameters: {'n_estimators': 102, 'criterion': 'gini', 'max_features': 83}. Best is trial 3 with value: 0.8607142857142858.\u001b[0m\n",
            "\u001b[32m[I 2021-08-16 21:36:27,379]\u001b[0m Trial 7 finished with value: 0.8321428571428571 and parameters: {'n_estimators': 95, 'criterion': 'gini', 'max_features': 105}. Best is trial 3 with value: 0.8607142857142858.\u001b[0m\n",
            "\u001b[32m[I 2021-08-16 21:36:31,197]\u001b[0m Trial 8 finished with value: 0.8321428571428571 and parameters: {'n_estimators': 121, 'criterion': 'entropy', 'max_features': 47}. Best is trial 3 with value: 0.8607142857142858.\u001b[0m\n",
            "\u001b[32m[I 2021-08-16 21:36:34,156]\u001b[0m Trial 9 finished with value: 0.8321428571428571 and parameters: {'n_estimators': 64, 'criterion': 'entropy', 'max_features': 74}. Best is trial 3 with value: 0.8607142857142858.\u001b[0m\n",
            "\u001b[32m[I 2021-08-16 21:36:41,100]\u001b[0m Trial 10 finished with value: 0.8607142857142858 and parameters: {'n_estimators': 147, 'criterion': 'entropy', 'max_features': 7}. Best is trial 3 with value: 0.8607142857142858.\u001b[0m\n",
            "\u001b[32m[I 2021-08-16 21:36:45,301]\u001b[0m Trial 11 finished with value: 0.8607142857142858 and parameters: {'n_estimators': 147, 'criterion': 'entropy', 'max_features': 12}. Best is trial 3 with value: 0.8607142857142858.\u001b[0m\n",
            "\u001b[32m[I 2021-08-16 21:36:49,075]\u001b[0m Trial 12 finished with value: 0.8892857142857142 and parameters: {'n_estimators': 126, 'criterion': 'gini', 'max_features': 30}. Best is trial 12 with value: 0.8892857142857142.\u001b[0m\n",
            "\u001b[32m[I 2021-08-16 21:36:52,799]\u001b[0m Trial 13 finished with value: 0.8642857142857142 and parameters: {'n_estimators': 114, 'criterion': 'entropy', 'max_features': 25}. Best is trial 12 with value: 0.8892857142857142.\u001b[0m\n",
            "\u001b[32m[I 2021-08-16 21:36:56,751]\u001b[0m Trial 14 finished with value: 0.8607142857142858 and parameters: {'n_estimators': 89, 'criterion': 'entropy', 'max_features': 23}. Best is trial 12 with value: 0.8892857142857142.\u001b[0m\n",
            "\u001b[32m[I 2021-08-16 21:37:00,552]\u001b[0m Trial 15 finished with value: 0.9142857142857143 and parameters: {'n_estimators': 122, 'criterion': 'gini', 'max_features': 26}. Best is trial 15 with value: 0.9142857142857143.\u001b[0m\n",
            "\u001b[32m[I 2021-08-16 21:37:04,346]\u001b[0m Trial 16 finished with value: 0.8321428571428571 and parameters: {'n_estimators': 118, 'criterion': 'gini', 'max_features': 38}. Best is trial 15 with value: 0.9142857142857143.\u001b[0m\n",
            "\u001b[32m[I 2021-08-16 21:37:08,271]\u001b[0m Trial 17 finished with value: 0.8607142857142858 and parameters: {'n_estimators': 130, 'criterion': 'gini', 'max_features': 25}. Best is trial 15 with value: 0.9142857142857143.\u001b[0m\n",
            "\u001b[32m[I 2021-08-16 21:37:12,307]\u001b[0m Trial 18 finished with value: 0.8607142857142858 and parameters: {'n_estimators': 126, 'criterion': 'gini', 'max_features': 59}. Best is trial 15 with value: 0.9142857142857143.\u001b[0m\n",
            "\u001b[32m[I 2021-08-16 21:37:17,194]\u001b[0m Trial 19 finished with value: 0.8892857142857142 and parameters: {'n_estimators': 138, 'criterion': 'gini', 'max_features': 36}. Best is trial 15 with value: 0.9142857142857143.\u001b[0m\n",
            "\u001b[32m[I 2021-08-16 21:37:21,322]\u001b[0m Trial 20 finished with value: 0.8321428571428571 and parameters: {'n_estimators': 141, 'criterion': 'gini', 'max_features': 90}. Best is trial 15 with value: 0.9142857142857143.\u001b[0m\n",
            "\u001b[32m[I 2021-08-16 21:37:25,149]\u001b[0m Trial 21 finished with value: 0.8892857142857142 and parameters: {'n_estimators': 125, 'criterion': 'gini', 'max_features': 41}. Best is trial 15 with value: 0.9142857142857143.\u001b[0m\n",
            "\u001b[32m[I 2021-08-16 21:37:29,334]\u001b[0m Trial 22 finished with value: 0.8607142857142858 and parameters: {'n_estimators': 139, 'criterion': 'gini', 'max_features': 46}. Best is trial 15 with value: 0.9142857142857143.\u001b[0m\n",
            "\u001b[32m[I 2021-08-16 21:37:33,139]\u001b[0m Trial 23 finished with value: 0.8892857142857142 and parameters: {'n_estimators': 107, 'criterion': 'gini', 'max_features': 22}. Best is trial 15 with value: 0.9142857142857143.\u001b[0m\n",
            "\u001b[32m[I 2021-08-16 21:37:36,797]\u001b[0m Trial 24 finished with value: 0.8607142857142858 and parameters: {'n_estimators': 106, 'criterion': 'gini', 'max_features': 16}. Best is trial 15 with value: 0.9142857142857143.\u001b[0m\n",
            "\u001b[32m[I 2021-08-16 21:37:40,700]\u001b[0m Trial 25 finished with value: 0.8357142857142857 and parameters: {'n_estimators': 125, 'criterion': 'gini', 'max_features': 1}. Best is trial 15 with value: 0.9142857142857143.\u001b[0m\n",
            "\u001b[32m[I 2021-08-16 21:37:44,738]\u001b[0m Trial 26 finished with value: 0.8321428571428571 and parameters: {'n_estimators': 83, 'criterion': 'gini', 'max_features': 28}. Best is trial 15 with value: 0.9142857142857143.\u001b[0m\n",
            "\u001b[32m[I 2021-08-16 21:37:48,083]\u001b[0m Trial 27 finished with value: 0.8857142857142858 and parameters: {'n_estimators': 98, 'criterion': 'gini', 'max_features': 57}. Best is trial 15 with value: 0.9142857142857143.\u001b[0m\n",
            "\u001b[32m[I 2021-08-16 21:37:51,667]\u001b[0m Trial 28 finished with value: 0.8321428571428571 and parameters: {'n_estimators': 110, 'criterion': 'gini', 'max_features': 18}. Best is trial 15 with value: 0.9142857142857143.\u001b[0m\n",
            "\u001b[32m[I 2021-08-16 21:37:55,358]\u001b[0m Trial 29 finished with value: 0.8321428571428571 and parameters: {'n_estimators': 117, 'criterion': 'gini', 'max_features': 35}. Best is trial 15 with value: 0.9142857142857143.\u001b[0m\n",
            "\u001b[32m[I 2021-08-16 21:37:59,278]\u001b[0m Trial 30 finished with value: 0.8892857142857142 and parameters: {'n_estimators': 140, 'criterion': 'gini', 'max_features': 37}. Best is trial 15 with value: 0.9142857142857143.\u001b[0m\n",
            "\u001b[32m[I 2021-08-16 21:38:03,107]\u001b[0m Trial 31 finished with value: 0.8321428571428571 and parameters: {'n_estimators': 130, 'criterion': 'gini', 'max_features': 41}. Best is trial 15 with value: 0.9142857142857143.\u001b[0m\n",
            "\u001b[32m[I 2021-08-16 21:38:07,027]\u001b[0m Trial 32 finished with value: 0.8607142857142858 and parameters: {'n_estimators': 142, 'criterion': 'gini', 'max_features': 32}. Best is trial 15 with value: 0.9142857142857143.\u001b[0m\n",
            "\u001b[32m[I 2021-08-16 21:38:11,078]\u001b[0m Trial 33 finished with value: 0.8892857142857142 and parameters: {'n_estimators': 149, 'criterion': 'gini', 'max_features': 19}. Best is trial 15 with value: 0.9142857142857143.\u001b[0m\n",
            "\u001b[32m[I 2021-08-16 21:38:16,185]\u001b[0m Trial 34 finished with value: 0.8857142857142858 and parameters: {'n_estimators': 149, 'criterion': 'gini', 'max_features': 67}. Best is trial 15 with value: 0.9142857142857143.\u001b[0m\n",
            "\u001b[32m[I 2021-08-16 21:38:19,769]\u001b[0m Trial 35 finished with value: 0.8607142857142858 and parameters: {'n_estimators': 114, 'criterion': 'gini', 'max_features': 53}. Best is trial 15 with value: 0.9142857142857143.\u001b[0m\n",
            "\u001b[32m[I 2021-08-16 21:38:23,758]\u001b[0m Trial 36 finished with value: 0.8607142857142858 and parameters: {'n_estimators': 150, 'criterion': 'gini', 'max_features': 20}. Best is trial 15 with value: 0.9142857142857143.\u001b[0m\n",
            "\u001b[32m[I 2021-08-16 21:38:26,408]\u001b[0m Trial 37 finished with value: 0.8607142857142858 and parameters: {'n_estimators': 50, 'criterion': 'gini', 'max_features': 4}. Best is trial 15 with value: 0.9142857142857143.\u001b[0m\n",
            "\u001b[32m[I 2021-08-16 21:38:30,361]\u001b[0m Trial 38 finished with value: 0.8607142857142858 and parameters: {'n_estimators': 132, 'criterion': 'gini', 'max_features': 11}. Best is trial 15 with value: 0.9142857142857143.\u001b[0m\n",
            "\u001b[32m[I 2021-08-16 21:38:34,308]\u001b[0m Trial 39 finished with value: 0.8321428571428571 and parameters: {'n_estimators': 135, 'criterion': 'gini', 'max_features': 31}. Best is trial 15 with value: 0.9142857142857143.\u001b[0m\n",
            "\u001b[32m[I 2021-08-16 21:38:37,748]\u001b[0m Trial 40 finished with value: 0.8607142857142858 and parameters: {'n_estimators': 103, 'criterion': 'gini', 'max_features': 67}. Best is trial 15 with value: 0.9142857142857143.\u001b[0m\n",
            "\u001b[32m[I 2021-08-16 21:38:41,549]\u001b[0m Trial 41 finished with value: 0.8857142857142858 and parameters: {'n_estimators': 122, 'criterion': 'gini', 'max_features': 41}. Best is trial 15 with value: 0.9142857142857143.\u001b[0m\n",
            "\u001b[32m[I 2021-08-16 21:38:45,263]\u001b[0m Trial 42 finished with value: 0.8607142857142858 and parameters: {'n_estimators': 111, 'criterion': 'gini', 'max_features': 43}. Best is trial 15 with value: 0.9142857142857143.\u001b[0m\n",
            "\u001b[32m[I 2021-08-16 21:38:49,322]\u001b[0m Trial 43 finished with value: 0.8892857142857142 and parameters: {'n_estimators': 127, 'criterion': 'gini', 'max_features': 14}. Best is trial 15 with value: 0.9142857142857143.\u001b[0m\n",
            "\u001b[32m[I 2021-08-16 21:38:54,686]\u001b[0m Trial 44 finished with value: 0.8607142857142858 and parameters: {'n_estimators': 144, 'criterion': 'gini', 'max_features': 50}. Best is trial 15 with value: 0.9142857142857143.\u001b[0m\n",
            "\u001b[32m[I 2021-08-16 21:38:58,158]\u001b[0m Trial 45 finished with value: 0.8892857142857142 and parameters: {'n_estimators': 93, 'criterion': 'entropy', 'max_features': 12}. Best is trial 15 with value: 0.9142857142857143.\u001b[0m\n",
            "\u001b[32m[I 2021-08-16 21:39:01,291]\u001b[0m Trial 46 finished with value: 0.8642857142857142 and parameters: {'n_estimators': 73, 'criterion': 'entropy', 'max_features': 6}. Best is trial 15 with value: 0.9142857142857143.\u001b[0m\n",
            "\u001b[32m[I 2021-08-16 21:39:05,398]\u001b[0m Trial 47 finished with value: 0.8892857142857142 and parameters: {'n_estimators': 145, 'criterion': 'gini', 'max_features': 19}. Best is trial 15 with value: 0.9142857142857143.\u001b[0m\n",
            "\u001b[32m[I 2021-08-16 21:39:08,645]\u001b[0m Trial 48 finished with value: 0.8892857142857142 and parameters: {'n_estimators': 92, 'criterion': 'entropy', 'max_features': 13}. Best is trial 15 with value: 0.9142857142857143.\u001b[0m\n",
            "\u001b[32m[I 2021-08-16 21:39:12,594]\u001b[0m Trial 49 finished with value: 0.8607142857142858 and parameters: {'n_estimators': 136, 'criterion': 'entropy', 'max_features': 37}. Best is trial 15 with value: 0.9142857142857143.\u001b[0m\n"
          ],
          "name": "stderr"
        }
      ]
    },
    {
      "cell_type": "code",
      "metadata": {
        "id": "ZILyLf2XUhSi",
        "colab": {
          "base_uri": "https://localhost:8080/"
        },
        "outputId": "b75bc931-de1b-49e9-b311-8db4d6755472"
      },
      "source": [
        "print('Best hyperparameters:\\t', study_RF.best_trial.params)\n",
        "print('Training accuracy:\\t', study_RF.best_trial.user_attrs['train_accuracy'])\n",
        "print('Test accuracy:\\t\\t', study_RF.best_trial.value)"
      ],
      "execution_count": 35,
      "outputs": [
        {
          "output_type": "stream",
          "text": [
            "Best hyperparameters:\t {'n_estimators': 122, 'criterion': 'gini', 'max_features': 26}\n",
            "Training accuracy:\t 1.0\n",
            "Test accuracy:\t\t 0.9142857142857143\n"
          ],
          "name": "stdout"
        }
      ]
    },
    {
      "cell_type": "code",
      "metadata": {
        "id": "_fIigF1kUhSi",
        "colab": {
          "base_uri": "https://localhost:8080/",
          "height": 542
        },
        "outputId": "4a07b6d6-c998-4dad-df77-61c53c1717af"
      },
      "source": [
        "optuna.visualization.plot_optimization_history(study_RF)"
      ],
      "execution_count": 36,
      "outputs": [
        {
          "output_type": "display_data",
          "data": {
            "text/html": [
              "<html>\n",
              "<head><meta charset=\"utf-8\" /></head>\n",
              "<body>\n",
              "    <div>\n",
              "            <script src=\"https://cdnjs.cloudflare.com/ajax/libs/mathjax/2.7.5/MathJax.js?config=TeX-AMS-MML_SVG\"></script><script type=\"text/javascript\">if (window.MathJax) {MathJax.Hub.Config({SVG: {font: \"STIX-Web\"}});}</script>\n",
              "                <script type=\"text/javascript\">window.PlotlyConfig = {MathJaxConfig: 'local'};</script>\n",
              "        <script src=\"https://cdn.plot.ly/plotly-latest.min.js\"></script>    \n",
              "            <div id=\"00d6b451-cc13-4a4d-ac99-56890e18f2a2\" class=\"plotly-graph-div\" style=\"height:525px; width:100%;\"></div>\n",
              "            <script type=\"text/javascript\">\n",
              "                \n",
              "                    window.PLOTLYENV=window.PLOTLYENV || {};\n",
              "                    \n",
              "                if (document.getElementById(\"00d6b451-cc13-4a4d-ac99-56890e18f2a2\")) {\n",
              "                    Plotly.newPlot(\n",
              "                        '00d6b451-cc13-4a4d-ac99-56890e18f2a2',\n",
              "                        [{\"mode\": \"markers\", \"name\": \"Objective Value\", \"type\": \"scatter\", \"x\": [0, 1, 2, 3, 4, 5, 6, 7, 8, 9, 10, 11, 12, 13, 14, 15, 16, 17, 18, 19, 20, 21, 22, 23, 24, 25, 26, 27, 28, 29, 30, 31, 32, 33, 34, 35, 36, 37, 38, 39, 40, 41, 42, 43, 44, 45, 46, 47, 48, 49], \"y\": [0.8321428571428571, 0.8571428571428571, 0.8321428571428571, 0.8607142857142858, 0.8321428571428571, 0.8607142857142858, 0.8321428571428571, 0.8321428571428571, 0.8321428571428571, 0.8321428571428571, 0.8607142857142858, 0.8607142857142858, 0.8892857142857142, 0.8642857142857142, 0.8607142857142858, 0.9142857142857143, 0.8321428571428571, 0.8607142857142858, 0.8607142857142858, 0.8892857142857142, 0.8321428571428571, 0.8892857142857142, 0.8607142857142858, 0.8892857142857142, 0.8607142857142858, 0.8357142857142857, 0.8321428571428571, 0.8857142857142858, 0.8321428571428571, 0.8321428571428571, 0.8892857142857142, 0.8321428571428571, 0.8607142857142858, 0.8892857142857142, 0.8857142857142858, 0.8607142857142858, 0.8607142857142858, 0.8607142857142858, 0.8607142857142858, 0.8321428571428571, 0.8607142857142858, 0.8857142857142858, 0.8607142857142858, 0.8892857142857142, 0.8607142857142858, 0.8892857142857142, 0.8642857142857142, 0.8892857142857142, 0.8892857142857142, 0.8607142857142858]}, {\"name\": \"Best Value\", \"type\": \"scatter\", \"x\": [0, 1, 2, 3, 4, 5, 6, 7, 8, 9, 10, 11, 12, 13, 14, 15, 16, 17, 18, 19, 20, 21, 22, 23, 24, 25, 26, 27, 28, 29, 30, 31, 32, 33, 34, 35, 36, 37, 38, 39, 40, 41, 42, 43, 44, 45, 46, 47, 48, 49], \"y\": [0.8321428571428571, 0.8571428571428571, 0.8571428571428571, 0.8607142857142858, 0.8607142857142858, 0.8607142857142858, 0.8607142857142858, 0.8607142857142858, 0.8607142857142858, 0.8607142857142858, 0.8607142857142858, 0.8607142857142858, 0.8892857142857142, 0.8892857142857142, 0.8892857142857142, 0.9142857142857143, 0.9142857142857143, 0.9142857142857143, 0.9142857142857143, 0.9142857142857143, 0.9142857142857143, 0.9142857142857143, 0.9142857142857143, 0.9142857142857143, 0.9142857142857143, 0.9142857142857143, 0.9142857142857143, 0.9142857142857143, 0.9142857142857143, 0.9142857142857143, 0.9142857142857143, 0.9142857142857143, 0.9142857142857143, 0.9142857142857143, 0.9142857142857143, 0.9142857142857143, 0.9142857142857143, 0.9142857142857143, 0.9142857142857143, 0.9142857142857143, 0.9142857142857143, 0.9142857142857143, 0.9142857142857143, 0.9142857142857143, 0.9142857142857143, 0.9142857142857143, 0.9142857142857143, 0.9142857142857143, 0.9142857142857143, 0.9142857142857143]}],\n",
              "                        {\"template\": {\"data\": {\"bar\": [{\"error_x\": {\"color\": \"#2a3f5f\"}, \"error_y\": {\"color\": \"#2a3f5f\"}, \"marker\": {\"line\": {\"color\": \"#E5ECF6\", \"width\": 0.5}}, \"type\": \"bar\"}], \"barpolar\": [{\"marker\": {\"line\": {\"color\": \"#E5ECF6\", \"width\": 0.5}}, \"type\": \"barpolar\"}], \"carpet\": [{\"aaxis\": {\"endlinecolor\": \"#2a3f5f\", \"gridcolor\": \"white\", \"linecolor\": \"white\", \"minorgridcolor\": \"white\", \"startlinecolor\": \"#2a3f5f\"}, \"baxis\": {\"endlinecolor\": \"#2a3f5f\", \"gridcolor\": \"white\", \"linecolor\": \"white\", \"minorgridcolor\": \"white\", \"startlinecolor\": \"#2a3f5f\"}, \"type\": \"carpet\"}], \"choropleth\": [{\"colorbar\": {\"outlinewidth\": 0, \"ticks\": \"\"}, \"type\": \"choropleth\"}], \"contour\": [{\"colorbar\": {\"outlinewidth\": 0, \"ticks\": \"\"}, \"colorscale\": [[0.0, \"#0d0887\"], [0.1111111111111111, \"#46039f\"], [0.2222222222222222, \"#7201a8\"], [0.3333333333333333, \"#9c179e\"], [0.4444444444444444, \"#bd3786\"], [0.5555555555555556, \"#d8576b\"], [0.6666666666666666, \"#ed7953\"], [0.7777777777777778, \"#fb9f3a\"], [0.8888888888888888, \"#fdca26\"], [1.0, \"#f0f921\"]], \"type\": \"contour\"}], \"contourcarpet\": [{\"colorbar\": {\"outlinewidth\": 0, \"ticks\": \"\"}, \"type\": \"contourcarpet\"}], \"heatmap\": [{\"colorbar\": {\"outlinewidth\": 0, \"ticks\": \"\"}, \"colorscale\": [[0.0, \"#0d0887\"], [0.1111111111111111, \"#46039f\"], [0.2222222222222222, \"#7201a8\"], [0.3333333333333333, \"#9c179e\"], [0.4444444444444444, \"#bd3786\"], [0.5555555555555556, \"#d8576b\"], [0.6666666666666666, \"#ed7953\"], [0.7777777777777778, \"#fb9f3a\"], [0.8888888888888888, \"#fdca26\"], [1.0, \"#f0f921\"]], \"type\": \"heatmap\"}], \"heatmapgl\": [{\"colorbar\": {\"outlinewidth\": 0, \"ticks\": \"\"}, \"colorscale\": [[0.0, \"#0d0887\"], [0.1111111111111111, \"#46039f\"], [0.2222222222222222, \"#7201a8\"], [0.3333333333333333, \"#9c179e\"], [0.4444444444444444, \"#bd3786\"], [0.5555555555555556, \"#d8576b\"], [0.6666666666666666, \"#ed7953\"], [0.7777777777777778, \"#fb9f3a\"], [0.8888888888888888, \"#fdca26\"], [1.0, \"#f0f921\"]], \"type\": \"heatmapgl\"}], \"histogram\": [{\"marker\": {\"colorbar\": {\"outlinewidth\": 0, \"ticks\": \"\"}}, \"type\": \"histogram\"}], \"histogram2d\": [{\"colorbar\": {\"outlinewidth\": 0, \"ticks\": \"\"}, \"colorscale\": [[0.0, \"#0d0887\"], [0.1111111111111111, \"#46039f\"], [0.2222222222222222, \"#7201a8\"], [0.3333333333333333, \"#9c179e\"], [0.4444444444444444, \"#bd3786\"], [0.5555555555555556, \"#d8576b\"], [0.6666666666666666, \"#ed7953\"], [0.7777777777777778, \"#fb9f3a\"], [0.8888888888888888, \"#fdca26\"], [1.0, \"#f0f921\"]], \"type\": \"histogram2d\"}], \"histogram2dcontour\": [{\"colorbar\": {\"outlinewidth\": 0, \"ticks\": \"\"}, \"colorscale\": [[0.0, \"#0d0887\"], [0.1111111111111111, \"#46039f\"], [0.2222222222222222, \"#7201a8\"], [0.3333333333333333, \"#9c179e\"], [0.4444444444444444, \"#bd3786\"], [0.5555555555555556, \"#d8576b\"], [0.6666666666666666, \"#ed7953\"], [0.7777777777777778, \"#fb9f3a\"], [0.8888888888888888, \"#fdca26\"], [1.0, \"#f0f921\"]], \"type\": \"histogram2dcontour\"}], \"mesh3d\": [{\"colorbar\": {\"outlinewidth\": 0, \"ticks\": \"\"}, \"type\": \"mesh3d\"}], \"parcoords\": [{\"line\": {\"colorbar\": {\"outlinewidth\": 0, \"ticks\": \"\"}}, \"type\": \"parcoords\"}], \"pie\": [{\"automargin\": true, \"type\": \"pie\"}], \"scatter\": [{\"marker\": {\"colorbar\": {\"outlinewidth\": 0, \"ticks\": \"\"}}, \"type\": \"scatter\"}], \"scatter3d\": [{\"line\": {\"colorbar\": {\"outlinewidth\": 0, \"ticks\": \"\"}}, \"marker\": {\"colorbar\": {\"outlinewidth\": 0, \"ticks\": \"\"}}, \"type\": \"scatter3d\"}], \"scattercarpet\": [{\"marker\": {\"colorbar\": {\"outlinewidth\": 0, \"ticks\": \"\"}}, \"type\": \"scattercarpet\"}], \"scattergeo\": [{\"marker\": {\"colorbar\": {\"outlinewidth\": 0, \"ticks\": \"\"}}, \"type\": \"scattergeo\"}], \"scattergl\": [{\"marker\": {\"colorbar\": {\"outlinewidth\": 0, \"ticks\": \"\"}}, \"type\": \"scattergl\"}], \"scattermapbox\": [{\"marker\": {\"colorbar\": {\"outlinewidth\": 0, \"ticks\": \"\"}}, \"type\": \"scattermapbox\"}], \"scatterpolar\": [{\"marker\": {\"colorbar\": {\"outlinewidth\": 0, \"ticks\": \"\"}}, \"type\": \"scatterpolar\"}], \"scatterpolargl\": [{\"marker\": {\"colorbar\": {\"outlinewidth\": 0, \"ticks\": \"\"}}, \"type\": \"scatterpolargl\"}], \"scatterternary\": [{\"marker\": {\"colorbar\": {\"outlinewidth\": 0, \"ticks\": \"\"}}, \"type\": \"scatterternary\"}], \"surface\": [{\"colorbar\": {\"outlinewidth\": 0, \"ticks\": \"\"}, \"colorscale\": [[0.0, \"#0d0887\"], [0.1111111111111111, \"#46039f\"], [0.2222222222222222, \"#7201a8\"], [0.3333333333333333, \"#9c179e\"], [0.4444444444444444, \"#bd3786\"], [0.5555555555555556, \"#d8576b\"], [0.6666666666666666, \"#ed7953\"], [0.7777777777777778, \"#fb9f3a\"], [0.8888888888888888, \"#fdca26\"], [1.0, \"#f0f921\"]], \"type\": \"surface\"}], \"table\": [{\"cells\": {\"fill\": {\"color\": \"#EBF0F8\"}, \"line\": {\"color\": \"white\"}}, \"header\": {\"fill\": {\"color\": \"#C8D4E3\"}, \"line\": {\"color\": \"white\"}}, \"type\": \"table\"}]}, \"layout\": {\"annotationdefaults\": {\"arrowcolor\": \"#2a3f5f\", \"arrowhead\": 0, \"arrowwidth\": 1}, \"coloraxis\": {\"colorbar\": {\"outlinewidth\": 0, \"ticks\": \"\"}}, \"colorscale\": {\"diverging\": [[0, \"#8e0152\"], [0.1, \"#c51b7d\"], [0.2, \"#de77ae\"], [0.3, \"#f1b6da\"], [0.4, \"#fde0ef\"], [0.5, \"#f7f7f7\"], [0.6, \"#e6f5d0\"], [0.7, \"#b8e186\"], [0.8, \"#7fbc41\"], [0.9, \"#4d9221\"], [1, \"#276419\"]], \"sequential\": [[0.0, \"#0d0887\"], [0.1111111111111111, \"#46039f\"], [0.2222222222222222, \"#7201a8\"], [0.3333333333333333, \"#9c179e\"], [0.4444444444444444, \"#bd3786\"], [0.5555555555555556, \"#d8576b\"], [0.6666666666666666, \"#ed7953\"], [0.7777777777777778, \"#fb9f3a\"], [0.8888888888888888, \"#fdca26\"], [1.0, \"#f0f921\"]], \"sequentialminus\": [[0.0, \"#0d0887\"], [0.1111111111111111, \"#46039f\"], [0.2222222222222222, \"#7201a8\"], [0.3333333333333333, \"#9c179e\"], [0.4444444444444444, \"#bd3786\"], [0.5555555555555556, \"#d8576b\"], [0.6666666666666666, \"#ed7953\"], [0.7777777777777778, \"#fb9f3a\"], [0.8888888888888888, \"#fdca26\"], [1.0, \"#f0f921\"]]}, \"colorway\": [\"#636efa\", \"#EF553B\", \"#00cc96\", \"#ab63fa\", \"#FFA15A\", \"#19d3f3\", \"#FF6692\", \"#B6E880\", \"#FF97FF\", \"#FECB52\"], \"font\": {\"color\": \"#2a3f5f\"}, \"geo\": {\"bgcolor\": \"white\", \"lakecolor\": \"white\", \"landcolor\": \"#E5ECF6\", \"showlakes\": true, \"showland\": true, \"subunitcolor\": \"white\"}, \"hoverlabel\": {\"align\": \"left\"}, \"hovermode\": \"closest\", \"mapbox\": {\"style\": \"light\"}, \"paper_bgcolor\": \"white\", \"plot_bgcolor\": \"#E5ECF6\", \"polar\": {\"angularaxis\": {\"gridcolor\": \"white\", \"linecolor\": \"white\", \"ticks\": \"\"}, \"bgcolor\": \"#E5ECF6\", \"radialaxis\": {\"gridcolor\": \"white\", \"linecolor\": \"white\", \"ticks\": \"\"}}, \"scene\": {\"xaxis\": {\"backgroundcolor\": \"#E5ECF6\", \"gridcolor\": \"white\", \"gridwidth\": 2, \"linecolor\": \"white\", \"showbackground\": true, \"ticks\": \"\", \"zerolinecolor\": \"white\"}, \"yaxis\": {\"backgroundcolor\": \"#E5ECF6\", \"gridcolor\": \"white\", \"gridwidth\": 2, \"linecolor\": \"white\", \"showbackground\": true, \"ticks\": \"\", \"zerolinecolor\": \"white\"}, \"zaxis\": {\"backgroundcolor\": \"#E5ECF6\", \"gridcolor\": \"white\", \"gridwidth\": 2, \"linecolor\": \"white\", \"showbackground\": true, \"ticks\": \"\", \"zerolinecolor\": \"white\"}}, \"shapedefaults\": {\"line\": {\"color\": \"#2a3f5f\"}}, \"ternary\": {\"aaxis\": {\"gridcolor\": \"white\", \"linecolor\": \"white\", \"ticks\": \"\"}, \"baxis\": {\"gridcolor\": \"white\", \"linecolor\": \"white\", \"ticks\": \"\"}, \"bgcolor\": \"#E5ECF6\", \"caxis\": {\"gridcolor\": \"white\", \"linecolor\": \"white\", \"ticks\": \"\"}}, \"title\": {\"x\": 0.05}, \"xaxis\": {\"automargin\": true, \"gridcolor\": \"white\", \"linecolor\": \"white\", \"ticks\": \"\", \"title\": {\"standoff\": 15}, \"zerolinecolor\": \"white\", \"zerolinewidth\": 2}, \"yaxis\": {\"automargin\": true, \"gridcolor\": \"white\", \"linecolor\": \"white\", \"ticks\": \"\", \"title\": {\"standoff\": 15}, \"zerolinecolor\": \"white\", \"zerolinewidth\": 2}}}, \"title\": {\"text\": \"Optimization History Plot\"}, \"xaxis\": {\"title\": {\"text\": \"#Trials\"}}, \"yaxis\": {\"title\": {\"text\": \"Objective Value\"}}},\n",
              "                        {\"responsive\": true}\n",
              "                    ).then(function(){\n",
              "                            \n",
              "var gd = document.getElementById('00d6b451-cc13-4a4d-ac99-56890e18f2a2');\n",
              "var x = new MutationObserver(function (mutations, observer) {{\n",
              "        var display = window.getComputedStyle(gd).display;\n",
              "        if (!display || display === 'none') {{\n",
              "            console.log([gd, 'removed!']);\n",
              "            Plotly.purge(gd);\n",
              "            observer.disconnect();\n",
              "        }}\n",
              "}});\n",
              "\n",
              "// Listen for the removal of the full notebook cells\n",
              "var notebookContainer = gd.closest('#notebook-container');\n",
              "if (notebookContainer) {{\n",
              "    x.observe(notebookContainer, {childList: true});\n",
              "}}\n",
              "\n",
              "// Listen for the clearing of the current output cell\n",
              "var outputEl = gd.closest('.output');\n",
              "if (outputEl) {{\n",
              "    x.observe(outputEl, {childList: true});\n",
              "}}\n",
              "\n",
              "                        })\n",
              "                };\n",
              "                \n",
              "            </script>\n",
              "        </div>\n",
              "</body>\n",
              "</html>"
            ]
          },
          "metadata": {
            "tags": []
          }
        }
      ]
    },
    {
      "cell_type": "code",
      "metadata": {
        "id": "s1WPTOO3eGC5",
        "colab": {
          "base_uri": "https://localhost:8080/",
          "height": 578
        },
        "outputId": "af837732-80a5-4c05-9225-a260dd9f6576"
      },
      "source": [
        "plot_param_importances(study_RF)"
      ],
      "execution_count": 37,
      "outputs": [
        {
          "output_type": "stream",
          "text": [
            "2021/08/16 21:39:12 INFO mlflow.utils.autologging_utils: Created MLflow autologging run with ID '3e407f2e3dc345b58577353a40cd23d6', which will track hyperparameters, performance metrics, model artifacts, and lineage information for the current sklearn workflow\n"
          ],
          "name": "stderr"
        },
        {
          "output_type": "display_data",
          "data": {
            "text/html": [
              "<html>\n",
              "<head><meta charset=\"utf-8\" /></head>\n",
              "<body>\n",
              "    <div>\n",
              "            <script src=\"https://cdnjs.cloudflare.com/ajax/libs/mathjax/2.7.5/MathJax.js?config=TeX-AMS-MML_SVG\"></script><script type=\"text/javascript\">if (window.MathJax) {MathJax.Hub.Config({SVG: {font: \"STIX-Web\"}});}</script>\n",
              "                <script type=\"text/javascript\">window.PlotlyConfig = {MathJaxConfig: 'local'};</script>\n",
              "        <script src=\"https://cdn.plot.ly/plotly-latest.min.js\"></script>    \n",
              "            <div id=\"3a00005e-2027-4434-981b-ff8ed38e75cf\" class=\"plotly-graph-div\" style=\"height:525px; width:100%;\"></div>\n",
              "            <script type=\"text/javascript\">\n",
              "                \n",
              "                    window.PLOTLYENV=window.PLOTLYENV || {};\n",
              "                    \n",
              "                if (document.getElementById(\"3a00005e-2027-4434-981b-ff8ed38e75cf\")) {\n",
              "                    Plotly.newPlot(\n",
              "                        '3a00005e-2027-4434-981b-ff8ed38e75cf',\n",
              "                        [{\"cliponaxis\": false, \"hovertemplate\": [\"criterion (CategoricalDistribution): 0.033606374025998906<extra></extra>\", \"n_estimators (IntUniformDistribution): 0.26008977600145583<extra></extra>\", \"max_features (IntUniformDistribution): 0.7063038499725453<extra></extra>\"], \"marker\": {\"color\": \"rgb(66,146,198)\"}, \"orientation\": \"h\", \"text\": [\"0.033606374025998906\", \"0.26008977600145583\", \"0.7063038499725453\"], \"textposition\": \"outside\", \"texttemplate\": \"%{text:.2f}\", \"type\": \"bar\", \"x\": [0.033606374025998906, 0.26008977600145583, 0.7063038499725453], \"y\": [\"criterion\", \"n_estimators\", \"max_features\"]}],\n",
              "                        {\"showlegend\": false, \"template\": {\"data\": {\"bar\": [{\"error_x\": {\"color\": \"#2a3f5f\"}, \"error_y\": {\"color\": \"#2a3f5f\"}, \"marker\": {\"line\": {\"color\": \"#E5ECF6\", \"width\": 0.5}}, \"type\": \"bar\"}], \"barpolar\": [{\"marker\": {\"line\": {\"color\": \"#E5ECF6\", \"width\": 0.5}}, \"type\": \"barpolar\"}], \"carpet\": [{\"aaxis\": {\"endlinecolor\": \"#2a3f5f\", \"gridcolor\": \"white\", \"linecolor\": \"white\", \"minorgridcolor\": \"white\", \"startlinecolor\": \"#2a3f5f\"}, \"baxis\": {\"endlinecolor\": \"#2a3f5f\", \"gridcolor\": \"white\", \"linecolor\": \"white\", \"minorgridcolor\": \"white\", \"startlinecolor\": \"#2a3f5f\"}, \"type\": \"carpet\"}], \"choropleth\": [{\"colorbar\": {\"outlinewidth\": 0, \"ticks\": \"\"}, \"type\": \"choropleth\"}], \"contour\": [{\"colorbar\": {\"outlinewidth\": 0, \"ticks\": \"\"}, \"colorscale\": [[0.0, \"#0d0887\"], [0.1111111111111111, \"#46039f\"], [0.2222222222222222, \"#7201a8\"], [0.3333333333333333, \"#9c179e\"], [0.4444444444444444, \"#bd3786\"], [0.5555555555555556, \"#d8576b\"], [0.6666666666666666, \"#ed7953\"], [0.7777777777777778, \"#fb9f3a\"], [0.8888888888888888, \"#fdca26\"], [1.0, \"#f0f921\"]], \"type\": \"contour\"}], \"contourcarpet\": [{\"colorbar\": {\"outlinewidth\": 0, \"ticks\": \"\"}, \"type\": \"contourcarpet\"}], \"heatmap\": [{\"colorbar\": {\"outlinewidth\": 0, \"ticks\": \"\"}, \"colorscale\": [[0.0, \"#0d0887\"], [0.1111111111111111, \"#46039f\"], [0.2222222222222222, \"#7201a8\"], [0.3333333333333333, \"#9c179e\"], [0.4444444444444444, \"#bd3786\"], [0.5555555555555556, \"#d8576b\"], [0.6666666666666666, \"#ed7953\"], [0.7777777777777778, \"#fb9f3a\"], [0.8888888888888888, \"#fdca26\"], [1.0, \"#f0f921\"]], \"type\": \"heatmap\"}], \"heatmapgl\": [{\"colorbar\": {\"outlinewidth\": 0, \"ticks\": \"\"}, \"colorscale\": [[0.0, \"#0d0887\"], [0.1111111111111111, \"#46039f\"], [0.2222222222222222, \"#7201a8\"], [0.3333333333333333, \"#9c179e\"], [0.4444444444444444, \"#bd3786\"], [0.5555555555555556, \"#d8576b\"], [0.6666666666666666, \"#ed7953\"], [0.7777777777777778, \"#fb9f3a\"], [0.8888888888888888, \"#fdca26\"], [1.0, \"#f0f921\"]], \"type\": \"heatmapgl\"}], \"histogram\": [{\"marker\": {\"colorbar\": {\"outlinewidth\": 0, \"ticks\": \"\"}}, \"type\": \"histogram\"}], \"histogram2d\": [{\"colorbar\": {\"outlinewidth\": 0, \"ticks\": \"\"}, \"colorscale\": [[0.0, \"#0d0887\"], [0.1111111111111111, \"#46039f\"], [0.2222222222222222, \"#7201a8\"], [0.3333333333333333, \"#9c179e\"], [0.4444444444444444, \"#bd3786\"], [0.5555555555555556, \"#d8576b\"], [0.6666666666666666, \"#ed7953\"], [0.7777777777777778, \"#fb9f3a\"], [0.8888888888888888, \"#fdca26\"], [1.0, \"#f0f921\"]], \"type\": \"histogram2d\"}], \"histogram2dcontour\": [{\"colorbar\": {\"outlinewidth\": 0, \"ticks\": \"\"}, \"colorscale\": [[0.0, \"#0d0887\"], [0.1111111111111111, \"#46039f\"], [0.2222222222222222, \"#7201a8\"], [0.3333333333333333, \"#9c179e\"], [0.4444444444444444, \"#bd3786\"], [0.5555555555555556, \"#d8576b\"], [0.6666666666666666, \"#ed7953\"], [0.7777777777777778, \"#fb9f3a\"], [0.8888888888888888, \"#fdca26\"], [1.0, \"#f0f921\"]], \"type\": \"histogram2dcontour\"}], \"mesh3d\": [{\"colorbar\": {\"outlinewidth\": 0, \"ticks\": \"\"}, \"type\": \"mesh3d\"}], \"parcoords\": [{\"line\": {\"colorbar\": {\"outlinewidth\": 0, \"ticks\": \"\"}}, \"type\": \"parcoords\"}], \"pie\": [{\"automargin\": true, \"type\": \"pie\"}], \"scatter\": [{\"marker\": {\"colorbar\": {\"outlinewidth\": 0, \"ticks\": \"\"}}, \"type\": \"scatter\"}], \"scatter3d\": [{\"line\": {\"colorbar\": {\"outlinewidth\": 0, \"ticks\": \"\"}}, \"marker\": {\"colorbar\": {\"outlinewidth\": 0, \"ticks\": \"\"}}, \"type\": \"scatter3d\"}], \"scattercarpet\": [{\"marker\": {\"colorbar\": {\"outlinewidth\": 0, \"ticks\": \"\"}}, \"type\": \"scattercarpet\"}], \"scattergeo\": [{\"marker\": {\"colorbar\": {\"outlinewidth\": 0, \"ticks\": \"\"}}, \"type\": \"scattergeo\"}], \"scattergl\": [{\"marker\": {\"colorbar\": {\"outlinewidth\": 0, \"ticks\": \"\"}}, \"type\": \"scattergl\"}], \"scattermapbox\": [{\"marker\": {\"colorbar\": {\"outlinewidth\": 0, \"ticks\": \"\"}}, \"type\": \"scattermapbox\"}], \"scatterpolar\": [{\"marker\": {\"colorbar\": {\"outlinewidth\": 0, \"ticks\": \"\"}}, \"type\": \"scatterpolar\"}], \"scatterpolargl\": [{\"marker\": {\"colorbar\": {\"outlinewidth\": 0, \"ticks\": \"\"}}, \"type\": \"scatterpolargl\"}], \"scatterternary\": [{\"marker\": {\"colorbar\": {\"outlinewidth\": 0, \"ticks\": \"\"}}, \"type\": \"scatterternary\"}], \"surface\": [{\"colorbar\": {\"outlinewidth\": 0, \"ticks\": \"\"}, \"colorscale\": [[0.0, \"#0d0887\"], [0.1111111111111111, \"#46039f\"], [0.2222222222222222, \"#7201a8\"], [0.3333333333333333, \"#9c179e\"], [0.4444444444444444, \"#bd3786\"], [0.5555555555555556, \"#d8576b\"], [0.6666666666666666, \"#ed7953\"], [0.7777777777777778, \"#fb9f3a\"], [0.8888888888888888, \"#fdca26\"], [1.0, \"#f0f921\"]], \"type\": \"surface\"}], \"table\": [{\"cells\": {\"fill\": {\"color\": \"#EBF0F8\"}, \"line\": {\"color\": \"white\"}}, \"header\": {\"fill\": {\"color\": \"#C8D4E3\"}, \"line\": {\"color\": \"white\"}}, \"type\": \"table\"}]}, \"layout\": {\"annotationdefaults\": {\"arrowcolor\": \"#2a3f5f\", \"arrowhead\": 0, \"arrowwidth\": 1}, \"coloraxis\": {\"colorbar\": {\"outlinewidth\": 0, \"ticks\": \"\"}}, \"colorscale\": {\"diverging\": [[0, \"#8e0152\"], [0.1, \"#c51b7d\"], [0.2, \"#de77ae\"], [0.3, \"#f1b6da\"], [0.4, \"#fde0ef\"], [0.5, \"#f7f7f7\"], [0.6, \"#e6f5d0\"], [0.7, \"#b8e186\"], [0.8, \"#7fbc41\"], [0.9, \"#4d9221\"], [1, \"#276419\"]], \"sequential\": [[0.0, \"#0d0887\"], [0.1111111111111111, \"#46039f\"], [0.2222222222222222, \"#7201a8\"], [0.3333333333333333, \"#9c179e\"], [0.4444444444444444, \"#bd3786\"], [0.5555555555555556, \"#d8576b\"], [0.6666666666666666, \"#ed7953\"], [0.7777777777777778, \"#fb9f3a\"], [0.8888888888888888, \"#fdca26\"], [1.0, \"#f0f921\"]], \"sequentialminus\": [[0.0, \"#0d0887\"], [0.1111111111111111, \"#46039f\"], [0.2222222222222222, \"#7201a8\"], [0.3333333333333333, \"#9c179e\"], [0.4444444444444444, \"#bd3786\"], [0.5555555555555556, \"#d8576b\"], [0.6666666666666666, \"#ed7953\"], [0.7777777777777778, \"#fb9f3a\"], [0.8888888888888888, \"#fdca26\"], [1.0, \"#f0f921\"]]}, \"colorway\": [\"#636efa\", \"#EF553B\", \"#00cc96\", \"#ab63fa\", \"#FFA15A\", \"#19d3f3\", \"#FF6692\", \"#B6E880\", \"#FF97FF\", \"#FECB52\"], \"font\": {\"color\": \"#2a3f5f\"}, \"geo\": {\"bgcolor\": \"white\", \"lakecolor\": \"white\", \"landcolor\": \"#E5ECF6\", \"showlakes\": true, \"showland\": true, \"subunitcolor\": \"white\"}, \"hoverlabel\": {\"align\": \"left\"}, \"hovermode\": \"closest\", \"mapbox\": {\"style\": \"light\"}, \"paper_bgcolor\": \"white\", \"plot_bgcolor\": \"#E5ECF6\", \"polar\": {\"angularaxis\": {\"gridcolor\": \"white\", \"linecolor\": \"white\", \"ticks\": \"\"}, \"bgcolor\": \"#E5ECF6\", \"radialaxis\": {\"gridcolor\": \"white\", \"linecolor\": \"white\", \"ticks\": \"\"}}, \"scene\": {\"xaxis\": {\"backgroundcolor\": \"#E5ECF6\", \"gridcolor\": \"white\", \"gridwidth\": 2, \"linecolor\": \"white\", \"showbackground\": true, \"ticks\": \"\", \"zerolinecolor\": \"white\"}, \"yaxis\": {\"backgroundcolor\": \"#E5ECF6\", \"gridcolor\": \"white\", \"gridwidth\": 2, \"linecolor\": \"white\", \"showbackground\": true, \"ticks\": \"\", \"zerolinecolor\": \"white\"}, \"zaxis\": {\"backgroundcolor\": \"#E5ECF6\", \"gridcolor\": \"white\", \"gridwidth\": 2, \"linecolor\": \"white\", \"showbackground\": true, \"ticks\": \"\", \"zerolinecolor\": \"white\"}}, \"shapedefaults\": {\"line\": {\"color\": \"#2a3f5f\"}}, \"ternary\": {\"aaxis\": {\"gridcolor\": \"white\", \"linecolor\": \"white\", \"ticks\": \"\"}, \"baxis\": {\"gridcolor\": \"white\", \"linecolor\": \"white\", \"ticks\": \"\"}, \"bgcolor\": \"#E5ECF6\", \"caxis\": {\"gridcolor\": \"white\", \"linecolor\": \"white\", \"ticks\": \"\"}}, \"title\": {\"x\": 0.05}, \"xaxis\": {\"automargin\": true, \"gridcolor\": \"white\", \"linecolor\": \"white\", \"ticks\": \"\", \"title\": {\"standoff\": 15}, \"zerolinecolor\": \"white\", \"zerolinewidth\": 2}, \"yaxis\": {\"automargin\": true, \"gridcolor\": \"white\", \"linecolor\": \"white\", \"ticks\": \"\", \"title\": {\"standoff\": 15}, \"zerolinecolor\": \"white\", \"zerolinewidth\": 2}}}, \"title\": {\"text\": \"Hyperparameter Importances\"}, \"xaxis\": {\"title\": {\"text\": \"Importance for Objective Value\"}}, \"yaxis\": {\"title\": {\"text\": \"Hyperparameter\"}}},\n",
              "                        {\"responsive\": true}\n",
              "                    ).then(function(){\n",
              "                            \n",
              "var gd = document.getElementById('3a00005e-2027-4434-981b-ff8ed38e75cf');\n",
              "var x = new MutationObserver(function (mutations, observer) {{\n",
              "        var display = window.getComputedStyle(gd).display;\n",
              "        if (!display || display === 'none') {{\n",
              "            console.log([gd, 'removed!']);\n",
              "            Plotly.purge(gd);\n",
              "            observer.disconnect();\n",
              "        }}\n",
              "}});\n",
              "\n",
              "// Listen for the removal of the full notebook cells\n",
              "var notebookContainer = gd.closest('#notebook-container');\n",
              "if (notebookContainer) {{\n",
              "    x.observe(notebookContainer, {childList: true});\n",
              "}}\n",
              "\n",
              "// Listen for the clearing of the current output cell\n",
              "var outputEl = gd.closest('.output');\n",
              "if (outputEl) {{\n",
              "    x.observe(outputEl, {childList: true});\n",
              "}}\n",
              "\n",
              "                        })\n",
              "                };\n",
              "                \n",
              "            </script>\n",
              "        </div>\n",
              "</body>\n",
              "</html>"
            ]
          },
          "metadata": {
            "tags": []
          }
        }
      ]
    },
    {
      "cell_type": "markdown",
      "metadata": {
        "id": "JK5cG1qGZf_c"
      },
      "source": [
        "# Escolha do algoritmo"
      ]
    },
    {
      "cell_type": "code",
      "metadata": {
        "id": "6mKi9ckFZnmA"
      },
      "source": [
        "# melhores modelos para cada algoritmo:\n",
        "best_GNB = GaussianNB(var_smoothing=study_GNB.best_trial.params['var_smoothing'])\n",
        "best_KNN = KNeighborsClassifier(n_neighbors=study_KNN.best_trial.params['n_neighbors'], algorithm=study_KNN.best_trial.params['algorithm'], p=study_KNN.best_trial.params['p'])\n",
        "best_DT = DecisionTreeClassifier(criterion=study_DT.best_trial.params['criterion'], max_features=study_DT.best_trial.params['max_features'])\n",
        "best_RF = RandomForestClassifier(n_estimators=study_RF.best_trial.params['n_estimators'], criterion=study_RF.best_trial.params['criterion'])\n",
        "\n",
        "best_models = [best_GNB, best_KNN, best_DT, best_RF]"
      ],
      "execution_count": 38,
      "outputs": []
    },
    {
      "cell_type": "code",
      "metadata": {
        "id": "4tmjzMvCbKDe",
        "colab": {
          "base_uri": "https://localhost:8080/"
        },
        "outputId": "e104eecc-36be-4e52-e479-7f95cfcdfc3c"
      },
      "source": [
        "# encontrar o melhor algoritmo\n",
        "\n",
        "experiment_id = mlflow.create_experiment(name='best_algorithm')\n",
        "\n",
        "best_model = best_models[0]\n",
        "best_train_accuracy = 0\n",
        "best_test_accuracy = 0\n",
        "\n",
        "for model in best_models:\n",
        "  with mlflow.start_run(experiment_id=experiment_id):\n",
        "    # treinamento\n",
        "    scores = cross_validate(model, x_battles, y_battles,\n",
        "                            scoring='accuracy', return_train_score=True)\n",
        "\n",
        "    # acurácias\n",
        "    test_accuracies = scores['test_score']\n",
        "    test_accuracy = test_accuracies.mean()\n",
        "    train_accuracies = scores['train_score']\n",
        "    train_accuracy = train_accuracies.mean()\n",
        "\n",
        "    # logging\n",
        "    mlflow.log_metric('test_accuracy', test_accuracy)\n",
        "    mlflow.log_metric('train_accuracy', train_accuracy)\n",
        "    mlflow.sklearn.log_model(model, \"model\")\n",
        "    mlflow.end_run()\n",
        "\n",
        "    # comparação\n",
        "    if test_accuracy > best_test_accuracy:\n",
        "      best_test_accuracy = test_accuracy\n",
        "      best_train_accuracy = train_accuracy\n",
        "      best_model = model\n",
        "\n",
        "print('Best model:\\t', best_model)\n",
        "print('Training accuracy:\\t', best_train_accuracy)\n",
        "print('Test accuracy:\\t\\t', best_test_accuracy)"
      ],
      "execution_count": 39,
      "outputs": [
        {
          "output_type": "stream",
          "text": [
            "Best model:\t KNeighborsClassifier(algorithm='brute', leaf_size=30, metric='minkowski',\n",
            "                     metric_params=None, n_jobs=None, n_neighbors=8, p=1,\n",
            "                     weights='uniform')\n",
            "Training accuracy:\t 0.8679802955665024\n",
            "Test accuracy:\t\t 0.8857142857142858\n"
          ],
          "name": "stdout"
        }
      ]
    }
  ]
}